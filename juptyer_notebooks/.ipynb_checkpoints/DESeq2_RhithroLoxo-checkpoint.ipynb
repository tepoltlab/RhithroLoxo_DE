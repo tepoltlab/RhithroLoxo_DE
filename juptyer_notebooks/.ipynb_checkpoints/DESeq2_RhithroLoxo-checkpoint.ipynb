{
 "cells": [
  {
   "cell_type": "markdown",
   "metadata": {},
   "source": [
    "## Differential Expression Analysis - RhithroLoxo"
   ]
  },
  {
   "cell_type": "markdown",
   "metadata": {},
   "source": [
    "If you've already saved the workspace image from a previous session, jupyter should automatically reload it. You may need to reload the packages though. The .RData file is not on GitHub, so you will have to actually run it the first time through. "
   ]
  },
  {
   "cell_type": "markdown",
   "metadata": {},
   "source": [
    "First, make sure you're actually running this from a compute node, not the login. On Poseidon, logins are 'l1' and 'l2', whereas all other nodes start with 'pn'."
   ]
  },
  {
   "cell_type": "code",
   "execution_count": 1,
   "metadata": {},
   "outputs": [
    {
     "data": {
      "text/html": [
       "<dl class=dl-horizontal>\n",
       "\t<dt>sysname</dt>\n",
       "\t\t<dd>'Linux'</dd>\n",
       "\t<dt>release</dt>\n",
       "\t\t<dd>'3.10.0-693.2.2.el7.x86_64'</dd>\n",
       "\t<dt>version</dt>\n",
       "\t\t<dd>'#1 SMP Tue Sep 12 22:26:13 UTC 2017'</dd>\n",
       "\t<dt>nodename</dt>\n",
       "\t\t<dd>'pn056'</dd>\n",
       "\t<dt>machine</dt>\n",
       "\t\t<dd>'x86_64'</dd>\n",
       "\t<dt>login</dt>\n",
       "\t\t<dd>'unknown'</dd>\n",
       "\t<dt>user</dt>\n",
       "\t\t<dd>'ztobias'</dd>\n",
       "\t<dt>effective_user</dt>\n",
       "\t\t<dd>'ztobias'</dd>\n",
       "</dl>\n"
      ],
      "text/latex": [
       "\\begin{description*}\n",
       "\\item[sysname] 'Linux'\n",
       "\\item[release] '3.10.0-693.2.2.el7.x86\\_64'\n",
       "\\item[version] '\\#1 SMP Tue Sep 12 22:26:13 UTC 2017'\n",
       "\\item[nodename] 'pn056'\n",
       "\\item[machine] 'x86\\_64'\n",
       "\\item[login] 'unknown'\n",
       "\\item[user] 'ztobias'\n",
       "\\item[effective\\textbackslash{}\\_user] 'ztobias'\n",
       "\\end{description*}\n"
      ],
      "text/markdown": [
       "sysname\n",
       ":   'Linux'release\n",
       ":   '3.10.0-693.2.2.el7.x86_64'version\n",
       ":   '#1 SMP Tue Sep 12 22:26:13 UTC 2017'nodename\n",
       ":   'pn056'machine\n",
       ":   'x86_64'login\n",
       ":   'unknown'user\n",
       ":   'ztobias'effective_user\n",
       ":   'ztobias'\n",
       "\n"
      ],
      "text/plain": [
       "                              sysname                               release \n",
       "                              \"Linux\"           \"3.10.0-693.2.2.el7.x86_64\" \n",
       "                              version                              nodename \n",
       "\"#1 SMP Tue Sep 12 22:26:13 UTC 2017\"                               \"pn056\" \n",
       "                              machine                                 login \n",
       "                             \"x86_64\"                             \"unknown\" \n",
       "                                 user                        effective_user \n",
       "                            \"ztobias\"                             \"ztobias\" "
      ]
     },
     "metadata": {},
     "output_type": "display_data"
    }
   ],
   "source": [
    "Sys.info()"
   ]
  },
  {
   "cell_type": "markdown",
   "metadata": {},
   "source": [
    "Now load in the packages."
   ]
  },
  {
   "cell_type": "code",
   "execution_count": 2,
   "metadata": {},
   "outputs": [
    {
     "name": "stderr",
     "output_type": "stream",
     "text": [
      "Loading required package: DESeq2\n",
      "Loading required package: S4Vectors\n",
      "Loading required package: stats4\n",
      "Loading required package: BiocGenerics\n",
      "Loading required package: parallel\n",
      "\n",
      "Attaching package: ‘BiocGenerics’\n",
      "\n",
      "The following objects are masked from ‘package:parallel’:\n",
      "\n",
      "    clusterApply, clusterApplyLB, clusterCall, clusterEvalQ,\n",
      "    clusterExport, clusterMap, parApply, parCapply, parLapply,\n",
      "    parLapplyLB, parRapply, parSapply, parSapplyLB\n",
      "\n",
      "The following objects are masked from ‘package:stats’:\n",
      "\n",
      "    IQR, mad, sd, var, xtabs\n",
      "\n",
      "The following objects are masked from ‘package:base’:\n",
      "\n",
      "    anyDuplicated, append, as.data.frame, basename, cbind, colnames,\n",
      "    dirname, do.call, duplicated, eval, evalq, Filter, Find, get, grep,\n",
      "    grepl, intersect, is.unsorted, lapply, Map, mapply, match, mget,\n",
      "    order, paste, pmax, pmax.int, pmin, pmin.int, Position, rank,\n",
      "    rbind, Reduce, rownames, sapply, setdiff, sort, table, tapply,\n",
      "    union, unique, unsplit, which, which.max, which.min\n",
      "\n",
      "\n",
      "Attaching package: ‘S4Vectors’\n",
      "\n",
      "The following object is masked from ‘package:base’:\n",
      "\n",
      "    expand.grid\n",
      "\n",
      "Loading required package: IRanges\n",
      "Loading required package: GenomicRanges\n",
      "Loading required package: GenomeInfoDb\n",
      "Loading required package: SummarizedExperiment\n",
      "Loading required package: Biobase\n",
      "Welcome to Bioconductor\n",
      "\n",
      "    Vignettes contain introductory material; view with\n",
      "    'browseVignettes()'. To cite Bioconductor, see\n",
      "    'citation(\"Biobase\")', and for packages 'citation(\"pkgname\")'.\n",
      "\n",
      "Loading required package: DelayedArray\n",
      "Loading required package: matrixStats\n",
      "\n",
      "Attaching package: ‘matrixStats’\n",
      "\n",
      "The following objects are masked from ‘package:Biobase’:\n",
      "\n",
      "    anyMissing, rowMedians\n",
      "\n",
      "Loading required package: BiocParallel\n",
      "\n",
      "Attaching package: ‘DelayedArray’\n",
      "\n",
      "The following objects are masked from ‘package:matrixStats’:\n",
      "\n",
      "    colMaxs, colMins, colRanges, rowMaxs, rowMins, rowRanges\n",
      "\n",
      "The following objects are masked from ‘package:base’:\n",
      "\n",
      "    aperm, apply, rowsum\n",
      "\n",
      "Loading required package: ggplot2\n",
      "Loading required package: apeglm\n",
      "Loading required package: ashr\n",
      "Loading required package: VennDiagram\n",
      "Loading required package: grid\n",
      "Loading required package: futile.logger\n",
      "Loading required package: RColorBrewer\n",
      "Loading required package: pheatmap\n"
     ]
    }
   ],
   "source": [
    "require(DESeq2)\n",
    "require(ggplot2)\n",
    "require(apeglm)\n",
    "require(ashr)\n",
    "library(\"BiocParallel\")\n",
    "register(MulticoreParam(36))\n",
    "require(VennDiagram)\n",
    "require(RColorBrewer)\n",
    "require(pheatmap)"
   ]
  },
  {
   "cell_type": "markdown",
   "metadata": {},
   "source": [
    "Now import the count data, rounding decimals to integers."
   ]
  },
  {
   "cell_type": "code",
   "execution_count": 3,
   "metadata": {},
   "outputs": [],
   "source": [
    "path_to_main <- \"/vortexfs1/scratch/ztobias/RhithroLoxo_DE/\" #change accordingly based on parent file structure\n",
    "path_to_counts <- \"outputs/quant/salmon.isoform.counts.matrix\"\n",
    "path <- paste(path_to_main,path_to_counts,sep=\"\")\n",
    "all_counts <- read.table(path,header=TRUE)\n",
    "all_counts <- round(all_counts)"
   ]
  },
  {
   "cell_type": "markdown",
   "metadata": {},
   "source": [
    "Take a look."
   ]
  },
  {
   "cell_type": "code",
   "execution_count": 4,
   "metadata": {},
   "outputs": [
    {
     "data": {
      "text/html": [
       "<table>\n",
       "<thead><tr><th></th><th scope=col>AP_C_1</th><th scope=col>AP_C_2</th><th scope=col>AP_C_3</th><th scope=col>AP_C_4</th><th scope=col>AP_C_5</th><th scope=col>AP_C_6</th><th scope=col>AP_P_1</th><th scope=col>AP_P_2</th><th scope=col>AP_P_3</th><th scope=col>AP_P_6</th><th scope=col>...</th><th scope=col>NJ_P_7</th><th scope=col>SC_C_12</th><th scope=col>SC_C_14</th><th scope=col>SC_C_2</th><th scope=col>SC_C_6</th><th scope=col>SC_C_7</th><th scope=col>SC_C_9</th><th scope=col>SC_P_1</th><th scope=col>SC_P_2</th><th scope=col>SC_P_3</th></tr></thead>\n",
       "<tbody>\n",
       "\t<tr><th scope=row>TRINITY_DN38930_c0_g1_i1</th><td>71 </td><td>201</td><td>88 </td><td>108</td><td>84 </td><td>156</td><td>46 </td><td>69 </td><td>43 </td><td>68 </td><td>...</td><td>80 </td><td>51 </td><td>80 </td><td>84 </td><td>55 </td><td>56 </td><td>63 </td><td>66 </td><td>69 </td><td>39 </td></tr>\n",
       "\t<tr><th scope=row>TRINITY_DN61353_c1_g1_i1</th><td> 0 </td><td>  5</td><td> 0 </td><td>  1</td><td> 1 </td><td>  0</td><td> 0 </td><td> 2 </td><td> 0 </td><td> 2 </td><td>...</td><td> 0 </td><td> 0 </td><td> 1 </td><td> 0 </td><td> 0 </td><td> 2 </td><td> 1 </td><td> 5 </td><td> 2 </td><td> 0 </td></tr>\n",
       "\t<tr><th scope=row>TRINITY_DN130836_c0_g1_i1</th><td> 2 </td><td>  7</td><td> 0 </td><td> 14</td><td> 6 </td><td>  0</td><td> 1 </td><td> 9 </td><td> 5 </td><td> 7 </td><td>...</td><td>18 </td><td> 7 </td><td>10 </td><td> 2 </td><td> 2 </td><td> 3 </td><td> 7 </td><td>10 </td><td> 7 </td><td> 6 </td></tr>\n",
       "\t<tr><th scope=row>TRINITY_DN135735_c0_g1_i1</th><td> 1 </td><td>  3</td><td> 1 </td><td>  4</td><td> 3 </td><td>  0</td><td> 0 </td><td> 1 </td><td> 0 </td><td> 2 </td><td>...</td><td> 2 </td><td> 1 </td><td> 2 </td><td> 0 </td><td> 0 </td><td> 0 </td><td> 2 </td><td> 3 </td><td> 1 </td><td> 2 </td></tr>\n",
       "\t<tr><th scope=row>TRINITY_DN142305_c0_g1_i1</th><td> 0 </td><td>  0</td><td> 2 </td><td>  0</td><td> 2 </td><td>  3</td><td> 0 </td><td> 1 </td><td> 1 </td><td> 0 </td><td>...</td><td> 3 </td><td> 3 </td><td> 0 </td><td> 1 </td><td> 1 </td><td> 0 </td><td> 3 </td><td> 0 </td><td> 4 </td><td> 0 </td></tr>\n",
       "\t<tr><th scope=row>TRINITY_DN107975_c0_g1_i1</th><td> 0 </td><td>  0</td><td> 0 </td><td>  0</td><td> 0 </td><td>  7</td><td> 0 </td><td> 0 </td><td> 0 </td><td> 0 </td><td>...</td><td> 0 </td><td> 0 </td><td> 0 </td><td> 0 </td><td> 0 </td><td> 0 </td><td> 0 </td><td> 0 </td><td> 0 </td><td> 0 </td></tr>\n",
       "</tbody>\n",
       "</table>\n"
      ],
      "text/latex": [
       "\\begin{tabular}{r|lllllllllllllllllllllllllllllllllllllllllllllllllllllllllllllllllllllllllllllllllll}\n",
       "  & AP\\_C\\_1 & AP\\_C\\_2 & AP\\_C\\_3 & AP\\_C\\_4 & AP\\_C\\_5 & AP\\_C\\_6 & AP\\_P\\_1 & AP\\_P\\_2 & AP\\_P\\_3 & AP\\_P\\_6 & ... & NJ\\_P\\_7 & SC\\_C\\_12 & SC\\_C\\_14 & SC\\_C\\_2 & SC\\_C\\_6 & SC\\_C\\_7 & SC\\_C\\_9 & SC\\_P\\_1 & SC\\_P\\_2 & SC\\_P\\_3\\\\\n",
       "\\hline\n",
       "\tTRINITY\\_DN38930\\_c0\\_g1\\_i1 & 71  & 201 & 88  & 108 & 84  & 156 & 46  & 69  & 43  & 68  & ... & 80  & 51  & 80  & 84  & 55  & 56  & 63  & 66  & 69  & 39 \\\\\n",
       "\tTRINITY\\_DN61353\\_c1\\_g1\\_i1 &  0  &   5 &  0  &   1 &  1  &   0 &  0  &  2  &  0  &  2  & ... &  0  &  0  &  1  &  0  &  0  &  2  &  1  &  5  &  2  &  0 \\\\\n",
       "\tTRINITY\\_DN130836\\_c0\\_g1\\_i1 &  2  &   7 &  0  &  14 &  6  &   0 &  1  &  9  &  5  &  7  & ... & 18  &  7  & 10  &  2  &  2  &  3  &  7  & 10  &  7  &  6 \\\\\n",
       "\tTRINITY\\_DN135735\\_c0\\_g1\\_i1 &  1  &   3 &  1  &   4 &  3  &   0 &  0  &  1  &  0  &  2  & ... &  2  &  1  &  2  &  0  &  0  &  0  &  2  &  3  &  1  &  2 \\\\\n",
       "\tTRINITY\\_DN142305\\_c0\\_g1\\_i1 &  0  &   0 &  2  &   0 &  2  &   3 &  0  &  1  &  1  &  0  & ... &  3  &  3  &  0  &  1  &  1  &  0  &  3  &  0  &  4  &  0 \\\\\n",
       "\tTRINITY\\_DN107975\\_c0\\_g1\\_i1 &  0  &   0 &  0  &   0 &  0  &   7 &  0  &  0  &  0  &  0  & ... &  0  &  0  &  0  &  0  &  0  &  0  &  0  &  0  &  0  &  0 \\\\\n",
       "\\end{tabular}\n"
      ],
      "text/markdown": [
       "\n",
       "| <!--/--> | AP_C_1 | AP_C_2 | AP_C_3 | AP_C_4 | AP_C_5 | AP_C_6 | AP_P_1 | AP_P_2 | AP_P_3 | AP_P_6 | ... | NJ_P_7 | SC_C_12 | SC_C_14 | SC_C_2 | SC_C_6 | SC_C_7 | SC_C_9 | SC_P_1 | SC_P_2 | SC_P_3 |\n",
       "|---|---|---|---|---|---|---|---|---|---|---|---|---|---|---|---|---|---|---|---|---|---|\n",
       "| TRINITY_DN38930_c0_g1_i1 | 71  | 201 | 88  | 108 | 84  | 156 | 46  | 69  | 43  | 68  | ... | 80  | 51  | 80  | 84  | 55  | 56  | 63  | 66  | 69  | 39  |\n",
       "| TRINITY_DN61353_c1_g1_i1 |  0  |   5 |  0  |   1 |  1  |   0 |  0  |  2  |  0  |  2  | ... |  0  |  0  |  1  |  0  |  0  |  2  |  1  |  5  |  2  |  0  |\n",
       "| TRINITY_DN130836_c0_g1_i1 |  2  |   7 |  0  |  14 |  6  |   0 |  1  |  9  |  5  |  7  | ... | 18  |  7  | 10  |  2  |  2  |  3  |  7  | 10  |  7  |  6  |\n",
       "| TRINITY_DN135735_c0_g1_i1 |  1  |   3 |  1  |   4 |  3  |   0 |  0  |  1  |  0  |  2  | ... |  2  |  1  |  2  |  0  |  0  |  0  |  2  |  3  |  1  |  2  |\n",
       "| TRINITY_DN142305_c0_g1_i1 |  0  |   0 |  2  |   0 |  2  |   3 |  0  |  1  |  1  |  0  | ... |  3  |  3  |  0  |  1  |  1  |  0  |  3  |  0  |  4  |  0  |\n",
       "| TRINITY_DN107975_c0_g1_i1 |  0  |   0 |  0  |   0 |  0  |   7 |  0  |  0  |  0  |  0  | ... |  0  |  0  |  0  |  0  |  0  |  0  |  0  |  0  |  0  |  0  |\n",
       "\n"
      ],
      "text/plain": [
       "                          AP_C_1 AP_C_2 AP_C_3 AP_C_4 AP_C_5 AP_C_6 AP_P_1\n",
       "TRINITY_DN38930_c0_g1_i1  71     201    88     108    84     156    46    \n",
       "TRINITY_DN61353_c1_g1_i1   0       5     0       1     1       0     0    \n",
       "TRINITY_DN130836_c0_g1_i1  2       7     0      14     6       0     1    \n",
       "TRINITY_DN135735_c0_g1_i1  1       3     1       4     3       0     0    \n",
       "TRINITY_DN142305_c0_g1_i1  0       0     2       0     2       3     0    \n",
       "TRINITY_DN107975_c0_g1_i1  0       0     0       0     0       7     0    \n",
       "                          AP_P_2 AP_P_3 AP_P_6 ... NJ_P_7 SC_C_12 SC_C_14\n",
       "TRINITY_DN38930_c0_g1_i1  69     43     68     ... 80     51      80     \n",
       "TRINITY_DN61353_c1_g1_i1   2      0      2     ...  0      0       1     \n",
       "TRINITY_DN130836_c0_g1_i1  9      5      7     ... 18      7      10     \n",
       "TRINITY_DN135735_c0_g1_i1  1      0      2     ...  2      1       2     \n",
       "TRINITY_DN142305_c0_g1_i1  1      1      0     ...  3      3       0     \n",
       "TRINITY_DN107975_c0_g1_i1  0      0      0     ...  0      0       0     \n",
       "                          SC_C_2 SC_C_6 SC_C_7 SC_C_9 SC_P_1 SC_P_2 SC_P_3\n",
       "TRINITY_DN38930_c0_g1_i1  84     55     56     63     66     69     39    \n",
       "TRINITY_DN61353_c1_g1_i1   0      0      2      1      5      2      0    \n",
       "TRINITY_DN130836_c0_g1_i1  2      2      3      7     10      7      6    \n",
       "TRINITY_DN135735_c0_g1_i1  0      0      0      2      3      1      2    \n",
       "TRINITY_DN142305_c0_g1_i1  1      1      0      3      0      4      0    \n",
       "TRINITY_DN107975_c0_g1_i1  0      0      0      0      0      0      0    "
      ]
     },
     "metadata": {},
     "output_type": "display_data"
    },
    {
     "data": {
      "text/html": [
       "<ol class=list-inline>\n",
       "\t<li>149511</li>\n",
       "\t<li>83</li>\n",
       "</ol>\n"
      ],
      "text/latex": [
       "\\begin{enumerate*}\n",
       "\\item 149511\n",
       "\\item 83\n",
       "\\end{enumerate*}\n"
      ],
      "text/markdown": [
       "1. 149511\n",
       "2. 83\n",
       "\n",
       "\n"
      ],
      "text/plain": [
       "[1] 149511     83"
      ]
     },
     "metadata": {},
     "output_type": "display_data"
    }
   ],
   "source": [
    "head(all_counts)\n",
    "dim(all_counts)"
   ]
  },
  {
   "cell_type": "markdown",
   "metadata": {},
   "source": [
    "Read in the sample metadata and have a look."
   ]
  },
  {
   "cell_type": "code",
   "execution_count": 5,
   "metadata": {},
   "outputs": [
    {
     "data": {
      "text/html": [
       "<table>\n",
       "<thead><tr><th></th><th scope=col>site</th><th scope=col>condition</th><th scope=col>range</th><th scope=col>sex</th></tr></thead>\n",
       "<tbody>\n",
       "\t<tr><th scope=row>AP_C_1</th><td>AP    </td><td>C     </td><td>Native</td><td>F     </td></tr>\n",
       "\t<tr><th scope=row>AP_C_2</th><td>AP    </td><td>C     </td><td>Native</td><td>F     </td></tr>\n",
       "\t<tr><th scope=row>AP_C_3</th><td>AP    </td><td>C     </td><td>Native</td><td>M     </td></tr>\n",
       "\t<tr><th scope=row>AP_C_4</th><td>AP    </td><td>C     </td><td>Native</td><td>M     </td></tr>\n",
       "\t<tr><th scope=row>AP_C_5</th><td>AP    </td><td>C     </td><td>Native</td><td>M     </td></tr>\n",
       "\t<tr><th scope=row>AP_C_6</th><td>AP    </td><td>C     </td><td>Native</td><td>M     </td></tr>\n",
       "</tbody>\n",
       "</table>\n"
      ],
      "text/latex": [
       "\\begin{tabular}{r|llll}\n",
       "  & site & condition & range & sex\\\\\n",
       "\\hline\n",
       "\tAP\\_C\\_1 & AP     & C      & Native & F     \\\\\n",
       "\tAP\\_C\\_2 & AP     & C      & Native & F     \\\\\n",
       "\tAP\\_C\\_3 & AP     & C      & Native & M     \\\\\n",
       "\tAP\\_C\\_4 & AP     & C      & Native & M     \\\\\n",
       "\tAP\\_C\\_5 & AP     & C      & Native & M     \\\\\n",
       "\tAP\\_C\\_6 & AP     & C      & Native & M     \\\\\n",
       "\\end{tabular}\n"
      ],
      "text/markdown": [
       "\n",
       "| <!--/--> | site | condition | range | sex |\n",
       "|---|---|---|---|---|\n",
       "| AP_C_1 | AP     | C      | Native | F      |\n",
       "| AP_C_2 | AP     | C      | Native | F      |\n",
       "| AP_C_3 | AP     | C      | Native | M      |\n",
       "| AP_C_4 | AP     | C      | Native | M      |\n",
       "| AP_C_5 | AP     | C      | Native | M      |\n",
       "| AP_C_6 | AP     | C      | Native | M      |\n",
       "\n"
      ],
      "text/plain": [
       "       site condition range  sex\n",
       "AP_C_1 AP   C         Native F  \n",
       "AP_C_2 AP   C         Native F  \n",
       "AP_C_3 AP   C         Native M  \n",
       "AP_C_4 AP   C         Native M  \n",
       "AP_C_5 AP   C         Native M  \n",
       "AP_C_6 AP   C         Native M  "
      ]
     },
     "metadata": {},
     "output_type": "display_data"
    },
    {
     "data": {
      "text/html": [
       "<ol class=list-inline>\n",
       "\t<li>83</li>\n",
       "\t<li>4</li>\n",
       "</ol>\n"
      ],
      "text/latex": [
       "\\begin{enumerate*}\n",
       "\\item 83\n",
       "\\item 4\n",
       "\\end{enumerate*}\n"
      ],
      "text/markdown": [
       "1. 83\n",
       "2. 4\n",
       "\n",
       "\n"
      ],
      "text/plain": [
       "[1] 83  4"
      ]
     },
     "metadata": {},
     "output_type": "display_data"
    }
   ],
   "source": [
    "path_to_meta <- paste(path_to_main,\"metadata/DESeq2_coldata.txt\",sep=\"\")\n",
    "coldata <- read.table(path_to_meta,header=FALSE,row.names=1)\n",
    "colnames(coldata) <- c(\"site\",\"condition\",\"range\",\"sex\")\n",
    "head(coldata)\n",
    "dim(coldata)"
   ]
  },
  {
   "cell_type": "markdown",
   "metadata": {},
   "source": [
    "Make sure the two matrices contain all of the same samples and are in order."
   ]
  },
  {
   "cell_type": "code",
   "execution_count": 6,
   "metadata": {},
   "outputs": [
    {
     "data": {
      "text/html": [
       "TRUE"
      ],
      "text/latex": [
       "TRUE"
      ],
      "text/markdown": [
       "TRUE"
      ],
      "text/plain": [
       "[1] TRUE"
      ]
     },
     "metadata": {},
     "output_type": "display_data"
    }
   ],
   "source": [
    "all(rownames(coldata) == colnames(all_counts))"
   ]
  },
  {
   "cell_type": "markdown",
   "metadata": {},
   "source": [
    "Okay here I am just going to calculate the normalized counts so I can try to identify transcripts whose highest representation occurs in the Loxo libraries. This is because there appears to be some latent contamination, either from index hopping or basal levels infection in otherwise \"uninfected\" crabs. This shows up downstream in some crazily overexpressed transcripts in the parasitized individuals, which appear not to be an actual response, but rather just contamination with parasite mRNA. This might not help completely because of tissue specific expression in the parasite (libraries made from externae, while contamination from internal, root-system tissues), but worth a shot. At least to strengthen the case for removal by thresholding later. \n",
    "\n",
    "The infected crabs will be excluded from this comparison. Because of tissue specific expression in the parasite, the highest expression of some contaminant transcripts may be expected in the infected crab libraries rather than those of the parasite itself. Thus, we are just looking for transcripts that are more highly represented in the parasite libraries than the control crab libraries."
   ]
  },
  {
   "cell_type": "markdown",
   "metadata": {},
   "source": [
    "Create a DESeq dataset for calculating normalized counts"
   ]
  },
  {
   "cell_type": "code",
   "execution_count": 7,
   "metadata": {},
   "outputs": [
    {
     "name": "stderr",
     "output_type": "stream",
     "text": [
      "converting counts to integer mode\n"
     ]
    }
   ],
   "source": [
    "contam <- DESeqDataSetFromMatrix(countData = all_counts, colData = coldata, design = ~ condition )"
   ]
  },
  {
   "cell_type": "markdown",
   "metadata": {},
   "source": [
    "Estimate size factors and save normalized counts to object 'norm_mat'"
   ]
  },
  {
   "cell_type": "code",
   "execution_count": 8,
   "metadata": {},
   "outputs": [],
   "source": [
    "contam <- estimateSizeFactors(contam)\n",
    "norm_mat <- counts(contam, normalized=TRUE)"
   ]
  },
  {
   "cell_type": "markdown",
   "metadata": {},
   "source": [
    "First let's remove the parasitized crabs. This includes all samples with the naming pattern `*_P_*`. The function `grepl()` returns a boolean vector that can be used to index. I will also remove sample MD_C_12, as this was identified to have a latent infection (unidentified infection detected in previous runs of this analysis)."
   ]
  },
  {
   "cell_type": "code",
   "execution_count": 9,
   "metadata": {},
   "outputs": [],
   "source": [
    "norm_mat_sub <- norm_mat[,!grepl(\"*_P_*\", colnames(norm_mat))]\n",
    "norm_mat_sub <- subset(norm_mat_sub, select=-c(MD_C_12))"
   ]
  },
  {
   "cell_type": "code",
   "execution_count": 10,
   "metadata": {},
   "outputs": [
    {
     "data": {
      "text/html": [
       "<ol class=list-inline>\n",
       "\t<li>'AP_C_1'</li>\n",
       "\t<li>'AP_C_2'</li>\n",
       "\t<li>'AP_C_3'</li>\n",
       "\t<li>'AP_C_4'</li>\n",
       "\t<li>'AP_C_5'</li>\n",
       "\t<li>'AP_C_6'</li>\n",
       "\t<li>'FP_C_10'</li>\n",
       "\t<li>'FP_C_11'</li>\n",
       "\t<li>'FP_C_12'</li>\n",
       "\t<li>'FP_C_13'</li>\n",
       "\t<li>'FP_C_5'</li>\n",
       "\t<li>'FP_C_9'</li>\n",
       "\t<li>'LA_C_1'</li>\n",
       "\t<li>'LA_C_2'</li>\n",
       "\t<li>'LA_C_3'</li>\n",
       "\t<li>'LA_C_4'</li>\n",
       "\t<li>'LA_C_6'</li>\n",
       "\t<li>'LA_C_8'</li>\n",
       "\t<li>'LA_F_1'</li>\n",
       "\t<li>'MA_C_1'</li>\n",
       "\t<li>'MA_C_2'</li>\n",
       "\t<li>'MA_C_4'</li>\n",
       "\t<li>'MD_C_10'</li>\n",
       "\t<li>'MD_C_11'</li>\n",
       "\t<li>'MD_C_1'</li>\n",
       "\t<li>'MD_C_4'</li>\n",
       "\t<li>'MD_C_7'</li>\n",
       "\t<li>'MD_F_4'</li>\n",
       "\t<li>'ML_C_10'</li>\n",
       "\t<li>'ML_C_2'</li>\n",
       "\t<li>'ML_C_3'</li>\n",
       "\t<li>'ML_C_5'</li>\n",
       "\t<li>'ML_C_7'</li>\n",
       "\t<li>'ML_C_9'</li>\n",
       "\t<li>'NH_C_11'</li>\n",
       "\t<li>'NH_C_12'</li>\n",
       "\t<li>'NH_C_13'</li>\n",
       "\t<li>'NH_C_5'</li>\n",
       "\t<li>'NH_C_8'</li>\n",
       "\t<li>'NH_C_9'</li>\n",
       "\t<li>'NJ_C_10'</li>\n",
       "\t<li>'NJ_C_11'</li>\n",
       "\t<li>'NJ_C_12'</li>\n",
       "\t<li>'NJ_C_13'</li>\n",
       "\t<li>'NJ_C_14'</li>\n",
       "\t<li>'NJ_C_6'</li>\n",
       "\t<li>'SC_C_12'</li>\n",
       "\t<li>'SC_C_14'</li>\n",
       "\t<li>'SC_C_2'</li>\n",
       "\t<li>'SC_C_6'</li>\n",
       "\t<li>'SC_C_7'</li>\n",
       "\t<li>'SC_C_9'</li>\n",
       "</ol>\n"
      ],
      "text/latex": [
       "\\begin{enumerate*}\n",
       "\\item 'AP\\_C\\_1'\n",
       "\\item 'AP\\_C\\_2'\n",
       "\\item 'AP\\_C\\_3'\n",
       "\\item 'AP\\_C\\_4'\n",
       "\\item 'AP\\_C\\_5'\n",
       "\\item 'AP\\_C\\_6'\n",
       "\\item 'FP\\_C\\_10'\n",
       "\\item 'FP\\_C\\_11'\n",
       "\\item 'FP\\_C\\_12'\n",
       "\\item 'FP\\_C\\_13'\n",
       "\\item 'FP\\_C\\_5'\n",
       "\\item 'FP\\_C\\_9'\n",
       "\\item 'LA\\_C\\_1'\n",
       "\\item 'LA\\_C\\_2'\n",
       "\\item 'LA\\_C\\_3'\n",
       "\\item 'LA\\_C\\_4'\n",
       "\\item 'LA\\_C\\_6'\n",
       "\\item 'LA\\_C\\_8'\n",
       "\\item 'LA\\_F\\_1'\n",
       "\\item 'MA\\_C\\_1'\n",
       "\\item 'MA\\_C\\_2'\n",
       "\\item 'MA\\_C\\_4'\n",
       "\\item 'MD\\_C\\_10'\n",
       "\\item 'MD\\_C\\_11'\n",
       "\\item 'MD\\_C\\_1'\n",
       "\\item 'MD\\_C\\_4'\n",
       "\\item 'MD\\_C\\_7'\n",
       "\\item 'MD\\_F\\_4'\n",
       "\\item 'ML\\_C\\_10'\n",
       "\\item 'ML\\_C\\_2'\n",
       "\\item 'ML\\_C\\_3'\n",
       "\\item 'ML\\_C\\_5'\n",
       "\\item 'ML\\_C\\_7'\n",
       "\\item 'ML\\_C\\_9'\n",
       "\\item 'NH\\_C\\_11'\n",
       "\\item 'NH\\_C\\_12'\n",
       "\\item 'NH\\_C\\_13'\n",
       "\\item 'NH\\_C\\_5'\n",
       "\\item 'NH\\_C\\_8'\n",
       "\\item 'NH\\_C\\_9'\n",
       "\\item 'NJ\\_C\\_10'\n",
       "\\item 'NJ\\_C\\_11'\n",
       "\\item 'NJ\\_C\\_12'\n",
       "\\item 'NJ\\_C\\_13'\n",
       "\\item 'NJ\\_C\\_14'\n",
       "\\item 'NJ\\_C\\_6'\n",
       "\\item 'SC\\_C\\_12'\n",
       "\\item 'SC\\_C\\_14'\n",
       "\\item 'SC\\_C\\_2'\n",
       "\\item 'SC\\_C\\_6'\n",
       "\\item 'SC\\_C\\_7'\n",
       "\\item 'SC\\_C\\_9'\n",
       "\\end{enumerate*}\n"
      ],
      "text/markdown": [
       "1. 'AP_C_1'\n",
       "2. 'AP_C_2'\n",
       "3. 'AP_C_3'\n",
       "4. 'AP_C_4'\n",
       "5. 'AP_C_5'\n",
       "6. 'AP_C_6'\n",
       "7. 'FP_C_10'\n",
       "8. 'FP_C_11'\n",
       "9. 'FP_C_12'\n",
       "10. 'FP_C_13'\n",
       "11. 'FP_C_5'\n",
       "12. 'FP_C_9'\n",
       "13. 'LA_C_1'\n",
       "14. 'LA_C_2'\n",
       "15. 'LA_C_3'\n",
       "16. 'LA_C_4'\n",
       "17. 'LA_C_6'\n",
       "18. 'LA_C_8'\n",
       "19. 'LA_F_1'\n",
       "20. 'MA_C_1'\n",
       "21. 'MA_C_2'\n",
       "22. 'MA_C_4'\n",
       "23. 'MD_C_10'\n",
       "24. 'MD_C_11'\n",
       "25. 'MD_C_1'\n",
       "26. 'MD_C_4'\n",
       "27. 'MD_C_7'\n",
       "28. 'MD_F_4'\n",
       "29. 'ML_C_10'\n",
       "30. 'ML_C_2'\n",
       "31. 'ML_C_3'\n",
       "32. 'ML_C_5'\n",
       "33. 'ML_C_7'\n",
       "34. 'ML_C_9'\n",
       "35. 'NH_C_11'\n",
       "36. 'NH_C_12'\n",
       "37. 'NH_C_13'\n",
       "38. 'NH_C_5'\n",
       "39. 'NH_C_8'\n",
       "40. 'NH_C_9'\n",
       "41. 'NJ_C_10'\n",
       "42. 'NJ_C_11'\n",
       "43. 'NJ_C_12'\n",
       "44. 'NJ_C_13'\n",
       "45. 'NJ_C_14'\n",
       "46. 'NJ_C_6'\n",
       "47. 'SC_C_12'\n",
       "48. 'SC_C_14'\n",
       "49. 'SC_C_2'\n",
       "50. 'SC_C_6'\n",
       "51. 'SC_C_7'\n",
       "52. 'SC_C_9'\n",
       "\n",
       "\n"
      ],
      "text/plain": [
       " [1] \"AP_C_1\"  \"AP_C_2\"  \"AP_C_3\"  \"AP_C_4\"  \"AP_C_5\"  \"AP_C_6\"  \"FP_C_10\"\n",
       " [8] \"FP_C_11\" \"FP_C_12\" \"FP_C_13\" \"FP_C_5\"  \"FP_C_9\"  \"LA_C_1\"  \"LA_C_2\" \n",
       "[15] \"LA_C_3\"  \"LA_C_4\"  \"LA_C_6\"  \"LA_C_8\"  \"LA_F_1\"  \"MA_C_1\"  \"MA_C_2\" \n",
       "[22] \"MA_C_4\"  \"MD_C_10\" \"MD_C_11\" \"MD_C_1\"  \"MD_C_4\"  \"MD_C_7\"  \"MD_F_4\" \n",
       "[29] \"ML_C_10\" \"ML_C_2\"  \"ML_C_3\"  \"ML_C_5\"  \"ML_C_7\"  \"ML_C_9\"  \"NH_C_11\"\n",
       "[36] \"NH_C_12\" \"NH_C_13\" \"NH_C_5\"  \"NH_C_8\"  \"NH_C_9\"  \"NJ_C_10\" \"NJ_C_11\"\n",
       "[43] \"NJ_C_12\" \"NJ_C_13\" \"NJ_C_14\" \"NJ_C_6\"  \"SC_C_12\" \"SC_C_14\" \"SC_C_2\" \n",
       "[50] \"SC_C_6\"  \"SC_C_7\"  \"SC_C_9\" "
      ]
     },
     "metadata": {},
     "output_type": "display_data"
    }
   ],
   "source": [
    "colnames(norm_mat_sub)"
   ]
  },
  {
   "cell_type": "markdown",
   "metadata": {},
   "source": [
    "Column numbers of the parasite samples in norm_mat_sub are 19 and 28. Command below finds the index of the maximum column for each row, checks if it matches 19 or 28 (the parasite samples), returns boolean which is used to subset the dataframe.  Let's take a look at a slice of the output to verify it's behavior. Parasite samples follow the naming pattern `*_F_*`."
   ]
  },
  {
   "cell_type": "code",
   "execution_count": 11,
   "metadata": {},
   "outputs": [
    {
     "data": {
      "text/html": [
       "<table>\n",
       "<thead><tr><th></th><th scope=col>LA_C_8</th><th scope=col>LA_F_1</th><th scope=col>MA_C_1</th><th scope=col>MA_C_2</th><th scope=col>MA_C_4</th><th scope=col>MD_C_10</th><th scope=col>MD_C_11</th><th scope=col>MD_C_1</th><th scope=col>MD_C_4</th><th scope=col>MD_C_7</th><th scope=col>MD_F_4</th><th scope=col>ML_C_10</th></tr></thead>\n",
       "<tbody>\n",
       "\t<tr><th scope=row>TRINITY_DN130836_c0_g1_i1</th><td>  8.342821 </td><td> 4515.9519 </td><td>  5.394225 </td><td>  1.521581 </td><td>  5.038778 </td><td>  5.136595 </td><td>  4.485368 </td><td>  4.048551 </td><td>  5.319531 </td><td>  4.6419802</td><td>  729.6896 </td><td>  2.551833 </td></tr>\n",
       "\t<tr><th scope=row>TRINITY_DN6090_c0_g1_i1</th><td>114.018547 </td><td>    0.0000 </td><td>149.959461 </td><td>164.330783 </td><td>157.461801 </td><td>181.493023 </td><td>146.522028 </td><td>222.670320 </td><td>189.729921 </td><td>180.6152294</td><td>  364.8448 </td><td>146.305106 </td></tr>\n",
       "\t<tr><th scope=row>TRINITY_DN27882_c0_g1_i1</th><td>  9.733291 </td><td>  694.7618 </td><td> 15.103831 </td><td> 10.651069 </td><td>  5.038778 </td><td> 14.553686 </td><td>  7.475614 </td><td> 14.169929 </td><td> 11.525649 </td><td>  9.2839604</td><td>    0.0000 </td><td> 10.207333 </td></tr>\n",
       "\t<tr><th scope=row>TRINITY_DN33032_c0_g1_i1</th><td>  8.342821 </td><td>  694.7618 </td><td>  6.473070 </td><td>  9.129488 </td><td> 10.077555 </td><td>  9.417091 </td><td>  5.232930 </td><td>  6.072827 </td><td>  5.319531 </td><td>  5.9079748</td><td>  729.6896 </td><td> 18.713444 </td></tr>\n",
       "\t<tr><th scope=row>TRINITY_DN815_c0_g2_i2</th><td>241.246561 </td><td>    0.0000 </td><td>189.876728 </td><td>313.445753 </td><td>311.144519 </td><td>116.429487 </td><td>217.540358 </td><td>204.451839 </td><td>134.761439 </td><td>316.9206478</td><td>  364.8448 </td><td>281.552268 </td></tr>\n",
       "\t<tr><th scope=row>TRINITY_DN12072_c0_g1_i2</th><td>261.408377 </td><td>  694.7618 </td><td>126.224870 </td><td>176.503434 </td><td>238.082243 </td><td>173.788131 </td><td>299.024547 </td><td>118.757504 </td><td>238.492284 </td><td>166.2672906</td><td> 1094.5344 </td><td>249.229046 </td></tr>\n",
       "\t<tr><th scope=row>TRINITY_DN131921_c0_g1_i1</th><td> 56.314039 </td><td>  347.3809 </td><td> 53.942252 </td><td> 53.255346 </td><td> 23.934194 </td><td> 84.753817 </td><td> 79.989066 </td><td>103.238057 </td><td> 57.628247 </td><td> 80.1796579</td><td>    0.0000 </td><td> 83.359886 </td></tr>\n",
       "\t<tr><th scope=row>TRINITY_DN29174_c0_g1_i1</th><td> 72.999680 </td><td>  347.3809 </td><td> 93.859519 </td><td> 80.643810 </td><td>119.670969 </td><td> 63.351338 </td><td> 78.493944 </td><td> 95.140955 </td><td> 58.514836 </td><td>142.2133932</td><td>    0.0000 </td><td> 85.061108 </td></tr>\n",
       "\t<tr><th scope=row>TRINITY_DN39441_c0_g1_i1</th><td> 25.723697 </td><td>    0.0000 </td><td> 43.153802 </td><td> 34.996371 </td><td> 22.674499 </td><td> 35.956165 </td><td> 38.873191 </td><td> 22.267032 </td><td> 32.803771 </td><td> 13.0819442</td><td>  729.6896 </td><td>143.753273 </td></tr>\n",
       "\t<tr><th scope=row>TRINITY_DN26877_c0_g1_i1</th><td> 26.418932 </td><td>  694.7618 </td><td>  7.551915 </td><td>  4.564744 </td><td> 11.337250 </td><td> 24.826876 </td><td> 32.892700 </td><td> 18.218481 </td><td> 25.711064 </td><td> 16.4579298</td><td>    0.0000 </td><td> 15.310999 </td></tr>\n",
       "\t<tr><th scope=row>TRINITY_DN4269_c0_g1_i1</th><td>157.818355 </td><td>  694.7618 </td><td>133.776786 </td><td>130.855994 </td><td>153.682718 </td><td> 45.373256 </td><td> 75.503698 </td><td> 99.864265 </td><td> 54.081893 </td><td> 94.9495949</td><td>    0.0000 </td><td> 85.061108 </td></tr>\n",
       "\t<tr><th scope=row>TRINITY_DN3953_c0_g1_i1</th><td> 34.761752 </td><td>  347.3809 </td><td> 19.419211 </td><td> 27.388464 </td><td> 40.310221 </td><td> 32.531768 </td><td> 35.135384 </td><td> 27.665100 </td><td> 27.484241 </td><td> 24.0538974</td><td>  364.8448 </td><td> 22.115888 </td></tr>\n",
       "\t<tr><th scope=row>TRINITY_DN11521_c0_g1_i2</th><td>289.913014 </td><td>  347.3809 </td><td>167.220982 </td><td>190.197666 </td><td>210.368966 </td><td>265.390741 </td><td>261.646479 </td><td>141.024536 </td><td>265.976525 </td><td>162.0473086</td><td>    0.0000 </td><td>266.241268 </td></tr>\n",
       "\t<tr><th scope=row>TRINITY_DN129682_c0_g1_i1</th><td> 79.256795 </td><td>    0.0000 </td><td>  7.551915 </td><td> 31.953208 </td><td> 32.752055 </td><td> 12.841487 </td><td> 25.417087 </td><td> 14.844688 </td><td> 42.556244 </td><td> 17.7239244</td><td>  364.8448 </td><td> 12.759166 </td></tr>\n",
       "\t<tr><th scope=row>TRINITY_DN47302_c0_g1_i1</th><td>  4.171410 </td><td>  347.3809 </td><td>  3.236535 </td><td>  3.043163 </td><td>  3.779083 </td><td>  2.568297 </td><td>  5.980491 </td><td>  2.699034 </td><td>  2.659765 </td><td>  4.6419802</td><td>    0.0000 </td><td> 11.908555 </td></tr>\n",
       "\t<tr><th scope=row>TRINITY_DN29508_c0_g1_i1</th><td>266.275022 </td><td>    0.0000 </td><td>220.084389 </td><td>255.625663 </td><td>289.729714 </td><td>287.649320 </td><td>257.908672 </td><td>152.495431 </td><td>304.099827 </td><td>189.0551933</td><td>  364.8448 </td><td>176.927105 </td></tr>\n",
       "\t<tr><th scope=row>TRINITY_DN38231_c0_g1_i1</th><td>  2.780940 </td><td>  347.3809 </td><td>  0.000000 </td><td>  7.607907 </td><td>  5.038778 </td><td>  0.000000 </td><td>  2.990245 </td><td>  3.373793 </td><td>  1.773177 </td><td>  0.8439964</td><td>  364.8448 </td><td>  3.402444 </td></tr>\n",
       "\t<tr><th scope=row>TRINITY_DN101804_c0_g1_i1</th><td> 59.790214 </td><td>  347.3809 </td><td> 37.759577 </td><td> 47.169021 </td><td> 50.387776 </td><td> 53.934247 </td><td>105.406153 </td><td> 41.160271 </td><td> 76.246604 </td><td> 51.4837803</td><td>    0.0000 </td><td> 35.725665 </td></tr>\n",
       "\t<tr><th scope=row>TRINITY_DN10601_c1_g1_i1</th><td> 60.485449 </td><td>78160.7053 </td><td> 51.784562 </td><td> 63.906416 </td><td> 78.101053 </td><td>118.141685 </td><td>105.406153 </td><td> 51.281649 </td><td>100.184491 </td><td>118.1594958</td><td>63847.8415 </td><td> 55.289720 </td></tr>\n",
       "\t<tr><th scope=row>TRINITY_DN21249_c2_g1_i1</th><td>364.303164 </td><td>  694.7618 </td><td>256.765121 </td><td>336.269473 </td><td>461.048153 </td><td>214.880891 </td><td>316.966020 </td><td>276.651003 </td><td>242.925226 </td><td>363.7624479</td><td>    0.0000 </td><td>434.662262 </td></tr>\n",
       "</tbody>\n",
       "</table>\n"
      ],
      "text/latex": [
       "\\begin{tabular}{r|llllllllllll}\n",
       "  & LA\\_C\\_8 & LA\\_F\\_1 & MA\\_C\\_1 & MA\\_C\\_2 & MA\\_C\\_4 & MD\\_C\\_10 & MD\\_C\\_11 & MD\\_C\\_1 & MD\\_C\\_4 & MD\\_C\\_7 & MD\\_F\\_4 & ML\\_C\\_10\\\\\n",
       "\\hline\n",
       "\tTRINITY\\_DN130836\\_c0\\_g1\\_i1 &   8.342821  &  4515.9519  &   5.394225  &   1.521581  &   5.038778  &   5.136595  &   4.485368  &   4.048551  &   5.319531  &   4.6419802 &   729.6896  &   2.551833 \\\\\n",
       "\tTRINITY\\_DN6090\\_c0\\_g1\\_i1 & 114.018547  &     0.0000  & 149.959461  & 164.330783  & 157.461801  & 181.493023  & 146.522028  & 222.670320  & 189.729921  & 180.6152294 &   364.8448  & 146.305106 \\\\\n",
       "\tTRINITY\\_DN27882\\_c0\\_g1\\_i1 &   9.733291  &   694.7618  &  15.103831  &  10.651069  &   5.038778  &  14.553686  &   7.475614  &  14.169929  &  11.525649  &   9.2839604 &     0.0000  &  10.207333 \\\\\n",
       "\tTRINITY\\_DN33032\\_c0\\_g1\\_i1 &   8.342821  &   694.7618  &   6.473070  &   9.129488  &  10.077555  &   9.417091  &   5.232930  &   6.072827  &   5.319531  &   5.9079748 &   729.6896  &  18.713444 \\\\\n",
       "\tTRINITY\\_DN815\\_c0\\_g2\\_i2 & 241.246561  &     0.0000  & 189.876728  & 313.445753  & 311.144519  & 116.429487  & 217.540358  & 204.451839  & 134.761439  & 316.9206478 &   364.8448  & 281.552268 \\\\\n",
       "\tTRINITY\\_DN12072\\_c0\\_g1\\_i2 & 261.408377  &   694.7618  & 126.224870  & 176.503434  & 238.082243  & 173.788131  & 299.024547  & 118.757504  & 238.492284  & 166.2672906 &  1094.5344  & 249.229046 \\\\\n",
       "\tTRINITY\\_DN131921\\_c0\\_g1\\_i1 &  56.314039  &   347.3809  &  53.942252  &  53.255346  &  23.934194  &  84.753817  &  79.989066  & 103.238057  &  57.628247  &  80.1796579 &     0.0000  &  83.359886 \\\\\n",
       "\tTRINITY\\_DN29174\\_c0\\_g1\\_i1 &  72.999680  &   347.3809  &  93.859519  &  80.643810  & 119.670969  &  63.351338  &  78.493944  &  95.140955  &  58.514836  & 142.2133932 &     0.0000  &  85.061108 \\\\\n",
       "\tTRINITY\\_DN39441\\_c0\\_g1\\_i1 &  25.723697  &     0.0000  &  43.153802  &  34.996371  &  22.674499  &  35.956165  &  38.873191  &  22.267032  &  32.803771  &  13.0819442 &   729.6896  & 143.753273 \\\\\n",
       "\tTRINITY\\_DN26877\\_c0\\_g1\\_i1 &  26.418932  &   694.7618  &   7.551915  &   4.564744  &  11.337250  &  24.826876  &  32.892700  &  18.218481  &  25.711064  &  16.4579298 &     0.0000  &  15.310999 \\\\\n",
       "\tTRINITY\\_DN4269\\_c0\\_g1\\_i1 & 157.818355  &   694.7618  & 133.776786  & 130.855994  & 153.682718  &  45.373256  &  75.503698  &  99.864265  &  54.081893  &  94.9495949 &     0.0000  &  85.061108 \\\\\n",
       "\tTRINITY\\_DN3953\\_c0\\_g1\\_i1 &  34.761752  &   347.3809  &  19.419211  &  27.388464  &  40.310221  &  32.531768  &  35.135384  &  27.665100  &  27.484241  &  24.0538974 &   364.8448  &  22.115888 \\\\\n",
       "\tTRINITY\\_DN11521\\_c0\\_g1\\_i2 & 289.913014  &   347.3809  & 167.220982  & 190.197666  & 210.368966  & 265.390741  & 261.646479  & 141.024536  & 265.976525  & 162.0473086 &     0.0000  & 266.241268 \\\\\n",
       "\tTRINITY\\_DN129682\\_c0\\_g1\\_i1 &  79.256795  &     0.0000  &   7.551915  &  31.953208  &  32.752055  &  12.841487  &  25.417087  &  14.844688  &  42.556244  &  17.7239244 &   364.8448  &  12.759166 \\\\\n",
       "\tTRINITY\\_DN47302\\_c0\\_g1\\_i1 &   4.171410  &   347.3809  &   3.236535  &   3.043163  &   3.779083  &   2.568297  &   5.980491  &   2.699034  &   2.659765  &   4.6419802 &     0.0000  &  11.908555 \\\\\n",
       "\tTRINITY\\_DN29508\\_c0\\_g1\\_i1 & 266.275022  &     0.0000  & 220.084389  & 255.625663  & 289.729714  & 287.649320  & 257.908672  & 152.495431  & 304.099827  & 189.0551933 &   364.8448  & 176.927105 \\\\\n",
       "\tTRINITY\\_DN38231\\_c0\\_g1\\_i1 &   2.780940  &   347.3809  &   0.000000  &   7.607907  &   5.038778  &   0.000000  &   2.990245  &   3.373793  &   1.773177  &   0.8439964 &   364.8448  &   3.402444 \\\\\n",
       "\tTRINITY\\_DN101804\\_c0\\_g1\\_i1 &  59.790214  &   347.3809  &  37.759577  &  47.169021  &  50.387776  &  53.934247  & 105.406153  &  41.160271  &  76.246604  &  51.4837803 &     0.0000  &  35.725665 \\\\\n",
       "\tTRINITY\\_DN10601\\_c1\\_g1\\_i1 &  60.485449  & 78160.7053  &  51.784562  &  63.906416  &  78.101053  & 118.141685  & 105.406153  &  51.281649  & 100.184491  & 118.1594958 & 63847.8415  &  55.289720 \\\\\n",
       "\tTRINITY\\_DN21249\\_c2\\_g1\\_i1 & 364.303164  &   694.7618  & 256.765121  & 336.269473  & 461.048153  & 214.880891  & 316.966020  & 276.651003  & 242.925226  & 363.7624479 &     0.0000  & 434.662262 \\\\\n",
       "\\end{tabular}\n"
      ],
      "text/markdown": [
       "\n",
       "| <!--/--> | LA_C_8 | LA_F_1 | MA_C_1 | MA_C_2 | MA_C_4 | MD_C_10 | MD_C_11 | MD_C_1 | MD_C_4 | MD_C_7 | MD_F_4 | ML_C_10 |\n",
       "|---|---|---|---|---|---|---|---|---|---|---|---|---|\n",
       "| TRINITY_DN130836_c0_g1_i1 |   8.342821  |  4515.9519  |   5.394225  |   1.521581  |   5.038778  |   5.136595  |   4.485368  |   4.048551  |   5.319531  |   4.6419802 |   729.6896  |   2.551833  |\n",
       "| TRINITY_DN6090_c0_g1_i1 | 114.018547  |     0.0000  | 149.959461  | 164.330783  | 157.461801  | 181.493023  | 146.522028  | 222.670320  | 189.729921  | 180.6152294 |   364.8448  | 146.305106  |\n",
       "| TRINITY_DN27882_c0_g1_i1 |   9.733291  |   694.7618  |  15.103831  |  10.651069  |   5.038778  |  14.553686  |   7.475614  |  14.169929  |  11.525649  |   9.2839604 |     0.0000  |  10.207333  |\n",
       "| TRINITY_DN33032_c0_g1_i1 |   8.342821  |   694.7618  |   6.473070  |   9.129488  |  10.077555  |   9.417091  |   5.232930  |   6.072827  |   5.319531  |   5.9079748 |   729.6896  |  18.713444  |\n",
       "| TRINITY_DN815_c0_g2_i2 | 241.246561  |     0.0000  | 189.876728  | 313.445753  | 311.144519  | 116.429487  | 217.540358  | 204.451839  | 134.761439  | 316.9206478 |   364.8448  | 281.552268  |\n",
       "| TRINITY_DN12072_c0_g1_i2 | 261.408377  |   694.7618  | 126.224870  | 176.503434  | 238.082243  | 173.788131  | 299.024547  | 118.757504  | 238.492284  | 166.2672906 |  1094.5344  | 249.229046  |\n",
       "| TRINITY_DN131921_c0_g1_i1 |  56.314039  |   347.3809  |  53.942252  |  53.255346  |  23.934194  |  84.753817  |  79.989066  | 103.238057  |  57.628247  |  80.1796579 |     0.0000  |  83.359886  |\n",
       "| TRINITY_DN29174_c0_g1_i1 |  72.999680  |   347.3809  |  93.859519  |  80.643810  | 119.670969  |  63.351338  |  78.493944  |  95.140955  |  58.514836  | 142.2133932 |     0.0000  |  85.061108  |\n",
       "| TRINITY_DN39441_c0_g1_i1 |  25.723697  |     0.0000  |  43.153802  |  34.996371  |  22.674499  |  35.956165  |  38.873191  |  22.267032  |  32.803771  |  13.0819442 |   729.6896  | 143.753273  |\n",
       "| TRINITY_DN26877_c0_g1_i1 |  26.418932  |   694.7618  |   7.551915  |   4.564744  |  11.337250  |  24.826876  |  32.892700  |  18.218481  |  25.711064  |  16.4579298 |     0.0000  |  15.310999  |\n",
       "| TRINITY_DN4269_c0_g1_i1 | 157.818355  |   694.7618  | 133.776786  | 130.855994  | 153.682718  |  45.373256  |  75.503698  |  99.864265  |  54.081893  |  94.9495949 |     0.0000  |  85.061108  |\n",
       "| TRINITY_DN3953_c0_g1_i1 |  34.761752  |   347.3809  |  19.419211  |  27.388464  |  40.310221  |  32.531768  |  35.135384  |  27.665100  |  27.484241  |  24.0538974 |   364.8448  |  22.115888  |\n",
       "| TRINITY_DN11521_c0_g1_i2 | 289.913014  |   347.3809  | 167.220982  | 190.197666  | 210.368966  | 265.390741  | 261.646479  | 141.024536  | 265.976525  | 162.0473086 |     0.0000  | 266.241268  |\n",
       "| TRINITY_DN129682_c0_g1_i1 |  79.256795  |     0.0000  |   7.551915  |  31.953208  |  32.752055  |  12.841487  |  25.417087  |  14.844688  |  42.556244  |  17.7239244 |   364.8448  |  12.759166  |\n",
       "| TRINITY_DN47302_c0_g1_i1 |   4.171410  |   347.3809  |   3.236535  |   3.043163  |   3.779083  |   2.568297  |   5.980491  |   2.699034  |   2.659765  |   4.6419802 |     0.0000  |  11.908555  |\n",
       "| TRINITY_DN29508_c0_g1_i1 | 266.275022  |     0.0000  | 220.084389  | 255.625663  | 289.729714  | 287.649320  | 257.908672  | 152.495431  | 304.099827  | 189.0551933 |   364.8448  | 176.927105  |\n",
       "| TRINITY_DN38231_c0_g1_i1 |   2.780940  |   347.3809  |   0.000000  |   7.607907  |   5.038778  |   0.000000  |   2.990245  |   3.373793  |   1.773177  |   0.8439964 |   364.8448  |   3.402444  |\n",
       "| TRINITY_DN101804_c0_g1_i1 |  59.790214  |   347.3809  |  37.759577  |  47.169021  |  50.387776  |  53.934247  | 105.406153  |  41.160271  |  76.246604  |  51.4837803 |     0.0000  |  35.725665  |\n",
       "| TRINITY_DN10601_c1_g1_i1 |  60.485449  | 78160.7053  |  51.784562  |  63.906416  |  78.101053  | 118.141685  | 105.406153  |  51.281649  | 100.184491  | 118.1594958 | 63847.8415  |  55.289720  |\n",
       "| TRINITY_DN21249_c2_g1_i1 | 364.303164  |   694.7618  | 256.765121  | 336.269473  | 461.048153  | 214.880891  | 316.966020  | 276.651003  | 242.925226  | 363.7624479 |     0.0000  | 434.662262  |\n",
       "\n"
      ],
      "text/plain": [
       "                          LA_C_8     LA_F_1     MA_C_1     MA_C_2    \n",
       "TRINITY_DN130836_c0_g1_i1   8.342821  4515.9519   5.394225   1.521581\n",
       "TRINITY_DN6090_c0_g1_i1   114.018547     0.0000 149.959461 164.330783\n",
       "TRINITY_DN27882_c0_g1_i1    9.733291   694.7618  15.103831  10.651069\n",
       "TRINITY_DN33032_c0_g1_i1    8.342821   694.7618   6.473070   9.129488\n",
       "TRINITY_DN815_c0_g2_i2    241.246561     0.0000 189.876728 313.445753\n",
       "TRINITY_DN12072_c0_g1_i2  261.408377   694.7618 126.224870 176.503434\n",
       "TRINITY_DN131921_c0_g1_i1  56.314039   347.3809  53.942252  53.255346\n",
       "TRINITY_DN29174_c0_g1_i1   72.999680   347.3809  93.859519  80.643810\n",
       "TRINITY_DN39441_c0_g1_i1   25.723697     0.0000  43.153802  34.996371\n",
       "TRINITY_DN26877_c0_g1_i1   26.418932   694.7618   7.551915   4.564744\n",
       "TRINITY_DN4269_c0_g1_i1   157.818355   694.7618 133.776786 130.855994\n",
       "TRINITY_DN3953_c0_g1_i1    34.761752   347.3809  19.419211  27.388464\n",
       "TRINITY_DN11521_c0_g1_i2  289.913014   347.3809 167.220982 190.197666\n",
       "TRINITY_DN129682_c0_g1_i1  79.256795     0.0000   7.551915  31.953208\n",
       "TRINITY_DN47302_c0_g1_i1    4.171410   347.3809   3.236535   3.043163\n",
       "TRINITY_DN29508_c0_g1_i1  266.275022     0.0000 220.084389 255.625663\n",
       "TRINITY_DN38231_c0_g1_i1    2.780940   347.3809   0.000000   7.607907\n",
       "TRINITY_DN101804_c0_g1_i1  59.790214   347.3809  37.759577  47.169021\n",
       "TRINITY_DN10601_c1_g1_i1   60.485449 78160.7053  51.784562  63.906416\n",
       "TRINITY_DN21249_c2_g1_i1  364.303164   694.7618 256.765121 336.269473\n",
       "                          MA_C_4     MD_C_10    MD_C_11    MD_C_1    \n",
       "TRINITY_DN130836_c0_g1_i1   5.038778   5.136595   4.485368   4.048551\n",
       "TRINITY_DN6090_c0_g1_i1   157.461801 181.493023 146.522028 222.670320\n",
       "TRINITY_DN27882_c0_g1_i1    5.038778  14.553686   7.475614  14.169929\n",
       "TRINITY_DN33032_c0_g1_i1   10.077555   9.417091   5.232930   6.072827\n",
       "TRINITY_DN815_c0_g2_i2    311.144519 116.429487 217.540358 204.451839\n",
       "TRINITY_DN12072_c0_g1_i2  238.082243 173.788131 299.024547 118.757504\n",
       "TRINITY_DN131921_c0_g1_i1  23.934194  84.753817  79.989066 103.238057\n",
       "TRINITY_DN29174_c0_g1_i1  119.670969  63.351338  78.493944  95.140955\n",
       "TRINITY_DN39441_c0_g1_i1   22.674499  35.956165  38.873191  22.267032\n",
       "TRINITY_DN26877_c0_g1_i1   11.337250  24.826876  32.892700  18.218481\n",
       "TRINITY_DN4269_c0_g1_i1   153.682718  45.373256  75.503698  99.864265\n",
       "TRINITY_DN3953_c0_g1_i1    40.310221  32.531768  35.135384  27.665100\n",
       "TRINITY_DN11521_c0_g1_i2  210.368966 265.390741 261.646479 141.024536\n",
       "TRINITY_DN129682_c0_g1_i1  32.752055  12.841487  25.417087  14.844688\n",
       "TRINITY_DN47302_c0_g1_i1    3.779083   2.568297   5.980491   2.699034\n",
       "TRINITY_DN29508_c0_g1_i1  289.729714 287.649320 257.908672 152.495431\n",
       "TRINITY_DN38231_c0_g1_i1    5.038778   0.000000   2.990245   3.373793\n",
       "TRINITY_DN101804_c0_g1_i1  50.387776  53.934247 105.406153  41.160271\n",
       "TRINITY_DN10601_c1_g1_i1   78.101053 118.141685 105.406153  51.281649\n",
       "TRINITY_DN21249_c2_g1_i1  461.048153 214.880891 316.966020 276.651003\n",
       "                          MD_C_4     MD_C_7      MD_F_4     ML_C_10   \n",
       "TRINITY_DN130836_c0_g1_i1   5.319531   4.6419802   729.6896   2.551833\n",
       "TRINITY_DN6090_c0_g1_i1   189.729921 180.6152294   364.8448 146.305106\n",
       "TRINITY_DN27882_c0_g1_i1   11.525649   9.2839604     0.0000  10.207333\n",
       "TRINITY_DN33032_c0_g1_i1    5.319531   5.9079748   729.6896  18.713444\n",
       "TRINITY_DN815_c0_g2_i2    134.761439 316.9206478   364.8448 281.552268\n",
       "TRINITY_DN12072_c0_g1_i2  238.492284 166.2672906  1094.5344 249.229046\n",
       "TRINITY_DN131921_c0_g1_i1  57.628247  80.1796579     0.0000  83.359886\n",
       "TRINITY_DN29174_c0_g1_i1   58.514836 142.2133932     0.0000  85.061108\n",
       "TRINITY_DN39441_c0_g1_i1   32.803771  13.0819442   729.6896 143.753273\n",
       "TRINITY_DN26877_c0_g1_i1   25.711064  16.4579298     0.0000  15.310999\n",
       "TRINITY_DN4269_c0_g1_i1    54.081893  94.9495949     0.0000  85.061108\n",
       "TRINITY_DN3953_c0_g1_i1    27.484241  24.0538974   364.8448  22.115888\n",
       "TRINITY_DN11521_c0_g1_i2  265.976525 162.0473086     0.0000 266.241268\n",
       "TRINITY_DN129682_c0_g1_i1  42.556244  17.7239244   364.8448  12.759166\n",
       "TRINITY_DN47302_c0_g1_i1    2.659765   4.6419802     0.0000  11.908555\n",
       "TRINITY_DN29508_c0_g1_i1  304.099827 189.0551933   364.8448 176.927105\n",
       "TRINITY_DN38231_c0_g1_i1    1.773177   0.8439964   364.8448   3.402444\n",
       "TRINITY_DN101804_c0_g1_i1  76.246604  51.4837803     0.0000  35.725665\n",
       "TRINITY_DN10601_c1_g1_i1  100.184491 118.1594958 63847.8415  55.289720\n",
       "TRINITY_DN21249_c2_g1_i1  242.925226 363.7624479     0.0000 434.662262"
      ]
     },
     "metadata": {},
     "output_type": "display_data"
    }
   ],
   "source": [
    "contam_subset <- norm_mat_sub[max.col(norm_mat_sub) %in% c(19,28),]\n",
    "contam_subset[1:20,18:29]"
   ]
  },
  {
   "cell_type": "markdown",
   "metadata": {},
   "source": [
    "Scrolling through, it's clear that these transcripts have the highest expression in at least one of the parasite samples. This is indicative of Loxo contamination in the Rhithro assembly. Interestingly, oftentimes even when the highest value is in a parasite column, the other parasite column has a value of zero. I am not quite sure what this could mean. Different expression patterns between the two parasite externae, with both ending up in the Rhithro assembly? \n",
    "\n",
    "Okay now I'm going to save the rownames for use later:"
   ]
  },
  {
   "cell_type": "code",
   "execution_count": 12,
   "metadata": {},
   "outputs": [
    {
     "data": {
      "text/html": [
       "5797"
      ],
      "text/latex": [
       "5797"
      ],
      "text/markdown": [
       "5797"
      ],
      "text/plain": [
       "[1] 5797"
      ]
     },
     "metadata": {},
     "output_type": "display_data"
    }
   ],
   "source": [
    "contam_IDs <- rownames(contam_subset)\n",
    "length(contam_IDs)"
   ]
  },
  {
   "cell_type": "markdown",
   "metadata": {},
   "source": [
    "There are 5797 transcripts that have higher expression in a parasite sample than any of the \"clean\" samples. It's a large number, but relative to the ~150K transcripts, not really."
   ]
  },
  {
   "cell_type": "markdown",
   "metadata": {},
   "source": [
    "Back to regularly scheduled programming. I am now going to remove the Loxo samples from the raw expression matrix and sample metadata, and make another DESeq dataset object. "
   ]
  },
  {
   "cell_type": "code",
   "execution_count": 13,
   "metadata": {},
   "outputs": [],
   "source": [
    "all_counts <- all_counts[,-c(29,41)]\n",
    "coldata <- coldata[-c(29,41),]"
   ]
  },
  {
   "cell_type": "markdown",
   "metadata": {},
   "source": [
    "Verify again that the counts and metadata match up:"
   ]
  },
  {
   "cell_type": "code",
   "execution_count": 14,
   "metadata": {},
   "outputs": [
    {
     "data": {
      "text/html": [
       "TRUE"
      ],
      "text/latex": [
       "TRUE"
      ],
      "text/markdown": [
       "TRUE"
      ],
      "text/plain": [
       "[1] TRUE"
      ]
     },
     "metadata": {},
     "output_type": "display_data"
    }
   ],
   "source": [
    "all(rownames(coldata) == colnames(all_counts))"
   ]
  },
  {
   "cell_type": "markdown",
   "metadata": {},
   "source": [
    "Okay let's get started. This part of the analysis is just going to do a base comparison between uninfected and parasitized, controlling for population-specific effects. "
   ]
  },
  {
   "cell_type": "code",
   "execution_count": 15,
   "metadata": {},
   "outputs": [
    {
     "name": "stderr",
     "output_type": "stream",
     "text": [
      "converting counts to integer mode\n",
      "factor levels were dropped which had no samples\n"
     ]
    }
   ],
   "source": [
    "dds <- DESeqDataSetFromMatrix(countData = all_counts, colData = coldata, design = ~site + condition)"
   ]
  },
  {
   "cell_type": "code",
   "execution_count": null,
   "metadata": {},
   "outputs": [
    {
     "name": "stderr",
     "output_type": "stream",
     "text": [
      "estimating size factors\n",
      "estimating dispersions\n",
      "gene-wise dispersion estimates\n",
      "mean-dispersion relationship\n",
      "-- note: fitType='parametric', but the dispersion trend was not well captured by the\n",
      "   function: y = a/x + b, and a local regression fit was automatically substituted.\n",
      "   specify fitType='local' or 'mean' to avoid this message next time.\n",
      "final dispersion estimates\n",
      "fitting model and testing\n"
     ]
    }
   ],
   "source": [
    "dds <- DESeq(dds)"
   ]
  },
  {
   "cell_type": "markdown",
   "metadata": {},
   "source": [
    "Let's visualize the data using some PCAs. This will be helpful for identifying sample outliers.\n",
    "\n",
    "First we'll apply a variance stabilizing transformation to our normalized counts. "
   ]
  },
  {
   "cell_type": "code",
   "execution_count": null,
   "metadata": {},
   "outputs": [],
   "source": [
    "vsd <- vst(dds, blind=FALSE)"
   ]
  },
  {
   "cell_type": "code",
   "execution_count": null,
   "metadata": {},
   "outputs": [],
   "source": [
    "PCA <- plotPCA(vsd, intgroup=\"condition\")\n",
    "PCA + geom_label(aes(label = name))"
   ]
  },
  {
   "cell_type": "markdown",
   "metadata": {},
   "source": [
    "You can see that PCA 1 clearly separates the sample according to infection status. Along the second PCA axis, you can see four extreme outlier at the upper left corner. Let's investigate this a little more closely by looking at the expression of particular high variance transcripts. "
   ]
  },
  {
   "cell_type": "code",
   "execution_count": 79,
   "metadata": {},
   "outputs": [
    {
     "data": {
      "image/png": "[encoded data removed]",
      "text/plain": [
       "plot without title"
      ]
     },
     "metadata": {},
     "output_type": "display_data"
    }
   ],
   "source": [
    "topVarGenes <- head(order(rowVars(assay(vsd)), decreasing = TRUE), 500)\n",
    "df <- as.data.frame(colData(dds)[,c(\"condition\",\"site\")])\n",
    "vsd_df <- assay(vsd)\n",
    "heatmap <- pheatmap(vsd_df[topVarGenes,], cluster_rows=TRUE, show_rownames=FALSE,\n",
    "         cluster_cols=TRUE, annotation_col=df)\n",
    "heatmap"
   ]
  },
  {
   "cell_type": "markdown",
   "metadata": {},
   "source": [
    "Looking at the top 500 highest variance transcripts, you can see that the transcript cluster second from the top separates samples in the same way as PCA axis 2 from above, with MA_C_1, MA_C_2, MA_C_4, and AP_C_6 having really high expression. Let's figure out what those are. "
   ]
  },
  {
   "cell_type": "code",
   "execution_count": 195,
   "metadata": {},
   "outputs": [
    {
     "data": {
      "image/png": "[encoded data removed]",
      "text/plain": [
       "plot without title"
      ]
     },
     "metadata": {},
     "output_type": "display_data"
    }
   ],
   "source": [
    "idx <- sort(cutree(heatmap$tree_row, k=10)) #separate transcripts by cluster assignment\n",
    "idx <- names(which(idx==6)) #after searching, cluster 6 is the one with the transcripts we want\n",
    "heatmap2 <- pheatmap(vsd_df[idx,], cluster_rows=TRUE, show_rownames=FALSE, #plot\n",
    "         cluster_cols=TRUE)\n",
    "heatmap2"
   ]
  },
  {
   "cell_type": "markdown",
   "metadata": {},
   "source": [
    "Okay now we found the cluster that has all of these transcripts. Let's get the names and search annotations. Load in annotations."
   ]
  },
  {
   "cell_type": "code",
   "execution_count": 193,
   "metadata": {},
   "outputs": [],
   "source": [
    "annot <- read.table(\"../EnTAP/entap_outfiles/similarity_search/DIAMOND/overall_results/best_hits_lvl0.tsv\", sep=\"\\t\", fill=TRUE, header=TRUE, quote=\"\")"
   ]
  },
  {
   "cell_type": "code",
   "execution_count": 192,
   "metadata": {},
   "outputs": [
    {
     "data": {
      "text/html": [
       "<table>\n",
       "<thead><tr><th></th><th scope=col>Query.Sequence</th><th scope=col>Subject.Sequence</th><th scope=col>Percent.Identical</th><th scope=col>E.Value</th><th scope=col>Coverage</th><th scope=col>Description</th><th scope=col>Species</th></tr></thead>\n",
       "<tbody>\n",
       "\t<tr><th scope=row>14402</th><td>TRINITY_DN63617_c0_g1_i1                                                                                                                  </td><td>tr|A0A224Z7V0|A0A224Z7V0_9ACAR                                                                                                            </td><td>51.6                                                                                                                                      </td><td>1.6e-283                                                                                                                                  </td><td>71.0                                                                                                                                      </td><td>tr|A0A224Z7V0|A0A224Z7V0_9ACAR Tick transposon OS=Rhipicephalus zambeziensis OX=60191 PE=4 SV=1                                           </td><td>rhipicephalus zambeziensis                                                                                                                </td></tr>\n",
       "\t<tr><th scope=row>17461</th><td>TRINITY_DN12072_c0_g1_i2                                                                                                                  </td><td>XP_027207344.1                                                                                                                            </td><td>52.7                                                                                                                                      </td><td>2.4e-250                                                                                                                                  </td><td>51.3                                                                                                                                      </td><td>XP_027207344.1 uncharacterized protein LOC113800756 [Penaeus vannamei]                                                                    </td><td>penaeus vannamei                                                                                                                          </td></tr>\n",
       "\t<tr><th scope=row>19483</th><td>TRINITY_DN144418_c0_g1_i1                                                                                                                 </td><td>XP_027212670.1                                                                                                                            </td><td>72.1                                                                                                                                      </td><td>7.0e-221                                                                                                                                  </td><td>93.6                                                                                                                                      </td><td>XP_027212670.1 LOW QUALITY PROTEIN: chondroitin sulfate N-acetylgalactosaminyltransferase 1-like [Penaeus vannamei]                       </td><td>penaeus vannamei                                                                                                                          </td></tr>\n",
       "\t<tr><th scope=row>15644</th><td>TRINITY_DN53652_c0_g1_i1                                                                                                                  </td><td>XP_027228515.1                                                                                                                            </td><td>59.3                                                                                                                                      </td><td>1.1e-167                                                                                                                                  </td><td>86.9                                                                                                                                      </td><td>XP_027228515.1 aladin-like [Penaeus vannamei]                                                                                             </td><td>penaeus vannamei                                                                                                                          </td></tr>\n",
       "\t<tr><th scope=row>8423</th><td>TRINITY_DN5678_c0_g1_i4                                                                                                                   </td><td>XP_027232370.1                                                                                                                            </td><td>63.5                                                                                                                                      </td><td>1.9e-125                                                                                                                                  </td><td>81.1                                                                                                                                      </td><td>XP_027232370.1 leucine-rich repeat-containing protein 47-like [Penaeus vannamei]                                                          </td><td>penaeus vannamei                                                                                                                          </td></tr>\n",
       "\t<tr><th scope=row>18711</th><td>TRINITY_DN147159_c0_g1_i1                                                                                                                 </td><td>RXG54531.1                                                                                                                                </td><td>43.9                                                                                                                                      </td><td>9.7e-109                                                                                                                                  </td><td>96.3                                                                                                                                      </td><td>RXG54531.1 FRAS1-related extracellular matrix protein 3 [Armadillidium vulgare]                                                           </td><td>armadillidium vulgare                                                                                                                     </td></tr>\n",
       "\t<tr><th scope=row>1790</th><td>TRINITY_DN29745_c1_g1_i1                                                                                                                  </td><td>XP_027236394.1                                                                                                                            </td><td>48.5                                                                                                                                      </td><td> 1.0e-92                                                                                                                                  </td><td>53.0                                                                                                                                      </td><td>XP_027236394.1 LOW QUALITY PROTEIN: BTB/POZ domain-containing protein 6-A-like [Penaeus vannamei]                                         </td><td>penaeus vannamei                                                                                                                          </td></tr>\n",
       "\t<tr><th scope=row>2422</th><td>TRINITY_DN10013_c0_g1_i1                                                                                                                  </td><td>XP_027226048.1                                                                                                                            </td><td>55.8                                                                                                                                      </td><td> 3.6e-91                                                                                                                                  </td><td>60.0                                                                                                                                      </td><td>XP_027226048.1 failed axon connections homolog [Penaeus vannamei]                                                                         </td><td>penaeus vannamei                                                                                                                          </td></tr>\n",
       "\t<tr><th scope=row>6794</th><td>TRINITY_DN801_c0_g1_i1                                                                                                                    </td><td>XP_027226631.1                                                                                                                            </td><td>62.8                                                                                                                                      </td><td> 1.1e-87                                                                                                                                  </td><td>55.6                                                                                                                                      </td><td>XP_027226631.1 poly(U)-specific endoribonuclease homolog [Penaeus vannamei]                                                               </td><td>penaeus vannamei                                                                                                                          </td></tr>\n",
       "\t<tr><th scope=row>4349</th><td>TRINITY_DN23772_c0_g1_i2                                                                                                                  </td><td>tr|A0A1B6LTA1|A0A1B6LTA1_9HEMI                                                                                                            </td><td>44.1                                                                                                                                      </td><td> 7.6e-69                                                                                                                                  </td><td>77.5                                                                                                                                      </td><td>tr|A0A1B6LTA1|A0A1B6LTA1_9HEMI Uncharacterized protein OS=Graphocephala atropunctata OX=36148 GN=g.31387 PE=3 SV=1                        </td><td>graphocephala atropunctata                                                                                                                </td></tr>\n",
       "\t<tr><th scope=row>5567</th><td>TRINITY_DN22351_c0_g1_i2                                                                                                                  </td><td>XP_018012430.1                                                                                                                            </td><td>62.4                                                                                                                                      </td><td> 1.5e-59                                                                                                                                  </td><td>81.4                                                                                                                                      </td><td>XP_018012430.1 PREDICTED: homeobox protein unc-4 homolog [Hyalella azteca]                                                                </td><td>hyalella azteca                                                                                                                           </td></tr>\n",
       "\t<tr><th scope=row>3138</th><td>TRINITY_DN98839_c0_g1_i1                                                                                                                  </td><td>tr|Q5C2F6|Q5C2F6_SCHJA                                                                                                                    </td><td>74.1                                                                                                                                      </td><td> 7.2e-54                                                                                                                                  </td><td>95.7                                                                                                                                      </td><td>tr|Q5C2F6|Q5C2F6_SCHJA SJCHGC04821 protein (Fragment) OS=Schistosoma japonicum OX=6182 PE=2 SV=2                                          </td><td>schistosoma japonicum                                                                                                                     </td></tr>\n",
       "\t<tr><th scope=row>4266</th><td>TRINITY_DN93196_c0_g1_i1                                                                                                                  </td><td>tr|A0A5B7DXI4|A0A5B7DXI4_PORTR                                                                                                            </td><td>75.4                                                                                                                                      </td><td> 1.1e-46                                                                                                                                  </td><td>99.4                                                                                                                                      </td><td>tr|A0A5B7DXI4|A0A5B7DXI4_PORTR Acetyl-coenzyme A synthetase 2-like, mitochondrial OS=Portunus trituberculatus OX=210409 GN=Acss1 PE=4 SV=1</td><td>portunus trituberculatus                                                                                                                  </td></tr>\n",
       "\t<tr><th scope=row>19514</th><td>TRINITY_DN130836_c0_g1_i1                                                                                                                 </td><td>tr|A0A5E4N1V6|A0A5E4N1V6_9HEMI                                                                                                            </td><td>50.0                                                                                                                                      </td><td> 6.5e-34                                                                                                                                  </td><td>63.1                                                                                                                                      </td><td>tr|A0A5E4N1V6|A0A5E4N1V6_9HEMI Ribonuclease H-like domain,Transposase, type 1 OS=Cinara cedri OX=506608 GN=CINCED_3A001731 PE=4 SV=1      </td><td>cinara cedri                                                                                                                              </td></tr>\n",
       "\t<tr><th scope=row>7812</th><td>TRINITY_DN40498_c0_g1_i1                                                                                                                  </td><td>XP_313581.5                                                                                                                               </td><td>32.4                                                                                                                                      </td><td> 1.7e-30                                                                                                                                  </td><td>52.6                                                                                                                                      </td><td>XP_313581.5 AGAP004309-PA [Anopheles gambiae str. PEST]                                                                                   </td><td>anopheles gambiae str. pest                                                                                                               </td></tr>\n",
       "\t<tr><th scope=row>11429</th><td>TRINITY_DN38930_c0_g1_i1                                                                                                                  </td><td>tr|A0A2J7RSJ6|A0A2J7RSJ6_9NEOP                                                                                                            </td><td>41.1                                                                                                                                      </td><td> 4.9e-22                                                                                                                                  </td><td>77.5                                                                                                                                      </td><td>tr|A0A2J7RSJ6|A0A2J7RSJ6_9NEOP Uncharacterized protein OS=Cryptotermes secundus OX=105785 GN=B7P43_G07764 PE=4 SV=1                       </td><td>cryptotermes secundus                                                                                                                     </td></tr>\n",
       "\t<tr><th scope=row>4233</th><td>TRINITY_DN128233_c0_g1_i1                                                                                                                 </td><td>XP_024880090.1                                                                                                                            </td><td>40.5                                                                                                                                      </td><td> 1.4e-18                                                                                                                                  </td><td>88.2                                                                                                                                      </td><td>XP_024880090.1 uncharacterized protein LOC112459947 [Temnothorax curvispinosus]                                                           </td><td>temnothorax curvispinosus                                                                                                                 </td></tr>\n",
       "\t<tr><th scope=row>14090</th><td>TRINITY_DN106649_c0_g1_i1                                                                                                                 </td><td>UniRef90_A0A1X0QGH4                                                                                                                       </td><td>56.5                                                                                                                                      </td><td> 1.3e-06                                                                                                                                  </td><td>86.3                                                                                                                                      </td><td>UniRef90_A0A1X0QGH4 Uncharacterized protein n=2 Tax=Hepatospora eriocheir TaxID=1081669 RepID=A0A1X0QGH4_9MICR                            </td><td>                                                                                                                                          </td></tr>\n",
       "\t<tr><th scope=row>18099</th><td>TRINITY_DN149509_c0_g1_i1                                                                                                                 </td><td>tr|K7EXW6|K7EXW6_PELSI                                                                                                                    </td><td>26.5                                                                                                                                      </td><td> 1.5e-06                                                                                                                                  </td><td>97.6                                                                                                                                      </td><td>tr|K7EXW6|K7EXW6_PELSI Uncharacterized protein OS=Pelodiscus sinensis OX=13735 PE=4 SV=1                                                  </td><td>pelodiscus sinensis                                                                                                                       </td></tr>\n",
       "</tbody>\n",
       "</table>\n"
      ],
      "text/latex": [
       "\\begin{tabular}{r|lllllll}\n",
       "  & Query.Sequence & Subject.Sequence & Percent.Identical & E.Value & Coverage & Description & Species\\\\\n",
       "\\hline\n",
       "\t14402 & TRINITY\\_DN63617\\_c0\\_g1\\_i1                                                                                                                                 & tr\\textbar{}A0A224Z7V0\\textbar{}A0A224Z7V0\\_9ACAR                                                                                                             & 51.6                                                                                                                                                             & 1.6e-283                                                                                                                                                         & 71.0                                                                                                                                                             & tr\\textbar{}A0A224Z7V0\\textbar{}A0A224Z7V0\\_9ACAR Tick transposon OS=Rhipicephalus zambeziensis OX=60191 PE=4 SV=1                                            & rhipicephalus zambeziensis                                                                                                                                      \\\\\n",
       "\t17461 & TRINITY\\_DN12072\\_c0\\_g1\\_i2                                                                                                                 & XP\\_027207344.1                                                                                                                                 & 52.7                                                                                                                                             & 2.4e-250                                                                                                                                         & 51.3                                                                                                                                             & XP\\_027207344.1 uncharacterized protein LOC113800756 {[}Penaeus vannamei{]}                                                                     & penaeus vannamei                                                                                                                                \\\\\n",
       "\t19483 & TRINITY\\_DN144418\\_c0\\_g1\\_i1                                                                                                                & XP\\_027212670.1                                                                                                                                 & 72.1                                                                                                                                             & 7.0e-221                                                                                                                                         & 93.6                                                                                                                                             & XP\\_027212670.1 LOW QUALITY PROTEIN: chondroitin sulfate N-acetylgalactosaminyltransferase 1-like {[}Penaeus vannamei{]}                        & penaeus vannamei                                                                                                                                \\\\\n",
       "\t15644 & TRINITY\\_DN53652\\_c0\\_g1\\_i1                                                                                                                 & XP\\_027228515.1                                                                                                                                 & 59.3                                                                                                                                             & 1.1e-167                                                                                                                                         & 86.9                                                                                                                                             & XP\\_027228515.1 aladin-like {[}Penaeus vannamei{]}                                                                                              & penaeus vannamei                                                                                                                                \\\\\n",
       "\t8423 & TRINITY\\_DN5678\\_c0\\_g1\\_i4                                                                                                                  & XP\\_027232370.1                                                                                                                                 & 63.5                                                                                                                                             & 1.9e-125                                                                                                                                         & 81.1                                                                                                                                             & XP\\_027232370.1 leucine-rich repeat-containing protein 47-like {[}Penaeus vannamei{]}                                                           & penaeus vannamei                                                                                                                                \\\\\n",
       "\t18711 & TRINITY\\_DN147159\\_c0\\_g1\\_i1                                                                                                              & RXG54531.1                                                                                                                                     & 43.9                                                                                                                                           & 9.7e-109                                                                                                                                       & 96.3                                                                                                                                           & RXG54531.1 FRAS1-related extracellular matrix protein 3 {[}Armadillidium vulgare{]}                                                            & armadillidium vulgare                                                                                                                         \\\\\n",
       "\t1790 & TRINITY\\_DN29745\\_c1\\_g1\\_i1                                                                                                                 & XP\\_027236394.1                                                                                                                                 & 48.5                                                                                                                                             &  1.0e-92                                                                                                                                         & 53.0                                                                                                                                             & XP\\_027236394.1 LOW QUALITY PROTEIN: BTB/POZ domain-containing protein 6-A-like {[}Penaeus vannamei{]}                                          & penaeus vannamei                                                                                                                                \\\\\n",
       "\t2422 & TRINITY\\_DN10013\\_c0\\_g1\\_i1                                                                                                                 & XP\\_027226048.1                                                                                                                                 & 55.8                                                                                                                                             &  3.6e-91                                                                                                                                         & 60.0                                                                                                                                             & XP\\_027226048.1 failed axon connections homolog {[}Penaeus vannamei{]}                                                                          & penaeus vannamei                                                                                                                                \\\\\n",
       "\t6794 & TRINITY\\_DN801\\_c0\\_g1\\_i1                                                                                                                   & XP\\_027226631.1                                                                                                                                 & 62.8                                                                                                                                             &  1.1e-87                                                                                                                                         & 55.6                                                                                                                                             & XP\\_027226631.1 poly(U)-specific endoribonuclease homolog {[}Penaeus vannamei{]}                                                                & penaeus vannamei                                                                                                                                \\\\\n",
       "\t4349 & TRINITY\\_DN23772\\_c0\\_g1\\_i2                                                                                                                                 & tr\\textbar{}A0A1B6LTA1\\textbar{}A0A1B6LTA1\\_9HEMI                                                                                                             & 44.1                                                                                                                                                             &  7.6e-69                                                                                                                                                         & 77.5                                                                                                                                                             & tr\\textbar{}A0A1B6LTA1\\textbar{}A0A1B6LTA1\\_9HEMI Uncharacterized protein OS=Graphocephala atropunctata OX=36148 GN=g.31387 PE=3 SV=1                         & graphocephala atropunctata                                                                                                                                      \\\\\n",
       "\t5567 & TRINITY\\_DN22351\\_c0\\_g1\\_i2                                                                                                                 & XP\\_018012430.1                                                                                                                                 & 62.4                                                                                                                                             &  1.5e-59                                                                                                                                         & 81.4                                                                                                                                             & XP\\_018012430.1 PREDICTED: homeobox protein unc-4 homolog {[}Hyalella azteca{]}                                                                 & hyalella azteca                                                                                                                                 \\\\\n",
       "\t3138 & TRINITY\\_DN98839\\_c0\\_g1\\_i1                                                                                                                                 & tr\\textbar{}Q5C2F6\\textbar{}Q5C2F6\\_SCHJA                                                                                                                     & 74.1                                                                                                                                                             &  7.2e-54                                                                                                                                                         & 95.7                                                                                                                                                             & tr\\textbar{}Q5C2F6\\textbar{}Q5C2F6\\_SCHJA SJCHGC04821 protein (Fragment) OS=Schistosoma japonicum OX=6182 PE=2 SV=2                                           & schistosoma japonicum                                                                                                                                           \\\\\n",
       "\t4266 & TRINITY\\_DN93196\\_c0\\_g1\\_i1                                                                                                                                 & tr\\textbar{}A0A5B7DXI4\\textbar{}A0A5B7DXI4\\_PORTR                                                                                                             & 75.4                                                                                                                                                             &  1.1e-46                                                                                                                                                         & 99.4                                                                                                                                                             & tr\\textbar{}A0A5B7DXI4\\textbar{}A0A5B7DXI4\\_PORTR Acetyl-coenzyme A synthetase 2-like, mitochondrial OS=Portunus trituberculatus OX=210409 GN=Acss1 PE=4 SV=1 & portunus trituberculatus                                                                                                                                        \\\\\n",
       "\t19514 & TRINITY\\_DN130836\\_c0\\_g1\\_i1                                                                                                                                  & tr\\textbar{}A0A5E4N1V6\\textbar{}A0A5E4N1V6\\_9HEMI                                                                                                               & 50.0                                                                                                                                                               &  6.5e-34                                                                                                                                                           & 63.1                                                                                                                                                               & tr\\textbar{}A0A5E4N1V6\\textbar{}A0A5E4N1V6\\_9HEMI Ribonuclease H-like domain,Transposase, type 1 OS=Cinara cedri OX=506608 GN=CINCED\\_3A001731 PE=4 SV=1       & cinara cedri                                                                                                                                                      \\\\\n",
       "\t7812 & TRINITY\\_DN40498\\_c0\\_g1\\_i1                                                                                                                 & XP\\_313581.5                                                                                                                                    & 32.4                                                                                                                                             &  1.7e-30                                                                                                                                         & 52.6                                                                                                                                             & XP\\_313581.5 AGAP004309-PA {[}Anopheles gambiae str. PEST{]}                                                                                    & anopheles gambiae str. pest                                                                                                                     \\\\\n",
       "\t11429 & TRINITY\\_DN38930\\_c0\\_g1\\_i1                                                                                                                                   & tr\\textbar{}A0A2J7RSJ6\\textbar{}A0A2J7RSJ6\\_9NEOP                                                                                                               & 41.1                                                                                                                                                               &  4.9e-22                                                                                                                                                           & 77.5                                                                                                                                                               & tr\\textbar{}A0A2J7RSJ6\\textbar{}A0A2J7RSJ6\\_9NEOP Uncharacterized protein OS=Cryptotermes secundus OX=105785 GN=B7P43\\_G07764 PE=4 SV=1                        & cryptotermes secundus                                                                                                                                             \\\\\n",
       "\t4233 & TRINITY\\_DN128233\\_c0\\_g1\\_i1                                                                                                                & XP\\_024880090.1                                                                                                                                 & 40.5                                                                                                                                             &  1.4e-18                                                                                                                                         & 88.2                                                                                                                                             & XP\\_024880090.1 uncharacterized protein LOC112459947 {[}Temnothorax curvispinosus{]}                                                            & temnothorax curvispinosus                                                                                                                       \\\\\n",
       "\t14090 & TRINITY\\_DN106649\\_c0\\_g1\\_i1                                                                                                              & UniRef90\\_A0A1X0QGH4                                                                                                                          & 56.5                                                                                                                                           &  1.3e-06                                                                                                                                       & 86.3                                                                                                                                           & UniRef90\\_A0A1X0QGH4 Uncharacterized protein n=2 Tax=Hepatospora eriocheir TaxID=1081669 RepID=A0A1X0QGH4\\_9MICR                             &                                                                                                                                               \\\\\n",
       "\t18099 & TRINITY\\_DN149509\\_c0\\_g1\\_i1                                                                                                                                & tr\\textbar{}K7EXW6\\textbar{}K7EXW6\\_PELSI                                                                                                                     & 26.5                                                                                                                                                             &  1.5e-06                                                                                                                                                         & 97.6                                                                                                                                                             & tr\\textbar{}K7EXW6\\textbar{}K7EXW6\\_PELSI Uncharacterized protein OS=Pelodiscus sinensis OX=13735 PE=4 SV=1                                                   & pelodiscus sinensis                                                                                                                                             \\\\\n",
       "\\end{tabular}\n"
      ],
      "text/markdown": [
       "\n",
       "| <!--/--> | Query.Sequence | Subject.Sequence | Percent.Identical | E.Value | Coverage | Description | Species |\n",
       "|---|---|---|---|---|---|---|---|\n",
       "| 14402 | TRINITY_DN63617_c0_g1_i1                                                                                                                   | tr|A0A224Z7V0|A0A224Z7V0_9ACAR                                                                                                             | 51.6                                                                                                                                       | 1.6e-283                                                                                                                                   | 71.0                                                                                                                                       | tr|A0A224Z7V0|A0A224Z7V0_9ACAR Tick transposon OS=Rhipicephalus zambeziensis OX=60191 PE=4 SV=1                                            | rhipicephalus zambeziensis                                                                                                                 |\n",
       "| 17461 | TRINITY_DN12072_c0_g1_i2                                                                                                                   | XP_027207344.1                                                                                                                             | 52.7                                                                                                                                       | 2.4e-250                                                                                                                                   | 51.3                                                                                                                                       | XP_027207344.1 uncharacterized protein LOC113800756 [Penaeus vannamei]                                                                     | penaeus vannamei                                                                                                                           |\n",
       "| 19483 | TRINITY_DN144418_c0_g1_i1                                                                                                                  | XP_027212670.1                                                                                                                             | 72.1                                                                                                                                       | 7.0e-221                                                                                                                                   | 93.6                                                                                                                                       | XP_027212670.1 LOW QUALITY PROTEIN: chondroitin sulfate N-acetylgalactosaminyltransferase 1-like [Penaeus vannamei]                        | penaeus vannamei                                                                                                                           |\n",
       "| 15644 | TRINITY_DN53652_c0_g1_i1                                                                                                                   | XP_027228515.1                                                                                                                             | 59.3                                                                                                                                       | 1.1e-167                                                                                                                                   | 86.9                                                                                                                                       | XP_027228515.1 aladin-like [Penaeus vannamei]                                                                                              | penaeus vannamei                                                                                                                           |\n",
       "| 8423 | TRINITY_DN5678_c0_g1_i4                                                                                                                    | XP_027232370.1                                                                                                                             | 63.5                                                                                                                                       | 1.9e-125                                                                                                                                   | 81.1                                                                                                                                       | XP_027232370.1 leucine-rich repeat-containing protein 47-like [Penaeus vannamei]                                                           | penaeus vannamei                                                                                                                           |\n",
       "| 18711 | TRINITY_DN147159_c0_g1_i1                                                                                                                  | RXG54531.1                                                                                                                                 | 43.9                                                                                                                                       | 9.7e-109                                                                                                                                   | 96.3                                                                                                                                       | RXG54531.1 FRAS1-related extracellular matrix protein 3 [Armadillidium vulgare]                                                            | armadillidium vulgare                                                                                                                      |\n",
       "| 1790 | TRINITY_DN29745_c1_g1_i1                                                                                                                   | XP_027236394.1                                                                                                                             | 48.5                                                                                                                                       |  1.0e-92                                                                                                                                   | 53.0                                                                                                                                       | XP_027236394.1 LOW QUALITY PROTEIN: BTB/POZ domain-containing protein 6-A-like [Penaeus vannamei]                                          | penaeus vannamei                                                                                                                           |\n",
       "| 2422 | TRINITY_DN10013_c0_g1_i1                                                                                                                   | XP_027226048.1                                                                                                                             | 55.8                                                                                                                                       |  3.6e-91                                                                                                                                   | 60.0                                                                                                                                       | XP_027226048.1 failed axon connections homolog [Penaeus vannamei]                                                                          | penaeus vannamei                                                                                                                           |\n",
       "| 6794 | TRINITY_DN801_c0_g1_i1                                                                                                                     | XP_027226631.1                                                                                                                             | 62.8                                                                                                                                       |  1.1e-87                                                                                                                                   | 55.6                                                                                                                                       | XP_027226631.1 poly(U)-specific endoribonuclease homolog [Penaeus vannamei]                                                                | penaeus vannamei                                                                                                                           |\n",
       "| 4349 | TRINITY_DN23772_c0_g1_i2                                                                                                                   | tr|A0A1B6LTA1|A0A1B6LTA1_9HEMI                                                                                                             | 44.1                                                                                                                                       |  7.6e-69                                                                                                                                   | 77.5                                                                                                                                       | tr|A0A1B6LTA1|A0A1B6LTA1_9HEMI Uncharacterized protein OS=Graphocephala atropunctata OX=36148 GN=g.31387 PE=3 SV=1                         | graphocephala atropunctata                                                                                                                 |\n",
       "| 5567 | TRINITY_DN22351_c0_g1_i2                                                                                                                   | XP_018012430.1                                                                                                                             | 62.4                                                                                                                                       |  1.5e-59                                                                                                                                   | 81.4                                                                                                                                       | XP_018012430.1 PREDICTED: homeobox protein unc-4 homolog [Hyalella azteca]                                                                 | hyalella azteca                                                                                                                            |\n",
       "| 3138 | TRINITY_DN98839_c0_g1_i1                                                                                                                   | tr|Q5C2F6|Q5C2F6_SCHJA                                                                                                                     | 74.1                                                                                                                                       |  7.2e-54                                                                                                                                   | 95.7                                                                                                                                       | tr|Q5C2F6|Q5C2F6_SCHJA SJCHGC04821 protein (Fragment) OS=Schistosoma japonicum OX=6182 PE=2 SV=2                                           | schistosoma japonicum                                                                                                                      |\n",
       "| 4266 | TRINITY_DN93196_c0_g1_i1                                                                                                                   | tr|A0A5B7DXI4|A0A5B7DXI4_PORTR                                                                                                             | 75.4                                                                                                                                       |  1.1e-46                                                                                                                                   | 99.4                                                                                                                                       | tr|A0A5B7DXI4|A0A5B7DXI4_PORTR Acetyl-coenzyme A synthetase 2-like, mitochondrial OS=Portunus trituberculatus OX=210409 GN=Acss1 PE=4 SV=1 | portunus trituberculatus                                                                                                                   |\n",
       "| 19514 | TRINITY_DN130836_c0_g1_i1                                                                                                                  | tr|A0A5E4N1V6|A0A5E4N1V6_9HEMI                                                                                                             | 50.0                                                                                                                                       |  6.5e-34                                                                                                                                   | 63.1                                                                                                                                       | tr|A0A5E4N1V6|A0A5E4N1V6_9HEMI Ribonuclease H-like domain,Transposase, type 1 OS=Cinara cedri OX=506608 GN=CINCED_3A001731 PE=4 SV=1       | cinara cedri                                                                                                                               |\n",
       "| 7812 | TRINITY_DN40498_c0_g1_i1                                                                                                                   | XP_313581.5                                                                                                                                | 32.4                                                                                                                                       |  1.7e-30                                                                                                                                   | 52.6                                                                                                                                       | XP_313581.5 AGAP004309-PA [Anopheles gambiae str. PEST]                                                                                    | anopheles gambiae str. pest                                                                                                                |\n",
       "| 11429 | TRINITY_DN38930_c0_g1_i1                                                                                                                   | tr|A0A2J7RSJ6|A0A2J7RSJ6_9NEOP                                                                                                             | 41.1                                                                                                                                       |  4.9e-22                                                                                                                                   | 77.5                                                                                                                                       | tr|A0A2J7RSJ6|A0A2J7RSJ6_9NEOP Uncharacterized protein OS=Cryptotermes secundus OX=105785 GN=B7P43_G07764 PE=4 SV=1                        | cryptotermes secundus                                                                                                                      |\n",
       "| 4233 | TRINITY_DN128233_c0_g1_i1                                                                                                                  | XP_024880090.1                                                                                                                             | 40.5                                                                                                                                       |  1.4e-18                                                                                                                                   | 88.2                                                                                                                                       | XP_024880090.1 uncharacterized protein LOC112459947 [Temnothorax curvispinosus]                                                            | temnothorax curvispinosus                                                                                                                  |\n",
       "| 14090 | TRINITY_DN106649_c0_g1_i1                                                                                                                  | UniRef90_A0A1X0QGH4                                                                                                                        | 56.5                                                                                                                                       |  1.3e-06                                                                                                                                   | 86.3                                                                                                                                       | UniRef90_A0A1X0QGH4 Uncharacterized protein n=2 Tax=Hepatospora eriocheir TaxID=1081669 RepID=A0A1X0QGH4_9MICR                             |                                                                                                                                            |\n",
       "| 18099 | TRINITY_DN149509_c0_g1_i1                                                                                                                  | tr|K7EXW6|K7EXW6_PELSI                                                                                                                     | 26.5                                                                                                                                       |  1.5e-06                                                                                                                                   | 97.6                                                                                                                                       | tr|K7EXW6|K7EXW6_PELSI Uncharacterized protein OS=Pelodiscus sinensis OX=13735 PE=4 SV=1                                                   | pelodiscus sinensis                                                                                                                        |\n",
       "\n"
      ],
      "text/plain": [
       "      Query.Sequence            Subject.Sequence              \n",
       "14402 TRINITY_DN63617_c0_g1_i1  tr|A0A224Z7V0|A0A224Z7V0_9ACAR\n",
       "17461 TRINITY_DN12072_c0_g1_i2  XP_027207344.1                \n",
       "19483 TRINITY_DN144418_c0_g1_i1 XP_027212670.1                \n",
       "15644 TRINITY_DN53652_c0_g1_i1  XP_027228515.1                \n",
       "8423  TRINITY_DN5678_c0_g1_i4   XP_027232370.1                \n",
       "18711 TRINITY_DN147159_c0_g1_i1 RXG54531.1                    \n",
       "1790  TRINITY_DN29745_c1_g1_i1  XP_027236394.1                \n",
       "2422  TRINITY_DN10013_c0_g1_i1  XP_027226048.1                \n",
       "6794  TRINITY_DN801_c0_g1_i1    XP_027226631.1                \n",
       "4349  TRINITY_DN23772_c0_g1_i2  tr|A0A1B6LTA1|A0A1B6LTA1_9HEMI\n",
       "5567  TRINITY_DN22351_c0_g1_i2  XP_018012430.1                \n",
       "3138  TRINITY_DN98839_c0_g1_i1  tr|Q5C2F6|Q5C2F6_SCHJA        \n",
       "4266  TRINITY_DN93196_c0_g1_i1  tr|A0A5B7DXI4|A0A5B7DXI4_PORTR\n",
       "19514 TRINITY_DN130836_c0_g1_i1 tr|A0A5E4N1V6|A0A5E4N1V6_9HEMI\n",
       "7812  TRINITY_DN40498_c0_g1_i1  XP_313581.5                   \n",
       "11429 TRINITY_DN38930_c0_g1_i1  tr|A0A2J7RSJ6|A0A2J7RSJ6_9NEOP\n",
       "4233  TRINITY_DN128233_c0_g1_i1 XP_024880090.1                \n",
       "14090 TRINITY_DN106649_c0_g1_i1 UniRef90_A0A1X0QGH4           \n",
       "18099 TRINITY_DN149509_c0_g1_i1 tr|K7EXW6|K7EXW6_PELSI        \n",
       "      Percent.Identical E.Value  Coverage\n",
       "14402 51.6              1.6e-283 71.0    \n",
       "17461 52.7              2.4e-250 51.3    \n",
       "19483 72.1              7.0e-221 93.6    \n",
       "15644 59.3              1.1e-167 86.9    \n",
       "8423  63.5              1.9e-125 81.1    \n",
       "18711 43.9              9.7e-109 96.3    \n",
       "1790  48.5               1.0e-92 53.0    \n",
       "2422  55.8               3.6e-91 60.0    \n",
       "6794  62.8               1.1e-87 55.6    \n",
       "4349  44.1               7.6e-69 77.5    \n",
       "5567  62.4               1.5e-59 81.4    \n",
       "3138  74.1               7.2e-54 95.7    \n",
       "4266  75.4               1.1e-46 99.4    \n",
       "19514 50.0               6.5e-34 63.1    \n",
       "7812  32.4               1.7e-30 52.6    \n",
       "11429 41.1               4.9e-22 77.5    \n",
       "4233  40.5               1.4e-18 88.2    \n",
       "14090 56.5               1.3e-06 86.3    \n",
       "18099 26.5               1.5e-06 97.6    \n",
       "      Description                                                                                                                               \n",
       "14402 tr|A0A224Z7V0|A0A224Z7V0_9ACAR Tick transposon OS=Rhipicephalus zambeziensis OX=60191 PE=4 SV=1                                           \n",
       "17461 XP_027207344.1 uncharacterized protein LOC113800756 [Penaeus vannamei]                                                                    \n",
       "19483 XP_027212670.1 LOW QUALITY PROTEIN: chondroitin sulfate N-acetylgalactosaminyltransferase 1-like [Penaeus vannamei]                       \n",
       "15644 XP_027228515.1 aladin-like [Penaeus vannamei]                                                                                             \n",
       "8423  XP_027232370.1 leucine-rich repeat-containing protein 47-like [Penaeus vannamei]                                                          \n",
       "18711 RXG54531.1 FRAS1-related extracellular matrix protein 3 [Armadillidium vulgare]                                                           \n",
       "1790  XP_027236394.1 LOW QUALITY PROTEIN: BTB/POZ domain-containing protein 6-A-like [Penaeus vannamei]                                         \n",
       "2422  XP_027226048.1 failed axon connections homolog [Penaeus vannamei]                                                                         \n",
       "6794  XP_027226631.1 poly(U)-specific endoribonuclease homolog [Penaeus vannamei]                                                               \n",
       "4349  tr|A0A1B6LTA1|A0A1B6LTA1_9HEMI Uncharacterized protein OS=Graphocephala atropunctata OX=36148 GN=g.31387 PE=3 SV=1                        \n",
       "5567  XP_018012430.1 PREDICTED: homeobox protein unc-4 homolog [Hyalella azteca]                                                                \n",
       "3138  tr|Q5C2F6|Q5C2F6_SCHJA SJCHGC04821 protein (Fragment) OS=Schistosoma japonicum OX=6182 PE=2 SV=2                                          \n",
       "4266  tr|A0A5B7DXI4|A0A5B7DXI4_PORTR Acetyl-coenzyme A synthetase 2-like, mitochondrial OS=Portunus trituberculatus OX=210409 GN=Acss1 PE=4 SV=1\n",
       "19514 tr|A0A5E4N1V6|A0A5E4N1V6_9HEMI Ribonuclease H-like domain,Transposase, type 1 OS=Cinara cedri OX=506608 GN=CINCED_3A001731 PE=4 SV=1      \n",
       "7812  XP_313581.5 AGAP004309-PA [Anopheles gambiae str. PEST]                                                                                   \n",
       "11429 tr|A0A2J7RSJ6|A0A2J7RSJ6_9NEOP Uncharacterized protein OS=Cryptotermes secundus OX=105785 GN=B7P43_G07764 PE=4 SV=1                       \n",
       "4233  XP_024880090.1 uncharacterized protein LOC112459947 [Temnothorax curvispinosus]                                                           \n",
       "14090 UniRef90_A0A1X0QGH4 Uncharacterized protein n=2 Tax=Hepatospora eriocheir TaxID=1081669 RepID=A0A1X0QGH4_9MICR                            \n",
       "18099 tr|K7EXW6|K7EXW6_PELSI Uncharacterized protein OS=Pelodiscus sinensis OX=13735 PE=4 SV=1                                                  \n",
       "      Species                    \n",
       "14402 rhipicephalus zambeziensis \n",
       "17461 penaeus vannamei           \n",
       "19483 penaeus vannamei           \n",
       "15644 penaeus vannamei           \n",
       "8423  penaeus vannamei           \n",
       "18711 armadillidium vulgare      \n",
       "1790  penaeus vannamei           \n",
       "2422  penaeus vannamei           \n",
       "6794  penaeus vannamei           \n",
       "4349  graphocephala atropunctata \n",
       "5567  hyalella azteca            \n",
       "3138  schistosoma japonicum      \n",
       "4266  portunus trituberculatus   \n",
       "19514 cinara cedri               \n",
       "7812  anopheles gambiae str. pest\n",
       "11429 cryptotermes secundus      \n",
       "4233  temnothorax curvispinosus  \n",
       "14090                            \n",
       "18099 pelodiscus sinensis        "
      ]
     },
     "metadata": {},
     "output_type": "display_data"
    }
   ],
   "source": [
    "idx2 <- rownames(vsd[heatmap2$tree_row[[\"order\"]],]) #get rownames of the transcripts in this cluster\n",
    "outlier_annot <- annot[annot[,1] %in% rownames(vsd[idx2,]),] #get matching annotations\n",
    "outlier_annot[order(outlier_annot[,11]),c(1,2,3,11,12,13,14)] #show results"
   ]
  },
  {
   "cell_type": "markdown",
   "metadata": {},
   "source": [
    "There doesn't seem to be anything special about these transcripts. I expected them to be contamination from some other parasite, but it seems that they actually represent crab genes (if we can trust the taxonomic assignmnet of what's in the reference databases). I will dig into this a bit more later. It is likely they reflect some other process in the crab, such as molting, both Carolyn and I previously observed in earlier rounds of this analysis...\n",
    "\n",
    "Either way, I am going to remove these outlier samples. They are contributing too much variation and will present issues when trying to fit the DESeq2 models and cause issues with count normalization. "
   ]
  },
  {
   "cell_type": "code",
   "execution_count": 199,
   "metadata": {},
   "outputs": [
    {
     "data": {
      "text/html": [
       "<table>\n",
       "<thead><tr><th></th><th scope=col>AP_C_1</th><th scope=col>AP_C_2</th><th scope=col>AP_C_3</th><th scope=col>AP_C_4</th><th scope=col>AP_C_5</th><th scope=col>AP_P_1</th></tr></thead>\n",
       "<tbody>\n",
       "\t<tr><th scope=row>TRINITY_DN38930_c0_g1_i1</th><td>71 </td><td>201</td><td>88 </td><td>108</td><td>84 </td><td>46 </td></tr>\n",
       "\t<tr><th scope=row>TRINITY_DN61353_c1_g1_i1</th><td> 0 </td><td>  5</td><td> 0 </td><td>  1</td><td> 1 </td><td> 0 </td></tr>\n",
       "\t<tr><th scope=row>TRINITY_DN130836_c0_g1_i1</th><td> 2 </td><td>  7</td><td> 0 </td><td> 14</td><td> 6 </td><td> 1 </td></tr>\n",
       "\t<tr><th scope=row>TRINITY_DN135735_c0_g1_i1</th><td> 1 </td><td>  3</td><td> 1 </td><td>  4</td><td> 3 </td><td> 0 </td></tr>\n",
       "\t<tr><th scope=row>TRINITY_DN142305_c0_g1_i1</th><td> 0 </td><td>  0</td><td> 2 </td><td>  0</td><td> 2 </td><td> 0 </td></tr>\n",
       "\t<tr><th scope=row>TRINITY_DN107975_c0_g1_i1</th><td> 0 </td><td>  0</td><td> 0 </td><td>  0</td><td> 0 </td><td> 0 </td></tr>\n",
       "</tbody>\n",
       "</table>\n"
      ],
      "text/latex": [
       "\\begin{tabular}{r|llllll}\n",
       "  & AP\\_C\\_1 & AP\\_C\\_2 & AP\\_C\\_3 & AP\\_C\\_4 & AP\\_C\\_5 & AP\\_P\\_1\\\\\n",
       "\\hline\n",
       "\tTRINITY\\_DN38930\\_c0\\_g1\\_i1 & 71  & 201 & 88  & 108 & 84  & 46 \\\\\n",
       "\tTRINITY\\_DN61353\\_c1\\_g1\\_i1 &  0  &   5 &  0  &   1 &  1  &  0 \\\\\n",
       "\tTRINITY\\_DN130836\\_c0\\_g1\\_i1 &  2  &   7 &  0  &  14 &  6  &  1 \\\\\n",
       "\tTRINITY\\_DN135735\\_c0\\_g1\\_i1 &  1  &   3 &  1  &   4 &  3  &  0 \\\\\n",
       "\tTRINITY\\_DN142305\\_c0\\_g1\\_i1 &  0  &   0 &  2  &   0 &  2  &  0 \\\\\n",
       "\tTRINITY\\_DN107975\\_c0\\_g1\\_i1 &  0  &   0 &  0  &   0 &  0  &  0 \\\\\n",
       "\\end{tabular}\n"
      ],
      "text/markdown": [
       "\n",
       "| <!--/--> | AP_C_1 | AP_C_2 | AP_C_3 | AP_C_4 | AP_C_5 | AP_P_1 |\n",
       "|---|---|---|---|---|---|---|\n",
       "| TRINITY_DN38930_c0_g1_i1 | 71  | 201 | 88  | 108 | 84  | 46  |\n",
       "| TRINITY_DN61353_c1_g1_i1 |  0  |   5 |  0  |   1 |  1  |  0  |\n",
       "| TRINITY_DN130836_c0_g1_i1 |  2  |   7 |  0  |  14 |  6  |  1  |\n",
       "| TRINITY_DN135735_c0_g1_i1 |  1  |   3 |  1  |   4 |  3  |  0  |\n",
       "| TRINITY_DN142305_c0_g1_i1 |  0  |   0 |  2  |   0 |  2  |  0  |\n",
       "| TRINITY_DN107975_c0_g1_i1 |  0  |   0 |  0  |   0 |  0  |  0  |\n",
       "\n"
      ],
      "text/plain": [
       "                          AP_C_1 AP_C_2 AP_C_3 AP_C_4 AP_C_5 AP_P_1\n",
       "TRINITY_DN38930_c0_g1_i1  71     201    88     108    84     46    \n",
       "TRINITY_DN61353_c1_g1_i1   0       5     0       1     1      0    \n",
       "TRINITY_DN130836_c0_g1_i1  2       7     0      14     6      1    \n",
       "TRINITY_DN135735_c0_g1_i1  1       3     1       4     3      0    \n",
       "TRINITY_DN142305_c0_g1_i1  0       0     2       0     2      0    \n",
       "TRINITY_DN107975_c0_g1_i1  0       0     0       0     0      0    "
      ]
     },
     "metadata": {},
     "output_type": "display_data"
    },
    {
     "data": {
      "text/html": [
       "<ol class=list-inline>\n",
       "\t<li>149511</li>\n",
       "\t<li>77</li>\n",
       "</ol>\n"
      ],
      "text/latex": [
       "\\begin{enumerate*}\n",
       "\\item 149511\n",
       "\\item 77\n",
       "\\end{enumerate*}\n"
      ],
      "text/markdown": [
       "1. 149511\n",
       "2. 77\n",
       "\n",
       "\n"
      ],
      "text/plain": [
       "[1] 149511     77"
      ]
     },
     "metadata": {},
     "output_type": "display_data"
    }
   ],
   "source": [
    "all_counts <- all_counts[,!(colnames(all_counts) %in% c(\"MA_C_1\",\"MA_C_2\",\"MA_C_4\",\"AP_C_6\"))]\n",
    "all_counts[1:6,1:6]\n",
    "dim(all_counts)"
   ]
  },
  {
   "cell_type": "markdown",
   "metadata": {},
   "source": [
    "Okay now you can see the four of them were removed. Now make sure the coldata matches."
   ]
  },
  {
   "cell_type": "code",
   "execution_count": 200,
   "metadata": {},
   "outputs": [
    {
     "data": {
      "text/html": [
       "TRUE"
      ],
      "text/latex": [
       "TRUE"
      ],
      "text/markdown": [
       "TRUE"
      ],
      "text/plain": [
       "[1] TRUE"
      ]
     },
     "metadata": {},
     "output_type": "display_data"
    }
   ],
   "source": [
    "coldata <- coldata[colnames(all_counts),]\n",
    "all(rownames(coldata) == colnames(all_counts))"
   ]
  },
  {
   "cell_type": "markdown",
   "metadata": {},
   "source": [
    "Okay good let's make another dds object."
   ]
  },
  {
   "cell_type": "code",
   "execution_count": 201,
   "metadata": {},
   "outputs": [
    {
     "name": "stderr",
     "output_type": "stream",
     "text": [
      "converting counts to integer mode\n",
      "factor levels were dropped which had no samples\n"
     ]
    }
   ],
   "source": [
    "dds <- DESeqDataSetFromMatrix(countData = all_counts, colData = coldata, design = ~ condition)"
   ]
  },
  {
   "cell_type": "code",
   "execution_count": 202,
   "metadata": {},
   "outputs": [
    {
     "name": "stderr",
     "output_type": "stream",
     "text": [
      "estimating size factors\n",
      "estimating dispersions\n",
      "gene-wise dispersion estimates\n",
      "mean-dispersion relationship\n",
      "-- note: fitType='parametric', but the dispersion trend was not well captured by the\n",
      "   function: y = a/x + b, and a local regression fit was automatically substituted.\n",
      "   specify fitType='local' or 'mean' to avoid this message next time.\n",
      "final dispersion estimates\n",
      "fitting model and testing\n",
      "-- replacing outliers and refitting for 11126 genes\n",
      "-- DESeq argument 'minReplicatesForReplace' = 7 \n",
      "-- original counts are preserved in counts(dds)\n",
      "estimating dispersions\n",
      "fitting model and testing\n"
     ]
    }
   ],
   "source": [
    "dds <- DESeq(dds)"
   ]
  },
  {
   "cell_type": "code",
   "execution_count": 204,
   "metadata": {},
   "outputs": [
    {
     "name": "stdout",
     "output_type": "stream",
     "text": [
      "\n",
      "out of 146149 with nonzero total read count\n",
      "adjusted p-value < 0.05\n",
      "LFC > 0 (up)       : 1328, 0.91%\n",
      "LFC < 0 (down)     : 1132, 0.77%\n",
      "outliers [1]       : 0, 0%\n",
      "low counts [2]     : 43058, 29%\n",
      "(mean count < 1)\n",
      "[1] see 'cooksCutoff' argument of ?results\n",
      "[2] see 'independentFiltering' argument of ?results\n",
      "\n"
     ]
    }
   ],
   "source": [
    "res <- results(dds, alpha=0.05)\n",
    "summary(res)"
   ]
  },
  {
   "cell_type": "markdown",
   "metadata": {},
   "source": [
    "Here we see that there are 1328 transcripts deemed significantly upregulated in parasitized crabs, and 1132 significantly downregulated. \n",
    "\n",
    "As mentioned earlier, it is my suspicion that some of these upregulated transcripts are contamination from Loxo. Let's have a look."
   ]
  },
  {
   "cell_type": "code",
   "execution_count": 205,
   "metadata": {},
   "outputs": [
    {
     "name": "stderr",
     "output_type": "stream",
     "text": [
      "using 'apeglm' for LFC shrinkage. If used in published research, please cite:\n",
      "    Zhu, A., Ibrahim, J.G., Love, M.I. (2018) Heavy-tailed prior distributions for\n",
      "    sequence count data: removing the noise and preserving large differences.\n",
      "    Bioinformatics. https://doi.org/10.1093/bioinformatics/bty895\n"
     ]
    }
   ],
   "source": [
    "resLFC <- lfcShrink(dds, coef=\"condition_P_vs_C\", type=\"apeglm\")"
   ]
  },
  {
   "cell_type": "code",
   "execution_count": 206,
   "metadata": {},
   "outputs": [
    {
     "data": {
      "image/png": "[encoded data removed]",
      "text/plain": [
       "Plot with title “”"
      ]
     },
     "metadata": {},
     "output_type": "display_data"
    }
   ],
   "source": [
    "plotMA(resLFC, ylim=c(-13,13))"
   ]
  },
  {
   "cell_type": "markdown",
   "metadata": {},
   "source": [
    "Here we see the pattern I have alluded to, where there is a cloud of extremely overexpressed (>10 LFC) in the infected relative to the control. It is my suspicion that these represent contamination from Loxo rather than an actually response by the crabs. \n",
    "\n",
    "Let's see if these match the transcript IDs we pulled out earlier as possible Loxo contaminant transcripts. \n",
    "\n",
    "First let's make an ordered data.frame of the significant transcripts."
   ]
  },
  {
   "cell_type": "code",
   "execution_count": 214,
   "metadata": {},
   "outputs": [
    {
     "data": {
      "text/html": [
       "<table>\n",
       "<thead><tr><th></th><th scope=col>baseMean</th><th scope=col>log2FoldChange</th><th scope=col>lfcSE</th><th scope=col>stat</th><th scope=col>pvalue</th><th scope=col>padj</th></tr></thead>\n",
       "<tbody>\n",
       "\t<tr><th scope=row>TRINITY_DN85899_c0_g1_i1</th><td> 1520.9840   </td><td>12.34382     </td><td>0.4676799    </td><td>26.39374     </td><td>1.616898e-153</td><td>2.395272e-150</td></tr>\n",
       "\t<tr><th scope=row>TRINITY_DN98899_c0_g1_i1</th><td> 1240.7721   </td><td>12.32642     </td><td>0.4018960    </td><td>30.67066     </td><td>1.401515e-206</td><td>8.074131e-203</td></tr>\n",
       "\t<tr><th scope=row>TRINITY_DN80409_c0_g1_i1</th><td>12481.4717   </td><td>12.28205     </td><td>0.3924896    </td><td>31.29268     </td><td>5.869259e-215</td><td>4.681773e-211</td></tr>\n",
       "\t<tr><th scope=row>TRINITY_DN74741_c0_g1_i1</th><td>  648.6235   </td><td>12.22559     </td><td>0.5088851    </td><td>24.02426     </td><td>1.551367e-127</td><td>1.489571e-124</td></tr>\n",
       "\t<tr><th scope=row>TRINITY_DN19987_c0_g1_i1</th><td>39911.4587   </td><td>12.19625     </td><td>0.3401189    </td><td>35.85879     </td><td>1.341673e-281</td><td>6.956440e-277</td></tr>\n",
       "\t<tr><th scope=row>TRINITY_DN135642_c0_g1_i1</th><td> 1873.8899   </td><td>12.19093     </td><td>0.5637127    </td><td>21.62613     </td><td>1.019819e-103</td><td>9.038731e-101</td></tr>\n",
       "\t<tr><th scope=row>TRINITY_DN134734_c0_g1_i1</th><td>  909.5380   </td><td>12.18094     </td><td>0.4792203    </td><td>25.41824     </td><td>1.585434e-142</td><td>1.868253e-139</td></tr>\n",
       "\t<tr><th scope=row>TRINITY_DN50085_c0_g1_i1</th><td> 7704.0330   </td><td>12.15918     </td><td>0.4173643    </td><td>29.13325     </td><td>1.361819e-186</td><td>3.922720e-183</td></tr>\n",
       "\t<tr><th scope=row>TRINITY_DN60860_c0_g1_i1</th><td> 2336.7614   </td><td>12.14937     </td><td>0.4411119    </td><td>27.54260     </td><td>5.427078e-167</td><td>1.042180e-163</td></tr>\n",
       "\t<tr><th scope=row>TRINITY_DN50011_c0_g1_i1</th><td>24641.8060   </td><td>12.11206     </td><td>0.4066842    </td><td>29.78246     </td><td>6.591459e-195</td><td>2.531560e-191</td></tr>\n",
       "\t<tr><th scope=row>TRINITY_DN86249_c0_g1_i1</th><td> 1727.2196   </td><td>12.10395     </td><td>0.5214049    </td><td>23.21411     </td><td>3.280096e-119</td><td>3.036959e-116</td></tr>\n",
       "\t<tr><th scope=row>TRINITY_DN132183_c0_g1_i1</th><td>  807.4986   </td><td>12.08019     </td><td>0.4359683    </td><td>27.70886     </td><td>5.460583e-169</td><td>1.110297e-165</td></tr>\n",
       "\t<tr><th scope=row>TRINITY_DN141230_c0_g1_i1</th><td> 2424.2154   </td><td>11.99373     </td><td>0.4932856    </td><td>24.31398     </td><td>1.394892e-130</td><td>1.432153e-127</td></tr>\n",
       "\t<tr><th scope=row>TRINITY_DN57720_c0_g1_i1</th><td> 1575.0424   </td><td>11.97588     </td><td>0.4585896    </td><td>26.11460     </td><td>2.489137e-150</td><td>3.352189e-147</td></tr>\n",
       "\t<tr><th scope=row>TRINITY_DN80491_c0_g1_i1</th><td> 9894.8925   </td><td>11.96564     </td><td>0.3895064    </td><td>30.72000     </td><td>3.077492e-207</td><td>1.994561e-203</td></tr>\n",
       "\t<tr><th scope=row>TRINITY_DN157863_c0_g1_i1</th><td> 1997.6542   </td><td>11.95381     </td><td>0.4529007    </td><td>26.39388     </td><td>1.610641e-153</td><td>2.395272e-150</td></tr>\n",
       "\t<tr><th scope=row>TRINITY_DN43818_c0_g1_i1</th><td> 5106.7595   </td><td>11.95260     </td><td>0.3937887    </td><td>30.35282     </td><td>2.306373e-202</td><td>9.965261e-199</td></tr>\n",
       "\t<tr><th scope=row>TRINITY_DN60091_c0_g1_i1</th><td> 1669.1172   </td><td>11.94993     </td><td>0.4928187    </td><td>24.24812     </td><td>6.921422e-130</td><td>7.036643e-127</td></tr>\n",
       "\t<tr><th scope=row>TRINITY_DN74222_c0_g1_i1</th><td>  984.9708   </td><td>11.94644     </td><td>0.4585945    </td><td>26.05011     </td><td>1.341644e-149</td><td>1.783665e-146</td></tr>\n",
       "\t<tr><th scope=row>TRINITY_DN82676_c0_g1_i1</th><td>  833.7190   </td><td>11.94128     </td><td>0.4157965    </td><td>28.71905     </td><td>2.206650e-181</td><td>5.720631e-178</td></tr>\n",
       "\t<tr><th scope=row>TRINITY_DN103032_c0_g1_i1</th><td> 2540.6136   </td><td>11.93972     </td><td>0.4043546    </td><td>29.52785     </td><td>1.264276e-191</td><td>4.096964e-188</td></tr>\n",
       "\t<tr><th scope=row>TRINITY_DN107172_c0_g1_i1</th><td> 1423.6732   </td><td>11.92400     </td><td>0.4450157    </td><td>26.79455     </td><td>3.739819e-158</td><td>5.788235e-155</td></tr>\n",
       "\t<tr><th scope=row>TRINITY_DN88205_c0_g1_i1</th><td>  867.1714   </td><td>11.91235     </td><td>0.4060153    </td><td>29.33965     </td><td>3.238906e-189</td><td>9.878474e-186</td></tr>\n",
       "\t<tr><th scope=row>TRINITY_DN91413_c0_g1_i1</th><td> 1005.6340   </td><td>11.90305     </td><td>0.4066880    </td><td>29.26826     </td><td>2.630426e-188</td><td>7.793427e-185</td></tr>\n",
       "\t<tr><th scope=row>TRINITY_DN114680_c0_g1_i1</th><td> 6259.3479   </td><td>11.89640     </td><td>0.4701761    </td><td>25.30201     </td><td>3.035588e-141</td><td>3.459170e-138</td></tr>\n",
       "\t<tr><th scope=row>TRINITY_DN81798_c0_g1_i1</th><td> 4201.3689   </td><td>11.89600     </td><td>0.5602068    </td><td>21.23502     </td><td>4.534593e-100</td><td> 3.951498e-97</td></tr>\n",
       "\t<tr><th scope=row>TRINITY_DN86547_c0_g1_i1</th><td> 4529.9920   </td><td>11.88576     </td><td>0.3638377    </td><td>32.66774     </td><td>4.486609e-234</td><td>6.646462e-230</td></tr>\n",
       "\t<tr><th scope=row>TRINITY_DN57851_c0_g1_i1</th><td> 3206.3951   </td><td>11.87025     </td><td>0.3900436    </td><td>30.43315     </td><td>2.002102e-203</td><td>1.092705e-199</td></tr>\n",
       "\t<tr><th scope=row>TRINITY_DN151054_c0_g1_i1</th><td>  558.7998   </td><td>11.86861     </td><td>0.4222258    </td><td>28.10963     </td><td>7.470890e-174</td><td>1.721592e-170</td></tr>\n",
       "\t<tr><th scope=row>TRINITY_DN142548_c0_g1_i1</th><td> 2235.1301   </td><td>11.86529     </td><td>0.4648382    </td><td>25.52563     </td><td>1.023993e-143</td><td>1.220529e-140</td></tr>\n",
       "</tbody>\n",
       "</table>\n"
      ],
      "text/latex": [
       "\\begin{tabular}{r|llllll}\n",
       "  & baseMean & log2FoldChange & lfcSE & stat & pvalue & padj\\\\\n",
       "\\hline\n",
       "\tTRINITY\\_DN85899\\_c0\\_g1\\_i1 &  1520.9840    & 12.34382      & 0.4676799     & 26.39374      & 1.616898e-153 & 2.395272e-150\\\\\n",
       "\tTRINITY\\_DN98899\\_c0\\_g1\\_i1 &  1240.7721    & 12.32642      & 0.4018960     & 30.67066      & 1.401515e-206 & 8.074131e-203\\\\\n",
       "\tTRINITY\\_DN80409\\_c0\\_g1\\_i1 & 12481.4717    & 12.28205      & 0.3924896     & 31.29268      & 5.869259e-215 & 4.681773e-211\\\\\n",
       "\tTRINITY\\_DN74741\\_c0\\_g1\\_i1 &   648.6235    & 12.22559      & 0.5088851     & 24.02426      & 1.551367e-127 & 1.489571e-124\\\\\n",
       "\tTRINITY\\_DN19987\\_c0\\_g1\\_i1 & 39911.4587    & 12.19625      & 0.3401189     & 35.85879      & 1.341673e-281 & 6.956440e-277\\\\\n",
       "\tTRINITY\\_DN135642\\_c0\\_g1\\_i1 &  1873.8899    & 12.19093      & 0.5637127     & 21.62613      & 1.019819e-103 & 9.038731e-101\\\\\n",
       "\tTRINITY\\_DN134734\\_c0\\_g1\\_i1 &   909.5380    & 12.18094      & 0.4792203     & 25.41824      & 1.585434e-142 & 1.868253e-139\\\\\n",
       "\tTRINITY\\_DN50085\\_c0\\_g1\\_i1 &  7704.0330    & 12.15918      & 0.4173643     & 29.13325      & 1.361819e-186 & 3.922720e-183\\\\\n",
       "\tTRINITY\\_DN60860\\_c0\\_g1\\_i1 &  2336.7614    & 12.14937      & 0.4411119     & 27.54260      & 5.427078e-167 & 1.042180e-163\\\\\n",
       "\tTRINITY\\_DN50011\\_c0\\_g1\\_i1 & 24641.8060    & 12.11206      & 0.4066842     & 29.78246      & 6.591459e-195 & 2.531560e-191\\\\\n",
       "\tTRINITY\\_DN86249\\_c0\\_g1\\_i1 &  1727.2196    & 12.10395      & 0.5214049     & 23.21411      & 3.280096e-119 & 3.036959e-116\\\\\n",
       "\tTRINITY\\_DN132183\\_c0\\_g1\\_i1 &   807.4986    & 12.08019      & 0.4359683     & 27.70886      & 5.460583e-169 & 1.110297e-165\\\\\n",
       "\tTRINITY\\_DN141230\\_c0\\_g1\\_i1 &  2424.2154    & 11.99373      & 0.4932856     & 24.31398      & 1.394892e-130 & 1.432153e-127\\\\\n",
       "\tTRINITY\\_DN57720\\_c0\\_g1\\_i1 &  1575.0424    & 11.97588      & 0.4585896     & 26.11460      & 2.489137e-150 & 3.352189e-147\\\\\n",
       "\tTRINITY\\_DN80491\\_c0\\_g1\\_i1 &  9894.8925    & 11.96564      & 0.3895064     & 30.72000      & 3.077492e-207 & 1.994561e-203\\\\\n",
       "\tTRINITY\\_DN157863\\_c0\\_g1\\_i1 &  1997.6542    & 11.95381      & 0.4529007     & 26.39388      & 1.610641e-153 & 2.395272e-150\\\\\n",
       "\tTRINITY\\_DN43818\\_c0\\_g1\\_i1 &  5106.7595    & 11.95260      & 0.3937887     & 30.35282      & 2.306373e-202 & 9.965261e-199\\\\\n",
       "\tTRINITY\\_DN60091\\_c0\\_g1\\_i1 &  1669.1172    & 11.94993      & 0.4928187     & 24.24812      & 6.921422e-130 & 7.036643e-127\\\\\n",
       "\tTRINITY\\_DN74222\\_c0\\_g1\\_i1 &   984.9708    & 11.94644      & 0.4585945     & 26.05011      & 1.341644e-149 & 1.783665e-146\\\\\n",
       "\tTRINITY\\_DN82676\\_c0\\_g1\\_i1 &   833.7190    & 11.94128      & 0.4157965     & 28.71905      & 2.206650e-181 & 5.720631e-178\\\\\n",
       "\tTRINITY\\_DN103032\\_c0\\_g1\\_i1 &  2540.6136    & 11.93972      & 0.4043546     & 29.52785      & 1.264276e-191 & 4.096964e-188\\\\\n",
       "\tTRINITY\\_DN107172\\_c0\\_g1\\_i1 &  1423.6732    & 11.92400      & 0.4450157     & 26.79455      & 3.739819e-158 & 5.788235e-155\\\\\n",
       "\tTRINITY\\_DN88205\\_c0\\_g1\\_i1 &   867.1714    & 11.91235      & 0.4060153     & 29.33965      & 3.238906e-189 & 9.878474e-186\\\\\n",
       "\tTRINITY\\_DN91413\\_c0\\_g1\\_i1 &  1005.6340    & 11.90305      & 0.4066880     & 29.26826      & 2.630426e-188 & 7.793427e-185\\\\\n",
       "\tTRINITY\\_DN114680\\_c0\\_g1\\_i1 &  6259.3479    & 11.89640      & 0.4701761     & 25.30201      & 3.035588e-141 & 3.459170e-138\\\\\n",
       "\tTRINITY\\_DN81798\\_c0\\_g1\\_i1 &  4201.3689    & 11.89600      & 0.5602068     & 21.23502      & 4.534593e-100 &  3.951498e-97\\\\\n",
       "\tTRINITY\\_DN86547\\_c0\\_g1\\_i1 &  4529.9920    & 11.88576      & 0.3638377     & 32.66774      & 4.486609e-234 & 6.646462e-230\\\\\n",
       "\tTRINITY\\_DN57851\\_c0\\_g1\\_i1 &  3206.3951    & 11.87025      & 0.3900436     & 30.43315      & 2.002102e-203 & 1.092705e-199\\\\\n",
       "\tTRINITY\\_DN151054\\_c0\\_g1\\_i1 &   558.7998    & 11.86861      & 0.4222258     & 28.10963      & 7.470890e-174 & 1.721592e-170\\\\\n",
       "\tTRINITY\\_DN142548\\_c0\\_g1\\_i1 &  2235.1301    & 11.86529      & 0.4648382     & 25.52563      & 1.023993e-143 & 1.220529e-140\\\\\n",
       "\\end{tabular}\n"
      ],
      "text/markdown": [
       "\n",
       "| <!--/--> | baseMean | log2FoldChange | lfcSE | stat | pvalue | padj |\n",
       "|---|---|---|---|---|---|---|\n",
       "| TRINITY_DN85899_c0_g1_i1 |  1520.9840    | 12.34382      | 0.4676799     | 26.39374      | 1.616898e-153 | 2.395272e-150 |\n",
       "| TRINITY_DN98899_c0_g1_i1 |  1240.7721    | 12.32642      | 0.4018960     | 30.67066      | 1.401515e-206 | 8.074131e-203 |\n",
       "| TRINITY_DN80409_c0_g1_i1 | 12481.4717    | 12.28205      | 0.3924896     | 31.29268      | 5.869259e-215 | 4.681773e-211 |\n",
       "| TRINITY_DN74741_c0_g1_i1 |   648.6235    | 12.22559      | 0.5088851     | 24.02426      | 1.551367e-127 | 1.489571e-124 |\n",
       "| TRINITY_DN19987_c0_g1_i1 | 39911.4587    | 12.19625      | 0.3401189     | 35.85879      | 1.341673e-281 | 6.956440e-277 |\n",
       "| TRINITY_DN135642_c0_g1_i1 |  1873.8899    | 12.19093      | 0.5637127     | 21.62613      | 1.019819e-103 | 9.038731e-101 |\n",
       "| TRINITY_DN134734_c0_g1_i1 |   909.5380    | 12.18094      | 0.4792203     | 25.41824      | 1.585434e-142 | 1.868253e-139 |\n",
       "| TRINITY_DN50085_c0_g1_i1 |  7704.0330    | 12.15918      | 0.4173643     | 29.13325      | 1.361819e-186 | 3.922720e-183 |\n",
       "| TRINITY_DN60860_c0_g1_i1 |  2336.7614    | 12.14937      | 0.4411119     | 27.54260      | 5.427078e-167 | 1.042180e-163 |\n",
       "| TRINITY_DN50011_c0_g1_i1 | 24641.8060    | 12.11206      | 0.4066842     | 29.78246      | 6.591459e-195 | 2.531560e-191 |\n",
       "| TRINITY_DN86249_c0_g1_i1 |  1727.2196    | 12.10395      | 0.5214049     | 23.21411      | 3.280096e-119 | 3.036959e-116 |\n",
       "| TRINITY_DN132183_c0_g1_i1 |   807.4986    | 12.08019      | 0.4359683     | 27.70886      | 5.460583e-169 | 1.110297e-165 |\n",
       "| TRINITY_DN141230_c0_g1_i1 |  2424.2154    | 11.99373      | 0.4932856     | 24.31398      | 1.394892e-130 | 1.432153e-127 |\n",
       "| TRINITY_DN57720_c0_g1_i1 |  1575.0424    | 11.97588      | 0.4585896     | 26.11460      | 2.489137e-150 | 3.352189e-147 |\n",
       "| TRINITY_DN80491_c0_g1_i1 |  9894.8925    | 11.96564      | 0.3895064     | 30.72000      | 3.077492e-207 | 1.994561e-203 |\n",
       "| TRINITY_DN157863_c0_g1_i1 |  1997.6542    | 11.95381      | 0.4529007     | 26.39388      | 1.610641e-153 | 2.395272e-150 |\n",
       "| TRINITY_DN43818_c0_g1_i1 |  5106.7595    | 11.95260      | 0.3937887     | 30.35282      | 2.306373e-202 | 9.965261e-199 |\n",
       "| TRINITY_DN60091_c0_g1_i1 |  1669.1172    | 11.94993      | 0.4928187     | 24.24812      | 6.921422e-130 | 7.036643e-127 |\n",
       "| TRINITY_DN74222_c0_g1_i1 |   984.9708    | 11.94644      | 0.4585945     | 26.05011      | 1.341644e-149 | 1.783665e-146 |\n",
       "| TRINITY_DN82676_c0_g1_i1 |   833.7190    | 11.94128      | 0.4157965     | 28.71905      | 2.206650e-181 | 5.720631e-178 |\n",
       "| TRINITY_DN103032_c0_g1_i1 |  2540.6136    | 11.93972      | 0.4043546     | 29.52785      | 1.264276e-191 | 4.096964e-188 |\n",
       "| TRINITY_DN107172_c0_g1_i1 |  1423.6732    | 11.92400      | 0.4450157     | 26.79455      | 3.739819e-158 | 5.788235e-155 |\n",
       "| TRINITY_DN88205_c0_g1_i1 |   867.1714    | 11.91235      | 0.4060153     | 29.33965      | 3.238906e-189 | 9.878474e-186 |\n",
       "| TRINITY_DN91413_c0_g1_i1 |  1005.6340    | 11.90305      | 0.4066880     | 29.26826      | 2.630426e-188 | 7.793427e-185 |\n",
       "| TRINITY_DN114680_c0_g1_i1 |  6259.3479    | 11.89640      | 0.4701761     | 25.30201      | 3.035588e-141 | 3.459170e-138 |\n",
       "| TRINITY_DN81798_c0_g1_i1 |  4201.3689    | 11.89600      | 0.5602068     | 21.23502      | 4.534593e-100 |  3.951498e-97 |\n",
       "| TRINITY_DN86547_c0_g1_i1 |  4529.9920    | 11.88576      | 0.3638377     | 32.66774      | 4.486609e-234 | 6.646462e-230 |\n",
       "| TRINITY_DN57851_c0_g1_i1 |  3206.3951    | 11.87025      | 0.3900436     | 30.43315      | 2.002102e-203 | 1.092705e-199 |\n",
       "| TRINITY_DN151054_c0_g1_i1 |   558.7998    | 11.86861      | 0.4222258     | 28.10963      | 7.470890e-174 | 1.721592e-170 |\n",
       "| TRINITY_DN142548_c0_g1_i1 |  2235.1301    | 11.86529      | 0.4648382     | 25.52563      | 1.023993e-143 | 1.220529e-140 |\n",
       "\n"
      ],
      "text/plain": [
       "                          baseMean   log2FoldChange lfcSE     stat    \n",
       "TRINITY_DN85899_c0_g1_i1   1520.9840 12.34382       0.4676799 26.39374\n",
       "TRINITY_DN98899_c0_g1_i1   1240.7721 12.32642       0.4018960 30.67066\n",
       "TRINITY_DN80409_c0_g1_i1  12481.4717 12.28205       0.3924896 31.29268\n",
       "TRINITY_DN74741_c0_g1_i1    648.6235 12.22559       0.5088851 24.02426\n",
       "TRINITY_DN19987_c0_g1_i1  39911.4587 12.19625       0.3401189 35.85879\n",
       "TRINITY_DN135642_c0_g1_i1  1873.8899 12.19093       0.5637127 21.62613\n",
       "TRINITY_DN134734_c0_g1_i1   909.5380 12.18094       0.4792203 25.41824\n",
       "TRINITY_DN50085_c0_g1_i1   7704.0330 12.15918       0.4173643 29.13325\n",
       "TRINITY_DN60860_c0_g1_i1   2336.7614 12.14937       0.4411119 27.54260\n",
       "TRINITY_DN50011_c0_g1_i1  24641.8060 12.11206       0.4066842 29.78246\n",
       "TRINITY_DN86249_c0_g1_i1   1727.2196 12.10395       0.5214049 23.21411\n",
       "TRINITY_DN132183_c0_g1_i1   807.4986 12.08019       0.4359683 27.70886\n",
       "TRINITY_DN141230_c0_g1_i1  2424.2154 11.99373       0.4932856 24.31398\n",
       "TRINITY_DN57720_c0_g1_i1   1575.0424 11.97588       0.4585896 26.11460\n",
       "TRINITY_DN80491_c0_g1_i1   9894.8925 11.96564       0.3895064 30.72000\n",
       "TRINITY_DN157863_c0_g1_i1  1997.6542 11.95381       0.4529007 26.39388\n",
       "TRINITY_DN43818_c0_g1_i1   5106.7595 11.95260       0.3937887 30.35282\n",
       "TRINITY_DN60091_c0_g1_i1   1669.1172 11.94993       0.4928187 24.24812\n",
       "TRINITY_DN74222_c0_g1_i1    984.9708 11.94644       0.4585945 26.05011\n",
       "TRINITY_DN82676_c0_g1_i1    833.7190 11.94128       0.4157965 28.71905\n",
       "TRINITY_DN103032_c0_g1_i1  2540.6136 11.93972       0.4043546 29.52785\n",
       "TRINITY_DN107172_c0_g1_i1  1423.6732 11.92400       0.4450157 26.79455\n",
       "TRINITY_DN88205_c0_g1_i1    867.1714 11.91235       0.4060153 29.33965\n",
       "TRINITY_DN91413_c0_g1_i1   1005.6340 11.90305       0.4066880 29.26826\n",
       "TRINITY_DN114680_c0_g1_i1  6259.3479 11.89640       0.4701761 25.30201\n",
       "TRINITY_DN81798_c0_g1_i1   4201.3689 11.89600       0.5602068 21.23502\n",
       "TRINITY_DN86547_c0_g1_i1   4529.9920 11.88576       0.3638377 32.66774\n",
       "TRINITY_DN57851_c0_g1_i1   3206.3951 11.87025       0.3900436 30.43315\n",
       "TRINITY_DN151054_c0_g1_i1   558.7998 11.86861       0.4222258 28.10963\n",
       "TRINITY_DN142548_c0_g1_i1  2235.1301 11.86529       0.4648382 25.52563\n",
       "                          pvalue        padj         \n",
       "TRINITY_DN85899_c0_g1_i1  1.616898e-153 2.395272e-150\n",
       "TRINITY_DN98899_c0_g1_i1  1.401515e-206 8.074131e-203\n",
       "TRINITY_DN80409_c0_g1_i1  5.869259e-215 4.681773e-211\n",
       "TRINITY_DN74741_c0_g1_i1  1.551367e-127 1.489571e-124\n",
       "TRINITY_DN19987_c0_g1_i1  1.341673e-281 6.956440e-277\n",
       "TRINITY_DN135642_c0_g1_i1 1.019819e-103 9.038731e-101\n",
       "TRINITY_DN134734_c0_g1_i1 1.585434e-142 1.868253e-139\n",
       "TRINITY_DN50085_c0_g1_i1  1.361819e-186 3.922720e-183\n",
       "TRINITY_DN60860_c0_g1_i1  5.427078e-167 1.042180e-163\n",
       "TRINITY_DN50011_c0_g1_i1  6.591459e-195 2.531560e-191\n",
       "TRINITY_DN86249_c0_g1_i1  3.280096e-119 3.036959e-116\n",
       "TRINITY_DN132183_c0_g1_i1 5.460583e-169 1.110297e-165\n",
       "TRINITY_DN141230_c0_g1_i1 1.394892e-130 1.432153e-127\n",
       "TRINITY_DN57720_c0_g1_i1  2.489137e-150 3.352189e-147\n",
       "TRINITY_DN80491_c0_g1_i1  3.077492e-207 1.994561e-203\n",
       "TRINITY_DN157863_c0_g1_i1 1.610641e-153 2.395272e-150\n",
       "TRINITY_DN43818_c0_g1_i1  2.306373e-202 9.965261e-199\n",
       "TRINITY_DN60091_c0_g1_i1  6.921422e-130 7.036643e-127\n",
       "TRINITY_DN74222_c0_g1_i1  1.341644e-149 1.783665e-146\n",
       "TRINITY_DN82676_c0_g1_i1  2.206650e-181 5.720631e-178\n",
       "TRINITY_DN103032_c0_g1_i1 1.264276e-191 4.096964e-188\n",
       "TRINITY_DN107172_c0_g1_i1 3.739819e-158 5.788235e-155\n",
       "TRINITY_DN88205_c0_g1_i1  3.238906e-189 9.878474e-186\n",
       "TRINITY_DN91413_c0_g1_i1  2.630426e-188 7.793427e-185\n",
       "TRINITY_DN114680_c0_g1_i1 3.035588e-141 3.459170e-138\n",
       "TRINITY_DN81798_c0_g1_i1  4.534593e-100  3.951498e-97\n",
       "TRINITY_DN86547_c0_g1_i1  4.486609e-234 6.646462e-230\n",
       "TRINITY_DN57851_c0_g1_i1  2.002102e-203 1.092705e-199\n",
       "TRINITY_DN151054_c0_g1_i1 7.470890e-174 1.721592e-170\n",
       "TRINITY_DN142548_c0_g1_i1 1.023993e-143 1.220529e-140"
      ]
     },
     "metadata": {},
     "output_type": "display_data"
    },
    {
     "data": {
      "text/html": [
       "<table>\n",
       "<thead><tr><th></th><th scope=col>baseMean</th><th scope=col>log2FoldChange</th><th scope=col>lfcSE</th><th scope=col>stat</th><th scope=col>pvalue</th><th scope=col>padj</th></tr></thead>\n",
       "<tbody>\n",
       "\t<tr><th scope=row>TRINITY_DN35786_c0_g1_i1</th><td>  7.853278  </td><td>-6.528988   </td><td>1.5674723   </td><td>-4.165297   </td><td>3.109470e-05</td><td>3.362313e-03</td></tr>\n",
       "\t<tr><th scope=row>TRINITY_DN16990_c0_g1_i1</th><td> 23.339755  </td><td>-6.857153   </td><td>1.1158458   </td><td>-6.145252   </td><td>7.983686e-10</td><td>3.077666e-07</td></tr>\n",
       "\t<tr><th scope=row>TRINITY_DN1835_c0_g1_i2</th><td> 63.702057  </td><td>-6.907201   </td><td>1.3030163   </td><td>-5.300932   </td><td>1.152127e-07</td><td>2.865067e-05</td></tr>\n",
       "\t<tr><th scope=row>TRINITY_DN146456_c0_g1_i1</th><td> 13.241038  </td><td>-6.988593   </td><td>1.4950995   </td><td>-4.674333   </td><td>2.949108e-06</td><td>4.900907e-04</td></tr>\n",
       "\t<tr><th scope=row>TRINITY_DN4309_c0_g1_i2</th><td>227.364696  </td><td>-7.237664   </td><td>0.9907596   </td><td>-7.305166   </td><td>2.769237e-13</td><td>1.457687e-10</td></tr>\n",
       "\t<tr><th scope=row>TRINITY_DN7953_c0_g1_i1</th><td> 25.403098  </td><td>-7.256725   </td><td>1.3776410   </td><td>-5.267501   </td><td>1.382936e-07</td><td>3.358494e-05</td></tr>\n",
       "</tbody>\n",
       "</table>\n"
      ],
      "text/latex": [
       "\\begin{tabular}{r|llllll}\n",
       "  & baseMean & log2FoldChange & lfcSE & stat & pvalue & padj\\\\\n",
       "\\hline\n",
       "\tTRINITY\\_DN35786\\_c0\\_g1\\_i1 &   7.853278   & -6.528988    & 1.5674723    & -4.165297    & 3.109470e-05 & 3.362313e-03\\\\\n",
       "\tTRINITY\\_DN16990\\_c0\\_g1\\_i1 &  23.339755   & -6.857153    & 1.1158458    & -6.145252    & 7.983686e-10 & 3.077666e-07\\\\\n",
       "\tTRINITY\\_DN1835\\_c0\\_g1\\_i2 &  63.702057   & -6.907201    & 1.3030163    & -5.300932    & 1.152127e-07 & 2.865067e-05\\\\\n",
       "\tTRINITY\\_DN146456\\_c0\\_g1\\_i1 &  13.241038   & -6.988593    & 1.4950995    & -4.674333    & 2.949108e-06 & 4.900907e-04\\\\\n",
       "\tTRINITY\\_DN4309\\_c0\\_g1\\_i2 & 227.364696   & -7.237664    & 0.9907596    & -7.305166    & 2.769237e-13 & 1.457687e-10\\\\\n",
       "\tTRINITY\\_DN7953\\_c0\\_g1\\_i1 &  25.403098   & -7.256725    & 1.3776410    & -5.267501    & 1.382936e-07 & 3.358494e-05\\\\\n",
       "\\end{tabular}\n"
      ],
      "text/markdown": [
       "\n",
       "| <!--/--> | baseMean | log2FoldChange | lfcSE | stat | pvalue | padj |\n",
       "|---|---|---|---|---|---|---|\n",
       "| TRINITY_DN35786_c0_g1_i1 |   7.853278   | -6.528988    | 1.5674723    | -4.165297    | 3.109470e-05 | 3.362313e-03 |\n",
       "| TRINITY_DN16990_c0_g1_i1 |  23.339755   | -6.857153    | 1.1158458    | -6.145252    | 7.983686e-10 | 3.077666e-07 |\n",
       "| TRINITY_DN1835_c0_g1_i2 |  63.702057   | -6.907201    | 1.3030163    | -5.300932    | 1.152127e-07 | 2.865067e-05 |\n",
       "| TRINITY_DN146456_c0_g1_i1 |  13.241038   | -6.988593    | 1.4950995    | -4.674333    | 2.949108e-06 | 4.900907e-04 |\n",
       "| TRINITY_DN4309_c0_g1_i2 | 227.364696   | -7.237664    | 0.9907596    | -7.305166    | 2.769237e-13 | 1.457687e-10 |\n",
       "| TRINITY_DN7953_c0_g1_i1 |  25.403098   | -7.256725    | 1.3776410    | -5.267501    | 1.382936e-07 | 3.358494e-05 |\n",
       "\n"
      ],
      "text/plain": [
       "                          baseMean   log2FoldChange lfcSE     stat     \n",
       "TRINITY_DN35786_c0_g1_i1    7.853278 -6.528988      1.5674723 -4.165297\n",
       "TRINITY_DN16990_c0_g1_i1   23.339755 -6.857153      1.1158458 -6.145252\n",
       "TRINITY_DN1835_c0_g1_i2    63.702057 -6.907201      1.3030163 -5.300932\n",
       "TRINITY_DN146456_c0_g1_i1  13.241038 -6.988593      1.4950995 -4.674333\n",
       "TRINITY_DN4309_c0_g1_i2   227.364696 -7.237664      0.9907596 -7.305166\n",
       "TRINITY_DN7953_c0_g1_i1    25.403098 -7.256725      1.3776410 -5.267501\n",
       "                          pvalue       padj        \n",
       "TRINITY_DN35786_c0_g1_i1  3.109470e-05 3.362313e-03\n",
       "TRINITY_DN16990_c0_g1_i1  7.983686e-10 3.077666e-07\n",
       "TRINITY_DN1835_c0_g1_i2   1.152127e-07 2.865067e-05\n",
       "TRINITY_DN146456_c0_g1_i1 2.949108e-06 4.900907e-04\n",
       "TRINITY_DN4309_c0_g1_i2   2.769237e-13 1.457687e-10\n",
       "TRINITY_DN7953_c0_g1_i1   1.382936e-07 3.358494e-05"
      ]
     },
     "metadata": {},
     "output_type": "display_data"
    }
   ],
   "source": [
    "res_sig <- data.frame(subset(res, padj < 0.05))\n",
    "res_sig <- res_sig[order(-res_sig$log2FoldChange),]\n",
    "head(res_sig, 30)\n",
    "tail(res_sig)"
   ]
  },
  {
   "cell_type": "markdown",
   "metadata": {},
   "source": [
    "You can see that there are some extremely significant, extremely overexpressed transcripts at the top, many of which have high rates of expression overall. These are likely contamination from Loxo. I am going to compare the list of transcripts I made earlier to these to see how much of an overlap there is. \n",
    "\n",
    "There are 2377 significant transcripts, 1250 up and 1127 down. There were 5797 transcripts that had higher expression in one of the two parasite samples than any of the clean samples. Let's look at the intersect. "
   ]
  },
  {
   "cell_type": "code",
   "execution_count": 215,
   "metadata": {},
   "outputs": [
    {
     "data": {
      "text/html": [
       "459"
      ],
      "text/latex": [
       "459"
      ],
      "text/markdown": [
       "459"
      ],
      "text/plain": [
       "[1] 459"
      ]
     },
     "metadata": {},
     "output_type": "display_data"
    }
   ],
   "source": [
    "contam_intersect <- intersect(contam_IDs, rownames(res_sig))\n",
    "length(contam_intersect)"
   ]
  },
  {
   "cell_type": "markdown",
   "metadata": {},
   "source": [
    "Okay so there are 452 transcripts that came up as significant that were also identified as potential contamination. Let's take a look at the significant results table with those removed:"
   ]
  },
  {
   "cell_type": "code",
   "execution_count": 216,
   "metadata": {},
   "outputs": [
    {
     "data": {
      "text/html": [
       "<table>\n",
       "<thead><tr><th></th><th scope=col>baseMean</th><th scope=col>log2FoldChange</th><th scope=col>lfcSE</th><th scope=col>stat</th><th scope=col>pvalue</th><th scope=col>padj</th></tr></thead>\n",
       "<tbody>\n",
       "\t<tr><th scope=row>TRINITY_DN22600_c0_g1_i1</th><td> 4.362677   </td><td>5.519511    </td><td>0.8159560   </td><td>6.764472    </td><td>1.337962e-11</td><td>6.249730e-09</td></tr>\n",
       "\t<tr><th scope=row>TRINITY_DN27254_c0_g1_i1</th><td>20.741130   </td><td>4.181607    </td><td>0.8183592   </td><td>5.109746    </td><td>3.225930e-07</td><td>7.099971e-05</td></tr>\n",
       "\t<tr><th scope=row>TRINITY_DN706_c3_g1_i1</th><td> 2.231154   </td><td>4.151526    </td><td>1.1981173   </td><td>3.465041    </td><td>5.301504e-04</td><td>2.839646e-02</td></tr>\n",
       "\t<tr><th scope=row>TRINITY_DN109614_c0_g1_i1</th><td>36.134287   </td><td>3.874090    </td><td>0.9091310   </td><td>4.261311    </td><td>2.032315e-05</td><td>2.381322e-03</td></tr>\n",
       "\t<tr><th scope=row>TRINITY_DN146992_c0_g1_i1</th><td> 5.882913   </td><td>3.742718    </td><td>0.8447508   </td><td>4.430558    </td><td>9.398951e-06</td><td>1.290930e-03</td></tr>\n",
       "\t<tr><th scope=row>TRINITY_DN56560_c0_g1_i1</th><td>14.465774   </td><td>3.610151    </td><td>0.4896321   </td><td>7.373192    </td><td>1.665902e-13</td><td>8.950812e-11</td></tr>\n",
       "\t<tr><th scope=row>TRINITY_DN82187_c0_g1_i1</th><td>10.137182   </td><td>3.598683    </td><td>0.6660874   </td><td>5.402718    </td><td>6.563858e-08</td><td>1.758809e-05</td></tr>\n",
       "\t<tr><th scope=row>TRINITY_DN51295_c0_g1_i1</th><td>18.506585   </td><td>3.596144    </td><td>0.6445518   </td><td>5.579293    </td><td>2.414978e-08</td><td>7.133634e-06</td></tr>\n",
       "\t<tr><th scope=row>TRINITY_DN84163_c0_g1_i1</th><td>27.165378   </td><td>3.564960    </td><td>0.5013343   </td><td>7.110944    </td><td>1.152521e-12</td><td>5.801655e-10</td></tr>\n",
       "\t<tr><th scope=row>TRINITY_DN76798_c0_g1_i1</th><td> 1.781217   </td><td>3.525780    </td><td>1.0149129   </td><td>3.473973    </td><td>5.128136e-04</td><td>2.781113e-02</td></tr>\n",
       "</tbody>\n",
       "</table>\n"
      ],
      "text/latex": [
       "\\begin{tabular}{r|llllll}\n",
       "  & baseMean & log2FoldChange & lfcSE & stat & pvalue & padj\\\\\n",
       "\\hline\n",
       "\tTRINITY\\_DN22600\\_c0\\_g1\\_i1 &  4.362677    & 5.519511     & 0.8159560    & 6.764472     & 1.337962e-11 & 6.249730e-09\\\\\n",
       "\tTRINITY\\_DN27254\\_c0\\_g1\\_i1 & 20.741130    & 4.181607     & 0.8183592    & 5.109746     & 3.225930e-07 & 7.099971e-05\\\\\n",
       "\tTRINITY\\_DN706\\_c3\\_g1\\_i1 &  2.231154    & 4.151526     & 1.1981173    & 3.465041     & 5.301504e-04 & 2.839646e-02\\\\\n",
       "\tTRINITY\\_DN109614\\_c0\\_g1\\_i1 & 36.134287    & 3.874090     & 0.9091310    & 4.261311     & 2.032315e-05 & 2.381322e-03\\\\\n",
       "\tTRINITY\\_DN146992\\_c0\\_g1\\_i1 &  5.882913    & 3.742718     & 0.8447508    & 4.430558     & 9.398951e-06 & 1.290930e-03\\\\\n",
       "\tTRINITY\\_DN56560\\_c0\\_g1\\_i1 & 14.465774    & 3.610151     & 0.4896321    & 7.373192     & 1.665902e-13 & 8.950812e-11\\\\\n",
       "\tTRINITY\\_DN82187\\_c0\\_g1\\_i1 & 10.137182    & 3.598683     & 0.6660874    & 5.402718     & 6.563858e-08 & 1.758809e-05\\\\\n",
       "\tTRINITY\\_DN51295\\_c0\\_g1\\_i1 & 18.506585    & 3.596144     & 0.6445518    & 5.579293     & 2.414978e-08 & 7.133634e-06\\\\\n",
       "\tTRINITY\\_DN84163\\_c0\\_g1\\_i1 & 27.165378    & 3.564960     & 0.5013343    & 7.110944     & 1.152521e-12 & 5.801655e-10\\\\\n",
       "\tTRINITY\\_DN76798\\_c0\\_g1\\_i1 &  1.781217    & 3.525780     & 1.0149129    & 3.473973     & 5.128136e-04 & 2.781113e-02\\\\\n",
       "\\end{tabular}\n"
      ],
      "text/markdown": [
       "\n",
       "| <!--/--> | baseMean | log2FoldChange | lfcSE | stat | pvalue | padj |\n",
       "|---|---|---|---|---|---|---|\n",
       "| TRINITY_DN22600_c0_g1_i1 |  4.362677    | 5.519511     | 0.8159560    | 6.764472     | 1.337962e-11 | 6.249730e-09 |\n",
       "| TRINITY_DN27254_c0_g1_i1 | 20.741130    | 4.181607     | 0.8183592    | 5.109746     | 3.225930e-07 | 7.099971e-05 |\n",
       "| TRINITY_DN706_c3_g1_i1 |  2.231154    | 4.151526     | 1.1981173    | 3.465041     | 5.301504e-04 | 2.839646e-02 |\n",
       "| TRINITY_DN109614_c0_g1_i1 | 36.134287    | 3.874090     | 0.9091310    | 4.261311     | 2.032315e-05 | 2.381322e-03 |\n",
       "| TRINITY_DN146992_c0_g1_i1 |  5.882913    | 3.742718     | 0.8447508    | 4.430558     | 9.398951e-06 | 1.290930e-03 |\n",
       "| TRINITY_DN56560_c0_g1_i1 | 14.465774    | 3.610151     | 0.4896321    | 7.373192     | 1.665902e-13 | 8.950812e-11 |\n",
       "| TRINITY_DN82187_c0_g1_i1 | 10.137182    | 3.598683     | 0.6660874    | 5.402718     | 6.563858e-08 | 1.758809e-05 |\n",
       "| TRINITY_DN51295_c0_g1_i1 | 18.506585    | 3.596144     | 0.6445518    | 5.579293     | 2.414978e-08 | 7.133634e-06 |\n",
       "| TRINITY_DN84163_c0_g1_i1 | 27.165378    | 3.564960     | 0.5013343    | 7.110944     | 1.152521e-12 | 5.801655e-10 |\n",
       "| TRINITY_DN76798_c0_g1_i1 |  1.781217    | 3.525780     | 1.0149129    | 3.473973     | 5.128136e-04 | 2.781113e-02 |\n",
       "\n"
      ],
      "text/plain": [
       "                          baseMean  log2FoldChange lfcSE     stat    \n",
       "TRINITY_DN22600_c0_g1_i1   4.362677 5.519511       0.8159560 6.764472\n",
       "TRINITY_DN27254_c0_g1_i1  20.741130 4.181607       0.8183592 5.109746\n",
       "TRINITY_DN706_c3_g1_i1     2.231154 4.151526       1.1981173 3.465041\n",
       "TRINITY_DN109614_c0_g1_i1 36.134287 3.874090       0.9091310 4.261311\n",
       "TRINITY_DN146992_c0_g1_i1  5.882913 3.742718       0.8447508 4.430558\n",
       "TRINITY_DN56560_c0_g1_i1  14.465774 3.610151       0.4896321 7.373192\n",
       "TRINITY_DN82187_c0_g1_i1  10.137182 3.598683       0.6660874 5.402718\n",
       "TRINITY_DN51295_c0_g1_i1  18.506585 3.596144       0.6445518 5.579293\n",
       "TRINITY_DN84163_c0_g1_i1  27.165378 3.564960       0.5013343 7.110944\n",
       "TRINITY_DN76798_c0_g1_i1   1.781217 3.525780       1.0149129 3.473973\n",
       "                          pvalue       padj        \n",
       "TRINITY_DN22600_c0_g1_i1  1.337962e-11 6.249730e-09\n",
       "TRINITY_DN27254_c0_g1_i1  3.225930e-07 7.099971e-05\n",
       "TRINITY_DN706_c3_g1_i1    5.301504e-04 2.839646e-02\n",
       "TRINITY_DN109614_c0_g1_i1 2.032315e-05 2.381322e-03\n",
       "TRINITY_DN146992_c0_g1_i1 9.398951e-06 1.290930e-03\n",
       "TRINITY_DN56560_c0_g1_i1  1.665902e-13 8.950812e-11\n",
       "TRINITY_DN82187_c0_g1_i1  6.563858e-08 1.758809e-05\n",
       "TRINITY_DN51295_c0_g1_i1  2.414978e-08 7.133634e-06\n",
       "TRINITY_DN84163_c0_g1_i1  1.152521e-12 5.801655e-10\n",
       "TRINITY_DN76798_c0_g1_i1  5.128136e-04 2.781113e-02"
      ]
     },
     "metadata": {},
     "output_type": "display_data"
    }
   ],
   "source": [
    "head(res_sig[!(rownames(res_sig) %in% contam_intersect),],n=10)"
   ]
  },
  {
   "cell_type": "markdown",
   "metadata": {},
   "source": [
    "A lot of those transcripts are now removed. There are just around 7 of them left, depending on where you draw the line.\n",
    "\n",
    "I am going to repeat the lfc shrinking and visualization with the contam transcrips removed. I am subsetting the dds object within the `lfcShrink()` function, using `subset()` to keep only transcripts that do not appear in the contam_IDs list. "
   ]
  },
  {
   "cell_type": "code",
   "execution_count": 217,
   "metadata": {},
   "outputs": [
    {
     "name": "stderr",
     "output_type": "stream",
     "text": [
      "using 'apeglm' for LFC shrinkage. If used in published research, please cite:\n",
      "    Zhu, A., Ibrahim, J.G., Love, M.I. (2018) Heavy-tailed prior distributions for\n",
      "    sequence count data: removing the noise and preserving large differences.\n",
      "    Bioinformatics. https://doi.org/10.1093/bioinformatics/bty895\n"
     ]
    },
    {
     "data": {
      "image/png": "[encoded data removed]",
      "text/plain": [
       "Plot with title “”"
      ]
     },
     "metadata": {},
     "output_type": "display_data"
    }
   ],
   "source": [
    "resLFC_nocontam <- lfcShrink(subset(dds, !rownames(dds) %in% contam_IDs), coef=\"condition_P_vs_C\", type=\"apeglm\")\n",
    "plotMA(resLFC_nocontam, ylim=c(-13,13))"
   ]
  },
  {
   "cell_type": "markdown",
   "metadata": {},
   "source": [
    "You can see now that the big cloud of points at the top right has mostly disappeared. A few points remain. I am still going to consider these as contamination and remove them. I am going to do this by considering transcripts that are overexpressed above the absolute value of the LFC of the most underexpressed significant transcript. This is done using the shrunk LFCs for ranking purposes."
   ]
  },
  {
   "cell_type": "code",
   "execution_count": 218,
   "metadata": {},
   "outputs": [
    {
     "data": {
      "text/html": [
       "<table>\n",
       "<thead><tr><th></th><th scope=col>baseMean</th><th scope=col>log2FoldChange</th><th scope=col>lfcSE</th><th scope=col>pvalue</th><th scope=col>padj</th></tr></thead>\n",
       "<tbody>\n",
       "\t<tr><th scope=row>TRINITY_DN76798_c0_g1_i1</th><td> 1.781217   </td><td>3.746941    </td><td>1.0888893   </td><td>5.128136e-04</td><td>3.405745e-02</td></tr>\n",
       "\t<tr><th scope=row>TRINITY_DN56560_c0_g1_i1</th><td>14.465774   </td><td>3.473322    </td><td>0.4961500   </td><td>1.665902e-13</td><td>1.382518e-09</td></tr>\n",
       "\t<tr><th scope=row>TRINITY_DN84163_c0_g1_i1</th><td>27.165378   </td><td>3.419379    </td><td>0.5087831   </td><td>1.152521e-12</td><td>5.738804e-09</td></tr>\n",
       "\t<tr><th scope=row>TRINITY_DN51295_c0_g1_i1</th><td>18.506585   </td><td>3.351588    </td><td>0.6617950   </td><td>2.414978e-08</td><td>2.096949e-05</td></tr>\n",
       "\t<tr><th scope=row>TRINITY_DN82187_c0_g1_i1</th><td>10.137182   </td><td>3.335844    </td><td>0.6860929   </td><td>6.563858e-08</td><td>4.539410e-05</td></tr>\n",
       "\t<tr><th scope=row>TRINITY_DN146992_c0_g1_i1</th><td> 5.882913   </td><td>3.320420    </td><td>0.8891357   </td><td>9.398951e-06</td><td>2.039245e-03</td></tr>\n",
       "\t<tr><th scope=row>TRINITY_DN61940_c0_g1_i1</th><td>20.182625   </td><td>3.310412    </td><td>0.4699711   </td><td>1.196326e-13</td><td>1.191385e-09</td></tr>\n",
       "\t<tr><th scope=row>TRINITY_DN35566_c0_g1_i1</th><td>47.657603   </td><td>3.267471    </td><td>0.4609772   </td><td>9.151476e-14</td><td>1.012631e-09</td></tr>\n",
       "\t<tr><th scope=row>TRINITY_DN79806_c0_g1_i1</th><td>22.932887   </td><td>3.259098    </td><td>0.4545289   </td><td>7.999825e-09</td><td>9.598537e-06</td></tr>\n",
       "\t<tr><th scope=row>TRINITY_DN89969_c0_g1_i1</th><td> 2.668127   </td><td>3.147877    </td><td>0.9426323   </td><td>3.340633e-04</td><td>2.543453e-02</td></tr>\n",
       "\t<tr><th scope=row>TRINITY_DN26629_c0_g1_i1</th><td> 1.360850   </td><td>3.052616    </td><td>0.6160300   </td><td>4.577474e-04</td><td>3.190041e-02</td></tr>\n",
       "\t<tr><th scope=row>TRINITY_DN135972_c0_g1_i1</th><td> 2.271357   </td><td>2.995255    </td><td>0.7679753   </td><td>4.794644e-06</td><td>1.221187e-03</td></tr>\n",
       "\t<tr><th scope=row>TRINITY_DN149883_c0_g1_i1</th><td> 3.811651   </td><td>2.935002    </td><td>0.9029974   </td><td>5.124946e-05</td><td>6.981916e-03</td></tr>\n",
       "\t<tr><th scope=row>TRINITY_DN129162_c0_g1_i1</th><td>99.642862   </td><td>2.931479    </td><td>0.3832122   </td><td>1.355369e-15</td><td>4.499239e-11</td></tr>\n",
       "\t<tr><th scope=row>TRINITY_DN152487_c0_g1_i1</th><td> 7.063649   </td><td>2.794472    </td><td>0.5616101   </td><td>3.395409e-08</td><td>2.652376e-05</td></tr>\n",
       "\t<tr><th scope=row>TRINITY_DN153818_c0_g1_i1</th><td>51.908555   </td><td>2.789013    </td><td>0.4243986   </td><td>3.176712e-12</td><td>1.437997e-08</td></tr>\n",
       "\t<tr><th scope=row>TRINITY_DN133003_c0_g1_i1</th><td> 5.084601   </td><td>2.763240    </td><td>0.5669174   </td><td>5.762996e-08</td><td>4.099425e-05</td></tr>\n",
       "\t<tr><th scope=row>TRINITY_DN136402_c0_g1_i1</th><td> 4.158188   </td><td>2.735463    </td><td>0.5437899   </td><td>2.584449e-08</td><td>2.211874e-05</td></tr>\n",
       "\t<tr><th scope=row>TRINITY_DN70312_c0_g1_i1</th><td> 6.757045   </td><td>2.698708    </td><td>0.4586974   </td><td>2.086212e-10</td><td>5.193991e-07</td></tr>\n",
       "\t<tr><th scope=row>TRINITY_DN72504_c0_g1_i1</th><td> 5.264970   </td><td>2.693806    </td><td>0.8069510   </td><td>3.608249e-05</td><td>5.368279e-03</td></tr>\n",
       "</tbody>\n",
       "</table>\n"
      ],
      "text/latex": [
       "\\begin{tabular}{r|lllll}\n",
       "  & baseMean & log2FoldChange & lfcSE & pvalue & padj\\\\\n",
       "\\hline\n",
       "\tTRINITY\\_DN76798\\_c0\\_g1\\_i1 &  1.781217    & 3.746941     & 1.0888893    & 5.128136e-04 & 3.405745e-02\\\\\n",
       "\tTRINITY\\_DN56560\\_c0\\_g1\\_i1 & 14.465774    & 3.473322     & 0.4961500    & 1.665902e-13 & 1.382518e-09\\\\\n",
       "\tTRINITY\\_DN84163\\_c0\\_g1\\_i1 & 27.165378    & 3.419379     & 0.5087831    & 1.152521e-12 & 5.738804e-09\\\\\n",
       "\tTRINITY\\_DN51295\\_c0\\_g1\\_i1 & 18.506585    & 3.351588     & 0.6617950    & 2.414978e-08 & 2.096949e-05\\\\\n",
       "\tTRINITY\\_DN82187\\_c0\\_g1\\_i1 & 10.137182    & 3.335844     & 0.6860929    & 6.563858e-08 & 4.539410e-05\\\\\n",
       "\tTRINITY\\_DN146992\\_c0\\_g1\\_i1 &  5.882913    & 3.320420     & 0.8891357    & 9.398951e-06 & 2.039245e-03\\\\\n",
       "\tTRINITY\\_DN61940\\_c0\\_g1\\_i1 & 20.182625    & 3.310412     & 0.4699711    & 1.196326e-13 & 1.191385e-09\\\\\n",
       "\tTRINITY\\_DN35566\\_c0\\_g1\\_i1 & 47.657603    & 3.267471     & 0.4609772    & 9.151476e-14 & 1.012631e-09\\\\\n",
       "\tTRINITY\\_DN79806\\_c0\\_g1\\_i1 & 22.932887    & 3.259098     & 0.4545289    & 7.999825e-09 & 9.598537e-06\\\\\n",
       "\tTRINITY\\_DN89969\\_c0\\_g1\\_i1 &  2.668127    & 3.147877     & 0.9426323    & 3.340633e-04 & 2.543453e-02\\\\\n",
       "\tTRINITY\\_DN26629\\_c0\\_g1\\_i1 &  1.360850    & 3.052616     & 0.6160300    & 4.577474e-04 & 3.190041e-02\\\\\n",
       "\tTRINITY\\_DN135972\\_c0\\_g1\\_i1 &  2.271357    & 2.995255     & 0.7679753    & 4.794644e-06 & 1.221187e-03\\\\\n",
       "\tTRINITY\\_DN149883\\_c0\\_g1\\_i1 &  3.811651    & 2.935002     & 0.9029974    & 5.124946e-05 & 6.981916e-03\\\\\n",
       "\tTRINITY\\_DN129162\\_c0\\_g1\\_i1 & 99.642862    & 2.931479     & 0.3832122    & 1.355369e-15 & 4.499239e-11\\\\\n",
       "\tTRINITY\\_DN152487\\_c0\\_g1\\_i1 &  7.063649    & 2.794472     & 0.5616101    & 3.395409e-08 & 2.652376e-05\\\\\n",
       "\tTRINITY\\_DN153818\\_c0\\_g1\\_i1 & 51.908555    & 2.789013     & 0.4243986    & 3.176712e-12 & 1.437997e-08\\\\\n",
       "\tTRINITY\\_DN133003\\_c0\\_g1\\_i1 &  5.084601    & 2.763240     & 0.5669174    & 5.762996e-08 & 4.099425e-05\\\\\n",
       "\tTRINITY\\_DN136402\\_c0\\_g1\\_i1 &  4.158188    & 2.735463     & 0.5437899    & 2.584449e-08 & 2.211874e-05\\\\\n",
       "\tTRINITY\\_DN70312\\_c0\\_g1\\_i1 &  6.757045    & 2.698708     & 0.4586974    & 2.086212e-10 & 5.193991e-07\\\\\n",
       "\tTRINITY\\_DN72504\\_c0\\_g1\\_i1 &  5.264970    & 2.693806     & 0.8069510    & 3.608249e-05 & 5.368279e-03\\\\\n",
       "\\end{tabular}\n"
      ],
      "text/markdown": [
       "\n",
       "| <!--/--> | baseMean | log2FoldChange | lfcSE | pvalue | padj |\n",
       "|---|---|---|---|---|---|\n",
       "| TRINITY_DN76798_c0_g1_i1 |  1.781217    | 3.746941     | 1.0888893    | 5.128136e-04 | 3.405745e-02 |\n",
       "| TRINITY_DN56560_c0_g1_i1 | 14.465774    | 3.473322     | 0.4961500    | 1.665902e-13 | 1.382518e-09 |\n",
       "| TRINITY_DN84163_c0_g1_i1 | 27.165378    | 3.419379     | 0.5087831    | 1.152521e-12 | 5.738804e-09 |\n",
       "| TRINITY_DN51295_c0_g1_i1 | 18.506585    | 3.351588     | 0.6617950    | 2.414978e-08 | 2.096949e-05 |\n",
       "| TRINITY_DN82187_c0_g1_i1 | 10.137182    | 3.335844     | 0.6860929    | 6.563858e-08 | 4.539410e-05 |\n",
       "| TRINITY_DN146992_c0_g1_i1 |  5.882913    | 3.320420     | 0.8891357    | 9.398951e-06 | 2.039245e-03 |\n",
       "| TRINITY_DN61940_c0_g1_i1 | 20.182625    | 3.310412     | 0.4699711    | 1.196326e-13 | 1.191385e-09 |\n",
       "| TRINITY_DN35566_c0_g1_i1 | 47.657603    | 3.267471     | 0.4609772    | 9.151476e-14 | 1.012631e-09 |\n",
       "| TRINITY_DN79806_c0_g1_i1 | 22.932887    | 3.259098     | 0.4545289    | 7.999825e-09 | 9.598537e-06 |\n",
       "| TRINITY_DN89969_c0_g1_i1 |  2.668127    | 3.147877     | 0.9426323    | 3.340633e-04 | 2.543453e-02 |\n",
       "| TRINITY_DN26629_c0_g1_i1 |  1.360850    | 3.052616     | 0.6160300    | 4.577474e-04 | 3.190041e-02 |\n",
       "| TRINITY_DN135972_c0_g1_i1 |  2.271357    | 2.995255     | 0.7679753    | 4.794644e-06 | 1.221187e-03 |\n",
       "| TRINITY_DN149883_c0_g1_i1 |  3.811651    | 2.935002     | 0.9029974    | 5.124946e-05 | 6.981916e-03 |\n",
       "| TRINITY_DN129162_c0_g1_i1 | 99.642862    | 2.931479     | 0.3832122    | 1.355369e-15 | 4.499239e-11 |\n",
       "| TRINITY_DN152487_c0_g1_i1 |  7.063649    | 2.794472     | 0.5616101    | 3.395409e-08 | 2.652376e-05 |\n",
       "| TRINITY_DN153818_c0_g1_i1 | 51.908555    | 2.789013     | 0.4243986    | 3.176712e-12 | 1.437997e-08 |\n",
       "| TRINITY_DN133003_c0_g1_i1 |  5.084601    | 2.763240     | 0.5669174    | 5.762996e-08 | 4.099425e-05 |\n",
       "| TRINITY_DN136402_c0_g1_i1 |  4.158188    | 2.735463     | 0.5437899    | 2.584449e-08 | 2.211874e-05 |\n",
       "| TRINITY_DN70312_c0_g1_i1 |  6.757045    | 2.698708     | 0.4586974    | 2.086212e-10 | 5.193991e-07 |\n",
       "| TRINITY_DN72504_c0_g1_i1 |  5.264970    | 2.693806     | 0.8069510    | 3.608249e-05 | 5.368279e-03 |\n",
       "\n"
      ],
      "text/plain": [
       "                          baseMean  log2FoldChange lfcSE     pvalue      \n",
       "TRINITY_DN76798_c0_g1_i1   1.781217 3.746941       1.0888893 5.128136e-04\n",
       "TRINITY_DN56560_c0_g1_i1  14.465774 3.473322       0.4961500 1.665902e-13\n",
       "TRINITY_DN84163_c0_g1_i1  27.165378 3.419379       0.5087831 1.152521e-12\n",
       "TRINITY_DN51295_c0_g1_i1  18.506585 3.351588       0.6617950 2.414978e-08\n",
       "TRINITY_DN82187_c0_g1_i1  10.137182 3.335844       0.6860929 6.563858e-08\n",
       "TRINITY_DN146992_c0_g1_i1  5.882913 3.320420       0.8891357 9.398951e-06\n",
       "TRINITY_DN61940_c0_g1_i1  20.182625 3.310412       0.4699711 1.196326e-13\n",
       "TRINITY_DN35566_c0_g1_i1  47.657603 3.267471       0.4609772 9.151476e-14\n",
       "TRINITY_DN79806_c0_g1_i1  22.932887 3.259098       0.4545289 7.999825e-09\n",
       "TRINITY_DN89969_c0_g1_i1   2.668127 3.147877       0.9426323 3.340633e-04\n",
       "TRINITY_DN26629_c0_g1_i1   1.360850 3.052616       0.6160300 4.577474e-04\n",
       "TRINITY_DN135972_c0_g1_i1  2.271357 2.995255       0.7679753 4.794644e-06\n",
       "TRINITY_DN149883_c0_g1_i1  3.811651 2.935002       0.9029974 5.124946e-05\n",
       "TRINITY_DN129162_c0_g1_i1 99.642862 2.931479       0.3832122 1.355369e-15\n",
       "TRINITY_DN152487_c0_g1_i1  7.063649 2.794472       0.5616101 3.395409e-08\n",
       "TRINITY_DN153818_c0_g1_i1 51.908555 2.789013       0.4243986 3.176712e-12\n",
       "TRINITY_DN133003_c0_g1_i1  5.084601 2.763240       0.5669174 5.762996e-08\n",
       "TRINITY_DN136402_c0_g1_i1  4.158188 2.735463       0.5437899 2.584449e-08\n",
       "TRINITY_DN70312_c0_g1_i1   6.757045 2.698708       0.4586974 2.086212e-10\n",
       "TRINITY_DN72504_c0_g1_i1   5.264970 2.693806       0.8069510 3.608249e-05\n",
       "                          padj        \n",
       "TRINITY_DN76798_c0_g1_i1  3.405745e-02\n",
       "TRINITY_DN56560_c0_g1_i1  1.382518e-09\n",
       "TRINITY_DN84163_c0_g1_i1  5.738804e-09\n",
       "TRINITY_DN51295_c0_g1_i1  2.096949e-05\n",
       "TRINITY_DN82187_c0_g1_i1  4.539410e-05\n",
       "TRINITY_DN146992_c0_g1_i1 2.039245e-03\n",
       "TRINITY_DN61940_c0_g1_i1  1.191385e-09\n",
       "TRINITY_DN35566_c0_g1_i1  1.012631e-09\n",
       "TRINITY_DN79806_c0_g1_i1  9.598537e-06\n",
       "TRINITY_DN89969_c0_g1_i1  2.543453e-02\n",
       "TRINITY_DN26629_c0_g1_i1  3.190041e-02\n",
       "TRINITY_DN135972_c0_g1_i1 1.221187e-03\n",
       "TRINITY_DN149883_c0_g1_i1 6.981916e-03\n",
       "TRINITY_DN129162_c0_g1_i1 4.499239e-11\n",
       "TRINITY_DN152487_c0_g1_i1 2.652376e-05\n",
       "TRINITY_DN153818_c0_g1_i1 1.437997e-08\n",
       "TRINITY_DN133003_c0_g1_i1 4.099425e-05\n",
       "TRINITY_DN136402_c0_g1_i1 2.211874e-05\n",
       "TRINITY_DN70312_c0_g1_i1  5.193991e-07\n",
       "TRINITY_DN72504_c0_g1_i1  5.368279e-03"
      ]
     },
     "metadata": {},
     "output_type": "display_data"
    }
   ],
   "source": [
    "resLFC_nocontam_sig <- data.frame(subset(resLFC_nocontam, padj < 0.05))\n",
    "resLFC_nocontam_sig <- resLFC_nocontam_sig[order(-resLFC_nocontam_sig$log2FoldChange),]\n",
    "head(resLFC_nocontam_sig,n=20)"
   ]
  },
  {
   "cell_type": "markdown",
   "metadata": {},
   "source": [
    "Okay there's the table. Now find rownames of rows with higher LFC values than absolute value of lowest LFC value. "
   ]
  },
  {
   "cell_type": "code",
   "execution_count": 219,
   "metadata": {},
   "outputs": [
    {
     "data": {
      "text/html": [],
      "text/latex": [],
      "text/markdown": [],
      "text/plain": [
       "character(0)"
      ]
     },
     "metadata": {},
     "output_type": "display_data"
    }
   ],
   "source": [
    "contam_add <- rownames(resLFC_nocontam_sig[resLFC_nocontam_sig$log2FoldChange > abs(min(resLFC_nocontam_sig$log2FoldChange)),])\n",
    "contam_add"
   ]
  },
  {
   "cell_type": "markdown",
   "metadata": {},
   "source": [
    "Okay here the seven remaining contigs that we will consider contamination. I am going to add them to the list of contam_IDs, which will be used for removal from the intial counts object. Then the analysis will be re-run. This is to account for renormalization after removal, since many of these contigs had high mean expression across samples. I also want to have all of the putative contaminant transcripts removed before I do the WGCNA analysis. Because it looks for co-expression patterns among transcripts, if I leave in transcripts that are actually just contaminants, it will likely assign transcripts to modules not based on any functional relevance to particular pathways, but rather just to infection status. "
   ]
  },
  {
   "cell_type": "code",
   "execution_count": 220,
   "metadata": {},
   "outputs": [
    {
     "data": {
      "text/html": [
       "5804"
      ],
      "text/latex": [
       "5804"
      ],
      "text/markdown": [
       "5804"
      ],
      "text/plain": [
       "[1] 5804"
      ]
     },
     "metadata": {},
     "output_type": "display_data"
    }
   ],
   "source": [
    "contam_IDs <- c(contam_IDs, contam_add)\n",
    "length(contam_IDs)"
   ]
  },
  {
   "cell_type": "markdown",
   "metadata": {},
   "source": [
    "Okay successfully added. Now to reperform the anaysis."
   ]
  },
  {
   "cell_type": "code",
   "execution_count": 221,
   "metadata": {},
   "outputs": [
    {
     "data": {
      "text/html": [
       "<ol class=list-inline>\n",
       "\t<li>149511</li>\n",
       "\t<li>77</li>\n",
       "</ol>\n"
      ],
      "text/latex": [
       "\\begin{enumerate*}\n",
       "\\item 149511\n",
       "\\item 77\n",
       "\\end{enumerate*}\n"
      ],
      "text/markdown": [
       "1. 149511\n",
       "2. 77\n",
       "\n",
       "\n"
      ],
      "text/plain": [
       "[1] 149511     77"
      ]
     },
     "metadata": {},
     "output_type": "display_data"
    },
    {
     "data": {
      "text/html": [
       "<ol class=list-inline>\n",
       "\t<li>143707</li>\n",
       "\t<li>77</li>\n",
       "</ol>\n"
      ],
      "text/latex": [
       "\\begin{enumerate*}\n",
       "\\item 143707\n",
       "\\item 77\n",
       "\\end{enumerate*}\n"
      ],
      "text/markdown": [
       "1. 143707\n",
       "2. 77\n",
       "\n",
       "\n"
      ],
      "text/plain": [
       "[1] 143707     77"
      ]
     },
     "metadata": {},
     "output_type": "display_data"
    }
   ],
   "source": [
    "dim(all_counts)\n",
    "counts_clean <- all_counts[!rownames(all_counts) %in% contam_IDs,]\n",
    "dim(counts_clean)"
   ]
  },
  {
   "cell_type": "markdown",
   "metadata": {},
   "source": [
    "You can see that the 5804 putative contaminant transcripts have been removed.\n",
    "\n",
    "Check that the sample names match between metadata and counts matrices."
   ]
  },
  {
   "cell_type": "code",
   "execution_count": 222,
   "metadata": {},
   "outputs": [
    {
     "data": {
      "text/html": [
       "TRUE"
      ],
      "text/latex": [
       "TRUE"
      ],
      "text/markdown": [
       "TRUE"
      ],
      "text/plain": [
       "[1] TRUE"
      ]
     },
     "metadata": {},
     "output_type": "display_data"
    }
   ],
   "source": [
    "all(rownames(coldata) == colnames(counts_clean))"
   ]
  },
  {
   "cell_type": "markdown",
   "metadata": {},
   "source": [
    "Good. Create new dds object without the contaminant transcripts."
   ]
  },
  {
   "cell_type": "code",
   "execution_count": 223,
   "metadata": {},
   "outputs": [
    {
     "name": "stderr",
     "output_type": "stream",
     "text": [
      "converting counts to integer mode\n",
      "factor levels were dropped which had no samples\n"
     ]
    }
   ],
   "source": [
    "dds_clean <- DESeqDataSetFromMatrix(countData = counts_clean, colData = coldata, design = ~ condition)"
   ]
  },
  {
   "cell_type": "markdown",
   "metadata": {},
   "source": [
    "Fit the model."
   ]
  },
  {
   "cell_type": "code",
   "execution_count": 224,
   "metadata": {},
   "outputs": [
    {
     "name": "stderr",
     "output_type": "stream",
     "text": [
      "estimating size factors\n",
      "estimating dispersions\n",
      "gene-wise dispersion estimates\n",
      "mean-dispersion relationship\n",
      "-- note: fitType='parametric', but the dispersion trend was not well captured by the\n",
      "   function: y = a/x + b, and a local regression fit was automatically substituted.\n",
      "   specify fitType='local' or 'mean' to avoid this message next time.\n",
      "final dispersion estimates\n",
      "fitting model and testing\n",
      "-- replacing outliers and refitting for 11029 genes\n",
      "-- DESeq argument 'minReplicatesForReplace' = 7 \n",
      "-- original counts are preserved in counts(dds)\n",
      "estimating dispersions\n",
      "fitting model and testing\n"
     ]
    }
   ],
   "source": [
    "dds_clean <- DESeq(dds_clean)"
   ]
  },
  {
   "cell_type": "code",
   "execution_count": 225,
   "metadata": {},
   "outputs": [
    {
     "name": "stdout",
     "output_type": "stream",
     "text": [
      "\n",
      "out of 140353 with nonzero total read count\n",
      "adjusted p-value < 0.05\n",
      "LFC > 0 (up)       : 883, 0.63%\n",
      "LFC < 0 (down)     : 935, 0.67%\n",
      "outliers [1]       : 0, 0%\n",
      "low counts [2]     : 41373, 29%\n",
      "(mean count < 1)\n",
      "[1] see 'cooksCutoff' argument of ?results\n",
      "[2] see 'independentFiltering' argument of ?results\n",
      "\n"
     ]
    }
   ],
   "source": [
    "res_clean <- results(dds_clean, alpha=0.05)\n",
    "summary(res_clean)"
   ]
  },
  {
   "cell_type": "markdown",
   "metadata": {},
   "source": [
    "Now you can see that we have 883 significantly upregulated transcripts and 935 significantly downregulated transcripts. There were a lot of transcripts that had too low of counts to be included (41373), though the creators of DESeq2 recommend not removing these before-hand because have all of the transcripts helps with the dispersion estimates. So, even though a lot got \"thrown out\", they are still helpful behind the scenes. \n",
    "\n",
    "Now I'll just save all of the significant results into a table."
   ]
  },
  {
   "cell_type": "code",
   "execution_count": 226,
   "metadata": {},
   "outputs": [
    {
     "data": {
      "text/html": [
       "<table>\n",
       "<thead><tr><th></th><th scope=col>baseMean</th><th scope=col>log2FoldChange</th><th scope=col>lfcSE</th><th scope=col>stat</th><th scope=col>pvalue</th><th scope=col>padj</th></tr></thead>\n",
       "<tbody>\n",
       "\t<tr><th scope=row>TRINITY_DN2290_c0_g1_i1</th><td> 129.67184  </td><td>-4.586661   </td><td>0.5558085   </td><td>-8.252233   </td><td>1.554621e-16</td><td>1.548201e-11</td></tr>\n",
       "\t<tr><th scope=row>TRINITY_DN21375_c0_g1_i1</th><td> 750.13158  </td><td> 2.437766   </td><td>0.2991848   </td><td> 8.148026   </td><td>3.699137e-16</td><td>1.841930e-11</td></tr>\n",
       "\t<tr><th scope=row>TRINITY_DN129162_c0_g1_i1</th><td>  99.79871  </td><td> 3.035223   </td><td>0.3791467   </td><td> 8.005406   </td><td>1.190732e-15</td><td>3.952713e-11</td></tr>\n",
       "\t<tr><th scope=row>TRINITY_DN28_c10_g1_i1</th><td>1132.20916  </td><td>-5.177285   </td><td>0.6551594   </td><td>-7.902329   </td><td>2.737405e-15</td><td>6.815248e-11</td></tr>\n",
       "\t<tr><th scope=row>TRINITY_DN112882_c0_g1_i1</th><td>  13.39989  </td><td> 1.681456   </td><td>0.2146399   </td><td> 7.833844   </td><td>4.731755e-15</td><td>9.424426e-11</td></tr>\n",
       "\t<tr><th scope=row>TRINITY_DN9438_c0_g1_i1</th><td> 142.56839  </td><td>-5.880431   </td><td>0.7650680   </td><td>-7.686156   </td><td>1.516222e-14</td><td>2.516599e-10</td></tr>\n",
       "\t<tr><th scope=row>TRINITY_DN58794_c0_g1_i1</th><td>  61.21282  </td><td> 1.687940   </td><td>0.2244388   </td><td> 7.520716   </td><td>5.447710e-14</td><td>7.750301e-10</td></tr>\n",
       "\t<tr><th scope=row>TRINITY_DN35566_c0_g1_i1</th><td>  47.75232  </td><td> 3.399020   </td><td>0.4554925   </td><td> 7.462298   </td><td>8.502662e-14</td><td>1.049912e-09</td></tr>\n",
       "\t<tr><th scope=row>TRINITY_DN29984_c0_g1_i1</th><td>  44.80880  </td><td>-4.244960   </td><td>0.5699589   </td><td>-7.447836   </td><td>9.488399e-14</td><td>1.049912e-09</td></tr>\n",
       "\t<tr><th scope=row>TRINITY_DN61940_c0_g1_i1</th><td>  20.21961  </td><td> 3.445981   </td><td>0.4637618   </td><td> 7.430498   </td><td>1.081898e-13</td><td>1.077430e-09</td></tr>\n",
       "\t<tr><th scope=row>TRINITY_DN56560_c0_g1_i1</th><td>  14.49407  </td><td> 3.616063   </td><td>0.4897863   </td><td> 7.382941   </td><td>1.548311e-13</td><td>1.401742e-09</td></tr>\n",
       "\t<tr><th scope=row>TRINITY_DN10388_c0_g1_i1</th><td>  40.11642  </td><td>-1.739327   </td><td>0.2365094   </td><td>-7.354156   </td><td>1.921366e-13</td><td>1.594526e-09</td></tr>\n",
       "\t<tr><th scope=row>TRINITY_DN59586_c1_g1_i1</th><td>  35.91428  </td><td> 2.377895   </td><td>0.3242582   </td><td> 7.333336   </td><td>2.244923e-13</td><td>1.719732e-09</td></tr>\n",
       "\t<tr><th scope=row>TRINITY_DN4558_c1_g1_i1</th><td> 572.38471  </td><td>-5.141589   </td><td>0.7036464   </td><td>-7.307063   </td><td>2.730442e-13</td><td>1.940932e-09</td></tr>\n",
       "\t<tr><th scope=row>TRINITY_DN4309_c0_g1_i2</th><td> 226.94981  </td><td>-7.230498   </td><td>0.9907675   </td><td>-7.297875   </td><td>2.923471e-13</td><td>1.940932e-09</td></tr>\n",
       "\t<tr><th scope=row>TRINITY_DN880_c1_g1_i1</th><td>  20.38989  </td><td>-1.789354   </td><td>0.2463453   </td><td>-7.263602   </td><td>3.769146e-13</td><td>2.345987e-09</td></tr>\n",
       "\t<tr><th scope=row>TRINITY_DN5780_c0_g1_i1</th><td> 426.68139  </td><td>-1.260527   </td><td>0.1751339   </td><td>-7.197504   </td><td>6.132495e-13</td><td>3.592452e-09</td></tr>\n",
       "\t<tr><th scope=row>TRINITY_DN94593_c0_g1_i1</th><td>  35.99666  </td><td>-1.822061   </td><td>0.2535474   </td><td>-7.186272   </td><td>6.658434e-13</td><td>3.683853e-09</td></tr>\n",
       "\t<tr><th scope=row>TRINITY_DN59602_c0_g1_i1</th><td>  54.58001  </td><td> 2.094829   </td><td>0.2933384   </td><td> 7.141338   </td><td>9.242689e-13</td><td>4.844483e-09</td></tr>\n",
       "\t<tr><th scope=row>TRINITY_DN84163_c0_g1_i1</th><td>  27.15269  </td><td> 3.567264   </td><td>0.5013366   </td><td> 7.115508   </td><td>1.115016e-12</td><td>5.552057e-09</td></tr>\n",
       "</tbody>\n",
       "</table>\n"
      ],
      "text/latex": [
       "\\begin{tabular}{r|llllll}\n",
       "  & baseMean & log2FoldChange & lfcSE & stat & pvalue & padj\\\\\n",
       "\\hline\n",
       "\tTRINITY\\_DN2290\\_c0\\_g1\\_i1 &  129.67184   & -4.586661    & 0.5558085    & -8.252233    & 1.554621e-16 & 1.548201e-11\\\\\n",
       "\tTRINITY\\_DN21375\\_c0\\_g1\\_i1 &  750.13158   &  2.437766    & 0.2991848    &  8.148026    & 3.699137e-16 & 1.841930e-11\\\\\n",
       "\tTRINITY\\_DN129162\\_c0\\_g1\\_i1 &   99.79871   &  3.035223    & 0.3791467    &  8.005406    & 1.190732e-15 & 3.952713e-11\\\\\n",
       "\tTRINITY\\_DN28\\_c10\\_g1\\_i1 & 1132.20916   & -5.177285    & 0.6551594    & -7.902329    & 2.737405e-15 & 6.815248e-11\\\\\n",
       "\tTRINITY\\_DN112882\\_c0\\_g1\\_i1 &   13.39989   &  1.681456    & 0.2146399    &  7.833844    & 4.731755e-15 & 9.424426e-11\\\\\n",
       "\tTRINITY\\_DN9438\\_c0\\_g1\\_i1 &  142.56839   & -5.880431    & 0.7650680    & -7.686156    & 1.516222e-14 & 2.516599e-10\\\\\n",
       "\tTRINITY\\_DN58794\\_c0\\_g1\\_i1 &   61.21282   &  1.687940    & 0.2244388    &  7.520716    & 5.447710e-14 & 7.750301e-10\\\\\n",
       "\tTRINITY\\_DN35566\\_c0\\_g1\\_i1 &   47.75232   &  3.399020    & 0.4554925    &  7.462298    & 8.502662e-14 & 1.049912e-09\\\\\n",
       "\tTRINITY\\_DN29984\\_c0\\_g1\\_i1 &   44.80880   & -4.244960    & 0.5699589    & -7.447836    & 9.488399e-14 & 1.049912e-09\\\\\n",
       "\tTRINITY\\_DN61940\\_c0\\_g1\\_i1 &   20.21961   &  3.445981    & 0.4637618    &  7.430498    & 1.081898e-13 & 1.077430e-09\\\\\n",
       "\tTRINITY\\_DN56560\\_c0\\_g1\\_i1 &   14.49407   &  3.616063    & 0.4897863    &  7.382941    & 1.548311e-13 & 1.401742e-09\\\\\n",
       "\tTRINITY\\_DN10388\\_c0\\_g1\\_i1 &   40.11642   & -1.739327    & 0.2365094    & -7.354156    & 1.921366e-13 & 1.594526e-09\\\\\n",
       "\tTRINITY\\_DN59586\\_c1\\_g1\\_i1 &   35.91428   &  2.377895    & 0.3242582    &  7.333336    & 2.244923e-13 & 1.719732e-09\\\\\n",
       "\tTRINITY\\_DN4558\\_c1\\_g1\\_i1 &  572.38471   & -5.141589    & 0.7036464    & -7.307063    & 2.730442e-13 & 1.940932e-09\\\\\n",
       "\tTRINITY\\_DN4309\\_c0\\_g1\\_i2 &  226.94981   & -7.230498    & 0.9907675    & -7.297875    & 2.923471e-13 & 1.940932e-09\\\\\n",
       "\tTRINITY\\_DN880\\_c1\\_g1\\_i1 &   20.38989   & -1.789354    & 0.2463453    & -7.263602    & 3.769146e-13 & 2.345987e-09\\\\\n",
       "\tTRINITY\\_DN5780\\_c0\\_g1\\_i1 &  426.68139   & -1.260527    & 0.1751339    & -7.197504    & 6.132495e-13 & 3.592452e-09\\\\\n",
       "\tTRINITY\\_DN94593\\_c0\\_g1\\_i1 &   35.99666   & -1.822061    & 0.2535474    & -7.186272    & 6.658434e-13 & 3.683853e-09\\\\\n",
       "\tTRINITY\\_DN59602\\_c0\\_g1\\_i1 &   54.58001   &  2.094829    & 0.2933384    &  7.141338    & 9.242689e-13 & 4.844483e-09\\\\\n",
       "\tTRINITY\\_DN84163\\_c0\\_g1\\_i1 &   27.15269   &  3.567264    & 0.5013366    &  7.115508    & 1.115016e-12 & 5.552057e-09\\\\\n",
       "\\end{tabular}\n"
      ],
      "text/markdown": [
       "\n",
       "| <!--/--> | baseMean | log2FoldChange | lfcSE | stat | pvalue | padj |\n",
       "|---|---|---|---|---|---|---|\n",
       "| TRINITY_DN2290_c0_g1_i1 |  129.67184   | -4.586661    | 0.5558085    | -8.252233    | 1.554621e-16 | 1.548201e-11 |\n",
       "| TRINITY_DN21375_c0_g1_i1 |  750.13158   |  2.437766    | 0.2991848    |  8.148026    | 3.699137e-16 | 1.841930e-11 |\n",
       "| TRINITY_DN129162_c0_g1_i1 |   99.79871   |  3.035223    | 0.3791467    |  8.005406    | 1.190732e-15 | 3.952713e-11 |\n",
       "| TRINITY_DN28_c10_g1_i1 | 1132.20916   | -5.177285    | 0.6551594    | -7.902329    | 2.737405e-15 | 6.815248e-11 |\n",
       "| TRINITY_DN112882_c0_g1_i1 |   13.39989   |  1.681456    | 0.2146399    |  7.833844    | 4.731755e-15 | 9.424426e-11 |\n",
       "| TRINITY_DN9438_c0_g1_i1 |  142.56839   | -5.880431    | 0.7650680    | -7.686156    | 1.516222e-14 | 2.516599e-10 |\n",
       "| TRINITY_DN58794_c0_g1_i1 |   61.21282   |  1.687940    | 0.2244388    |  7.520716    | 5.447710e-14 | 7.750301e-10 |\n",
       "| TRINITY_DN35566_c0_g1_i1 |   47.75232   |  3.399020    | 0.4554925    |  7.462298    | 8.502662e-14 | 1.049912e-09 |\n",
       "| TRINITY_DN29984_c0_g1_i1 |   44.80880   | -4.244960    | 0.5699589    | -7.447836    | 9.488399e-14 | 1.049912e-09 |\n",
       "| TRINITY_DN61940_c0_g1_i1 |   20.21961   |  3.445981    | 0.4637618    |  7.430498    | 1.081898e-13 | 1.077430e-09 |\n",
       "| TRINITY_DN56560_c0_g1_i1 |   14.49407   |  3.616063    | 0.4897863    |  7.382941    | 1.548311e-13 | 1.401742e-09 |\n",
       "| TRINITY_DN10388_c0_g1_i1 |   40.11642   | -1.739327    | 0.2365094    | -7.354156    | 1.921366e-13 | 1.594526e-09 |\n",
       "| TRINITY_DN59586_c1_g1_i1 |   35.91428   |  2.377895    | 0.3242582    |  7.333336    | 2.244923e-13 | 1.719732e-09 |\n",
       "| TRINITY_DN4558_c1_g1_i1 |  572.38471   | -5.141589    | 0.7036464    | -7.307063    | 2.730442e-13 | 1.940932e-09 |\n",
       "| TRINITY_DN4309_c0_g1_i2 |  226.94981   | -7.230498    | 0.9907675    | -7.297875    | 2.923471e-13 | 1.940932e-09 |\n",
       "| TRINITY_DN880_c1_g1_i1 |   20.38989   | -1.789354    | 0.2463453    | -7.263602    | 3.769146e-13 | 2.345987e-09 |\n",
       "| TRINITY_DN5780_c0_g1_i1 |  426.68139   | -1.260527    | 0.1751339    | -7.197504    | 6.132495e-13 | 3.592452e-09 |\n",
       "| TRINITY_DN94593_c0_g1_i1 |   35.99666   | -1.822061    | 0.2535474    | -7.186272    | 6.658434e-13 | 3.683853e-09 |\n",
       "| TRINITY_DN59602_c0_g1_i1 |   54.58001   |  2.094829    | 0.2933384    |  7.141338    | 9.242689e-13 | 4.844483e-09 |\n",
       "| TRINITY_DN84163_c0_g1_i1 |   27.15269   |  3.567264    | 0.5013366    |  7.115508    | 1.115016e-12 | 5.552057e-09 |\n",
       "\n"
      ],
      "text/plain": [
       "                          baseMean   log2FoldChange lfcSE     stat     \n",
       "TRINITY_DN2290_c0_g1_i1    129.67184 -4.586661      0.5558085 -8.252233\n",
       "TRINITY_DN21375_c0_g1_i1   750.13158  2.437766      0.2991848  8.148026\n",
       "TRINITY_DN129162_c0_g1_i1   99.79871  3.035223      0.3791467  8.005406\n",
       "TRINITY_DN28_c10_g1_i1    1132.20916 -5.177285      0.6551594 -7.902329\n",
       "TRINITY_DN112882_c0_g1_i1   13.39989  1.681456      0.2146399  7.833844\n",
       "TRINITY_DN9438_c0_g1_i1    142.56839 -5.880431      0.7650680 -7.686156\n",
       "TRINITY_DN58794_c0_g1_i1    61.21282  1.687940      0.2244388  7.520716\n",
       "TRINITY_DN35566_c0_g1_i1    47.75232  3.399020      0.4554925  7.462298\n",
       "TRINITY_DN29984_c0_g1_i1    44.80880 -4.244960      0.5699589 -7.447836\n",
       "TRINITY_DN61940_c0_g1_i1    20.21961  3.445981      0.4637618  7.430498\n",
       "TRINITY_DN56560_c0_g1_i1    14.49407  3.616063      0.4897863  7.382941\n",
       "TRINITY_DN10388_c0_g1_i1    40.11642 -1.739327      0.2365094 -7.354156\n",
       "TRINITY_DN59586_c1_g1_i1    35.91428  2.377895      0.3242582  7.333336\n",
       "TRINITY_DN4558_c1_g1_i1    572.38471 -5.141589      0.7036464 -7.307063\n",
       "TRINITY_DN4309_c0_g1_i2    226.94981 -7.230498      0.9907675 -7.297875\n",
       "TRINITY_DN880_c1_g1_i1      20.38989 -1.789354      0.2463453 -7.263602\n",
       "TRINITY_DN5780_c0_g1_i1    426.68139 -1.260527      0.1751339 -7.197504\n",
       "TRINITY_DN94593_c0_g1_i1    35.99666 -1.822061      0.2535474 -7.186272\n",
       "TRINITY_DN59602_c0_g1_i1    54.58001  2.094829      0.2933384  7.141338\n",
       "TRINITY_DN84163_c0_g1_i1    27.15269  3.567264      0.5013366  7.115508\n",
       "                          pvalue       padj        \n",
       "TRINITY_DN2290_c0_g1_i1   1.554621e-16 1.548201e-11\n",
       "TRINITY_DN21375_c0_g1_i1  3.699137e-16 1.841930e-11\n",
       "TRINITY_DN129162_c0_g1_i1 1.190732e-15 3.952713e-11\n",
       "TRINITY_DN28_c10_g1_i1    2.737405e-15 6.815248e-11\n",
       "TRINITY_DN112882_c0_g1_i1 4.731755e-15 9.424426e-11\n",
       "TRINITY_DN9438_c0_g1_i1   1.516222e-14 2.516599e-10\n",
       "TRINITY_DN58794_c0_g1_i1  5.447710e-14 7.750301e-10\n",
       "TRINITY_DN35566_c0_g1_i1  8.502662e-14 1.049912e-09\n",
       "TRINITY_DN29984_c0_g1_i1  9.488399e-14 1.049912e-09\n",
       "TRINITY_DN61940_c0_g1_i1  1.081898e-13 1.077430e-09\n",
       "TRINITY_DN56560_c0_g1_i1  1.548311e-13 1.401742e-09\n",
       "TRINITY_DN10388_c0_g1_i1  1.921366e-13 1.594526e-09\n",
       "TRINITY_DN59586_c1_g1_i1  2.244923e-13 1.719732e-09\n",
       "TRINITY_DN4558_c1_g1_i1   2.730442e-13 1.940932e-09\n",
       "TRINITY_DN4309_c0_g1_i2   2.923471e-13 1.940932e-09\n",
       "TRINITY_DN880_c1_g1_i1    3.769146e-13 2.345987e-09\n",
       "TRINITY_DN5780_c0_g1_i1   6.132495e-13 3.592452e-09\n",
       "TRINITY_DN94593_c0_g1_i1  6.658434e-13 3.683853e-09\n",
       "TRINITY_DN59602_c0_g1_i1  9.242689e-13 4.844483e-09\n",
       "TRINITY_DN84163_c0_g1_i1  1.115016e-12 5.552057e-09"
      ]
     },
     "metadata": {},
     "output_type": "display_data"
    }
   ],
   "source": [
    "res_clean_sig <- data.frame(subset(res_clean, padj < 0.05))\n",
    "res_clean_sig <- res_clean_sig[order(res_clean_sig$padj),]\n",
    "head(res_clean_sig, 20)"
   ]
  },
  {
   "cell_type": "markdown",
   "metadata": {},
   "source": [
    "Just out of curiosity, I'd like to plot the counts for a few top transcripts. "
   ]
  },
  {
   "cell_type": "code",
   "execution_count": 237,
   "metadata": {},
   "outputs": [
    {
     "data": {
      "image/png": "[encoded data removed]",
      "text/plain": [
       "plot without title"
      ]
     },
     "metadata": {},
     "output_type": "display_data"
    }
   ],
   "source": [
    "count_plot <- plotCounts(dds_clean, gene=\"TRINITY_DN4558_c1_g1_i1\", intgroup=c(\"condition\",\"site\"), returnData=TRUE)\n",
    "ggplot(count_plot, aes(x=condition, y=count, color=site)) +\n",
    "    geom_point(position=position_jitter(w=0.2,h=0)) + \n",
    "    scale_y_log10()\n"
   ]
  },
  {
   "cell_type": "markdown",
   "metadata": {},
   "source": [
    "We'll do a variance stabilizing transformation, which is fast and useful for visualization of results.\n",
    "\n",
    "*BLIND OR NOT?*"
   ]
  },
  {
   "cell_type": "code",
   "execution_count": 35,
   "metadata": {},
   "outputs": [],
   "source": [
    "\n",
    "#vsd <- vst(dds_clean) #blind = TRUE or FALSE?"
   ]
  },
  {
   "cell_type": "markdown",
   "metadata": {},
   "source": [
    "Now that we have looked for bulk differences as a result of infection status, we can move on to look at differences among populations with different levels of historical exposure to the parasite. We included the FP samples in our first comparison because it was agnostic to range. However, because it is unresolved whether Loxo is native, invasive, or absent from FP, we are going to remove it from subsequent analyses.\n",
    "\n",
    "We have to make another dds object. I am going to make it from scratch by removing all FP samples from the coldata and counts_clean."
   ]
  },
  {
   "cell_type": "markdown",
   "metadata": {},
   "source": [
    "*WE PROBABLY WANT TO CHANGE THE MODEL FORMULA SO IT ACCOUNTS FOR POPULATION AS BATCH EFFECTS!*\n",
    "\n",
    "<http://bioconductor.org/packages/devel/bioc/vignettes/DESeq2/inst/doc/DESeq2.html#group-specific-condition-effects-individuals-nested-within-groups>"
   ]
  },
  {
   "cell_type": "code",
   "execution_count": 36,
   "metadata": {},
   "outputs": [],
   "source": [
    "counts_clean_noFP <- counts_clean[,!grepl(\"FP_*_*\",colnames(counts_clean))]\n",
    "coldata_noFP <- coldata[colnames(counts_clean_noFP),]"
   ]
  },
  {
   "cell_type": "markdown",
   "metadata": {},
   "source": [
    "Just a quick sanity check to make sure the samples are in the same order in the counts and metadata matrices."
   ]
  },
  {
   "cell_type": "code",
   "execution_count": 37,
   "metadata": {},
   "outputs": [
    {
     "data": {
      "text/html": [
       "TRUE"
      ],
      "text/latex": [
       "TRUE"
      ],
      "text/markdown": [
       "TRUE"
      ],
      "text/plain": [
       "[1] TRUE"
      ]
     },
     "metadata": {},
     "output_type": "display_data"
    }
   ],
   "source": [
    "all(rownames(coldata_noFP) == colnames(counts_clean_noFP))"
   ]
  },
  {
   "cell_type": "markdown",
   "metadata": {},
   "source": [
    "Good. Now we can specify the model design and the reference levels."
   ]
  },
  {
   "cell_type": "code",
   "execution_count": 38,
   "metadata": {},
   "outputs": [
    {
     "name": "stderr",
     "output_type": "stream",
     "text": [
      "converting counts to integer mode\n",
      "factor levels were dropped which had no samples\n"
     ]
    }
   ],
   "source": [
    "dds_interaction <- DESeqDataSetFromMatrix(countData = counts_clean_noFP, colData = coldata_noFP, design = ~ range + condition + range:condition)\n",
    "dds_interaction$condition <- relevel(dds_interaction$condition, ref = \"C\")\n",
    "dds_interaction$range <- relevel(dds_interaction$range, ref = \"Native\")"
   ]
  },
  {
   "cell_type": "markdown",
   "metadata": {},
   "source": [
    "Let's make sure we have the design and levels we want. "
   ]
  },
  {
   "cell_type": "code",
   "execution_count": 39,
   "metadata": {},
   "outputs": [
    {
     "data": {
      "text/plain": [
       "~range + condition + range:condition"
      ]
     },
     "metadata": {},
     "output_type": "display_data"
    },
    {
     "data": {
      "text/html": [
       "<ol class=list-inline>\n",
       "\t<li>C</li>\n",
       "\t<li>C</li>\n",
       "\t<li>C</li>\n",
       "\t<li>C</li>\n",
       "\t<li>C</li>\n",
       "\t<li>C</li>\n",
       "\t<li>P</li>\n",
       "\t<li>P</li>\n",
       "\t<li>P</li>\n",
       "\t<li>P</li>\n",
       "\t<li>C</li>\n",
       "\t<li>C</li>\n",
       "\t<li>C</li>\n",
       "\t<li>C</li>\n",
       "\t<li>C</li>\n",
       "\t<li>C</li>\n",
       "\t<li>P</li>\n",
       "\t<li>P</li>\n",
       "\t<li>C</li>\n",
       "\t<li>C</li>\n",
       "\t<li>C</li>\n",
       "\t<li>C</li>\n",
       "\t<li>C</li>\n",
       "\t<li>P</li>\n",
       "\t<li>C</li>\n",
       "\t<li>C</li>\n",
       "\t<li>C</li>\n",
       "\t<li>P</li>\n",
       "\t<li>C</li>\n",
       "\t<li>C</li>\n",
       "\t<li>C</li>\n",
       "\t<li>C</li>\n",
       "\t<li>C</li>\n",
       "\t<li>C</li>\n",
       "\t<li>P</li>\n",
       "\t<li>P</li>\n",
       "\t<li>C</li>\n",
       "\t<li>C</li>\n",
       "\t<li>C</li>\n",
       "\t<li>C</li>\n",
       "\t<li>C</li>\n",
       "\t<li>C</li>\n",
       "\t<li>P</li>\n",
       "\t<li>P</li>\n",
       "\t<li>P</li>\n",
       "\t<li>P</li>\n",
       "\t<li>P</li>\n",
       "\t<li>P</li>\n",
       "\t<li>C</li>\n",
       "\t<li>C</li>\n",
       "\t<li>C</li>\n",
       "\t<li>C</li>\n",
       "\t<li>C</li>\n",
       "\t<li>C</li>\n",
       "\t<li>P</li>\n",
       "\t<li>P</li>\n",
       "\t<li>P</li>\n",
       "\t<li>P</li>\n",
       "\t<li>P</li>\n",
       "\t<li>P</li>\n",
       "\t<li>C</li>\n",
       "\t<li>C</li>\n",
       "\t<li>C</li>\n",
       "\t<li>C</li>\n",
       "\t<li>C</li>\n",
       "\t<li>C</li>\n",
       "\t<li>P</li>\n",
       "\t<li>P</li>\n",
       "\t<li>P</li>\n",
       "</ol>\n",
       "\n",
       "<details>\n",
       "\t<summary style=display:list-item;cursor:pointer>\n",
       "\t\t<strong>Levels</strong>:\n",
       "\t</summary>\n",
       "\t<ol class=list-inline>\n",
       "\t\t<li>'C'</li>\n",
       "\t\t<li>'P'</li>\n",
       "\t</ol>\n",
       "</details>"
      ],
      "text/latex": [
       "\\begin{enumerate*}\n",
       "\\item C\n",
       "\\item C\n",
       "\\item C\n",
       "\\item C\n",
       "\\item C\n",
       "\\item C\n",
       "\\item P\n",
       "\\item P\n",
       "\\item P\n",
       "\\item P\n",
       "\\item C\n",
       "\\item C\n",
       "\\item C\n",
       "\\item C\n",
       "\\item C\n",
       "\\item C\n",
       "\\item P\n",
       "\\item P\n",
       "\\item C\n",
       "\\item C\n",
       "\\item C\n",
       "\\item C\n",
       "\\item C\n",
       "\\item P\n",
       "\\item C\n",
       "\\item C\n",
       "\\item C\n",
       "\\item P\n",
       "\\item C\n",
       "\\item C\n",
       "\\item C\n",
       "\\item C\n",
       "\\item C\n",
       "\\item C\n",
       "\\item P\n",
       "\\item P\n",
       "\\item C\n",
       "\\item C\n",
       "\\item C\n",
       "\\item C\n",
       "\\item C\n",
       "\\item C\n",
       "\\item P\n",
       "\\item P\n",
       "\\item P\n",
       "\\item P\n",
       "\\item P\n",
       "\\item P\n",
       "\\item C\n",
       "\\item C\n",
       "\\item C\n",
       "\\item C\n",
       "\\item C\n",
       "\\item C\n",
       "\\item P\n",
       "\\item P\n",
       "\\item P\n",
       "\\item P\n",
       "\\item P\n",
       "\\item P\n",
       "\\item C\n",
       "\\item C\n",
       "\\item C\n",
       "\\item C\n",
       "\\item C\n",
       "\\item C\n",
       "\\item P\n",
       "\\item P\n",
       "\\item P\n",
       "\\end{enumerate*}\n",
       "\n",
       "\\emph{Levels}: \\begin{enumerate*}\n",
       "\\item 'C'\n",
       "\\item 'P'\n",
       "\\end{enumerate*}\n"
      ],
      "text/markdown": [
       "1. C\n",
       "2. C\n",
       "3. C\n",
       "4. C\n",
       "5. C\n",
       "6. C\n",
       "7. P\n",
       "8. P\n",
       "9. P\n",
       "10. P\n",
       "11. C\n",
       "12. C\n",
       "13. C\n",
       "14. C\n",
       "15. C\n",
       "16. C\n",
       "17. P\n",
       "18. P\n",
       "19. C\n",
       "20. C\n",
       "21. C\n",
       "22. C\n",
       "23. C\n",
       "24. P\n",
       "25. C\n",
       "26. C\n",
       "27. C\n",
       "28. P\n",
       "29. C\n",
       "30. C\n",
       "31. C\n",
       "32. C\n",
       "33. C\n",
       "34. C\n",
       "35. P\n",
       "36. P\n",
       "37. C\n",
       "38. C\n",
       "39. C\n",
       "40. C\n",
       "41. C\n",
       "42. C\n",
       "43. P\n",
       "44. P\n",
       "45. P\n",
       "46. P\n",
       "47. P\n",
       "48. P\n",
       "49. C\n",
       "50. C\n",
       "51. C\n",
       "52. C\n",
       "53. C\n",
       "54. C\n",
       "55. P\n",
       "56. P\n",
       "57. P\n",
       "58. P\n",
       "59. P\n",
       "60. P\n",
       "61. C\n",
       "62. C\n",
       "63. C\n",
       "64. C\n",
       "65. C\n",
       "66. C\n",
       "67. P\n",
       "68. P\n",
       "69. P\n",
       "\n",
       "\n",
       "\n",
       "**Levels**: 1. 'C'\n",
       "2. 'P'\n",
       "\n",
       "\n"
      ],
      "text/plain": [
       " [1] C C C C C C P P P P C C C C C C P P C C C C C P C C C P C C C C C C P P C C\n",
       "[39] C C C C P P P P P P C C C C C C P P P P P P C C C C C C P P P\n",
       "Levels: C P"
      ]
     },
     "metadata": {},
     "output_type": "display_data"
    },
    {
     "data": {
      "text/html": [
       "<ol class=list-inline>\n",
       "\t<li>Native</li>\n",
       "\t<li>Native</li>\n",
       "\t<li>Native</li>\n",
       "\t<li>Native</li>\n",
       "\t<li>Native</li>\n",
       "\t<li>Native</li>\n",
       "\t<li>Native</li>\n",
       "\t<li>Native</li>\n",
       "\t<li>Native</li>\n",
       "\t<li>Native</li>\n",
       "\t<li>Native</li>\n",
       "\t<li>Native</li>\n",
       "\t<li>Native</li>\n",
       "\t<li>Native</li>\n",
       "\t<li>Native</li>\n",
       "\t<li>Native</li>\n",
       "\t<li>Native</li>\n",
       "\t<li>Native</li>\n",
       "\t<li>Absent</li>\n",
       "\t<li>Absent</li>\n",
       "\t<li>Absent</li>\n",
       "\t<li>Invasive</li>\n",
       "\t<li>Invasive</li>\n",
       "\t<li>Invasive</li>\n",
       "\t<li>Invasive</li>\n",
       "\t<li>Invasive</li>\n",
       "\t<li>Invasive</li>\n",
       "\t<li>Invasive</li>\n",
       "\t<li>Invasive</li>\n",
       "\t<li>Invasive</li>\n",
       "\t<li>Invasive</li>\n",
       "\t<li>Invasive</li>\n",
       "\t<li>Invasive</li>\n",
       "\t<li>Invasive</li>\n",
       "\t<li>Invasive</li>\n",
       "\t<li>Invasive</li>\n",
       "\t<li>Absent</li>\n",
       "\t<li>Absent</li>\n",
       "\t<li>Absent</li>\n",
       "\t<li>Absent</li>\n",
       "\t<li>Absent</li>\n",
       "\t<li>Absent</li>\n",
       "\t<li>Absent</li>\n",
       "\t<li>Absent</li>\n",
       "\t<li>Absent</li>\n",
       "\t<li>Absent</li>\n",
       "\t<li>Absent</li>\n",
       "\t<li>Absent</li>\n",
       "\t<li>Absent</li>\n",
       "\t<li>Absent</li>\n",
       "\t<li>Absent</li>\n",
       "\t<li>Absent</li>\n",
       "\t<li>Absent</li>\n",
       "\t<li>Absent</li>\n",
       "\t<li>Absent</li>\n",
       "\t<li>Absent</li>\n",
       "\t<li>Absent</li>\n",
       "\t<li>Absent</li>\n",
       "\t<li>Absent</li>\n",
       "\t<li>Absent</li>\n",
       "\t<li>Invasive</li>\n",
       "\t<li>Invasive</li>\n",
       "\t<li>Invasive</li>\n",
       "\t<li>Invasive</li>\n",
       "\t<li>Invasive</li>\n",
       "\t<li>Invasive</li>\n",
       "\t<li>Invasive</li>\n",
       "\t<li>Invasive</li>\n",
       "\t<li>Invasive</li>\n",
       "</ol>\n",
       "\n",
       "<details>\n",
       "\t<summary style=display:list-item;cursor:pointer>\n",
       "\t\t<strong>Levels</strong>:\n",
       "\t</summary>\n",
       "\t<ol class=list-inline>\n",
       "\t\t<li>'Native'</li>\n",
       "\t\t<li>'Absent'</li>\n",
       "\t\t<li>'Invasive'</li>\n",
       "\t</ol>\n",
       "</details>"
      ],
      "text/latex": [
       "\\begin{enumerate*}\n",
       "\\item Native\n",
       "\\item Native\n",
       "\\item Native\n",
       "\\item Native\n",
       "\\item Native\n",
       "\\item Native\n",
       "\\item Native\n",
       "\\item Native\n",
       "\\item Native\n",
       "\\item Native\n",
       "\\item Native\n",
       "\\item Native\n",
       "\\item Native\n",
       "\\item Native\n",
       "\\item Native\n",
       "\\item Native\n",
       "\\item Native\n",
       "\\item Native\n",
       "\\item Absent\n",
       "\\item Absent\n",
       "\\item Absent\n",
       "\\item Invasive\n",
       "\\item Invasive\n",
       "\\item Invasive\n",
       "\\item Invasive\n",
       "\\item Invasive\n",
       "\\item Invasive\n",
       "\\item Invasive\n",
       "\\item Invasive\n",
       "\\item Invasive\n",
       "\\item Invasive\n",
       "\\item Invasive\n",
       "\\item Invasive\n",
       "\\item Invasive\n",
       "\\item Invasive\n",
       "\\item Invasive\n",
       "\\item Absent\n",
       "\\item Absent\n",
       "\\item Absent\n",
       "\\item Absent\n",
       "\\item Absent\n",
       "\\item Absent\n",
       "\\item Absent\n",
       "\\item Absent\n",
       "\\item Absent\n",
       "\\item Absent\n",
       "\\item Absent\n",
       "\\item Absent\n",
       "\\item Absent\n",
       "\\item Absent\n",
       "\\item Absent\n",
       "\\item Absent\n",
       "\\item Absent\n",
       "\\item Absent\n",
       "\\item Absent\n",
       "\\item Absent\n",
       "\\item Absent\n",
       "\\item Absent\n",
       "\\item Absent\n",
       "\\item Absent\n",
       "\\item Invasive\n",
       "\\item Invasive\n",
       "\\item Invasive\n",
       "\\item Invasive\n",
       "\\item Invasive\n",
       "\\item Invasive\n",
       "\\item Invasive\n",
       "\\item Invasive\n",
       "\\item Invasive\n",
       "\\end{enumerate*}\n",
       "\n",
       "\\emph{Levels}: \\begin{enumerate*}\n",
       "\\item 'Native'\n",
       "\\item 'Absent'\n",
       "\\item 'Invasive'\n",
       "\\end{enumerate*}\n"
      ],
      "text/markdown": [
       "1. Native\n",
       "2. Native\n",
       "3. Native\n",
       "4. Native\n",
       "5. Native\n",
       "6. Native\n",
       "7. Native\n",
       "8. Native\n",
       "9. Native\n",
       "10. Native\n",
       "11. Native\n",
       "12. Native\n",
       "13. Native\n",
       "14. Native\n",
       "15. Native\n",
       "16. Native\n",
       "17. Native\n",
       "18. Native\n",
       "19. Absent\n",
       "20. Absent\n",
       "21. Absent\n",
       "22. Invasive\n",
       "23. Invasive\n",
       "24. Invasive\n",
       "25. Invasive\n",
       "26. Invasive\n",
       "27. Invasive\n",
       "28. Invasive\n",
       "29. Invasive\n",
       "30. Invasive\n",
       "31. Invasive\n",
       "32. Invasive\n",
       "33. Invasive\n",
       "34. Invasive\n",
       "35. Invasive\n",
       "36. Invasive\n",
       "37. Absent\n",
       "38. Absent\n",
       "39. Absent\n",
       "40. Absent\n",
       "41. Absent\n",
       "42. Absent\n",
       "43. Absent\n",
       "44. Absent\n",
       "45. Absent\n",
       "46. Absent\n",
       "47. Absent\n",
       "48. Absent\n",
       "49. Absent\n",
       "50. Absent\n",
       "51. Absent\n",
       "52. Absent\n",
       "53. Absent\n",
       "54. Absent\n",
       "55. Absent\n",
       "56. Absent\n",
       "57. Absent\n",
       "58. Absent\n",
       "59. Absent\n",
       "60. Absent\n",
       "61. Invasive\n",
       "62. Invasive\n",
       "63. Invasive\n",
       "64. Invasive\n",
       "65. Invasive\n",
       "66. Invasive\n",
       "67. Invasive\n",
       "68. Invasive\n",
       "69. Invasive\n",
       "\n",
       "\n",
       "\n",
       "**Levels**: 1. 'Native'\n",
       "2. 'Absent'\n",
       "3. 'Invasive'\n",
       "\n",
       "\n"
      ],
      "text/plain": [
       " [1] Native   Native   Native   Native   Native   Native   Native   Native  \n",
       " [9] Native   Native   Native   Native   Native   Native   Native   Native  \n",
       "[17] Native   Native   Absent   Absent   Absent   Invasive Invasive Invasive\n",
       "[25] Invasive Invasive Invasive Invasive Invasive Invasive Invasive Invasive\n",
       "[33] Invasive Invasive Invasive Invasive Absent   Absent   Absent   Absent  \n",
       "[41] Absent   Absent   Absent   Absent   Absent   Absent   Absent   Absent  \n",
       "[49] Absent   Absent   Absent   Absent   Absent   Absent   Absent   Absent  \n",
       "[57] Absent   Absent   Absent   Absent   Invasive Invasive Invasive Invasive\n",
       "[65] Invasive Invasive Invasive Invasive Invasive\n",
       "Levels: Native Absent Invasive"
      ]
     },
     "metadata": {},
     "output_type": "display_data"
    }
   ],
   "source": [
    "design(dds_interaction)\n",
    "dds_interaction$condition\n",
    "dds_interaction$range"
   ]
  },
  {
   "cell_type": "markdown",
   "metadata": {},
   "source": [
    "We have our correct model formula. Clicking on the \"Levels\" arrow, we can see that \"C\" appears first for condition and \"Native\" appears first for range, indicating they are the reference level for their respective factors.\n",
    "\n",
    "Now we can move on to running the analysis."
   ]
  },
  {
   "cell_type": "code",
   "execution_count": 40,
   "metadata": {},
   "outputs": [
    {
     "name": "stderr",
     "output_type": "stream",
     "text": [
      "estimating size factors\n",
      "estimating dispersions\n",
      "gene-wise dispersion estimates\n",
      "mean-dispersion relationship\n",
      "-- note: fitType='parametric', but the dispersion trend was not well captured by the\n",
      "   function: y = a/x + b, and a local regression fit was automatically substituted.\n",
      "   specify fitType='local' or 'mean' to avoid this message next time.\n",
      "final dispersion estimates\n",
      "fitting model and testing\n",
      "-- replacing outliers and refitting for 12206 genes\n",
      "-- DESeq argument 'minReplicatesForReplace' = 7 \n",
      "-- original counts are preserved in counts(dds)\n",
      "estimating dispersions\n",
      "fitting model and testing\n"
     ]
    }
   ],
   "source": [
    "dds_interaction <- DESeq(dds_interaction)"
   ]
  },
  {
   "cell_type": "code",
   "execution_count": 41,
   "metadata": {},
   "outputs": [
    {
     "data": {
      "text/html": [
       "<ol class=list-inline>\n",
       "\t<li>'Intercept'</li>\n",
       "\t<li>'range_Absent_vs_Native'</li>\n",
       "\t<li>'range_Invasive_vs_Native'</li>\n",
       "\t<li>'condition_P_vs_C'</li>\n",
       "\t<li>'rangeAbsent.conditionP'</li>\n",
       "\t<li>'rangeInvasive.conditionP'</li>\n",
       "</ol>\n"
      ],
      "text/latex": [
       "\\begin{enumerate*}\n",
       "\\item 'Intercept'\n",
       "\\item 'range\\_Absent\\_vs\\_Native'\n",
       "\\item 'range\\_Invasive\\_vs\\_Native'\n",
       "\\item 'condition\\_P\\_vs\\_C'\n",
       "\\item 'rangeAbsent.conditionP'\n",
       "\\item 'rangeInvasive.conditionP'\n",
       "\\end{enumerate*}\n"
      ],
      "text/markdown": [
       "1. 'Intercept'\n",
       "2. 'range_Absent_vs_Native'\n",
       "3. 'range_Invasive_vs_Native'\n",
       "4. 'condition_P_vs_C'\n",
       "5. 'rangeAbsent.conditionP'\n",
       "6. 'rangeInvasive.conditionP'\n",
       "\n",
       "\n"
      ],
      "text/plain": [
       "[1] \"Intercept\"                \"range_Absent_vs_Native\"  \n",
       "[3] \"range_Invasive_vs_Native\" \"condition_P_vs_C\"        \n",
       "[5] \"rangeAbsent.conditionP\"   \"rangeInvasive.conditionP\""
      ]
     },
     "metadata": {},
     "output_type": "display_data"
    }
   ],
   "source": [
    "resultsNames(dds_interaction)"
   ]
  },
  {
   "cell_type": "markdown",
   "metadata": {},
   "source": [
    "Model fitting is now complete. Looking at `resultsNames()` tells us that we have all of the expected coefficients in our model. \n",
    "\n",
    "We are interested in a number of comparisons. First, we are simply interested in understanding which transcripts are differentially expressed between infected and uninfected crabs *within* each range. Let's save these results to their own data.frames."
   ]
  },
  {
   "cell_type": "code",
   "execution_count": 42,
   "metadata": {},
   "outputs": [
    {
     "name": "stdout",
     "output_type": "stream",
     "text": [
      "\n",
      "out of 143194 with nonzero total read count\n",
      "adjusted p-value < 0.05\n",
      "LFC > 0 (up)       : 757, 0.53%\n",
      "LFC < 0 (down)     : 478, 0.33%\n",
      "outliers [1]       : 285, 0.2%\n",
      "low counts [2]     : 75288, 53%\n",
      "(mean count < 4)\n",
      "[1] see 'cooksCutoff' argument of ?results\n",
      "[2] see 'independentFiltering' argument of ?results\n",
      "\n",
      "\n",
      "out of 143194 with nonzero total read count\n",
      "adjusted p-value < 0.05\n",
      "LFC > 0 (up)       : 3195, 2.2%\n",
      "LFC < 0 (down)     : 1630, 1.1%\n",
      "outliers [1]       : 285, 0.2%\n",
      "low counts [2]     : 66975, 47%\n",
      "(mean count < 3)\n",
      "[1] see 'cooksCutoff' argument of ?results\n",
      "[2] see 'independentFiltering' argument of ?results\n",
      "\n",
      "\n",
      "out of 143194 with nonzero total read count\n",
      "adjusted p-value < 0.05\n",
      "LFC > 0 (up)       : 3889, 2.7%\n",
      "LFC < 0 (down)     : 3350, 2.3%\n",
      "outliers [1]       : 285, 0.2%\n",
      "low counts [2]     : 44826, 31%\n",
      "(mean count < 1)\n",
      "[1] see 'cooksCutoff' argument of ?results\n",
      "[2] see 'independentFiltering' argument of ?results\n",
      "\n"
     ]
    }
   ],
   "source": [
    "native.PvC <- results(dds_interaction, alpha=0.05, contrast=c(\"condition\",\"P\",\"C\"))\n",
    "invasive.PvC <- results(dds_interaction, alpha=0.05, contrast=list( c(\"condition_P_vs_C\",\"rangeInvasive.conditionP\")))\n",
    "absent.PvC <- results(dds_interaction, alpha=0.05, contrast=list( c(\"condition_P_vs_C\",\"rangeAbsent.conditionP\")))\n",
    "summary(native.PvC)\n",
    "summary(invasive.PvC)\n",
    "summary(absent.PvC)"
   ]
  },
  {
   "cell_type": "markdown",
   "metadata": {},
   "source": [
    "*THIS WILL HAVE TO BE REDONE!*\n",
    "\n",
    "Just a brief description of the results.\n",
    "\n",
    "For the native range populations (AP & LA), there are 757 significantly upregulated transcripts and 478 significantly downregulated transcripts. In contrast, for the invasive range there are a lot more, with 3195 significantly upregulated and 1630 significantly downregulated transcripts. There are even more for the absent range, with a large boost in the number of downregulated over the invasive range. For the absent range, there are 3889 significantly upregulated and 3350 significantly downregulated transcripts. \n",
    "\n",
    "But is this all due to difference in historical exposure to the parasite? Or could it be an effect of differing numbers of samples between ranges? When you exclude FP (range unresolved) and MA_C_3 (bad seq data), there are a total of 18 native samples, 24 invasive samples, and 26 absent samples. So the elevated recovery of DE transcripts could  be due in part to deeper sampling/sequencing. I think the best normalization in this case would be library size, i.e. total bp in filtered reads from each of the three ranges as denominator, to see if this is an effect of sampling/sequencing effort. I am not sure if this is accounted for under the hood of DESeq2.\n",
    "\n",
    "There is almost certainly another effect of which samples were used for the assembly. It was just the uninfected samples, although there are certainly disparaties among ranges as well as far as to what proportion of the assembly is derived from reads from that range. \n",
    "\n",
    "Now I'll save the significant results to data.frames:"
   ]
  },
  {
   "cell_type": "code",
   "execution_count": 43,
   "metadata": {},
   "outputs": [],
   "source": [
    "native.PvC.df <- data.frame(subset(native.PvC, padj < 0.05))\n",
    "invasive.PvC.df <- data.frame(subset(invasive.PvC, padj < 0.05))\n",
    "absent.PvC.df <- data.frame(subset(absent.PvC, padj < 0.05))\n",
    "native.PvC.df <- native.PvC.df[order(native.PvC.df$padj),]\n",
    "invasive.PvC.df <- invasive.PvC.df[order(invasive.PvC.df$padj),]\n",
    "absent.PvC.df <- absent.PvC.df[order(absent.PvC.df$padj),]"
   ]
  },
  {
   "cell_type": "markdown",
   "metadata": {},
   "source": [
    "I am going to save the names of the up and downregulated transcripts in each range to objects for making Venn diagrams."
   ]
  },
  {
   "cell_type": "code",
   "execution_count": 44,
   "metadata": {},
   "outputs": [],
   "source": [
    "native_DE_up <- rownames(native.PvC.df[native.PvC.df$log2FoldChange > 0,])\n",
    "invasive_DE_up <- rownames(invasive.PvC.df[invasive.PvC.df$log2FoldChange > 0,])\n",
    "absent_DE_up <- rownames(absent.PvC.df[absent.PvC.df$log2FoldChange > 0,])\n",
    "native_DE_down <- rownames(native.PvC.df[native.PvC.df$log2FoldChange < 0,])\n",
    "invasive_DE_down <- rownames(invasive.PvC.df[invasive.PvC.df$log2FoldChange < 0,])\n",
    "absent_DE_down <- rownames(absent.PvC.df[absent.PvC.df$log2FoldChange < 0,])"
   ]
  },
  {
   "cell_type": "markdown",
   "metadata": {},
   "source": [
    "Now I'll make the Venn diagrams."
   ]
  },
  {
   "cell_type": "code",
   "execution_count": 45,
   "metadata": {},
   "outputs": [
    {
     "data": {
      "text/plain": [
       "NULL"
      ]
     },
     "metadata": {},
     "output_type": "display_data"
    },
    {
     "data": {
      "text/html": [
       "1"
      ],
      "text/latex": [
       "1"
      ],
      "text/markdown": [
       "1"
      ],
      "text/plain": [
       "[1] 1"
      ]
     },
     "metadata": {},
     "output_type": "display_data"
    },
    {
     "data": {
      "text/html": [
       "1"
      ],
      "text/latex": [
       "1"
      ],
      "text/markdown": [
       "1"
      ],
      "text/plain": [
       "[1] 1"
      ]
     },
     "metadata": {},
     "output_type": "display_data"
    },
    {
     "data": {
      "text/html": [
       "1"
      ],
      "text/latex": [
       "1"
      ],
      "text/markdown": [
       "1"
      ],
      "text/plain": [
       "[1] 1"
      ]
     },
     "metadata": {},
     "output_type": "display_data"
    }
   ],
   "source": [
    "futile.logger::flog.threshold(futile.logger::ERROR, name = \"VennDiagramLogger\")\n",
    "myCol <- brewer.pal(3, \"Set1\")\n",
    "venn.diagram(\n",
    "        x = list(native_DE_up, invasive_DE_up, absent_DE_up),\n",
    "        category.names = c(\"Native\" , \"Invasive\" , \"Absent\"),\n",
    "        filename = '../vis/venn_range_up.png',\n",
    "        output = TRUE ,\n",
    "        imagetype=\"png\" ,\n",
    "        height = 480 , \n",
    "        width = 480 , \n",
    "        resolution = 300,\n",
    "        compression = \"lzw\",\n",
    "        lwd = 1,\n",
    "        fill = myCol,\n",
    "        cex = 0.5,\n",
    "        fontfamily = \"sans\",\n",
    "        cat.cex = 0.5,\n",
    "        cat.fontface = \"bold\",\n",
    "        cat.default.pos = \"outer\",\n",
    "        cat.pos = c(-27, 27, 180),\n",
    "        cat.dist = c(0.055, 0.055, 0.045),\n",
    "        cat.fontfamily = \"sans\",\n",
    "        cat.col = myCol,\n",
    "        rotation = 1\n",
    ")\n",
    "venn.diagram(\n",
    "        x = list(native_DE_down, invasive_DE_down, absent_DE_down),\n",
    "        category.names = c(\"Native\" , \"Invasive\" , \"Absent\"),\n",
    "        filename = '../vis/venn_range_down.png',\n",
    "        output = TRUE ,\n",
    "        imagetype=\"png\" ,\n",
    "        height = 480 , \n",
    "        width = 480 , \n",
    "        resolution = 300,\n",
    "        compression = \"lzw\",\n",
    "        lwd = 1,\n",
    "        fill = myCol,\n",
    "        cex = 0.5,\n",
    "        fontfamily = \"sans\",\n",
    "        cat.cex = 0.5,\n",
    "        cat.fontface = \"bold\",\n",
    "        cat.default.pos = \"outer\",\n",
    "        cat.pos = c(-27, 27, 180),\n",
    "        cat.dist = c(0.055, 0.055, 0.045),\n",
    "        cat.fontfamily = \"sans\",\n",
    "        cat.col = myCol,\n",
    "        rotation = 1\n",
    ")\n",
    "venn.diagram(\n",
    "        x = list(c(native_DE_down,native_DE_up), c(invasive_DE_down,invasive_DE_up), c(absent_DE_down,absent_DE_up)),\n",
    "        category.names = c(\"Native\" , \"Invasive\" , \"Absent\"),\n",
    "        filename = '../vis/venn_range_both.png',\n",
    "        output = TRUE ,\n",
    "        imagetype=\"png\" ,\n",
    "        height = 480 , \n",
    "        width = 480 , \n",
    "        resolution = 300,\n",
    "        compression = \"lzw\",\n",
    "        lwd = 1,\n",
    "        fill = myCol,\n",
    "        cex = 0.5,\n",
    "        fontfamily = \"sans\",\n",
    "        cat.cex = 0.5,\n",
    "        cat.fontface = \"bold\",\n",
    "        cat.default.pos = \"outer\",\n",
    "        cat.pos = c(-27, 27, 180),\n",
    "        cat.dist = c(0.055, 0.055, 0.045),\n",
    "        cat.fontfamily = \"sans\",\n",
    "        cat.col = myCol,\n",
    "        rotation = 1\n",
    ")"
   ]
  },
  {
   "cell_type": "markdown",
   "metadata": {},
   "source": [
    "Now I am going to apply the LFC shrinkage for optimal ranking and visualization later on. We are using the `ashr` method. It tends to not overshrink the LFCs and is also compatible with contrasts. See the [DESeq2 vignette](http://bioconductor.org/packages/devel/bioc/vignettes/DESeq2/inst/doc/DESeq2.html) for more details.\n",
    "\n",
    "For determining significant transcripts above (in the summary and in making the Venn diagrams), the unshrunk LFC p-values were used, as recommended by the DESeq2 creator [here](https://support.bioconductor.org/p/98833/)."
   ]
  },
  {
   "cell_type": "code",
   "execution_count": 46,
   "metadata": {},
   "outputs": [
    {
     "name": "stderr",
     "output_type": "stream",
     "text": [
      "using 'ashr' for LFC shrinkage. If used in published research, please cite:\n",
      "    Stephens, M. (2016) False discovery rates: a new deal. Biostatistics, 18:2.\n",
      "    https://doi.org/10.1093/biostatistics/kxw041\n",
      "using 'ashr' for LFC shrinkage. If used in published research, please cite:\n",
      "    Stephens, M. (2016) False discovery rates: a new deal. Biostatistics, 18:2.\n",
      "    https://doi.org/10.1093/biostatistics/kxw041\n",
      "using 'ashr' for LFC shrinkage. If used in published research, please cite:\n",
      "    Stephens, M. (2016) False discovery rates: a new deal. Biostatistics, 18:2.\n",
      "    https://doi.org/10.1093/biostatistics/kxw041\n"
     ]
    }
   ],
   "source": [
    "native.PvC.LFCshrink <- lfcShrink(dds_interaction, contrast=c(\"condition\",\"P\",\"C\"), type=\"ashr\")\n",
    "invasive.PvC.LFCshrink <- lfcShrink(dds_interaction, contrast=list( c(\"condition_P_vs_C\",\"rangeInvasive.conditionP\")), type=\"ashr\")\n",
    "absent.PvC.LFCshrink <- lfcShrink(dds_interaction, contrast=list( c(\"condition_P_vs_C\",\"rangeAbsent.conditionP\")), type=\"ashr\")"
   ]
  },
  {
   "cell_type": "markdown",
   "metadata": {},
   "source": [
    "*IN HERE WE'LL MAKE SOME PLOTS FOR WITHIN/AMONG GROUP STUFF*"
   ]
  },
  {
   "cell_type": "markdown",
   "metadata": {},
   "source": [
    "Now on to looking into interactions between the infection status and range."
   ]
  },
  {
   "cell_type": "code",
   "execution_count": 47,
   "metadata": {},
   "outputs": [
    {
     "name": "stdout",
     "output_type": "stream",
     "text": [
      "\n",
      "out of 143194 with nonzero total read count\n",
      "adjusted p-value < 0.05\n",
      "LFC > 0 (up)       : 1813, 1.3%\n",
      "LFC < 0 (down)     : 1953, 1.4%\n",
      "outliers [1]       : 285, 0.2%\n",
      "low counts [2]     : 58673, 41%\n",
      "(mean count < 2)\n",
      "[1] see 'cooksCutoff' argument of ?results\n",
      "[2] see 'independentFiltering' argument of ?results\n",
      "\n",
      "\n",
      "out of 143194 with nonzero total read count\n",
      "adjusted p-value < 0.05\n",
      "LFC > 0 (up)       : 180, 0.13%\n",
      "LFC < 0 (down)     : 545, 0.38%\n",
      "outliers [1]       : 285, 0.2%\n",
      "low counts [2]     : 72518, 51%\n",
      "(mean count < 4)\n",
      "[1] see 'cooksCutoff' argument of ?results\n",
      "[2] see 'independentFiltering' argument of ?results\n",
      "\n",
      "\n",
      "out of 143194 with nonzero total read count\n",
      "adjusted p-value < 0.05\n",
      "LFC > 0 (up)       : 4078, 2.8%\n",
      "LFC < 0 (down)     : 3598, 2.5%\n",
      "outliers [1]       : 285, 0.2%\n",
      "low counts [2]     : 53140, 37%\n",
      "(mean count < 2)\n",
      "[1] see 'cooksCutoff' argument of ?results\n",
      "[2] see 'independentFiltering' argument of ?results\n",
      "\n"
     ]
    }
   ],
   "source": [
    "IvN <- results(dds_interaction, alpha=0.05, name=\"rangeInvasive.conditionP\")\n",
    "AvN <- results(dds_interaction, alpha=0.05, name=\"rangeAbsent.conditionP\")\n",
    "AvI <- results(dds_interaction, alpha=0.05, contrast=list(\"rangeAbsent.conditionP\", \"rangeInvasive.conditionP\"))\n",
    "summary(IvN)\n",
    "summary(AvN)\n",
    "summary(AvI)"
   ]
  },
  {
   "cell_type": "markdown",
   "metadata": {},
   "source": [
    "*WRITE SOME SHIT HERE TO SUMMARIZE ABOVE, BUT FIRST EXPLORE THE DATA*"
   ]
  },
  {
   "cell_type": "code",
   "execution_count": 48,
   "metadata": {},
   "outputs": [],
   "source": [
    "IvN.df <- data.frame(subset(IvN, padj < 0.05))\n",
    "AvN.df <- data.frame(subset(AvN, padj < 0.05))\n",
    "AvI.df <- data.frame(subset(AvI, padj < 0.05))\n",
    "IvN.df <- IvN.df[order(IvN.df$padj),]\n",
    "AvN.df <- AvN.df[order(AvN.df$padj),]\n",
    "AvI.df <- AvI.df[order(AvI.df$padj),]"
   ]
  },
  {
   "cell_type": "code",
   "execution_count": 118,
   "metadata": {},
   "outputs": [
    {
     "data": {
      "text/html": [
       "<table>\n",
       "<thead><tr><th></th><th scope=col>baseMean</th><th scope=col>log2FoldChange</th><th scope=col>lfcSE</th><th scope=col>stat</th><th scope=col>pvalue</th><th scope=col>padj</th></tr></thead>\n",
       "<tbody>\n",
       "\t<tr><th scope=row>TRINITY_DN38142_c0_g1_i2</th><td>   9.556046 </td><td>-22.383506  </td><td>2.2609119   </td><td>-9.900212   </td><td>4.153945e-23</td><td>3.518267e-18</td></tr>\n",
       "\t<tr><th scope=row>TRINITY_DN136252_c0_g1_i1</th><td>   4.239486 </td><td> 24.865795  </td><td>2.7128334   </td><td> 9.165987   </td><td>4.909567e-20</td><td>2.079128e-15</td></tr>\n",
       "\t<tr><th scope=row>TRINITY_DN142173_c0_g1_i1</th><td>   2.695124 </td><td> 22.033548  </td><td>2.8736031   </td><td> 7.667568   </td><td>1.752877e-14</td><td>4.948780e-10</td></tr>\n",
       "\t<tr><th scope=row>TRINITY_DN21593_c0_g1_i1</th><td>  66.034963 </td><td> 10.335512  </td><td>1.4021410   </td><td> 7.371236   </td><td>1.690532e-13</td><td>3.579576e-09</td></tr>\n",
       "\t<tr><th scope=row>TRINITY_DN32458_c0_g1_i1</th><td>  34.384656 </td><td> -4.624553  </td><td>0.6803355   </td><td>-6.797460   </td><td>1.064797e-11</td><td>1.803702e-07</td></tr>\n",
       "\t<tr><th scope=row>TRINITY_DN21043_c0_g1_i1</th><td>  85.939387 </td><td> 10.304219  </td><td>1.5481503   </td><td> 6.655826   </td><td>2.817138e-11</td><td>3.976719e-07</td></tr>\n",
       "\t<tr><th scope=row>TRINITY_DN7282_c0_g1_i1</th><td> 247.147743 </td><td>  5.412608  </td><td>0.8308829   </td><td> 6.514285   </td><td>7.303682e-11</td><td>8.837142e-07</td></tr>\n",
       "\t<tr><th scope=row>TRINITY_DN37436_c0_g1_i1</th><td>  10.707536 </td><td> -5.620953  </td><td>0.8769969   </td><td>-6.409320   </td><td>1.461705e-10</td><td>1.238020e-06</td></tr>\n",
       "\t<tr><th scope=row>TRINITY_DN69624_c0_g1_i1</th><td>   4.280610 </td><td> 25.238317  </td><td>3.9358178   </td><td> 6.412471   </td><td>1.431798e-10</td><td>1.238020e-06</td></tr>\n",
       "\t<tr><th scope=row>TRINITY_DN60996_c0_g1_i1</th><td>  11.605630 </td><td> -4.856085  </td><td>0.7560883   </td><td>-6.422642   </td><td>1.339290e-10</td><td>1.238020e-06</td></tr>\n",
       "\t<tr><th scope=row>TRINITY_DN114725_c0_g1_i1</th><td>  46.558476 </td><td> -4.521659  </td><td>0.7089270   </td><td>-6.378174   </td><td>1.792120e-10</td><td>1.297776e-06</td></tr>\n",
       "\t<tr><th scope=row>TRINITY_DN5469_c0_g1_i1</th><td>2102.926890 </td><td> -4.087725  </td><td>0.6412881   </td><td>-6.374241   </td><td>1.838709e-10</td><td>1.297776e-06</td></tr>\n",
       "\t<tr><th scope=row>TRINITY_DN109777_c0_g1_i1</th><td>   4.120164 </td><td> 17.649745  </td><td>2.8193446   </td><td> 6.260230   </td><td>3.844106e-10</td><td>2.504494e-06</td></tr>\n",
       "\t<tr><th scope=row>TRINITY_DN181_c0_g1_i3</th><td>   7.732258 </td><td> 18.830088  </td><td>3.0596202   </td><td> 6.154387   </td><td>7.536828e-10</td><td>4.210976e-06</td></tr>\n",
       "\t<tr><th scope=row>TRINITY_DN19102_c0_g1_i1</th><td> 145.651445 </td><td> -3.764609  </td><td>0.6125474   </td><td>-6.145825   </td><td>7.954899e-10</td><td>4.210976e-06</td></tr>\n",
       "\t<tr><th scope=row>TRINITY_DN28547_c0_g1_i1</th><td>  18.719661 </td><td> -4.001673  </td><td>0.6510895   </td><td>-6.146119   </td><td>7.940184e-10</td><td>4.210976e-06</td></tr>\n",
       "\t<tr><th scope=row>TRINITY_DN75949_c0_g1_i1</th><td>  28.685612 </td><td> -3.979407  </td><td>0.6501123   </td><td>-6.121107   </td><td>9.292721e-10</td><td>4.629798e-06</td></tr>\n",
       "\t<tr><th scope=row>TRINITY_DN18207_c0_g1_i1</th><td>  89.833913 </td><td> -3.454673  </td><td>0.5683620   </td><td>-6.078298   </td><td>1.214647e-09</td><td>5.715384e-06</td></tr>\n",
       "\t<tr><th scope=row>TRINITY_DN29520_c0_g1_i1</th><td>  51.035787 </td><td> -3.335612  </td><td>0.5523400   </td><td>-6.039055   </td><td>1.550191e-09</td><td>6.910345e-06</td></tr>\n",
       "\t<tr><th scope=row>TRINITY_DN112224_c0_g1_i1</th><td>  30.392199 </td><td>  7.966718  </td><td>1.3312644   </td><td> 5.984325   </td><td>2.172896e-09</td><td>9.201888e-06</td></tr>\n",
       "\t<tr><th scope=row>TRINITY_DN136430_c0_g1_i1</th><td>  17.815672 </td><td>  8.859436  </td><td>1.4839396   </td><td> 5.970213   </td><td>2.369437e-09</td><td>9.556392e-06</td></tr>\n",
       "\t<tr><th scope=row>TRINITY_DN40444_c0_g1_i1</th><td>  22.175902 </td><td> -5.286889  </td><td>0.8892108   </td><td>-5.945597   </td><td>2.754510e-09</td><td>1.060449e-05</td></tr>\n",
       "\t<tr><th scope=row>TRINITY_DN148955_c0_g1_i1</th><td>  19.953472 </td><td> -5.579540  </td><td>0.9403182   </td><td>-5.933673   </td><td>2.962321e-09</td><td>1.090868e-05</td></tr>\n",
       "\t<tr><th scope=row>TRINITY_DN41115_c0_g1_i1</th><td> 112.196233 </td><td> -1.986193  </td><td>0.3373968   </td><td>-5.886817   </td><td>3.937043e-09</td><td>1.284997e-05</td></tr>\n",
       "\t<tr><th scope=row>TRINITY_DN31392_c0_g1_i1</th><td>  20.818522 </td><td>  8.844656  </td><td>1.5025326   </td><td> 5.886498   </td><td>3.944639e-09</td><td>1.284997e-05</td></tr>\n",
       "\t<tr><th scope=row>TRINITY_DN21161_c0_g1_i1</th><td>  31.790164 </td><td> -3.320614  </td><td>0.5638721   </td><td>-5.888949   </td><td>3.886582e-09</td><td>1.284997e-05</td></tr>\n",
       "\t<tr><th scope=row>TRINITY_DN77494_c0_g1_i1</th><td>  14.526810 </td><td> -5.885457  </td><td>1.0017205   </td><td>-5.875348   </td><td>4.219558e-09</td><td>1.323644e-05</td></tr>\n",
       "\t<tr><th scope=row>TRINITY_DN146127_c0_g1_i1</th><td>  45.228179 </td><td> -3.456520  </td><td>0.5899364   </td><td>-5.859140   </td><td>4.652696e-09</td><td>1.407391e-05</td></tr>\n",
       "\t<tr><th scope=row>TRINITY_DN10862_c0_g1_i1</th><td> 179.717363 </td><td>  5.486987  </td><td>0.9396063   </td><td> 5.839666   </td><td>5.230562e-09</td><td>1.527631e-05</td></tr>\n",
       "\t<tr><th scope=row>TRINITY_DN14191_c0_g1_i1</th><td>   3.698294 </td><td> -7.038284  </td><td>1.2117195   </td><td>-5.808510   </td><td>6.303144e-09</td><td>1.571677e-05</td></tr>\n",
       "\t<tr><th scope=row>TRINITY_DN37378_c0_g1_i1</th><td>  14.369906 </td><td> -5.050993  </td><td>0.8686753   </td><td>-5.814593   </td><td>6.078173e-09</td><td>1.571677e-05</td></tr>\n",
       "\t<tr><th scope=row>TRINITY_DN71597_c0_g1_i1</th><td>  11.741323 </td><td> 23.511698  </td><td>4.0381450   </td><td> 5.822401   </td><td>5.800828e-09</td><td>1.571677e-05</td></tr>\n",
       "\t<tr><th scope=row>TRINITY_DN11977_c0_g1_i1</th><td> 110.687847 </td><td> -3.434350  </td><td>0.5912782   </td><td>-5.808349   </td><td>6.309199e-09</td><td>1.571677e-05</td></tr>\n",
       "\t<tr><th scope=row>TRINITY_DN123458_c0_g1_i1</th><td>  64.313248 </td><td> -2.626561  </td><td>0.4508519   </td><td>-5.825773   </td><td>5.684872e-09</td><td>1.571677e-05</td></tr>\n",
       "\t<tr><th scope=row>TRINITY_DN63240_c0_g1_i2</th><td>  30.254221 </td><td> 24.032595  </td><td>4.1460503   </td><td> 5.796503   </td><td>6.771180e-09</td><td>1.609735e-05</td></tr>\n",
       "\t<tr><th scope=row>TRINITY_DN26996_c0_g1_i1</th><td> 122.560779 </td><td> -3.985809  </td><td>0.6878305   </td><td>-5.794755   </td><td>6.842091e-09</td><td>1.609735e-05</td></tr>\n",
       "\t<tr><th scope=row>TRINITY_DN28090_c0_g1_i1</th><td> 190.004404 </td><td> -1.833546  </td><td>0.3168920   </td><td>-5.786028   </td><td>7.207032e-09</td><td>1.649768e-05</td></tr>\n",
       "\t<tr><th scope=row>TRINITY_DN9122_c0_g1_i7</th><td>  61.455952 </td><td> -3.863794  </td><td>0.6743515   </td><td>-5.729644   </td><td>1.006413e-08</td><td>2.051816e-05</td></tr>\n",
       "\t<tr><th scope=row>TRINITY_DN108076_c0_g1_i1</th><td>   4.276264 </td><td> -6.043336  </td><td>1.0550901   </td><td>-5.727791   </td><td>1.017465e-08</td><td>2.051816e-05</td></tr>\n",
       "\t<tr><th scope=row>TRINITY_DN39922_c0_g1_i1</th><td>   5.822138 </td><td> -4.894170  </td><td>0.8542541   </td><td>-5.729173   </td><td>1.009212e-08</td><td>2.051816e-05</td></tr>\n",
       "\t<tr><th scope=row>TRINITY_DN157246_c0_g1_i1</th><td>  19.743304 </td><td> -4.335647  </td><td>0.7568535   </td><td>-5.728515   </td><td>1.013134e-08</td><td>2.051816e-05</td></tr>\n",
       "\t<tr><th scope=row>TRINITY_DN44500_c0_g1_i1</th><td>  37.605128 </td><td> -3.640561  </td><td>0.6338624   </td><td>-5.743457   </td><td>9.276317e-09</td><td>2.051816e-05</td></tr>\n",
       "\t<tr><th scope=row>TRINITY_DN11926_c0_g1_i1</th><td>  84.944884 </td><td> -2.335265  </td><td>0.4086558   </td><td>-5.714504   </td><td>1.100244e-08</td><td>2.117894e-05</td></tr>\n",
       "\t<tr><th scope=row>TRINITY_DN15777_c0_g1_i1</th><td>  51.638330 </td><td> -3.382535  </td><td>0.5917773   </td><td>-5.715893   </td><td>1.091295e-08</td><td>2.117894e-05</td></tr>\n",
       "\t<tr><th scope=row>TRINITY_DN6746_c0_g1_i1</th><td> 207.522192 </td><td> -1.848720  </td><td>0.3244662   </td><td>-5.697728   </td><td>1.214146e-08</td><td>2.171833e-05</td></tr>\n",
       "\t<tr><th scope=row>TRINITY_DN233_c0_g1_i1</th><td>  44.838287 </td><td> -3.458406  </td><td>0.6066358   </td><td>-5.700960   </td><td>1.191347e-08</td><td>2.171833e-05</td></tr>\n",
       "\t<tr><th scope=row>TRINITY_DN21256_c0_g1_i1</th><td>  75.320019 </td><td> -2.490407  </td><td>0.4372664   </td><td>-5.695399   </td><td>1.230835e-08</td><td>2.171833e-05</td></tr>\n",
       "\t<tr><th scope=row>TRINITY_DN140116_c0_g1_i1</th><td>   6.735236 </td><td> -6.959844  </td><td>1.2211863   </td><td>-5.699249   </td><td>1.203366e-08</td><td>2.171833e-05</td></tr>\n",
       "\t<tr><th scope=row>TRINITY_DN77939_c0_g1_i1</th><td> 251.337853 </td><td> -6.409003  </td><td>1.1266007   </td><td>-5.688797   </td><td>1.279372e-08</td><td>2.179716e-05</td></tr>\n",
       "\t<tr><th scope=row>TRINITY_DN18742_c0_g1_i1</th><td>   7.632372 </td><td> -5.192727  </td><td>0.9130590   </td><td>-5.687176   </td><td>1.291571e-08</td><td>2.179716e-05</td></tr>\n",
       "\t<tr><th scope=row>TRINITY_DN115357_c0_g1_i1</th><td>   9.927801 </td><td> -5.181801  </td><td>0.9115781   </td><td>-5.684428   </td><td>1.312508e-08</td><td>2.179716e-05</td></tr>\n",
       "\t<tr><th scope=row>TRINITY_DN114091_c0_g1_i1</th><td>  10.402287 </td><td> 26.930421  </td><td>4.7507067   </td><td> 5.668719   </td><td>1.438691e-08</td><td>2.343323e-05</td></tr>\n",
       "\t<tr><th scope=row>TRINITY_DN13909_c0_g1_i1</th><td>  78.949401 </td><td> -2.199257  </td><td>0.3908126   </td><td>-5.627397   </td><td>1.829492e-08</td><td>2.923632e-05</td></tr>\n",
       "\t<tr><th scope=row>TRINITY_DN34626_c0_g1_i1</th><td>  45.360050 </td><td> 30.000000  </td><td>5.3381534   </td><td> 5.619921   </td><td>1.910449e-08</td><td>2.968787e-05</td></tr>\n",
       "\t<tr><th scope=row>TRINITY_DN33688_c0_g1_i1</th><td>   9.397501 </td><td> -3.996376  </td><td>0.7113073   </td><td>-5.618354   </td><td>1.927852e-08</td><td>2.968787e-05</td></tr>\n",
       "\t<tr><th scope=row>TRINITY_DN28550_c0_g1_i1</th><td>  27.463091 </td><td> -3.788570  </td><td>0.6787379   </td><td>-5.581787   </td><td>2.380596e-08</td><td>3.600525e-05</td></tr>\n",
       "\t<tr><th scope=row>TRINITY_DN9713_c0_g1_i1</th><td>   8.980026 </td><td> 21.300047  </td><td>3.8280320   </td><td> 5.564229   </td><td>2.633138e-08</td><td>3.912612e-05</td></tr>\n",
       "\t<tr><th scope=row>TRINITY_DN7573_c0_g1_i1</th><td>  32.395507 </td><td> -2.603223  </td><td>0.4685375   </td><td>-5.556060   </td><td>2.759317e-08</td><td>4.029412e-05</td></tr>\n",
       "\t<tr><th scope=row>TRINITY_DN4540_c0_g1_i1</th><td> 389.325509 </td><td> -2.544358  </td><td>0.4590506   </td><td>-5.542653   </td><td>2.979224e-08</td><td>4.136579e-05</td></tr>\n",
       "\t<tr><th scope=row>TRINITY_DN30655_c0_g1_i1</th><td>  27.122283 </td><td> -2.437389  </td><td>0.4394809   </td><td>-5.546064   </td><td>2.921726e-08</td><td>4.136579e-05</td></tr>\n",
       "</tbody>\n",
       "</table>\n"
      ],
      "text/latex": [
       "\\begin{tabular}{r|llllll}\n",
       "  & baseMean & log2FoldChange & lfcSE & stat & pvalue & padj\\\\\n",
       "\\hline\n",
       "\tTRINITY\\_DN38142\\_c0\\_g1\\_i2 &    9.556046  & -22.383506   & 2.2609119    & -9.900212    & 4.153945e-23 & 3.518267e-18\\\\\n",
       "\tTRINITY\\_DN136252\\_c0\\_g1\\_i1 &    4.239486  &  24.865795   & 2.7128334    &  9.165987    & 4.909567e-20 & 2.079128e-15\\\\\n",
       "\tTRINITY\\_DN142173\\_c0\\_g1\\_i1 &    2.695124  &  22.033548   & 2.8736031    &  7.667568    & 1.752877e-14 & 4.948780e-10\\\\\n",
       "\tTRINITY\\_DN21593\\_c0\\_g1\\_i1 &   66.034963  &  10.335512   & 1.4021410    &  7.371236    & 1.690532e-13 & 3.579576e-09\\\\\n",
       "\tTRINITY\\_DN32458\\_c0\\_g1\\_i1 &   34.384656  &  -4.624553   & 0.6803355    & -6.797460    & 1.064797e-11 & 1.803702e-07\\\\\n",
       "\tTRINITY\\_DN21043\\_c0\\_g1\\_i1 &   85.939387  &  10.304219   & 1.5481503    &  6.655826    & 2.817138e-11 & 3.976719e-07\\\\\n",
       "\tTRINITY\\_DN7282\\_c0\\_g1\\_i1 &  247.147743  &   5.412608   & 0.8308829    &  6.514285    & 7.303682e-11 & 8.837142e-07\\\\\n",
       "\tTRINITY\\_DN37436\\_c0\\_g1\\_i1 &   10.707536  &  -5.620953   & 0.8769969    & -6.409320    & 1.461705e-10 & 1.238020e-06\\\\\n",
       "\tTRINITY\\_DN69624\\_c0\\_g1\\_i1 &    4.280610  &  25.238317   & 3.9358178    &  6.412471    & 1.431798e-10 & 1.238020e-06\\\\\n",
       "\tTRINITY\\_DN60996\\_c0\\_g1\\_i1 &   11.605630  &  -4.856085   & 0.7560883    & -6.422642    & 1.339290e-10 & 1.238020e-06\\\\\n",
       "\tTRINITY\\_DN114725\\_c0\\_g1\\_i1 &   46.558476  &  -4.521659   & 0.7089270    & -6.378174    & 1.792120e-10 & 1.297776e-06\\\\\n",
       "\tTRINITY\\_DN5469\\_c0\\_g1\\_i1 & 2102.926890  &  -4.087725   & 0.6412881    & -6.374241    & 1.838709e-10 & 1.297776e-06\\\\\n",
       "\tTRINITY\\_DN109777\\_c0\\_g1\\_i1 &    4.120164  &  17.649745   & 2.8193446    &  6.260230    & 3.844106e-10 & 2.504494e-06\\\\\n",
       "\tTRINITY\\_DN181\\_c0\\_g1\\_i3 &    7.732258  &  18.830088   & 3.0596202    &  6.154387    & 7.536828e-10 & 4.210976e-06\\\\\n",
       "\tTRINITY\\_DN19102\\_c0\\_g1\\_i1 &  145.651445  &  -3.764609   & 0.6125474    & -6.145825    & 7.954899e-10 & 4.210976e-06\\\\\n",
       "\tTRINITY\\_DN28547\\_c0\\_g1\\_i1 &   18.719661  &  -4.001673   & 0.6510895    & -6.146119    & 7.940184e-10 & 4.210976e-06\\\\\n",
       "\tTRINITY\\_DN75949\\_c0\\_g1\\_i1 &   28.685612  &  -3.979407   & 0.6501123    & -6.121107    & 9.292721e-10 & 4.629798e-06\\\\\n",
       "\tTRINITY\\_DN18207\\_c0\\_g1\\_i1 &   89.833913  &  -3.454673   & 0.5683620    & -6.078298    & 1.214647e-09 & 5.715384e-06\\\\\n",
       "\tTRINITY\\_DN29520\\_c0\\_g1\\_i1 &   51.035787  &  -3.335612   & 0.5523400    & -6.039055    & 1.550191e-09 & 6.910345e-06\\\\\n",
       "\tTRINITY\\_DN112224\\_c0\\_g1\\_i1 &   30.392199  &   7.966718   & 1.3312644    &  5.984325    & 2.172896e-09 & 9.201888e-06\\\\\n",
       "\tTRINITY\\_DN136430\\_c0\\_g1\\_i1 &   17.815672  &   8.859436   & 1.4839396    &  5.970213    & 2.369437e-09 & 9.556392e-06\\\\\n",
       "\tTRINITY\\_DN40444\\_c0\\_g1\\_i1 &   22.175902  &  -5.286889   & 0.8892108    & -5.945597    & 2.754510e-09 & 1.060449e-05\\\\\n",
       "\tTRINITY\\_DN148955\\_c0\\_g1\\_i1 &   19.953472  &  -5.579540   & 0.9403182    & -5.933673    & 2.962321e-09 & 1.090868e-05\\\\\n",
       "\tTRINITY\\_DN41115\\_c0\\_g1\\_i1 &  112.196233  &  -1.986193   & 0.3373968    & -5.886817    & 3.937043e-09 & 1.284997e-05\\\\\n",
       "\tTRINITY\\_DN31392\\_c0\\_g1\\_i1 &   20.818522  &   8.844656   & 1.5025326    &  5.886498    & 3.944639e-09 & 1.284997e-05\\\\\n",
       "\tTRINITY\\_DN21161\\_c0\\_g1\\_i1 &   31.790164  &  -3.320614   & 0.5638721    & -5.888949    & 3.886582e-09 & 1.284997e-05\\\\\n",
       "\tTRINITY\\_DN77494\\_c0\\_g1\\_i1 &   14.526810  &  -5.885457   & 1.0017205    & -5.875348    & 4.219558e-09 & 1.323644e-05\\\\\n",
       "\tTRINITY\\_DN146127\\_c0\\_g1\\_i1 &   45.228179  &  -3.456520   & 0.5899364    & -5.859140    & 4.652696e-09 & 1.407391e-05\\\\\n",
       "\tTRINITY\\_DN10862\\_c0\\_g1\\_i1 &  179.717363  &   5.486987   & 0.9396063    &  5.839666    & 5.230562e-09 & 1.527631e-05\\\\\n",
       "\tTRINITY\\_DN14191\\_c0\\_g1\\_i1 &    3.698294  &  -7.038284   & 1.2117195    & -5.808510    & 6.303144e-09 & 1.571677e-05\\\\\n",
       "\tTRINITY\\_DN37378\\_c0\\_g1\\_i1 &   14.369906  &  -5.050993   & 0.8686753    & -5.814593    & 6.078173e-09 & 1.571677e-05\\\\\n",
       "\tTRINITY\\_DN71597\\_c0\\_g1\\_i1 &   11.741323  &  23.511698   & 4.0381450    &  5.822401    & 5.800828e-09 & 1.571677e-05\\\\\n",
       "\tTRINITY\\_DN11977\\_c0\\_g1\\_i1 &  110.687847  &  -3.434350   & 0.5912782    & -5.808349    & 6.309199e-09 & 1.571677e-05\\\\\n",
       "\tTRINITY\\_DN123458\\_c0\\_g1\\_i1 &   64.313248  &  -2.626561   & 0.4508519    & -5.825773    & 5.684872e-09 & 1.571677e-05\\\\\n",
       "\tTRINITY\\_DN63240\\_c0\\_g1\\_i2 &   30.254221  &  24.032595   & 4.1460503    &  5.796503    & 6.771180e-09 & 1.609735e-05\\\\\n",
       "\tTRINITY\\_DN26996\\_c0\\_g1\\_i1 &  122.560779  &  -3.985809   & 0.6878305    & -5.794755    & 6.842091e-09 & 1.609735e-05\\\\\n",
       "\tTRINITY\\_DN28090\\_c0\\_g1\\_i1 &  190.004404  &  -1.833546   & 0.3168920    & -5.786028    & 7.207032e-09 & 1.649768e-05\\\\\n",
       "\tTRINITY\\_DN9122\\_c0\\_g1\\_i7 &   61.455952  &  -3.863794   & 0.6743515    & -5.729644    & 1.006413e-08 & 2.051816e-05\\\\\n",
       "\tTRINITY\\_DN108076\\_c0\\_g1\\_i1 &    4.276264  &  -6.043336   & 1.0550901    & -5.727791    & 1.017465e-08 & 2.051816e-05\\\\\n",
       "\tTRINITY\\_DN39922\\_c0\\_g1\\_i1 &    5.822138  &  -4.894170   & 0.8542541    & -5.729173    & 1.009212e-08 & 2.051816e-05\\\\\n",
       "\tTRINITY\\_DN157246\\_c0\\_g1\\_i1 &   19.743304  &  -4.335647   & 0.7568535    & -5.728515    & 1.013134e-08 & 2.051816e-05\\\\\n",
       "\tTRINITY\\_DN44500\\_c0\\_g1\\_i1 &   37.605128  &  -3.640561   & 0.6338624    & -5.743457    & 9.276317e-09 & 2.051816e-05\\\\\n",
       "\tTRINITY\\_DN11926\\_c0\\_g1\\_i1 &   84.944884  &  -2.335265   & 0.4086558    & -5.714504    & 1.100244e-08 & 2.117894e-05\\\\\n",
       "\tTRINITY\\_DN15777\\_c0\\_g1\\_i1 &   51.638330  &  -3.382535   & 0.5917773    & -5.715893    & 1.091295e-08 & 2.117894e-05\\\\\n",
       "\tTRINITY\\_DN6746\\_c0\\_g1\\_i1 &  207.522192  &  -1.848720   & 0.3244662    & -5.697728    & 1.214146e-08 & 2.171833e-05\\\\\n",
       "\tTRINITY\\_DN233\\_c0\\_g1\\_i1 &   44.838287  &  -3.458406   & 0.6066358    & -5.700960    & 1.191347e-08 & 2.171833e-05\\\\\n",
       "\tTRINITY\\_DN21256\\_c0\\_g1\\_i1 &   75.320019  &  -2.490407   & 0.4372664    & -5.695399    & 1.230835e-08 & 2.171833e-05\\\\\n",
       "\tTRINITY\\_DN140116\\_c0\\_g1\\_i1 &    6.735236  &  -6.959844   & 1.2211863    & -5.699249    & 1.203366e-08 & 2.171833e-05\\\\\n",
       "\tTRINITY\\_DN77939\\_c0\\_g1\\_i1 &  251.337853  &  -6.409003   & 1.1266007    & -5.688797    & 1.279372e-08 & 2.179716e-05\\\\\n",
       "\tTRINITY\\_DN18742\\_c0\\_g1\\_i1 &    7.632372  &  -5.192727   & 0.9130590    & -5.687176    & 1.291571e-08 & 2.179716e-05\\\\\n",
       "\tTRINITY\\_DN115357\\_c0\\_g1\\_i1 &    9.927801  &  -5.181801   & 0.9115781    & -5.684428    & 1.312508e-08 & 2.179716e-05\\\\\n",
       "\tTRINITY\\_DN114091\\_c0\\_g1\\_i1 &   10.402287  &  26.930421   & 4.7507067    &  5.668719    & 1.438691e-08 & 2.343323e-05\\\\\n",
       "\tTRINITY\\_DN13909\\_c0\\_g1\\_i1 &   78.949401  &  -2.199257   & 0.3908126    & -5.627397    & 1.829492e-08 & 2.923632e-05\\\\\n",
       "\tTRINITY\\_DN34626\\_c0\\_g1\\_i1 &   45.360050  &  30.000000   & 5.3381534    &  5.619921    & 1.910449e-08 & 2.968787e-05\\\\\n",
       "\tTRINITY\\_DN33688\\_c0\\_g1\\_i1 &    9.397501  &  -3.996376   & 0.7113073    & -5.618354    & 1.927852e-08 & 2.968787e-05\\\\\n",
       "\tTRINITY\\_DN28550\\_c0\\_g1\\_i1 &   27.463091  &  -3.788570   & 0.6787379    & -5.581787    & 2.380596e-08 & 3.600525e-05\\\\\n",
       "\tTRINITY\\_DN9713\\_c0\\_g1\\_i1 &    8.980026  &  21.300047   & 3.8280320    &  5.564229    & 2.633138e-08 & 3.912612e-05\\\\\n",
       "\tTRINITY\\_DN7573\\_c0\\_g1\\_i1 &   32.395507  &  -2.603223   & 0.4685375    & -5.556060    & 2.759317e-08 & 4.029412e-05\\\\\n",
       "\tTRINITY\\_DN4540\\_c0\\_g1\\_i1 &  389.325509  &  -2.544358   & 0.4590506    & -5.542653    & 2.979224e-08 & 4.136579e-05\\\\\n",
       "\tTRINITY\\_DN30655\\_c0\\_g1\\_i1 &   27.122283  &  -2.437389   & 0.4394809    & -5.546064    & 2.921726e-08 & 4.136579e-05\\\\\n",
       "\\end{tabular}\n"
      ],
      "text/markdown": [
       "\n",
       "| <!--/--> | baseMean | log2FoldChange | lfcSE | stat | pvalue | padj |\n",
       "|---|---|---|---|---|---|---|\n",
       "| TRINITY_DN38142_c0_g1_i2 |    9.556046  | -22.383506   | 2.2609119    | -9.900212    | 4.153945e-23 | 3.518267e-18 |\n",
       "| TRINITY_DN136252_c0_g1_i1 |    4.239486  |  24.865795   | 2.7128334    |  9.165987    | 4.909567e-20 | 2.079128e-15 |\n",
       "| TRINITY_DN142173_c0_g1_i1 |    2.695124  |  22.033548   | 2.8736031    |  7.667568    | 1.752877e-14 | 4.948780e-10 |\n",
       "| TRINITY_DN21593_c0_g1_i1 |   66.034963  |  10.335512   | 1.4021410    |  7.371236    | 1.690532e-13 | 3.579576e-09 |\n",
       "| TRINITY_DN32458_c0_g1_i1 |   34.384656  |  -4.624553   | 0.6803355    | -6.797460    | 1.064797e-11 | 1.803702e-07 |\n",
       "| TRINITY_DN21043_c0_g1_i1 |   85.939387  |  10.304219   | 1.5481503    |  6.655826    | 2.817138e-11 | 3.976719e-07 |\n",
       "| TRINITY_DN7282_c0_g1_i1 |  247.147743  |   5.412608   | 0.8308829    |  6.514285    | 7.303682e-11 | 8.837142e-07 |\n",
       "| TRINITY_DN37436_c0_g1_i1 |   10.707536  |  -5.620953   | 0.8769969    | -6.409320    | 1.461705e-10 | 1.238020e-06 |\n",
       "| TRINITY_DN69624_c0_g1_i1 |    4.280610  |  25.238317   | 3.9358178    |  6.412471    | 1.431798e-10 | 1.238020e-06 |\n",
       "| TRINITY_DN60996_c0_g1_i1 |   11.605630  |  -4.856085   | 0.7560883    | -6.422642    | 1.339290e-10 | 1.238020e-06 |\n",
       "| TRINITY_DN114725_c0_g1_i1 |   46.558476  |  -4.521659   | 0.7089270    | -6.378174    | 1.792120e-10 | 1.297776e-06 |\n",
       "| TRINITY_DN5469_c0_g1_i1 | 2102.926890  |  -4.087725   | 0.6412881    | -6.374241    | 1.838709e-10 | 1.297776e-06 |\n",
       "| TRINITY_DN109777_c0_g1_i1 |    4.120164  |  17.649745   | 2.8193446    |  6.260230    | 3.844106e-10 | 2.504494e-06 |\n",
       "| TRINITY_DN181_c0_g1_i3 |    7.732258  |  18.830088   | 3.0596202    |  6.154387    | 7.536828e-10 | 4.210976e-06 |\n",
       "| TRINITY_DN19102_c0_g1_i1 |  145.651445  |  -3.764609   | 0.6125474    | -6.145825    | 7.954899e-10 | 4.210976e-06 |\n",
       "| TRINITY_DN28547_c0_g1_i1 |   18.719661  |  -4.001673   | 0.6510895    | -6.146119    | 7.940184e-10 | 4.210976e-06 |\n",
       "| TRINITY_DN75949_c0_g1_i1 |   28.685612  |  -3.979407   | 0.6501123    | -6.121107    | 9.292721e-10 | 4.629798e-06 |\n",
       "| TRINITY_DN18207_c0_g1_i1 |   89.833913  |  -3.454673   | 0.5683620    | -6.078298    | 1.214647e-09 | 5.715384e-06 |\n",
       "| TRINITY_DN29520_c0_g1_i1 |   51.035787  |  -3.335612   | 0.5523400    | -6.039055    | 1.550191e-09 | 6.910345e-06 |\n",
       "| TRINITY_DN112224_c0_g1_i1 |   30.392199  |   7.966718   | 1.3312644    |  5.984325    | 2.172896e-09 | 9.201888e-06 |\n",
       "| TRINITY_DN136430_c0_g1_i1 |   17.815672  |   8.859436   | 1.4839396    |  5.970213    | 2.369437e-09 | 9.556392e-06 |\n",
       "| TRINITY_DN40444_c0_g1_i1 |   22.175902  |  -5.286889   | 0.8892108    | -5.945597    | 2.754510e-09 | 1.060449e-05 |\n",
       "| TRINITY_DN148955_c0_g1_i1 |   19.953472  |  -5.579540   | 0.9403182    | -5.933673    | 2.962321e-09 | 1.090868e-05 |\n",
       "| TRINITY_DN41115_c0_g1_i1 |  112.196233  |  -1.986193   | 0.3373968    | -5.886817    | 3.937043e-09 | 1.284997e-05 |\n",
       "| TRINITY_DN31392_c0_g1_i1 |   20.818522  |   8.844656   | 1.5025326    |  5.886498    | 3.944639e-09 | 1.284997e-05 |\n",
       "| TRINITY_DN21161_c0_g1_i1 |   31.790164  |  -3.320614   | 0.5638721    | -5.888949    | 3.886582e-09 | 1.284997e-05 |\n",
       "| TRINITY_DN77494_c0_g1_i1 |   14.526810  |  -5.885457   | 1.0017205    | -5.875348    | 4.219558e-09 | 1.323644e-05 |\n",
       "| TRINITY_DN146127_c0_g1_i1 |   45.228179  |  -3.456520   | 0.5899364    | -5.859140    | 4.652696e-09 | 1.407391e-05 |\n",
       "| TRINITY_DN10862_c0_g1_i1 |  179.717363  |   5.486987   | 0.9396063    |  5.839666    | 5.230562e-09 | 1.527631e-05 |\n",
       "| TRINITY_DN14191_c0_g1_i1 |    3.698294  |  -7.038284   | 1.2117195    | -5.808510    | 6.303144e-09 | 1.571677e-05 |\n",
       "| TRINITY_DN37378_c0_g1_i1 |   14.369906  |  -5.050993   | 0.8686753    | -5.814593    | 6.078173e-09 | 1.571677e-05 |\n",
       "| TRINITY_DN71597_c0_g1_i1 |   11.741323  |  23.511698   | 4.0381450    |  5.822401    | 5.800828e-09 | 1.571677e-05 |\n",
       "| TRINITY_DN11977_c0_g1_i1 |  110.687847  |  -3.434350   | 0.5912782    | -5.808349    | 6.309199e-09 | 1.571677e-05 |\n",
       "| TRINITY_DN123458_c0_g1_i1 |   64.313248  |  -2.626561   | 0.4508519    | -5.825773    | 5.684872e-09 | 1.571677e-05 |\n",
       "| TRINITY_DN63240_c0_g1_i2 |   30.254221  |  24.032595   | 4.1460503    |  5.796503    | 6.771180e-09 | 1.609735e-05 |\n",
       "| TRINITY_DN26996_c0_g1_i1 |  122.560779  |  -3.985809   | 0.6878305    | -5.794755    | 6.842091e-09 | 1.609735e-05 |\n",
       "| TRINITY_DN28090_c0_g1_i1 |  190.004404  |  -1.833546   | 0.3168920    | -5.786028    | 7.207032e-09 | 1.649768e-05 |\n",
       "| TRINITY_DN9122_c0_g1_i7 |   61.455952  |  -3.863794   | 0.6743515    | -5.729644    | 1.006413e-08 | 2.051816e-05 |\n",
       "| TRINITY_DN108076_c0_g1_i1 |    4.276264  |  -6.043336   | 1.0550901    | -5.727791    | 1.017465e-08 | 2.051816e-05 |\n",
       "| TRINITY_DN39922_c0_g1_i1 |    5.822138  |  -4.894170   | 0.8542541    | -5.729173    | 1.009212e-08 | 2.051816e-05 |\n",
       "| TRINITY_DN157246_c0_g1_i1 |   19.743304  |  -4.335647   | 0.7568535    | -5.728515    | 1.013134e-08 | 2.051816e-05 |\n",
       "| TRINITY_DN44500_c0_g1_i1 |   37.605128  |  -3.640561   | 0.6338624    | -5.743457    | 9.276317e-09 | 2.051816e-05 |\n",
       "| TRINITY_DN11926_c0_g1_i1 |   84.944884  |  -2.335265   | 0.4086558    | -5.714504    | 1.100244e-08 | 2.117894e-05 |\n",
       "| TRINITY_DN15777_c0_g1_i1 |   51.638330  |  -3.382535   | 0.5917773    | -5.715893    | 1.091295e-08 | 2.117894e-05 |\n",
       "| TRINITY_DN6746_c0_g1_i1 |  207.522192  |  -1.848720   | 0.3244662    | -5.697728    | 1.214146e-08 | 2.171833e-05 |\n",
       "| TRINITY_DN233_c0_g1_i1 |   44.838287  |  -3.458406   | 0.6066358    | -5.700960    | 1.191347e-08 | 2.171833e-05 |\n",
       "| TRINITY_DN21256_c0_g1_i1 |   75.320019  |  -2.490407   | 0.4372664    | -5.695399    | 1.230835e-08 | 2.171833e-05 |\n",
       "| TRINITY_DN140116_c0_g1_i1 |    6.735236  |  -6.959844   | 1.2211863    | -5.699249    | 1.203366e-08 | 2.171833e-05 |\n",
       "| TRINITY_DN77939_c0_g1_i1 |  251.337853  |  -6.409003   | 1.1266007    | -5.688797    | 1.279372e-08 | 2.179716e-05 |\n",
       "| TRINITY_DN18742_c0_g1_i1 |    7.632372  |  -5.192727   | 0.9130590    | -5.687176    | 1.291571e-08 | 2.179716e-05 |\n",
       "| TRINITY_DN115357_c0_g1_i1 |    9.927801  |  -5.181801   | 0.9115781    | -5.684428    | 1.312508e-08 | 2.179716e-05 |\n",
       "| TRINITY_DN114091_c0_g1_i1 |   10.402287  |  26.930421   | 4.7507067    |  5.668719    | 1.438691e-08 | 2.343323e-05 |\n",
       "| TRINITY_DN13909_c0_g1_i1 |   78.949401  |  -2.199257   | 0.3908126    | -5.627397    | 1.829492e-08 | 2.923632e-05 |\n",
       "| TRINITY_DN34626_c0_g1_i1 |   45.360050  |  30.000000   | 5.3381534    |  5.619921    | 1.910449e-08 | 2.968787e-05 |\n",
       "| TRINITY_DN33688_c0_g1_i1 |    9.397501  |  -3.996376   | 0.7113073    | -5.618354    | 1.927852e-08 | 2.968787e-05 |\n",
       "| TRINITY_DN28550_c0_g1_i1 |   27.463091  |  -3.788570   | 0.6787379    | -5.581787    | 2.380596e-08 | 3.600525e-05 |\n",
       "| TRINITY_DN9713_c0_g1_i1 |    8.980026  |  21.300047   | 3.8280320    |  5.564229    | 2.633138e-08 | 3.912612e-05 |\n",
       "| TRINITY_DN7573_c0_g1_i1 |   32.395507  |  -2.603223   | 0.4685375    | -5.556060    | 2.759317e-08 | 4.029412e-05 |\n",
       "| TRINITY_DN4540_c0_g1_i1 |  389.325509  |  -2.544358   | 0.4590506    | -5.542653    | 2.979224e-08 | 4.136579e-05 |\n",
       "| TRINITY_DN30655_c0_g1_i1 |   27.122283  |  -2.437389   | 0.4394809    | -5.546064    | 2.921726e-08 | 4.136579e-05 |\n",
       "\n"
      ],
      "text/plain": [
       "                          baseMean    log2FoldChange lfcSE     stat     \n",
       "TRINITY_DN38142_c0_g1_i2     9.556046 -22.383506     2.2609119 -9.900212\n",
       "TRINITY_DN136252_c0_g1_i1    4.239486  24.865795     2.7128334  9.165987\n",
       "TRINITY_DN142173_c0_g1_i1    2.695124  22.033548     2.8736031  7.667568\n",
       "TRINITY_DN21593_c0_g1_i1    66.034963  10.335512     1.4021410  7.371236\n",
       "TRINITY_DN32458_c0_g1_i1    34.384656  -4.624553     0.6803355 -6.797460\n",
       "TRINITY_DN21043_c0_g1_i1    85.939387  10.304219     1.5481503  6.655826\n",
       "TRINITY_DN7282_c0_g1_i1    247.147743   5.412608     0.8308829  6.514285\n",
       "TRINITY_DN37436_c0_g1_i1    10.707536  -5.620953     0.8769969 -6.409320\n",
       "TRINITY_DN69624_c0_g1_i1     4.280610  25.238317     3.9358178  6.412471\n",
       "TRINITY_DN60996_c0_g1_i1    11.605630  -4.856085     0.7560883 -6.422642\n",
       "TRINITY_DN114725_c0_g1_i1   46.558476  -4.521659     0.7089270 -6.378174\n",
       "TRINITY_DN5469_c0_g1_i1   2102.926890  -4.087725     0.6412881 -6.374241\n",
       "TRINITY_DN109777_c0_g1_i1    4.120164  17.649745     2.8193446  6.260230\n",
       "TRINITY_DN181_c0_g1_i3       7.732258  18.830088     3.0596202  6.154387\n",
       "TRINITY_DN19102_c0_g1_i1   145.651445  -3.764609     0.6125474 -6.145825\n",
       "TRINITY_DN28547_c0_g1_i1    18.719661  -4.001673     0.6510895 -6.146119\n",
       "TRINITY_DN75949_c0_g1_i1    28.685612  -3.979407     0.6501123 -6.121107\n",
       "TRINITY_DN18207_c0_g1_i1    89.833913  -3.454673     0.5683620 -6.078298\n",
       "TRINITY_DN29520_c0_g1_i1    51.035787  -3.335612     0.5523400 -6.039055\n",
       "TRINITY_DN112224_c0_g1_i1   30.392199   7.966718     1.3312644  5.984325\n",
       "TRINITY_DN136430_c0_g1_i1   17.815672   8.859436     1.4839396  5.970213\n",
       "TRINITY_DN40444_c0_g1_i1    22.175902  -5.286889     0.8892108 -5.945597\n",
       "TRINITY_DN148955_c0_g1_i1   19.953472  -5.579540     0.9403182 -5.933673\n",
       "TRINITY_DN41115_c0_g1_i1   112.196233  -1.986193     0.3373968 -5.886817\n",
       "TRINITY_DN31392_c0_g1_i1    20.818522   8.844656     1.5025326  5.886498\n",
       "TRINITY_DN21161_c0_g1_i1    31.790164  -3.320614     0.5638721 -5.888949\n",
       "TRINITY_DN77494_c0_g1_i1    14.526810  -5.885457     1.0017205 -5.875348\n",
       "TRINITY_DN146127_c0_g1_i1   45.228179  -3.456520     0.5899364 -5.859140\n",
       "TRINITY_DN10862_c0_g1_i1   179.717363   5.486987     0.9396063  5.839666\n",
       "TRINITY_DN14191_c0_g1_i1     3.698294  -7.038284     1.2117195 -5.808510\n",
       "TRINITY_DN37378_c0_g1_i1    14.369906  -5.050993     0.8686753 -5.814593\n",
       "TRINITY_DN71597_c0_g1_i1    11.741323  23.511698     4.0381450  5.822401\n",
       "TRINITY_DN11977_c0_g1_i1   110.687847  -3.434350     0.5912782 -5.808349\n",
       "TRINITY_DN123458_c0_g1_i1   64.313248  -2.626561     0.4508519 -5.825773\n",
       "TRINITY_DN63240_c0_g1_i2    30.254221  24.032595     4.1460503  5.796503\n",
       "TRINITY_DN26996_c0_g1_i1   122.560779  -3.985809     0.6878305 -5.794755\n",
       "TRINITY_DN28090_c0_g1_i1   190.004404  -1.833546     0.3168920 -5.786028\n",
       "TRINITY_DN9122_c0_g1_i7     61.455952  -3.863794     0.6743515 -5.729644\n",
       "TRINITY_DN108076_c0_g1_i1    4.276264  -6.043336     1.0550901 -5.727791\n",
       "TRINITY_DN39922_c0_g1_i1     5.822138  -4.894170     0.8542541 -5.729173\n",
       "TRINITY_DN157246_c0_g1_i1   19.743304  -4.335647     0.7568535 -5.728515\n",
       "TRINITY_DN44500_c0_g1_i1    37.605128  -3.640561     0.6338624 -5.743457\n",
       "TRINITY_DN11926_c0_g1_i1    84.944884  -2.335265     0.4086558 -5.714504\n",
       "TRINITY_DN15777_c0_g1_i1    51.638330  -3.382535     0.5917773 -5.715893\n",
       "TRINITY_DN6746_c0_g1_i1    207.522192  -1.848720     0.3244662 -5.697728\n",
       "TRINITY_DN233_c0_g1_i1      44.838287  -3.458406     0.6066358 -5.700960\n",
       "TRINITY_DN21256_c0_g1_i1    75.320019  -2.490407     0.4372664 -5.695399\n",
       "TRINITY_DN140116_c0_g1_i1    6.735236  -6.959844     1.2211863 -5.699249\n",
       "TRINITY_DN77939_c0_g1_i1   251.337853  -6.409003     1.1266007 -5.688797\n",
       "TRINITY_DN18742_c0_g1_i1     7.632372  -5.192727     0.9130590 -5.687176\n",
       "TRINITY_DN115357_c0_g1_i1    9.927801  -5.181801     0.9115781 -5.684428\n",
       "TRINITY_DN114091_c0_g1_i1   10.402287  26.930421     4.7507067  5.668719\n",
       "TRINITY_DN13909_c0_g1_i1    78.949401  -2.199257     0.3908126 -5.627397\n",
       "TRINITY_DN34626_c0_g1_i1    45.360050  30.000000     5.3381534  5.619921\n",
       "TRINITY_DN33688_c0_g1_i1     9.397501  -3.996376     0.7113073 -5.618354\n",
       "TRINITY_DN28550_c0_g1_i1    27.463091  -3.788570     0.6787379 -5.581787\n",
       "TRINITY_DN9713_c0_g1_i1      8.980026  21.300047     3.8280320  5.564229\n",
       "TRINITY_DN7573_c0_g1_i1     32.395507  -2.603223     0.4685375 -5.556060\n",
       "TRINITY_DN4540_c0_g1_i1    389.325509  -2.544358     0.4590506 -5.542653\n",
       "TRINITY_DN30655_c0_g1_i1    27.122283  -2.437389     0.4394809 -5.546064\n",
       "                          pvalue       padj        \n",
       "TRINITY_DN38142_c0_g1_i2  4.153945e-23 3.518267e-18\n",
       "TRINITY_DN136252_c0_g1_i1 4.909567e-20 2.079128e-15\n",
       "TRINITY_DN142173_c0_g1_i1 1.752877e-14 4.948780e-10\n",
       "TRINITY_DN21593_c0_g1_i1  1.690532e-13 3.579576e-09\n",
       "TRINITY_DN32458_c0_g1_i1  1.064797e-11 1.803702e-07\n",
       "TRINITY_DN21043_c0_g1_i1  2.817138e-11 3.976719e-07\n",
       "TRINITY_DN7282_c0_g1_i1   7.303682e-11 8.837142e-07\n",
       "TRINITY_DN37436_c0_g1_i1  1.461705e-10 1.238020e-06\n",
       "TRINITY_DN69624_c0_g1_i1  1.431798e-10 1.238020e-06\n",
       "TRINITY_DN60996_c0_g1_i1  1.339290e-10 1.238020e-06\n",
       "TRINITY_DN114725_c0_g1_i1 1.792120e-10 1.297776e-06\n",
       "TRINITY_DN5469_c0_g1_i1   1.838709e-10 1.297776e-06\n",
       "TRINITY_DN109777_c0_g1_i1 3.844106e-10 2.504494e-06\n",
       "TRINITY_DN181_c0_g1_i3    7.536828e-10 4.210976e-06\n",
       "TRINITY_DN19102_c0_g1_i1  7.954899e-10 4.210976e-06\n",
       "TRINITY_DN28547_c0_g1_i1  7.940184e-10 4.210976e-06\n",
       "TRINITY_DN75949_c0_g1_i1  9.292721e-10 4.629798e-06\n",
       "TRINITY_DN18207_c0_g1_i1  1.214647e-09 5.715384e-06\n",
       "TRINITY_DN29520_c0_g1_i1  1.550191e-09 6.910345e-06\n",
       "TRINITY_DN112224_c0_g1_i1 2.172896e-09 9.201888e-06\n",
       "TRINITY_DN136430_c0_g1_i1 2.369437e-09 9.556392e-06\n",
       "TRINITY_DN40444_c0_g1_i1  2.754510e-09 1.060449e-05\n",
       "TRINITY_DN148955_c0_g1_i1 2.962321e-09 1.090868e-05\n",
       "TRINITY_DN41115_c0_g1_i1  3.937043e-09 1.284997e-05\n",
       "TRINITY_DN31392_c0_g1_i1  3.944639e-09 1.284997e-05\n",
       "TRINITY_DN21161_c0_g1_i1  3.886582e-09 1.284997e-05\n",
       "TRINITY_DN77494_c0_g1_i1  4.219558e-09 1.323644e-05\n",
       "TRINITY_DN146127_c0_g1_i1 4.652696e-09 1.407391e-05\n",
       "TRINITY_DN10862_c0_g1_i1  5.230562e-09 1.527631e-05\n",
       "TRINITY_DN14191_c0_g1_i1  6.303144e-09 1.571677e-05\n",
       "TRINITY_DN37378_c0_g1_i1  6.078173e-09 1.571677e-05\n",
       "TRINITY_DN71597_c0_g1_i1  5.800828e-09 1.571677e-05\n",
       "TRINITY_DN11977_c0_g1_i1  6.309199e-09 1.571677e-05\n",
       "TRINITY_DN123458_c0_g1_i1 5.684872e-09 1.571677e-05\n",
       "TRINITY_DN63240_c0_g1_i2  6.771180e-09 1.609735e-05\n",
       "TRINITY_DN26996_c0_g1_i1  6.842091e-09 1.609735e-05\n",
       "TRINITY_DN28090_c0_g1_i1  7.207032e-09 1.649768e-05\n",
       "TRINITY_DN9122_c0_g1_i7   1.006413e-08 2.051816e-05\n",
       "TRINITY_DN108076_c0_g1_i1 1.017465e-08 2.051816e-05\n",
       "TRINITY_DN39922_c0_g1_i1  1.009212e-08 2.051816e-05\n",
       "TRINITY_DN157246_c0_g1_i1 1.013134e-08 2.051816e-05\n",
       "TRINITY_DN44500_c0_g1_i1  9.276317e-09 2.051816e-05\n",
       "TRINITY_DN11926_c0_g1_i1  1.100244e-08 2.117894e-05\n",
       "TRINITY_DN15777_c0_g1_i1  1.091295e-08 2.117894e-05\n",
       "TRINITY_DN6746_c0_g1_i1   1.214146e-08 2.171833e-05\n",
       "TRINITY_DN233_c0_g1_i1    1.191347e-08 2.171833e-05\n",
       "TRINITY_DN21256_c0_g1_i1  1.230835e-08 2.171833e-05\n",
       "TRINITY_DN140116_c0_g1_i1 1.203366e-08 2.171833e-05\n",
       "TRINITY_DN77939_c0_g1_i1  1.279372e-08 2.179716e-05\n",
       "TRINITY_DN18742_c0_g1_i1  1.291571e-08 2.179716e-05\n",
       "TRINITY_DN115357_c0_g1_i1 1.312508e-08 2.179716e-05\n",
       "TRINITY_DN114091_c0_g1_i1 1.438691e-08 2.343323e-05\n",
       "TRINITY_DN13909_c0_g1_i1  1.829492e-08 2.923632e-05\n",
       "TRINITY_DN34626_c0_g1_i1  1.910449e-08 2.968787e-05\n",
       "TRINITY_DN33688_c0_g1_i1  1.927852e-08 2.968787e-05\n",
       "TRINITY_DN28550_c0_g1_i1  2.380596e-08 3.600525e-05\n",
       "TRINITY_DN9713_c0_g1_i1   2.633138e-08 3.912612e-05\n",
       "TRINITY_DN7573_c0_g1_i1   2.759317e-08 4.029412e-05\n",
       "TRINITY_DN4540_c0_g1_i1   2.979224e-08 4.136579e-05\n",
       "TRINITY_DN30655_c0_g1_i1  2.921726e-08 4.136579e-05"
      ]
     },
     "metadata": {},
     "output_type": "display_data"
    }
   ],
   "source": [
    "head(IvN.df,60)"
   ]
  },
  {
   "cell_type": "code",
   "execution_count": 125,
   "metadata": {},
   "outputs": [
    {
     "data": {
      "image/png": "[encoded data removed]",
      "text/plain": [
       "plot without title"
      ]
     },
     "metadata": {},
     "output_type": "display_data"
    }
   ],
   "source": [
    "count_plot <- plotCounts(dds_interaction, gene=\"TRINITY_DN9438_c0_g1_i1\", intgroup=c(\"condition\",\"range\", \"site\"), returnData=TRUE)\n",
    "#count_plot\n",
    "ggplot(count_plot, aes(x=condition, y=count, group=range, color=site)) +\n",
    "    facet_grid(.~range) +\n",
    "    geom_point(position=position_jitter(w=0.2,h=0)) + \n",
    "    #geom_label(aes(label = site), position=position_jitter(w=0.4,h=0))  + \n",
    "    #geom_line()+\n",
    "    geom_smooth(method = \"lm\", se=F, aes(group=1)) +\n",
    "    stat_summary(fun.data=mean_sdl, fun.args = list(mult=1), geom=\"pointrange\", color=\"red\") +\n",
    "    scale_y_log10()#limits = c(1,1e6)) "
   ]
  },
  {
   "cell_type": "code",
   "execution_count": null,
   "metadata": {},
   "outputs": [],
   "source": []
  },
  {
   "cell_type": "code",
   "execution_count": null,
   "metadata": {},
   "outputs": [],
   "source": [
    "#res_int_abs.P = results(dds_interaction, name=\"rangeAbsent.conditionP\")\n",
    "#res_int_inv.P = results(dds_interaction, name=\"rangeInvasive.conditionP\")"
   ]
  },
  {
   "cell_type": "code",
   "execution_count": null,
   "metadata": {},
   "outputs": [],
   "source": [
    "#summary(res_int_abs.P)\n",
    "#summary(res_int_inv.P)"
   ]
  },
  {
   "cell_type": "code",
   "execution_count": null,
   "metadata": {},
   "outputs": [],
   "source": [
    "#res_int_abs.P_sig <- data.frame(subset(res_int_abs.P, padj < 0.05))\n",
    "#res_int_abs.P_sig <- res_int_abs.P_sig[order(res_int_abs.P_sig$padj),]\n",
    "#res_int_inv.P_sig <- data.frame(subset(res_int_inv.P, padj < 0.05))\n",
    "#res_int_inv.P_sig <- res_int_inv.P_sig[order(res_int_inv.P_sig$padj),]\n",
    "#head(res_int_inv.P_sig,20)"
   ]
  },
  {
   "cell_type": "code",
   "execution_count": null,
   "metadata": {},
   "outputs": [],
   "source": [
    "#count_plot <- plotCounts(dds_interaction, gene=\"TRINITY_DN7282_c0_g1_i1\", intgroup=c(\"condition\",\"range\"), returnData=TRUE)\n",
    "#ggplot(count_plot, aes(x=condition, y=count, color=range)) +\n",
    "#    geom_point(position=position_jitter(w=0.2,h=0)) + \n",
    "#    #geom_label(aes(label = site), position=position_jitter(w=0.4,h=0))  + \n",
    "#    scale_y_log10() "
   ]
  },
  {
   "cell_type": "code",
   "execution_count": null,
   "metadata": {},
   "outputs": [],
   "source": [
    "#count_plot <- plotCounts(dds_interaction, gene=\"TRINITY_DN7282_c0_g1_i1\", intgroup=c(\"condition\",\"range\", \"site\"), returnData=TRUE)\n",
    "##count_plot\n",
    "#ggplot(count_plot, aes(x=condition, y=count, group=range, color=site)) +\n",
    "#    facet_grid(.~range) +\n",
    "#    geom_point(position=position_jitter(w=0.2,h=0)) + \n",
    "#    #geom_label(aes(label = site), position=position_jitter(w=0.4,h=0))  + \n",
    "#    #geom_line()+\n",
    "#    geom_smooth(method = \"lm\", se=F, aes(group=1)) +\n",
    "#    stat_summary(fun.data=mean_sdl, fun.args = list(mult=1), geom=\"pointrange\", color=\"red\") +\n",
    "#    scale_y_log10()#limits = c(1,1e6)) "
   ]
  },
  {
   "cell_type": "code",
   "execution_count": null,
   "metadata": {},
   "outputs": [],
   "source": [
    "#dim(assays(ddsMF_noFP)[[1]])\n",
    "#print(data.frame(colData(dds_interaction)))"
   ]
  },
  {
   "cell_type": "code",
   "execution_count": null,
   "metadata": {},
   "outputs": [],
   "source": [
    "#save.image()"
   ]
  },
  {
   "cell_type": "code",
   "execution_count": 62,
   "metadata": {},
   "outputs": [],
   "source": [
    "?hist()"
   ]
  },
  {
   "cell_type": "markdown",
   "metadata": {},
   "source": [
    "Before we finish, I need to export a matrix of counts to use downstream in WGCNA. The creators [suggest](https://horvath.genetics.ucla.edu/html/CoexpressionNetwork/Rpackages/WGCNA/faq.html) removing transcripts with consistently low counts to avoid spurious correlations, and the also recommend performing a variance stabilizing transformation. I will do both below and then export as an R data object.\n",
    "\n",
    "I am removing all transcripts that have normalized counts of less than 10 in over 90% of the samples (72/81)."
   ]
  },
  {
   "cell_type": "code",
   "execution_count": 116,
   "metadata": {},
   "outputs": [],
   "source": [
    "filterGenes <- rowSums(counts(dds_clean, normalized=TRUE) < 10 ) > 72\n",
    "for_export <- dds_clean[!filterGenes,]\n",
    "vsd <- vst(for_export, blind=TRUE)\n",
    "write.table(assays(vsd)[[1]], file = \"../outputs/WGCNA_in.tsv\", sep=\"\\t\")"
   ]
  },
  {
   "cell_type": "code",
   "execution_count": null,
   "metadata": {},
   "outputs": [],
   "source": [
    "annot <- read.table(\"../EnTAP/entap_outfiles/similarity_search/DIAMOND/overall_results/best_hits_lvl0.tsv\", sep=\"\\t\", fill=TRUE, header=TRUE, quote=\"\")"
   ]
  }
 ],
 "metadata": {
  "kernelspec": {
   "display_name": "R",
   "language": "R",
   "name": "ir"
  },
  "language_info": {
   "codemirror_mode": "r",
   "file_extension": ".r",
   "mimetype": "text/x-r-source",
   "name": "R",
   "pygments_lexer": "r",
   "version": "3.6.1"
  }
 },
 "nbformat": 4,
 "nbformat_minor": 2
}
