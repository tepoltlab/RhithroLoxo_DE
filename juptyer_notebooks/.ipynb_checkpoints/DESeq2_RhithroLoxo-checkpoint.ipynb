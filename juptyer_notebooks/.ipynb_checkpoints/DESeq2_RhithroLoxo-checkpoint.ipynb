{
 "cells": [
  {
   "cell_type": "markdown",
   "metadata": {},
   "source": [
    "## Differential Expression Analysis - RhithroLoxo\n",
    "\n",
    "First, make sure you're actually running this from a compute node, not the login. Logins are pn001 and 002. All others are higher."
   ]
  },
  {
   "cell_type": "code",
   "execution_count": 1,
   "metadata": {},
   "outputs": [
    {
     "data": {
      "text/html": [
       "<dl class=dl-horizontal>\n",
       "\t<dt>sysname</dt>\n",
       "\t\t<dd>'Linux'</dd>\n",
       "\t<dt>release</dt>\n",
       "\t\t<dd>'3.10.0-693.2.2.el7.x86_64'</dd>\n",
       "\t<dt>version</dt>\n",
       "\t\t<dd>'#1 SMP Tue Sep 12 22:26:13 UTC 2017'</dd>\n",
       "\t<dt>nodename</dt>\n",
       "\t\t<dd>'pn039'</dd>\n",
       "\t<dt>machine</dt>\n",
       "\t\t<dd>'x86_64'</dd>\n",
       "\t<dt>login</dt>\n",
       "\t\t<dd>'unknown'</dd>\n",
       "\t<dt>user</dt>\n",
       "\t\t<dd>'ztobias'</dd>\n",
       "\t<dt>effective_user</dt>\n",
       "\t\t<dd>'ztobias'</dd>\n",
       "</dl>\n"
      ],
      "text/latex": [
       "\\begin{description*}\n",
       "\\item[sysname] 'Linux'\n",
       "\\item[release] '3.10.0-693.2.2.el7.x86\\_64'\n",
       "\\item[version] '\\#1 SMP Tue Sep 12 22:26:13 UTC 2017'\n",
       "\\item[nodename] 'pn039'\n",
       "\\item[machine] 'x86\\_64'\n",
       "\\item[login] 'unknown'\n",
       "\\item[user] 'ztobias'\n",
       "\\item[effective\\textbackslash{}\\_user] 'ztobias'\n",
       "\\end{description*}\n"
      ],
      "text/markdown": [
       "sysname\n",
       ":   'Linux'release\n",
       ":   '3.10.0-693.2.2.el7.x86_64'version\n",
       ":   '#1 SMP Tue Sep 12 22:26:13 UTC 2017'nodename\n",
       ":   'pn039'machine\n",
       ":   'x86_64'login\n",
       ":   'unknown'user\n",
       ":   'ztobias'effective_user\n",
       ":   'ztobias'\n",
       "\n"
      ],
      "text/plain": [
       "                              sysname                               release \n",
       "                              \"Linux\"           \"3.10.0-693.2.2.el7.x86_64\" \n",
       "                              version                              nodename \n",
       "\"#1 SMP Tue Sep 12 22:26:13 UTC 2017\"                               \"pn039\" \n",
       "                              machine                                 login \n",
       "                             \"x86_64\"                             \"unknown\" \n",
       "                                 user                        effective_user \n",
       "                            \"ztobias\"                             \"ztobias\" "
      ]
     },
     "metadata": {},
     "output_type": "display_data"
    }
   ],
   "source": [
    "Sys.info()"
   ]
  },
  {
   "cell_type": "markdown",
   "metadata": {},
   "source": [
    "Now load in the packages."
   ]
  },
  {
   "cell_type": "code",
   "execution_count": 2,
   "metadata": {},
   "outputs": [
    {
     "name": "stderr",
     "output_type": "stream",
     "text": [
      "Loading required package: DESeq2\n",
      "Loading required package: S4Vectors\n",
      "Loading required package: stats4\n",
      "Loading required package: BiocGenerics\n",
      "Loading required package: parallel\n",
      "\n",
      "Attaching package: ‘BiocGenerics’\n",
      "\n",
      "The following objects are masked from ‘package:parallel’:\n",
      "\n",
      "    clusterApply, clusterApplyLB, clusterCall, clusterEvalQ,\n",
      "    clusterExport, clusterMap, parApply, parCapply, parLapply,\n",
      "    parLapplyLB, parRapply, parSapply, parSapplyLB\n",
      "\n",
      "The following objects are masked from ‘package:stats’:\n",
      "\n",
      "    IQR, mad, sd, var, xtabs\n",
      "\n",
      "The following objects are masked from ‘package:base’:\n",
      "\n",
      "    anyDuplicated, append, as.data.frame, basename, cbind, colnames,\n",
      "    dirname, do.call, duplicated, eval, evalq, Filter, Find, get, grep,\n",
      "    grepl, intersect, is.unsorted, lapply, Map, mapply, match, mget,\n",
      "    order, paste, pmax, pmax.int, pmin, pmin.int, Position, rank,\n",
      "    rbind, Reduce, rownames, sapply, setdiff, sort, table, tapply,\n",
      "    union, unique, unsplit, which, which.max, which.min\n",
      "\n",
      "\n",
      "Attaching package: ‘S4Vectors’\n",
      "\n",
      "The following object is masked from ‘package:base’:\n",
      "\n",
      "    expand.grid\n",
      "\n",
      "Loading required package: IRanges\n",
      "Loading required package: GenomicRanges\n",
      "Loading required package: GenomeInfoDb\n",
      "Loading required package: SummarizedExperiment\n",
      "Loading required package: Biobase\n",
      "Welcome to Bioconductor\n",
      "\n",
      "    Vignettes contain introductory material; view with\n",
      "    'browseVignettes()'. To cite Bioconductor, see\n",
      "    'citation(\"Biobase\")', and for packages 'citation(\"pkgname\")'.\n",
      "\n",
      "Loading required package: DelayedArray\n",
      "Loading required package: matrixStats\n",
      "\n",
      "Attaching package: ‘matrixStats’\n",
      "\n",
      "The following objects are masked from ‘package:Biobase’:\n",
      "\n",
      "    anyMissing, rowMedians\n",
      "\n",
      "Loading required package: BiocParallel\n",
      "\n",
      "Attaching package: ‘DelayedArray’\n",
      "\n",
      "The following objects are masked from ‘package:matrixStats’:\n",
      "\n",
      "    colMaxs, colMins, colRanges, rowMaxs, rowMins, rowRanges\n",
      "\n",
      "The following objects are masked from ‘package:base’:\n",
      "\n",
      "    aperm, apply, rowsum\n",
      "\n",
      "Loading required package: ggplot2\n",
      "Loading required package: apeglm\n"
     ]
    }
   ],
   "source": [
    "require(DESeq2)\n",
    "require(ggplot2)\n",
    "require(apeglm)"
   ]
  },
  {
   "cell_type": "markdown",
   "metadata": {},
   "source": [
    "Now import the count data, rounding decimals to integers"
   ]
  },
  {
   "cell_type": "code",
   "execution_count": 3,
   "metadata": {},
   "outputs": [],
   "source": [
    "path_to_main <- \"/vortexfs1/scratch/ztobias/RhithroLoxo_DE/\" #change accordingly based on parent file structure\n",
    "path_to_counts <- \"outputs/quant/salmon.isoform.counts.matrix\"\n",
    "path <- paste(path_to_main,path_to_counts,sep=\"\")\n",
    "all_counts <- read.table(path,header=TRUE)\n",
    "all_counts <- round(all_counts)"
   ]
  },
  {
   "cell_type": "markdown",
   "metadata": {},
   "source": [
    "Take a look."
   ]
  },
  {
   "cell_type": "code",
   "execution_count": 4,
   "metadata": {},
   "outputs": [
    {
     "data": {
      "text/html": [
       "<table>\n",
       "<thead><tr><th></th><th scope=col>AP_C_1</th><th scope=col>AP_C_2</th><th scope=col>AP_C_3</th><th scope=col>AP_C_4</th><th scope=col>AP_C_5</th><th scope=col>AP_C_6</th><th scope=col>AP_P_1</th><th scope=col>AP_P_2</th><th scope=col>AP_P_3</th><th scope=col>AP_P_6</th><th scope=col>...</th><th scope=col>NJ_P_7</th><th scope=col>SC_C_12</th><th scope=col>SC_C_14</th><th scope=col>SC_C_2</th><th scope=col>SC_C_6</th><th scope=col>SC_C_7</th><th scope=col>SC_C_9</th><th scope=col>SC_P_1</th><th scope=col>SC_P_2</th><th scope=col>SC_P_3</th></tr></thead>\n",
       "<tbody>\n",
       "\t<tr><th scope=row>TRINITY_DN2522_c0_g1_i3</th><td>5001 </td><td>10642</td><td>9041 </td><td>15797</td><td>11214</td><td>2686 </td><td>3063 </td><td>7965 </td><td>528  </td><td>9847 </td><td>...  </td><td>8033 </td><td>13728</td><td>4990 </td><td>3015 </td><td>9699 </td><td>6110 </td><td>14936</td><td>11409</td><td>1086 </td><td>5632 </td></tr>\n",
       "\t<tr><th scope=row>TRINITY_DN68400_c0_g1_i1</th><td>   4 </td><td>   30</td><td>  56 </td><td>   49</td><td>   39</td><td>  19 </td><td>  45 </td><td>  31 </td><td> 82  </td><td>  39 </td><td>...  </td><td>  29 </td><td>   48</td><td>  51 </td><td>  20 </td><td>  32 </td><td>  71 </td><td>   63</td><td>   25</td><td>  23 </td><td>  19 </td></tr>\n",
       "\t<tr><th scope=row>TRINITY_DN140775_c0_g1_i1</th><td>   4 </td><td>    0</td><td>   2 </td><td>    0</td><td>    0</td><td>   0 </td><td>   0 </td><td>   0 </td><td>  0  </td><td>   2 </td><td>...  </td><td>   1 </td><td>    1</td><td>   0 </td><td>   1 </td><td>   1 </td><td>   0 </td><td>    0</td><td>    2</td><td>   0 </td><td>   1 </td></tr>\n",
       "\t<tr><th scope=row>TRINITY_DN75566_c0_g1_i1</th><td>  14 </td><td>  122</td><td> 104 </td><td>   77</td><td>  137</td><td> 110 </td><td>  57 </td><td>  59 </td><td> 71  </td><td>  22 </td><td>...  </td><td>  42 </td><td>   50</td><td>  88 </td><td>  85 </td><td> 116 </td><td>  94 </td><td>   68</td><td>   27</td><td>  97 </td><td>  28 </td></tr>\n",
       "\t<tr><th scope=row>TRINITY_DN88538_c0_g1_i1</th><td>   0 </td><td>    0</td><td>   0 </td><td>    0</td><td>    0</td><td>   0 </td><td>   0 </td><td>   0 </td><td>  0  </td><td>   0 </td><td>...  </td><td>   0 </td><td>    0</td><td>   0 </td><td>   0 </td><td>   0 </td><td>   0 </td><td>    0</td><td>    0</td><td>   0 </td><td>   0 </td></tr>\n",
       "\t<tr><th scope=row>TRINITY_DN71982_c0_g1_i1</th><td>   7 </td><td>    7</td><td>  20 </td><td>   19</td><td>   12</td><td>  13 </td><td>   6 </td><td>   8 </td><td> 27  </td><td>  10 </td><td>...  </td><td>   8 </td><td>   17</td><td>  14 </td><td>   6 </td><td>   5 </td><td>  14 </td><td>   12</td><td>    7</td><td>  15 </td><td>   9 </td></tr>\n",
       "</tbody>\n",
       "</table>\n"
      ],
      "text/latex": [
       "\\begin{tabular}{r|lllllllllllllllllllllllllllllllllllllllllllllllllllllllllllllllllllllllllllllllll}\n",
       "  & AP\\_C\\_1 & AP\\_C\\_2 & AP\\_C\\_3 & AP\\_C\\_4 & AP\\_C\\_5 & AP\\_C\\_6 & AP\\_P\\_1 & AP\\_P\\_2 & AP\\_P\\_3 & AP\\_P\\_6 & ... & NJ\\_P\\_7 & SC\\_C\\_12 & SC\\_C\\_14 & SC\\_C\\_2 & SC\\_C\\_6 & SC\\_C\\_7 & SC\\_C\\_9 & SC\\_P\\_1 & SC\\_P\\_2 & SC\\_P\\_3\\\\\n",
       "\\hline\n",
       "\tTRINITY\\_DN2522\\_c0\\_g1\\_i3 & 5001  & 10642 & 9041  & 15797 & 11214 & 2686  & 3063  & 7965  & 528   & 9847  & ...   & 8033  & 13728 & 4990  & 3015  & 9699  & 6110  & 14936 & 11409 & 1086  & 5632 \\\\\n",
       "\tTRINITY\\_DN68400\\_c0\\_g1\\_i1 &    4  &    30 &   56  &    49 &    39 &   19  &   45  &   31  &  82   &   39  & ...   &   29  &    48 &   51  &   20  &   32  &   71  &    63 &    25 &   23  &   19 \\\\\n",
       "\tTRINITY\\_DN140775\\_c0\\_g1\\_i1 &    4  &     0 &    2  &     0 &     0 &    0  &    0  &    0  &   0   &    2  & ...   &    1  &     1 &    0  &    1  &    1  &    0  &     0 &     2 &    0  &    1 \\\\\n",
       "\tTRINITY\\_DN75566\\_c0\\_g1\\_i1 &   14  &   122 &  104  &    77 &   137 &  110  &   57  &   59  &  71   &   22  & ...   &   42  &    50 &   88  &   85  &  116  &   94  &    68 &    27 &   97  &   28 \\\\\n",
       "\tTRINITY\\_DN88538\\_c0\\_g1\\_i1 &    0  &     0 &    0  &     0 &     0 &    0  &    0  &    0  &   0   &    0  & ...   &    0  &     0 &    0  &    0  &    0  &    0  &     0 &     0 &    0  &    0 \\\\\n",
       "\tTRINITY\\_DN71982\\_c0\\_g1\\_i1 &    7  &     7 &   20  &    19 &    12 &   13  &    6  &    8  &  27   &   10  & ...   &    8  &    17 &   14  &    6  &    5  &   14  &    12 &     7 &   15  &    9 \\\\\n",
       "\\end{tabular}\n"
      ],
      "text/markdown": [
       "\n",
       "| <!--/--> | AP_C_1 | AP_C_2 | AP_C_3 | AP_C_4 | AP_C_5 | AP_C_6 | AP_P_1 | AP_P_2 | AP_P_3 | AP_P_6 | ... | NJ_P_7 | SC_C_12 | SC_C_14 | SC_C_2 | SC_C_6 | SC_C_7 | SC_C_9 | SC_P_1 | SC_P_2 | SC_P_3 |\n",
       "|---|---|---|---|---|---|---|---|---|---|---|---|---|---|---|---|---|---|---|---|---|---|\n",
       "| TRINITY_DN2522_c0_g1_i3 | 5001  | 10642 | 9041  | 15797 | 11214 | 2686  | 3063  | 7965  | 528   | 9847  | ...   | 8033  | 13728 | 4990  | 3015  | 9699  | 6110  | 14936 | 11409 | 1086  | 5632  |\n",
       "| TRINITY_DN68400_c0_g1_i1 |    4  |    30 |   56  |    49 |    39 |   19  |   45  |   31  |  82   |   39  | ...   |   29  |    48 |   51  |   20  |   32  |   71  |    63 |    25 |   23  |   19  |\n",
       "| TRINITY_DN140775_c0_g1_i1 |    4  |     0 |    2  |     0 |     0 |    0  |    0  |    0  |   0   |    2  | ...   |    1  |     1 |    0  |    1  |    1  |    0  |     0 |     2 |    0  |    1  |\n",
       "| TRINITY_DN75566_c0_g1_i1 |   14  |   122 |  104  |    77 |   137 |  110  |   57  |   59  |  71   |   22  | ...   |   42  |    50 |   88  |   85  |  116  |   94  |    68 |    27 |   97  |   28  |\n",
       "| TRINITY_DN88538_c0_g1_i1 |    0  |     0 |    0  |     0 |     0 |    0  |    0  |    0  |   0   |    0  | ...   |    0  |     0 |    0  |    0  |    0  |    0  |     0 |     0 |    0  |    0  |\n",
       "| TRINITY_DN71982_c0_g1_i1 |    7  |     7 |   20  |    19 |    12 |   13  |    6  |    8  |  27   |   10  | ...   |    8  |    17 |   14  |    6  |    5  |   14  |    12 |     7 |   15  |    9  |\n",
       "\n"
      ],
      "text/plain": [
       "                          AP_C_1 AP_C_2 AP_C_3 AP_C_4 AP_C_5 AP_C_6 AP_P_1\n",
       "TRINITY_DN2522_c0_g1_i3   5001   10642  9041   15797  11214  2686   3063  \n",
       "TRINITY_DN68400_c0_g1_i1     4      30    56      49     39    19     45  \n",
       "TRINITY_DN140775_c0_g1_i1    4       0     2       0      0     0      0  \n",
       "TRINITY_DN75566_c0_g1_i1    14     122   104      77    137   110     57  \n",
       "TRINITY_DN88538_c0_g1_i1     0       0     0       0      0     0      0  \n",
       "TRINITY_DN71982_c0_g1_i1     7       7    20      19     12    13      6  \n",
       "                          AP_P_2 AP_P_3 AP_P_6 ... NJ_P_7 SC_C_12 SC_C_14\n",
       "TRINITY_DN2522_c0_g1_i3   7965   528    9847   ... 8033   13728   4990   \n",
       "TRINITY_DN68400_c0_g1_i1    31    82      39   ...   29      48     51   \n",
       "TRINITY_DN140775_c0_g1_i1    0     0       2   ...    1       1      0   \n",
       "TRINITY_DN75566_c0_g1_i1    59    71      22   ...   42      50     88   \n",
       "TRINITY_DN88538_c0_g1_i1     0     0       0   ...    0       0      0   \n",
       "TRINITY_DN71982_c0_g1_i1     8    27      10   ...    8      17     14   \n",
       "                          SC_C_2 SC_C_6 SC_C_7 SC_C_9 SC_P_1 SC_P_2 SC_P_3\n",
       "TRINITY_DN2522_c0_g1_i3   3015   9699   6110   14936  11409  1086   5632  \n",
       "TRINITY_DN68400_c0_g1_i1    20     32     71      63     25    23     19  \n",
       "TRINITY_DN140775_c0_g1_i1    1      1      0       0      2     0      1  \n",
       "TRINITY_DN75566_c0_g1_i1    85    116     94      68     27    97     28  \n",
       "TRINITY_DN88538_c0_g1_i1     0      0      0       0      0     0      0  \n",
       "TRINITY_DN71982_c0_g1_i1     6      5     14      12      7    15      9  "
      ]
     },
     "metadata": {},
     "output_type": "display_data"
    },
    {
     "data": {
      "text/html": [
       "<ol class=list-inline>\n",
       "\t<li>149511</li>\n",
       "\t<li>81</li>\n",
       "</ol>\n"
      ],
      "text/latex": [
       "\\begin{enumerate*}\n",
       "\\item 149511\n",
       "\\item 81\n",
       "\\end{enumerate*}\n"
      ],
      "text/markdown": [
       "1. 149511\n",
       "2. 81\n",
       "\n",
       "\n"
      ],
      "text/plain": [
       "[1] 149511     81"
      ]
     },
     "metadata": {},
     "output_type": "display_data"
    }
   ],
   "source": [
    "head(all_counts)\n",
    "dim(all_counts)"
   ]
  },
  {
   "cell_type": "markdown",
   "metadata": {},
   "source": [
    "Read in the sample metadata and have a look."
   ]
  },
  {
   "cell_type": "code",
   "execution_count": 5,
   "metadata": {},
   "outputs": [
    {
     "data": {
      "text/html": [
       "<table>\n",
       "<thead><tr><th></th><th scope=col>site</th><th scope=col>condition</th><th scope=col>range</th><th scope=col>sex</th></tr></thead>\n",
       "<tbody>\n",
       "\t<tr><th scope=row>AP_C_1</th><td>AP    </td><td>C     </td><td>Native</td><td>F     </td></tr>\n",
       "\t<tr><th scope=row>AP_C_2</th><td>AP    </td><td>C     </td><td>Native</td><td>F     </td></tr>\n",
       "\t<tr><th scope=row>AP_C_3</th><td>AP    </td><td>C     </td><td>Native</td><td>M     </td></tr>\n",
       "\t<tr><th scope=row>AP_C_4</th><td>AP    </td><td>C     </td><td>Native</td><td>M     </td></tr>\n",
       "\t<tr><th scope=row>AP_C_5</th><td>AP    </td><td>C     </td><td>Native</td><td>M     </td></tr>\n",
       "\t<tr><th scope=row>AP_C_6</th><td>AP    </td><td>C     </td><td>Native</td><td>M     </td></tr>\n",
       "</tbody>\n",
       "</table>\n"
      ],
      "text/latex": [
       "\\begin{tabular}{r|llll}\n",
       "  & site & condition & range & sex\\\\\n",
       "\\hline\n",
       "\tAP\\_C\\_1 & AP     & C      & Native & F     \\\\\n",
       "\tAP\\_C\\_2 & AP     & C      & Native & F     \\\\\n",
       "\tAP\\_C\\_3 & AP     & C      & Native & M     \\\\\n",
       "\tAP\\_C\\_4 & AP     & C      & Native & M     \\\\\n",
       "\tAP\\_C\\_5 & AP     & C      & Native & M     \\\\\n",
       "\tAP\\_C\\_6 & AP     & C      & Native & M     \\\\\n",
       "\\end{tabular}\n"
      ],
      "text/markdown": [
       "\n",
       "| <!--/--> | site | condition | range | sex |\n",
       "|---|---|---|---|---|\n",
       "| AP_C_1 | AP     | C      | Native | F      |\n",
       "| AP_C_2 | AP     | C      | Native | F      |\n",
       "| AP_C_3 | AP     | C      | Native | M      |\n",
       "| AP_C_4 | AP     | C      | Native | M      |\n",
       "| AP_C_5 | AP     | C      | Native | M      |\n",
       "| AP_C_6 | AP     | C      | Native | M      |\n",
       "\n"
      ],
      "text/plain": [
       "       site condition range  sex\n",
       "AP_C_1 AP   C         Native F  \n",
       "AP_C_2 AP   C         Native F  \n",
       "AP_C_3 AP   C         Native M  \n",
       "AP_C_4 AP   C         Native M  \n",
       "AP_C_5 AP   C         Native M  \n",
       "AP_C_6 AP   C         Native M  "
      ]
     },
     "metadata": {},
     "output_type": "display_data"
    },
    {
     "data": {
      "text/html": [
       "<ol class=list-inline>\n",
       "\t<li>81</li>\n",
       "\t<li>4</li>\n",
       "</ol>\n"
      ],
      "text/latex": [
       "\\begin{enumerate*}\n",
       "\\item 81\n",
       "\\item 4\n",
       "\\end{enumerate*}\n"
      ],
      "text/markdown": [
       "1. 81\n",
       "2. 4\n",
       "\n",
       "\n"
      ],
      "text/plain": [
       "[1] 81  4"
      ]
     },
     "metadata": {},
     "output_type": "display_data"
    }
   ],
   "source": [
    "path_to_meta <- paste(path_to_main,\"metadata/DESeq2_coldata.txt\",sep=\"\")\n",
    "coldata <- read.table(path_to_meta,header=FALSE,row.names=1)\n",
    "colnames(coldata) <- c(\"site\",\"condition\",\"range\",\"sex\")\n",
    "head(coldata)\n",
    "dim(coldata)"
   ]
  },
  {
   "cell_type": "markdown",
   "metadata": {},
   "source": [
    "Make sure the two matrices contain all of the same samples and are in order."
   ]
  },
  {
   "cell_type": "code",
   "execution_count": 6,
   "metadata": {},
   "outputs": [
    {
     "data": {
      "text/html": [
       "TRUE"
      ],
      "text/latex": [
       "TRUE"
      ],
      "text/markdown": [
       "TRUE"
      ],
      "text/plain": [
       "[1] TRUE"
      ]
     },
     "metadata": {},
     "output_type": "display_data"
    }
   ],
   "source": [
    "all(rownames(coldata) == colnames(all_counts))"
   ]
  },
  {
   "cell_type": "code",
   "execution_count": 7,
   "metadata": {},
   "outputs": [
    {
     "name": "stderr",
     "output_type": "stream",
     "text": [
      "converting counts to integer mode\n"
     ]
    }
   ],
   "source": [
    "dds <- DESeqDataSetFromMatrix(countData = all_counts, colData = coldata, design = ~ condition)"
   ]
  },
  {
   "cell_type": "code",
   "execution_count": 8,
   "metadata": {},
   "outputs": [
    {
     "name": "stderr",
     "output_type": "stream",
     "text": [
      "estimating size factors\n",
      "estimating dispersions\n",
      "gene-wise dispersion estimates\n",
      "mean-dispersion relationship\n",
      "-- note: fitType='parametric', but the dispersion trend was not well captured by the\n",
      "   function: y = a/x + b, and a local regression fit was automatically substituted.\n",
      "   specify fitType='local' or 'mean' to avoid this message next time.\n",
      "final dispersion estimates\n",
      "fitting model and testing\n",
      "-- replacing outliers and refitting for 18094 genes\n",
      "-- DESeq argument 'minReplicatesForReplace' = 7 \n",
      "-- original counts are preserved in counts(dds)\n",
      "estimating dispersions\n",
      "fitting model and testing\n"
     ]
    }
   ],
   "source": [
    "library(\"BiocParallel\")\n",
    "register(MulticoreParam(8))\n",
    "dds <- DESeq(dds)"
   ]
  },
  {
   "cell_type": "code",
   "execution_count": 16,
   "metadata": {},
   "outputs": [
    {
     "data": {
      "text/plain": [
       "log2 fold change (MLE): condition P vs C \n",
       "Wald test p-value: condition P vs C \n",
       "DataFrame with 149511 rows and 6 columns\n",
       "                                    baseMean       log2FoldChange\n",
       "                                   <numeric>            <numeric>\n",
       "TRINITY_DN2522_c0_g1_i3     5991.29432920851   -0.155483736291063\n",
       "TRINITY_DN68400_c0_g1_i1    30.1494058582147     0.47367868157792\n",
       "TRINITY_DN140775_c0_g1_i1   1.00391257995724   -0.243285189994498\n",
       "TRINITY_DN75566_c0_g1_i1    69.2360126673168   0.0570142682338935\n",
       "TRINITY_DN88538_c0_g1_i1  0.0623030912192727    0.294866934453428\n",
       "...                                      ...                  ...\n",
       "TRINITY_DN24218_c0_g1_i1     61.125541818803 -0.00987707947199641\n",
       "TRINITY_DN144968_c0_g1_i1   1.04133797109394   -0.950629878155857\n",
       "TRINITY_DN8739_c0_g1_i1     843.922469900028  -0.0624797677392558\n",
       "TRINITY_DN131036_c0_g1_i1   56.8732136460134    0.184169444340497\n",
       "TRINITY_DN46128_c0_g1_i1    7.69565305891964   -0.970435800182563\n",
       "                                       lfcSE               stat\n",
       "                                   <numeric>          <numeric>\n",
       "TRINITY_DN2522_c0_g1_i3    0.166510529506784 -0.933777201667768\n",
       "TRINITY_DN68400_c0_g1_i1   0.188460986446548   2.51340444783391\n",
       "TRINITY_DN140775_c0_g1_i1  0.461632282680226 -0.527010781356083\n",
       "TRINITY_DN75566_c0_g1_i1   0.178664812530027  0.319113021901341\n",
       "TRINITY_DN88538_c0_g1_i1    3.00459368791092 0.0981387052897819\n",
       "...                                      ...                ...\n",
       "TRINITY_DN24218_c0_g1_i1  0.0875582181640057 -0.112805852826923\n",
       "TRINITY_DN144968_c0_g1_i1  0.611571217863794  -1.55440584904631\n",
       "TRINITY_DN8739_c0_g1_i1    0.122445566807781 -0.510265658187028\n",
       "TRINITY_DN131036_c0_g1_i1  0.119910349022583   1.53589282194327\n",
       "TRINITY_DN46128_c0_g1_i1   0.284000044495536  -3.41702693007084\n",
       "                                        pvalue               padj\n",
       "                                     <numeric>          <numeric>\n",
       "TRINITY_DN2522_c0_g1_i3       0.35041883201246  0.784482721726752\n",
       "TRINITY_DN68400_c0_g1_i1    0.0119572164538198  0.212939316190585\n",
       "TRINITY_DN140775_c0_g1_i1    0.598186101539641                 NA\n",
       "TRINITY_DN75566_c0_g1_i1     0.749640809447365   0.94568122123024\n",
       "TRINITY_DN88538_c0_g1_i1     0.921822153475741                 NA\n",
       "...                                        ...                ...\n",
       "TRINITY_DN24218_c0_g1_i1     0.910184478080327  0.982895064536775\n",
       "TRINITY_DN144968_c0_g1_i1    0.120087638930736                 NA\n",
       "TRINITY_DN8739_c0_g1_i1      0.609865358593878  0.903181018214585\n",
       "TRINITY_DN131036_c0_g1_i1    0.124564668922631  0.583196505813184\n",
       "TRINITY_DN46128_c0_g1_i1  0.000633090167850395 0.0330471815214013"
      ]
     },
     "metadata": {},
     "output_type": "display_data"
    }
   ],
   "source": [
    "res <- results(dds, alpha=0.05)\n",
    "res"
   ]
  },
  {
   "cell_type": "code",
   "execution_count": 10,
   "metadata": {},
   "outputs": [
    {
     "name": "stderr",
     "output_type": "stream",
     "text": [
      "using 'apeglm' for LFC shrinkage. If used in published research, please cite:\n",
      "    Zhu, A., Ibrahim, J.G., Love, M.I. (2018) Heavy-tailed prior distributions for\n",
      "    sequence count data: removing the noise and preserving large differences.\n",
      "    Bioinformatics. https://doi.org/10.1093/bioinformatics/bty895\n"
     ]
    }
   ],
   "source": [
    "resLFC <- lfcShrink(dds, coef=\"condition_P_vs_C\", type=\"apeglm\")"
   ]
  },
  {
   "cell_type": "code",
   "execution_count": 17,
   "metadata": {},
   "outputs": [
    {
     "name": "stdout",
     "output_type": "stream",
     "text": [
      "\n",
      "out of 148816 with nonzero total read count\n",
      "adjusted p-value < 0.05\n",
      "LFC > 0 (up)       : 1250, 0.84%\n",
      "LFC < 0 (down)     : 1127, 0.76%\n",
      "outliers [1]       : 0, 0%\n",
      "low counts [2]     : 43963, 30%\n",
      "(mean count < 1)\n",
      "[1] see 'cooksCutoff' argument of ?results\n",
      "[2] see 'independentFiltering' argument of ?results\n",
      "\n"
     ]
    }
   ],
   "source": [
    "summary(res)"
   ]
  },
  {
   "cell_type": "code",
   "execution_count": 27,
   "metadata": {},
   "outputs": [
    {
     "data": {
      "image/png": "[encoded data removed]",
      "text/plain": [
       "Plot with title “”"
      ]
     },
     "metadata": {},
     "output_type": "display_data"
    }
   ],
   "source": [
    "plotMA(resLFC, ylim=c(-13,13))"
   ]
  },
  {
   "cell_type": "markdown",
   "metadata": {},
   "source": [
    "The cloud of extremely over-expressed transcripts is most likely a result of latent contamination. I observed this the first time I did this analysis. I was hoping that the additional contaminant filtering steps would help, but it appears not. Perhaps instead of blasting to the Loxo txm for pulling out reads before assembly, perhaps we can just blast against the raw Loxo reads. Would help ID things that didn't make it into the Loxo assembly, but there are still probably Loxo reads that would make it into the Rhithro assembly becuase the loxo reads are from the externae, not the root system. Even though the rhithro assembly was made from just clean crabs, there are loxo reads in it. This must be due to some latent infection or index hopping during sequencing. \n",
    "\n",
    "One approach could be to just remove all significant transcripts that are more overexpressed than the most underexpressed significant transcript. A little ad hoc, but could help with this issue, especially downstream with WGCNA. \n",
    "\n",
    "Now to check out a multi-factor design, analyzing both range and condition. "
   ]
  },
  {
   "cell_type": "code",
   "execution_count": 82,
   "metadata": {},
   "outputs": [],
   "source": [
    "vsd <- vst(dds)"
   ]
  },
  {
   "cell_type": "code",
   "execution_count": 85,
   "metadata": {},
   "outputs": [
    {
     "ename": "ERROR",
     "evalue": "Error in library(\"pheatmap\"): there is no package called ‘pheatmap’\n",
     "output_type": "error",
     "traceback": [
      "Error in library(\"pheatmap\"): there is no package called ‘pheatmap’\nTraceback:\n",
      "1. library(\"pheatmap\")"
     ]
    }
   ],
   "source": [
    "library(\"RColorBrewer\")\n",
    "library(\"pheatmap\")\n",
    "sampleDists <- dist(t(assay(vsd)))\n",
    "sampleDistMatrix <- as.matrix(sampleDists)\n",
    "rownames(sampleDistMatrix) <- paste(vsd$condition, vsd$range, sep=\"-\")\n",
    "colnames(sampleDistMatrix) <- NULL\n",
    "colors <- colorRampPalette( rev(brewer.pal(9, \"Blues\")) )(255)\n",
    "pheatmap(sampleDistMatrix,\n",
    "         clustering_distance_rows=sampleDists,\n",
    "         clustering_distance_cols=sampleDists,\n",
    "         col=colors)"
   ]
  },
  {
   "cell_type": "code",
   "execution_count": 83,
   "metadata": {},
   "outputs": [
    {
     "data": {
      "image/png": "[encoded data removed]",
      "text/plain": [
       "plot without title"
      ]
     },
     "metadata": {},
     "output_type": "display_data"
    }
   ],
   "source": [
    "plotPCA(vsd, intgroup=c(\"condition\", \"range\"))"
   ]
  },
  {
   "cell_type": "code",
   "execution_count": 65,
   "metadata": {},
   "outputs": [],
   "source": [
    "ddsMF <- dds"
   ]
  },
  {
   "cell_type": "markdown",
   "metadata": {},
   "source": [
    "Let's remove the Fort Pierce (FP) samples because the invasive status of Loxo is unresolved there. FP are in rows 11-22. "
   ]
  },
  {
   "cell_type": "code",
   "execution_count": 66,
   "metadata": {},
   "outputs": [
    {
     "data": {
      "text/plain": [
       "class: DESeqDataSet \n",
       "dim: 149511 69 \n",
       "metadata(1): version\n",
       "assays(6): counts mu ... replaceCounts replaceCooks\n",
       "rownames(149511): TRINITY_DN2522_c0_g1_i3 TRINITY_DN68400_c0_g1_i1 ...\n",
       "  TRINITY_DN131036_c0_g1_i1 TRINITY_DN46128_c0_g1_i1\n",
       "rowData names(23): baseMean baseVar ... maxCooks replace\n",
       "colnames(69): AP_C_1 AP_C_2 ... SC_P_2 SC_P_3\n",
       "colData names(6): site condition ... sizeFactor replaceable"
      ]
     },
     "metadata": {},
     "output_type": "display_data"
    }
   ],
   "source": [
    "ddsMF_noFP <- ddsMF[,-c(11:22)]\n",
    "ddsMF_noFP"
   ]
  },
  {
   "cell_type": "markdown",
   "metadata": {},
   "source": [
    "Now you can see that we only have 69 samples, after removing the 12 from FP. "
   ]
  },
  {
   "cell_type": "code",
   "execution_count": 73,
   "metadata": {},
   "outputs": [
    {
     "data": {
      "text/html": [
       "<ol class=list-inline>\n",
       "\t<li>NativeC</li>\n",
       "\t<li>NativeC</li>\n",
       "\t<li>NativeC</li>\n",
       "\t<li>NativeC</li>\n",
       "\t<li>NativeC</li>\n",
       "\t<li>NativeC</li>\n",
       "\t<li>NativeP</li>\n",
       "\t<li>NativeP</li>\n",
       "\t<li>NativeP</li>\n",
       "\t<li>NativeP</li>\n",
       "\t<li>NativeC</li>\n",
       "\t<li>NativeC</li>\n",
       "\t<li>NativeC</li>\n",
       "\t<li>NativeC</li>\n",
       "\t<li>NativeC</li>\n",
       "\t<li>NativeC</li>\n",
       "\t<li>NativeP</li>\n",
       "\t<li>NativeP</li>\n",
       "\t<li>AbsentC</li>\n",
       "\t<li>AbsentC</li>\n",
       "\t<li>AbsentC</li>\n",
       "\t<li>InvasiveC</li>\n",
       "\t<li>InvasiveC</li>\n",
       "\t<li>InvasiveP</li>\n",
       "\t<li>InvasiveC</li>\n",
       "\t<li>InvasiveC</li>\n",
       "\t<li>InvasiveC</li>\n",
       "\t<li>InvasiveP</li>\n",
       "\t<li>InvasiveC</li>\n",
       "\t<li>InvasiveC</li>\n",
       "\t<li>InvasiveC</li>\n",
       "\t<li>InvasiveC</li>\n",
       "\t<li>InvasiveC</li>\n",
       "\t<li>InvasiveC</li>\n",
       "\t<li>InvasiveP</li>\n",
       "\t<li>InvasiveP</li>\n",
       "\t<li>AbsentC</li>\n",
       "\t<li>AbsentC</li>\n",
       "\t<li>AbsentC</li>\n",
       "\t<li>AbsentC</li>\n",
       "\t<li>AbsentC</li>\n",
       "\t<li>AbsentC</li>\n",
       "\t<li>AbsentP</li>\n",
       "\t<li>AbsentP</li>\n",
       "\t<li>AbsentP</li>\n",
       "\t<li>AbsentP</li>\n",
       "\t<li>AbsentP</li>\n",
       "\t<li>AbsentP</li>\n",
       "\t<li>AbsentC</li>\n",
       "\t<li>AbsentC</li>\n",
       "\t<li>AbsentC</li>\n",
       "\t<li>AbsentC</li>\n",
       "\t<li>AbsentC</li>\n",
       "\t<li>AbsentC</li>\n",
       "\t<li>AbsentP</li>\n",
       "\t<li>AbsentP</li>\n",
       "\t<li>AbsentP</li>\n",
       "\t<li>AbsentP</li>\n",
       "\t<li>AbsentP</li>\n",
       "\t<li>AbsentP</li>\n",
       "\t<li>InvasiveC</li>\n",
       "\t<li>InvasiveC</li>\n",
       "\t<li>InvasiveC</li>\n",
       "\t<li>InvasiveC</li>\n",
       "\t<li>InvasiveC</li>\n",
       "\t<li>InvasiveC</li>\n",
       "\t<li>InvasiveP</li>\n",
       "\t<li>InvasiveP</li>\n",
       "\t<li>InvasiveP</li>\n",
       "</ol>\n",
       "\n",
       "<details>\n",
       "\t<summary style=display:list-item;cursor:pointer>\n",
       "\t\t<strong>Levels</strong>:\n",
       "\t</summary>\n",
       "\t<ol class=list-inline>\n",
       "\t\t<li>'AbsentC'</li>\n",
       "\t\t<li>'AbsentP'</li>\n",
       "\t\t<li>'InvasiveC'</li>\n",
       "\t\t<li>'InvasiveP'</li>\n",
       "\t\t<li>'NativeC'</li>\n",
       "\t\t<li>'NativeP'</li>\n",
       "\t</ol>\n",
       "</details>"
      ],
      "text/latex": [
       "\\begin{enumerate*}\n",
       "\\item NativeC\n",
       "\\item NativeC\n",
       "\\item NativeC\n",
       "\\item NativeC\n",
       "\\item NativeC\n",
       "\\item NativeC\n",
       "\\item NativeP\n",
       "\\item NativeP\n",
       "\\item NativeP\n",
       "\\item NativeP\n",
       "\\item NativeC\n",
       "\\item NativeC\n",
       "\\item NativeC\n",
       "\\item NativeC\n",
       "\\item NativeC\n",
       "\\item NativeC\n",
       "\\item NativeP\n",
       "\\item NativeP\n",
       "\\item AbsentC\n",
       "\\item AbsentC\n",
       "\\item AbsentC\n",
       "\\item InvasiveC\n",
       "\\item InvasiveC\n",
       "\\item InvasiveP\n",
       "\\item InvasiveC\n",
       "\\item InvasiveC\n",
       "\\item InvasiveC\n",
       "\\item InvasiveP\n",
       "\\item InvasiveC\n",
       "\\item InvasiveC\n",
       "\\item InvasiveC\n",
       "\\item InvasiveC\n",
       "\\item InvasiveC\n",
       "\\item InvasiveC\n",
       "\\item InvasiveP\n",
       "\\item InvasiveP\n",
       "\\item AbsentC\n",
       "\\item AbsentC\n",
       "\\item AbsentC\n",
       "\\item AbsentC\n",
       "\\item AbsentC\n",
       "\\item AbsentC\n",
       "\\item AbsentP\n",
       "\\item AbsentP\n",
       "\\item AbsentP\n",
       "\\item AbsentP\n",
       "\\item AbsentP\n",
       "\\item AbsentP\n",
       "\\item AbsentC\n",
       "\\item AbsentC\n",
       "\\item AbsentC\n",
       "\\item AbsentC\n",
       "\\item AbsentC\n",
       "\\item AbsentC\n",
       "\\item AbsentP\n",
       "\\item AbsentP\n",
       "\\item AbsentP\n",
       "\\item AbsentP\n",
       "\\item AbsentP\n",
       "\\item AbsentP\n",
       "\\item InvasiveC\n",
       "\\item InvasiveC\n",
       "\\item InvasiveC\n",
       "\\item InvasiveC\n",
       "\\item InvasiveC\n",
       "\\item InvasiveC\n",
       "\\item InvasiveP\n",
       "\\item InvasiveP\n",
       "\\item InvasiveP\n",
       "\\end{enumerate*}\n",
       "\n",
       "\\emph{Levels}: \\begin{enumerate*}\n",
       "\\item 'AbsentC'\n",
       "\\item 'AbsentP'\n",
       "\\item 'InvasiveC'\n",
       "\\item 'InvasiveP'\n",
       "\\item 'NativeC'\n",
       "\\item 'NativeP'\n",
       "\\end{enumerate*}\n"
      ],
      "text/markdown": [
       "1. NativeC\n",
       "2. NativeC\n",
       "3. NativeC\n",
       "4. NativeC\n",
       "5. NativeC\n",
       "6. NativeC\n",
       "7. NativeP\n",
       "8. NativeP\n",
       "9. NativeP\n",
       "10. NativeP\n",
       "11. NativeC\n",
       "12. NativeC\n",
       "13. NativeC\n",
       "14. NativeC\n",
       "15. NativeC\n",
       "16. NativeC\n",
       "17. NativeP\n",
       "18. NativeP\n",
       "19. AbsentC\n",
       "20. AbsentC\n",
       "21. AbsentC\n",
       "22. InvasiveC\n",
       "23. InvasiveC\n",
       "24. InvasiveP\n",
       "25. InvasiveC\n",
       "26. InvasiveC\n",
       "27. InvasiveC\n",
       "28. InvasiveP\n",
       "29. InvasiveC\n",
       "30. InvasiveC\n",
       "31. InvasiveC\n",
       "32. InvasiveC\n",
       "33. InvasiveC\n",
       "34. InvasiveC\n",
       "35. InvasiveP\n",
       "36. InvasiveP\n",
       "37. AbsentC\n",
       "38. AbsentC\n",
       "39. AbsentC\n",
       "40. AbsentC\n",
       "41. AbsentC\n",
       "42. AbsentC\n",
       "43. AbsentP\n",
       "44. AbsentP\n",
       "45. AbsentP\n",
       "46. AbsentP\n",
       "47. AbsentP\n",
       "48. AbsentP\n",
       "49. AbsentC\n",
       "50. AbsentC\n",
       "51. AbsentC\n",
       "52. AbsentC\n",
       "53. AbsentC\n",
       "54. AbsentC\n",
       "55. AbsentP\n",
       "56. AbsentP\n",
       "57. AbsentP\n",
       "58. AbsentP\n",
       "59. AbsentP\n",
       "60. AbsentP\n",
       "61. InvasiveC\n",
       "62. InvasiveC\n",
       "63. InvasiveC\n",
       "64. InvasiveC\n",
       "65. InvasiveC\n",
       "66. InvasiveC\n",
       "67. InvasiveP\n",
       "68. InvasiveP\n",
       "69. InvasiveP\n",
       "\n",
       "\n",
       "\n",
       "**Levels**: 1. 'AbsentC'\n",
       "2. 'AbsentP'\n",
       "3. 'InvasiveC'\n",
       "4. 'InvasiveP'\n",
       "5. 'NativeC'\n",
       "6. 'NativeP'\n",
       "\n",
       "\n"
      ],
      "text/plain": [
       " [1] NativeC   NativeC   NativeC   NativeC   NativeC   NativeC   NativeP  \n",
       " [8] NativeP   NativeP   NativeP   NativeC   NativeC   NativeC   NativeC  \n",
       "[15] NativeC   NativeC   NativeP   NativeP   AbsentC   AbsentC   AbsentC  \n",
       "[22] InvasiveC InvasiveC InvasiveP InvasiveC InvasiveC InvasiveC InvasiveP\n",
       "[29] InvasiveC InvasiveC InvasiveC InvasiveC InvasiveC InvasiveC InvasiveP\n",
       "[36] InvasiveP AbsentC   AbsentC   AbsentC   AbsentC   AbsentC   AbsentC  \n",
       "[43] AbsentP   AbsentP   AbsentP   AbsentP   AbsentP   AbsentP   AbsentC  \n",
       "[50] AbsentC   AbsentC   AbsentC   AbsentC   AbsentC   AbsentP   AbsentP  \n",
       "[57] AbsentP   AbsentP   AbsentP   AbsentP   InvasiveC InvasiveC InvasiveC\n",
       "[64] InvasiveC InvasiveC InvasiveC InvasiveP InvasiveP InvasiveP\n",
       "Levels: AbsentC AbsentP InvasiveC InvasiveP NativeC NativeP"
      ]
     },
     "metadata": {},
     "output_type": "display_data"
    }
   ],
   "source": [
    "ddsMF_noFP$group <- factor(paste0(ddsMF_noFP$range, ddsMF_noFP$condition)) \n",
    "ddsMF_noFP$group"
   ]
  },
  {
   "cell_type": "code",
   "execution_count": 74,
   "metadata": {},
   "outputs": [
    {
     "name": "stderr",
     "output_type": "stream",
     "text": [
      "using pre-existing size factors\n",
      "estimating dispersions\n",
      "found already estimated dispersions, replacing these\n",
      "gene-wise dispersion estimates\n",
      "mean-dispersion relationship\n",
      "-- note: fitType='parametric', but the dispersion trend was not well captured by the\n",
      "   function: y = a/x + b, and a local regression fit was automatically substituted.\n",
      "   specify fitType='local' or 'mean' to avoid this message next time.\n",
      "final dispersion estimates\n",
      "fitting model and testing\n",
      "-- replacing outliers and refitting for 12266 genes\n",
      "-- DESeq argument 'minReplicatesForReplace' = 7 \n",
      "-- original counts are preserved in counts(dds)\n",
      "estimating dispersions\n",
      "fitting model and testing\n"
     ]
    }
   ],
   "source": [
    "design(ddsMF_noFP) <- ~ group\n",
    "ddsMF_noFP <- DESeq(ddsMF_noFP)"
   ]
  },
  {
   "cell_type": "code",
   "execution_count": 77,
   "metadata": {},
   "outputs": [
    {
     "data": {
      "text/plain": [
       "log2 fold change (MLE): group NativeP vs AbsentC \n",
       "Wald test p-value: group NativeP vs AbsentC \n",
       "DataFrame with 149511 rows and 6 columns\n",
       "                                    baseMean     log2FoldChange\n",
       "                                   <numeric>          <numeric>\n",
       "TRINITY_DN2522_c0_g1_i3     6130.46736837643  0.197986920677313\n",
       "TRINITY_DN68400_c0_g1_i1      28.99232254402   1.49194324768313\n",
       "TRINITY_DN140775_c0_g1_i1   1.04073114649582  0.205046811298963\n",
       "TRINITY_DN75566_c0_g1_i1    67.4701849518878 -0.193809975013515\n",
       "TRINITY_DN88538_c0_g1_i1  0.0731384114313201 -0.802580660941875\n",
       "...                                      ...                ...\n",
       "TRINITY_DN24218_c0_g1_i1    61.1680868224187  0.246470004796439\n",
       "TRINITY_DN144968_c0_g1_i1   1.15798708783082   1.05979257963071\n",
       "TRINITY_DN8739_c0_g1_i1     855.379171048832   0.15285016051543\n",
       "TRINITY_DN131036_c0_g1_i1   55.8425836148422  0.342836223117198\n",
       "TRINITY_DN46128_c0_g1_i1    7.96024834561026 -0.918292432810512\n",
       "                                      lfcSE               stat\n",
       "                                  <numeric>          <numeric>\n",
       "TRINITY_DN2522_c0_g1_i3   0.324794600754985    0.6095757756351\n",
       "TRINITY_DN68400_c0_g1_i1  0.327536003452946   4.55505114538489\n",
       "TRINITY_DN140775_c0_g1_i1  1.04615334631322  0.196000722094495\n",
       "TRINITY_DN75566_c0_g1_i1  0.364769161892043 -0.531322258735443\n",
       "TRINITY_DN88538_c0_g1_i1    5.8717968221745 -0.136683997292102\n",
       "...                                     ...                ...\n",
       "TRINITY_DN24218_c0_g1_i1  0.175650589451094   1.40318347673444\n",
       "TRINITY_DN144968_c0_g1_i1  1.19834258422091  0.884381973557023\n",
       "TRINITY_DN8739_c0_g1_i1   0.242110806928615  0.631323163366668\n",
       "TRINITY_DN131036_c0_g1_i1  0.23987064588211   1.42925459618637\n",
       "TRINITY_DN46128_c0_g1_i1  0.558197530011809   -1.6451030028583\n",
       "                                        pvalue                 padj\n",
       "                                     <numeric>            <numeric>\n",
       "TRINITY_DN2522_c0_g1_i3      0.542142862595982    0.740312881844119\n",
       "TRINITY_DN68400_c0_g1_i1  5.23728339259522e-06 0.000356203634781622\n",
       "TRINITY_DN140775_c0_g1_i1     0.84460960080978    0.924377391196787\n",
       "TRINITY_DN75566_c0_g1_i1      0.59519548337055    0.776286276404721\n",
       "TRINITY_DN88538_c0_g1_i1     0.891280579115354                   NA\n",
       "...                                        ...                  ...\n",
       "TRINITY_DN24218_c0_g1_i1      0.16056213349641    0.412175602774351\n",
       "TRINITY_DN144968_c0_g1_i1    0.376490050648097    0.624031144987189\n",
       "TRINITY_DN8739_c0_g1_i1      0.527829244462135    0.729802917030341\n",
       "TRINITY_DN131036_c0_g1_i1    0.152931070793688    0.402227780547029\n",
       "TRINITY_DN46128_c0_g1_i1    0.0999485714612207    0.322004317263345"
      ]
     },
     "metadata": {},
     "output_type": "display_data"
    },
    {
     "name": "stdout",
     "output_type": "stream",
     "text": [
      "\n",
      "out of 148998 with nonzero total read count\n",
      "adjusted p-value < 0.05\n",
      "LFC > 0 (up)       : 5114, 3.4%\n",
      "LFC < 0 (down)     : 6340, 4.3%\n",
      "outliers [1]       : 289, 0.19%\n",
      "low counts [2]     : 29331, 20%\n",
      "(mean count < 1)\n",
      "[1] see 'cooksCutoff' argument of ?results\n",
      "[2] see 'independentFiltering' argument of ?results\n",
      "\n"
     ]
    }
   ],
   "source": [
    "resMF_noFP <- results(ddsMF_noFP, alpha=0.05)\n",
    "resMF_noFP\n",
    "summary(resMF_noFP)"
   ]
  },
  {
   "cell_type": "code",
   "execution_count": 80,
   "metadata": {},
   "outputs": [
    {
     "data": {
      "text/html": [
       "<ol class=list-inline>\n",
       "\t<li>'Intercept'</li>\n",
       "\t<li>'group_AbsentP_vs_AbsentC'</li>\n",
       "\t<li>'group_InvasiveC_vs_AbsentC'</li>\n",
       "\t<li>'group_InvasiveP_vs_AbsentC'</li>\n",
       "\t<li>'group_NativeC_vs_AbsentC'</li>\n",
       "\t<li>'group_NativeP_vs_AbsentC'</li>\n",
       "</ol>\n"
      ],
      "text/latex": [
       "\\begin{enumerate*}\n",
       "\\item 'Intercept'\n",
       "\\item 'group\\_AbsentP\\_vs\\_AbsentC'\n",
       "\\item 'group\\_InvasiveC\\_vs\\_AbsentC'\n",
       "\\item 'group\\_InvasiveP\\_vs\\_AbsentC'\n",
       "\\item 'group\\_NativeC\\_vs\\_AbsentC'\n",
       "\\item 'group\\_NativeP\\_vs\\_AbsentC'\n",
       "\\end{enumerate*}\n"
      ],
      "text/markdown": [
       "1. 'Intercept'\n",
       "2. 'group_AbsentP_vs_AbsentC'\n",
       "3. 'group_InvasiveC_vs_AbsentC'\n",
       "4. 'group_InvasiveP_vs_AbsentC'\n",
       "5. 'group_NativeC_vs_AbsentC'\n",
       "6. 'group_NativeP_vs_AbsentC'\n",
       "\n",
       "\n"
      ],
      "text/plain": [
       "[1] \"Intercept\"                  \"group_AbsentP_vs_AbsentC\"  \n",
       "[3] \"group_InvasiveC_vs_AbsentC\" \"group_InvasiveP_vs_AbsentC\"\n",
       "[5] \"group_NativeC_vs_AbsentC\"   \"group_NativeP_vs_AbsentC\"  "
      ]
     },
     "metadata": {},
     "output_type": "display_data"
    }
   ],
   "source": [
    "resultsNames(ddsMF_noFP)"
   ]
  }
 ],
 "metadata": {
  "kernelspec": {
   "display_name": "R",
   "language": "R",
   "name": "ir"
  },
  "language_info": {
   "codemirror_mode": "r",
   "file_extension": ".r",
   "mimetype": "text/x-r-source",
   "name": "R",
   "pygments_lexer": "r",
   "version": "3.6.1"
  }
 },
 "nbformat": 4,
 "nbformat_minor": 2
}
