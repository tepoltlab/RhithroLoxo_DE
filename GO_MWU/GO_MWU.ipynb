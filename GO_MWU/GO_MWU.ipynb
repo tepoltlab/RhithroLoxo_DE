{
 "cells": [
  {
   "cell_type": "markdown",
   "metadata": {},
   "source": [
    "## `GO_MWU` functional enrichment analysis\n",
    "\n",
    "Here we will test for enrichment of GO categories in different groups of transcripts. The code is run by simply editing the names of the inputs and uncommenting certain lines of code as needed. See Mikhail Matz's [GitHub page](https://github.com/z0on/GO_MWU) on `GO_MWU` for more info. The code below is identical to the original script with the exception of some minor tweaks for plotting. \n",
    "\n",
    "All functional enrichment analyses in the report were carried out using the `GO_MWU_annot_1e-50.tsv` annotations file, which contains just matching GO terms from the arthropod eggNOG database with e-values at or below 1e-50. Putative contaminants identified by `EnTAP` are also discarded. See the `EnTAP2GO.py` script for more details about how to generate these GO term tables. Run from the `scripts/` directory with this line of code:\n",
    "\n",
    "```\n",
    "python EnTAP2GO.py ../EnTAP/entap_outfiles/final_results/final_annotations_lvl0.tsv ../GO_MWU/GO_MWU_annot_1e-50.tsv 1e-50 y Arthropoda\n",
    "```\n",
    "\n",
    "Also, before running this, you need to have already run the differential expression analysis in the `DESeq2_RhithroLoxo.ipynb` Jupyter notebook. This saves the required input files for `GO_MWU` into the `outputs/` folder. Copy all of these files (prefix GO_MWU) into the `GO_MWU` directory before proceeding. Also, run the following chunks of code to edit the annotations file so that transcripts that don't appear in the DESeq2 results (b/c flagged as contamination within the `DESeq2_RhithroLoxoDE` notebook) are excluded. This makes sure that all transcripts that don't appear in the expression matrix used in DESeq2 are removed from the annotations file.\n",
    "\n",
    "First read in the annotations, the DESeq2 negative decimal log p-values, and the module kME values from WGCNA. Separate ones for the DESeq2 PvC and range comparisons because they used a different set of transcripts. Pick any WGCNA module input file because all of the transcript IDs are identical among them."
   ]
  },
  {
   "cell_type": "code",
   "execution_count": 40,
   "metadata": {},
   "outputs": [],
   "source": [
    "annot <- read.table(\"GO_MWU_annot_1e-50.tsv\", sep=\"\\t\")\n",
    "deseqIDs_PvC <- read.table(\"GO_MWU_PvC_pval.csv\", sep=\",\", header = TRUE)\n",
    "deseqIDs_range <- read.table(\"GO_MWU_interaction_pval.csv\", sep=\",\", header = TRUE)\n",
    "WGCNA_IDs <- read.table(\"GO_MWU_WGCNA_PvC_kMEyellow.csv\", sep=\",\", header = TRUE)"
   ]
  },
  {
   "cell_type": "markdown",
   "metadata": {},
   "source": [
    "Then let's just have a look to see that they are in the right format and of the correct dimensions."
   ]
  },
  {
   "cell_type": "code",
   "execution_count": 41,
   "metadata": {},
   "outputs": [
    {
     "data": {
      "text/html": [
       "<table>\n",
       "<thead><tr><th scope=col>V1</th><th scope=col>V2</th></tr></thead>\n",
       "<tbody>\n",
       "\t<tr><td>TRINITY_DN127156_c0_g1_i1                                                                                                                                                                                                                                                                                                                                                                                             </td><td>GO:0006464;GO:0006508;GO:0008150;GO:0008152;GO:0009987;GO:0016567;GO:0019538;GO:0032446;GO:0036211;GO:0043170;GO:0043412;GO:0044237;GO:0044238;GO:0044260;GO:0044267;GO:0070647;GO:0071704;GO:0003674;GO:0003824;GO:0004842;GO:0016874;GO:0016879;GO:0016881;GO:0019787                                                                                                                                               </td></tr>\n",
       "\t<tr><td>TRINITY_DN127180_c0_g1_i1                                                                                                                                                                                                                                                                                                                                                                                             </td><td>GO:0007275;GO:0007399;GO:0008150;GO:0008152;GO:0009987;GO:0022008;GO:0030154;GO:0032501;GO:0032502;GO:0044699;GO:0044707;GO:0044763;GO:0048731;GO:0048856;GO:0048869;GO:0005575;GO:0003674;GO:0003824;GO:0016853                                                                                                                                                                                                      </td></tr>\n",
       "\t<tr><td>TRINITY_DN127142_c1_g1_i1                                                                                                                                                                                                                                                                                                                                                                                             </td><td>GO:0007154;GO:0007165;GO:0007166;GO:0007186;GO:0007218;GO:0008150;GO:0008152;GO:0009987;GO:0023052;GO:0044699;GO:0044700;GO:0044710;GO:0044763;GO:0050789;GO:0050794;GO:0050896;GO:0051716;GO:0055114;GO:0065007;GO:0005575;GO:0005623;GO:0005886;GO:0016020;GO:0016021;GO:0031224;GO:0044425;GO:0044464;GO:0071944;GO:0003674;GO:0003824;GO:0004871;GO:0004872;GO:0004888;GO:0004930;GO:0016491;GO:0038023;GO:0060089</td></tr>\n",
       "\t<tr><td>TRINITY_DN127173_c0_g1_i1                                                                                                                                                                                                                                                                                                                                                                                             </td><td>GO:0006508;GO:0007154;GO:0007165;GO:0008150;GO:0008152;GO:0009987;GO:0019538;GO:0023052;GO:0035556;GO:0043170;GO:0044238;GO:0044699;GO:0044700;GO:0044763;GO:0050789;GO:0050794;GO:0050896;GO:0051716;GO:0065007;GO:0071704;GO:0003674;GO:0003824;GO:0008233;GO:0008237;GO:0016787;GO:0070011                                                                                                                         </td></tr>\n",
       "\t<tr><td>TRINITY_DN127117_c0_g1_i1                                                                                                                                                                                                                                                                                                                                                                                             </td><td>GO:0007155;GO:0008150;GO:0009987;GO:0022610;GO:0044699;GO:0044763;GO:0005575;GO:0005576;GO:0005578;GO:0005604;GO:0031012;GO:0044420;GO:0044421                                                                                                                                                                                                                                                                        </td></tr>\n",
       "\t<tr><td>TRINITY_DN147313_c0_g1_i1                                                                                                                                                                                                                                                                                                                                                                                             </td><td>GO:0002165;GO:0007275;GO:0007444;GO:0007472;GO:0007476;GO:0007552;GO:0007560;GO:0008150;GO:0009653;GO:0009791;GO:0009886;GO:0009887;GO:0032501;GO:0032502;GO:0035107;GO:0035114;GO:0035120;GO:0035220;GO:0044699;GO:0044707;GO:0044767;GO:0048513;GO:0048563;GO:0048569;GO:0048707;GO:0048731;GO:0048736;GO:0048737;GO:0048856                                                                                        </td></tr>\n",
       "</tbody>\n",
       "</table>\n"
      ],
      "text/latex": [
       "\\begin{tabular}{r|ll}\n",
       " V1 & V2\\\\\n",
       "\\hline\n",
       "\t TRINITY\\_DN127156\\_c0\\_g1\\_i1                                                                                                                                                                                                                                                                                                                                                                                      & GO:0006464;GO:0006508;GO:0008150;GO:0008152;GO:0009987;GO:0016567;GO:0019538;GO:0032446;GO:0036211;GO:0043170;GO:0043412;GO:0044237;GO:0044238;GO:0044260;GO:0044267;GO:0070647;GO:0071704;GO:0003674;GO:0003824;GO:0004842;GO:0016874;GO:0016879;GO:0016881;GO:0019787                                                                                                                                               \\\\\n",
       "\t TRINITY\\_DN127180\\_c0\\_g1\\_i1                                                                                                                                                                                                                                                                                                                                                                                      & GO:0007275;GO:0007399;GO:0008150;GO:0008152;GO:0009987;GO:0022008;GO:0030154;GO:0032501;GO:0032502;GO:0044699;GO:0044707;GO:0044763;GO:0048731;GO:0048856;GO:0048869;GO:0005575;GO:0003674;GO:0003824;GO:0016853                                                                                                                                                                                                      \\\\\n",
       "\t TRINITY\\_DN127142\\_c1\\_g1\\_i1                                                                                                                                                                                                                                                                                                                                                                                      & GO:0007154;GO:0007165;GO:0007166;GO:0007186;GO:0007218;GO:0008150;GO:0008152;GO:0009987;GO:0023052;GO:0044699;GO:0044700;GO:0044710;GO:0044763;GO:0050789;GO:0050794;GO:0050896;GO:0051716;GO:0055114;GO:0065007;GO:0005575;GO:0005623;GO:0005886;GO:0016020;GO:0016021;GO:0031224;GO:0044425;GO:0044464;GO:0071944;GO:0003674;GO:0003824;GO:0004871;GO:0004872;GO:0004888;GO:0004930;GO:0016491;GO:0038023;GO:0060089\\\\\n",
       "\t TRINITY\\_DN127173\\_c0\\_g1\\_i1                                                                                                                                                                                                                                                                                                                                                                                      & GO:0006508;GO:0007154;GO:0007165;GO:0008150;GO:0008152;GO:0009987;GO:0019538;GO:0023052;GO:0035556;GO:0043170;GO:0044238;GO:0044699;GO:0044700;GO:0044763;GO:0050789;GO:0050794;GO:0050896;GO:0051716;GO:0065007;GO:0071704;GO:0003674;GO:0003824;GO:0008233;GO:0008237;GO:0016787;GO:0070011                                                                                                                         \\\\\n",
       "\t TRINITY\\_DN127117\\_c0\\_g1\\_i1                                                                                                                                                                                                                                                                                                                                                                                      & GO:0007155;GO:0008150;GO:0009987;GO:0022610;GO:0044699;GO:0044763;GO:0005575;GO:0005576;GO:0005578;GO:0005604;GO:0031012;GO:0044420;GO:0044421                                                                                                                                                                                                                                                                        \\\\\n",
       "\t TRINITY\\_DN147313\\_c0\\_g1\\_i1                                                                                                                                                                                                                                                                                                                                                                                      & GO:0002165;GO:0007275;GO:0007444;GO:0007472;GO:0007476;GO:0007552;GO:0007560;GO:0008150;GO:0009653;GO:0009791;GO:0009886;GO:0009887;GO:0032501;GO:0032502;GO:0035107;GO:0035114;GO:0035120;GO:0035220;GO:0044699;GO:0044707;GO:0044767;GO:0048513;GO:0048563;GO:0048569;GO:0048707;GO:0048731;GO:0048736;GO:0048737;GO:0048856                                                                                        \\\\\n",
       "\\end{tabular}\n"
      ],
      "text/markdown": [
       "\n",
       "| V1 | V2 |\n",
       "|---|---|\n",
       "| TRINITY_DN127156_c0_g1_i1                                                                                                                                                                                                                                                                                                                                                                                              | GO:0006464;GO:0006508;GO:0008150;GO:0008152;GO:0009987;GO:0016567;GO:0019538;GO:0032446;GO:0036211;GO:0043170;GO:0043412;GO:0044237;GO:0044238;GO:0044260;GO:0044267;GO:0070647;GO:0071704;GO:0003674;GO:0003824;GO:0004842;GO:0016874;GO:0016879;GO:0016881;GO:0019787                                                                                                                                                |\n",
       "| TRINITY_DN127180_c0_g1_i1                                                                                                                                                                                                                                                                                                                                                                                              | GO:0007275;GO:0007399;GO:0008150;GO:0008152;GO:0009987;GO:0022008;GO:0030154;GO:0032501;GO:0032502;GO:0044699;GO:0044707;GO:0044763;GO:0048731;GO:0048856;GO:0048869;GO:0005575;GO:0003674;GO:0003824;GO:0016853                                                                                                                                                                                                       |\n",
       "| TRINITY_DN127142_c1_g1_i1                                                                                                                                                                                                                                                                                                                                                                                              | GO:0007154;GO:0007165;GO:0007166;GO:0007186;GO:0007218;GO:0008150;GO:0008152;GO:0009987;GO:0023052;GO:0044699;GO:0044700;GO:0044710;GO:0044763;GO:0050789;GO:0050794;GO:0050896;GO:0051716;GO:0055114;GO:0065007;GO:0005575;GO:0005623;GO:0005886;GO:0016020;GO:0016021;GO:0031224;GO:0044425;GO:0044464;GO:0071944;GO:0003674;GO:0003824;GO:0004871;GO:0004872;GO:0004888;GO:0004930;GO:0016491;GO:0038023;GO:0060089 |\n",
       "| TRINITY_DN127173_c0_g1_i1                                                                                                                                                                                                                                                                                                                                                                                              | GO:0006508;GO:0007154;GO:0007165;GO:0008150;GO:0008152;GO:0009987;GO:0019538;GO:0023052;GO:0035556;GO:0043170;GO:0044238;GO:0044699;GO:0044700;GO:0044763;GO:0050789;GO:0050794;GO:0050896;GO:0051716;GO:0065007;GO:0071704;GO:0003674;GO:0003824;GO:0008233;GO:0008237;GO:0016787;GO:0070011                                                                                                                          |\n",
       "| TRINITY_DN127117_c0_g1_i1                                                                                                                                                                                                                                                                                                                                                                                              | GO:0007155;GO:0008150;GO:0009987;GO:0022610;GO:0044699;GO:0044763;GO:0005575;GO:0005576;GO:0005578;GO:0005604;GO:0031012;GO:0044420;GO:0044421                                                                                                                                                                                                                                                                         |\n",
       "| TRINITY_DN147313_c0_g1_i1                                                                                                                                                                                                                                                                                                                                                                                              | GO:0002165;GO:0007275;GO:0007444;GO:0007472;GO:0007476;GO:0007552;GO:0007560;GO:0008150;GO:0009653;GO:0009791;GO:0009886;GO:0009887;GO:0032501;GO:0032502;GO:0035107;GO:0035114;GO:0035120;GO:0035220;GO:0044699;GO:0044707;GO:0044767;GO:0048513;GO:0048563;GO:0048569;GO:0048707;GO:0048731;GO:0048736;GO:0048737;GO:0048856                                                                                         |\n",
       "\n"
      ],
      "text/plain": [
       "  V1                       \n",
       "1 TRINITY_DN127156_c0_g1_i1\n",
       "2 TRINITY_DN127180_c0_g1_i1\n",
       "3 TRINITY_DN127142_c1_g1_i1\n",
       "4 TRINITY_DN127173_c0_g1_i1\n",
       "5 TRINITY_DN127117_c0_g1_i1\n",
       "6 TRINITY_DN147313_c0_g1_i1\n",
       "  V2                                                                                                                                                                                                                                                                                                                                                                                                                    \n",
       "1 GO:0006464;GO:0006508;GO:0008150;GO:0008152;GO:0009987;GO:0016567;GO:0019538;GO:0032446;GO:0036211;GO:0043170;GO:0043412;GO:0044237;GO:0044238;GO:0044260;GO:0044267;GO:0070647;GO:0071704;GO:0003674;GO:0003824;GO:0004842;GO:0016874;GO:0016879;GO:0016881;GO:0019787                                                                                                                                               \n",
       "2 GO:0007275;GO:0007399;GO:0008150;GO:0008152;GO:0009987;GO:0022008;GO:0030154;GO:0032501;GO:0032502;GO:0044699;GO:0044707;GO:0044763;GO:0048731;GO:0048856;GO:0048869;GO:0005575;GO:0003674;GO:0003824;GO:0016853                                                                                                                                                                                                      \n",
       "3 GO:0007154;GO:0007165;GO:0007166;GO:0007186;GO:0007218;GO:0008150;GO:0008152;GO:0009987;GO:0023052;GO:0044699;GO:0044700;GO:0044710;GO:0044763;GO:0050789;GO:0050794;GO:0050896;GO:0051716;GO:0055114;GO:0065007;GO:0005575;GO:0005623;GO:0005886;GO:0016020;GO:0016021;GO:0031224;GO:0044425;GO:0044464;GO:0071944;GO:0003674;GO:0003824;GO:0004871;GO:0004872;GO:0004888;GO:0004930;GO:0016491;GO:0038023;GO:0060089\n",
       "4 GO:0006508;GO:0007154;GO:0007165;GO:0008150;GO:0008152;GO:0009987;GO:0019538;GO:0023052;GO:0035556;GO:0043170;GO:0044238;GO:0044699;GO:0044700;GO:0044763;GO:0050789;GO:0050794;GO:0050896;GO:0051716;GO:0065007;GO:0071704;GO:0003674;GO:0003824;GO:0008233;GO:0008237;GO:0016787;GO:0070011                                                                                                                         \n",
       "5 GO:0007155;GO:0008150;GO:0009987;GO:0022610;GO:0044699;GO:0044763;GO:0005575;GO:0005576;GO:0005578;GO:0005604;GO:0031012;GO:0044420;GO:0044421                                                                                                                                                                                                                                                                        \n",
       "6 GO:0002165;GO:0007275;GO:0007444;GO:0007472;GO:0007476;GO:0007552;GO:0007560;GO:0008150;GO:0009653;GO:0009791;GO:0009886;GO:0009887;GO:0032501;GO:0032502;GO:0035107;GO:0035114;GO:0035120;GO:0035220;GO:0044699;GO:0044707;GO:0044767;GO:0048513;GO:0048563;GO:0048569;GO:0048707;GO:0048731;GO:0048736;GO:0048737;GO:0048856                                                                                        "
      ]
     },
     "metadata": {},
     "output_type": "display_data"
    },
    {
     "data": {
      "text/html": [
       "<table>\n",
       "<thead><tr><th scope=col>name</th><th scope=col>pval</th></tr></thead>\n",
       "<tbody>\n",
       "\t<tr><td>TRINITY_DN34991_c0_g1_i1</td><td>0.1191520               </td></tr>\n",
       "\t<tr><td>TRINITY_DN22619_c0_g1_i1</td><td>1.3186141               </td></tr>\n",
       "\t<tr><td>TRINITY_DN44279_c0_g1_i1</td><td>0.1388834               </td></tr>\n",
       "\t<tr><td>TRINITY_DN40042_c0_g1_i1</td><td>0.2827179               </td></tr>\n",
       "\t<tr><td>TRINITY_DN3373_c0_g1_i1 </td><td>2.7114068               </td></tr>\n",
       "\t<tr><td>TRINITY_DN76095_c0_g1_i1</td><td>1.0108377               </td></tr>\n",
       "</tbody>\n",
       "</table>\n"
      ],
      "text/latex": [
       "\\begin{tabular}{r|ll}\n",
       " name & pval\\\\\n",
       "\\hline\n",
       "\t TRINITY\\_DN34991\\_c0\\_g1\\_i1 & 0.1191520                       \\\\\n",
       "\t TRINITY\\_DN22619\\_c0\\_g1\\_i1 & 1.3186141                       \\\\\n",
       "\t TRINITY\\_DN44279\\_c0\\_g1\\_i1 & 0.1388834                       \\\\\n",
       "\t TRINITY\\_DN40042\\_c0\\_g1\\_i1 & 0.2827179                       \\\\\n",
       "\t TRINITY\\_DN3373\\_c0\\_g1\\_i1  & 2.7114068                       \\\\\n",
       "\t TRINITY\\_DN76095\\_c0\\_g1\\_i1 & 1.0108377                       \\\\\n",
       "\\end{tabular}\n"
      ],
      "text/markdown": [
       "\n",
       "| name | pval |\n",
       "|---|---|\n",
       "| TRINITY_DN34991_c0_g1_i1 | 0.1191520                |\n",
       "| TRINITY_DN22619_c0_g1_i1 | 1.3186141                |\n",
       "| TRINITY_DN44279_c0_g1_i1 | 0.1388834                |\n",
       "| TRINITY_DN40042_c0_g1_i1 | 0.2827179                |\n",
       "| TRINITY_DN3373_c0_g1_i1  | 2.7114068                |\n",
       "| TRINITY_DN76095_c0_g1_i1 | 1.0108377                |\n",
       "\n"
      ],
      "text/plain": [
       "  name                     pval     \n",
       "1 TRINITY_DN34991_c0_g1_i1 0.1191520\n",
       "2 TRINITY_DN22619_c0_g1_i1 1.3186141\n",
       "3 TRINITY_DN44279_c0_g1_i1 0.1388834\n",
       "4 TRINITY_DN40042_c0_g1_i1 0.2827179\n",
       "5 TRINITY_DN3373_c0_g1_i1  2.7114068\n",
       "6 TRINITY_DN76095_c0_g1_i1 1.0108377"
      ]
     },
     "metadata": {},
     "output_type": "display_data"
    },
    {
     "data": {
      "text/html": [
       "<table>\n",
       "<thead><tr><th scope=col>name</th><th scope=col>pval</th></tr></thead>\n",
       "<tbody>\n",
       "\t<tr><td>TRINITY_DN34991_c0_g1_i1</td><td>-0.2144906              </td></tr>\n",
       "\t<tr><td>TRINITY_DN22619_c0_g1_i1</td><td> 0.2249192              </td></tr>\n",
       "\t<tr><td>TRINITY_DN44279_c0_g1_i1</td><td>-1.8070926              </td></tr>\n",
       "\t<tr><td>TRINITY_DN40042_c0_g1_i1</td><td> 1.1796284              </td></tr>\n",
       "\t<tr><td>TRINITY_DN3373_c0_g1_i1 </td><td>-0.2101009              </td></tr>\n",
       "\t<tr><td>TRINITY_DN76095_c0_g1_i1</td><td>-0.6990298              </td></tr>\n",
       "</tbody>\n",
       "</table>\n"
      ],
      "text/latex": [
       "\\begin{tabular}{r|ll}\n",
       " name & pval\\\\\n",
       "\\hline\n",
       "\t TRINITY\\_DN34991\\_c0\\_g1\\_i1 & -0.2144906                      \\\\\n",
       "\t TRINITY\\_DN22619\\_c0\\_g1\\_i1 &  0.2249192                      \\\\\n",
       "\t TRINITY\\_DN44279\\_c0\\_g1\\_i1 & -1.8070926                      \\\\\n",
       "\t TRINITY\\_DN40042\\_c0\\_g1\\_i1 &  1.1796284                      \\\\\n",
       "\t TRINITY\\_DN3373\\_c0\\_g1\\_i1  & -0.2101009                      \\\\\n",
       "\t TRINITY\\_DN76095\\_c0\\_g1\\_i1 & -0.6990298                      \\\\\n",
       "\\end{tabular}\n"
      ],
      "text/markdown": [
       "\n",
       "| name | pval |\n",
       "|---|---|\n",
       "| TRINITY_DN34991_c0_g1_i1 | -0.2144906               |\n",
       "| TRINITY_DN22619_c0_g1_i1 |  0.2249192               |\n",
       "| TRINITY_DN44279_c0_g1_i1 | -1.8070926               |\n",
       "| TRINITY_DN40042_c0_g1_i1 |  1.1796284               |\n",
       "| TRINITY_DN3373_c0_g1_i1  | -0.2101009               |\n",
       "| TRINITY_DN76095_c0_g1_i1 | -0.6990298               |\n",
       "\n"
      ],
      "text/plain": [
       "  name                     pval      \n",
       "1 TRINITY_DN34991_c0_g1_i1 -0.2144906\n",
       "2 TRINITY_DN22619_c0_g1_i1  0.2249192\n",
       "3 TRINITY_DN44279_c0_g1_i1 -1.8070926\n",
       "4 TRINITY_DN40042_c0_g1_i1  1.1796284\n",
       "5 TRINITY_DN3373_c0_g1_i1  -0.2101009\n",
       "6 TRINITY_DN76095_c0_g1_i1 -0.6990298"
      ]
     },
     "metadata": {},
     "output_type": "display_data"
    },
    {
     "data": {
      "text/html": [
       "<table>\n",
       "<thead><tr><th scope=col>transcript</th><th scope=col>kME</th></tr></thead>\n",
       "<tbody>\n",
       "\t<tr><td>TRINITY_DN34991_c0_g1_i1</td><td>0                       </td></tr>\n",
       "\t<tr><td>TRINITY_DN22619_c0_g1_i1</td><td>0                       </td></tr>\n",
       "\t<tr><td>TRINITY_DN44279_c0_g1_i1</td><td>0                       </td></tr>\n",
       "\t<tr><td>TRINITY_DN40042_c0_g1_i1</td><td>0                       </td></tr>\n",
       "\t<tr><td>TRINITY_DN3373_c0_g1_i1 </td><td>0                       </td></tr>\n",
       "\t<tr><td>TRINITY_DN76095_c0_g1_i1</td><td>0                       </td></tr>\n",
       "</tbody>\n",
       "</table>\n"
      ],
      "text/latex": [
       "\\begin{tabular}{r|ll}\n",
       " transcript & kME\\\\\n",
       "\\hline\n",
       "\t TRINITY\\_DN34991\\_c0\\_g1\\_i1 & 0                               \\\\\n",
       "\t TRINITY\\_DN22619\\_c0\\_g1\\_i1 & 0                               \\\\\n",
       "\t TRINITY\\_DN44279\\_c0\\_g1\\_i1 & 0                               \\\\\n",
       "\t TRINITY\\_DN40042\\_c0\\_g1\\_i1 & 0                               \\\\\n",
       "\t TRINITY\\_DN3373\\_c0\\_g1\\_i1  & 0                               \\\\\n",
       "\t TRINITY\\_DN76095\\_c0\\_g1\\_i1 & 0                               \\\\\n",
       "\\end{tabular}\n"
      ],
      "text/markdown": [
       "\n",
       "| transcript | kME |\n",
       "|---|---|\n",
       "| TRINITY_DN34991_c0_g1_i1 | 0                        |\n",
       "| TRINITY_DN22619_c0_g1_i1 | 0                        |\n",
       "| TRINITY_DN44279_c0_g1_i1 | 0                        |\n",
       "| TRINITY_DN40042_c0_g1_i1 | 0                        |\n",
       "| TRINITY_DN3373_c0_g1_i1  | 0                        |\n",
       "| TRINITY_DN76095_c0_g1_i1 | 0                        |\n",
       "\n"
      ],
      "text/plain": [
       "  transcript               kME\n",
       "1 TRINITY_DN34991_c0_g1_i1 0  \n",
       "2 TRINITY_DN22619_c0_g1_i1 0  \n",
       "3 TRINITY_DN44279_c0_g1_i1 0  \n",
       "4 TRINITY_DN40042_c0_g1_i1 0  \n",
       "5 TRINITY_DN3373_c0_g1_i1  0  \n",
       "6 TRINITY_DN76095_c0_g1_i1 0  "
      ]
     },
     "metadata": {},
     "output_type": "display_data"
    },
    {
     "data": {
      "text/html": [
       "<ol class=list-inline>\n",
       "\t<li>4948</li>\n",
       "\t<li>2</li>\n",
       "</ol>\n"
      ],
      "text/latex": [
       "\\begin{enumerate*}\n",
       "\\item 4948\n",
       "\\item 2\n",
       "\\end{enumerate*}\n"
      ],
      "text/markdown": [
       "1. 4948\n",
       "2. 2\n",
       "\n",
       "\n"
      ],
      "text/plain": [
       "[1] 4948    2"
      ]
     },
     "metadata": {},
     "output_type": "display_data"
    },
    {
     "data": {
      "text/html": [
       "<ol class=list-inline>\n",
       "\t<li>60264</li>\n",
       "\t<li>2</li>\n",
       "</ol>\n"
      ],
      "text/latex": [
       "\\begin{enumerate*}\n",
       "\\item 60264\n",
       "\\item 2\n",
       "\\end{enumerate*}\n"
      ],
      "text/markdown": [
       "1. 60264\n",
       "2. 2\n",
       "\n",
       "\n"
      ],
      "text/plain": [
       "[1] 60264     2"
      ]
     },
     "metadata": {},
     "output_type": "display_data"
    },
    {
     "data": {
      "text/html": [
       "<ol class=list-inline>\n",
       "\t<li>59485</li>\n",
       "\t<li>2</li>\n",
       "</ol>\n"
      ],
      "text/latex": [
       "\\begin{enumerate*}\n",
       "\\item 59485\n",
       "\\item 2\n",
       "\\end{enumerate*}\n"
      ],
      "text/markdown": [
       "1. 59485\n",
       "2. 2\n",
       "\n",
       "\n"
      ],
      "text/plain": [
       "[1] 59485     2"
      ]
     },
     "metadata": {},
     "output_type": "display_data"
    },
    {
     "data": {
      "text/html": [
       "<ol class=list-inline>\n",
       "\t<li>60488</li>\n",
       "\t<li>2</li>\n",
       "</ol>\n"
      ],
      "text/latex": [
       "\\begin{enumerate*}\n",
       "\\item 60488\n",
       "\\item 2\n",
       "\\end{enumerate*}\n"
      ],
      "text/markdown": [
       "1. 60488\n",
       "2. 2\n",
       "\n",
       "\n"
      ],
      "text/plain": [
       "[1] 60488     2"
      ]
     },
     "metadata": {},
     "output_type": "display_data"
    }
   ],
   "source": [
    "head(annot)\n",
    "head(deseqIDs_PvC)\n",
    "head(deseqIDs_range)\n",
    "head(WGCNA_IDs)\n",
    "\n",
    "dim(annot)\n",
    "dim(deseqIDs_PvC)\n",
    "dim(deseqIDs_range)\n",
    "dim(WGCNA_IDs)"
   ]
  },
  {
   "cell_type": "markdown",
   "metadata": {},
   "source": [
    "Looks good. The dimensions of the pvalue tables are slightly smaller than the expression matrices that went into DESeq2. That's because some of the transcripts were considered outliers and given p-values of NA, which were removed before exporting the results. The WGCNA modules will have more transcript IDs because it used the full expression matrix from the PvC DESeq2 analysis, without outliers removed.\n",
    "\n",
    "Now I am going to identify the transcripts in the annotations table that do not appear in the pvalue tables, separately for the PvC comparison and the range comparison, as the expression matrices differed in transcript number after filtering (see `DESeq2_RhithroLoxo.ipynb`)."
   ]
  },
  {
   "cell_type": "code",
   "execution_count": 42,
   "metadata": {},
   "outputs": [
    {
     "data": {
      "text/html": [
       "<table>\n",
       "<thead><tr><th scope=col>V1</th><th scope=col>V2</th></tr></thead>\n",
       "<tbody>\n",
       "\t<tr><td>TRINITY_DN127156_c0_g1_i1                                                                                                                                                                                                                                                                                                                                                                                             </td><td>GO:0006464;GO:0006508;GO:0008150;GO:0008152;GO:0009987;GO:0016567;GO:0019538;GO:0032446;GO:0036211;GO:0043170;GO:0043412;GO:0044237;GO:0044238;GO:0044260;GO:0044267;GO:0070647;GO:0071704;GO:0003674;GO:0003824;GO:0004842;GO:0016874;GO:0016879;GO:0016881;GO:0019787                                                                                                                                               </td></tr>\n",
       "\t<tr><td>TRINITY_DN127180_c0_g1_i1                                                                                                                                                                                                                                                                                                                                                                                             </td><td>GO:0007275;GO:0007399;GO:0008150;GO:0008152;GO:0009987;GO:0022008;GO:0030154;GO:0032501;GO:0032502;GO:0044699;GO:0044707;GO:0044763;GO:0048731;GO:0048856;GO:0048869;GO:0005575;GO:0003674;GO:0003824;GO:0016853                                                                                                                                                                                                      </td></tr>\n",
       "\t<tr><td>TRINITY_DN127142_c1_g1_i1                                                                                                                                                                                                                                                                                                                                                                                             </td><td>GO:0007154;GO:0007165;GO:0007166;GO:0007186;GO:0007218;GO:0008150;GO:0008152;GO:0009987;GO:0023052;GO:0044699;GO:0044700;GO:0044710;GO:0044763;GO:0050789;GO:0050794;GO:0050896;GO:0051716;GO:0055114;GO:0065007;GO:0005575;GO:0005623;GO:0005886;GO:0016020;GO:0016021;GO:0031224;GO:0044425;GO:0044464;GO:0071944;GO:0003674;GO:0003824;GO:0004871;GO:0004872;GO:0004888;GO:0004930;GO:0016491;GO:0038023;GO:0060089</td></tr>\n",
       "\t<tr><td>TRINITY_DN127173_c0_g1_i1                                                                                                                                                                                                                                                                                                                                                                                             </td><td>GO:0006508;GO:0007154;GO:0007165;GO:0008150;GO:0008152;GO:0009987;GO:0019538;GO:0023052;GO:0035556;GO:0043170;GO:0044238;GO:0044699;GO:0044700;GO:0044763;GO:0050789;GO:0050794;GO:0050896;GO:0051716;GO:0065007;GO:0071704;GO:0003674;GO:0003824;GO:0008233;GO:0008237;GO:0016787;GO:0070011                                                                                                                         </td></tr>\n",
       "\t<tr><td>TRINITY_DN127117_c0_g1_i1                                                                                                                                                                                                                                                                                                                                                                                             </td><td>GO:0007155;GO:0008150;GO:0009987;GO:0022610;GO:0044699;GO:0044763;GO:0005575;GO:0005576;GO:0005578;GO:0005604;GO:0031012;GO:0044420;GO:0044421                                                                                                                                                                                                                                                                        </td></tr>\n",
       "\t<tr><td>TRINITY_DN147313_c0_g1_i1                                                                                                                                                                                                                                                                                                                                                                                             </td><td>GO:0002165;GO:0007275;GO:0007444;GO:0007472;GO:0007476;GO:0007552;GO:0007560;GO:0008150;GO:0009653;GO:0009791;GO:0009886;GO:0009887;GO:0032501;GO:0032502;GO:0035107;GO:0035114;GO:0035120;GO:0035220;GO:0044699;GO:0044707;GO:0044767;GO:0048513;GO:0048563;GO:0048569;GO:0048707;GO:0048731;GO:0048736;GO:0048737;GO:0048856                                                                                        </td></tr>\n",
       "</tbody>\n",
       "</table>\n"
      ],
      "text/latex": [
       "\\begin{tabular}{r|ll}\n",
       " V1 & V2\\\\\n",
       "\\hline\n",
       "\t TRINITY\\_DN127156\\_c0\\_g1\\_i1                                                                                                                                                                                                                                                                                                                                                                                      & GO:0006464;GO:0006508;GO:0008150;GO:0008152;GO:0009987;GO:0016567;GO:0019538;GO:0032446;GO:0036211;GO:0043170;GO:0043412;GO:0044237;GO:0044238;GO:0044260;GO:0044267;GO:0070647;GO:0071704;GO:0003674;GO:0003824;GO:0004842;GO:0016874;GO:0016879;GO:0016881;GO:0019787                                                                                                                                               \\\\\n",
       "\t TRINITY\\_DN127180\\_c0\\_g1\\_i1                                                                                                                                                                                                                                                                                                                                                                                      & GO:0007275;GO:0007399;GO:0008150;GO:0008152;GO:0009987;GO:0022008;GO:0030154;GO:0032501;GO:0032502;GO:0044699;GO:0044707;GO:0044763;GO:0048731;GO:0048856;GO:0048869;GO:0005575;GO:0003674;GO:0003824;GO:0016853                                                                                                                                                                                                      \\\\\n",
       "\t TRINITY\\_DN127142\\_c1\\_g1\\_i1                                                                                                                                                                                                                                                                                                                                                                                      & GO:0007154;GO:0007165;GO:0007166;GO:0007186;GO:0007218;GO:0008150;GO:0008152;GO:0009987;GO:0023052;GO:0044699;GO:0044700;GO:0044710;GO:0044763;GO:0050789;GO:0050794;GO:0050896;GO:0051716;GO:0055114;GO:0065007;GO:0005575;GO:0005623;GO:0005886;GO:0016020;GO:0016021;GO:0031224;GO:0044425;GO:0044464;GO:0071944;GO:0003674;GO:0003824;GO:0004871;GO:0004872;GO:0004888;GO:0004930;GO:0016491;GO:0038023;GO:0060089\\\\\n",
       "\t TRINITY\\_DN127173\\_c0\\_g1\\_i1                                                                                                                                                                                                                                                                                                                                                                                      & GO:0006508;GO:0007154;GO:0007165;GO:0008150;GO:0008152;GO:0009987;GO:0019538;GO:0023052;GO:0035556;GO:0043170;GO:0044238;GO:0044699;GO:0044700;GO:0044763;GO:0050789;GO:0050794;GO:0050896;GO:0051716;GO:0065007;GO:0071704;GO:0003674;GO:0003824;GO:0008233;GO:0008237;GO:0016787;GO:0070011                                                                                                                         \\\\\n",
       "\t TRINITY\\_DN127117\\_c0\\_g1\\_i1                                                                                                                                                                                                                                                                                                                                                                                      & GO:0007155;GO:0008150;GO:0009987;GO:0022610;GO:0044699;GO:0044763;GO:0005575;GO:0005576;GO:0005578;GO:0005604;GO:0031012;GO:0044420;GO:0044421                                                                                                                                                                                                                                                                        \\\\\n",
       "\t TRINITY\\_DN147313\\_c0\\_g1\\_i1                                                                                                                                                                                                                                                                                                                                                                                      & GO:0002165;GO:0007275;GO:0007444;GO:0007472;GO:0007476;GO:0007552;GO:0007560;GO:0008150;GO:0009653;GO:0009791;GO:0009886;GO:0009887;GO:0032501;GO:0032502;GO:0035107;GO:0035114;GO:0035120;GO:0035220;GO:0044699;GO:0044707;GO:0044767;GO:0048513;GO:0048563;GO:0048569;GO:0048707;GO:0048731;GO:0048736;GO:0048737;GO:0048856                                                                                        \\\\\n",
       "\\end{tabular}\n"
      ],
      "text/markdown": [
       "\n",
       "| V1 | V2 |\n",
       "|---|---|\n",
       "| TRINITY_DN127156_c0_g1_i1                                                                                                                                                                                                                                                                                                                                                                                              | GO:0006464;GO:0006508;GO:0008150;GO:0008152;GO:0009987;GO:0016567;GO:0019538;GO:0032446;GO:0036211;GO:0043170;GO:0043412;GO:0044237;GO:0044238;GO:0044260;GO:0044267;GO:0070647;GO:0071704;GO:0003674;GO:0003824;GO:0004842;GO:0016874;GO:0016879;GO:0016881;GO:0019787                                                                                                                                                |\n",
       "| TRINITY_DN127180_c0_g1_i1                                                                                                                                                                                                                                                                                                                                                                                              | GO:0007275;GO:0007399;GO:0008150;GO:0008152;GO:0009987;GO:0022008;GO:0030154;GO:0032501;GO:0032502;GO:0044699;GO:0044707;GO:0044763;GO:0048731;GO:0048856;GO:0048869;GO:0005575;GO:0003674;GO:0003824;GO:0016853                                                                                                                                                                                                       |\n",
       "| TRINITY_DN127142_c1_g1_i1                                                                                                                                                                                                                                                                                                                                                                                              | GO:0007154;GO:0007165;GO:0007166;GO:0007186;GO:0007218;GO:0008150;GO:0008152;GO:0009987;GO:0023052;GO:0044699;GO:0044700;GO:0044710;GO:0044763;GO:0050789;GO:0050794;GO:0050896;GO:0051716;GO:0055114;GO:0065007;GO:0005575;GO:0005623;GO:0005886;GO:0016020;GO:0016021;GO:0031224;GO:0044425;GO:0044464;GO:0071944;GO:0003674;GO:0003824;GO:0004871;GO:0004872;GO:0004888;GO:0004930;GO:0016491;GO:0038023;GO:0060089 |\n",
       "| TRINITY_DN127173_c0_g1_i1                                                                                                                                                                                                                                                                                                                                                                                              | GO:0006508;GO:0007154;GO:0007165;GO:0008150;GO:0008152;GO:0009987;GO:0019538;GO:0023052;GO:0035556;GO:0043170;GO:0044238;GO:0044699;GO:0044700;GO:0044763;GO:0050789;GO:0050794;GO:0050896;GO:0051716;GO:0065007;GO:0071704;GO:0003674;GO:0003824;GO:0008233;GO:0008237;GO:0016787;GO:0070011                                                                                                                          |\n",
       "| TRINITY_DN127117_c0_g1_i1                                                                                                                                                                                                                                                                                                                                                                                              | GO:0007155;GO:0008150;GO:0009987;GO:0022610;GO:0044699;GO:0044763;GO:0005575;GO:0005576;GO:0005578;GO:0005604;GO:0031012;GO:0044420;GO:0044421                                                                                                                                                                                                                                                                         |\n",
       "| TRINITY_DN147313_c0_g1_i1                                                                                                                                                                                                                                                                                                                                                                                              | GO:0002165;GO:0007275;GO:0007444;GO:0007472;GO:0007476;GO:0007552;GO:0007560;GO:0008150;GO:0009653;GO:0009791;GO:0009886;GO:0009887;GO:0032501;GO:0032502;GO:0035107;GO:0035114;GO:0035120;GO:0035220;GO:0044699;GO:0044707;GO:0044767;GO:0048513;GO:0048563;GO:0048569;GO:0048707;GO:0048731;GO:0048736;GO:0048737;GO:0048856                                                                                         |\n",
       "\n"
      ],
      "text/plain": [
       "  V1                       \n",
       "1 TRINITY_DN127156_c0_g1_i1\n",
       "2 TRINITY_DN127180_c0_g1_i1\n",
       "3 TRINITY_DN127142_c1_g1_i1\n",
       "4 TRINITY_DN127173_c0_g1_i1\n",
       "5 TRINITY_DN127117_c0_g1_i1\n",
       "6 TRINITY_DN147313_c0_g1_i1\n",
       "  V2                                                                                                                                                                                                                                                                                                                                                                                                                    \n",
       "1 GO:0006464;GO:0006508;GO:0008150;GO:0008152;GO:0009987;GO:0016567;GO:0019538;GO:0032446;GO:0036211;GO:0043170;GO:0043412;GO:0044237;GO:0044238;GO:0044260;GO:0044267;GO:0070647;GO:0071704;GO:0003674;GO:0003824;GO:0004842;GO:0016874;GO:0016879;GO:0016881;GO:0019787                                                                                                                                               \n",
       "2 GO:0007275;GO:0007399;GO:0008150;GO:0008152;GO:0009987;GO:0022008;GO:0030154;GO:0032501;GO:0032502;GO:0044699;GO:0044707;GO:0044763;GO:0048731;GO:0048856;GO:0048869;GO:0005575;GO:0003674;GO:0003824;GO:0016853                                                                                                                                                                                                      \n",
       "3 GO:0007154;GO:0007165;GO:0007166;GO:0007186;GO:0007218;GO:0008150;GO:0008152;GO:0009987;GO:0023052;GO:0044699;GO:0044700;GO:0044710;GO:0044763;GO:0050789;GO:0050794;GO:0050896;GO:0051716;GO:0055114;GO:0065007;GO:0005575;GO:0005623;GO:0005886;GO:0016020;GO:0016021;GO:0031224;GO:0044425;GO:0044464;GO:0071944;GO:0003674;GO:0003824;GO:0004871;GO:0004872;GO:0004888;GO:0004930;GO:0016491;GO:0038023;GO:0060089\n",
       "4 GO:0006508;GO:0007154;GO:0007165;GO:0008150;GO:0008152;GO:0009987;GO:0019538;GO:0023052;GO:0035556;GO:0043170;GO:0044238;GO:0044699;GO:0044700;GO:0044763;GO:0050789;GO:0050794;GO:0050896;GO:0051716;GO:0065007;GO:0071704;GO:0003674;GO:0003824;GO:0008233;GO:0008237;GO:0016787;GO:0070011                                                                                                                         \n",
       "5 GO:0007155;GO:0008150;GO:0009987;GO:0022610;GO:0044699;GO:0044763;GO:0005575;GO:0005576;GO:0005578;GO:0005604;GO:0031012;GO:0044420;GO:0044421                                                                                                                                                                                                                                                                        \n",
       "6 GO:0002165;GO:0007275;GO:0007444;GO:0007472;GO:0007476;GO:0007552;GO:0007560;GO:0008150;GO:0009653;GO:0009791;GO:0009886;GO:0009887;GO:0032501;GO:0032502;GO:0035107;GO:0035114;GO:0035120;GO:0035220;GO:0044699;GO:0044707;GO:0044767;GO:0048513;GO:0048563;GO:0048569;GO:0048707;GO:0048731;GO:0048736;GO:0048737;GO:0048856                                                                                        "
      ]
     },
     "metadata": {},
     "output_type": "display_data"
    },
    {
     "data": {
      "text/html": [
       "<ol class=list-inline>\n",
       "\t<li>4283</li>\n",
       "\t<li>2</li>\n",
       "</ol>\n"
      ],
      "text/latex": [
       "\\begin{enumerate*}\n",
       "\\item 4283\n",
       "\\item 2\n",
       "\\end{enumerate*}\n"
      ],
      "text/markdown": [
       "1. 4283\n",
       "2. 2\n",
       "\n",
       "\n"
      ],
      "text/plain": [
       "[1] 4283    2"
      ]
     },
     "metadata": {},
     "output_type": "display_data"
    },
    {
     "data": {
      "text/html": [
       "<table>\n",
       "<thead><tr><th scope=col>V1</th><th scope=col>V2</th></tr></thead>\n",
       "<tbody>\n",
       "\t<tr><td>TRINITY_DN127156_c0_g1_i1                                                                                                                                                                                                                                                                                                                                                                                             </td><td>GO:0006464;GO:0006508;GO:0008150;GO:0008152;GO:0009987;GO:0016567;GO:0019538;GO:0032446;GO:0036211;GO:0043170;GO:0043412;GO:0044237;GO:0044238;GO:0044260;GO:0044267;GO:0070647;GO:0071704;GO:0003674;GO:0003824;GO:0004842;GO:0016874;GO:0016879;GO:0016881;GO:0019787                                                                                                                                               </td></tr>\n",
       "\t<tr><td>TRINITY_DN127180_c0_g1_i1                                                                                                                                                                                                                                                                                                                                                                                             </td><td>GO:0007275;GO:0007399;GO:0008150;GO:0008152;GO:0009987;GO:0022008;GO:0030154;GO:0032501;GO:0032502;GO:0044699;GO:0044707;GO:0044763;GO:0048731;GO:0048856;GO:0048869;GO:0005575;GO:0003674;GO:0003824;GO:0016853                                                                                                                                                                                                      </td></tr>\n",
       "\t<tr><td>TRINITY_DN127142_c1_g1_i1                                                                                                                                                                                                                                                                                                                                                                                             </td><td>GO:0007154;GO:0007165;GO:0007166;GO:0007186;GO:0007218;GO:0008150;GO:0008152;GO:0009987;GO:0023052;GO:0044699;GO:0044700;GO:0044710;GO:0044763;GO:0050789;GO:0050794;GO:0050896;GO:0051716;GO:0055114;GO:0065007;GO:0005575;GO:0005623;GO:0005886;GO:0016020;GO:0016021;GO:0031224;GO:0044425;GO:0044464;GO:0071944;GO:0003674;GO:0003824;GO:0004871;GO:0004872;GO:0004888;GO:0004930;GO:0016491;GO:0038023;GO:0060089</td></tr>\n",
       "\t<tr><td>TRINITY_DN127173_c0_g1_i1                                                                                                                                                                                                                                                                                                                                                                                             </td><td>GO:0006508;GO:0007154;GO:0007165;GO:0008150;GO:0008152;GO:0009987;GO:0019538;GO:0023052;GO:0035556;GO:0043170;GO:0044238;GO:0044699;GO:0044700;GO:0044763;GO:0050789;GO:0050794;GO:0050896;GO:0051716;GO:0065007;GO:0071704;GO:0003674;GO:0003824;GO:0008233;GO:0008237;GO:0016787;GO:0070011                                                                                                                         </td></tr>\n",
       "\t<tr><td>TRINITY_DN127117_c0_g1_i1                                                                                                                                                                                                                                                                                                                                                                                             </td><td>GO:0007155;GO:0008150;GO:0009987;GO:0022610;GO:0044699;GO:0044763;GO:0005575;GO:0005576;GO:0005578;GO:0005604;GO:0031012;GO:0044420;GO:0044421                                                                                                                                                                                                                                                                        </td></tr>\n",
       "\t<tr><td>TRINITY_DN147313_c0_g1_i1                                                                                                                                                                                                                                                                                                                                                                                             </td><td>GO:0002165;GO:0007275;GO:0007444;GO:0007472;GO:0007476;GO:0007552;GO:0007560;GO:0008150;GO:0009653;GO:0009791;GO:0009886;GO:0009887;GO:0032501;GO:0032502;GO:0035107;GO:0035114;GO:0035120;GO:0035220;GO:0044699;GO:0044707;GO:0044767;GO:0048513;GO:0048563;GO:0048569;GO:0048707;GO:0048731;GO:0048736;GO:0048737;GO:0048856                                                                                        </td></tr>\n",
       "</tbody>\n",
       "</table>\n"
      ],
      "text/latex": [
       "\\begin{tabular}{r|ll}\n",
       " V1 & V2\\\\\n",
       "\\hline\n",
       "\t TRINITY\\_DN127156\\_c0\\_g1\\_i1                                                                                                                                                                                                                                                                                                                                                                                      & GO:0006464;GO:0006508;GO:0008150;GO:0008152;GO:0009987;GO:0016567;GO:0019538;GO:0032446;GO:0036211;GO:0043170;GO:0043412;GO:0044237;GO:0044238;GO:0044260;GO:0044267;GO:0070647;GO:0071704;GO:0003674;GO:0003824;GO:0004842;GO:0016874;GO:0016879;GO:0016881;GO:0019787                                                                                                                                               \\\\\n",
       "\t TRINITY\\_DN127180\\_c0\\_g1\\_i1                                                                                                                                                                                                                                                                                                                                                                                      & GO:0007275;GO:0007399;GO:0008150;GO:0008152;GO:0009987;GO:0022008;GO:0030154;GO:0032501;GO:0032502;GO:0044699;GO:0044707;GO:0044763;GO:0048731;GO:0048856;GO:0048869;GO:0005575;GO:0003674;GO:0003824;GO:0016853                                                                                                                                                                                                      \\\\\n",
       "\t TRINITY\\_DN127142\\_c1\\_g1\\_i1                                                                                                                                                                                                                                                                                                                                                                                      & GO:0007154;GO:0007165;GO:0007166;GO:0007186;GO:0007218;GO:0008150;GO:0008152;GO:0009987;GO:0023052;GO:0044699;GO:0044700;GO:0044710;GO:0044763;GO:0050789;GO:0050794;GO:0050896;GO:0051716;GO:0055114;GO:0065007;GO:0005575;GO:0005623;GO:0005886;GO:0016020;GO:0016021;GO:0031224;GO:0044425;GO:0044464;GO:0071944;GO:0003674;GO:0003824;GO:0004871;GO:0004872;GO:0004888;GO:0004930;GO:0016491;GO:0038023;GO:0060089\\\\\n",
       "\t TRINITY\\_DN127173\\_c0\\_g1\\_i1                                                                                                                                                                                                                                                                                                                                                                                      & GO:0006508;GO:0007154;GO:0007165;GO:0008150;GO:0008152;GO:0009987;GO:0019538;GO:0023052;GO:0035556;GO:0043170;GO:0044238;GO:0044699;GO:0044700;GO:0044763;GO:0050789;GO:0050794;GO:0050896;GO:0051716;GO:0065007;GO:0071704;GO:0003674;GO:0003824;GO:0008233;GO:0008237;GO:0016787;GO:0070011                                                                                                                         \\\\\n",
       "\t TRINITY\\_DN127117\\_c0\\_g1\\_i1                                                                                                                                                                                                                                                                                                                                                                                      & GO:0007155;GO:0008150;GO:0009987;GO:0022610;GO:0044699;GO:0044763;GO:0005575;GO:0005576;GO:0005578;GO:0005604;GO:0031012;GO:0044420;GO:0044421                                                                                                                                                                                                                                                                        \\\\\n",
       "\t TRINITY\\_DN147313\\_c0\\_g1\\_i1                                                                                                                                                                                                                                                                                                                                                                                      & GO:0002165;GO:0007275;GO:0007444;GO:0007472;GO:0007476;GO:0007552;GO:0007560;GO:0008150;GO:0009653;GO:0009791;GO:0009886;GO:0009887;GO:0032501;GO:0032502;GO:0035107;GO:0035114;GO:0035120;GO:0035220;GO:0044699;GO:0044707;GO:0044767;GO:0048513;GO:0048563;GO:0048569;GO:0048707;GO:0048731;GO:0048736;GO:0048737;GO:0048856                                                                                        \\\\\n",
       "\\end{tabular}\n"
      ],
      "text/markdown": [
       "\n",
       "| V1 | V2 |\n",
       "|---|---|\n",
       "| TRINITY_DN127156_c0_g1_i1                                                                                                                                                                                                                                                                                                                                                                                              | GO:0006464;GO:0006508;GO:0008150;GO:0008152;GO:0009987;GO:0016567;GO:0019538;GO:0032446;GO:0036211;GO:0043170;GO:0043412;GO:0044237;GO:0044238;GO:0044260;GO:0044267;GO:0070647;GO:0071704;GO:0003674;GO:0003824;GO:0004842;GO:0016874;GO:0016879;GO:0016881;GO:0019787                                                                                                                                                |\n",
       "| TRINITY_DN127180_c0_g1_i1                                                                                                                                                                                                                                                                                                                                                                                              | GO:0007275;GO:0007399;GO:0008150;GO:0008152;GO:0009987;GO:0022008;GO:0030154;GO:0032501;GO:0032502;GO:0044699;GO:0044707;GO:0044763;GO:0048731;GO:0048856;GO:0048869;GO:0005575;GO:0003674;GO:0003824;GO:0016853                                                                                                                                                                                                       |\n",
       "| TRINITY_DN127142_c1_g1_i1                                                                                                                                                                                                                                                                                                                                                                                              | GO:0007154;GO:0007165;GO:0007166;GO:0007186;GO:0007218;GO:0008150;GO:0008152;GO:0009987;GO:0023052;GO:0044699;GO:0044700;GO:0044710;GO:0044763;GO:0050789;GO:0050794;GO:0050896;GO:0051716;GO:0055114;GO:0065007;GO:0005575;GO:0005623;GO:0005886;GO:0016020;GO:0016021;GO:0031224;GO:0044425;GO:0044464;GO:0071944;GO:0003674;GO:0003824;GO:0004871;GO:0004872;GO:0004888;GO:0004930;GO:0016491;GO:0038023;GO:0060089 |\n",
       "| TRINITY_DN127173_c0_g1_i1                                                                                                                                                                                                                                                                                                                                                                                              | GO:0006508;GO:0007154;GO:0007165;GO:0008150;GO:0008152;GO:0009987;GO:0019538;GO:0023052;GO:0035556;GO:0043170;GO:0044238;GO:0044699;GO:0044700;GO:0044763;GO:0050789;GO:0050794;GO:0050896;GO:0051716;GO:0065007;GO:0071704;GO:0003674;GO:0003824;GO:0008233;GO:0008237;GO:0016787;GO:0070011                                                                                                                          |\n",
       "| TRINITY_DN127117_c0_g1_i1                                                                                                                                                                                                                                                                                                                                                                                              | GO:0007155;GO:0008150;GO:0009987;GO:0022610;GO:0044699;GO:0044763;GO:0005575;GO:0005576;GO:0005578;GO:0005604;GO:0031012;GO:0044420;GO:0044421                                                                                                                                                                                                                                                                         |\n",
       "| TRINITY_DN147313_c0_g1_i1                                                                                                                                                                                                                                                                                                                                                                                              | GO:0002165;GO:0007275;GO:0007444;GO:0007472;GO:0007476;GO:0007552;GO:0007560;GO:0008150;GO:0009653;GO:0009791;GO:0009886;GO:0009887;GO:0032501;GO:0032502;GO:0035107;GO:0035114;GO:0035120;GO:0035220;GO:0044699;GO:0044707;GO:0044767;GO:0048513;GO:0048563;GO:0048569;GO:0048707;GO:0048731;GO:0048736;GO:0048737;GO:0048856                                                                                         |\n",
       "\n"
      ],
      "text/plain": [
       "  V1                       \n",
       "1 TRINITY_DN127156_c0_g1_i1\n",
       "2 TRINITY_DN127180_c0_g1_i1\n",
       "3 TRINITY_DN127142_c1_g1_i1\n",
       "4 TRINITY_DN127173_c0_g1_i1\n",
       "5 TRINITY_DN127117_c0_g1_i1\n",
       "6 TRINITY_DN147313_c0_g1_i1\n",
       "  V2                                                                                                                                                                                                                                                                                                                                                                                                                    \n",
       "1 GO:0006464;GO:0006508;GO:0008150;GO:0008152;GO:0009987;GO:0016567;GO:0019538;GO:0032446;GO:0036211;GO:0043170;GO:0043412;GO:0044237;GO:0044238;GO:0044260;GO:0044267;GO:0070647;GO:0071704;GO:0003674;GO:0003824;GO:0004842;GO:0016874;GO:0016879;GO:0016881;GO:0019787                                                                                                                                               \n",
       "2 GO:0007275;GO:0007399;GO:0008150;GO:0008152;GO:0009987;GO:0022008;GO:0030154;GO:0032501;GO:0032502;GO:0044699;GO:0044707;GO:0044763;GO:0048731;GO:0048856;GO:0048869;GO:0005575;GO:0003674;GO:0003824;GO:0016853                                                                                                                                                                                                      \n",
       "3 GO:0007154;GO:0007165;GO:0007166;GO:0007186;GO:0007218;GO:0008150;GO:0008152;GO:0009987;GO:0023052;GO:0044699;GO:0044700;GO:0044710;GO:0044763;GO:0050789;GO:0050794;GO:0050896;GO:0051716;GO:0055114;GO:0065007;GO:0005575;GO:0005623;GO:0005886;GO:0016020;GO:0016021;GO:0031224;GO:0044425;GO:0044464;GO:0071944;GO:0003674;GO:0003824;GO:0004871;GO:0004872;GO:0004888;GO:0004930;GO:0016491;GO:0038023;GO:0060089\n",
       "4 GO:0006508;GO:0007154;GO:0007165;GO:0008150;GO:0008152;GO:0009987;GO:0019538;GO:0023052;GO:0035556;GO:0043170;GO:0044238;GO:0044699;GO:0044700;GO:0044763;GO:0050789;GO:0050794;GO:0050896;GO:0051716;GO:0065007;GO:0071704;GO:0003674;GO:0003824;GO:0008233;GO:0008237;GO:0016787;GO:0070011                                                                                                                         \n",
       "5 GO:0007155;GO:0008150;GO:0009987;GO:0022610;GO:0044699;GO:0044763;GO:0005575;GO:0005576;GO:0005578;GO:0005604;GO:0031012;GO:0044420;GO:0044421                                                                                                                                                                                                                                                                        \n",
       "6 GO:0002165;GO:0007275;GO:0007444;GO:0007472;GO:0007476;GO:0007552;GO:0007560;GO:0008150;GO:0009653;GO:0009791;GO:0009886;GO:0009887;GO:0032501;GO:0032502;GO:0035107;GO:0035114;GO:0035120;GO:0035220;GO:0044699;GO:0044707;GO:0044767;GO:0048513;GO:0048563;GO:0048569;GO:0048707;GO:0048731;GO:0048736;GO:0048737;GO:0048856                                                                                        "
      ]
     },
     "metadata": {},
     "output_type": "display_data"
    },
    {
     "data": {
      "text/html": [
       "<ol class=list-inline>\n",
       "\t<li>4278</li>\n",
       "\t<li>2</li>\n",
       "</ol>\n"
      ],
      "text/latex": [
       "\\begin{enumerate*}\n",
       "\\item 4278\n",
       "\\item 2\n",
       "\\end{enumerate*}\n"
      ],
      "text/markdown": [
       "1. 4278\n",
       "2. 2\n",
       "\n",
       "\n"
      ],
      "text/plain": [
       "[1] 4278    2"
      ]
     },
     "metadata": {},
     "output_type": "display_data"
    },
    {
     "data": {
      "text/html": [
       "<table>\n",
       "<thead><tr><th scope=col>V1</th><th scope=col>V2</th></tr></thead>\n",
       "<tbody>\n",
       "\t<tr><td>TRINITY_DN127156_c0_g1_i1                                                                                                                                                                                                                                                                                                                                                                                             </td><td>GO:0006464;GO:0006508;GO:0008150;GO:0008152;GO:0009987;GO:0016567;GO:0019538;GO:0032446;GO:0036211;GO:0043170;GO:0043412;GO:0044237;GO:0044238;GO:0044260;GO:0044267;GO:0070647;GO:0071704;GO:0003674;GO:0003824;GO:0004842;GO:0016874;GO:0016879;GO:0016881;GO:0019787                                                                                                                                               </td></tr>\n",
       "\t<tr><td>TRINITY_DN127180_c0_g1_i1                                                                                                                                                                                                                                                                                                                                                                                             </td><td>GO:0007275;GO:0007399;GO:0008150;GO:0008152;GO:0009987;GO:0022008;GO:0030154;GO:0032501;GO:0032502;GO:0044699;GO:0044707;GO:0044763;GO:0048731;GO:0048856;GO:0048869;GO:0005575;GO:0003674;GO:0003824;GO:0016853                                                                                                                                                                                                      </td></tr>\n",
       "\t<tr><td>TRINITY_DN127142_c1_g1_i1                                                                                                                                                                                                                                                                                                                                                                                             </td><td>GO:0007154;GO:0007165;GO:0007166;GO:0007186;GO:0007218;GO:0008150;GO:0008152;GO:0009987;GO:0023052;GO:0044699;GO:0044700;GO:0044710;GO:0044763;GO:0050789;GO:0050794;GO:0050896;GO:0051716;GO:0055114;GO:0065007;GO:0005575;GO:0005623;GO:0005886;GO:0016020;GO:0016021;GO:0031224;GO:0044425;GO:0044464;GO:0071944;GO:0003674;GO:0003824;GO:0004871;GO:0004872;GO:0004888;GO:0004930;GO:0016491;GO:0038023;GO:0060089</td></tr>\n",
       "\t<tr><td>TRINITY_DN127173_c0_g1_i1                                                                                                                                                                                                                                                                                                                                                                                             </td><td>GO:0006508;GO:0007154;GO:0007165;GO:0008150;GO:0008152;GO:0009987;GO:0019538;GO:0023052;GO:0035556;GO:0043170;GO:0044238;GO:0044699;GO:0044700;GO:0044763;GO:0050789;GO:0050794;GO:0050896;GO:0051716;GO:0065007;GO:0071704;GO:0003674;GO:0003824;GO:0008233;GO:0008237;GO:0016787;GO:0070011                                                                                                                         </td></tr>\n",
       "\t<tr><td>TRINITY_DN127117_c0_g1_i1                                                                                                                                                                                                                                                                                                                                                                                             </td><td>GO:0007155;GO:0008150;GO:0009987;GO:0022610;GO:0044699;GO:0044763;GO:0005575;GO:0005576;GO:0005578;GO:0005604;GO:0031012;GO:0044420;GO:0044421                                                                                                                                                                                                                                                                        </td></tr>\n",
       "\t<tr><td>TRINITY_DN147313_c0_g1_i1                                                                                                                                                                                                                                                                                                                                                                                             </td><td>GO:0002165;GO:0007275;GO:0007444;GO:0007472;GO:0007476;GO:0007552;GO:0007560;GO:0008150;GO:0009653;GO:0009791;GO:0009886;GO:0009887;GO:0032501;GO:0032502;GO:0035107;GO:0035114;GO:0035120;GO:0035220;GO:0044699;GO:0044707;GO:0044767;GO:0048513;GO:0048563;GO:0048569;GO:0048707;GO:0048731;GO:0048736;GO:0048737;GO:0048856                                                                                        </td></tr>\n",
       "</tbody>\n",
       "</table>\n"
      ],
      "text/latex": [
       "\\begin{tabular}{r|ll}\n",
       " V1 & V2\\\\\n",
       "\\hline\n",
       "\t TRINITY\\_DN127156\\_c0\\_g1\\_i1                                                                                                                                                                                                                                                                                                                                                                                      & GO:0006464;GO:0006508;GO:0008150;GO:0008152;GO:0009987;GO:0016567;GO:0019538;GO:0032446;GO:0036211;GO:0043170;GO:0043412;GO:0044237;GO:0044238;GO:0044260;GO:0044267;GO:0070647;GO:0071704;GO:0003674;GO:0003824;GO:0004842;GO:0016874;GO:0016879;GO:0016881;GO:0019787                                                                                                                                               \\\\\n",
       "\t TRINITY\\_DN127180\\_c0\\_g1\\_i1                                                                                                                                                                                                                                                                                                                                                                                      & GO:0007275;GO:0007399;GO:0008150;GO:0008152;GO:0009987;GO:0022008;GO:0030154;GO:0032501;GO:0032502;GO:0044699;GO:0044707;GO:0044763;GO:0048731;GO:0048856;GO:0048869;GO:0005575;GO:0003674;GO:0003824;GO:0016853                                                                                                                                                                                                      \\\\\n",
       "\t TRINITY\\_DN127142\\_c1\\_g1\\_i1                                                                                                                                                                                                                                                                                                                                                                                      & GO:0007154;GO:0007165;GO:0007166;GO:0007186;GO:0007218;GO:0008150;GO:0008152;GO:0009987;GO:0023052;GO:0044699;GO:0044700;GO:0044710;GO:0044763;GO:0050789;GO:0050794;GO:0050896;GO:0051716;GO:0055114;GO:0065007;GO:0005575;GO:0005623;GO:0005886;GO:0016020;GO:0016021;GO:0031224;GO:0044425;GO:0044464;GO:0071944;GO:0003674;GO:0003824;GO:0004871;GO:0004872;GO:0004888;GO:0004930;GO:0016491;GO:0038023;GO:0060089\\\\\n",
       "\t TRINITY\\_DN127173\\_c0\\_g1\\_i1                                                                                                                                                                                                                                                                                                                                                                                      & GO:0006508;GO:0007154;GO:0007165;GO:0008150;GO:0008152;GO:0009987;GO:0019538;GO:0023052;GO:0035556;GO:0043170;GO:0044238;GO:0044699;GO:0044700;GO:0044763;GO:0050789;GO:0050794;GO:0050896;GO:0051716;GO:0065007;GO:0071704;GO:0003674;GO:0003824;GO:0008233;GO:0008237;GO:0016787;GO:0070011                                                                                                                         \\\\\n",
       "\t TRINITY\\_DN127117\\_c0\\_g1\\_i1                                                                                                                                                                                                                                                                                                                                                                                      & GO:0007155;GO:0008150;GO:0009987;GO:0022610;GO:0044699;GO:0044763;GO:0005575;GO:0005576;GO:0005578;GO:0005604;GO:0031012;GO:0044420;GO:0044421                                                                                                                                                                                                                                                                        \\\\\n",
       "\t TRINITY\\_DN147313\\_c0\\_g1\\_i1                                                                                                                                                                                                                                                                                                                                                                                      & GO:0002165;GO:0007275;GO:0007444;GO:0007472;GO:0007476;GO:0007552;GO:0007560;GO:0008150;GO:0009653;GO:0009791;GO:0009886;GO:0009887;GO:0032501;GO:0032502;GO:0035107;GO:0035114;GO:0035120;GO:0035220;GO:0044699;GO:0044707;GO:0044767;GO:0048513;GO:0048563;GO:0048569;GO:0048707;GO:0048731;GO:0048736;GO:0048737;GO:0048856                                                                                        \\\\\n",
       "\\end{tabular}\n"
      ],
      "text/markdown": [
       "\n",
       "| V1 | V2 |\n",
       "|---|---|\n",
       "| TRINITY_DN127156_c0_g1_i1                                                                                                                                                                                                                                                                                                                                                                                              | GO:0006464;GO:0006508;GO:0008150;GO:0008152;GO:0009987;GO:0016567;GO:0019538;GO:0032446;GO:0036211;GO:0043170;GO:0043412;GO:0044237;GO:0044238;GO:0044260;GO:0044267;GO:0070647;GO:0071704;GO:0003674;GO:0003824;GO:0004842;GO:0016874;GO:0016879;GO:0016881;GO:0019787                                                                                                                                                |\n",
       "| TRINITY_DN127180_c0_g1_i1                                                                                                                                                                                                                                                                                                                                                                                              | GO:0007275;GO:0007399;GO:0008150;GO:0008152;GO:0009987;GO:0022008;GO:0030154;GO:0032501;GO:0032502;GO:0044699;GO:0044707;GO:0044763;GO:0048731;GO:0048856;GO:0048869;GO:0005575;GO:0003674;GO:0003824;GO:0016853                                                                                                                                                                                                       |\n",
       "| TRINITY_DN127142_c1_g1_i1                                                                                                                                                                                                                                                                                                                                                                                              | GO:0007154;GO:0007165;GO:0007166;GO:0007186;GO:0007218;GO:0008150;GO:0008152;GO:0009987;GO:0023052;GO:0044699;GO:0044700;GO:0044710;GO:0044763;GO:0050789;GO:0050794;GO:0050896;GO:0051716;GO:0055114;GO:0065007;GO:0005575;GO:0005623;GO:0005886;GO:0016020;GO:0016021;GO:0031224;GO:0044425;GO:0044464;GO:0071944;GO:0003674;GO:0003824;GO:0004871;GO:0004872;GO:0004888;GO:0004930;GO:0016491;GO:0038023;GO:0060089 |\n",
       "| TRINITY_DN127173_c0_g1_i1                                                                                                                                                                                                                                                                                                                                                                                              | GO:0006508;GO:0007154;GO:0007165;GO:0008150;GO:0008152;GO:0009987;GO:0019538;GO:0023052;GO:0035556;GO:0043170;GO:0044238;GO:0044699;GO:0044700;GO:0044763;GO:0050789;GO:0050794;GO:0050896;GO:0051716;GO:0065007;GO:0071704;GO:0003674;GO:0003824;GO:0008233;GO:0008237;GO:0016787;GO:0070011                                                                                                                          |\n",
       "| TRINITY_DN127117_c0_g1_i1                                                                                                                                                                                                                                                                                                                                                                                              | GO:0007155;GO:0008150;GO:0009987;GO:0022610;GO:0044699;GO:0044763;GO:0005575;GO:0005576;GO:0005578;GO:0005604;GO:0031012;GO:0044420;GO:0044421                                                                                                                                                                                                                                                                         |\n",
       "| TRINITY_DN147313_c0_g1_i1                                                                                                                                                                                                                                                                                                                                                                                              | GO:0002165;GO:0007275;GO:0007444;GO:0007472;GO:0007476;GO:0007552;GO:0007560;GO:0008150;GO:0009653;GO:0009791;GO:0009886;GO:0009887;GO:0032501;GO:0032502;GO:0035107;GO:0035114;GO:0035120;GO:0035220;GO:0044699;GO:0044707;GO:0044767;GO:0048513;GO:0048563;GO:0048569;GO:0048707;GO:0048731;GO:0048736;GO:0048737;GO:0048856                                                                                         |\n",
       "\n"
      ],
      "text/plain": [
       "  V1                       \n",
       "1 TRINITY_DN127156_c0_g1_i1\n",
       "2 TRINITY_DN127180_c0_g1_i1\n",
       "3 TRINITY_DN127142_c1_g1_i1\n",
       "4 TRINITY_DN127173_c0_g1_i1\n",
       "5 TRINITY_DN127117_c0_g1_i1\n",
       "6 TRINITY_DN147313_c0_g1_i1\n",
       "  V2                                                                                                                                                                                                                                                                                                                                                                                                                    \n",
       "1 GO:0006464;GO:0006508;GO:0008150;GO:0008152;GO:0009987;GO:0016567;GO:0019538;GO:0032446;GO:0036211;GO:0043170;GO:0043412;GO:0044237;GO:0044238;GO:0044260;GO:0044267;GO:0070647;GO:0071704;GO:0003674;GO:0003824;GO:0004842;GO:0016874;GO:0016879;GO:0016881;GO:0019787                                                                                                                                               \n",
       "2 GO:0007275;GO:0007399;GO:0008150;GO:0008152;GO:0009987;GO:0022008;GO:0030154;GO:0032501;GO:0032502;GO:0044699;GO:0044707;GO:0044763;GO:0048731;GO:0048856;GO:0048869;GO:0005575;GO:0003674;GO:0003824;GO:0016853                                                                                                                                                                                                      \n",
       "3 GO:0007154;GO:0007165;GO:0007166;GO:0007186;GO:0007218;GO:0008150;GO:0008152;GO:0009987;GO:0023052;GO:0044699;GO:0044700;GO:0044710;GO:0044763;GO:0050789;GO:0050794;GO:0050896;GO:0051716;GO:0055114;GO:0065007;GO:0005575;GO:0005623;GO:0005886;GO:0016020;GO:0016021;GO:0031224;GO:0044425;GO:0044464;GO:0071944;GO:0003674;GO:0003824;GO:0004871;GO:0004872;GO:0004888;GO:0004930;GO:0016491;GO:0038023;GO:0060089\n",
       "4 GO:0006508;GO:0007154;GO:0007165;GO:0008150;GO:0008152;GO:0009987;GO:0019538;GO:0023052;GO:0035556;GO:0043170;GO:0044238;GO:0044699;GO:0044700;GO:0044763;GO:0050789;GO:0050794;GO:0050896;GO:0051716;GO:0065007;GO:0071704;GO:0003674;GO:0003824;GO:0008233;GO:0008237;GO:0016787;GO:0070011                                                                                                                         \n",
       "5 GO:0007155;GO:0008150;GO:0009987;GO:0022610;GO:0044699;GO:0044763;GO:0005575;GO:0005576;GO:0005578;GO:0005604;GO:0031012;GO:0044420;GO:0044421                                                                                                                                                                                                                                                                        \n",
       "6 GO:0002165;GO:0007275;GO:0007444;GO:0007472;GO:0007476;GO:0007552;GO:0007560;GO:0008150;GO:0009653;GO:0009791;GO:0009886;GO:0009887;GO:0032501;GO:0032502;GO:0035107;GO:0035114;GO:0035120;GO:0035220;GO:0044699;GO:0044707;GO:0044767;GO:0048513;GO:0048563;GO:0048569;GO:0048707;GO:0048731;GO:0048736;GO:0048737;GO:0048856                                                                                        "
      ]
     },
     "metadata": {},
     "output_type": "display_data"
    },
    {
     "data": {
      "text/html": [
       "<ol class=list-inline>\n",
       "\t<li>4293</li>\n",
       "\t<li>2</li>\n",
       "</ol>\n"
      ],
      "text/latex": [
       "\\begin{enumerate*}\n",
       "\\item 4293\n",
       "\\item 2\n",
       "\\end{enumerate*}\n"
      ],
      "text/markdown": [
       "1. 4293\n",
       "2. 2\n",
       "\n",
       "\n"
      ],
      "text/plain": [
       "[1] 4293    2"
      ]
     },
     "metadata": {},
     "output_type": "display_data"
    }
   ],
   "source": [
    "annot_PvC <- annot[annot[,1] %in% deseqIDs_PvC[,1],]\n",
    "head(annot_PvC)\n",
    "dim(annot_PvC)\n",
    "annot_range <- annot[annot[,1] %in% deseqIDs_range[,1],]\n",
    "head(annot_range)\n",
    "dim(annot_range)\n",
    "annot_WGCNA <- annot[annot[,1] %in% WGCNA_IDs[,1],]\n",
    "head(annot_WGCNA)\n",
    "dim(annot_WGCNA)"
   ]
  },
  {
   "cell_type": "markdown",
   "metadata": {},
   "source": [
    "Okay so we went from 4948 transcripts with annotations to 4283, 4278, and 4293 when looking at just those included in DESeq2 PvC, DESeq2 range, and WGCNA, respectively. It's important that the transcripts in the annotations file correspond to those in the results file \"since the test relies on comparing the behavior of individual GO categories to the whole.\" (From GO_MWU GitHub).\n",
    "\n",
    "Now I'll save these tables to file so they can be read in by the GO_MWU functions."
   ]
  },
  {
   "cell_type": "code",
   "execution_count": 43,
   "metadata": {},
   "outputs": [],
   "source": [
    "write.table(annot_PvC, file=\"GO_MWU_annot_1e-50_PvC.tsv\", sep=\"\\t\", col.names=FALSE, row.names=FALSE, quote=FALSE)\n",
    "write.table(annot_range, file=\"GO_MWU_annot_1e-50_range.tsv\", sep=\"\\t\", col.names=FALSE, row.names=FALSE, quote=FALSE)\n",
    "write.table(annot_WGCNA, file=\"GO_MWU_annot_1e-50_WGCNA.tsv\", sep=\"\\t\", col.names=FALSE, row.names=FALSE, quote=FALSE)"
   ]
  },
  {
   "cell_type": "markdown",
   "metadata": {},
   "source": [
    "Rather than repeat all of the following lines of code for the various tests and datasets, just use the files specified below as `input` and re-run, changing the filepath for saving output images. Make sure to switch among GO divisions, including in output filepath as well, so there are three plots each. Also, make sure to use the appropriate annotations file, depending on if you are looking at PvC, range, or WGCNA, as they do not contain the identical transcripts. \n",
    "\n",
    "There are many possible enrichment analyses one can run given the output from the `DESeq2_RhithroLoxo.ipynb` and `WGCNA_PvC.ipynb`. I am going to focus just on the following:\n",
    "\n",
    "\n",
    ">Infected vs. control DESeq2 pvalues, Mann-Whitney U test:\n",
    ">>`GO_MWU_PvC_pval.csv`\n",
    "\n",
    ">Infected vs. control DESeq2, Fisher's exact test:\n",
    ">>`GO_MWU_PvC_fisher.csv`\n",
    "\n",
    ">Range:condition interaction DESeq2 pvalues, Mann-Whitney U test:\n",
    ">>`GO_MWU_interaction_pval.csv` (change colors to grey b/c direction is ambiguous)\n",
    "\n",
    ">WGCNA_PvC modules (infection and infection:sex):\n",
    "\n",
    ">>`GO_MWU_WGCNA_PvC_kMEcyan.csv`\n",
    "\n",
    ">>`GO_MWU_WGCNA_PvC_kMElightcyan.csv`\n",
    "\n",
    ">>`GO_MWU_WGCNA_PvC_kMEsalmon.csv` This is the one that showed interesting interaction between infection and sex\n",
    "\n",
    "## probably not the following. edit later\n",
    "\n",
    ">Within range infected vs. control:\n",
    "\n",
    ">> `GO_MWU_native.PvC_pval.csv`\n",
    "\n",
    ">> `GO_MWU_invasive.PvC_pval.csv`\n",
    "\n",
    ">> `GO_MWU_absent.PvC_pval.csv`\n",
    "\n",
    ">Range:condition interaction contrasts, pval\n",
    "\n",
    ">> `GO_MWU_interaction_AvN_pval.csv`\n",
    "\n",
    ">> `GO_MWU_interaction_IvN_pval.csv`\n",
    "\n",
    ">> `GO_MWU_interaction_AvI_pval.csv`\n",
    "\n",
    ">Range:condition interaction contrasts, fisher\n",
    "\n",
    ">> `GO_MWU_interaction_AvN_fisher.csv`\n",
    "\n",
    ">> `GO_MWU_interaction_IvN_fisher.csv`\n",
    "\n",
    ">> `GO_MWU_interaction_AvI_fisher.csv`\n",
    "\n",
    "\n",
    "Note that `GO_MWU` returns a message about \"terms without a defined level.\" Apparently `EnTAP` is returning some deprecated GO terms, as was also noted [here](https://github.com/fishercera/TreehopperSeq/blob/master/GoSeq_Walkthrough.md).\n",
    "\n",
    "The analysis of the WGCNA modules was done using solely a Fisher test at first. This was because there was a bug in the package. Outputs from WGCNA were converted to this format using `script.awk` in the `GO_MWU/` directory. Non-zero kMEs were coverted to ones. Tests solely for GO term inclusion in module. Skips second part of WGCNA GO_MWU analysis described on the GitHub page. This\n",
    "\n",
    "Matz fixed the bug and now it's working as expected. Now I have the full enrichment analysis done for the modules."
   ]
  },
  {
   "cell_type": "code",
   "execution_count": 70,
   "metadata": {},
   "outputs": [],
   "source": [
    "input=\"GO_MWU_WGCNA_PvC_kMEsalmon.csv\" # two columns of comma-separated values: gene id, continuous measure of significance. To perform standard GO enrichment analysis based on Fisher's exact test, use binary measure (0 or 1, i.e., either sgnificant or not).\n",
    "goAnnotations=\"GO_MWU_annot_1e-50_WGCNA.tsv\" # two-column, tab-delimited, one line per gene, multiple GO terms separated by semicolon. If you have multiple lines per gene, use nrify_GOtable.pl prior to running this script.\n",
    "goDatabase=\"go.obo\" # download from http://www.geneontology.org/GO.downloads.ontology.shtml\n",
    "goDivision=\"CC\" # either MF, or BP, or CC\n",
    "source(\"gomwu.functions.R\")"
   ]
  },
  {
   "cell_type": "markdown",
   "metadata": {},
   "source": [
    "Below, remember to comment/uncomment depending on if analyzing WGCNA module or not."
   ]
  },
  {
   "cell_type": "code",
   "execution_count": 71,
   "metadata": {},
   "outputs": [
    {
     "name": "stderr",
     "output_type": "stream",
     "text": [
      "shuffling values to calculate FDR, 20 reps\n",
      "replicate 1\n",
      "Warning message in wilcox.test.default(nrg[sgo.yes], nrg[sgo.no], alternative = Alternative):\n",
      "“cannot compute exact p-value with ties”Warning message in wilcox.test.default(nrg[sgo.yes], nrg[sgo.no], alternative = Alternative):\n",
      "“cannot compute exact p-value with ties”Warning message in wilcox.test.default(nrg[sgo.yes], nrg[sgo.no], alternative = Alternative):\n",
      "“cannot compute exact p-value with ties”Warning message in wilcox.test.default(nrg[sgo.yes], nrg[sgo.no], alternative = Alternative):\n",
      "“cannot compute exact p-value with ties”Warning message in wilcox.test.default(nrg[sgo.yes], nrg[sgo.no], alternative = Alternative):\n",
      "“cannot compute exact p-value with ties”Warning message in wilcox.test.default(nrg[sgo.yes], nrg[sgo.no], alternative = Alternative):\n",
      "“cannot compute exact p-value with ties”Warning message in wilcox.test.default(nrg[sgo.yes], nrg[sgo.no], alternative = Alternative):\n",
      "“cannot compute exact p-value with ties”Warning message in wilcox.test.default(nrg[sgo.yes], nrg[sgo.no], alternative = Alternative):\n",
      "“cannot compute exact p-value with ties”replicate 2\n",
      "Warning message in wilcox.test.default(nrg[sgo.yes], nrg[sgo.no], alternative = Alternative):\n",
      "“cannot compute exact p-value with ties”Warning message in wilcox.test.default(nrg[sgo.yes], nrg[sgo.no], alternative = Alternative):\n",
      "“cannot compute exact p-value with ties”Warning message in wilcox.test.default(nrg[sgo.yes], nrg[sgo.no], alternative = Alternative):\n",
      "“cannot compute exact p-value with ties”Warning message in wilcox.test.default(nrg[sgo.yes], nrg[sgo.no], alternative = Alternative):\n",
      "“cannot compute exact p-value with ties”Warning message in wilcox.test.default(nrg[sgo.yes], nrg[sgo.no], alternative = Alternative):\n",
      "“cannot compute exact p-value with ties”Warning message in wilcox.test.default(nrg[sgo.yes], nrg[sgo.no], alternative = Alternative):\n",
      "“cannot compute exact p-value with ties”Warning message in wilcox.test.default(nrg[sgo.yes], nrg[sgo.no], alternative = Alternative):\n",
      "“cannot compute exact p-value with ties”Warning message in wilcox.test.default(nrg[sgo.yes], nrg[sgo.no], alternative = Alternative):\n",
      "“cannot compute exact p-value with ties”Warning message in wilcox.test.default(nrg[sgo.yes], nrg[sgo.no], alternative = Alternative):\n",
      "“cannot compute exact p-value with ties”Warning message in wilcox.test.default(nrg[sgo.yes], nrg[sgo.no], alternative = Alternative):\n",
      "“cannot compute exact p-value with ties”replicate 3\n",
      "Warning message in wilcox.test.default(nrg[sgo.yes], nrg[sgo.no], alternative = Alternative):\n",
      "“cannot compute exact p-value with ties”Warning message in wilcox.test.default(nrg[sgo.yes], nrg[sgo.no], alternative = Alternative):\n",
      "“cannot compute exact p-value with ties”Warning message in wilcox.test.default(nrg[sgo.yes], nrg[sgo.no], alternative = Alternative):\n",
      "“cannot compute exact p-value with ties”Warning message in wilcox.test.default(nrg[sgo.yes], nrg[sgo.no], alternative = Alternative):\n",
      "“cannot compute exact p-value with ties”Warning message in wilcox.test.default(nrg[sgo.yes], nrg[sgo.no], alternative = Alternative):\n",
      "“cannot compute exact p-value with ties”Warning message in wilcox.test.default(nrg[sgo.yes], nrg[sgo.no], alternative = Alternative):\n",
      "“cannot compute exact p-value with ties”Warning message in wilcox.test.default(nrg[sgo.yes], nrg[sgo.no], alternative = Alternative):\n",
      "“cannot compute exact p-value with ties”Warning message in wilcox.test.default(nrg[sgo.yes], nrg[sgo.no], alternative = Alternative):\n",
      "“cannot compute exact p-value with ties”Warning message in wilcox.test.default(nrg[sgo.yes], nrg[sgo.no], alternative = Alternative):\n",
      "“cannot compute exact p-value with ties”Warning message in wilcox.test.default(nrg[sgo.yes], nrg[sgo.no], alternative = Alternative):\n",
      "“cannot compute exact p-value with ties”Warning message in wilcox.test.default(nrg[sgo.yes], nrg[sgo.no], alternative = Alternative):\n",
      "“cannot compute exact p-value with ties”Warning message in wilcox.test.default(nrg[sgo.yes], nrg[sgo.no], alternative = Alternative):\n",
      "“cannot compute exact p-value with ties”Warning message in wilcox.test.default(nrg[sgo.yes], nrg[sgo.no], alternative = Alternative):\n",
      "“cannot compute exact p-value with ties”Warning message in wilcox.test.default(nrg[sgo.yes], nrg[sgo.no], alternative = Alternative):\n",
      "“cannot compute exact p-value with ties”Warning message in wilcox.test.default(nrg[sgo.yes], nrg[sgo.no], alternative = Alternative):\n",
      "“cannot compute exact p-value with ties”Warning message in wilcox.test.default(nrg[sgo.yes], nrg[sgo.no], alternative = Alternative):\n",
      "“cannot compute exact p-value with ties”Warning message in wilcox.test.default(nrg[sgo.yes], nrg[sgo.no], alternative = Alternative):\n",
      "“cannot compute exact p-value with ties”Warning message in wilcox.test.default(nrg[sgo.yes], nrg[sgo.no], alternative = Alternative):\n",
      "“cannot compute exact p-value with ties”Warning message in wilcox.test.default(nrg[sgo.yes], nrg[sgo.no], alternative = Alternative):\n",
      "“cannot compute exact p-value with ties”Warning message in wilcox.test.default(nrg[sgo.yes], nrg[sgo.no], alternative = Alternative):\n",
      "“cannot compute exact p-value with ties”Warning message in wilcox.test.default(nrg[sgo.yes], nrg[sgo.no], alternative = Alternative):\n",
      "“cannot compute exact p-value with ties”Warning message in wilcox.test.default(nrg[sgo.yes], nrg[sgo.no], alternative = Alternative):\n",
      "“cannot compute exact p-value with ties”Warning message in wilcox.test.default(nrg[sgo.yes], nrg[sgo.no], alternative = Alternative):\n",
      "“cannot compute exact p-value with ties”Warning message in wilcox.test.default(nrg[sgo.yes], nrg[sgo.no], alternative = Alternative):\n",
      "“cannot compute exact p-value with ties”Warning message in wilcox.test.default(nrg[sgo.yes], nrg[sgo.no], alternative = Alternative):\n",
      "“cannot compute exact p-value with ties”Warning message in wilcox.test.default(nrg[sgo.yes], nrg[sgo.no], alternative = Alternative):\n",
      "“cannot compute exact p-value with ties”Warning message in wilcox.test.default(nrg[sgo.yes], nrg[sgo.no], alternative = Alternative):\n",
      "“cannot compute exact p-value with ties”Warning message in wilcox.test.default(nrg[sgo.yes], nrg[sgo.no], alternative = Alternative):\n",
      "“cannot compute exact p-value with ties”Warning message in wilcox.test.default(nrg[sgo.yes], nrg[sgo.no], alternative = Alternative):\n",
      "“cannot compute exact p-value with ties”Warning message in wilcox.test.default(nrg[sgo.yes], nrg[sgo.no], alternative = Alternative):\n",
      "“cannot compute exact p-value with ties”Warning message in wilcox.test.default(nrg[sgo.yes], nrg[sgo.no], alternative = Alternative):\n",
      "“cannot compute exact p-value with ties”Warning message in wilcox.test.default(nrg[sgo.yes], nrg[sgo.no], alternative = Alternative):\n",
      "“cannot compute exact p-value with ties”Warning message in wilcox.test.default(nrg[sgo.yes], nrg[sgo.no], alternative = Alternative):\n",
      "“cannot compute exact p-value with ties”Warning message in wilcox.test.default(nrg[sgo.yes], nrg[sgo.no], alternative = Alternative):\n",
      "“cannot compute exact p-value with ties”Warning message in wilcox.test.default(nrg[sgo.yes], nrg[sgo.no], alternative = Alternative):\n",
      "“cannot compute exact p-value with ties”Warning message in wilcox.test.default(nrg[sgo.yes], nrg[sgo.no], alternative = Alternative):\n",
      "“cannot compute exact p-value with ties”Warning message in wilcox.test.default(nrg[sgo.yes], nrg[sgo.no], alternative = Alternative):\n",
      "“cannot compute exact p-value with ties”Warning message in wilcox.test.default(nrg[sgo.yes], nrg[sgo.no], alternative = Alternative):\n",
      "“cannot compute exact p-value with ties”Warning message in wilcox.test.default(nrg[sgo.yes], nrg[sgo.no], alternative = Alternative):\n",
      "“cannot compute exact p-value with ties”Warning message in wilcox.test.default(nrg[sgo.yes], nrg[sgo.no], alternative = Alternative):\n",
      "“cannot compute exact p-value with ties”Warning message in wilcox.test.default(nrg[sgo.yes], nrg[sgo.no], alternative = Alternative):\n",
      "“cannot compute exact p-value with ties”replicate 4\n",
      "Warning message in wilcox.test.default(nrg[sgo.yes], nrg[sgo.no], alternative = Alternative):\n",
      "“cannot compute exact p-value with ties”Warning message in wilcox.test.default(nrg[sgo.yes], nrg[sgo.no], alternative = Alternative):\n"
     ]
    },
    {
     "name": "stderr",
     "output_type": "stream",
     "text": [
      "“cannot compute exact p-value with ties”Warning message in wilcox.test.default(nrg[sgo.yes], nrg[sgo.no], alternative = Alternative):\n",
      "“cannot compute exact p-value with ties”Warning message in wilcox.test.default(nrg[sgo.yes], nrg[sgo.no], alternative = Alternative):\n",
      "“cannot compute exact p-value with ties”Warning message in wilcox.test.default(nrg[sgo.yes], nrg[sgo.no], alternative = Alternative):\n",
      "“cannot compute exact p-value with ties”Warning message in wilcox.test.default(nrg[sgo.yes], nrg[sgo.no], alternative = Alternative):\n",
      "“cannot compute exact p-value with ties”Warning message in wilcox.test.default(nrg[sgo.yes], nrg[sgo.no], alternative = Alternative):\n",
      "“cannot compute exact p-value with ties”Warning message in wilcox.test.default(nrg[sgo.yes], nrg[sgo.no], alternative = Alternative):\n",
      "“cannot compute exact p-value with ties”replicate 5\n",
      "Warning message in wilcox.test.default(nrg[sgo.yes], nrg[sgo.no], alternative = Alternative):\n",
      "“cannot compute exact p-value with ties”Warning message in wilcox.test.default(nrg[sgo.yes], nrg[sgo.no], alternative = Alternative):\n",
      "“cannot compute exact p-value with ties”Warning message in wilcox.test.default(nrg[sgo.yes], nrg[sgo.no], alternative = Alternative):\n",
      "“cannot compute exact p-value with ties”Warning message in wilcox.test.default(nrg[sgo.yes], nrg[sgo.no], alternative = Alternative):\n",
      "“cannot compute exact p-value with ties”Warning message in wilcox.test.default(nrg[sgo.yes], nrg[sgo.no], alternative = Alternative):\n",
      "“cannot compute exact p-value with ties”Warning message in wilcox.test.default(nrg[sgo.yes], nrg[sgo.no], alternative = Alternative):\n",
      "“cannot compute exact p-value with ties”Warning message in wilcox.test.default(nrg[sgo.yes], nrg[sgo.no], alternative = Alternative):\n",
      "“cannot compute exact p-value with ties”Warning message in wilcox.test.default(nrg[sgo.yes], nrg[sgo.no], alternative = Alternative):\n",
      "“cannot compute exact p-value with ties”Warning message in wilcox.test.default(nrg[sgo.yes], nrg[sgo.no], alternative = Alternative):\n",
      "“cannot compute exact p-value with ties”Warning message in wilcox.test.default(nrg[sgo.yes], nrg[sgo.no], alternative = Alternative):\n",
      "“cannot compute exact p-value with ties”Warning message in wilcox.test.default(nrg[sgo.yes], nrg[sgo.no], alternative = Alternative):\n",
      "“cannot compute exact p-value with ties”Warning message in wilcox.test.default(nrg[sgo.yes], nrg[sgo.no], alternative = Alternative):\n",
      "“cannot compute exact p-value with ties”Warning message in wilcox.test.default(nrg[sgo.yes], nrg[sgo.no], alternative = Alternative):\n",
      "“cannot compute exact p-value with ties”Warning message in wilcox.test.default(nrg[sgo.yes], nrg[sgo.no], alternative = Alternative):\n",
      "“cannot compute exact p-value with ties”Warning message in wilcox.test.default(nrg[sgo.yes], nrg[sgo.no], alternative = Alternative):\n",
      "“cannot compute exact p-value with ties”Warning message in wilcox.test.default(nrg[sgo.yes], nrg[sgo.no], alternative = Alternative):\n",
      "“cannot compute exact p-value with ties”Warning message in wilcox.test.default(nrg[sgo.yes], nrg[sgo.no], alternative = Alternative):\n",
      "“cannot compute exact p-value with ties”Warning message in wilcox.test.default(nrg[sgo.yes], nrg[sgo.no], alternative = Alternative):\n",
      "“cannot compute exact p-value with ties”Warning message in wilcox.test.default(nrg[sgo.yes], nrg[sgo.no], alternative = Alternative):\n",
      "“cannot compute exact p-value with ties”Warning message in wilcox.test.default(nrg[sgo.yes], nrg[sgo.no], alternative = Alternative):\n",
      "“cannot compute exact p-value with ties”Warning message in wilcox.test.default(nrg[sgo.yes], nrg[sgo.no], alternative = Alternative):\n",
      "“cannot compute exact p-value with ties”Warning message in wilcox.test.default(nrg[sgo.yes], nrg[sgo.no], alternative = Alternative):\n",
      "“cannot compute exact p-value with ties”Warning message in wilcox.test.default(nrg[sgo.yes], nrg[sgo.no], alternative = Alternative):\n",
      "“cannot compute exact p-value with ties”Warning message in wilcox.test.default(nrg[sgo.yes], nrg[sgo.no], alternative = Alternative):\n",
      "“cannot compute exact p-value with ties”Warning message in wilcox.test.default(nrg[sgo.yes], nrg[sgo.no], alternative = Alternative):\n",
      "“cannot compute exact p-value with ties”Warning message in wilcox.test.default(nrg[sgo.yes], nrg[sgo.no], alternative = Alternative):\n",
      "“cannot compute exact p-value with ties”Warning message in wilcox.test.default(nrg[sgo.yes], nrg[sgo.no], alternative = Alternative):\n",
      "“cannot compute exact p-value with ties”Warning message in wilcox.test.default(nrg[sgo.yes], nrg[sgo.no], alternative = Alternative):\n",
      "“cannot compute exact p-value with ties”Warning message in wilcox.test.default(nrg[sgo.yes], nrg[sgo.no], alternative = Alternative):\n",
      "“cannot compute exact p-value with ties”Warning message in wilcox.test.default(nrg[sgo.yes], nrg[sgo.no], alternative = Alternative):\n",
      "“cannot compute exact p-value with ties”Warning message in wilcox.test.default(nrg[sgo.yes], nrg[sgo.no], alternative = Alternative):\n",
      "“cannot compute exact p-value with ties”Warning message in wilcox.test.default(nrg[sgo.yes], nrg[sgo.no], alternative = Alternative):\n",
      "“cannot compute exact p-value with ties”Warning message in wilcox.test.default(nrg[sgo.yes], nrg[sgo.no], alternative = Alternative):\n",
      "“cannot compute exact p-value with ties”Warning message in wilcox.test.default(nrg[sgo.yes], nrg[sgo.no], alternative = Alternative):\n",
      "“cannot compute exact p-value with ties”Warning message in wilcox.test.default(nrg[sgo.yes], nrg[sgo.no], alternative = Alternative):\n",
      "“cannot compute exact p-value with ties”Warning message in wilcox.test.default(nrg[sgo.yes], nrg[sgo.no], alternative = Alternative):\n",
      "“cannot compute exact p-value with ties”Warning message in wilcox.test.default(nrg[sgo.yes], nrg[sgo.no], alternative = Alternative):\n",
      "“cannot compute exact p-value with ties”Warning message in wilcox.test.default(nrg[sgo.yes], nrg[sgo.no], alternative = Alternative):\n",
      "“cannot compute exact p-value with ties”Warning message in wilcox.test.default(nrg[sgo.yes], nrg[sgo.no], alternative = Alternative):\n",
      "“cannot compute exact p-value with ties”Warning message in wilcox.test.default(nrg[sgo.yes], nrg[sgo.no], alternative = Alternative):\n",
      "“cannot compute exact p-value with ties”replicate 6\n",
      "Warning message in wilcox.test.default(nrg[sgo.yes], nrg[sgo.no], alternative = Alternative):\n",
      "“cannot compute exact p-value with ties”Warning message in wilcox.test.default(nrg[sgo.yes], nrg[sgo.no], alternative = Alternative):\n",
      "“cannot compute exact p-value with ties”Warning message in wilcox.test.default(nrg[sgo.yes], nrg[sgo.no], alternative = Alternative):\n",
      "“cannot compute exact p-value with ties”Warning message in wilcox.test.default(nrg[sgo.yes], nrg[sgo.no], alternative = Alternative):\n",
      "“cannot compute exact p-value with ties”Warning message in wilcox.test.default(nrg[sgo.yes], nrg[sgo.no], alternative = Alternative):\n",
      "“cannot compute exact p-value with ties”Warning message in wilcox.test.default(nrg[sgo.yes], nrg[sgo.no], alternative = Alternative):\n",
      "“cannot compute exact p-value with ties”Warning message in wilcox.test.default(nrg[sgo.yes], nrg[sgo.no], alternative = Alternative):\n",
      "“cannot compute exact p-value with ties”Warning message in wilcox.test.default(nrg[sgo.yes], nrg[sgo.no], alternative = Alternative):\n",
      "“cannot compute exact p-value with ties”Warning message in wilcox.test.default(nrg[sgo.yes], nrg[sgo.no], alternative = Alternative):\n",
      "“cannot compute exact p-value with ties”Warning message in wilcox.test.default(nrg[sgo.yes], nrg[sgo.no], alternative = Alternative):\n",
      "“cannot compute exact p-value with ties”Warning message in wilcox.test.default(nrg[sgo.yes], nrg[sgo.no], alternative = Alternative):\n",
      "“cannot compute exact p-value with ties”Warning message in wilcox.test.default(nrg[sgo.yes], nrg[sgo.no], alternative = Alternative):\n",
      "“cannot compute exact p-value with ties”Warning message in wilcox.test.default(nrg[sgo.yes], nrg[sgo.no], alternative = Alternative):\n",
      "“cannot compute exact p-value with ties”Warning message in wilcox.test.default(nrg[sgo.yes], nrg[sgo.no], alternative = Alternative):\n",
      "“cannot compute exact p-value with ties”Warning message in wilcox.test.default(nrg[sgo.yes], nrg[sgo.no], alternative = Alternative):\n"
     ]
    },
    {
     "name": "stderr",
     "output_type": "stream",
     "text": [
      "“cannot compute exact p-value with ties”Warning message in wilcox.test.default(nrg[sgo.yes], nrg[sgo.no], alternative = Alternative):\n",
      "“cannot compute exact p-value with ties”Warning message in wilcox.test.default(nrg[sgo.yes], nrg[sgo.no], alternative = Alternative):\n",
      "“cannot compute exact p-value with ties”Warning message in wilcox.test.default(nrg[sgo.yes], nrg[sgo.no], alternative = Alternative):\n",
      "“cannot compute exact p-value with ties”Warning message in wilcox.test.default(nrg[sgo.yes], nrg[sgo.no], alternative = Alternative):\n",
      "“cannot compute exact p-value with ties”Warning message in wilcox.test.default(nrg[sgo.yes], nrg[sgo.no], alternative = Alternative):\n",
      "“cannot compute exact p-value with ties”Warning message in wilcox.test.default(nrg[sgo.yes], nrg[sgo.no], alternative = Alternative):\n",
      "“cannot compute exact p-value with ties”Warning message in wilcox.test.default(nrg[sgo.yes], nrg[sgo.no], alternative = Alternative):\n",
      "“cannot compute exact p-value with ties”Warning message in wilcox.test.default(nrg[sgo.yes], nrg[sgo.no], alternative = Alternative):\n",
      "“cannot compute exact p-value with ties”Warning message in wilcox.test.default(nrg[sgo.yes], nrg[sgo.no], alternative = Alternative):\n",
      "“cannot compute exact p-value with ties”Warning message in wilcox.test.default(nrg[sgo.yes], nrg[sgo.no], alternative = Alternative):\n",
      "“cannot compute exact p-value with ties”Warning message in wilcox.test.default(nrg[sgo.yes], nrg[sgo.no], alternative = Alternative):\n",
      "“cannot compute exact p-value with ties”Warning message in wilcox.test.default(nrg[sgo.yes], nrg[sgo.no], alternative = Alternative):\n",
      "“cannot compute exact p-value with ties”Warning message in wilcox.test.default(nrg[sgo.yes], nrg[sgo.no], alternative = Alternative):\n",
      "“cannot compute exact p-value with ties”Warning message in wilcox.test.default(nrg[sgo.yes], nrg[sgo.no], alternative = Alternative):\n",
      "“cannot compute exact p-value with ties”Warning message in wilcox.test.default(nrg[sgo.yes], nrg[sgo.no], alternative = Alternative):\n",
      "“cannot compute exact p-value with ties”Warning message in wilcox.test.default(nrg[sgo.yes], nrg[sgo.no], alternative = Alternative):\n",
      "“cannot compute exact p-value with ties”Warning message in wilcox.test.default(nrg[sgo.yes], nrg[sgo.no], alternative = Alternative):\n",
      "“cannot compute exact p-value with ties”Warning message in wilcox.test.default(nrg[sgo.yes], nrg[sgo.no], alternative = Alternative):\n",
      "“cannot compute exact p-value with ties”Warning message in wilcox.test.default(nrg[sgo.yes], nrg[sgo.no], alternative = Alternative):\n",
      "“cannot compute exact p-value with ties”Warning message in wilcox.test.default(nrg[sgo.yes], nrg[sgo.no], alternative = Alternative):\n",
      "“cannot compute exact p-value with ties”Warning message in wilcox.test.default(nrg[sgo.yes], nrg[sgo.no], alternative = Alternative):\n",
      "“cannot compute exact p-value with ties”Warning message in wilcox.test.default(nrg[sgo.yes], nrg[sgo.no], alternative = Alternative):\n",
      "“cannot compute exact p-value with ties”Warning message in wilcox.test.default(nrg[sgo.yes], nrg[sgo.no], alternative = Alternative):\n",
      "“cannot compute exact p-value with ties”Warning message in wilcox.test.default(nrg[sgo.yes], nrg[sgo.no], alternative = Alternative):\n",
      "“cannot compute exact p-value with ties”Warning message in wilcox.test.default(nrg[sgo.yes], nrg[sgo.no], alternative = Alternative):\n",
      "“cannot compute exact p-value with ties”Warning message in wilcox.test.default(nrg[sgo.yes], nrg[sgo.no], alternative = Alternative):\n",
      "“cannot compute exact p-value with ties”replicate 7\n",
      "Warning message in wilcox.test.default(nrg[sgo.yes], nrg[sgo.no], alternative = Alternative):\n",
      "“cannot compute exact p-value with ties”Warning message in wilcox.test.default(nrg[sgo.yes], nrg[sgo.no], alternative = Alternative):\n",
      "“cannot compute exact p-value with ties”Warning message in wilcox.test.default(nrg[sgo.yes], nrg[sgo.no], alternative = Alternative):\n",
      "“cannot compute exact p-value with ties”Warning message in wilcox.test.default(nrg[sgo.yes], nrg[sgo.no], alternative = Alternative):\n",
      "“cannot compute exact p-value with ties”Warning message in wilcox.test.default(nrg[sgo.yes], nrg[sgo.no], alternative = Alternative):\n",
      "“cannot compute exact p-value with ties”Warning message in wilcox.test.default(nrg[sgo.yes], nrg[sgo.no], alternative = Alternative):\n",
      "“cannot compute exact p-value with ties”Warning message in wilcox.test.default(nrg[sgo.yes], nrg[sgo.no], alternative = Alternative):\n",
      "“cannot compute exact p-value with ties”Warning message in wilcox.test.default(nrg[sgo.yes], nrg[sgo.no], alternative = Alternative):\n",
      "“cannot compute exact p-value with ties”Warning message in wilcox.test.default(nrg[sgo.yes], nrg[sgo.no], alternative = Alternative):\n",
      "“cannot compute exact p-value with ties”replicate 8\n",
      "Warning message in wilcox.test.default(nrg[sgo.yes], nrg[sgo.no], alternative = Alternative):\n",
      "“cannot compute exact p-value with ties”Warning message in wilcox.test.default(nrg[sgo.yes], nrg[sgo.no], alternative = Alternative):\n",
      "“cannot compute exact p-value with ties”Warning message in wilcox.test.default(nrg[sgo.yes], nrg[sgo.no], alternative = Alternative):\n",
      "“cannot compute exact p-value with ties”Warning message in wilcox.test.default(nrg[sgo.yes], nrg[sgo.no], alternative = Alternative):\n",
      "“cannot compute exact p-value with ties”Warning message in wilcox.test.default(nrg[sgo.yes], nrg[sgo.no], alternative = Alternative):\n",
      "“cannot compute exact p-value with ties”Warning message in wilcox.test.default(nrg[sgo.yes], nrg[sgo.no], alternative = Alternative):\n",
      "“cannot compute exact p-value with ties”Warning message in wilcox.test.default(nrg[sgo.yes], nrg[sgo.no], alternative = Alternative):\n",
      "“cannot compute exact p-value with ties”Warning message in wilcox.test.default(nrg[sgo.yes], nrg[sgo.no], alternative = Alternative):\n",
      "“cannot compute exact p-value with ties”Warning message in wilcox.test.default(nrg[sgo.yes], nrg[sgo.no], alternative = Alternative):\n",
      "“cannot compute exact p-value with ties”Warning message in wilcox.test.default(nrg[sgo.yes], nrg[sgo.no], alternative = Alternative):\n",
      "“cannot compute exact p-value with ties”Warning message in wilcox.test.default(nrg[sgo.yes], nrg[sgo.no], alternative = Alternative):\n",
      "“cannot compute exact p-value with ties”Warning message in wilcox.test.default(nrg[sgo.yes], nrg[sgo.no], alternative = Alternative):\n",
      "“cannot compute exact p-value with ties”Warning message in wilcox.test.default(nrg[sgo.yes], nrg[sgo.no], alternative = Alternative):\n",
      "“cannot compute exact p-value with ties”Warning message in wilcox.test.default(nrg[sgo.yes], nrg[sgo.no], alternative = Alternative):\n",
      "“cannot compute exact p-value with ties”Warning message in wilcox.test.default(nrg[sgo.yes], nrg[sgo.no], alternative = Alternative):\n",
      "“cannot compute exact p-value with ties”Warning message in wilcox.test.default(nrg[sgo.yes], nrg[sgo.no], alternative = Alternative):\n",
      "“cannot compute exact p-value with ties”Warning message in wilcox.test.default(nrg[sgo.yes], nrg[sgo.no], alternative = Alternative):\n",
      "“cannot compute exact p-value with ties”Warning message in wilcox.test.default(nrg[sgo.yes], nrg[sgo.no], alternative = Alternative):\n",
      "“cannot compute exact p-value with ties”Warning message in wilcox.test.default(nrg[sgo.yes], nrg[sgo.no], alternative = Alternative):\n",
      "“cannot compute exact p-value with ties”Warning message in wilcox.test.default(nrg[sgo.yes], nrg[sgo.no], alternative = Alternative):\n",
      "“cannot compute exact p-value with ties”Warning message in wilcox.test.default(nrg[sgo.yes], nrg[sgo.no], alternative = Alternative):\n",
      "“cannot compute exact p-value with ties”Warning message in wilcox.test.default(nrg[sgo.yes], nrg[sgo.no], alternative = Alternative):\n",
      "“cannot compute exact p-value with ties”Warning message in wilcox.test.default(nrg[sgo.yes], nrg[sgo.no], alternative = Alternative):\n",
      "“cannot compute exact p-value with ties”Warning message in wilcox.test.default(nrg[sgo.yes], nrg[sgo.no], alternative = Alternative):\n",
      "“cannot compute exact p-value with ties”Warning message in wilcox.test.default(nrg[sgo.yes], nrg[sgo.no], alternative = Alternative):\n",
      "“cannot compute exact p-value with ties”Warning message in wilcox.test.default(nrg[sgo.yes], nrg[sgo.no], alternative = Alternative):\n"
     ]
    },
    {
     "name": "stderr",
     "output_type": "stream",
     "text": [
      "“cannot compute exact p-value with ties”Warning message in wilcox.test.default(nrg[sgo.yes], nrg[sgo.no], alternative = Alternative):\n",
      "“cannot compute exact p-value with ties”Warning message in wilcox.test.default(nrg[sgo.yes], nrg[sgo.no], alternative = Alternative):\n",
      "“cannot compute exact p-value with ties”Warning message in wilcox.test.default(nrg[sgo.yes], nrg[sgo.no], alternative = Alternative):\n",
      "“cannot compute exact p-value with ties”Warning message in wilcox.test.default(nrg[sgo.yes], nrg[sgo.no], alternative = Alternative):\n",
      "“cannot compute exact p-value with ties”Warning message in wilcox.test.default(nrg[sgo.yes], nrg[sgo.no], alternative = Alternative):\n",
      "“cannot compute exact p-value with ties”Warning message in wilcox.test.default(nrg[sgo.yes], nrg[sgo.no], alternative = Alternative):\n",
      "“cannot compute exact p-value with ties”Warning message in wilcox.test.default(nrg[sgo.yes], nrg[sgo.no], alternative = Alternative):\n",
      "“cannot compute exact p-value with ties”Warning message in wilcox.test.default(nrg[sgo.yes], nrg[sgo.no], alternative = Alternative):\n",
      "“cannot compute exact p-value with ties”Warning message in wilcox.test.default(nrg[sgo.yes], nrg[sgo.no], alternative = Alternative):\n",
      "“cannot compute exact p-value with ties”Warning message in wilcox.test.default(nrg[sgo.yes], nrg[sgo.no], alternative = Alternative):\n",
      "“cannot compute exact p-value with ties”Warning message in wilcox.test.default(nrg[sgo.yes], nrg[sgo.no], alternative = Alternative):\n",
      "“cannot compute exact p-value with ties”Warning message in wilcox.test.default(nrg[sgo.yes], nrg[sgo.no], alternative = Alternative):\n",
      "“cannot compute exact p-value with ties”Warning message in wilcox.test.default(nrg[sgo.yes], nrg[sgo.no], alternative = Alternative):\n",
      "“cannot compute exact p-value with ties”Warning message in wilcox.test.default(nrg[sgo.yes], nrg[sgo.no], alternative = Alternative):\n",
      "“cannot compute exact p-value with ties”Warning message in wilcox.test.default(nrg[sgo.yes], nrg[sgo.no], alternative = Alternative):\n",
      "“cannot compute exact p-value with ties”Warning message in wilcox.test.default(nrg[sgo.yes], nrg[sgo.no], alternative = Alternative):\n",
      "“cannot compute exact p-value with ties”replicate 9\n",
      "Warning message in wilcox.test.default(nrg[sgo.yes], nrg[sgo.no], alternative = Alternative):\n",
      "“cannot compute exact p-value with ties”Warning message in wilcox.test.default(nrg[sgo.yes], nrg[sgo.no], alternative = Alternative):\n",
      "“cannot compute exact p-value with ties”Warning message in wilcox.test.default(nrg[sgo.yes], nrg[sgo.no], alternative = Alternative):\n",
      "“cannot compute exact p-value with ties”Warning message in wilcox.test.default(nrg[sgo.yes], nrg[sgo.no], alternative = Alternative):\n",
      "“cannot compute exact p-value with ties”Warning message in wilcox.test.default(nrg[sgo.yes], nrg[sgo.no], alternative = Alternative):\n",
      "“cannot compute exact p-value with ties”Warning message in wilcox.test.default(nrg[sgo.yes], nrg[sgo.no], alternative = Alternative):\n",
      "“cannot compute exact p-value with ties”Warning message in wilcox.test.default(nrg[sgo.yes], nrg[sgo.no], alternative = Alternative):\n",
      "“cannot compute exact p-value with ties”Warning message in wilcox.test.default(nrg[sgo.yes], nrg[sgo.no], alternative = Alternative):\n",
      "“cannot compute exact p-value with ties”Warning message in wilcox.test.default(nrg[sgo.yes], nrg[sgo.no], alternative = Alternative):\n",
      "“cannot compute exact p-value with ties”Warning message in wilcox.test.default(nrg[sgo.yes], nrg[sgo.no], alternative = Alternative):\n",
      "“cannot compute exact p-value with ties”Warning message in wilcox.test.default(nrg[sgo.yes], nrg[sgo.no], alternative = Alternative):\n",
      "“cannot compute exact p-value with ties”Warning message in wilcox.test.default(nrg[sgo.yes], nrg[sgo.no], alternative = Alternative):\n",
      "“cannot compute exact p-value with ties”Warning message in wilcox.test.default(nrg[sgo.yes], nrg[sgo.no], alternative = Alternative):\n",
      "“cannot compute exact p-value with ties”Warning message in wilcox.test.default(nrg[sgo.yes], nrg[sgo.no], alternative = Alternative):\n",
      "“cannot compute exact p-value with ties”Warning message in wilcox.test.default(nrg[sgo.yes], nrg[sgo.no], alternative = Alternative):\n",
      "“cannot compute exact p-value with ties”Warning message in wilcox.test.default(nrg[sgo.yes], nrg[sgo.no], alternative = Alternative):\n",
      "“cannot compute exact p-value with ties”Warning message in wilcox.test.default(nrg[sgo.yes], nrg[sgo.no], alternative = Alternative):\n",
      "“cannot compute exact p-value with ties”Warning message in wilcox.test.default(nrg[sgo.yes], nrg[sgo.no], alternative = Alternative):\n",
      "“cannot compute exact p-value with ties”Warning message in wilcox.test.default(nrg[sgo.yes], nrg[sgo.no], alternative = Alternative):\n",
      "“cannot compute exact p-value with ties”Warning message in wilcox.test.default(nrg[sgo.yes], nrg[sgo.no], alternative = Alternative):\n",
      "“cannot compute exact p-value with ties”Warning message in wilcox.test.default(nrg[sgo.yes], nrg[sgo.no], alternative = Alternative):\n",
      "“cannot compute exact p-value with ties”Warning message in wilcox.test.default(nrg[sgo.yes], nrg[sgo.no], alternative = Alternative):\n",
      "“cannot compute exact p-value with ties”Warning message in wilcox.test.default(nrg[sgo.yes], nrg[sgo.no], alternative = Alternative):\n",
      "“cannot compute exact p-value with ties”Warning message in wilcox.test.default(nrg[sgo.yes], nrg[sgo.no], alternative = Alternative):\n",
      "“cannot compute exact p-value with ties”Warning message in wilcox.test.default(nrg[sgo.yes], nrg[sgo.no], alternative = Alternative):\n",
      "“cannot compute exact p-value with ties”Warning message in wilcox.test.default(nrg[sgo.yes], nrg[sgo.no], alternative = Alternative):\n",
      "“cannot compute exact p-value with ties”Warning message in wilcox.test.default(nrg[sgo.yes], nrg[sgo.no], alternative = Alternative):\n",
      "“cannot compute exact p-value with ties”Warning message in wilcox.test.default(nrg[sgo.yes], nrg[sgo.no], alternative = Alternative):\n",
      "“cannot compute exact p-value with ties”Warning message in wilcox.test.default(nrg[sgo.yes], nrg[sgo.no], alternative = Alternative):\n",
      "“cannot compute exact p-value with ties”Warning message in wilcox.test.default(nrg[sgo.yes], nrg[sgo.no], alternative = Alternative):\n",
      "“cannot compute exact p-value with ties”Warning message in wilcox.test.default(nrg[sgo.yes], nrg[sgo.no], alternative = Alternative):\n",
      "“cannot compute exact p-value with ties”Warning message in wilcox.test.default(nrg[sgo.yes], nrg[sgo.no], alternative = Alternative):\n",
      "“cannot compute exact p-value with ties”Warning message in wilcox.test.default(nrg[sgo.yes], nrg[sgo.no], alternative = Alternative):\n",
      "“cannot compute exact p-value with ties”Warning message in wilcox.test.default(nrg[sgo.yes], nrg[sgo.no], alternative = Alternative):\n",
      "“cannot compute exact p-value with ties”Warning message in wilcox.test.default(nrg[sgo.yes], nrg[sgo.no], alternative = Alternative):\n",
      "“cannot compute exact p-value with ties”Warning message in wilcox.test.default(nrg[sgo.yes], nrg[sgo.no], alternative = Alternative):\n",
      "“cannot compute exact p-value with ties”replicate 10\n",
      "Warning message in wilcox.test.default(nrg[sgo.yes], nrg[sgo.no], alternative = Alternative):\n",
      "“cannot compute exact p-value with ties”Warning message in wilcox.test.default(nrg[sgo.yes], nrg[sgo.no], alternative = Alternative):\n",
      "“cannot compute exact p-value with ties”Warning message in wilcox.test.default(nrg[sgo.yes], nrg[sgo.no], alternative = Alternative):\n",
      "“cannot compute exact p-value with ties”Warning message in wilcox.test.default(nrg[sgo.yes], nrg[sgo.no], alternative = Alternative):\n",
      "“cannot compute exact p-value with ties”Warning message in wilcox.test.default(nrg[sgo.yes], nrg[sgo.no], alternative = Alternative):\n",
      "“cannot compute exact p-value with ties”Warning message in wilcox.test.default(nrg[sgo.yes], nrg[sgo.no], alternative = Alternative):\n",
      "“cannot compute exact p-value with ties”replicate 11\n",
      "Warning message in wilcox.test.default(nrg[sgo.yes], nrg[sgo.no], alternative = Alternative):\n",
      "“cannot compute exact p-value with ties”Warning message in wilcox.test.default(nrg[sgo.yes], nrg[sgo.no], alternative = Alternative):\n",
      "“cannot compute exact p-value with ties”Warning message in wilcox.test.default(nrg[sgo.yes], nrg[sgo.no], alternative = Alternative):\n"
     ]
    },
    {
     "name": "stderr",
     "output_type": "stream",
     "text": [
      "“cannot compute exact p-value with ties”Warning message in wilcox.test.default(nrg[sgo.yes], nrg[sgo.no], alternative = Alternative):\n",
      "“cannot compute exact p-value with ties”Warning message in wilcox.test.default(nrg[sgo.yes], nrg[sgo.no], alternative = Alternative):\n",
      "“cannot compute exact p-value with ties”Warning message in wilcox.test.default(nrg[sgo.yes], nrg[sgo.no], alternative = Alternative):\n",
      "“cannot compute exact p-value with ties”Warning message in wilcox.test.default(nrg[sgo.yes], nrg[sgo.no], alternative = Alternative):\n",
      "“cannot compute exact p-value with ties”Warning message in wilcox.test.default(nrg[sgo.yes], nrg[sgo.no], alternative = Alternative):\n",
      "“cannot compute exact p-value with ties”Warning message in wilcox.test.default(nrg[sgo.yes], nrg[sgo.no], alternative = Alternative):\n",
      "“cannot compute exact p-value with ties”Warning message in wilcox.test.default(nrg[sgo.yes], nrg[sgo.no], alternative = Alternative):\n",
      "“cannot compute exact p-value with ties”replicate 12\n",
      "Warning message in wilcox.test.default(nrg[sgo.yes], nrg[sgo.no], alternative = Alternative):\n",
      "“cannot compute exact p-value with ties”Warning message in wilcox.test.default(nrg[sgo.yes], nrg[sgo.no], alternative = Alternative):\n",
      "“cannot compute exact p-value with ties”Warning message in wilcox.test.default(nrg[sgo.yes], nrg[sgo.no], alternative = Alternative):\n",
      "“cannot compute exact p-value with ties”Warning message in wilcox.test.default(nrg[sgo.yes], nrg[sgo.no], alternative = Alternative):\n",
      "“cannot compute exact p-value with ties”Warning message in wilcox.test.default(nrg[sgo.yes], nrg[sgo.no], alternative = Alternative):\n",
      "“cannot compute exact p-value with ties”Warning message in wilcox.test.default(nrg[sgo.yes], nrg[sgo.no], alternative = Alternative):\n",
      "“cannot compute exact p-value with ties”Warning message in wilcox.test.default(nrg[sgo.yes], nrg[sgo.no], alternative = Alternative):\n",
      "“cannot compute exact p-value with ties”Warning message in wilcox.test.default(nrg[sgo.yes], nrg[sgo.no], alternative = Alternative):\n",
      "“cannot compute exact p-value with ties”Warning message in wilcox.test.default(nrg[sgo.yes], nrg[sgo.no], alternative = Alternative):\n",
      "“cannot compute exact p-value with ties”replicate 13\n",
      "Warning message in wilcox.test.default(nrg[sgo.yes], nrg[sgo.no], alternative = Alternative):\n",
      "“cannot compute exact p-value with ties”Warning message in wilcox.test.default(nrg[sgo.yes], nrg[sgo.no], alternative = Alternative):\n",
      "“cannot compute exact p-value with ties”Warning message in wilcox.test.default(nrg[sgo.yes], nrg[sgo.no], alternative = Alternative):\n",
      "“cannot compute exact p-value with ties”Warning message in wilcox.test.default(nrg[sgo.yes], nrg[sgo.no], alternative = Alternative):\n",
      "“cannot compute exact p-value with ties”Warning message in wilcox.test.default(nrg[sgo.yes], nrg[sgo.no], alternative = Alternative):\n",
      "“cannot compute exact p-value with ties”Warning message in wilcox.test.default(nrg[sgo.yes], nrg[sgo.no], alternative = Alternative):\n",
      "“cannot compute exact p-value with ties”Warning message in wilcox.test.default(nrg[sgo.yes], nrg[sgo.no], alternative = Alternative):\n",
      "“cannot compute exact p-value with ties”Warning message in wilcox.test.default(nrg[sgo.yes], nrg[sgo.no], alternative = Alternative):\n",
      "“cannot compute exact p-value with ties”Warning message in wilcox.test.default(nrg[sgo.yes], nrg[sgo.no], alternative = Alternative):\n",
      "“cannot compute exact p-value with ties”Warning message in wilcox.test.default(nrg[sgo.yes], nrg[sgo.no], alternative = Alternative):\n",
      "“cannot compute exact p-value with ties”Warning message in wilcox.test.default(nrg[sgo.yes], nrg[sgo.no], alternative = Alternative):\n",
      "“cannot compute exact p-value with ties”Warning message in wilcox.test.default(nrg[sgo.yes], nrg[sgo.no], alternative = Alternative):\n",
      "“cannot compute exact p-value with ties”Warning message in wilcox.test.default(nrg[sgo.yes], nrg[sgo.no], alternative = Alternative):\n",
      "“cannot compute exact p-value with ties”Warning message in wilcox.test.default(nrg[sgo.yes], nrg[sgo.no], alternative = Alternative):\n",
      "“cannot compute exact p-value with ties”Warning message in wilcox.test.default(nrg[sgo.yes], nrg[sgo.no], alternative = Alternative):\n",
      "“cannot compute exact p-value with ties”Warning message in wilcox.test.default(nrg[sgo.yes], nrg[sgo.no], alternative = Alternative):\n",
      "“cannot compute exact p-value with ties”Warning message in wilcox.test.default(nrg[sgo.yes], nrg[sgo.no], alternative = Alternative):\n",
      "“cannot compute exact p-value with ties”Warning message in wilcox.test.default(nrg[sgo.yes], nrg[sgo.no], alternative = Alternative):\n",
      "“cannot compute exact p-value with ties”Warning message in wilcox.test.default(nrg[sgo.yes], nrg[sgo.no], alternative = Alternative):\n",
      "“cannot compute exact p-value with ties”Warning message in wilcox.test.default(nrg[sgo.yes], nrg[sgo.no], alternative = Alternative):\n",
      "“cannot compute exact p-value with ties”Warning message in wilcox.test.default(nrg[sgo.yes], nrg[sgo.no], alternative = Alternative):\n",
      "“cannot compute exact p-value with ties”Warning message in wilcox.test.default(nrg[sgo.yes], nrg[sgo.no], alternative = Alternative):\n",
      "“cannot compute exact p-value with ties”Warning message in wilcox.test.default(nrg[sgo.yes], nrg[sgo.no], alternative = Alternative):\n",
      "“cannot compute exact p-value with ties”Warning message in wilcox.test.default(nrg[sgo.yes], nrg[sgo.no], alternative = Alternative):\n",
      "“cannot compute exact p-value with ties”Warning message in wilcox.test.default(nrg[sgo.yes], nrg[sgo.no], alternative = Alternative):\n",
      "“cannot compute exact p-value with ties”Warning message in wilcox.test.default(nrg[sgo.yes], nrg[sgo.no], alternative = Alternative):\n",
      "“cannot compute exact p-value with ties”Warning message in wilcox.test.default(nrg[sgo.yes], nrg[sgo.no], alternative = Alternative):\n",
      "“cannot compute exact p-value with ties”Warning message in wilcox.test.default(nrg[sgo.yes], nrg[sgo.no], alternative = Alternative):\n",
      "“cannot compute exact p-value with ties”Warning message in wilcox.test.default(nrg[sgo.yes], nrg[sgo.no], alternative = Alternative):\n",
      "“cannot compute exact p-value with ties”Warning message in wilcox.test.default(nrg[sgo.yes], nrg[sgo.no], alternative = Alternative):\n",
      "“cannot compute exact p-value with ties”Warning message in wilcox.test.default(nrg[sgo.yes], nrg[sgo.no], alternative = Alternative):\n",
      "“cannot compute exact p-value with ties”Warning message in wilcox.test.default(nrg[sgo.yes], nrg[sgo.no], alternative = Alternative):\n",
      "“cannot compute exact p-value with ties”Warning message in wilcox.test.default(nrg[sgo.yes], nrg[sgo.no], alternative = Alternative):\n",
      "“cannot compute exact p-value with ties”Warning message in wilcox.test.default(nrg[sgo.yes], nrg[sgo.no], alternative = Alternative):\n",
      "“cannot compute exact p-value with ties”Warning message in wilcox.test.default(nrg[sgo.yes], nrg[sgo.no], alternative = Alternative):\n",
      "“cannot compute exact p-value with ties”Warning message in wilcox.test.default(nrg[sgo.yes], nrg[sgo.no], alternative = Alternative):\n",
      "“cannot compute exact p-value with ties”Warning message in wilcox.test.default(nrg[sgo.yes], nrg[sgo.no], alternative = Alternative):\n",
      "“cannot compute exact p-value with ties”Warning message in wilcox.test.default(nrg[sgo.yes], nrg[sgo.no], alternative = Alternative):\n",
      "“cannot compute exact p-value with ties”Warning message in wilcox.test.default(nrg[sgo.yes], nrg[sgo.no], alternative = Alternative):\n",
      "“cannot compute exact p-value with ties”Warning message in wilcox.test.default(nrg[sgo.yes], nrg[sgo.no], alternative = Alternative):\n",
      "“cannot compute exact p-value with ties”Warning message in wilcox.test.default(nrg[sgo.yes], nrg[sgo.no], alternative = Alternative):\n",
      "“cannot compute exact p-value with ties”replicate 14\n",
      "Warning message in wilcox.test.default(nrg[sgo.yes], nrg[sgo.no], alternative = Alternative):\n",
      "“cannot compute exact p-value with ties”Warning message in wilcox.test.default(nrg[sgo.yes], nrg[sgo.no], alternative = Alternative):\n",
      "“cannot compute exact p-value with ties”Warning message in wilcox.test.default(nrg[sgo.yes], nrg[sgo.no], alternative = Alternative):\n",
      "“cannot compute exact p-value with ties”Warning message in wilcox.test.default(nrg[sgo.yes], nrg[sgo.no], alternative = Alternative):\n"
     ]
    },
    {
     "name": "stderr",
     "output_type": "stream",
     "text": [
      "“cannot compute exact p-value with ties”Warning message in wilcox.test.default(nrg[sgo.yes], nrg[sgo.no], alternative = Alternative):\n",
      "“cannot compute exact p-value with ties”Warning message in wilcox.test.default(nrg[sgo.yes], nrg[sgo.no], alternative = Alternative):\n",
      "“cannot compute exact p-value with ties”Warning message in wilcox.test.default(nrg[sgo.yes], nrg[sgo.no], alternative = Alternative):\n",
      "“cannot compute exact p-value with ties”Warning message in wilcox.test.default(nrg[sgo.yes], nrg[sgo.no], alternative = Alternative):\n",
      "“cannot compute exact p-value with ties”Warning message in wilcox.test.default(nrg[sgo.yes], nrg[sgo.no], alternative = Alternative):\n",
      "“cannot compute exact p-value with ties”Warning message in wilcox.test.default(nrg[sgo.yes], nrg[sgo.no], alternative = Alternative):\n",
      "“cannot compute exact p-value with ties”Warning message in wilcox.test.default(nrg[sgo.yes], nrg[sgo.no], alternative = Alternative):\n",
      "“cannot compute exact p-value with ties”Warning message in wilcox.test.default(nrg[sgo.yes], nrg[sgo.no], alternative = Alternative):\n",
      "“cannot compute exact p-value with ties”Warning message in wilcox.test.default(nrg[sgo.yes], nrg[sgo.no], alternative = Alternative):\n",
      "“cannot compute exact p-value with ties”Warning message in wilcox.test.default(nrg[sgo.yes], nrg[sgo.no], alternative = Alternative):\n",
      "“cannot compute exact p-value with ties”Warning message in wilcox.test.default(nrg[sgo.yes], nrg[sgo.no], alternative = Alternative):\n",
      "“cannot compute exact p-value with ties”Warning message in wilcox.test.default(nrg[sgo.yes], nrg[sgo.no], alternative = Alternative):\n",
      "“cannot compute exact p-value with ties”Warning message in wilcox.test.default(nrg[sgo.yes], nrg[sgo.no], alternative = Alternative):\n",
      "“cannot compute exact p-value with ties”Warning message in wilcox.test.default(nrg[sgo.yes], nrg[sgo.no], alternative = Alternative):\n",
      "“cannot compute exact p-value with ties”Warning message in wilcox.test.default(nrg[sgo.yes], nrg[sgo.no], alternative = Alternative):\n",
      "“cannot compute exact p-value with ties”Warning message in wilcox.test.default(nrg[sgo.yes], nrg[sgo.no], alternative = Alternative):\n",
      "“cannot compute exact p-value with ties”Warning message in wilcox.test.default(nrg[sgo.yes], nrg[sgo.no], alternative = Alternative):\n",
      "“cannot compute exact p-value with ties”Warning message in wilcox.test.default(nrg[sgo.yes], nrg[sgo.no], alternative = Alternative):\n",
      "“cannot compute exact p-value with ties”Warning message in wilcox.test.default(nrg[sgo.yes], nrg[sgo.no], alternative = Alternative):\n",
      "“cannot compute exact p-value with ties”Warning message in wilcox.test.default(nrg[sgo.yes], nrg[sgo.no], alternative = Alternative):\n",
      "“cannot compute exact p-value with ties”Warning message in wilcox.test.default(nrg[sgo.yes], nrg[sgo.no], alternative = Alternative):\n",
      "“cannot compute exact p-value with ties”Warning message in wilcox.test.default(nrg[sgo.yes], nrg[sgo.no], alternative = Alternative):\n",
      "“cannot compute exact p-value with ties”Warning message in wilcox.test.default(nrg[sgo.yes], nrg[sgo.no], alternative = Alternative):\n",
      "“cannot compute exact p-value with ties”Warning message in wilcox.test.default(nrg[sgo.yes], nrg[sgo.no], alternative = Alternative):\n",
      "“cannot compute exact p-value with ties”Warning message in wilcox.test.default(nrg[sgo.yes], nrg[sgo.no], alternative = Alternative):\n",
      "“cannot compute exact p-value with ties”Warning message in wilcox.test.default(nrg[sgo.yes], nrg[sgo.no], alternative = Alternative):\n",
      "“cannot compute exact p-value with ties”Warning message in wilcox.test.default(nrg[sgo.yes], nrg[sgo.no], alternative = Alternative):\n",
      "“cannot compute exact p-value with ties”Warning message in wilcox.test.default(nrg[sgo.yes], nrg[sgo.no], alternative = Alternative):\n",
      "“cannot compute exact p-value with ties”Warning message in wilcox.test.default(nrg[sgo.yes], nrg[sgo.no], alternative = Alternative):\n",
      "“cannot compute exact p-value with ties”Warning message in wilcox.test.default(nrg[sgo.yes], nrg[sgo.no], alternative = Alternative):\n",
      "“cannot compute exact p-value with ties”Warning message in wilcox.test.default(nrg[sgo.yes], nrg[sgo.no], alternative = Alternative):\n",
      "“cannot compute exact p-value with ties”Warning message in wilcox.test.default(nrg[sgo.yes], nrg[sgo.no], alternative = Alternative):\n",
      "“cannot compute exact p-value with ties”Warning message in wilcox.test.default(nrg[sgo.yes], nrg[sgo.no], alternative = Alternative):\n",
      "“cannot compute exact p-value with ties”Warning message in wilcox.test.default(nrg[sgo.yes], nrg[sgo.no], alternative = Alternative):\n",
      "“cannot compute exact p-value with ties”Warning message in wilcox.test.default(nrg[sgo.yes], nrg[sgo.no], alternative = Alternative):\n",
      "“cannot compute exact p-value with ties”Warning message in wilcox.test.default(nrg[sgo.yes], nrg[sgo.no], alternative = Alternative):\n",
      "“cannot compute exact p-value with ties”replicate 15\n",
      "Warning message in wilcox.test.default(nrg[sgo.yes], nrg[sgo.no], alternative = Alternative):\n",
      "“cannot compute exact p-value with ties”Warning message in wilcox.test.default(nrg[sgo.yes], nrg[sgo.no], alternative = Alternative):\n",
      "“cannot compute exact p-value with ties”Warning message in wilcox.test.default(nrg[sgo.yes], nrg[sgo.no], alternative = Alternative):\n",
      "“cannot compute exact p-value with ties”Warning message in wilcox.test.default(nrg[sgo.yes], nrg[sgo.no], alternative = Alternative):\n",
      "“cannot compute exact p-value with ties”Warning message in wilcox.test.default(nrg[sgo.yes], nrg[sgo.no], alternative = Alternative):\n",
      "“cannot compute exact p-value with ties”Warning message in wilcox.test.default(nrg[sgo.yes], nrg[sgo.no], alternative = Alternative):\n",
      "“cannot compute exact p-value with ties”Warning message in wilcox.test.default(nrg[sgo.yes], nrg[sgo.no], alternative = Alternative):\n",
      "“cannot compute exact p-value with ties”Warning message in wilcox.test.default(nrg[sgo.yes], nrg[sgo.no], alternative = Alternative):\n",
      "“cannot compute exact p-value with ties”Warning message in wilcox.test.default(nrg[sgo.yes], nrg[sgo.no], alternative = Alternative):\n",
      "“cannot compute exact p-value with ties”Warning message in wilcox.test.default(nrg[sgo.yes], nrg[sgo.no], alternative = Alternative):\n",
      "“cannot compute exact p-value with ties”Warning message in wilcox.test.default(nrg[sgo.yes], nrg[sgo.no], alternative = Alternative):\n",
      "“cannot compute exact p-value with ties”Warning message in wilcox.test.default(nrg[sgo.yes], nrg[sgo.no], alternative = Alternative):\n",
      "“cannot compute exact p-value with ties”Warning message in wilcox.test.default(nrg[sgo.yes], nrg[sgo.no], alternative = Alternative):\n",
      "“cannot compute exact p-value with ties”Warning message in wilcox.test.default(nrg[sgo.yes], nrg[sgo.no], alternative = Alternative):\n",
      "“cannot compute exact p-value with ties”Warning message in wilcox.test.default(nrg[sgo.yes], nrg[sgo.no], alternative = Alternative):\n",
      "“cannot compute exact p-value with ties”Warning message in wilcox.test.default(nrg[sgo.yes], nrg[sgo.no], alternative = Alternative):\n",
      "“cannot compute exact p-value with ties”Warning message in wilcox.test.default(nrg[sgo.yes], nrg[sgo.no], alternative = Alternative):\n",
      "“cannot compute exact p-value with ties”Warning message in wilcox.test.default(nrg[sgo.yes], nrg[sgo.no], alternative = Alternative):\n",
      "“cannot compute exact p-value with ties”Warning message in wilcox.test.default(nrg[sgo.yes], nrg[sgo.no], alternative = Alternative):\n",
      "“cannot compute exact p-value with ties”Warning message in wilcox.test.default(nrg[sgo.yes], nrg[sgo.no], alternative = Alternative):\n",
      "“cannot compute exact p-value with ties”Warning message in wilcox.test.default(nrg[sgo.yes], nrg[sgo.no], alternative = Alternative):\n",
      "“cannot compute exact p-value with ties”Warning message in wilcox.test.default(nrg[sgo.yes], nrg[sgo.no], alternative = Alternative):\n",
      "“cannot compute exact p-value with ties”Warning message in wilcox.test.default(nrg[sgo.yes], nrg[sgo.no], alternative = Alternative):\n",
      "“cannot compute exact p-value with ties”Warning message in wilcox.test.default(nrg[sgo.yes], nrg[sgo.no], alternative = Alternative):\n",
      "“cannot compute exact p-value with ties”Warning message in wilcox.test.default(nrg[sgo.yes], nrg[sgo.no], alternative = Alternative):\n"
     ]
    },
    {
     "name": "stderr",
     "output_type": "stream",
     "text": [
      "“cannot compute exact p-value with ties”Warning message in wilcox.test.default(nrg[sgo.yes], nrg[sgo.no], alternative = Alternative):\n",
      "“cannot compute exact p-value with ties”Warning message in wilcox.test.default(nrg[sgo.yes], nrg[sgo.no], alternative = Alternative):\n",
      "“cannot compute exact p-value with ties”Warning message in wilcox.test.default(nrg[sgo.yes], nrg[sgo.no], alternative = Alternative):\n",
      "“cannot compute exact p-value with ties”Warning message in wilcox.test.default(nrg[sgo.yes], nrg[sgo.no], alternative = Alternative):\n",
      "“cannot compute exact p-value with ties”Warning message in wilcox.test.default(nrg[sgo.yes], nrg[sgo.no], alternative = Alternative):\n",
      "“cannot compute exact p-value with ties”Warning message in wilcox.test.default(nrg[sgo.yes], nrg[sgo.no], alternative = Alternative):\n",
      "“cannot compute exact p-value with ties”Warning message in wilcox.test.default(nrg[sgo.yes], nrg[sgo.no], alternative = Alternative):\n",
      "“cannot compute exact p-value with ties”Warning message in wilcox.test.default(nrg[sgo.yes], nrg[sgo.no], alternative = Alternative):\n",
      "“cannot compute exact p-value with ties”Warning message in wilcox.test.default(nrg[sgo.yes], nrg[sgo.no], alternative = Alternative):\n",
      "“cannot compute exact p-value with ties”Warning message in wilcox.test.default(nrg[sgo.yes], nrg[sgo.no], alternative = Alternative):\n",
      "“cannot compute exact p-value with ties”Warning message in wilcox.test.default(nrg[sgo.yes], nrg[sgo.no], alternative = Alternative):\n",
      "“cannot compute exact p-value with ties”Warning message in wilcox.test.default(nrg[sgo.yes], nrg[sgo.no], alternative = Alternative):\n",
      "“cannot compute exact p-value with ties”Warning message in wilcox.test.default(nrg[sgo.yes], nrg[sgo.no], alternative = Alternative):\n",
      "“cannot compute exact p-value with ties”Warning message in wilcox.test.default(nrg[sgo.yes], nrg[sgo.no], alternative = Alternative):\n",
      "“cannot compute exact p-value with ties”Warning message in wilcox.test.default(nrg[sgo.yes], nrg[sgo.no], alternative = Alternative):\n",
      "“cannot compute exact p-value with ties”replicate 16\n",
      "Warning message in wilcox.test.default(nrg[sgo.yes], nrg[sgo.no], alternative = Alternative):\n",
      "“cannot compute exact p-value with ties”Warning message in wilcox.test.default(nrg[sgo.yes], nrg[sgo.no], alternative = Alternative):\n",
      "“cannot compute exact p-value with ties”Warning message in wilcox.test.default(nrg[sgo.yes], nrg[sgo.no], alternative = Alternative):\n",
      "“cannot compute exact p-value with ties”Warning message in wilcox.test.default(nrg[sgo.yes], nrg[sgo.no], alternative = Alternative):\n",
      "“cannot compute exact p-value with ties”Warning message in wilcox.test.default(nrg[sgo.yes], nrg[sgo.no], alternative = Alternative):\n",
      "“cannot compute exact p-value with ties”Warning message in wilcox.test.default(nrg[sgo.yes], nrg[sgo.no], alternative = Alternative):\n",
      "“cannot compute exact p-value with ties”Warning message in wilcox.test.default(nrg[sgo.yes], nrg[sgo.no], alternative = Alternative):\n",
      "“cannot compute exact p-value with ties”Warning message in wilcox.test.default(nrg[sgo.yes], nrg[sgo.no], alternative = Alternative):\n",
      "“cannot compute exact p-value with ties”replicate 17\n",
      "Warning message in wilcox.test.default(nrg[sgo.yes], nrg[sgo.no], alternative = Alternative):\n",
      "“cannot compute exact p-value with ties”Warning message in wilcox.test.default(nrg[sgo.yes], nrg[sgo.no], alternative = Alternative):\n",
      "“cannot compute exact p-value with ties”Warning message in wilcox.test.default(nrg[sgo.yes], nrg[sgo.no], alternative = Alternative):\n",
      "“cannot compute exact p-value with ties”Warning message in wilcox.test.default(nrg[sgo.yes], nrg[sgo.no], alternative = Alternative):\n",
      "“cannot compute exact p-value with ties”Warning message in wilcox.test.default(nrg[sgo.yes], nrg[sgo.no], alternative = Alternative):\n",
      "“cannot compute exact p-value with ties”Warning message in wilcox.test.default(nrg[sgo.yes], nrg[sgo.no], alternative = Alternative):\n",
      "“cannot compute exact p-value with ties”Warning message in wilcox.test.default(nrg[sgo.yes], nrg[sgo.no], alternative = Alternative):\n",
      "“cannot compute exact p-value with ties”Warning message in wilcox.test.default(nrg[sgo.yes], nrg[sgo.no], alternative = Alternative):\n",
      "“cannot compute exact p-value with ties”Warning message in wilcox.test.default(nrg[sgo.yes], nrg[sgo.no], alternative = Alternative):\n",
      "“cannot compute exact p-value with ties”Warning message in wilcox.test.default(nrg[sgo.yes], nrg[sgo.no], alternative = Alternative):\n",
      "“cannot compute exact p-value with ties”Warning message in wilcox.test.default(nrg[sgo.yes], nrg[sgo.no], alternative = Alternative):\n",
      "“cannot compute exact p-value with ties”Warning message in wilcox.test.default(nrg[sgo.yes], nrg[sgo.no], alternative = Alternative):\n",
      "“cannot compute exact p-value with ties”Warning message in wilcox.test.default(nrg[sgo.yes], nrg[sgo.no], alternative = Alternative):\n",
      "“cannot compute exact p-value with ties”Warning message in wilcox.test.default(nrg[sgo.yes], nrg[sgo.no], alternative = Alternative):\n",
      "“cannot compute exact p-value with ties”Warning message in wilcox.test.default(nrg[sgo.yes], nrg[sgo.no], alternative = Alternative):\n",
      "“cannot compute exact p-value with ties”Warning message in wilcox.test.default(nrg[sgo.yes], nrg[sgo.no], alternative = Alternative):\n",
      "“cannot compute exact p-value with ties”Warning message in wilcox.test.default(nrg[sgo.yes], nrg[sgo.no], alternative = Alternative):\n",
      "“cannot compute exact p-value with ties”Warning message in wilcox.test.default(nrg[sgo.yes], nrg[sgo.no], alternative = Alternative):\n",
      "“cannot compute exact p-value with ties”Warning message in wilcox.test.default(nrg[sgo.yes], nrg[sgo.no], alternative = Alternative):\n",
      "“cannot compute exact p-value with ties”Warning message in wilcox.test.default(nrg[sgo.yes], nrg[sgo.no], alternative = Alternative):\n",
      "“cannot compute exact p-value with ties”Warning message in wilcox.test.default(nrg[sgo.yes], nrg[sgo.no], alternative = Alternative):\n",
      "“cannot compute exact p-value with ties”Warning message in wilcox.test.default(nrg[sgo.yes], nrg[sgo.no], alternative = Alternative):\n",
      "“cannot compute exact p-value with ties”Warning message in wilcox.test.default(nrg[sgo.yes], nrg[sgo.no], alternative = Alternative):\n",
      "“cannot compute exact p-value with ties”Warning message in wilcox.test.default(nrg[sgo.yes], nrg[sgo.no], alternative = Alternative):\n",
      "“cannot compute exact p-value with ties”Warning message in wilcox.test.default(nrg[sgo.yes], nrg[sgo.no], alternative = Alternative):\n",
      "“cannot compute exact p-value with ties”Warning message in wilcox.test.default(nrg[sgo.yes], nrg[sgo.no], alternative = Alternative):\n",
      "“cannot compute exact p-value with ties”Warning message in wilcox.test.default(nrg[sgo.yes], nrg[sgo.no], alternative = Alternative):\n",
      "“cannot compute exact p-value with ties”Warning message in wilcox.test.default(nrg[sgo.yes], nrg[sgo.no], alternative = Alternative):\n",
      "“cannot compute exact p-value with ties”Warning message in wilcox.test.default(nrg[sgo.yes], nrg[sgo.no], alternative = Alternative):\n",
      "“cannot compute exact p-value with ties”Warning message in wilcox.test.default(nrg[sgo.yes], nrg[sgo.no], alternative = Alternative):\n",
      "“cannot compute exact p-value with ties”Warning message in wilcox.test.default(nrg[sgo.yes], nrg[sgo.no], alternative = Alternative):\n",
      "“cannot compute exact p-value with ties”Warning message in wilcox.test.default(nrg[sgo.yes], nrg[sgo.no], alternative = Alternative):\n",
      "“cannot compute exact p-value with ties”Warning message in wilcox.test.default(nrg[sgo.yes], nrg[sgo.no], alternative = Alternative):\n",
      "“cannot compute exact p-value with ties”Warning message in wilcox.test.default(nrg[sgo.yes], nrg[sgo.no], alternative = Alternative):\n",
      "“cannot compute exact p-value with ties”Warning message in wilcox.test.default(nrg[sgo.yes], nrg[sgo.no], alternative = Alternative):\n",
      "“cannot compute exact p-value with ties”Warning message in wilcox.test.default(nrg[sgo.yes], nrg[sgo.no], alternative = Alternative):\n",
      "“cannot compute exact p-value with ties”Warning message in wilcox.test.default(nrg[sgo.yes], nrg[sgo.no], alternative = Alternative):\n",
      "“cannot compute exact p-value with ties”Warning message in wilcox.test.default(nrg[sgo.yes], nrg[sgo.no], alternative = Alternative):\n"
     ]
    },
    {
     "name": "stderr",
     "output_type": "stream",
     "text": [
      "“cannot compute exact p-value with ties”Warning message in wilcox.test.default(nrg[sgo.yes], nrg[sgo.no], alternative = Alternative):\n",
      "“cannot compute exact p-value with ties”Warning message in wilcox.test.default(nrg[sgo.yes], nrg[sgo.no], alternative = Alternative):\n",
      "“cannot compute exact p-value with ties”replicate 18\n",
      "Warning message in wilcox.test.default(nrg[sgo.yes], nrg[sgo.no], alternative = Alternative):\n",
      "“cannot compute exact p-value with ties”Warning message in wilcox.test.default(nrg[sgo.yes], nrg[sgo.no], alternative = Alternative):\n",
      "“cannot compute exact p-value with ties”Warning message in wilcox.test.default(nrg[sgo.yes], nrg[sgo.no], alternative = Alternative):\n",
      "“cannot compute exact p-value with ties”Warning message in wilcox.test.default(nrg[sgo.yes], nrg[sgo.no], alternative = Alternative):\n",
      "“cannot compute exact p-value with ties”Warning message in wilcox.test.default(nrg[sgo.yes], nrg[sgo.no], alternative = Alternative):\n",
      "“cannot compute exact p-value with ties”Warning message in wilcox.test.default(nrg[sgo.yes], nrg[sgo.no], alternative = Alternative):\n",
      "“cannot compute exact p-value with ties”Warning message in wilcox.test.default(nrg[sgo.yes], nrg[sgo.no], alternative = Alternative):\n",
      "“cannot compute exact p-value with ties”Warning message in wilcox.test.default(nrg[sgo.yes], nrg[sgo.no], alternative = Alternative):\n",
      "“cannot compute exact p-value with ties”Warning message in wilcox.test.default(nrg[sgo.yes], nrg[sgo.no], alternative = Alternative):\n",
      "“cannot compute exact p-value with ties”Warning message in wilcox.test.default(nrg[sgo.yes], nrg[sgo.no], alternative = Alternative):\n",
      "“cannot compute exact p-value with ties”Warning message in wilcox.test.default(nrg[sgo.yes], nrg[sgo.no], alternative = Alternative):\n",
      "“cannot compute exact p-value with ties”Warning message in wilcox.test.default(nrg[sgo.yes], nrg[sgo.no], alternative = Alternative):\n",
      "“cannot compute exact p-value with ties”Warning message in wilcox.test.default(nrg[sgo.yes], nrg[sgo.no], alternative = Alternative):\n",
      "“cannot compute exact p-value with ties”Warning message in wilcox.test.default(nrg[sgo.yes], nrg[sgo.no], alternative = Alternative):\n",
      "“cannot compute exact p-value with ties”Warning message in wilcox.test.default(nrg[sgo.yes], nrg[sgo.no], alternative = Alternative):\n",
      "“cannot compute exact p-value with ties”Warning message in wilcox.test.default(nrg[sgo.yes], nrg[sgo.no], alternative = Alternative):\n",
      "“cannot compute exact p-value with ties”Warning message in wilcox.test.default(nrg[sgo.yes], nrg[sgo.no], alternative = Alternative):\n",
      "“cannot compute exact p-value with ties”Warning message in wilcox.test.default(nrg[sgo.yes], nrg[sgo.no], alternative = Alternative):\n",
      "“cannot compute exact p-value with ties”Warning message in wilcox.test.default(nrg[sgo.yes], nrg[sgo.no], alternative = Alternative):\n",
      "“cannot compute exact p-value with ties”Warning message in wilcox.test.default(nrg[sgo.yes], nrg[sgo.no], alternative = Alternative):\n",
      "“cannot compute exact p-value with ties”Warning message in wilcox.test.default(nrg[sgo.yes], nrg[sgo.no], alternative = Alternative):\n",
      "“cannot compute exact p-value with ties”Warning message in wilcox.test.default(nrg[sgo.yes], nrg[sgo.no], alternative = Alternative):\n",
      "“cannot compute exact p-value with ties”Warning message in wilcox.test.default(nrg[sgo.yes], nrg[sgo.no], alternative = Alternative):\n",
      "“cannot compute exact p-value with ties”Warning message in wilcox.test.default(nrg[sgo.yes], nrg[sgo.no], alternative = Alternative):\n",
      "“cannot compute exact p-value with ties”Warning message in wilcox.test.default(nrg[sgo.yes], nrg[sgo.no], alternative = Alternative):\n",
      "“cannot compute exact p-value with ties”Warning message in wilcox.test.default(nrg[sgo.yes], nrg[sgo.no], alternative = Alternative):\n",
      "“cannot compute exact p-value with ties”Warning message in wilcox.test.default(nrg[sgo.yes], nrg[sgo.no], alternative = Alternative):\n",
      "“cannot compute exact p-value with ties”Warning message in wilcox.test.default(nrg[sgo.yes], nrg[sgo.no], alternative = Alternative):\n",
      "“cannot compute exact p-value with ties”Warning message in wilcox.test.default(nrg[sgo.yes], nrg[sgo.no], alternative = Alternative):\n",
      "“cannot compute exact p-value with ties”Warning message in wilcox.test.default(nrg[sgo.yes], nrg[sgo.no], alternative = Alternative):\n",
      "“cannot compute exact p-value with ties”Warning message in wilcox.test.default(nrg[sgo.yes], nrg[sgo.no], alternative = Alternative):\n",
      "“cannot compute exact p-value with ties”Warning message in wilcox.test.default(nrg[sgo.yes], nrg[sgo.no], alternative = Alternative):\n",
      "“cannot compute exact p-value with ties”Warning message in wilcox.test.default(nrg[sgo.yes], nrg[sgo.no], alternative = Alternative):\n",
      "“cannot compute exact p-value with ties”Warning message in wilcox.test.default(nrg[sgo.yes], nrg[sgo.no], alternative = Alternative):\n",
      "“cannot compute exact p-value with ties”Warning message in wilcox.test.default(nrg[sgo.yes], nrg[sgo.no], alternative = Alternative):\n",
      "“cannot compute exact p-value with ties”Warning message in wilcox.test.default(nrg[sgo.yes], nrg[sgo.no], alternative = Alternative):\n",
      "“cannot compute exact p-value with ties”Warning message in wilcox.test.default(nrg[sgo.yes], nrg[sgo.no], alternative = Alternative):\n",
      "“cannot compute exact p-value with ties”Warning message in wilcox.test.default(nrg[sgo.yes], nrg[sgo.no], alternative = Alternative):\n",
      "“cannot compute exact p-value with ties”Warning message in wilcox.test.default(nrg[sgo.yes], nrg[sgo.no], alternative = Alternative):\n",
      "“cannot compute exact p-value with ties”replicate 19\n",
      "Warning message in wilcox.test.default(nrg[sgo.yes], nrg[sgo.no], alternative = Alternative):\n",
      "“cannot compute exact p-value with ties”Warning message in wilcox.test.default(nrg[sgo.yes], nrg[sgo.no], alternative = Alternative):\n",
      "“cannot compute exact p-value with ties”Warning message in wilcox.test.default(nrg[sgo.yes], nrg[sgo.no], alternative = Alternative):\n",
      "“cannot compute exact p-value with ties”Warning message in wilcox.test.default(nrg[sgo.yes], nrg[sgo.no], alternative = Alternative):\n",
      "“cannot compute exact p-value with ties”Warning message in wilcox.test.default(nrg[sgo.yes], nrg[sgo.no], alternative = Alternative):\n",
      "“cannot compute exact p-value with ties”Warning message in wilcox.test.default(nrg[sgo.yes], nrg[sgo.no], alternative = Alternative):\n",
      "“cannot compute exact p-value with ties”Warning message in wilcox.test.default(nrg[sgo.yes], nrg[sgo.no], alternative = Alternative):\n",
      "“cannot compute exact p-value with ties”Warning message in wilcox.test.default(nrg[sgo.yes], nrg[sgo.no], alternative = Alternative):\n",
      "“cannot compute exact p-value with ties”Warning message in wilcox.test.default(nrg[sgo.yes], nrg[sgo.no], alternative = Alternative):\n",
      "“cannot compute exact p-value with ties”Warning message in wilcox.test.default(nrg[sgo.yes], nrg[sgo.no], alternative = Alternative):\n",
      "“cannot compute exact p-value with ties”Warning message in wilcox.test.default(nrg[sgo.yes], nrg[sgo.no], alternative = Alternative):\n",
      "“cannot compute exact p-value with ties”Warning message in wilcox.test.default(nrg[sgo.yes], nrg[sgo.no], alternative = Alternative):\n",
      "“cannot compute exact p-value with ties”Warning message in wilcox.test.default(nrg[sgo.yes], nrg[sgo.no], alternative = Alternative):\n",
      "“cannot compute exact p-value with ties”Warning message in wilcox.test.default(nrg[sgo.yes], nrg[sgo.no], alternative = Alternative):\n",
      "“cannot compute exact p-value with ties”Warning message in wilcox.test.default(nrg[sgo.yes], nrg[sgo.no], alternative = Alternative):\n",
      "“cannot compute exact p-value with ties”Warning message in wilcox.test.default(nrg[sgo.yes], nrg[sgo.no], alternative = Alternative):\n",
      "“cannot compute exact p-value with ties”Warning message in wilcox.test.default(nrg[sgo.yes], nrg[sgo.no], alternative = Alternative):\n",
      "“cannot compute exact p-value with ties”Warning message in wilcox.test.default(nrg[sgo.yes], nrg[sgo.no], alternative = Alternative):\n",
      "“cannot compute exact p-value with ties”Warning message in wilcox.test.default(nrg[sgo.yes], nrg[sgo.no], alternative = Alternative):\n",
      "“cannot compute exact p-value with ties”Warning message in wilcox.test.default(nrg[sgo.yes], nrg[sgo.no], alternative = Alternative):\n"
     ]
    },
    {
     "name": "stderr",
     "output_type": "stream",
     "text": [
      "“cannot compute exact p-value with ties”Warning message in wilcox.test.default(nrg[sgo.yes], nrg[sgo.no], alternative = Alternative):\n",
      "“cannot compute exact p-value with ties”Warning message in wilcox.test.default(nrg[sgo.yes], nrg[sgo.no], alternative = Alternative):\n",
      "“cannot compute exact p-value with ties”Warning message in wilcox.test.default(nrg[sgo.yes], nrg[sgo.no], alternative = Alternative):\n",
      "“cannot compute exact p-value with ties”Warning message in wilcox.test.default(nrg[sgo.yes], nrg[sgo.no], alternative = Alternative):\n",
      "“cannot compute exact p-value with ties”Warning message in wilcox.test.default(nrg[sgo.yes], nrg[sgo.no], alternative = Alternative):\n",
      "“cannot compute exact p-value with ties”Warning message in wilcox.test.default(nrg[sgo.yes], nrg[sgo.no], alternative = Alternative):\n",
      "“cannot compute exact p-value with ties”Warning message in wilcox.test.default(nrg[sgo.yes], nrg[sgo.no], alternative = Alternative):\n",
      "“cannot compute exact p-value with ties”Warning message in wilcox.test.default(nrg[sgo.yes], nrg[sgo.no], alternative = Alternative):\n",
      "“cannot compute exact p-value with ties”Warning message in wilcox.test.default(nrg[sgo.yes], nrg[sgo.no], alternative = Alternative):\n",
      "“cannot compute exact p-value with ties”Warning message in wilcox.test.default(nrg[sgo.yes], nrg[sgo.no], alternative = Alternative):\n",
      "“cannot compute exact p-value with ties”Warning message in wilcox.test.default(nrg[sgo.yes], nrg[sgo.no], alternative = Alternative):\n",
      "“cannot compute exact p-value with ties”Warning message in wilcox.test.default(nrg[sgo.yes], nrg[sgo.no], alternative = Alternative):\n",
      "“cannot compute exact p-value with ties”Warning message in wilcox.test.default(nrg[sgo.yes], nrg[sgo.no], alternative = Alternative):\n",
      "“cannot compute exact p-value with ties”Warning message in wilcox.test.default(nrg[sgo.yes], nrg[sgo.no], alternative = Alternative):\n",
      "“cannot compute exact p-value with ties”Warning message in wilcox.test.default(nrg[sgo.yes], nrg[sgo.no], alternative = Alternative):\n",
      "“cannot compute exact p-value with ties”Warning message in wilcox.test.default(nrg[sgo.yes], nrg[sgo.no], alternative = Alternative):\n",
      "“cannot compute exact p-value with ties”Warning message in wilcox.test.default(nrg[sgo.yes], nrg[sgo.no], alternative = Alternative):\n",
      "“cannot compute exact p-value with ties”Warning message in wilcox.test.default(nrg[sgo.yes], nrg[sgo.no], alternative = Alternative):\n",
      "“cannot compute exact p-value with ties”Warning message in wilcox.test.default(nrg[sgo.yes], nrg[sgo.no], alternative = Alternative):\n",
      "“cannot compute exact p-value with ties”Warning message in wilcox.test.default(nrg[sgo.yes], nrg[sgo.no], alternative = Alternative):\n",
      "“cannot compute exact p-value with ties”Warning message in wilcox.test.default(nrg[sgo.yes], nrg[sgo.no], alternative = Alternative):\n",
      "“cannot compute exact p-value with ties”Warning message in wilcox.test.default(nrg[sgo.yes], nrg[sgo.no], alternative = Alternative):\n",
      "“cannot compute exact p-value with ties”Warning message in wilcox.test.default(nrg[sgo.yes], nrg[sgo.no], alternative = Alternative):\n",
      "“cannot compute exact p-value with ties”replicate 20\n",
      "Warning message in wilcox.test.default(nrg[sgo.yes], nrg[sgo.no], alternative = Alternative):\n",
      "“cannot compute exact p-value with ties”Warning message in wilcox.test.default(nrg[sgo.yes], nrg[sgo.no], alternative = Alternative):\n",
      "“cannot compute exact p-value with ties”Warning message in wilcox.test.default(nrg[sgo.yes], nrg[sgo.no], alternative = Alternative):\n",
      "“cannot compute exact p-value with ties”Warning message in wilcox.test.default(nrg[sgo.yes], nrg[sgo.no], alternative = Alternative):\n",
      "“cannot compute exact p-value with ties”Warning message in wilcox.test.default(nrg[sgo.yes], nrg[sgo.no], alternative = Alternative):\n",
      "“cannot compute exact p-value with ties”Warning message in wilcox.test.default(nrg[sgo.yes], nrg[sgo.no], alternative = Alternative):\n",
      "“cannot compute exact p-value with ties”Warning message in wilcox.test.default(nrg[sgo.yes], nrg[sgo.no], alternative = Alternative):\n",
      "“cannot compute exact p-value with ties”Warning message in wilcox.test.default(nrg[sgo.yes], nrg[sgo.no], alternative = Alternative):\n",
      "“cannot compute exact p-value with ties”Warning message in wilcox.test.default(nrg[sgo.yes], nrg[sgo.no], alternative = Alternative):\n",
      "“cannot compute exact p-value with ties”Warning message in wilcox.test.default(nrg[sgo.yes], nrg[sgo.no], alternative = Alternative):\n",
      "“cannot compute exact p-value with ties”Warning message in wilcox.test.default(nrg[sgo.yes], nrg[sgo.no], alternative = Alternative):\n",
      "“cannot compute exact p-value with ties”Warning message in wilcox.test.default(nrg[sgo.yes], nrg[sgo.no], alternative = Alternative):\n",
      "“cannot compute exact p-value with ties”Warning message in wilcox.test.default(nrg[sgo.yes], nrg[sgo.no], alternative = Alternative):\n",
      "“cannot compute exact p-value with ties”Warning message in wilcox.test.default(nrg[sgo.yes], nrg[sgo.no], alternative = Alternative):\n",
      "“cannot compute exact p-value with ties”Warning message in wilcox.test.default(nrg[sgo.yes], nrg[sgo.no], alternative = Alternative):\n",
      "“cannot compute exact p-value with ties”Warning message in wilcox.test.default(nrg[sgo.yes], nrg[sgo.no], alternative = Alternative):\n",
      "“cannot compute exact p-value with ties”Warning message in wilcox.test.default(nrg[sgo.yes], nrg[sgo.no], alternative = Alternative):\n",
      "“cannot compute exact p-value with ties”Warning message in wilcox.test.default(nrg[sgo.yes], nrg[sgo.no], alternative = Alternative):\n",
      "“cannot compute exact p-value with ties”Warning message in wilcox.test.default(nrg[sgo.yes], nrg[sgo.no], alternative = Alternative):\n",
      "“cannot compute exact p-value with ties”Warning message in wilcox.test.default(nrg[sgo.yes], nrg[sgo.no], alternative = Alternative):\n",
      "“cannot compute exact p-value with ties”Warning message in wilcox.test.default(nrg[sgo.yes], nrg[sgo.no], alternative = Alternative):\n",
      "“cannot compute exact p-value with ties”Warning message in wilcox.test.default(nrg[sgo.yes], nrg[sgo.no], alternative = Alternative):\n",
      "“cannot compute exact p-value with ties”Warning message in wilcox.test.default(nrg[sgo.yes], nrg[sgo.no], alternative = Alternative):\n",
      "“cannot compute exact p-value with ties”Warning message in wilcox.test.default(nrg[sgo.yes], nrg[sgo.no], alternative = Alternative):\n",
      "“cannot compute exact p-value with ties”Warning message in wilcox.test.default(nrg[sgo.yes], nrg[sgo.no], alternative = Alternative):\n",
      "“cannot compute exact p-value with ties”Warning message in wilcox.test.default(nrg[sgo.yes], nrg[sgo.no], alternative = Alternative):\n",
      "“cannot compute exact p-value with ties”Warning message in wilcox.test.default(nrg[sgo.yes], nrg[sgo.no], alternative = Alternative):\n",
      "“cannot compute exact p-value with ties”Warning message in wilcox.test.default(nrg[sgo.yes], nrg[sgo.no], alternative = Alternative):\n",
      "“cannot compute exact p-value with ties”Warning message in wilcox.test.default(nrg[sgo.yes], nrg[sgo.no], alternative = Alternative):\n",
      "“cannot compute exact p-value with ties”Warning message in wilcox.test.default(nrg[sgo.yes], nrg[sgo.no], alternative = Alternative):\n",
      "“cannot compute exact p-value with ties”Warning message in wilcox.test.default(nrg[sgo.yes], nrg[sgo.no], alternative = Alternative):\n",
      "“cannot compute exact p-value with ties”Warning message in wilcox.test.default(nrg[sgo.yes], nrg[sgo.no], alternative = Alternative):\n",
      "“cannot compute exact p-value with ties”4 GO terms at 10% FDR\n"
     ]
    }
   ],
   "source": [
    "gomwuStats(input, goDatabase, goAnnotations, goDivision,\n",
    "\tperlPath=\"perl\", # replace with full path to perl executable if it is not in your system's PATH already\n",
    "\tlargest=0.1,  # a GO category will not be considered if it contains more than this fraction of the total number of genes\n",
    "\tsmallest=5,   # a GO category should contain at least this many genes to be considered\n",
    "\tclusterCutHeight=0.25, # threshold for merging similar (gene-sharing) terms. See README for details.\n",
    "\t#Alternative=\"g\" # by default the MWU test is two-tailed; specify \"g\" or \"l\" of you want to test for \"greater\" or \"less\" instead. \n",
    "\tModule=TRUE,Alternative=\"g\" # un-remark this if you are analyzing a SIGNED WGCNA module (values: 0 for not in module genes, kME for in-module genes). In the call to gomwuPlot below, specify absValue=0.001 (count number of \"good genes\" that fall into the module)\n",
    "\t#Module=TRUE # un-remark this if you are analyzing an UNSIGNED WGCNA module \n",
    ")"
   ]
  },
  {
   "cell_type": "markdown",
   "metadata": {},
   "source": [
    "Also, below you can adjust the pval levels to determine which GO terms under which thresholds to plot. They need to be adjusted depending on the number of significant GO terms because otherwise there will be too many/too few to display. See output images for thresholds if you are interested in replicating figures from the paper. Also, be sure to change the absValue threshold for \"good genes\" depending on type of analysis you are doing (-log pvalues, LFCs, Fisher, WGCNA modules, etc.) See package instructions. Remember to change the name of the output file and to change settings in both code chunks (one for saving, one for displaying)."
   ]
  },
  {
   "cell_type": "code",
   "execution_count": 72,
   "metadata": {},
   "outputs": [
    {
     "name": "stderr",
     "output_type": "stream",
     "text": [
      "Warning message in plot.formula(c(1:top) ~ c(1:top), type = \"n\", axes = F, xlab = \"\", :\n",
      "“the formula 'c(1:top) ~ c(1:top)' is treated as 'c(1:top) ~ 1'”Warning message in plot.formula(c(1:top) ~ c(1:top), type = \"n\", axes = F, xlab = \"\", :\n",
      "“the formula 'c(1:top) ~ c(1:top)' is treated as 'c(1:top) ~ 1'”GO terms dispayed: 4\n",
      "\"Good genes\" accounted for:  5 out of 11 ( 45% )\n"
     ]
    },
    {
     "data": {
      "text/html": [
       "<strong>png:</strong> 2"
      ],
      "text/latex": [
       "\\textbf{png:} 2"
      ],
      "text/markdown": [
       "**png:** 2"
      ],
      "text/plain": [
       "png \n",
       "  2 "
      ]
     },
     "metadata": {},
     "output_type": "display_data"
    },
    {
     "name": "stderr",
     "output_type": "stream",
     "text": [
      "Warning message in plot.formula(c(1:top) ~ c(1:top), type = \"n\", axes = F, xlab = \"\", :\n",
      "“the formula 'c(1:top) ~ c(1:top)' is treated as 'c(1:top) ~ 1'”Warning message in plot.formula(c(1:top) ~ c(1:top), type = \"n\", axes = F, xlab = \"\", :\n",
      "“the formula 'c(1:top) ~ c(1:top)' is treated as 'c(1:top) ~ 1'”GO terms dispayed: 4\n",
      "\"Good genes\" accounted for:  5 out of 11 ( 45% )\n"
     ]
    },
    {
     "data": {
      "image/png": "[encoded data removed]",
      "text/plain": [
       "plot without title"
      ]
     },
     "metadata": {},
     "output_type": "display_data"
    }
   ],
   "source": [
    "#save plot\n",
    "png(filename=\"../vis/GO_MWU_WGCNA_salmon_annot_1e-50_CC.png\", pointsize=60, height=2200, width=2500)\n",
    "results=gomwuPlot(input,goAnnotations,goDivision,\n",
    "\t#absValue=-log(0.05,10),  # genes with the measure value exceeding this will be counted as \"good genes\". This setting is for signed log-pvalues. Specify absValue=0.001 if you are doing Fisher's exact test for standard GO enrichment or analyzing a WGCNA module (all non-zero genes = \"good genes\").\n",
    "    absValue=0.001, #if doing Fisher, WGCNA module, or are using log2-fold changes\n",
    "\tlevel1=0.10, # FDR threshold for plotting. Specify level1=1 to plot all GO categories containing genes exceeding the absValue.\n",
    "\tlevel2=0.05, # FDR cutoff to print in regular (not italic) font.\n",
    "\tlevel3=0.01, # FDR cutoff to print in large bold font.\n",
    "\ttxtsize=1.2,    # decrease to fit more on one page, or increase (after rescaling the plot so the tree fits the text) for better \"word cloud\" effect\n",
    "\ttreeHeight=0.5, # height of the hierarchical clustering tree\n",
    "\t#colors=c(\"gray0\",\"gray0\",\"gray57\",\"gray57\") # these are default colors, un-remar and change if needed\n",
    ")\n",
    "dev.off()\n",
    "\n",
    "#show plot\n",
    "results=gomwuPlot(input,goAnnotations,goDivision,\n",
    "    #absValue=-log(0.05,10),  # genes with the measure value exceeding this will be counted as \"good genes\". This setting is for signed log-pvalues. Specify absValue=0.001 if you are doing Fisher's exact test for standard GO enrichment or analyzing a WGCNA module (all non-zero genes = \"good genes\").\n",
    "    absValue=0.001, #if doing Fisher, WGCNA module, or are using log2-fold changes\n",
    "\tlevel1=0.10, # FDR threshold for plotting. Specify level1=1 to plot all GO categories containing genes exceeding the absValue.\n",
    "\tlevel2=0.05, # FDR cutoff to print in regular (not italic) font.\n",
    "\tlevel3=0.01, # FDR cutoff to print in large bold font.\n",
    "\ttxtsize=1.2,    # decrease to fit more on one page, or increase (after rescaling the plot so the tree fits the text) for better \"word cloud\" effect\n",
    "\ttreeHeight=0.5, # height of the hierarchical clustering tree\n",
    "\t#colors=c(\"gray0\",\"gray0\",\"gray57\",\"gray57\") # these are default colors, un-remar and change if needed\n",
    ")\n"
   ]
  },
  {
   "cell_type": "markdown",
   "metadata": {},
   "source": [
    "Here I am going to try to make a heatmap of up or downregulated biological processes. The cells will be colored by delta rank.\n",
    "\n",
    "*I don't think that coloring by delta rank is appropriate when there is a really asymmetrical response, like in the absent range PvC comparison. It shows a lot of functions as going down, but I think that is just an effect of there being a lot more going up, and thus the delta ranks are skewed negative.*"
   ]
  },
  {
   "cell_type": "code",
   "execution_count": null,
   "metadata": {},
   "outputs": [],
   "source": [
    "native.PvC.MWU <-   read.table(\"MWU_BP_GO_MWU_native.PvC_pval.csv\", header=TRUE, stringsAsFactors=FALSE)\n",
    "invasive.PvC.MWU <- read.table(\"MWU_BP_GO_MWU_invasive.PvC_pval.csv\", header=TRUE, stringsAsFactors=FALSE)\n",
    "absent.PvC.MWU <-   read.table(\"MWU_BP_GO_MWU_absent.PvC_pval.csv\", header=TRUE, stringsAsFactors=FALSE)"
   ]
  },
  {
   "cell_type": "code",
   "execution_count": null,
   "metadata": {},
   "outputs": [],
   "source": [
    "dim(native.PvC.MWU)\n",
    "dim(invasive.PvC.MWU)\n",
    "dim(absent.PvC.MWU)"
   ]
  },
  {
   "cell_type": "code",
   "execution_count": null,
   "metadata": {},
   "outputs": [],
   "source": [
    "native.PvC.MWU   <- native.PvC.MWU[native.PvC.MWU[,7]<0.001,]\n",
    "invasive.PvC.MWU <- invasive.PvC.MWU[invasive.PvC.MWU[,7]<0.001,]\n",
    "absent.PvC.MWU   <- absent.PvC.MWU[absent.PvC.MWU[,7]<0.001,]"
   ]
  },
  {
   "cell_type": "code",
   "execution_count": null,
   "metadata": {},
   "outputs": [],
   "source": [
    "dim(native.PvC.MWU)\n",
    "dim(invasive.PvC.MWU)\n",
    "dim(absent.PvC.MWU)"
   ]
  },
  {
   "cell_type": "code",
   "execution_count": null,
   "metadata": {},
   "outputs": [],
   "source": [
    "native.PvC.MWU   <- native.PvC.MWU[,c(1,6)]\n",
    "invasive.PvC.MWU <- invasive.PvC.MWU[,c(1,6)]\n",
    "absent.PvC.MWU   <- absent.PvC.MWU[,c(1,6)]"
   ]
  },
  {
   "cell_type": "code",
   "execution_count": null,
   "metadata": {},
   "outputs": [],
   "source": [
    "head(native.PvC.MWU)\n",
    "head(invasive.PvC.MWU)\n",
    "head(absent.PvC.MWU)"
   ]
  },
  {
   "cell_type": "code",
   "execution_count": null,
   "metadata": {},
   "outputs": [],
   "source": [
    "all <- union(native.PvC.MWU$name, invasive.PvC.MWU$name)\n",
    "all <- union(all, absent.PvC.MWU$name)\n",
    "merged <- data.frame(BP=all, nat=0, inv=0, abs=0)\n",
    "head(merged)\n",
    "dim(merged)"
   ]
  },
  {
   "cell_type": "code",
   "execution_count": null,
   "metadata": {},
   "outputs": [],
   "source": [
    "for (i in 1:nrow(merged)){\n",
    "    if (merged[i,1] %in% native.PvC.MWU$name){\n",
    "        merged[i,2] <- native.PvC.MWU[native.PvC.MWU[,2]==merged[i,1],1]      \n",
    "    } else {\n",
    "        merged[i,2] <- 0\n",
    "    }\n",
    "    if (merged[i,1] %in% invasive.PvC.MWU$name){\n",
    "        merged[i,3] <- invasive.PvC.MWU[invasive.PvC.MWU[,2]==merged[i,1],1] \n",
    "    } else {\n",
    "        merged[i,3] <- 0\n",
    "    }\n",
    "    if (merged[i,1] %in% absent.PvC.MWU$name){\n",
    "        merged[i,4] <- absent.PvC.MWU[absent.PvC.MWU[,2]==merged[i,1],1]\n",
    "    } else {\n",
    "        merged[i,4] <- 0\n",
    "    }\n",
    "}"
   ]
  },
  {
   "cell_type": "code",
   "execution_count": null,
   "metadata": {},
   "outputs": [],
   "source": [
    "options(repr.matrix.max.rows=120, repr.matrix.max.cols=10)\n",
    "merged"
   ]
  },
  {
   "cell_type": "code",
   "execution_count": null,
   "metadata": {},
   "outputs": [],
   "source": [
    "require(pheatmap)\n",
    "require(RColorBrewer)"
   ]
  },
  {
   "cell_type": "code",
   "execution_count": null,
   "metadata": {},
   "outputs": [],
   "source": [
    "rownames(merged) <- merged[,1]\n",
    "merged <- merged[,-c(1)]\n",
    "head(merged)"
   ]
  },
  {
   "cell_type": "code",
   "execution_count": null,
   "metadata": {},
   "outputs": [],
   "source": [
    "paletteLength <- 100\n",
    "myColor <- colorRampPalette(c(\"blue\", \"white\", \"red\"))(paletteLength)\n",
    "# length(breaks) == length(paletteLength) + 1\n",
    "# use floor and ceiling to deal with even/odd length pallettelengths\n",
    "myBreaks <- c(seq(min(na.omit(merged)), 0, length.out=ceiling(paletteLength/2) + 1), \n",
    "              seq(max(na.omit(merged))/paletteLength, max(na.omit(merged)), length.out=floor(paletteLength/2)))\n",
    "#png(filename=\"../vis/test.png\", pointsize=60, height=2200, width=2500)\n",
    "pheatmap(\n",
    "    mat = merged,\n",
    "    cluster_rows = FALSE,\n",
    "    cluster_cols = FALSE,\n",
    "    breaks = myBreaks,\n",
    "    color = myColor,\n",
    "    filename = \"test.png\",\n",
    "    cellheight = 10\n",
    ")\n",
    "#dev.off()"
   ]
  },
  {
   "cell_type": "code",
   "execution_count": null,
   "metadata": {},
   "outputs": [],
   "source": [
    "?pheatmap"
   ]
  }
 ],
 "metadata": {
  "kernelspec": {
   "display_name": "R",
   "language": "R",
   "name": "ir"
  },
  "language_info": {
   "codemirror_mode": "r",
   "file_extension": ".r",
   "mimetype": "text/x-r-source",
   "name": "R",
   "pygments_lexer": "r",
   "version": "3.6.1"
  }
 },
 "nbformat": 4,
 "nbformat_minor": 2
}
