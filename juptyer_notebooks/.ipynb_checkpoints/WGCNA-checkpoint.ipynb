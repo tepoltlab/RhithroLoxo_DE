{
 "cells": [
  {
   "cell_type": "markdown",
   "metadata": {},
   "source": [
    "### WGCNA"
   ]
  },
  {
   "cell_type": "markdown",
   "metadata": {},
   "source": [
    "Load in the package."
   ]
  },
  {
   "cell_type": "code",
   "execution_count": 1,
   "metadata": {},
   "outputs": [
    {
     "name": "stderr",
     "output_type": "stream",
     "text": [
      "Loading required package: WGCNA\n",
      "Loading required package: dynamicTreeCut\n",
      "Loading required package: fastcluster\n",
      "\n",
      "Attaching package: ‘fastcluster’\n",
      "\n",
      "The following object is masked from ‘package:stats’:\n",
      "\n",
      "    hclust\n",
      "\n",
      "\n",
      "\n",
      "Attaching package: ‘WGCNA’\n",
      "\n",
      "The following object is masked from ‘package:stats’:\n",
      "\n",
      "    cor\n",
      "\n"
     ]
    }
   ],
   "source": [
    "require(WGCNA)"
   ]
  },
  {
   "cell_type": "markdown",
   "metadata": {},
   "source": [
    "Read in the data. "
   ]
  },
  {
   "cell_type": "code",
   "execution_count": 59,
   "metadata": {},
   "outputs": [],
   "source": [
    "path_to_main <- \"/vortexfs1/scratch/ztobias/RhithroLoxo_DE/\" #change accordingly based on parent file structure\n",
    "path_to_data <- \"outputs/WGCNA_in.tsv\"\n",
    "path <- paste(path_to_main,path_to_data,sep=\"\")\n",
    "vsd <- read.table(path, sep=\"\\t\")"
   ]
  },
  {
   "cell_type": "markdown",
   "metadata": {},
   "source": [
    "Take a look."
   ]
  },
  {
   "cell_type": "code",
   "execution_count": 60,
   "metadata": {},
   "outputs": [
    {
     "data": {
      "text/html": [
       "<table>\n",
       "<thead><tr><th></th><th scope=col>AP_C_1</th><th scope=col>AP_C_2</th><th scope=col>AP_C_3</th><th scope=col>AP_C_4</th><th scope=col>AP_C_5</th><th scope=col>AP_C_6</th><th scope=col>AP_P_1</th><th scope=col>AP_P_2</th><th scope=col>AP_P_3</th><th scope=col>AP_P_6</th><th scope=col>...</th><th scope=col>NJ_P_7</th><th scope=col>SC_C_12</th><th scope=col>SC_C_14</th><th scope=col>SC_C_2</th><th scope=col>SC_C_6</th><th scope=col>SC_C_7</th><th scope=col>SC_C_9</th><th scope=col>SC_P_1</th><th scope=col>SC_P_2</th><th scope=col>SC_P_3</th></tr></thead>\n",
       "<tbody>\n",
       "\t<tr><th scope=row>TRINITY_DN38930_c0_g1_i1</th><td>6.411657</td><td>7.175317</td><td>6.039434</td><td>5.862486</td><td>5.851981</td><td>7.450845</td><td>6.158283</td><td>6.163518</td><td>6.677404</td><td>6.098833</td><td>...     </td><td>6.147593</td><td>5.346693</td><td>6.074875</td><td>6.808186</td><td>5.406708</td><td>5.596498</td><td>5.638916</td><td>5.954354</td><td>6.971980</td><td>5.916278</td></tr>\n",
       "\t<tr><th scope=row>TRINITY_DN27848_c0_g1_i1</th><td>5.097416</td><td>6.295862</td><td>4.788900</td><td>5.300347</td><td>6.083875</td><td>3.463504</td><td>3.882901</td><td>5.598166</td><td>1.345159</td><td>5.840581</td><td>...     </td><td>4.518735</td><td>5.371441</td><td>5.142826</td><td>4.580498</td><td>5.259826</td><td>5.228325</td><td>5.366464</td><td>5.536621</td><td>2.509471</td><td>5.482968</td></tr>\n",
       "\t<tr><th scope=row>TRINITY_DN134395_c0_g1_i1</th><td>6.591382</td><td>6.742076</td><td>3.316072</td><td>3.374505</td><td>5.131866</td><td>2.637417</td><td>2.818542</td><td>1.345159</td><td>3.150822</td><td>1.345159</td><td>...     </td><td>3.679819</td><td>2.798914</td><td>6.041032</td><td>4.923837</td><td>2.379695</td><td>5.450125</td><td>2.966648</td><td>2.175039</td><td>2.952383</td><td>3.713120</td></tr>\n",
       "\t<tr><th scope=row>TRINITY_DN144418_c0_g1_i1</th><td>6.641201</td><td>7.345088</td><td>5.224044</td><td>6.728233</td><td>7.037280</td><td>4.059616</td><td>5.358515</td><td>6.508278</td><td>3.498351</td><td>7.659956</td><td>...     </td><td>7.087652</td><td>7.183003</td><td>4.738101</td><td>4.983558</td><td>6.428366</td><td>5.287080</td><td>6.842040</td><td>7.295717</td><td>3.736541</td><td>6.449941</td></tr>\n",
       "\t<tr><th scope=row>TRINITY_DN25283_c0_g1_i1</th><td>4.584832</td><td>4.899682</td><td>5.023019</td><td>5.263653</td><td>5.256263</td><td>4.902867</td><td>5.077794</td><td>4.809801</td><td>5.001930</td><td>5.402981</td><td>...     </td><td>4.965143</td><td>5.160318</td><td>5.915889</td><td>5.095978</td><td>4.943688</td><td>5.103030</td><td>5.029667</td><td>5.760621</td><td>3.524338</td><td>5.118339</td></tr>\n",
       "\t<tr><th scope=row>TRINITY_DN99330_c0_g1_i1</th><td>3.996612</td><td>3.423010</td><td>3.316072</td><td>3.299423</td><td>3.743915</td><td>4.322433</td><td>4.261995</td><td>3.027834</td><td>2.660868</td><td>3.328566</td><td>...     </td><td>3.773028</td><td>3.093049</td><td>3.529166</td><td>4.415801</td><td>3.824671</td><td>3.300999</td><td>3.342493</td><td>3.261957</td><td>3.270816</td><td>3.340232</td></tr>\n",
       "</tbody>\n",
       "</table>\n"
      ],
      "text/latex": [
       "\\begin{tabular}{r|lllllllllllllllllllllllllllllllllllllllllllllllllllllllllllllllllllllllllllllllll}\n",
       "  & AP\\_C\\_1 & AP\\_C\\_2 & AP\\_C\\_3 & AP\\_C\\_4 & AP\\_C\\_5 & AP\\_C\\_6 & AP\\_P\\_1 & AP\\_P\\_2 & AP\\_P\\_3 & AP\\_P\\_6 & ... & NJ\\_P\\_7 & SC\\_C\\_12 & SC\\_C\\_14 & SC\\_C\\_2 & SC\\_C\\_6 & SC\\_C\\_7 & SC\\_C\\_9 & SC\\_P\\_1 & SC\\_P\\_2 & SC\\_P\\_3\\\\\n",
       "\\hline\n",
       "\tTRINITY\\_DN38930\\_c0\\_g1\\_i1 & 6.411657 & 7.175317 & 6.039434 & 5.862486 & 5.851981 & 7.450845 & 6.158283 & 6.163518 & 6.677404 & 6.098833 & ...      & 6.147593 & 5.346693 & 6.074875 & 6.808186 & 5.406708 & 5.596498 & 5.638916 & 5.954354 & 6.971980 & 5.916278\\\\\n",
       "\tTRINITY\\_DN27848\\_c0\\_g1\\_i1 & 5.097416 & 6.295862 & 4.788900 & 5.300347 & 6.083875 & 3.463504 & 3.882901 & 5.598166 & 1.345159 & 5.840581 & ...      & 4.518735 & 5.371441 & 5.142826 & 4.580498 & 5.259826 & 5.228325 & 5.366464 & 5.536621 & 2.509471 & 5.482968\\\\\n",
       "\tTRINITY\\_DN134395\\_c0\\_g1\\_i1 & 6.591382 & 6.742076 & 3.316072 & 3.374505 & 5.131866 & 2.637417 & 2.818542 & 1.345159 & 3.150822 & 1.345159 & ...      & 3.679819 & 2.798914 & 6.041032 & 4.923837 & 2.379695 & 5.450125 & 2.966648 & 2.175039 & 2.952383 & 3.713120\\\\\n",
       "\tTRINITY\\_DN144418\\_c0\\_g1\\_i1 & 6.641201 & 7.345088 & 5.224044 & 6.728233 & 7.037280 & 4.059616 & 5.358515 & 6.508278 & 3.498351 & 7.659956 & ...      & 7.087652 & 7.183003 & 4.738101 & 4.983558 & 6.428366 & 5.287080 & 6.842040 & 7.295717 & 3.736541 & 6.449941\\\\\n",
       "\tTRINITY\\_DN25283\\_c0\\_g1\\_i1 & 4.584832 & 4.899682 & 5.023019 & 5.263653 & 5.256263 & 4.902867 & 5.077794 & 4.809801 & 5.001930 & 5.402981 & ...      & 4.965143 & 5.160318 & 5.915889 & 5.095978 & 4.943688 & 5.103030 & 5.029667 & 5.760621 & 3.524338 & 5.118339\\\\\n",
       "\tTRINITY\\_DN99330\\_c0\\_g1\\_i1 & 3.996612 & 3.423010 & 3.316072 & 3.299423 & 3.743915 & 4.322433 & 4.261995 & 3.027834 & 2.660868 & 3.328566 & ...      & 3.773028 & 3.093049 & 3.529166 & 4.415801 & 3.824671 & 3.300999 & 3.342493 & 3.261957 & 3.270816 & 3.340232\\\\\n",
       "\\end{tabular}\n"
      ],
      "text/markdown": [
       "\n",
       "| <!--/--> | AP_C_1 | AP_C_2 | AP_C_3 | AP_C_4 | AP_C_5 | AP_C_6 | AP_P_1 | AP_P_2 | AP_P_3 | AP_P_6 | ... | NJ_P_7 | SC_C_12 | SC_C_14 | SC_C_2 | SC_C_6 | SC_C_7 | SC_C_9 | SC_P_1 | SC_P_2 | SC_P_3 |\n",
       "|---|---|---|---|---|---|---|---|---|---|---|---|---|---|---|---|---|---|---|---|---|---|\n",
       "| TRINITY_DN38930_c0_g1_i1 | 6.411657 | 7.175317 | 6.039434 | 5.862486 | 5.851981 | 7.450845 | 6.158283 | 6.163518 | 6.677404 | 6.098833 | ...      | 6.147593 | 5.346693 | 6.074875 | 6.808186 | 5.406708 | 5.596498 | 5.638916 | 5.954354 | 6.971980 | 5.916278 |\n",
       "| TRINITY_DN27848_c0_g1_i1 | 5.097416 | 6.295862 | 4.788900 | 5.300347 | 6.083875 | 3.463504 | 3.882901 | 5.598166 | 1.345159 | 5.840581 | ...      | 4.518735 | 5.371441 | 5.142826 | 4.580498 | 5.259826 | 5.228325 | 5.366464 | 5.536621 | 2.509471 | 5.482968 |\n",
       "| TRINITY_DN134395_c0_g1_i1 | 6.591382 | 6.742076 | 3.316072 | 3.374505 | 5.131866 | 2.637417 | 2.818542 | 1.345159 | 3.150822 | 1.345159 | ...      | 3.679819 | 2.798914 | 6.041032 | 4.923837 | 2.379695 | 5.450125 | 2.966648 | 2.175039 | 2.952383 | 3.713120 |\n",
       "| TRINITY_DN144418_c0_g1_i1 | 6.641201 | 7.345088 | 5.224044 | 6.728233 | 7.037280 | 4.059616 | 5.358515 | 6.508278 | 3.498351 | 7.659956 | ...      | 7.087652 | 7.183003 | 4.738101 | 4.983558 | 6.428366 | 5.287080 | 6.842040 | 7.295717 | 3.736541 | 6.449941 |\n",
       "| TRINITY_DN25283_c0_g1_i1 | 4.584832 | 4.899682 | 5.023019 | 5.263653 | 5.256263 | 4.902867 | 5.077794 | 4.809801 | 5.001930 | 5.402981 | ...      | 4.965143 | 5.160318 | 5.915889 | 5.095978 | 4.943688 | 5.103030 | 5.029667 | 5.760621 | 3.524338 | 5.118339 |\n",
       "| TRINITY_DN99330_c0_g1_i1 | 3.996612 | 3.423010 | 3.316072 | 3.299423 | 3.743915 | 4.322433 | 4.261995 | 3.027834 | 2.660868 | 3.328566 | ...      | 3.773028 | 3.093049 | 3.529166 | 4.415801 | 3.824671 | 3.300999 | 3.342493 | 3.261957 | 3.270816 | 3.340232 |\n",
       "\n"
      ],
      "text/plain": [
       "                          AP_C_1   AP_C_2   AP_C_3   AP_C_4   AP_C_5   AP_C_6  \n",
       "TRINITY_DN38930_c0_g1_i1  6.411657 7.175317 6.039434 5.862486 5.851981 7.450845\n",
       "TRINITY_DN27848_c0_g1_i1  5.097416 6.295862 4.788900 5.300347 6.083875 3.463504\n",
       "TRINITY_DN134395_c0_g1_i1 6.591382 6.742076 3.316072 3.374505 5.131866 2.637417\n",
       "TRINITY_DN144418_c0_g1_i1 6.641201 7.345088 5.224044 6.728233 7.037280 4.059616\n",
       "TRINITY_DN25283_c0_g1_i1  4.584832 4.899682 5.023019 5.263653 5.256263 4.902867\n",
       "TRINITY_DN99330_c0_g1_i1  3.996612 3.423010 3.316072 3.299423 3.743915 4.322433\n",
       "                          AP_P_1   AP_P_2   AP_P_3   AP_P_6   ... NJ_P_7  \n",
       "TRINITY_DN38930_c0_g1_i1  6.158283 6.163518 6.677404 6.098833 ... 6.147593\n",
       "TRINITY_DN27848_c0_g1_i1  3.882901 5.598166 1.345159 5.840581 ... 4.518735\n",
       "TRINITY_DN134395_c0_g1_i1 2.818542 1.345159 3.150822 1.345159 ... 3.679819\n",
       "TRINITY_DN144418_c0_g1_i1 5.358515 6.508278 3.498351 7.659956 ... 7.087652\n",
       "TRINITY_DN25283_c0_g1_i1  5.077794 4.809801 5.001930 5.402981 ... 4.965143\n",
       "TRINITY_DN99330_c0_g1_i1  4.261995 3.027834 2.660868 3.328566 ... 3.773028\n",
       "                          SC_C_12  SC_C_14  SC_C_2   SC_C_6   SC_C_7   SC_C_9  \n",
       "TRINITY_DN38930_c0_g1_i1  5.346693 6.074875 6.808186 5.406708 5.596498 5.638916\n",
       "TRINITY_DN27848_c0_g1_i1  5.371441 5.142826 4.580498 5.259826 5.228325 5.366464\n",
       "TRINITY_DN134395_c0_g1_i1 2.798914 6.041032 4.923837 2.379695 5.450125 2.966648\n",
       "TRINITY_DN144418_c0_g1_i1 7.183003 4.738101 4.983558 6.428366 5.287080 6.842040\n",
       "TRINITY_DN25283_c0_g1_i1  5.160318 5.915889 5.095978 4.943688 5.103030 5.029667\n",
       "TRINITY_DN99330_c0_g1_i1  3.093049 3.529166 4.415801 3.824671 3.300999 3.342493\n",
       "                          SC_P_1   SC_P_2   SC_P_3  \n",
       "TRINITY_DN38930_c0_g1_i1  5.954354 6.971980 5.916278\n",
       "TRINITY_DN27848_c0_g1_i1  5.536621 2.509471 5.482968\n",
       "TRINITY_DN134395_c0_g1_i1 2.175039 2.952383 3.713120\n",
       "TRINITY_DN144418_c0_g1_i1 7.295717 3.736541 6.449941\n",
       "TRINITY_DN25283_c0_g1_i1  5.760621 3.524338 5.118339\n",
       "TRINITY_DN99330_c0_g1_i1  3.261957 3.270816 3.340232"
      ]
     },
     "metadata": {},
     "output_type": "display_data"
    }
   ],
   "source": [
    "head(vsd)"
   ]
  },
  {
   "cell_type": "markdown",
   "metadata": {},
   "source": [
    "Looks good. Now let's transpose it."
   ]
  },
  {
   "cell_type": "code",
   "execution_count": 61,
   "metadata": {},
   "outputs": [
    {
     "data": {
      "text/html": [
       "<table>\n",
       "<thead><tr><th></th><th scope=col>TRINITY_DN38930_c0_g1_i1</th><th scope=col>TRINITY_DN27848_c0_g1_i1</th><th scope=col>TRINITY_DN134395_c0_g1_i1</th><th scope=col>TRINITY_DN144418_c0_g1_i1</th><th scope=col>TRINITY_DN25283_c0_g1_i1</th><th scope=col>TRINITY_DN99330_c0_g1_i1</th></tr></thead>\n",
       "<tbody>\n",
       "\t<tr><th scope=row>AP_C_1</th><td>6.411657</td><td>5.097416</td><td>6.591382</td><td>6.641201</td><td>4.584832</td><td>3.996612</td></tr>\n",
       "\t<tr><th scope=row>AP_C_2</th><td>7.175317</td><td>6.295862</td><td>6.742076</td><td>7.345088</td><td>4.899682</td><td>3.423010</td></tr>\n",
       "\t<tr><th scope=row>AP_C_3</th><td>6.039434</td><td>4.788900</td><td>3.316072</td><td>5.224044</td><td>5.023019</td><td>3.316072</td></tr>\n",
       "\t<tr><th scope=row>AP_C_4</th><td>5.862486</td><td>5.300347</td><td>3.374505</td><td>6.728233</td><td>5.263653</td><td>3.299423</td></tr>\n",
       "\t<tr><th scope=row>AP_C_5</th><td>5.851981</td><td>6.083875</td><td>5.131866</td><td>7.037280</td><td>5.256263</td><td>3.743915</td></tr>\n",
       "\t<tr><th scope=row>AP_C_6</th><td>7.450845</td><td>3.463504</td><td>2.637417</td><td>4.059616</td><td>4.902867</td><td>4.322433</td></tr>\n",
       "</tbody>\n",
       "</table>\n"
      ],
      "text/latex": [
       "\\begin{tabular}{r|llllll}\n",
       "  & TRINITY\\_DN38930\\_c0\\_g1\\_i1 & TRINITY\\_DN27848\\_c0\\_g1\\_i1 & TRINITY\\_DN134395\\_c0\\_g1\\_i1 & TRINITY\\_DN144418\\_c0\\_g1\\_i1 & TRINITY\\_DN25283\\_c0\\_g1\\_i1 & TRINITY\\_DN99330\\_c0\\_g1\\_i1\\\\\n",
       "\\hline\n",
       "\tAP\\_C\\_1 & 6.411657 & 5.097416 & 6.591382 & 6.641201 & 4.584832 & 3.996612\\\\\n",
       "\tAP\\_C\\_2 & 7.175317 & 6.295862 & 6.742076 & 7.345088 & 4.899682 & 3.423010\\\\\n",
       "\tAP\\_C\\_3 & 6.039434 & 4.788900 & 3.316072 & 5.224044 & 5.023019 & 3.316072\\\\\n",
       "\tAP\\_C\\_4 & 5.862486 & 5.300347 & 3.374505 & 6.728233 & 5.263653 & 3.299423\\\\\n",
       "\tAP\\_C\\_5 & 5.851981 & 6.083875 & 5.131866 & 7.037280 & 5.256263 & 3.743915\\\\\n",
       "\tAP\\_C\\_6 & 7.450845 & 3.463504 & 2.637417 & 4.059616 & 4.902867 & 4.322433\\\\\n",
       "\\end{tabular}\n"
      ],
      "text/markdown": [
       "\n",
       "| <!--/--> | TRINITY_DN38930_c0_g1_i1 | TRINITY_DN27848_c0_g1_i1 | TRINITY_DN134395_c0_g1_i1 | TRINITY_DN144418_c0_g1_i1 | TRINITY_DN25283_c0_g1_i1 | TRINITY_DN99330_c0_g1_i1 |\n",
       "|---|---|---|---|---|---|---|\n",
       "| AP_C_1 | 6.411657 | 5.097416 | 6.591382 | 6.641201 | 4.584832 | 3.996612 |\n",
       "| AP_C_2 | 7.175317 | 6.295862 | 6.742076 | 7.345088 | 4.899682 | 3.423010 |\n",
       "| AP_C_3 | 6.039434 | 4.788900 | 3.316072 | 5.224044 | 5.023019 | 3.316072 |\n",
       "| AP_C_4 | 5.862486 | 5.300347 | 3.374505 | 6.728233 | 5.263653 | 3.299423 |\n",
       "| AP_C_5 | 5.851981 | 6.083875 | 5.131866 | 7.037280 | 5.256263 | 3.743915 |\n",
       "| AP_C_6 | 7.450845 | 3.463504 | 2.637417 | 4.059616 | 4.902867 | 4.322433 |\n",
       "\n"
      ],
      "text/plain": [
       "       TRINITY_DN38930_c0_g1_i1 TRINITY_DN27848_c0_g1_i1\n",
       "AP_C_1 6.411657                 5.097416                \n",
       "AP_C_2 7.175317                 6.295862                \n",
       "AP_C_3 6.039434                 4.788900                \n",
       "AP_C_4 5.862486                 5.300347                \n",
       "AP_C_5 5.851981                 6.083875                \n",
       "AP_C_6 7.450845                 3.463504                \n",
       "       TRINITY_DN134395_c0_g1_i1 TRINITY_DN144418_c0_g1_i1\n",
       "AP_C_1 6.591382                  6.641201                 \n",
       "AP_C_2 6.742076                  7.345088                 \n",
       "AP_C_3 3.316072                  5.224044                 \n",
       "AP_C_4 3.374505                  6.728233                 \n",
       "AP_C_5 5.131866                  7.037280                 \n",
       "AP_C_6 2.637417                  4.059616                 \n",
       "       TRINITY_DN25283_c0_g1_i1 TRINITY_DN99330_c0_g1_i1\n",
       "AP_C_1 4.584832                 3.996612                \n",
       "AP_C_2 4.899682                 3.423010                \n",
       "AP_C_3 5.023019                 3.316072                \n",
       "AP_C_4 5.263653                 3.299423                \n",
       "AP_C_5 5.256263                 3.743915                \n",
       "AP_C_6 4.902867                 4.322433                "
      ]
     },
     "metadata": {},
     "output_type": "display_data"
    }
   ],
   "source": [
    "vsd <- t(vsd)\n",
    "vsd[1:6,1:6]"
   ]
  },
  {
   "cell_type": "markdown",
   "metadata": {},
   "source": [
    "Now we check to see if there are any genes or samples with too many missing values."
   ]
  },
  {
   "cell_type": "code",
   "execution_count": 62,
   "metadata": {},
   "outputs": [
    {
     "name": "stdout",
     "output_type": "stream",
     "text": [
      " Flagging genes and samples with too many missing values...\n",
      "  ..step 1\n"
     ]
    },
    {
     "data": {
      "text/html": [
       "TRUE"
      ],
      "text/latex": [
       "TRUE"
      ],
      "text/markdown": [
       "TRUE"
      ],
      "text/plain": [
       "[1] TRUE"
      ]
     },
     "metadata": {},
     "output_type": "display_data"
    }
   ],
   "source": [
    "gsg = goodSamplesGenes(vsd, verbose = 3)\n",
    "gsg$allOK"
   ]
  },
  {
   "cell_type": "markdown",
   "metadata": {},
   "source": [
    "Good. Now we'll cluster the samples to identify outliers."
   ]
  },
  {
   "cell_type": "code",
   "execution_count": 65,
   "metadata": {},
   "outputs": [
    {
     "data": {
      "image/png": "[encoded data removed]",
      "text/plain": [
       "Plot with title “Sample clustering to detect outliers”"
      ]
     },
     "metadata": {},
     "output_type": "display_data"
    }
   ],
   "source": [
    "tree = hclust(dist(vsd), method = \"average\");\n",
    "plot(tree, main = \"Sample clustering to detect outliers\", sub=\"\", xlab=\"\", cex.lab = 1.5,\n",
    "cex.axis = 1.5, cex.main = 2)"
   ]
  },
  {
   "cell_type": "markdown",
   "metadata": {},
   "source": [
    "It's a little cluttered, but we can see it's AP_P_3, FP_C_13, FP_P_4, NH_C_1, and SC_P_2. These also came up in the DESeq2 analysis as displaying aberrant expression patterns. We can remove them or choose to include them. "
   ]
  }
 ],
 "metadata": {
  "kernelspec": {
   "display_name": "R",
   "language": "R",
   "name": "ir"
  },
  "language_info": {
   "codemirror_mode": "r",
   "file_extension": ".r",
   "mimetype": "text/x-r-source",
   "name": "R",
   "pygments_lexer": "r",
   "version": "3.6.1"
  }
 },
 "nbformat": 4,
 "nbformat_minor": 2
}
