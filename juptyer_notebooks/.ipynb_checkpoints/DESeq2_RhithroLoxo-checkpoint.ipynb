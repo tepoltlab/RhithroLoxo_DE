{
 "cells": [
  {
   "cell_type": "markdown",
   "metadata": {},
   "source": [
    "## Differential Expression Analysis - RhithroLoxo"
   ]
  },
  {
   "cell_type": "markdown",
   "metadata": {},
   "source": [
    "If you've already saved the workspace image from a previous session, you need to reload it if you want access ot previously run objects and loaded packages. The .RData file is not on GitHub, so you will have to actually run it the first time through. "
   ]
  },
  {
   "cell_type": "markdown",
   "metadata": {},
   "source": [
    "First, make sure you're actually running this from a compute node, not the login. On Poseidon, logins are pn001 and 002. All others are higher."
   ]
  },
  {
   "cell_type": "code",
   "execution_count": 1,
   "metadata": {},
   "outputs": [
    {
     "data": {
      "text/html": [
       "<dl class=dl-horizontal>\n",
       "\t<dt>sysname</dt>\n",
       "\t\t<dd>'Linux'</dd>\n",
       "\t<dt>release</dt>\n",
       "\t\t<dd>'3.10.0-693.2.2.el7.x86_64'</dd>\n",
       "\t<dt>version</dt>\n",
       "\t\t<dd>'#1 SMP Tue Sep 12 22:26:13 UTC 2017'</dd>\n",
       "\t<dt>nodename</dt>\n",
       "\t\t<dd>'pn003'</dd>\n",
       "\t<dt>machine</dt>\n",
       "\t\t<dd>'x86_64'</dd>\n",
       "\t<dt>login</dt>\n",
       "\t\t<dd>'unknown'</dd>\n",
       "\t<dt>user</dt>\n",
       "\t\t<dd>'ztobias'</dd>\n",
       "\t<dt>effective_user</dt>\n",
       "\t\t<dd>'ztobias'</dd>\n",
       "</dl>\n"
      ],
      "text/latex": [
       "\\begin{description*}\n",
       "\\item[sysname] 'Linux'\n",
       "\\item[release] '3.10.0-693.2.2.el7.x86\\_64'\n",
       "\\item[version] '\\#1 SMP Tue Sep 12 22:26:13 UTC 2017'\n",
       "\\item[nodename] 'pn003'\n",
       "\\item[machine] 'x86\\_64'\n",
       "\\item[login] 'unknown'\n",
       "\\item[user] 'ztobias'\n",
       "\\item[effective\\textbackslash{}\\_user] 'ztobias'\n",
       "\\end{description*}\n"
      ],
      "text/markdown": [
       "sysname\n",
       ":   'Linux'release\n",
       ":   '3.10.0-693.2.2.el7.x86_64'version\n",
       ":   '#1 SMP Tue Sep 12 22:26:13 UTC 2017'nodename\n",
       ":   'pn003'machine\n",
       ":   'x86_64'login\n",
       ":   'unknown'user\n",
       ":   'ztobias'effective_user\n",
       ":   'ztobias'\n",
       "\n"
      ],
      "text/plain": [
       "                              sysname                               release \n",
       "                              \"Linux\"           \"3.10.0-693.2.2.el7.x86_64\" \n",
       "                              version                              nodename \n",
       "\"#1 SMP Tue Sep 12 22:26:13 UTC 2017\"                               \"pn003\" \n",
       "                              machine                                 login \n",
       "                             \"x86_64\"                             \"unknown\" \n",
       "                                 user                        effective_user \n",
       "                            \"ztobias\"                             \"ztobias\" "
      ]
     },
     "metadata": {},
     "output_type": "display_data"
    }
   ],
   "source": [
    "Sys.info()"
   ]
  },
  {
   "cell_type": "markdown",
   "metadata": {},
   "source": [
    "Now load in the packages."
   ]
  },
  {
   "cell_type": "code",
   "execution_count": 3,
   "metadata": {},
   "outputs": [],
   "source": [
    "require(DESeq2)\n",
    "require(ggplot2)\n",
    "require(apeglm)"
   ]
  },
  {
   "cell_type": "markdown",
   "metadata": {},
   "source": [
    "Now import the count data, rounding decimals to integers."
   ]
  },
  {
   "cell_type": "code",
   "execution_count": 8,
   "metadata": {},
   "outputs": [],
   "source": [
    "path_to_main <- \"/vortexfs1/scratch/ztobias/RhithroLoxo_DE/\" #change accordingly based on parent file structure\n",
    "path_to_counts <- \"outputs/quant/salmon.isoform.counts.matrix\"\n",
    "path <- paste(path_to_main,path_to_counts,sep=\"\")\n",
    "all_counts <- read.table(path,header=TRUE)\n",
    "all_counts <- round(all_counts)"
   ]
  },
  {
   "cell_type": "markdown",
   "metadata": {},
   "source": [
    "Take a look."
   ]
  },
  {
   "cell_type": "code",
   "execution_count": 9,
   "metadata": {},
   "outputs": [
    {
     "data": {
      "text/html": [
       "<table>\n",
       "<thead><tr><th></th><th scope=col>AP_C_1</th><th scope=col>AP_C_2</th><th scope=col>AP_C_3</th><th scope=col>AP_C_4</th><th scope=col>AP_C_5</th><th scope=col>AP_C_6</th><th scope=col>AP_P_1</th><th scope=col>AP_P_2</th><th scope=col>AP_P_3</th><th scope=col>AP_P_6</th><th scope=col>...</th><th scope=col>NJ_P_7</th><th scope=col>SC_C_12</th><th scope=col>SC_C_14</th><th scope=col>SC_C_2</th><th scope=col>SC_C_6</th><th scope=col>SC_C_7</th><th scope=col>SC_C_9</th><th scope=col>SC_P_1</th><th scope=col>SC_P_2</th><th scope=col>SC_P_3</th></tr></thead>\n",
       "<tbody>\n",
       "\t<tr><th scope=row>TRINITY_DN38930_c0_g1_i1</th><td>71 </td><td>201</td><td>88 </td><td>108</td><td>84 </td><td>156</td><td>46 </td><td>69 </td><td>43 </td><td>68 </td><td>...</td><td>80 </td><td>51 </td><td>80 </td><td>84 </td><td>55 </td><td>56 </td><td>63 </td><td>66 </td><td>69 </td><td>39 </td></tr>\n",
       "\t<tr><th scope=row>TRINITY_DN61353_c1_g1_i1</th><td> 0 </td><td>  5</td><td> 0 </td><td>  1</td><td> 1 </td><td>  0</td><td> 0 </td><td> 2 </td><td> 0 </td><td> 2 </td><td>...</td><td> 0 </td><td> 0 </td><td> 1 </td><td> 0 </td><td> 0 </td><td> 2 </td><td> 1 </td><td> 5 </td><td> 2 </td><td> 0 </td></tr>\n",
       "\t<tr><th scope=row>TRINITY_DN130836_c0_g1_i1</th><td> 2 </td><td>  7</td><td> 0 </td><td> 14</td><td> 6 </td><td>  0</td><td> 1 </td><td> 9 </td><td> 5 </td><td> 7 </td><td>...</td><td>18 </td><td> 7 </td><td>10 </td><td> 2 </td><td> 2 </td><td> 3 </td><td> 7 </td><td>10 </td><td> 7 </td><td> 6 </td></tr>\n",
       "\t<tr><th scope=row>TRINITY_DN135735_c0_g1_i1</th><td> 1 </td><td>  3</td><td> 1 </td><td>  4</td><td> 3 </td><td>  0</td><td> 0 </td><td> 1 </td><td> 0 </td><td> 2 </td><td>...</td><td> 2 </td><td> 1 </td><td> 2 </td><td> 0 </td><td> 0 </td><td> 0 </td><td> 2 </td><td> 3 </td><td> 1 </td><td> 2 </td></tr>\n",
       "\t<tr><th scope=row>TRINITY_DN142305_c0_g1_i1</th><td> 0 </td><td>  0</td><td> 2 </td><td>  0</td><td> 2 </td><td>  3</td><td> 0 </td><td> 1 </td><td> 1 </td><td> 0 </td><td>...</td><td> 3 </td><td> 3 </td><td> 0 </td><td> 1 </td><td> 1 </td><td> 0 </td><td> 3 </td><td> 0 </td><td> 4 </td><td> 0 </td></tr>\n",
       "\t<tr><th scope=row>TRINITY_DN107975_c0_g1_i1</th><td> 0 </td><td>  0</td><td> 0 </td><td>  0</td><td> 0 </td><td>  7</td><td> 0 </td><td> 0 </td><td> 0 </td><td> 0 </td><td>...</td><td> 0 </td><td> 0 </td><td> 0 </td><td> 0 </td><td> 0 </td><td> 0 </td><td> 0 </td><td> 0 </td><td> 0 </td><td> 0 </td></tr>\n",
       "</tbody>\n",
       "</table>\n"
      ],
      "text/latex": [
       "\\begin{tabular}{r|lllllllllllllllllllllllllllllllllllllllllllllllllllllllllllllllllllllllllllllllllll}\n",
       "  & AP\\_C\\_1 & AP\\_C\\_2 & AP\\_C\\_3 & AP\\_C\\_4 & AP\\_C\\_5 & AP\\_C\\_6 & AP\\_P\\_1 & AP\\_P\\_2 & AP\\_P\\_3 & AP\\_P\\_6 & ... & NJ\\_P\\_7 & SC\\_C\\_12 & SC\\_C\\_14 & SC\\_C\\_2 & SC\\_C\\_6 & SC\\_C\\_7 & SC\\_C\\_9 & SC\\_P\\_1 & SC\\_P\\_2 & SC\\_P\\_3\\\\\n",
       "\\hline\n",
       "\tTRINITY\\_DN38930\\_c0\\_g1\\_i1 & 71  & 201 & 88  & 108 & 84  & 156 & 46  & 69  & 43  & 68  & ... & 80  & 51  & 80  & 84  & 55  & 56  & 63  & 66  & 69  & 39 \\\\\n",
       "\tTRINITY\\_DN61353\\_c1\\_g1\\_i1 &  0  &   5 &  0  &   1 &  1  &   0 &  0  &  2  &  0  &  2  & ... &  0  &  0  &  1  &  0  &  0  &  2  &  1  &  5  &  2  &  0 \\\\\n",
       "\tTRINITY\\_DN130836\\_c0\\_g1\\_i1 &  2  &   7 &  0  &  14 &  6  &   0 &  1  &  9  &  5  &  7  & ... & 18  &  7  & 10  &  2  &  2  &  3  &  7  & 10  &  7  &  6 \\\\\n",
       "\tTRINITY\\_DN135735\\_c0\\_g1\\_i1 &  1  &   3 &  1  &   4 &  3  &   0 &  0  &  1  &  0  &  2  & ... &  2  &  1  &  2  &  0  &  0  &  0  &  2  &  3  &  1  &  2 \\\\\n",
       "\tTRINITY\\_DN142305\\_c0\\_g1\\_i1 &  0  &   0 &  2  &   0 &  2  &   3 &  0  &  1  &  1  &  0  & ... &  3  &  3  &  0  &  1  &  1  &  0  &  3  &  0  &  4  &  0 \\\\\n",
       "\tTRINITY\\_DN107975\\_c0\\_g1\\_i1 &  0  &   0 &  0  &   0 &  0  &   7 &  0  &  0  &  0  &  0  & ... &  0  &  0  &  0  &  0  &  0  &  0  &  0  &  0  &  0  &  0 \\\\\n",
       "\\end{tabular}\n"
      ],
      "text/markdown": [
       "\n",
       "| <!--/--> | AP_C_1 | AP_C_2 | AP_C_3 | AP_C_4 | AP_C_5 | AP_C_6 | AP_P_1 | AP_P_2 | AP_P_3 | AP_P_6 | ... | NJ_P_7 | SC_C_12 | SC_C_14 | SC_C_2 | SC_C_6 | SC_C_7 | SC_C_9 | SC_P_1 | SC_P_2 | SC_P_3 |\n",
       "|---|---|---|---|---|---|---|---|---|---|---|---|---|---|---|---|---|---|---|---|---|---|\n",
       "| TRINITY_DN38930_c0_g1_i1 | 71  | 201 | 88  | 108 | 84  | 156 | 46  | 69  | 43  | 68  | ... | 80  | 51  | 80  | 84  | 55  | 56  | 63  | 66  | 69  | 39  |\n",
       "| TRINITY_DN61353_c1_g1_i1 |  0  |   5 |  0  |   1 |  1  |   0 |  0  |  2  |  0  |  2  | ... |  0  |  0  |  1  |  0  |  0  |  2  |  1  |  5  |  2  |  0  |\n",
       "| TRINITY_DN130836_c0_g1_i1 |  2  |   7 |  0  |  14 |  6  |   0 |  1  |  9  |  5  |  7  | ... | 18  |  7  | 10  |  2  |  2  |  3  |  7  | 10  |  7  |  6  |\n",
       "| TRINITY_DN135735_c0_g1_i1 |  1  |   3 |  1  |   4 |  3  |   0 |  0  |  1  |  0  |  2  | ... |  2  |  1  |  2  |  0  |  0  |  0  |  2  |  3  |  1  |  2  |\n",
       "| TRINITY_DN142305_c0_g1_i1 |  0  |   0 |  2  |   0 |  2  |   3 |  0  |  1  |  1  |  0  | ... |  3  |  3  |  0  |  1  |  1  |  0  |  3  |  0  |  4  |  0  |\n",
       "| TRINITY_DN107975_c0_g1_i1 |  0  |   0 |  0  |   0 |  0  |   7 |  0  |  0  |  0  |  0  | ... |  0  |  0  |  0  |  0  |  0  |  0  |  0  |  0  |  0  |  0  |\n",
       "\n"
      ],
      "text/plain": [
       "                          AP_C_1 AP_C_2 AP_C_3 AP_C_4 AP_C_5 AP_C_6 AP_P_1\n",
       "TRINITY_DN38930_c0_g1_i1  71     201    88     108    84     156    46    \n",
       "TRINITY_DN61353_c1_g1_i1   0       5     0       1     1       0     0    \n",
       "TRINITY_DN130836_c0_g1_i1  2       7     0      14     6       0     1    \n",
       "TRINITY_DN135735_c0_g1_i1  1       3     1       4     3       0     0    \n",
       "TRINITY_DN142305_c0_g1_i1  0       0     2       0     2       3     0    \n",
       "TRINITY_DN107975_c0_g1_i1  0       0     0       0     0       7     0    \n",
       "                          AP_P_2 AP_P_3 AP_P_6 ... NJ_P_7 SC_C_12 SC_C_14\n",
       "TRINITY_DN38930_c0_g1_i1  69     43     68     ... 80     51      80     \n",
       "TRINITY_DN61353_c1_g1_i1   2      0      2     ...  0      0       1     \n",
       "TRINITY_DN130836_c0_g1_i1  9      5      7     ... 18      7      10     \n",
       "TRINITY_DN135735_c0_g1_i1  1      0      2     ...  2      1       2     \n",
       "TRINITY_DN142305_c0_g1_i1  1      1      0     ...  3      3       0     \n",
       "TRINITY_DN107975_c0_g1_i1  0      0      0     ...  0      0       0     \n",
       "                          SC_C_2 SC_C_6 SC_C_7 SC_C_9 SC_P_1 SC_P_2 SC_P_3\n",
       "TRINITY_DN38930_c0_g1_i1  84     55     56     63     66     69     39    \n",
       "TRINITY_DN61353_c1_g1_i1   0      0      2      1      5      2      0    \n",
       "TRINITY_DN130836_c0_g1_i1  2      2      3      7     10      7      6    \n",
       "TRINITY_DN135735_c0_g1_i1  0      0      0      2      3      1      2    \n",
       "TRINITY_DN142305_c0_g1_i1  1      1      0      3      0      4      0    \n",
       "TRINITY_DN107975_c0_g1_i1  0      0      0      0      0      0      0    "
      ]
     },
     "metadata": {},
     "output_type": "display_data"
    },
    {
     "data": {
      "text/html": [
       "<ol class=list-inline>\n",
       "\t<li>149511</li>\n",
       "\t<li>83</li>\n",
       "</ol>\n"
      ],
      "text/latex": [
       "\\begin{enumerate*}\n",
       "\\item 149511\n",
       "\\item 83\n",
       "\\end{enumerate*}\n"
      ],
      "text/markdown": [
       "1. 149511\n",
       "2. 83\n",
       "\n",
       "\n"
      ],
      "text/plain": [
       "[1] 149511     83"
      ]
     },
     "metadata": {},
     "output_type": "display_data"
    }
   ],
   "source": [
    "head(all_counts)\n",
    "dim(all_counts)"
   ]
  },
  {
   "cell_type": "markdown",
   "metadata": {},
   "source": [
    "Read in the sample metadata and have a look."
   ]
  },
  {
   "cell_type": "code",
   "execution_count": 10,
   "metadata": {},
   "outputs": [
    {
     "data": {
      "text/html": [
       "<table>\n",
       "<thead><tr><th></th><th scope=col>site</th><th scope=col>condition</th><th scope=col>range</th><th scope=col>sex</th></tr></thead>\n",
       "<tbody>\n",
       "\t<tr><th scope=row>AP_C_1</th><td>AP    </td><td>C     </td><td>Native</td><td>F     </td></tr>\n",
       "\t<tr><th scope=row>AP_C_2</th><td>AP    </td><td>C     </td><td>Native</td><td>F     </td></tr>\n",
       "\t<tr><th scope=row>AP_C_3</th><td>AP    </td><td>C     </td><td>Native</td><td>M     </td></tr>\n",
       "\t<tr><th scope=row>AP_C_4</th><td>AP    </td><td>C     </td><td>Native</td><td>M     </td></tr>\n",
       "\t<tr><th scope=row>AP_C_5</th><td>AP    </td><td>C     </td><td>Native</td><td>M     </td></tr>\n",
       "\t<tr><th scope=row>AP_C_6</th><td>AP    </td><td>C     </td><td>Native</td><td>M     </td></tr>\n",
       "</tbody>\n",
       "</table>\n"
      ],
      "text/latex": [
       "\\begin{tabular}{r|llll}\n",
       "  & site & condition & range & sex\\\\\n",
       "\\hline\n",
       "\tAP\\_C\\_1 & AP     & C      & Native & F     \\\\\n",
       "\tAP\\_C\\_2 & AP     & C      & Native & F     \\\\\n",
       "\tAP\\_C\\_3 & AP     & C      & Native & M     \\\\\n",
       "\tAP\\_C\\_4 & AP     & C      & Native & M     \\\\\n",
       "\tAP\\_C\\_5 & AP     & C      & Native & M     \\\\\n",
       "\tAP\\_C\\_6 & AP     & C      & Native & M     \\\\\n",
       "\\end{tabular}\n"
      ],
      "text/markdown": [
       "\n",
       "| <!--/--> | site | condition | range | sex |\n",
       "|---|---|---|---|---|\n",
       "| AP_C_1 | AP     | C      | Native | F      |\n",
       "| AP_C_2 | AP     | C      | Native | F      |\n",
       "| AP_C_3 | AP     | C      | Native | M      |\n",
       "| AP_C_4 | AP     | C      | Native | M      |\n",
       "| AP_C_5 | AP     | C      | Native | M      |\n",
       "| AP_C_6 | AP     | C      | Native | M      |\n",
       "\n"
      ],
      "text/plain": [
       "       site condition range  sex\n",
       "AP_C_1 AP   C         Native F  \n",
       "AP_C_2 AP   C         Native F  \n",
       "AP_C_3 AP   C         Native M  \n",
       "AP_C_4 AP   C         Native M  \n",
       "AP_C_5 AP   C         Native M  \n",
       "AP_C_6 AP   C         Native M  "
      ]
     },
     "metadata": {},
     "output_type": "display_data"
    },
    {
     "data": {
      "text/html": [
       "<ol class=list-inline>\n",
       "\t<li>83</li>\n",
       "\t<li>4</li>\n",
       "</ol>\n"
      ],
      "text/latex": [
       "\\begin{enumerate*}\n",
       "\\item 83\n",
       "\\item 4\n",
       "\\end{enumerate*}\n"
      ],
      "text/markdown": [
       "1. 83\n",
       "2. 4\n",
       "\n",
       "\n"
      ],
      "text/plain": [
       "[1] 83  4"
      ]
     },
     "metadata": {},
     "output_type": "display_data"
    }
   ],
   "source": [
    "path_to_meta <- paste(path_to_main,\"metadata/DESeq2_coldata.txt\",sep=\"\")\n",
    "coldata <- read.table(path_to_meta,header=FALSE,row.names=1)\n",
    "colnames(coldata) <- c(\"site\",\"condition\",\"range\",\"sex\")\n",
    "head(coldata)\n",
    "dim(coldata)"
   ]
  },
  {
   "cell_type": "markdown",
   "metadata": {},
   "source": [
    "Make sure the two matrices contain all of the same samples and are in order."
   ]
  },
  {
   "cell_type": "code",
   "execution_count": 11,
   "metadata": {},
   "outputs": [
    {
     "data": {
      "text/html": [
       "TRUE"
      ],
      "text/latex": [
       "TRUE"
      ],
      "text/markdown": [
       "TRUE"
      ],
      "text/plain": [
       "[1] TRUE"
      ]
     },
     "metadata": {},
     "output_type": "display_data"
    }
   ],
   "source": [
    "all(rownames(coldata) == colnames(all_counts))"
   ]
  },
  {
   "cell_type": "markdown",
   "metadata": {},
   "source": [
    "Okay here I am just going to calculate the normalized counts so I can try to identify transcripts whose highest representation occurs in the Loxo libraries. This is because there appears to be some latent contamination, either from index hopping or basal levels infection in otherwise \"uninfected\" crabs. This shows up downstream in some crazily overexpressed transcripts in the parasitized individuals, which appear not to be an actual response, but rather just contamination with parasite mRNA. This might not help completely because of tissue specific expression in the parasite (libraries made from externae, while contamination from internal, root-system tissues), but worth a shot. At least to strengthen the case for removal by thresholding later. \n",
    "\n",
    "The infected crabs will be excluded from this comparison. Because of tissue specific expression in the parasite, the highest expression of some contaminant transcripts may be expected in the infected crab libraries rather than those of the parasite. Thus, we are just looking for transcripts that are more highly represented in the parasite libraries than the control crab libraries.\n",
    "\n",
    "(*I tried a different strategy where I do DE analysis to find transcripts that are significantly more expressed in the parasite library than the control library. This seemed like it would be more robust, but I got really weird results, something like ~65K transcripts significantly OVERexpressed in the parasite libraries relative to the control. That doesn't make any sense. I have no idea how that happened. I think it has to do with different library sizes. The Loxo libraries are much smaller now because I applied the first contamination filtering step that mapped reads to the Loxo txm to all the libraries. Loxo libraries had a higher mapping rate (duh), so more got removed --> smaller libraries. But DESeq2 is supposed to normalize for library size... Take a break from this whole contamination issue and come back to it later*.)"
   ]
  },
  {
   "cell_type": "code",
   "execution_count": null,
   "metadata": {},
   "outputs": [],
   "source": [
    "##this is the bit of code for running the analysis described in italics above\n",
    "#counts_contam <- all_counts[,!grepl(\"*_P_*\", colnames(all_counts))]\n",
    "#counts_contam <- subset(counts_contam, select=-c(MD_C_12))\n",
    "#coldata_contam <- coldata[colnames(counts_contam),]\n",
    "#all(rownames(coldata_contam) == colnames(counts_contam))\n",
    "#dds_contam <- DESeqDataSetFromMatrix(countData = counts_contam, colData = coldata_contam, design = ~ condition)\n",
    "#library(\"BiocParallel\")\n",
    "#register(MulticoreParam(8))\n",
    "#dds_contam$condition <- relevel(dds_contam$condition, ref = \"C\")\n",
    "#dds_contam$condition <- droplevels(dds_contam$condition)\n",
    "#dds_contam <- DESeq(dds_contam)\n",
    "#res_contam <- results(dds_contam, alpha=0.05)\n",
    "#res_contam\n",
    "#resLFC_contam <- lfcShrink(dds_contam, coef=\"condition_F_vs_C\", type=\"apeglm\")\n",
    "#plotMA(resLFC_contam, ylim=c(-13,30))"
   ]
  },
  {
   "cell_type": "markdown",
   "metadata": {},
   "source": [
    "Create a DESeq dataset for calculating normalized counts"
   ]
  },
  {
   "cell_type": "code",
   "execution_count": 12,
   "metadata": {},
   "outputs": [
    {
     "name": "stderr",
     "output_type": "stream",
     "text": [
      "converting counts to integer mode\n"
     ]
    }
   ],
   "source": [
    "contam <- DESeqDataSetFromMatrix(countData = all_counts, colData = coldata, design = ~ condition)"
   ]
  },
  {
   "cell_type": "markdown",
   "metadata": {},
   "source": [
    "Estimate size factors and save normalized counts to object 'norm_mat'"
   ]
  },
  {
   "cell_type": "code",
   "execution_count": 13,
   "metadata": {},
   "outputs": [],
   "source": [
    "contam <- estimateSizeFactors(contam)\n",
    "norm_mat <- counts(contam, normalized=TRUE)"
   ]
  },
  {
   "cell_type": "markdown",
   "metadata": {},
   "source": [
    "First let's remove the parasitized crabs. This includes all samples with the naming pattern `*_P_*`. The function `grepl()` returns a boolean vector that can be used to index. I will also remove sample MD_C_12, as this was identified to have a latent infection (unidentified infection detected in previous runs of this analysis)."
   ]
  },
  {
   "cell_type": "code",
   "execution_count": 14,
   "metadata": {},
   "outputs": [],
   "source": [
    "norm_mat_sub <- norm_mat[,!grepl(\"*_P_*\", colnames(norm_mat))]\n",
    "norm_mat_sub <- subset(norm_mat_sub, select=-c(MD_C_12))"
   ]
  },
  {
   "cell_type": "code",
   "execution_count": 15,
   "metadata": {},
   "outputs": [
    {
     "data": {
      "text/html": [
       "<ol class=list-inline>\n",
       "\t<li>'AP_C_1'</li>\n",
       "\t<li>'AP_C_2'</li>\n",
       "\t<li>'AP_C_3'</li>\n",
       "\t<li>'AP_C_4'</li>\n",
       "\t<li>'AP_C_5'</li>\n",
       "\t<li>'AP_C_6'</li>\n",
       "\t<li>'FP_C_10'</li>\n",
       "\t<li>'FP_C_11'</li>\n",
       "\t<li>'FP_C_12'</li>\n",
       "\t<li>'FP_C_13'</li>\n",
       "\t<li>'FP_C_5'</li>\n",
       "\t<li>'FP_C_9'</li>\n",
       "\t<li>'LA_C_1'</li>\n",
       "\t<li>'LA_C_2'</li>\n",
       "\t<li>'LA_C_3'</li>\n",
       "\t<li>'LA_C_4'</li>\n",
       "\t<li>'LA_C_6'</li>\n",
       "\t<li>'LA_C_8'</li>\n",
       "\t<li>'LA_F_1'</li>\n",
       "\t<li>'MA_C_1'</li>\n",
       "\t<li>'MA_C_2'</li>\n",
       "\t<li>'MA_C_4'</li>\n",
       "\t<li>'MD_C_10'</li>\n",
       "\t<li>'MD_C_11'</li>\n",
       "\t<li>'MD_C_1'</li>\n",
       "\t<li>'MD_C_4'</li>\n",
       "\t<li>'MD_C_7'</li>\n",
       "\t<li>'MD_F_4'</li>\n",
       "\t<li>'ML_C_10'</li>\n",
       "\t<li>'ML_C_2'</li>\n",
       "\t<li>'ML_C_3'</li>\n",
       "\t<li>'ML_C_5'</li>\n",
       "\t<li>'ML_C_7'</li>\n",
       "\t<li>'ML_C_9'</li>\n",
       "\t<li>'NH_C_11'</li>\n",
       "\t<li>'NH_C_12'</li>\n",
       "\t<li>'NH_C_13'</li>\n",
       "\t<li>'NH_C_5'</li>\n",
       "\t<li>'NH_C_8'</li>\n",
       "\t<li>'NH_C_9'</li>\n",
       "\t<li>'NJ_C_10'</li>\n",
       "\t<li>'NJ_C_11'</li>\n",
       "\t<li>'NJ_C_12'</li>\n",
       "\t<li>'NJ_C_13'</li>\n",
       "\t<li>'NJ_C_14'</li>\n",
       "\t<li>'NJ_C_6'</li>\n",
       "\t<li>'SC_C_12'</li>\n",
       "\t<li>'SC_C_14'</li>\n",
       "\t<li>'SC_C_2'</li>\n",
       "\t<li>'SC_C_6'</li>\n",
       "\t<li>'SC_C_7'</li>\n",
       "\t<li>'SC_C_9'</li>\n",
       "</ol>\n"
      ],
      "text/latex": [
       "\\begin{enumerate*}\n",
       "\\item 'AP\\_C\\_1'\n",
       "\\item 'AP\\_C\\_2'\n",
       "\\item 'AP\\_C\\_3'\n",
       "\\item 'AP\\_C\\_4'\n",
       "\\item 'AP\\_C\\_5'\n",
       "\\item 'AP\\_C\\_6'\n",
       "\\item 'FP\\_C\\_10'\n",
       "\\item 'FP\\_C\\_11'\n",
       "\\item 'FP\\_C\\_12'\n",
       "\\item 'FP\\_C\\_13'\n",
       "\\item 'FP\\_C\\_5'\n",
       "\\item 'FP\\_C\\_9'\n",
       "\\item 'LA\\_C\\_1'\n",
       "\\item 'LA\\_C\\_2'\n",
       "\\item 'LA\\_C\\_3'\n",
       "\\item 'LA\\_C\\_4'\n",
       "\\item 'LA\\_C\\_6'\n",
       "\\item 'LA\\_C\\_8'\n",
       "\\item 'LA\\_F\\_1'\n",
       "\\item 'MA\\_C\\_1'\n",
       "\\item 'MA\\_C\\_2'\n",
       "\\item 'MA\\_C\\_4'\n",
       "\\item 'MD\\_C\\_10'\n",
       "\\item 'MD\\_C\\_11'\n",
       "\\item 'MD\\_C\\_1'\n",
       "\\item 'MD\\_C\\_4'\n",
       "\\item 'MD\\_C\\_7'\n",
       "\\item 'MD\\_F\\_4'\n",
       "\\item 'ML\\_C\\_10'\n",
       "\\item 'ML\\_C\\_2'\n",
       "\\item 'ML\\_C\\_3'\n",
       "\\item 'ML\\_C\\_5'\n",
       "\\item 'ML\\_C\\_7'\n",
       "\\item 'ML\\_C\\_9'\n",
       "\\item 'NH\\_C\\_11'\n",
       "\\item 'NH\\_C\\_12'\n",
       "\\item 'NH\\_C\\_13'\n",
       "\\item 'NH\\_C\\_5'\n",
       "\\item 'NH\\_C\\_8'\n",
       "\\item 'NH\\_C\\_9'\n",
       "\\item 'NJ\\_C\\_10'\n",
       "\\item 'NJ\\_C\\_11'\n",
       "\\item 'NJ\\_C\\_12'\n",
       "\\item 'NJ\\_C\\_13'\n",
       "\\item 'NJ\\_C\\_14'\n",
       "\\item 'NJ\\_C\\_6'\n",
       "\\item 'SC\\_C\\_12'\n",
       "\\item 'SC\\_C\\_14'\n",
       "\\item 'SC\\_C\\_2'\n",
       "\\item 'SC\\_C\\_6'\n",
       "\\item 'SC\\_C\\_7'\n",
       "\\item 'SC\\_C\\_9'\n",
       "\\end{enumerate*}\n"
      ],
      "text/markdown": [
       "1. 'AP_C_1'\n",
       "2. 'AP_C_2'\n",
       "3. 'AP_C_3'\n",
       "4. 'AP_C_4'\n",
       "5. 'AP_C_5'\n",
       "6. 'AP_C_6'\n",
       "7. 'FP_C_10'\n",
       "8. 'FP_C_11'\n",
       "9. 'FP_C_12'\n",
       "10. 'FP_C_13'\n",
       "11. 'FP_C_5'\n",
       "12. 'FP_C_9'\n",
       "13. 'LA_C_1'\n",
       "14. 'LA_C_2'\n",
       "15. 'LA_C_3'\n",
       "16. 'LA_C_4'\n",
       "17. 'LA_C_6'\n",
       "18. 'LA_C_8'\n",
       "19. 'LA_F_1'\n",
       "20. 'MA_C_1'\n",
       "21. 'MA_C_2'\n",
       "22. 'MA_C_4'\n",
       "23. 'MD_C_10'\n",
       "24. 'MD_C_11'\n",
       "25. 'MD_C_1'\n",
       "26. 'MD_C_4'\n",
       "27. 'MD_C_7'\n",
       "28. 'MD_F_4'\n",
       "29. 'ML_C_10'\n",
       "30. 'ML_C_2'\n",
       "31. 'ML_C_3'\n",
       "32. 'ML_C_5'\n",
       "33. 'ML_C_7'\n",
       "34. 'ML_C_9'\n",
       "35. 'NH_C_11'\n",
       "36. 'NH_C_12'\n",
       "37. 'NH_C_13'\n",
       "38. 'NH_C_5'\n",
       "39. 'NH_C_8'\n",
       "40. 'NH_C_9'\n",
       "41. 'NJ_C_10'\n",
       "42. 'NJ_C_11'\n",
       "43. 'NJ_C_12'\n",
       "44. 'NJ_C_13'\n",
       "45. 'NJ_C_14'\n",
       "46. 'NJ_C_6'\n",
       "47. 'SC_C_12'\n",
       "48. 'SC_C_14'\n",
       "49. 'SC_C_2'\n",
       "50. 'SC_C_6'\n",
       "51. 'SC_C_7'\n",
       "52. 'SC_C_9'\n",
       "\n",
       "\n"
      ],
      "text/plain": [
       " [1] \"AP_C_1\"  \"AP_C_2\"  \"AP_C_3\"  \"AP_C_4\"  \"AP_C_5\"  \"AP_C_6\"  \"FP_C_10\"\n",
       " [8] \"FP_C_11\" \"FP_C_12\" \"FP_C_13\" \"FP_C_5\"  \"FP_C_9\"  \"LA_C_1\"  \"LA_C_2\" \n",
       "[15] \"LA_C_3\"  \"LA_C_4\"  \"LA_C_6\"  \"LA_C_8\"  \"LA_F_1\"  \"MA_C_1\"  \"MA_C_2\" \n",
       "[22] \"MA_C_4\"  \"MD_C_10\" \"MD_C_11\" \"MD_C_1\"  \"MD_C_4\"  \"MD_C_7\"  \"MD_F_4\" \n",
       "[29] \"ML_C_10\" \"ML_C_2\"  \"ML_C_3\"  \"ML_C_5\"  \"ML_C_7\"  \"ML_C_9\"  \"NH_C_11\"\n",
       "[36] \"NH_C_12\" \"NH_C_13\" \"NH_C_5\"  \"NH_C_8\"  \"NH_C_9\"  \"NJ_C_10\" \"NJ_C_11\"\n",
       "[43] \"NJ_C_12\" \"NJ_C_13\" \"NJ_C_14\" \"NJ_C_6\"  \"SC_C_12\" \"SC_C_14\" \"SC_C_2\" \n",
       "[50] \"SC_C_6\"  \"SC_C_7\"  \"SC_C_9\" "
      ]
     },
     "metadata": {},
     "output_type": "display_data"
    }
   ],
   "source": [
    "colnames(norm_mat_sub)"
   ]
  },
  {
   "cell_type": "markdown",
   "metadata": {},
   "source": [
    "Column numbers of the parasite samples in norm_mat_sub are 19 and 28. Command below finds the index of the maximum column for each row, checks if it matches 19 or 28 (the parasite samples), returns boolean which is used to subset the dataframe.  Let's take a look at a slice of the output to verify it's behavior. Parasite samples follow the naming pattern `*_F_*`."
   ]
  },
  {
   "cell_type": "code",
   "execution_count": 16,
   "metadata": {},
   "outputs": [
    {
     "data": {
      "text/html": [
       "<table>\n",
       "<thead><tr><th></th><th scope=col>LA_C_8</th><th scope=col>LA_F_1</th><th scope=col>MA_C_1</th><th scope=col>MA_C_2</th><th scope=col>MA_C_4</th><th scope=col>MD_C_10</th><th scope=col>MD_C_11</th><th scope=col>MD_C_1</th><th scope=col>MD_C_4</th><th scope=col>MD_C_7</th><th scope=col>MD_F_4</th><th scope=col>ML_C_10</th></tr></thead>\n",
       "<tbody>\n",
       "\t<tr><th scope=row>TRINITY_DN130836_c0_g1_i1</th><td>  8.342821 </td><td> 4515.9519 </td><td>  5.394225 </td><td>  1.521581 </td><td>  5.038778 </td><td>  5.136595 </td><td>  4.485368 </td><td>  4.048551 </td><td>  5.319531 </td><td>  4.6419802</td><td>  729.6896 </td><td>  2.551833 </td></tr>\n",
       "\t<tr><th scope=row>TRINITY_DN6090_c0_g1_i1</th><td>114.018547 </td><td>    0.0000 </td><td>149.959461 </td><td>164.330783 </td><td>157.461801 </td><td>181.493023 </td><td>146.522028 </td><td>222.670320 </td><td>189.729921 </td><td>180.6152294</td><td>  364.8448 </td><td>146.305106 </td></tr>\n",
       "\t<tr><th scope=row>TRINITY_DN27882_c0_g1_i1</th><td>  9.733291 </td><td>  694.7618 </td><td> 15.103831 </td><td> 10.651069 </td><td>  5.038778 </td><td> 14.553686 </td><td>  7.475614 </td><td> 14.169929 </td><td> 11.525649 </td><td>  9.2839604</td><td>    0.0000 </td><td> 10.207333 </td></tr>\n",
       "\t<tr><th scope=row>TRINITY_DN33032_c0_g1_i1</th><td>  8.342821 </td><td>  694.7618 </td><td>  6.473070 </td><td>  9.129488 </td><td> 10.077555 </td><td>  9.417091 </td><td>  5.232930 </td><td>  6.072827 </td><td>  5.319531 </td><td>  5.9079748</td><td>  729.6896 </td><td> 18.713444 </td></tr>\n",
       "\t<tr><th scope=row>TRINITY_DN815_c0_g2_i2</th><td>241.246561 </td><td>    0.0000 </td><td>189.876728 </td><td>313.445753 </td><td>311.144519 </td><td>116.429487 </td><td>217.540358 </td><td>204.451839 </td><td>134.761439 </td><td>316.9206478</td><td>  364.8448 </td><td>281.552268 </td></tr>\n",
       "\t<tr><th scope=row>TRINITY_DN12072_c0_g1_i2</th><td>261.408377 </td><td>  694.7618 </td><td>126.224870 </td><td>176.503434 </td><td>238.082243 </td><td>173.788131 </td><td>299.024547 </td><td>118.757504 </td><td>238.492284 </td><td>166.2672906</td><td> 1094.5344 </td><td>249.229046 </td></tr>\n",
       "\t<tr><th scope=row>TRINITY_DN131921_c0_g1_i1</th><td> 56.314039 </td><td>  347.3809 </td><td> 53.942252 </td><td> 53.255346 </td><td> 23.934194 </td><td> 84.753817 </td><td> 79.989066 </td><td>103.238057 </td><td> 57.628247 </td><td> 80.1796579</td><td>    0.0000 </td><td> 83.359886 </td></tr>\n",
       "\t<tr><th scope=row>TRINITY_DN29174_c0_g1_i1</th><td> 72.999680 </td><td>  347.3809 </td><td> 93.859519 </td><td> 80.643810 </td><td>119.670969 </td><td> 63.351338 </td><td> 78.493944 </td><td> 95.140955 </td><td> 58.514836 </td><td>142.2133932</td><td>    0.0000 </td><td> 85.061108 </td></tr>\n",
       "\t<tr><th scope=row>TRINITY_DN39441_c0_g1_i1</th><td> 25.723697 </td><td>    0.0000 </td><td> 43.153802 </td><td> 34.996371 </td><td> 22.674499 </td><td> 35.956165 </td><td> 38.873191 </td><td> 22.267032 </td><td> 32.803771 </td><td> 13.0819442</td><td>  729.6896 </td><td>143.753273 </td></tr>\n",
       "\t<tr><th scope=row>TRINITY_DN26877_c0_g1_i1</th><td> 26.418932 </td><td>  694.7618 </td><td>  7.551915 </td><td>  4.564744 </td><td> 11.337250 </td><td> 24.826876 </td><td> 32.892700 </td><td> 18.218481 </td><td> 25.711064 </td><td> 16.4579298</td><td>    0.0000 </td><td> 15.310999 </td></tr>\n",
       "\t<tr><th scope=row>TRINITY_DN4269_c0_g1_i1</th><td>157.818355 </td><td>  694.7618 </td><td>133.776786 </td><td>130.855994 </td><td>153.682718 </td><td> 45.373256 </td><td> 75.503698 </td><td> 99.864265 </td><td> 54.081893 </td><td> 94.9495949</td><td>    0.0000 </td><td> 85.061108 </td></tr>\n",
       "\t<tr><th scope=row>TRINITY_DN3953_c0_g1_i1</th><td> 34.761752 </td><td>  347.3809 </td><td> 19.419211 </td><td> 27.388464 </td><td> 40.310221 </td><td> 32.531768 </td><td> 35.135384 </td><td> 27.665100 </td><td> 27.484241 </td><td> 24.0538974</td><td>  364.8448 </td><td> 22.115888 </td></tr>\n",
       "\t<tr><th scope=row>TRINITY_DN11521_c0_g1_i2</th><td>289.913014 </td><td>  347.3809 </td><td>167.220982 </td><td>190.197666 </td><td>210.368966 </td><td>265.390741 </td><td>261.646479 </td><td>141.024536 </td><td>265.976525 </td><td>162.0473086</td><td>    0.0000 </td><td>266.241268 </td></tr>\n",
       "\t<tr><th scope=row>TRINITY_DN129682_c0_g1_i1</th><td> 79.256795 </td><td>    0.0000 </td><td>  7.551915 </td><td> 31.953208 </td><td> 32.752055 </td><td> 12.841487 </td><td> 25.417087 </td><td> 14.844688 </td><td> 42.556244 </td><td> 17.7239244</td><td>  364.8448 </td><td> 12.759166 </td></tr>\n",
       "\t<tr><th scope=row>TRINITY_DN47302_c0_g1_i1</th><td>  4.171410 </td><td>  347.3809 </td><td>  3.236535 </td><td>  3.043163 </td><td>  3.779083 </td><td>  2.568297 </td><td>  5.980491 </td><td>  2.699034 </td><td>  2.659765 </td><td>  4.6419802</td><td>    0.0000 </td><td> 11.908555 </td></tr>\n",
       "\t<tr><th scope=row>TRINITY_DN29508_c0_g1_i1</th><td>266.275022 </td><td>    0.0000 </td><td>220.084389 </td><td>255.625663 </td><td>289.729714 </td><td>287.649320 </td><td>257.908672 </td><td>152.495431 </td><td>304.099827 </td><td>189.0551933</td><td>  364.8448 </td><td>176.927105 </td></tr>\n",
       "\t<tr><th scope=row>TRINITY_DN38231_c0_g1_i1</th><td>  2.780940 </td><td>  347.3809 </td><td>  0.000000 </td><td>  7.607907 </td><td>  5.038778 </td><td>  0.000000 </td><td>  2.990245 </td><td>  3.373793 </td><td>  1.773177 </td><td>  0.8439964</td><td>  364.8448 </td><td>  3.402444 </td></tr>\n",
       "\t<tr><th scope=row>TRINITY_DN101804_c0_g1_i1</th><td> 59.790214 </td><td>  347.3809 </td><td> 37.759577 </td><td> 47.169021 </td><td> 50.387776 </td><td> 53.934247 </td><td>105.406153 </td><td> 41.160271 </td><td> 76.246604 </td><td> 51.4837803</td><td>    0.0000 </td><td> 35.725665 </td></tr>\n",
       "\t<tr><th scope=row>TRINITY_DN10601_c1_g1_i1</th><td> 60.485449 </td><td>78160.7053 </td><td> 51.784562 </td><td> 63.906416 </td><td> 78.101053 </td><td>118.141685 </td><td>105.406153 </td><td> 51.281649 </td><td>100.184491 </td><td>118.1594958</td><td>63847.8415 </td><td> 55.289720 </td></tr>\n",
       "\t<tr><th scope=row>TRINITY_DN21249_c2_g1_i1</th><td>364.303164 </td><td>  694.7618 </td><td>256.765121 </td><td>336.269473 </td><td>461.048153 </td><td>214.880891 </td><td>316.966020 </td><td>276.651003 </td><td>242.925226 </td><td>363.7624479</td><td>    0.0000 </td><td>434.662262 </td></tr>\n",
       "</tbody>\n",
       "</table>\n"
      ],
      "text/latex": [
       "\\begin{tabular}{r|llllllllllll}\n",
       "  & LA\\_C\\_8 & LA\\_F\\_1 & MA\\_C\\_1 & MA\\_C\\_2 & MA\\_C\\_4 & MD\\_C\\_10 & MD\\_C\\_11 & MD\\_C\\_1 & MD\\_C\\_4 & MD\\_C\\_7 & MD\\_F\\_4 & ML\\_C\\_10\\\\\n",
       "\\hline\n",
       "\tTRINITY\\_DN130836\\_c0\\_g1\\_i1 &   8.342821  &  4515.9519  &   5.394225  &   1.521581  &   5.038778  &   5.136595  &   4.485368  &   4.048551  &   5.319531  &   4.6419802 &   729.6896  &   2.551833 \\\\\n",
       "\tTRINITY\\_DN6090\\_c0\\_g1\\_i1 & 114.018547  &     0.0000  & 149.959461  & 164.330783  & 157.461801  & 181.493023  & 146.522028  & 222.670320  & 189.729921  & 180.6152294 &   364.8448  & 146.305106 \\\\\n",
       "\tTRINITY\\_DN27882\\_c0\\_g1\\_i1 &   9.733291  &   694.7618  &  15.103831  &  10.651069  &   5.038778  &  14.553686  &   7.475614  &  14.169929  &  11.525649  &   9.2839604 &     0.0000  &  10.207333 \\\\\n",
       "\tTRINITY\\_DN33032\\_c0\\_g1\\_i1 &   8.342821  &   694.7618  &   6.473070  &   9.129488  &  10.077555  &   9.417091  &   5.232930  &   6.072827  &   5.319531  &   5.9079748 &   729.6896  &  18.713444 \\\\\n",
       "\tTRINITY\\_DN815\\_c0\\_g2\\_i2 & 241.246561  &     0.0000  & 189.876728  & 313.445753  & 311.144519  & 116.429487  & 217.540358  & 204.451839  & 134.761439  & 316.9206478 &   364.8448  & 281.552268 \\\\\n",
       "\tTRINITY\\_DN12072\\_c0\\_g1\\_i2 & 261.408377  &   694.7618  & 126.224870  & 176.503434  & 238.082243  & 173.788131  & 299.024547  & 118.757504  & 238.492284  & 166.2672906 &  1094.5344  & 249.229046 \\\\\n",
       "\tTRINITY\\_DN131921\\_c0\\_g1\\_i1 &  56.314039  &   347.3809  &  53.942252  &  53.255346  &  23.934194  &  84.753817  &  79.989066  & 103.238057  &  57.628247  &  80.1796579 &     0.0000  &  83.359886 \\\\\n",
       "\tTRINITY\\_DN29174\\_c0\\_g1\\_i1 &  72.999680  &   347.3809  &  93.859519  &  80.643810  & 119.670969  &  63.351338  &  78.493944  &  95.140955  &  58.514836  & 142.2133932 &     0.0000  &  85.061108 \\\\\n",
       "\tTRINITY\\_DN39441\\_c0\\_g1\\_i1 &  25.723697  &     0.0000  &  43.153802  &  34.996371  &  22.674499  &  35.956165  &  38.873191  &  22.267032  &  32.803771  &  13.0819442 &   729.6896  & 143.753273 \\\\\n",
       "\tTRINITY\\_DN26877\\_c0\\_g1\\_i1 &  26.418932  &   694.7618  &   7.551915  &   4.564744  &  11.337250  &  24.826876  &  32.892700  &  18.218481  &  25.711064  &  16.4579298 &     0.0000  &  15.310999 \\\\\n",
       "\tTRINITY\\_DN4269\\_c0\\_g1\\_i1 & 157.818355  &   694.7618  & 133.776786  & 130.855994  & 153.682718  &  45.373256  &  75.503698  &  99.864265  &  54.081893  &  94.9495949 &     0.0000  &  85.061108 \\\\\n",
       "\tTRINITY\\_DN3953\\_c0\\_g1\\_i1 &  34.761752  &   347.3809  &  19.419211  &  27.388464  &  40.310221  &  32.531768  &  35.135384  &  27.665100  &  27.484241  &  24.0538974 &   364.8448  &  22.115888 \\\\\n",
       "\tTRINITY\\_DN11521\\_c0\\_g1\\_i2 & 289.913014  &   347.3809  & 167.220982  & 190.197666  & 210.368966  & 265.390741  & 261.646479  & 141.024536  & 265.976525  & 162.0473086 &     0.0000  & 266.241268 \\\\\n",
       "\tTRINITY\\_DN129682\\_c0\\_g1\\_i1 &  79.256795  &     0.0000  &   7.551915  &  31.953208  &  32.752055  &  12.841487  &  25.417087  &  14.844688  &  42.556244  &  17.7239244 &   364.8448  &  12.759166 \\\\\n",
       "\tTRINITY\\_DN47302\\_c0\\_g1\\_i1 &   4.171410  &   347.3809  &   3.236535  &   3.043163  &   3.779083  &   2.568297  &   5.980491  &   2.699034  &   2.659765  &   4.6419802 &     0.0000  &  11.908555 \\\\\n",
       "\tTRINITY\\_DN29508\\_c0\\_g1\\_i1 & 266.275022  &     0.0000  & 220.084389  & 255.625663  & 289.729714  & 287.649320  & 257.908672  & 152.495431  & 304.099827  & 189.0551933 &   364.8448  & 176.927105 \\\\\n",
       "\tTRINITY\\_DN38231\\_c0\\_g1\\_i1 &   2.780940  &   347.3809  &   0.000000  &   7.607907  &   5.038778  &   0.000000  &   2.990245  &   3.373793  &   1.773177  &   0.8439964 &   364.8448  &   3.402444 \\\\\n",
       "\tTRINITY\\_DN101804\\_c0\\_g1\\_i1 &  59.790214  &   347.3809  &  37.759577  &  47.169021  &  50.387776  &  53.934247  & 105.406153  &  41.160271  &  76.246604  &  51.4837803 &     0.0000  &  35.725665 \\\\\n",
       "\tTRINITY\\_DN10601\\_c1\\_g1\\_i1 &  60.485449  & 78160.7053  &  51.784562  &  63.906416  &  78.101053  & 118.141685  & 105.406153  &  51.281649  & 100.184491  & 118.1594958 & 63847.8415  &  55.289720 \\\\\n",
       "\tTRINITY\\_DN21249\\_c2\\_g1\\_i1 & 364.303164  &   694.7618  & 256.765121  & 336.269473  & 461.048153  & 214.880891  & 316.966020  & 276.651003  & 242.925226  & 363.7624479 &     0.0000  & 434.662262 \\\\\n",
       "\\end{tabular}\n"
      ],
      "text/markdown": [
       "\n",
       "| <!--/--> | LA_C_8 | LA_F_1 | MA_C_1 | MA_C_2 | MA_C_4 | MD_C_10 | MD_C_11 | MD_C_1 | MD_C_4 | MD_C_7 | MD_F_4 | ML_C_10 |\n",
       "|---|---|---|---|---|---|---|---|---|---|---|---|---|\n",
       "| TRINITY_DN130836_c0_g1_i1 |   8.342821  |  4515.9519  |   5.394225  |   1.521581  |   5.038778  |   5.136595  |   4.485368  |   4.048551  |   5.319531  |   4.6419802 |   729.6896  |   2.551833  |\n",
       "| TRINITY_DN6090_c0_g1_i1 | 114.018547  |     0.0000  | 149.959461  | 164.330783  | 157.461801  | 181.493023  | 146.522028  | 222.670320  | 189.729921  | 180.6152294 |   364.8448  | 146.305106  |\n",
       "| TRINITY_DN27882_c0_g1_i1 |   9.733291  |   694.7618  |  15.103831  |  10.651069  |   5.038778  |  14.553686  |   7.475614  |  14.169929  |  11.525649  |   9.2839604 |     0.0000  |  10.207333  |\n",
       "| TRINITY_DN33032_c0_g1_i1 |   8.342821  |   694.7618  |   6.473070  |   9.129488  |  10.077555  |   9.417091  |   5.232930  |   6.072827  |   5.319531  |   5.9079748 |   729.6896  |  18.713444  |\n",
       "| TRINITY_DN815_c0_g2_i2 | 241.246561  |     0.0000  | 189.876728  | 313.445753  | 311.144519  | 116.429487  | 217.540358  | 204.451839  | 134.761439  | 316.9206478 |   364.8448  | 281.552268  |\n",
       "| TRINITY_DN12072_c0_g1_i2 | 261.408377  |   694.7618  | 126.224870  | 176.503434  | 238.082243  | 173.788131  | 299.024547  | 118.757504  | 238.492284  | 166.2672906 |  1094.5344  | 249.229046  |\n",
       "| TRINITY_DN131921_c0_g1_i1 |  56.314039  |   347.3809  |  53.942252  |  53.255346  |  23.934194  |  84.753817  |  79.989066  | 103.238057  |  57.628247  |  80.1796579 |     0.0000  |  83.359886  |\n",
       "| TRINITY_DN29174_c0_g1_i1 |  72.999680  |   347.3809  |  93.859519  |  80.643810  | 119.670969  |  63.351338  |  78.493944  |  95.140955  |  58.514836  | 142.2133932 |     0.0000  |  85.061108  |\n",
       "| TRINITY_DN39441_c0_g1_i1 |  25.723697  |     0.0000  |  43.153802  |  34.996371  |  22.674499  |  35.956165  |  38.873191  |  22.267032  |  32.803771  |  13.0819442 |   729.6896  | 143.753273  |\n",
       "| TRINITY_DN26877_c0_g1_i1 |  26.418932  |   694.7618  |   7.551915  |   4.564744  |  11.337250  |  24.826876  |  32.892700  |  18.218481  |  25.711064  |  16.4579298 |     0.0000  |  15.310999  |\n",
       "| TRINITY_DN4269_c0_g1_i1 | 157.818355  |   694.7618  | 133.776786  | 130.855994  | 153.682718  |  45.373256  |  75.503698  |  99.864265  |  54.081893  |  94.9495949 |     0.0000  |  85.061108  |\n",
       "| TRINITY_DN3953_c0_g1_i1 |  34.761752  |   347.3809  |  19.419211  |  27.388464  |  40.310221  |  32.531768  |  35.135384  |  27.665100  |  27.484241  |  24.0538974 |   364.8448  |  22.115888  |\n",
       "| TRINITY_DN11521_c0_g1_i2 | 289.913014  |   347.3809  | 167.220982  | 190.197666  | 210.368966  | 265.390741  | 261.646479  | 141.024536  | 265.976525  | 162.0473086 |     0.0000  | 266.241268  |\n",
       "| TRINITY_DN129682_c0_g1_i1 |  79.256795  |     0.0000  |   7.551915  |  31.953208  |  32.752055  |  12.841487  |  25.417087  |  14.844688  |  42.556244  |  17.7239244 |   364.8448  |  12.759166  |\n",
       "| TRINITY_DN47302_c0_g1_i1 |   4.171410  |   347.3809  |   3.236535  |   3.043163  |   3.779083  |   2.568297  |   5.980491  |   2.699034  |   2.659765  |   4.6419802 |     0.0000  |  11.908555  |\n",
       "| TRINITY_DN29508_c0_g1_i1 | 266.275022  |     0.0000  | 220.084389  | 255.625663  | 289.729714  | 287.649320  | 257.908672  | 152.495431  | 304.099827  | 189.0551933 |   364.8448  | 176.927105  |\n",
       "| TRINITY_DN38231_c0_g1_i1 |   2.780940  |   347.3809  |   0.000000  |   7.607907  |   5.038778  |   0.000000  |   2.990245  |   3.373793  |   1.773177  |   0.8439964 |   364.8448  |   3.402444  |\n",
       "| TRINITY_DN101804_c0_g1_i1 |  59.790214  |   347.3809  |  37.759577  |  47.169021  |  50.387776  |  53.934247  | 105.406153  |  41.160271  |  76.246604  |  51.4837803 |     0.0000  |  35.725665  |\n",
       "| TRINITY_DN10601_c1_g1_i1 |  60.485449  | 78160.7053  |  51.784562  |  63.906416  |  78.101053  | 118.141685  | 105.406153  |  51.281649  | 100.184491  | 118.1594958 | 63847.8415  |  55.289720  |\n",
       "| TRINITY_DN21249_c2_g1_i1 | 364.303164  |   694.7618  | 256.765121  | 336.269473  | 461.048153  | 214.880891  | 316.966020  | 276.651003  | 242.925226  | 363.7624479 |     0.0000  | 434.662262  |\n",
       "\n"
      ],
      "text/plain": [
       "                          LA_C_8     LA_F_1     MA_C_1     MA_C_2    \n",
       "TRINITY_DN130836_c0_g1_i1   8.342821  4515.9519   5.394225   1.521581\n",
       "TRINITY_DN6090_c0_g1_i1   114.018547     0.0000 149.959461 164.330783\n",
       "TRINITY_DN27882_c0_g1_i1    9.733291   694.7618  15.103831  10.651069\n",
       "TRINITY_DN33032_c0_g1_i1    8.342821   694.7618   6.473070   9.129488\n",
       "TRINITY_DN815_c0_g2_i2    241.246561     0.0000 189.876728 313.445753\n",
       "TRINITY_DN12072_c0_g1_i2  261.408377   694.7618 126.224870 176.503434\n",
       "TRINITY_DN131921_c0_g1_i1  56.314039   347.3809  53.942252  53.255346\n",
       "TRINITY_DN29174_c0_g1_i1   72.999680   347.3809  93.859519  80.643810\n",
       "TRINITY_DN39441_c0_g1_i1   25.723697     0.0000  43.153802  34.996371\n",
       "TRINITY_DN26877_c0_g1_i1   26.418932   694.7618   7.551915   4.564744\n",
       "TRINITY_DN4269_c0_g1_i1   157.818355   694.7618 133.776786 130.855994\n",
       "TRINITY_DN3953_c0_g1_i1    34.761752   347.3809  19.419211  27.388464\n",
       "TRINITY_DN11521_c0_g1_i2  289.913014   347.3809 167.220982 190.197666\n",
       "TRINITY_DN129682_c0_g1_i1  79.256795     0.0000   7.551915  31.953208\n",
       "TRINITY_DN47302_c0_g1_i1    4.171410   347.3809   3.236535   3.043163\n",
       "TRINITY_DN29508_c0_g1_i1  266.275022     0.0000 220.084389 255.625663\n",
       "TRINITY_DN38231_c0_g1_i1    2.780940   347.3809   0.000000   7.607907\n",
       "TRINITY_DN101804_c0_g1_i1  59.790214   347.3809  37.759577  47.169021\n",
       "TRINITY_DN10601_c1_g1_i1   60.485449 78160.7053  51.784562  63.906416\n",
       "TRINITY_DN21249_c2_g1_i1  364.303164   694.7618 256.765121 336.269473\n",
       "                          MA_C_4     MD_C_10    MD_C_11    MD_C_1    \n",
       "TRINITY_DN130836_c0_g1_i1   5.038778   5.136595   4.485368   4.048551\n",
       "TRINITY_DN6090_c0_g1_i1   157.461801 181.493023 146.522028 222.670320\n",
       "TRINITY_DN27882_c0_g1_i1    5.038778  14.553686   7.475614  14.169929\n",
       "TRINITY_DN33032_c0_g1_i1   10.077555   9.417091   5.232930   6.072827\n",
       "TRINITY_DN815_c0_g2_i2    311.144519 116.429487 217.540358 204.451839\n",
       "TRINITY_DN12072_c0_g1_i2  238.082243 173.788131 299.024547 118.757504\n",
       "TRINITY_DN131921_c0_g1_i1  23.934194  84.753817  79.989066 103.238057\n",
       "TRINITY_DN29174_c0_g1_i1  119.670969  63.351338  78.493944  95.140955\n",
       "TRINITY_DN39441_c0_g1_i1   22.674499  35.956165  38.873191  22.267032\n",
       "TRINITY_DN26877_c0_g1_i1   11.337250  24.826876  32.892700  18.218481\n",
       "TRINITY_DN4269_c0_g1_i1   153.682718  45.373256  75.503698  99.864265\n",
       "TRINITY_DN3953_c0_g1_i1    40.310221  32.531768  35.135384  27.665100\n",
       "TRINITY_DN11521_c0_g1_i2  210.368966 265.390741 261.646479 141.024536\n",
       "TRINITY_DN129682_c0_g1_i1  32.752055  12.841487  25.417087  14.844688\n",
       "TRINITY_DN47302_c0_g1_i1    3.779083   2.568297   5.980491   2.699034\n",
       "TRINITY_DN29508_c0_g1_i1  289.729714 287.649320 257.908672 152.495431\n",
       "TRINITY_DN38231_c0_g1_i1    5.038778   0.000000   2.990245   3.373793\n",
       "TRINITY_DN101804_c0_g1_i1  50.387776  53.934247 105.406153  41.160271\n",
       "TRINITY_DN10601_c1_g1_i1   78.101053 118.141685 105.406153  51.281649\n",
       "TRINITY_DN21249_c2_g1_i1  461.048153 214.880891 316.966020 276.651003\n",
       "                          MD_C_4     MD_C_7      MD_F_4     ML_C_10   \n",
       "TRINITY_DN130836_c0_g1_i1   5.319531   4.6419802   729.6896   2.551833\n",
       "TRINITY_DN6090_c0_g1_i1   189.729921 180.6152294   364.8448 146.305106\n",
       "TRINITY_DN27882_c0_g1_i1   11.525649   9.2839604     0.0000  10.207333\n",
       "TRINITY_DN33032_c0_g1_i1    5.319531   5.9079748   729.6896  18.713444\n",
       "TRINITY_DN815_c0_g2_i2    134.761439 316.9206478   364.8448 281.552268\n",
       "TRINITY_DN12072_c0_g1_i2  238.492284 166.2672906  1094.5344 249.229046\n",
       "TRINITY_DN131921_c0_g1_i1  57.628247  80.1796579     0.0000  83.359886\n",
       "TRINITY_DN29174_c0_g1_i1   58.514836 142.2133932     0.0000  85.061108\n",
       "TRINITY_DN39441_c0_g1_i1   32.803771  13.0819442   729.6896 143.753273\n",
       "TRINITY_DN26877_c0_g1_i1   25.711064  16.4579298     0.0000  15.310999\n",
       "TRINITY_DN4269_c0_g1_i1    54.081893  94.9495949     0.0000  85.061108\n",
       "TRINITY_DN3953_c0_g1_i1    27.484241  24.0538974   364.8448  22.115888\n",
       "TRINITY_DN11521_c0_g1_i2  265.976525 162.0473086     0.0000 266.241268\n",
       "TRINITY_DN129682_c0_g1_i1  42.556244  17.7239244   364.8448  12.759166\n",
       "TRINITY_DN47302_c0_g1_i1    2.659765   4.6419802     0.0000  11.908555\n",
       "TRINITY_DN29508_c0_g1_i1  304.099827 189.0551933   364.8448 176.927105\n",
       "TRINITY_DN38231_c0_g1_i1    1.773177   0.8439964   364.8448   3.402444\n",
       "TRINITY_DN101804_c0_g1_i1  76.246604  51.4837803     0.0000  35.725665\n",
       "TRINITY_DN10601_c1_g1_i1  100.184491 118.1594958 63847.8415  55.289720\n",
       "TRINITY_DN21249_c2_g1_i1  242.925226 363.7624479     0.0000 434.662262"
      ]
     },
     "metadata": {},
     "output_type": "display_data"
    }
   ],
   "source": [
    "contam_subset <- norm_mat_sub[max.col(norm_mat_sub) %in% c(19,28),]\n",
    "contam_subset[1:20,18:29]"
   ]
  },
  {
   "cell_type": "markdown",
   "metadata": {},
   "source": [
    "Scrolling through, it's clear that these transcripts have the highest expression in at least one of the parasite samples. This is indicative of Loxo contamination in the Rhithro assembly. Interestingly, oftentimes even when the highest value is in a parasite column, the other parasite column has a value of zero. I am not quite sure what this could mean. Different expression patterns between the two parasite externae, with both ending up in the Rhithro assembly? \n",
    "\n",
    "Okay now I'm going to save the rownames for use later:"
   ]
  },
  {
   "cell_type": "code",
   "execution_count": 17,
   "metadata": {},
   "outputs": [
    {
     "data": {
      "text/html": [
       "5797"
      ],
      "text/latex": [
       "5797"
      ],
      "text/markdown": [
       "5797"
      ],
      "text/plain": [
       "[1] 5797"
      ]
     },
     "metadata": {},
     "output_type": "display_data"
    }
   ],
   "source": [
    "contam_IDs <- rownames(contam_subset)\n",
    "length(contam_IDs)"
   ]
  },
  {
   "cell_type": "markdown",
   "metadata": {},
   "source": [
    "There are 5797 transcripts that have higher expression in a parasite sample than any of the \"clean\" samples. It's a large number, but relative to the ~150K transcripts, not really."
   ]
  },
  {
   "cell_type": "markdown",
   "metadata": {},
   "source": [
    "Back to regularly scheduled programming. I am now going to remove the Loxo samples from the raw expression matrix and sample metadata, and make another DESeq dataset object. "
   ]
  },
  {
   "cell_type": "code",
   "execution_count": 18,
   "metadata": {},
   "outputs": [],
   "source": [
    "all_counts <- all_counts[,-c(29,41)]\n",
    "coldata <- coldata[-c(29,41),]"
   ]
  },
  {
   "cell_type": "markdown",
   "metadata": {},
   "source": [
    "Verify againg that the counts and metadata match up:"
   ]
  },
  {
   "cell_type": "code",
   "execution_count": 19,
   "metadata": {},
   "outputs": [
    {
     "data": {
      "text/html": [
       "TRUE"
      ],
      "text/latex": [
       "TRUE"
      ],
      "text/markdown": [
       "TRUE"
      ],
      "text/plain": [
       "[1] TRUE"
      ]
     },
     "metadata": {},
     "output_type": "display_data"
    }
   ],
   "source": [
    "all(rownames(coldata) == colnames(all_counts))"
   ]
  },
  {
   "cell_type": "markdown",
   "metadata": {},
   "source": [
    "Okay let's get started. This part of the analysis is just going to do a base comparison between uninfected and parasitized."
   ]
  },
  {
   "cell_type": "code",
   "execution_count": 20,
   "metadata": {},
   "outputs": [
    {
     "name": "stderr",
     "output_type": "stream",
     "text": [
      "converting counts to integer mode\n",
      "factor levels were dropped which had no samples\n"
     ]
    }
   ],
   "source": [
    "dds <- DESeqDataSetFromMatrix(countData = all_counts, colData = coldata, design = ~ condition)"
   ]
  },
  {
   "cell_type": "code",
   "execution_count": 21,
   "metadata": {},
   "outputs": [
    {
     "name": "stderr",
     "output_type": "stream",
     "text": [
      "estimating size factors\n",
      "estimating dispersions\n",
      "gene-wise dispersion estimates\n",
      "mean-dispersion relationship\n",
      "-- note: fitType='parametric', but the dispersion trend was not well captured by the\n",
      "   function: y = a/x + b, and a local regression fit was automatically substituted.\n",
      "   specify fitType='local' or 'mean' to avoid this message next time.\n",
      "final dispersion estimates\n",
      "fitting model and testing\n",
      "-- replacing outliers and refitting for 18094 genes\n",
      "-- DESeq argument 'minReplicatesForReplace' = 7 \n",
      "-- original counts are preserved in counts(dds)\n",
      "estimating dispersions\n",
      "fitting model and testing\n"
     ]
    }
   ],
   "source": [
    "library(\"BiocParallel\")\n",
    "register(MulticoreParam(8))\n",
    "dds <- DESeq(dds)"
   ]
  },
  {
   "cell_type": "code",
   "execution_count": 22,
   "metadata": {},
   "outputs": [],
   "source": [
    "res <- results(dds, alpha=0.05)"
   ]
  },
  {
   "cell_type": "code",
   "execution_count": 23,
   "metadata": {},
   "outputs": [
    {
     "name": "stdout",
     "output_type": "stream",
     "text": [
      "\n",
      "out of 148816 with nonzero total read count\n",
      "adjusted p-value < 0.05\n",
      "LFC > 0 (up)       : 1250, 0.84%\n",
      "LFC < 0 (down)     : 1127, 0.76%\n",
      "outliers [1]       : 0, 0%\n",
      "low counts [2]     : 43963, 30%\n",
      "(mean count < 1)\n",
      "[1] see 'cooksCutoff' argument of ?results\n",
      "[2] see 'independentFiltering' argument of ?results\n",
      "\n"
     ]
    }
   ],
   "source": [
    "summary(res)"
   ]
  },
  {
   "cell_type": "code",
   "execution_count": 24,
   "metadata": {},
   "outputs": [
    {
     "name": "stderr",
     "output_type": "stream",
     "text": [
      "using 'apeglm' for LFC shrinkage. If used in published research, please cite:\n",
      "    Zhu, A., Ibrahim, J.G., Love, M.I. (2018) Heavy-tailed prior distributions for\n",
      "    sequence count data: removing the noise and preserving large differences.\n",
      "    Bioinformatics. https://doi.org/10.1093/bioinformatics/bty895\n"
     ]
    }
   ],
   "source": [
    "resLFC <- lfcShrink(dds, coef=\"condition_P_vs_C\", type=\"apeglm\")"
   ]
  },
  {
   "cell_type": "code",
   "execution_count": 25,
   "metadata": {},
   "outputs": [
    {
     "data": {
      "image/png": "[encoded data removed]",
      "text/plain": [
       "Plot with title “”"
      ]
     },
     "metadata": {},
     "output_type": "display_data"
    }
   ],
   "source": [
    "plotMA(resLFC, ylim=c(-13,13))"
   ]
  },
  {
   "cell_type": "markdown",
   "metadata": {},
   "source": [
    "Here we see the pattern I alluded to earlier, where there is a cloud of extremely overexpressed (>10 LFC) in the infected relative to the control. It is my suspicion that these represent contamination from Loxo rather than an actually response by the crabs. \n",
    "\n",
    "Let's see if these match the transcript IDs we pulled out earlier as possible Loxo contaminant transcripts. \n",
    "\n",
    "First let's make an ordered data.frame of the significant transcripts."
   ]
  },
  {
   "cell_type": "code",
   "execution_count": 26,
   "metadata": {},
   "outputs": [
    {
     "data": {
      "text/html": [
       "<table>\n",
       "<thead><tr><th></th><th scope=col>baseMean</th><th scope=col>log2FoldChange</th><th scope=col>lfcSE</th><th scope=col>stat</th><th scope=col>pvalue</th><th scope=col>padj</th></tr></thead>\n",
       "<tbody>\n",
       "\t<tr><th scope=row>TRINITY_DN85899_c0_g1_i1</th><td> 1424.7840   </td><td>12.26715     </td><td>0.4445381    </td><td>27.59526     </td><td>1.268269e-167</td><td>1.997960e-164</td></tr>\n",
       "\t<tr><th scope=row>TRINITY_DN98899_c0_g1_i1</th><td> 1162.4834   </td><td>12.22471     </td><td>0.3937168    </td><td>31.04949     </td><td>1.159040e-211</td><td>5.318884e-208</td></tr>\n",
       "\t<tr><th scope=row>TRINITY_DN19987_c0_g1_i1</th><td>37383.9752   </td><td>12.10107     </td><td>0.3318683    </td><td>36.46348     </td><td>4.207132e-291</td><td>2.220272e-286</td></tr>\n",
       "\t<tr><th scope=row>TRINITY_DN50085_c0_g1_i1</th><td> 7216.9053   </td><td>12.06161     </td><td>0.3963491    </td><td>30.43177     </td><td>2.087523e-203</td><td>8.160515e-200</td></tr>\n",
       "\t<tr><th scope=row>TRINITY_DN74741_c0_g1_i1</th><td>  607.8118   </td><td>12.03959     </td><td>0.4835273    </td><td>24.89951     </td><td>7.532338e-137</td><td>7.718671e-134</td></tr>\n",
       "\t<tr><th scope=row>TRINITY_DN80409_c0_g1_i1</th><td>11692.3408   </td><td>12.03888     </td><td>0.3825126    </td><td>31.47316     </td><td>2.023887e-217</td><td>1.256572e-213</td></tr>\n",
       "\t<tr><th scope=row>TRINITY_DN60860_c0_g1_i1</th><td> 2188.9247   </td><td>12.00837     </td><td>0.4209431    </td><td>28.52730     </td><td>5.373763e-179</td><td>1.066520e-175</td></tr>\n",
       "\t<tr><th scope=row>TRINITY_DN157863_c0_g1_i1</th><td> 1872.3459   </td><td>11.99681     </td><td>0.4331513    </td><td>27.69657     </td><td>7.678425e-169</td><td>1.266316e-165</td></tr>\n",
       "\t<tr><th scope=row>TRINITY_DN135642_c0_g1_i1</th><td> 1755.0800   </td><td>11.98694     </td><td>0.5426055    </td><td>22.09144     </td><td>3.819859e-108</td><td>3.445970e-105</td></tr>\n",
       "\t<tr><th scope=row>TRINITY_DN50011_c0_g1_i1</th><td>23082.6038   </td><td>11.96841     </td><td>0.3934662    </td><td>30.41789     </td><td>3.186608e-203</td><td>1.201215e-199</td></tr>\n",
       "\t<tr><th scope=row>TRINITY_DN134734_c0_g1_i1</th><td>  851.8327   </td><td>11.89518     </td><td>0.4487790    </td><td>26.50566     </td><td>8.341217e-155</td><td>1.000453e-151</td></tr>\n",
       "\t<tr><th scope=row>TRINITY_DN86249_c0_g1_i1</th><td> 1617.9669   </td><td>11.87137     </td><td>0.5074222    </td><td>23.39545     </td><td>4.754588e-121</td><td>4.402081e-118</td></tr>\n",
       "\t<tr><th scope=row>TRINITY_DN57851_c0_g1_i1</th><td> 3003.1226   </td><td>11.86582     </td><td>0.3757768    </td><td>31.57678     </td><td>7.694790e-219</td><td>5.414465e-215</td></tr>\n",
       "\t<tr><th scope=row>TRINITY_DN91413_c0_g1_i1</th><td>  941.9773   </td><td>11.86082     </td><td>0.3983708    </td><td>29.77331     </td><td>8.659734e-195</td><td>2.405310e-191</td></tr>\n",
       "\t<tr><th scope=row>TRINITY_DN60293_c0_g1_i1</th><td> 1585.5205   </td><td>11.84327     </td><td>0.4755173    </td><td>24.90609     </td><td>6.392396e-137</td><td>6.614751e-134</td></tr>\n",
       "\t<tr><th scope=row>TRINITY_DN57720_c0_g1_i1</th><td> 1475.3705   </td><td>11.84260     </td><td>0.4305670    </td><td>27.50467     </td><td>1.543681e-166</td><td>2.361340e-163</td></tr>\n",
       "\t<tr><th scope=row>TRINITY_DN132183_c0_g1_i1</th><td>  756.5510   </td><td>11.83989     </td><td>0.4143299    </td><td>28.57601     </td><td>1.335195e-179</td><td>2.763278e-176</td></tr>\n",
       "\t<tr><th scope=row>TRINITY_DN103032_c0_g1_i1</th><td> 2380.5890   </td><td>11.83897     </td><td>0.3819963    </td><td>30.99236     </td><td>6.831517e-211</td><td>3.004387e-207</td></tr>\n",
       "\t<tr><th scope=row>TRINITY_DN80491_c0_g1_i1</th><td> 9266.9257   </td><td>11.83830     </td><td>0.3718812    </td><td>31.83355     </td><td>2.223694e-222</td><td>2.133695e-218</td></tr>\n",
       "\t<tr><th scope=row>TRINITY_DN155874_c0_g1_i1</th><td>  486.0349   </td><td>11.81813     </td><td>0.4062479    </td><td>29.09093     </td><td>4.674894e-186</td><td>1.121422e-182</td></tr>\n",
       "\t<tr><th scope=row>TRINITY_DN151054_c0_g1_i1</th><td>  523.5639   </td><td>11.79958     </td><td>0.4136321    </td><td>28.52676     </td><td>5.456483e-179</td><td>1.066520e-175</td></tr>\n",
       "\t<tr><th scope=row>TRINITY_DN47573_c0_g1_i1</th><td>25946.4941   </td><td>11.79203     </td><td>0.3408485    </td><td>34.59611     </td><td>2.890547e-262</td><td>1.016972e-257</td></tr>\n",
       "\t<tr><th scope=row>TRINITY_DN141230_c0_g1_i1</th><td> 2270.5299   </td><td>11.77924     </td><td>0.4872985    </td><td>24.17254     </td><td>4.327225e-129</td><td>4.228981e-126</td></tr>\n",
       "\t<tr><th scope=row>TRINITY_DN82676_c0_g1_i1</th><td>  780.8767   </td><td>11.77782     </td><td>0.4000173    </td><td>29.44326     </td><td>1.535521e-190</td><td>4.051779e-187</td></tr>\n",
       "\t<tr><th scope=row>TRINITY_DN120239_c0_g1_i1</th><td> 2688.1088   </td><td>11.77408     </td><td>0.4251674    </td><td>27.69281     </td><td>8.521949e-169</td><td>1.383807e-165</td></tr>\n",
       "\t<tr><th scope=row>TRINITY_DN142548_c0_g1_i1</th><td> 2093.4540   </td><td>11.77318     </td><td>0.4510599    </td><td>26.10114     </td><td>3.538541e-150</td><td>4.104241e-147</td></tr>\n",
       "\t<tr><th scope=row>TRINITY_DN94855_c0_g1_i1</th><td>  766.5092   </td><td>11.76948     </td><td>0.4100273    </td><td>28.70413     </td><td>3.388060e-181</td><td>7.298019e-178</td></tr>\n",
       "\t<tr><th scope=row>TRINITY_DN114680_c0_g1_i1</th><td> 5862.3102   </td><td>11.76823     </td><td>0.4576123    </td><td>25.71659     </td><td>7.624711e-146</td><td>8.471294e-143</td></tr>\n",
       "\t<tr><th scope=row>TRINITY_DN103226_c0_g1_i1</th><td>  717.1787   </td><td>11.76755     </td><td>0.4408063    </td><td>26.69552     </td><td>5.305766e-157</td><td>6.588388e-154</td></tr>\n",
       "\t<tr><th scope=row>TRINITY_DN74222_c0_g1_i1</th><td>  922.8027   </td><td>11.76297     </td><td>0.4315614    </td><td>27.25678     </td><td>1.381264e-163</td><td>1.970130e-160</td></tr>\n",
       "\t<tr><th scope=row>...</th><td>...</td><td>...</td><td>...</td><td>...</td><td>...</td><td>...</td></tr>\n",
       "\t<tr><th scope=row>TRINITY_DN14157_c0_g1_i1</th><td> 83.89386   </td><td> -7.879530  </td><td>1.649771    </td><td>-4.776134   </td><td>1.786973e-06</td><td>3.332357e-04</td></tr>\n",
       "\t<tr><th scope=row>TRINITY_DN21051_c0_g1_i1</th><td> 62.58587   </td><td> -7.891642  </td><td>1.623241    </td><td>-4.861658   </td><td>1.164068e-06</td><td>2.320280e-04</td></tr>\n",
       "\t<tr><th scope=row>TRINITY_DN147449_c0_g1_i1</th><td> 19.08123   </td><td> -7.906902  </td><td>2.315797    </td><td>-3.414333   </td><td>6.393839e-04</td><td>3.332627e-02</td></tr>\n",
       "\t<tr><th scope=row>TRINITY_DN23781_c0_g1_i1</th><td> 79.38438   </td><td> -7.956873  </td><td>2.257945    </td><td>-3.523944   </td><td>4.251739e-04</td><td>2.484842e-02</td></tr>\n",
       "\t<tr><th scope=row>TRINITY_DN13366_c0_g1_i1</th><td> 64.25435   </td><td> -7.973684  </td><td>2.350005    </td><td>-3.393049   </td><td>6.911921e-04</td><td>3.531168e-02</td></tr>\n",
       "\t<tr><th scope=row>TRINITY_DN93609_c0_g1_i1</th><td> 32.58295   </td><td> -7.977969  </td><td>2.253314    </td><td>-3.540549   </td><td>3.992962e-04</td><td>2.371689e-02</td></tr>\n",
       "\t<tr><th scope=row>TRINITY_DN15912_c0_g1_i1</th><td> 30.95554   </td><td> -7.996108  </td><td>2.115147    </td><td>-3.780403   </td><td>1.565747e-04</td><td>1.194949e-02</td></tr>\n",
       "\t<tr><th scope=row>TRINITY_DN95228_c0_g1_i1</th><td> 47.03367   </td><td> -8.039965  </td><td>2.073350    </td><td>-3.877766   </td><td>1.054199e-04</td><td>8.823839e-03</td></tr>\n",
       "\t<tr><th scope=row>TRINITY_DN80778_c0_g1_i1</th><td> 58.54765   </td><td> -8.051339  </td><td>1.785184    </td><td>-4.510090   </td><td>6.480008e-06</td><td>9.926733e-04</td></tr>\n",
       "\t<tr><th scope=row>TRINITY_DN4715_c0_g1_i1</th><td>102.65025   </td><td> -8.082352  </td><td>1.848850    </td><td>-4.371556   </td><td>1.233644e-05</td><td>1.682283e-03</td></tr>\n",
       "\t<tr><th scope=row>TRINITY_DN92710_c0_g1_i1</th><td> 50.24832   </td><td> -8.104797  </td><td>1.991429    </td><td>-4.069840   </td><td>4.704537e-05</td><td>4.858654e-03</td></tr>\n",
       "\t<tr><th scope=row>TRINITY_DN109572_c0_g1_i1</th><td>151.26552   </td><td> -8.158647  </td><td>1.473410    </td><td>-5.537257   </td><td>3.072457e-08</td><td>9.083802e-06</td></tr>\n",
       "\t<tr><th scope=row>TRINITY_DN94316_c0_g1_i1</th><td> 74.93746   </td><td> -8.164761  </td><td>2.152372    </td><td>-3.793378   </td><td>1.486117e-04</td><td>1.148292e-02</td></tr>\n",
       "\t<tr><th scope=row>TRINITY_DN5906_c1_g1_i1</th><td> 53.95139   </td><td> -8.208567  </td><td>2.212298    </td><td>-3.710425   </td><td>2.069114e-04</td><td>1.473563e-02</td></tr>\n",
       "\t<tr><th scope=row>TRINITY_DN272_c0_g1_i2</th><td> 26.76452   </td><td> -8.236143  </td><td>1.815758    </td><td>-4.535925   </td><td>5.735151e-06</td><td>8.954640e-04</td></tr>\n",
       "\t<tr><th scope=row>TRINITY_DN14517_c0_g1_i1</th><td> 42.16978   </td><td> -8.294827  </td><td>2.439259    </td><td>-3.400553   </td><td>6.724976e-04</td><td>3.455734e-02</td></tr>\n",
       "\t<tr><th scope=row>TRINITY_DN1876_c0_g2_i1</th><td> 14.92489   </td><td> -8.372680  </td><td>2.266814    </td><td>-3.693590   </td><td>2.211103e-04</td><td>1.553778e-02</td></tr>\n",
       "\t<tr><th scope=row>TRINITY_DN129491_c0_g1_i1</th><td> 19.90878   </td><td> -8.428341  </td><td>2.464891    </td><td>-3.419356   </td><td>6.276955e-04</td><td>3.283053e-02</td></tr>\n",
       "\t<tr><th scope=row>TRINITY_DN17217_c0_g1_i1</th><td>575.96279   </td><td> -8.483669  </td><td>1.438127    </td><td>-5.899111   </td><td>3.654650e-09</td><td>1.321031e-06</td></tr>\n",
       "\t<tr><th scope=row>TRINITY_DN3369_c0_g1_i1</th><td>331.62025   </td><td> -8.521172  </td><td>1.536952    </td><td>-5.544202   </td><td>2.952975e-08</td><td>8.804536e-06</td></tr>\n",
       "\t<tr><th scope=row>TRINITY_DN99748_c0_g1_i1</th><td> 21.15845   </td><td> -8.524719  </td><td>2.343272    </td><td>-3.637955   </td><td>2.748119e-04</td><td>1.823120e-02</td></tr>\n",
       "\t<tr><th scope=row>TRINITY_DN3684_c0_g1_i1</th><td> 36.30526   </td><td> -8.589969  </td><td>2.262640    </td><td>-3.796437   </td><td>1.467908e-04</td><td>1.137553e-02</td></tr>\n",
       "\t<tr><th scope=row>TRINITY_DN8875_c0_g1_i1</th><td> 47.60278   </td><td> -8.646215  </td><td>1.978614    </td><td>-4.369834   </td><td>1.243410e-05</td><td>1.693412e-03</td></tr>\n",
       "\t<tr><th scope=row>TRINITY_DN9318_c0_g1_i1</th><td> 69.63697   </td><td> -8.680717  </td><td>1.864791    </td><td>-4.655062   </td><td>3.238827e-06</td><td>5.613329e-04</td></tr>\n",
       "\t<tr><th scope=row>TRINITY_DN6327_c0_g1_i2</th><td>234.95478   </td><td> -8.776971  </td><td>1.818974    </td><td>-4.825231   </td><td>1.398413e-06</td><td>2.721093e-04</td></tr>\n",
       "\t<tr><th scope=row>TRINITY_DN93264_c0_g1_i1</th><td> 12.45550   </td><td> -9.272850  </td><td>2.388006    </td><td>-3.883093   </td><td>1.031361e-04</td><td>8.653265e-03</td></tr>\n",
       "\t<tr><th scope=row>TRINITY_DN2414_c0_g1_i1</th><td> 20.18046   </td><td>-10.134620  </td><td>2.990890    </td><td>-3.388496   </td><td>7.027702e-04</td><td>3.564440e-02</td></tr>\n",
       "\t<tr><th scope=row>TRINITY_DN12675_c0_g1_i1</th><td> 12.10526   </td><td>-23.783258  </td><td>2.991012    </td><td>-7.951576   </td><td>1.841534e-15</td><td>1.079835e-12</td></tr>\n",
       "\t<tr><th scope=row>TRINITY_DN111888_c0_g1_i1</th><td> 15.07193   </td><td>-24.081371  </td><td>2.990952    </td><td>-8.051407   </td><td>8.184782e-16</td><td>4.880720e-13</td></tr>\n",
       "\t<tr><th scope=row>TRINITY_DN113336_c0_g1_i1</th><td> 19.26839   </td><td>-24.174535  </td><td>2.990899    </td><td>-8.082699   </td><td>6.334868e-16</td><td>3.799049e-13</td></tr>\n",
       "</tbody>\n",
       "</table>\n"
      ],
      "text/latex": [
       "\\begin{tabular}{r|llllll}\n",
       "  & baseMean & log2FoldChange & lfcSE & stat & pvalue & padj\\\\\n",
       "\\hline\n",
       "\tTRINITY\\_DN85899\\_c0\\_g1\\_i1 &  1424.7840    & 12.26715      & 0.4445381     & 27.59526      & 1.268269e-167 & 1.997960e-164\\\\\n",
       "\tTRINITY\\_DN98899\\_c0\\_g1\\_i1 &  1162.4834    & 12.22471      & 0.3937168     & 31.04949      & 1.159040e-211 & 5.318884e-208\\\\\n",
       "\tTRINITY\\_DN19987\\_c0\\_g1\\_i1 & 37383.9752    & 12.10107      & 0.3318683     & 36.46348      & 4.207132e-291 & 2.220272e-286\\\\\n",
       "\tTRINITY\\_DN50085\\_c0\\_g1\\_i1 &  7216.9053    & 12.06161      & 0.3963491     & 30.43177      & 2.087523e-203 & 8.160515e-200\\\\\n",
       "\tTRINITY\\_DN74741\\_c0\\_g1\\_i1 &   607.8118    & 12.03959      & 0.4835273     & 24.89951      & 7.532338e-137 & 7.718671e-134\\\\\n",
       "\tTRINITY\\_DN80409\\_c0\\_g1\\_i1 & 11692.3408    & 12.03888      & 0.3825126     & 31.47316      & 2.023887e-217 & 1.256572e-213\\\\\n",
       "\tTRINITY\\_DN60860\\_c0\\_g1\\_i1 &  2188.9247    & 12.00837      & 0.4209431     & 28.52730      & 5.373763e-179 & 1.066520e-175\\\\\n",
       "\tTRINITY\\_DN157863\\_c0\\_g1\\_i1 &  1872.3459    & 11.99681      & 0.4331513     & 27.69657      & 7.678425e-169 & 1.266316e-165\\\\\n",
       "\tTRINITY\\_DN135642\\_c0\\_g1\\_i1 &  1755.0800    & 11.98694      & 0.5426055     & 22.09144      & 3.819859e-108 & 3.445970e-105\\\\\n",
       "\tTRINITY\\_DN50011\\_c0\\_g1\\_i1 & 23082.6038    & 11.96841      & 0.3934662     & 30.41789      & 3.186608e-203 & 1.201215e-199\\\\\n",
       "\tTRINITY\\_DN134734\\_c0\\_g1\\_i1 &   851.8327    & 11.89518      & 0.4487790     & 26.50566      & 8.341217e-155 & 1.000453e-151\\\\\n",
       "\tTRINITY\\_DN86249\\_c0\\_g1\\_i1 &  1617.9669    & 11.87137      & 0.5074222     & 23.39545      & 4.754588e-121 & 4.402081e-118\\\\\n",
       "\tTRINITY\\_DN57851\\_c0\\_g1\\_i1 &  3003.1226    & 11.86582      & 0.3757768     & 31.57678      & 7.694790e-219 & 5.414465e-215\\\\\n",
       "\tTRINITY\\_DN91413\\_c0\\_g1\\_i1 &   941.9773    & 11.86082      & 0.3983708     & 29.77331      & 8.659734e-195 & 2.405310e-191\\\\\n",
       "\tTRINITY\\_DN60293\\_c0\\_g1\\_i1 &  1585.5205    & 11.84327      & 0.4755173     & 24.90609      & 6.392396e-137 & 6.614751e-134\\\\\n",
       "\tTRINITY\\_DN57720\\_c0\\_g1\\_i1 &  1475.3705    & 11.84260      & 0.4305670     & 27.50467      & 1.543681e-166 & 2.361340e-163\\\\\n",
       "\tTRINITY\\_DN132183\\_c0\\_g1\\_i1 &   756.5510    & 11.83989      & 0.4143299     & 28.57601      & 1.335195e-179 & 2.763278e-176\\\\\n",
       "\tTRINITY\\_DN103032\\_c0\\_g1\\_i1 &  2380.5890    & 11.83897      & 0.3819963     & 30.99236      & 6.831517e-211 & 3.004387e-207\\\\\n",
       "\tTRINITY\\_DN80491\\_c0\\_g1\\_i1 &  9266.9257    & 11.83830      & 0.3718812     & 31.83355      & 2.223694e-222 & 2.133695e-218\\\\\n",
       "\tTRINITY\\_DN155874\\_c0\\_g1\\_i1 &   486.0349    & 11.81813      & 0.4062479     & 29.09093      & 4.674894e-186 & 1.121422e-182\\\\\n",
       "\tTRINITY\\_DN151054\\_c0\\_g1\\_i1 &   523.5639    & 11.79958      & 0.4136321     & 28.52676      & 5.456483e-179 & 1.066520e-175\\\\\n",
       "\tTRINITY\\_DN47573\\_c0\\_g1\\_i1 & 25946.4941    & 11.79203      & 0.3408485     & 34.59611      & 2.890547e-262 & 1.016972e-257\\\\\n",
       "\tTRINITY\\_DN141230\\_c0\\_g1\\_i1 &  2270.5299    & 11.77924      & 0.4872985     & 24.17254      & 4.327225e-129 & 4.228981e-126\\\\\n",
       "\tTRINITY\\_DN82676\\_c0\\_g1\\_i1 &   780.8767    & 11.77782      & 0.4000173     & 29.44326      & 1.535521e-190 & 4.051779e-187\\\\\n",
       "\tTRINITY\\_DN120239\\_c0\\_g1\\_i1 &  2688.1088    & 11.77408      & 0.4251674     & 27.69281      & 8.521949e-169 & 1.383807e-165\\\\\n",
       "\tTRINITY\\_DN142548\\_c0\\_g1\\_i1 &  2093.4540    & 11.77318      & 0.4510599     & 26.10114      & 3.538541e-150 & 4.104241e-147\\\\\n",
       "\tTRINITY\\_DN94855\\_c0\\_g1\\_i1 &   766.5092    & 11.76948      & 0.4100273     & 28.70413      & 3.388060e-181 & 7.298019e-178\\\\\n",
       "\tTRINITY\\_DN114680\\_c0\\_g1\\_i1 &  5862.3102    & 11.76823      & 0.4576123     & 25.71659      & 7.624711e-146 & 8.471294e-143\\\\\n",
       "\tTRINITY\\_DN103226\\_c0\\_g1\\_i1 &   717.1787    & 11.76755      & 0.4408063     & 26.69552      & 5.305766e-157 & 6.588388e-154\\\\\n",
       "\tTRINITY\\_DN74222\\_c0\\_g1\\_i1 &   922.8027    & 11.76297      & 0.4315614     & 27.25678      & 1.381264e-163 & 1.970130e-160\\\\\n",
       "\t... & ... & ... & ... & ... & ... & ...\\\\\n",
       "\tTRINITY\\_DN14157\\_c0\\_g1\\_i1 &  83.89386    &  -7.879530   & 1.649771     & -4.776134    & 1.786973e-06 & 3.332357e-04\\\\\n",
       "\tTRINITY\\_DN21051\\_c0\\_g1\\_i1 &  62.58587    &  -7.891642   & 1.623241     & -4.861658    & 1.164068e-06 & 2.320280e-04\\\\\n",
       "\tTRINITY\\_DN147449\\_c0\\_g1\\_i1 &  19.08123    &  -7.906902   & 2.315797     & -3.414333    & 6.393839e-04 & 3.332627e-02\\\\\n",
       "\tTRINITY\\_DN23781\\_c0\\_g1\\_i1 &  79.38438    &  -7.956873   & 2.257945     & -3.523944    & 4.251739e-04 & 2.484842e-02\\\\\n",
       "\tTRINITY\\_DN13366\\_c0\\_g1\\_i1 &  64.25435    &  -7.973684   & 2.350005     & -3.393049    & 6.911921e-04 & 3.531168e-02\\\\\n",
       "\tTRINITY\\_DN93609\\_c0\\_g1\\_i1 &  32.58295    &  -7.977969   & 2.253314     & -3.540549    & 3.992962e-04 & 2.371689e-02\\\\\n",
       "\tTRINITY\\_DN15912\\_c0\\_g1\\_i1 &  30.95554    &  -7.996108   & 2.115147     & -3.780403    & 1.565747e-04 & 1.194949e-02\\\\\n",
       "\tTRINITY\\_DN95228\\_c0\\_g1\\_i1 &  47.03367    &  -8.039965   & 2.073350     & -3.877766    & 1.054199e-04 & 8.823839e-03\\\\\n",
       "\tTRINITY\\_DN80778\\_c0\\_g1\\_i1 &  58.54765    &  -8.051339   & 1.785184     & -4.510090    & 6.480008e-06 & 9.926733e-04\\\\\n",
       "\tTRINITY\\_DN4715\\_c0\\_g1\\_i1 & 102.65025    &  -8.082352   & 1.848850     & -4.371556    & 1.233644e-05 & 1.682283e-03\\\\\n",
       "\tTRINITY\\_DN92710\\_c0\\_g1\\_i1 &  50.24832    &  -8.104797   & 1.991429     & -4.069840    & 4.704537e-05 & 4.858654e-03\\\\\n",
       "\tTRINITY\\_DN109572\\_c0\\_g1\\_i1 & 151.26552    &  -8.158647   & 1.473410     & -5.537257    & 3.072457e-08 & 9.083802e-06\\\\\n",
       "\tTRINITY\\_DN94316\\_c0\\_g1\\_i1 &  74.93746    &  -8.164761   & 2.152372     & -3.793378    & 1.486117e-04 & 1.148292e-02\\\\\n",
       "\tTRINITY\\_DN5906\\_c1\\_g1\\_i1 &  53.95139    &  -8.208567   & 2.212298     & -3.710425    & 2.069114e-04 & 1.473563e-02\\\\\n",
       "\tTRINITY\\_DN272\\_c0\\_g1\\_i2 &  26.76452    &  -8.236143   & 1.815758     & -4.535925    & 5.735151e-06 & 8.954640e-04\\\\\n",
       "\tTRINITY\\_DN14517\\_c0\\_g1\\_i1 &  42.16978    &  -8.294827   & 2.439259     & -3.400553    & 6.724976e-04 & 3.455734e-02\\\\\n",
       "\tTRINITY\\_DN1876\\_c0\\_g2\\_i1 &  14.92489    &  -8.372680   & 2.266814     & -3.693590    & 2.211103e-04 & 1.553778e-02\\\\\n",
       "\tTRINITY\\_DN129491\\_c0\\_g1\\_i1 &  19.90878    &  -8.428341   & 2.464891     & -3.419356    & 6.276955e-04 & 3.283053e-02\\\\\n",
       "\tTRINITY\\_DN17217\\_c0\\_g1\\_i1 & 575.96279    &  -8.483669   & 1.438127     & -5.899111    & 3.654650e-09 & 1.321031e-06\\\\\n",
       "\tTRINITY\\_DN3369\\_c0\\_g1\\_i1 & 331.62025    &  -8.521172   & 1.536952     & -5.544202    & 2.952975e-08 & 8.804536e-06\\\\\n",
       "\tTRINITY\\_DN99748\\_c0\\_g1\\_i1 &  21.15845    &  -8.524719   & 2.343272     & -3.637955    & 2.748119e-04 & 1.823120e-02\\\\\n",
       "\tTRINITY\\_DN3684\\_c0\\_g1\\_i1 &  36.30526    &  -8.589969   & 2.262640     & -3.796437    & 1.467908e-04 & 1.137553e-02\\\\\n",
       "\tTRINITY\\_DN8875\\_c0\\_g1\\_i1 &  47.60278    &  -8.646215   & 1.978614     & -4.369834    & 1.243410e-05 & 1.693412e-03\\\\\n",
       "\tTRINITY\\_DN9318\\_c0\\_g1\\_i1 &  69.63697    &  -8.680717   & 1.864791     & -4.655062    & 3.238827e-06 & 5.613329e-04\\\\\n",
       "\tTRINITY\\_DN6327\\_c0\\_g1\\_i2 & 234.95478    &  -8.776971   & 1.818974     & -4.825231    & 1.398413e-06 & 2.721093e-04\\\\\n",
       "\tTRINITY\\_DN93264\\_c0\\_g1\\_i1 &  12.45550    &  -9.272850   & 2.388006     & -3.883093    & 1.031361e-04 & 8.653265e-03\\\\\n",
       "\tTRINITY\\_DN2414\\_c0\\_g1\\_i1 &  20.18046    & -10.134620   & 2.990890     & -3.388496    & 7.027702e-04 & 3.564440e-02\\\\\n",
       "\tTRINITY\\_DN12675\\_c0\\_g1\\_i1 &  12.10526    & -23.783258   & 2.991012     & -7.951576    & 1.841534e-15 & 1.079835e-12\\\\\n",
       "\tTRINITY\\_DN111888\\_c0\\_g1\\_i1 &  15.07193    & -24.081371   & 2.990952     & -8.051407    & 8.184782e-16 & 4.880720e-13\\\\\n",
       "\tTRINITY\\_DN113336\\_c0\\_g1\\_i1 &  19.26839    & -24.174535   & 2.990899     & -8.082699    & 6.334868e-16 & 3.799049e-13\\\\\n",
       "\\end{tabular}\n"
      ],
      "text/markdown": [
       "\n",
       "| <!--/--> | baseMean | log2FoldChange | lfcSE | stat | pvalue | padj |\n",
       "|---|---|---|---|---|---|---|\n",
       "| TRINITY_DN85899_c0_g1_i1 |  1424.7840    | 12.26715      | 0.4445381     | 27.59526      | 1.268269e-167 | 1.997960e-164 |\n",
       "| TRINITY_DN98899_c0_g1_i1 |  1162.4834    | 12.22471      | 0.3937168     | 31.04949      | 1.159040e-211 | 5.318884e-208 |\n",
       "| TRINITY_DN19987_c0_g1_i1 | 37383.9752    | 12.10107      | 0.3318683     | 36.46348      | 4.207132e-291 | 2.220272e-286 |\n",
       "| TRINITY_DN50085_c0_g1_i1 |  7216.9053    | 12.06161      | 0.3963491     | 30.43177      | 2.087523e-203 | 8.160515e-200 |\n",
       "| TRINITY_DN74741_c0_g1_i1 |   607.8118    | 12.03959      | 0.4835273     | 24.89951      | 7.532338e-137 | 7.718671e-134 |\n",
       "| TRINITY_DN80409_c0_g1_i1 | 11692.3408    | 12.03888      | 0.3825126     | 31.47316      | 2.023887e-217 | 1.256572e-213 |\n",
       "| TRINITY_DN60860_c0_g1_i1 |  2188.9247    | 12.00837      | 0.4209431     | 28.52730      | 5.373763e-179 | 1.066520e-175 |\n",
       "| TRINITY_DN157863_c0_g1_i1 |  1872.3459    | 11.99681      | 0.4331513     | 27.69657      | 7.678425e-169 | 1.266316e-165 |\n",
       "| TRINITY_DN135642_c0_g1_i1 |  1755.0800    | 11.98694      | 0.5426055     | 22.09144      | 3.819859e-108 | 3.445970e-105 |\n",
       "| TRINITY_DN50011_c0_g1_i1 | 23082.6038    | 11.96841      | 0.3934662     | 30.41789      | 3.186608e-203 | 1.201215e-199 |\n",
       "| TRINITY_DN134734_c0_g1_i1 |   851.8327    | 11.89518      | 0.4487790     | 26.50566      | 8.341217e-155 | 1.000453e-151 |\n",
       "| TRINITY_DN86249_c0_g1_i1 |  1617.9669    | 11.87137      | 0.5074222     | 23.39545      | 4.754588e-121 | 4.402081e-118 |\n",
       "| TRINITY_DN57851_c0_g1_i1 |  3003.1226    | 11.86582      | 0.3757768     | 31.57678      | 7.694790e-219 | 5.414465e-215 |\n",
       "| TRINITY_DN91413_c0_g1_i1 |   941.9773    | 11.86082      | 0.3983708     | 29.77331      | 8.659734e-195 | 2.405310e-191 |\n",
       "| TRINITY_DN60293_c0_g1_i1 |  1585.5205    | 11.84327      | 0.4755173     | 24.90609      | 6.392396e-137 | 6.614751e-134 |\n",
       "| TRINITY_DN57720_c0_g1_i1 |  1475.3705    | 11.84260      | 0.4305670     | 27.50467      | 1.543681e-166 | 2.361340e-163 |\n",
       "| TRINITY_DN132183_c0_g1_i1 |   756.5510    | 11.83989      | 0.4143299     | 28.57601      | 1.335195e-179 | 2.763278e-176 |\n",
       "| TRINITY_DN103032_c0_g1_i1 |  2380.5890    | 11.83897      | 0.3819963     | 30.99236      | 6.831517e-211 | 3.004387e-207 |\n",
       "| TRINITY_DN80491_c0_g1_i1 |  9266.9257    | 11.83830      | 0.3718812     | 31.83355      | 2.223694e-222 | 2.133695e-218 |\n",
       "| TRINITY_DN155874_c0_g1_i1 |   486.0349    | 11.81813      | 0.4062479     | 29.09093      | 4.674894e-186 | 1.121422e-182 |\n",
       "| TRINITY_DN151054_c0_g1_i1 |   523.5639    | 11.79958      | 0.4136321     | 28.52676      | 5.456483e-179 | 1.066520e-175 |\n",
       "| TRINITY_DN47573_c0_g1_i1 | 25946.4941    | 11.79203      | 0.3408485     | 34.59611      | 2.890547e-262 | 1.016972e-257 |\n",
       "| TRINITY_DN141230_c0_g1_i1 |  2270.5299    | 11.77924      | 0.4872985     | 24.17254      | 4.327225e-129 | 4.228981e-126 |\n",
       "| TRINITY_DN82676_c0_g1_i1 |   780.8767    | 11.77782      | 0.4000173     | 29.44326      | 1.535521e-190 | 4.051779e-187 |\n",
       "| TRINITY_DN120239_c0_g1_i1 |  2688.1088    | 11.77408      | 0.4251674     | 27.69281      | 8.521949e-169 | 1.383807e-165 |\n",
       "| TRINITY_DN142548_c0_g1_i1 |  2093.4540    | 11.77318      | 0.4510599     | 26.10114      | 3.538541e-150 | 4.104241e-147 |\n",
       "| TRINITY_DN94855_c0_g1_i1 |   766.5092    | 11.76948      | 0.4100273     | 28.70413      | 3.388060e-181 | 7.298019e-178 |\n",
       "| TRINITY_DN114680_c0_g1_i1 |  5862.3102    | 11.76823      | 0.4576123     | 25.71659      | 7.624711e-146 | 8.471294e-143 |\n",
       "| TRINITY_DN103226_c0_g1_i1 |   717.1787    | 11.76755      | 0.4408063     | 26.69552      | 5.305766e-157 | 6.588388e-154 |\n",
       "| TRINITY_DN74222_c0_g1_i1 |   922.8027    | 11.76297      | 0.4315614     | 27.25678      | 1.381264e-163 | 1.970130e-160 |\n",
       "| ... | ... | ... | ... | ... | ... | ... |\n",
       "| TRINITY_DN14157_c0_g1_i1 |  83.89386    |  -7.879530   | 1.649771     | -4.776134    | 1.786973e-06 | 3.332357e-04 |\n",
       "| TRINITY_DN21051_c0_g1_i1 |  62.58587    |  -7.891642   | 1.623241     | -4.861658    | 1.164068e-06 | 2.320280e-04 |\n",
       "| TRINITY_DN147449_c0_g1_i1 |  19.08123    |  -7.906902   | 2.315797     | -3.414333    | 6.393839e-04 | 3.332627e-02 |\n",
       "| TRINITY_DN23781_c0_g1_i1 |  79.38438    |  -7.956873   | 2.257945     | -3.523944    | 4.251739e-04 | 2.484842e-02 |\n",
       "| TRINITY_DN13366_c0_g1_i1 |  64.25435    |  -7.973684   | 2.350005     | -3.393049    | 6.911921e-04 | 3.531168e-02 |\n",
       "| TRINITY_DN93609_c0_g1_i1 |  32.58295    |  -7.977969   | 2.253314     | -3.540549    | 3.992962e-04 | 2.371689e-02 |\n",
       "| TRINITY_DN15912_c0_g1_i1 |  30.95554    |  -7.996108   | 2.115147     | -3.780403    | 1.565747e-04 | 1.194949e-02 |\n",
       "| TRINITY_DN95228_c0_g1_i1 |  47.03367    |  -8.039965   | 2.073350     | -3.877766    | 1.054199e-04 | 8.823839e-03 |\n",
       "| TRINITY_DN80778_c0_g1_i1 |  58.54765    |  -8.051339   | 1.785184     | -4.510090    | 6.480008e-06 | 9.926733e-04 |\n",
       "| TRINITY_DN4715_c0_g1_i1 | 102.65025    |  -8.082352   | 1.848850     | -4.371556    | 1.233644e-05 | 1.682283e-03 |\n",
       "| TRINITY_DN92710_c0_g1_i1 |  50.24832    |  -8.104797   | 1.991429     | -4.069840    | 4.704537e-05 | 4.858654e-03 |\n",
       "| TRINITY_DN109572_c0_g1_i1 | 151.26552    |  -8.158647   | 1.473410     | -5.537257    | 3.072457e-08 | 9.083802e-06 |\n",
       "| TRINITY_DN94316_c0_g1_i1 |  74.93746    |  -8.164761   | 2.152372     | -3.793378    | 1.486117e-04 | 1.148292e-02 |\n",
       "| TRINITY_DN5906_c1_g1_i1 |  53.95139    |  -8.208567   | 2.212298     | -3.710425    | 2.069114e-04 | 1.473563e-02 |\n",
       "| TRINITY_DN272_c0_g1_i2 |  26.76452    |  -8.236143   | 1.815758     | -4.535925    | 5.735151e-06 | 8.954640e-04 |\n",
       "| TRINITY_DN14517_c0_g1_i1 |  42.16978    |  -8.294827   | 2.439259     | -3.400553    | 6.724976e-04 | 3.455734e-02 |\n",
       "| TRINITY_DN1876_c0_g2_i1 |  14.92489    |  -8.372680   | 2.266814     | -3.693590    | 2.211103e-04 | 1.553778e-02 |\n",
       "| TRINITY_DN129491_c0_g1_i1 |  19.90878    |  -8.428341   | 2.464891     | -3.419356    | 6.276955e-04 | 3.283053e-02 |\n",
       "| TRINITY_DN17217_c0_g1_i1 | 575.96279    |  -8.483669   | 1.438127     | -5.899111    | 3.654650e-09 | 1.321031e-06 |\n",
       "| TRINITY_DN3369_c0_g1_i1 | 331.62025    |  -8.521172   | 1.536952     | -5.544202    | 2.952975e-08 | 8.804536e-06 |\n",
       "| TRINITY_DN99748_c0_g1_i1 |  21.15845    |  -8.524719   | 2.343272     | -3.637955    | 2.748119e-04 | 1.823120e-02 |\n",
       "| TRINITY_DN3684_c0_g1_i1 |  36.30526    |  -8.589969   | 2.262640     | -3.796437    | 1.467908e-04 | 1.137553e-02 |\n",
       "| TRINITY_DN8875_c0_g1_i1 |  47.60278    |  -8.646215   | 1.978614     | -4.369834    | 1.243410e-05 | 1.693412e-03 |\n",
       "| TRINITY_DN9318_c0_g1_i1 |  69.63697    |  -8.680717   | 1.864791     | -4.655062    | 3.238827e-06 | 5.613329e-04 |\n",
       "| TRINITY_DN6327_c0_g1_i2 | 234.95478    |  -8.776971   | 1.818974     | -4.825231    | 1.398413e-06 | 2.721093e-04 |\n",
       "| TRINITY_DN93264_c0_g1_i1 |  12.45550    |  -9.272850   | 2.388006     | -3.883093    | 1.031361e-04 | 8.653265e-03 |\n",
       "| TRINITY_DN2414_c0_g1_i1 |  20.18046    | -10.134620   | 2.990890     | -3.388496    | 7.027702e-04 | 3.564440e-02 |\n",
       "| TRINITY_DN12675_c0_g1_i1 |  12.10526    | -23.783258   | 2.991012     | -7.951576    | 1.841534e-15 | 1.079835e-12 |\n",
       "| TRINITY_DN111888_c0_g1_i1 |  15.07193    | -24.081371   | 2.990952     | -8.051407    | 8.184782e-16 | 4.880720e-13 |\n",
       "| TRINITY_DN113336_c0_g1_i1 |  19.26839    | -24.174535   | 2.990899     | -8.082699    | 6.334868e-16 | 3.799049e-13 |\n",
       "\n"
      ],
      "text/plain": [
       "                          baseMean   log2FoldChange lfcSE     stat     \n",
       "TRINITY_DN85899_c0_g1_i1   1424.7840 12.26715       0.4445381 27.59526 \n",
       "TRINITY_DN98899_c0_g1_i1   1162.4834 12.22471       0.3937168 31.04949 \n",
       "TRINITY_DN19987_c0_g1_i1  37383.9752 12.10107       0.3318683 36.46348 \n",
       "TRINITY_DN50085_c0_g1_i1   7216.9053 12.06161       0.3963491 30.43177 \n",
       "TRINITY_DN74741_c0_g1_i1    607.8118 12.03959       0.4835273 24.89951 \n",
       "TRINITY_DN80409_c0_g1_i1  11692.3408 12.03888       0.3825126 31.47316 \n",
       "TRINITY_DN60860_c0_g1_i1   2188.9247 12.00837       0.4209431 28.52730 \n",
       "TRINITY_DN157863_c0_g1_i1  1872.3459 11.99681       0.4331513 27.69657 \n",
       "TRINITY_DN135642_c0_g1_i1  1755.0800 11.98694       0.5426055 22.09144 \n",
       "TRINITY_DN50011_c0_g1_i1  23082.6038 11.96841       0.3934662 30.41789 \n",
       "TRINITY_DN134734_c0_g1_i1   851.8327 11.89518       0.4487790 26.50566 \n",
       "TRINITY_DN86249_c0_g1_i1   1617.9669 11.87137       0.5074222 23.39545 \n",
       "TRINITY_DN57851_c0_g1_i1   3003.1226 11.86582       0.3757768 31.57678 \n",
       "TRINITY_DN91413_c0_g1_i1    941.9773 11.86082       0.3983708 29.77331 \n",
       "TRINITY_DN60293_c0_g1_i1   1585.5205 11.84327       0.4755173 24.90609 \n",
       "TRINITY_DN57720_c0_g1_i1   1475.3705 11.84260       0.4305670 27.50467 \n",
       "TRINITY_DN132183_c0_g1_i1   756.5510 11.83989       0.4143299 28.57601 \n",
       "TRINITY_DN103032_c0_g1_i1  2380.5890 11.83897       0.3819963 30.99236 \n",
       "TRINITY_DN80491_c0_g1_i1   9266.9257 11.83830       0.3718812 31.83355 \n",
       "TRINITY_DN155874_c0_g1_i1   486.0349 11.81813       0.4062479 29.09093 \n",
       "TRINITY_DN151054_c0_g1_i1   523.5639 11.79958       0.4136321 28.52676 \n",
       "TRINITY_DN47573_c0_g1_i1  25946.4941 11.79203       0.3408485 34.59611 \n",
       "TRINITY_DN141230_c0_g1_i1  2270.5299 11.77924       0.4872985 24.17254 \n",
       "TRINITY_DN82676_c0_g1_i1    780.8767 11.77782       0.4000173 29.44326 \n",
       "TRINITY_DN120239_c0_g1_i1  2688.1088 11.77408       0.4251674 27.69281 \n",
       "TRINITY_DN142548_c0_g1_i1  2093.4540 11.77318       0.4510599 26.10114 \n",
       "TRINITY_DN94855_c0_g1_i1    766.5092 11.76948       0.4100273 28.70413 \n",
       "TRINITY_DN114680_c0_g1_i1  5862.3102 11.76823       0.4576123 25.71659 \n",
       "TRINITY_DN103226_c0_g1_i1   717.1787 11.76755       0.4408063 26.69552 \n",
       "TRINITY_DN74222_c0_g1_i1    922.8027 11.76297       0.4315614 27.25678 \n",
       "...                       ...        ...            ...       ...      \n",
       "TRINITY_DN14157_c0_g1_i1   83.89386   -7.879530     1.649771  -4.776134\n",
       "TRINITY_DN21051_c0_g1_i1   62.58587   -7.891642     1.623241  -4.861658\n",
       "TRINITY_DN147449_c0_g1_i1  19.08123   -7.906902     2.315797  -3.414333\n",
       "TRINITY_DN23781_c0_g1_i1   79.38438   -7.956873     2.257945  -3.523944\n",
       "TRINITY_DN13366_c0_g1_i1   64.25435   -7.973684     2.350005  -3.393049\n",
       "TRINITY_DN93609_c0_g1_i1   32.58295   -7.977969     2.253314  -3.540549\n",
       "TRINITY_DN15912_c0_g1_i1   30.95554   -7.996108     2.115147  -3.780403\n",
       "TRINITY_DN95228_c0_g1_i1   47.03367   -8.039965     2.073350  -3.877766\n",
       "TRINITY_DN80778_c0_g1_i1   58.54765   -8.051339     1.785184  -4.510090\n",
       "TRINITY_DN4715_c0_g1_i1   102.65025   -8.082352     1.848850  -4.371556\n",
       "TRINITY_DN92710_c0_g1_i1   50.24832   -8.104797     1.991429  -4.069840\n",
       "TRINITY_DN109572_c0_g1_i1 151.26552   -8.158647     1.473410  -5.537257\n",
       "TRINITY_DN94316_c0_g1_i1   74.93746   -8.164761     2.152372  -3.793378\n",
       "TRINITY_DN5906_c1_g1_i1    53.95139   -8.208567     2.212298  -3.710425\n",
       "TRINITY_DN272_c0_g1_i2     26.76452   -8.236143     1.815758  -4.535925\n",
       "TRINITY_DN14517_c0_g1_i1   42.16978   -8.294827     2.439259  -3.400553\n",
       "TRINITY_DN1876_c0_g2_i1    14.92489   -8.372680     2.266814  -3.693590\n",
       "TRINITY_DN129491_c0_g1_i1  19.90878   -8.428341     2.464891  -3.419356\n",
       "TRINITY_DN17217_c0_g1_i1  575.96279   -8.483669     1.438127  -5.899111\n",
       "TRINITY_DN3369_c0_g1_i1   331.62025   -8.521172     1.536952  -5.544202\n",
       "TRINITY_DN99748_c0_g1_i1   21.15845   -8.524719     2.343272  -3.637955\n",
       "TRINITY_DN3684_c0_g1_i1    36.30526   -8.589969     2.262640  -3.796437\n",
       "TRINITY_DN8875_c0_g1_i1    47.60278   -8.646215     1.978614  -4.369834\n",
       "TRINITY_DN9318_c0_g1_i1    69.63697   -8.680717     1.864791  -4.655062\n",
       "TRINITY_DN6327_c0_g1_i2   234.95478   -8.776971     1.818974  -4.825231\n",
       "TRINITY_DN93264_c0_g1_i1   12.45550   -9.272850     2.388006  -3.883093\n",
       "TRINITY_DN2414_c0_g1_i1    20.18046  -10.134620     2.990890  -3.388496\n",
       "TRINITY_DN12675_c0_g1_i1   12.10526  -23.783258     2.991012  -7.951576\n",
       "TRINITY_DN111888_c0_g1_i1  15.07193  -24.081371     2.990952  -8.051407\n",
       "TRINITY_DN113336_c0_g1_i1  19.26839  -24.174535     2.990899  -8.082699\n",
       "                          pvalue        padj         \n",
       "TRINITY_DN85899_c0_g1_i1  1.268269e-167 1.997960e-164\n",
       "TRINITY_DN98899_c0_g1_i1  1.159040e-211 5.318884e-208\n",
       "TRINITY_DN19987_c0_g1_i1  4.207132e-291 2.220272e-286\n",
       "TRINITY_DN50085_c0_g1_i1  2.087523e-203 8.160515e-200\n",
       "TRINITY_DN74741_c0_g1_i1  7.532338e-137 7.718671e-134\n",
       "TRINITY_DN80409_c0_g1_i1  2.023887e-217 1.256572e-213\n",
       "TRINITY_DN60860_c0_g1_i1  5.373763e-179 1.066520e-175\n",
       "TRINITY_DN157863_c0_g1_i1 7.678425e-169 1.266316e-165\n",
       "TRINITY_DN135642_c0_g1_i1 3.819859e-108 3.445970e-105\n",
       "TRINITY_DN50011_c0_g1_i1  3.186608e-203 1.201215e-199\n",
       "TRINITY_DN134734_c0_g1_i1 8.341217e-155 1.000453e-151\n",
       "TRINITY_DN86249_c0_g1_i1  4.754588e-121 4.402081e-118\n",
       "TRINITY_DN57851_c0_g1_i1  7.694790e-219 5.414465e-215\n",
       "TRINITY_DN91413_c0_g1_i1  8.659734e-195 2.405310e-191\n",
       "TRINITY_DN60293_c0_g1_i1  6.392396e-137 6.614751e-134\n",
       "TRINITY_DN57720_c0_g1_i1  1.543681e-166 2.361340e-163\n",
       "TRINITY_DN132183_c0_g1_i1 1.335195e-179 2.763278e-176\n",
       "TRINITY_DN103032_c0_g1_i1 6.831517e-211 3.004387e-207\n",
       "TRINITY_DN80491_c0_g1_i1  2.223694e-222 2.133695e-218\n",
       "TRINITY_DN155874_c0_g1_i1 4.674894e-186 1.121422e-182\n",
       "TRINITY_DN151054_c0_g1_i1 5.456483e-179 1.066520e-175\n",
       "TRINITY_DN47573_c0_g1_i1  2.890547e-262 1.016972e-257\n",
       "TRINITY_DN141230_c0_g1_i1 4.327225e-129 4.228981e-126\n",
       "TRINITY_DN82676_c0_g1_i1  1.535521e-190 4.051779e-187\n",
       "TRINITY_DN120239_c0_g1_i1 8.521949e-169 1.383807e-165\n",
       "TRINITY_DN142548_c0_g1_i1 3.538541e-150 4.104241e-147\n",
       "TRINITY_DN94855_c0_g1_i1  3.388060e-181 7.298019e-178\n",
       "TRINITY_DN114680_c0_g1_i1 7.624711e-146 8.471294e-143\n",
       "TRINITY_DN103226_c0_g1_i1 5.305766e-157 6.588388e-154\n",
       "TRINITY_DN74222_c0_g1_i1  1.381264e-163 1.970130e-160\n",
       "...                       ...           ...          \n",
       "TRINITY_DN14157_c0_g1_i1  1.786973e-06  3.332357e-04 \n",
       "TRINITY_DN21051_c0_g1_i1  1.164068e-06  2.320280e-04 \n",
       "TRINITY_DN147449_c0_g1_i1 6.393839e-04  3.332627e-02 \n",
       "TRINITY_DN23781_c0_g1_i1  4.251739e-04  2.484842e-02 \n",
       "TRINITY_DN13366_c0_g1_i1  6.911921e-04  3.531168e-02 \n",
       "TRINITY_DN93609_c0_g1_i1  3.992962e-04  2.371689e-02 \n",
       "TRINITY_DN15912_c0_g1_i1  1.565747e-04  1.194949e-02 \n",
       "TRINITY_DN95228_c0_g1_i1  1.054199e-04  8.823839e-03 \n",
       "TRINITY_DN80778_c0_g1_i1  6.480008e-06  9.926733e-04 \n",
       "TRINITY_DN4715_c0_g1_i1   1.233644e-05  1.682283e-03 \n",
       "TRINITY_DN92710_c0_g1_i1  4.704537e-05  4.858654e-03 \n",
       "TRINITY_DN109572_c0_g1_i1 3.072457e-08  9.083802e-06 \n",
       "TRINITY_DN94316_c0_g1_i1  1.486117e-04  1.148292e-02 \n",
       "TRINITY_DN5906_c1_g1_i1   2.069114e-04  1.473563e-02 \n",
       "TRINITY_DN272_c0_g1_i2    5.735151e-06  8.954640e-04 \n",
       "TRINITY_DN14517_c0_g1_i1  6.724976e-04  3.455734e-02 \n",
       "TRINITY_DN1876_c0_g2_i1   2.211103e-04  1.553778e-02 \n",
       "TRINITY_DN129491_c0_g1_i1 6.276955e-04  3.283053e-02 \n",
       "TRINITY_DN17217_c0_g1_i1  3.654650e-09  1.321031e-06 \n",
       "TRINITY_DN3369_c0_g1_i1   2.952975e-08  8.804536e-06 \n",
       "TRINITY_DN99748_c0_g1_i1  2.748119e-04  1.823120e-02 \n",
       "TRINITY_DN3684_c0_g1_i1   1.467908e-04  1.137553e-02 \n",
       "TRINITY_DN8875_c0_g1_i1   1.243410e-05  1.693412e-03 \n",
       "TRINITY_DN9318_c0_g1_i1   3.238827e-06  5.613329e-04 \n",
       "TRINITY_DN6327_c0_g1_i2   1.398413e-06  2.721093e-04 \n",
       "TRINITY_DN93264_c0_g1_i1  1.031361e-04  8.653265e-03 \n",
       "TRINITY_DN2414_c0_g1_i1   7.027702e-04  3.564440e-02 \n",
       "TRINITY_DN12675_c0_g1_i1  1.841534e-15  1.079835e-12 \n",
       "TRINITY_DN111888_c0_g1_i1 8.184782e-16  4.880720e-13 \n",
       "TRINITY_DN113336_c0_g1_i1 6.334868e-16  3.799049e-13 "
      ]
     },
     "metadata": {},
     "output_type": "display_data"
    }
   ],
   "source": [
    "res_sig <- data.frame(subset(res, padj < 0.05))\n",
    "res_sig <- res_sig[order(-res_sig$log2FoldChange),]\n",
    "res_sig"
   ]
  },
  {
   "cell_type": "markdown",
   "metadata": {},
   "source": [
    "You can see that there are some extremely significant, extremely overexpressed transcripts at the top, many of which have high rates of expression overall. These are likely contamination from Loxo. I am going to compare the list of transcripts I made earlier to these to see how much of an overlap there is. \n",
    "\n",
    "There are 2377 significant transcripts, 1250 up and 1127 down. There were 5797 transcripts that had higher expression in one of the two parasite samples than any of the clean samples. Let's look at the intersect. "
   ]
  },
  {
   "cell_type": "code",
   "execution_count": 27,
   "metadata": {},
   "outputs": [
    {
     "data": {
      "text/html": [
       "448"
      ],
      "text/latex": [
       "448"
      ],
      "text/markdown": [
       "448"
      ],
      "text/plain": [
       "[1] 448"
      ]
     },
     "metadata": {},
     "output_type": "display_data"
    }
   ],
   "source": [
    "contam_intersect <- intersect(contam_IDs, rownames(res_sig))\n",
    "length(contam_intersect)"
   ]
  },
  {
   "cell_type": "markdown",
   "metadata": {},
   "source": [
    "Okay so there are 448 transcripts that came up as significant that were also identified as potential contamination. Let's take a look at the significant results table with those removed:"
   ]
  },
  {
   "cell_type": "code",
   "execution_count": 28,
   "metadata": {},
   "outputs": [
    {
     "data": {
      "text/html": [
       "<table>\n",
       "<thead><tr><th></th><th scope=col>baseMean</th><th scope=col>log2FoldChange</th><th scope=col>lfcSE</th><th scope=col>stat</th><th scope=col>pvalue</th><th scope=col>padj</th></tr></thead>\n",
       "<tbody>\n",
       "\t<tr><th scope=row>TRINITY_DN94855_c0_g1_i1</th><td> 766.509208  </td><td>11.769478    </td><td>0.4100273    </td><td>28.704132    </td><td>3.388060e-181</td><td>7.298019e-178</td></tr>\n",
       "\t<tr><th scope=row>TRINITY_DN103226_c0_g1_i1</th><td> 717.178725  </td><td>11.767552    </td><td>0.4408063    </td><td>26.695519    </td><td>5.305766e-157</td><td>6.588388e-154</td></tr>\n",
       "\t<tr><th scope=row>TRINITY_DN128205_c0_g1_i1</th><td>2871.442818  </td><td>11.469938    </td><td>0.4194770    </td><td>27.343425    </td><td>1.292932e-164</td><td>1.895366e-161</td></tr>\n",
       "\t<tr><th scope=row>TRINITY_DN115787_c0_g1_i1</th><td> 691.115560  </td><td>11.458142    </td><td>0.4427848    </td><td>25.877450    </td><td>1.195002e-147</td><td>1.341809e-144</td></tr>\n",
       "\t<tr><th scope=row>TRINITY_DN121942_c0_g1_i1</th><td> 684.441598  </td><td>11.420011    </td><td>0.4130629    </td><td>27.647147    </td><td>3.020168e-168</td><td>4.829889e-165</td></tr>\n",
       "\t<tr><th scope=row>TRINITY_DN122219_c0_g1_i1</th><td> 576.969262  </td><td>11.403665    </td><td>0.4520288    </td><td>25.227738    </td><td>1.988178e-140</td><td>2.098482e-137</td></tr>\n",
       "\t<tr><th scope=row>TRINITY_DN128046_c0_g1_i1</th><td> 155.048578  </td><td> 9.799348    </td><td>0.4109417    </td><td>23.846080    </td><td>1.112043e-125</td><td>1.067035e-122</td></tr>\n",
       "\t<tr><th scope=row>TRINITY_DN22600_c0_g1_i1</th><td>   4.100020  </td><td> 5.451206    </td><td>0.7563032    </td><td> 7.207699    </td><td> 5.690508e-13</td><td> 2.988168e-10</td></tr>\n",
       "\t<tr><th scope=row>TRINITY_DN27254_c0_g1_i1</th><td>  19.428673  </td><td> 4.299847    </td><td>0.8198864    </td><td> 5.244442    </td><td> 1.567560e-07</td><td> 3.893008e-05</td></tr>\n",
       "\t<tr><th scope=row>TRINITY_DN706_c3_g1_i1</th><td>   2.091148  </td><td> 4.171247    </td><td>1.1976797    </td><td> 3.482773    </td><td> 4.962484e-04</td><td> 2.779149e-02</td></tr>\n",
       "\t<tr><th scope=row>TRINITY_DN82187_c0_g1_i1</th><td>   9.513082  </td><td> 3.689762    </td><td>0.6423790    </td><td> 5.743902    </td><td> 9.251920e-09</td><td> 3.042124e-06</td></tr>\n",
       "\t<tr><th scope=row>TRINITY_DN146992_c0_g1_i1</th><td>   5.624471  </td><td> 3.605250    </td><td>0.7636890    </td><td> 4.720835    </td><td> 2.348784e-06</td><td> 4.239046e-04</td></tr>\n",
       "\t<tr><th scope=row>TRINITY_DN56560_c0_g1_i1</th><td>  13.689345  </td><td> 3.602784    </td><td>0.4791624    </td><td> 7.518919    </td><td> 5.523101e-14</td><td> 3.036209e-11</td></tr>\n",
       "\t<tr><th scope=row>TRINITY_DN51295_c0_g1_i1</th><td>  17.674442  </td><td> 3.488284    </td><td>0.6104440    </td><td> 5.714340    </td><td> 1.101308e-08</td><td> 3.554766e-06</td></tr>\n",
       "\t<tr><th scope=row>TRINITY_DN149883_c0_g1_i1</th><td>   3.592164  </td><td> 3.462836    </td><td>0.7867023    </td><td> 4.401711    </td><td> 1.074007e-05</td><td> 1.503438e-03</td></tr>\n",
       "\t<tr><th scope=row>TRINITY_DN61940_c0_g1_i1</th><td>  19.073210  </td><td> 3.457801    </td><td>0.4541413    </td><td> 7.613933    </td><td> 2.658790e-14</td><td> 1.508763e-11</td></tr>\n",
       "\t<tr><th scope=row>TRINITY_DN79806_c0_g1_i1</th><td>  34.246108  </td><td> 3.394475    </td><td>0.4721186    </td><td> 7.189877    </td><td> 6.484970e-13</td><td> 3.338906e-10</td></tr>\n",
       "\t<tr><th scope=row>TRINITY_DN35566_c0_g1_i1</th><td>  45.143537  </td><td> 3.390788    </td><td>0.4435936    </td><td> 7.643906    </td><td> 2.107298e-14</td><td> 1.215416e-11</td></tr>\n",
       "\t<tr><th scope=row>TRINITY_DN135972_c0_g1_i1</th><td>   2.149302  </td><td> 3.358184    </td><td>0.7197478    </td><td> 4.665780    </td><td> 3.074491e-06</td><td> 5.354891e-04</td></tr>\n",
       "\t<tr><th scope=row>TRINITY_DN72820_c0_g1_i1</th><td>   2.461131  </td><td> 3.145433    </td><td>0.8965066    </td><td> 3.508545    </td><td> 4.505658e-04</td><td> 2.590213e-02</td></tr>\n",
       "</tbody>\n",
       "</table>\n"
      ],
      "text/latex": [
       "\\begin{tabular}{r|llllll}\n",
       "  & baseMean & log2FoldChange & lfcSE & stat & pvalue & padj\\\\\n",
       "\\hline\n",
       "\tTRINITY\\_DN94855\\_c0\\_g1\\_i1 &  766.509208   & 11.769478     & 0.4100273     & 28.704132     & 3.388060e-181 & 7.298019e-178\\\\\n",
       "\tTRINITY\\_DN103226\\_c0\\_g1\\_i1 &  717.178725   & 11.767552     & 0.4408063     & 26.695519     & 5.305766e-157 & 6.588388e-154\\\\\n",
       "\tTRINITY\\_DN128205\\_c0\\_g1\\_i1 & 2871.442818   & 11.469938     & 0.4194770     & 27.343425     & 1.292932e-164 & 1.895366e-161\\\\\n",
       "\tTRINITY\\_DN115787\\_c0\\_g1\\_i1 &  691.115560   & 11.458142     & 0.4427848     & 25.877450     & 1.195002e-147 & 1.341809e-144\\\\\n",
       "\tTRINITY\\_DN121942\\_c0\\_g1\\_i1 &  684.441598   & 11.420011     & 0.4130629     & 27.647147     & 3.020168e-168 & 4.829889e-165\\\\\n",
       "\tTRINITY\\_DN122219\\_c0\\_g1\\_i1 &  576.969262   & 11.403665     & 0.4520288     & 25.227738     & 1.988178e-140 & 2.098482e-137\\\\\n",
       "\tTRINITY\\_DN128046\\_c0\\_g1\\_i1 &  155.048578   &  9.799348     & 0.4109417     & 23.846080     & 1.112043e-125 & 1.067035e-122\\\\\n",
       "\tTRINITY\\_DN22600\\_c0\\_g1\\_i1 &    4.100020   &  5.451206     & 0.7563032     &  7.207699     &  5.690508e-13 &  2.988168e-10\\\\\n",
       "\tTRINITY\\_DN27254\\_c0\\_g1\\_i1 &   19.428673   &  4.299847     & 0.8198864     &  5.244442     &  1.567560e-07 &  3.893008e-05\\\\\n",
       "\tTRINITY\\_DN706\\_c3\\_g1\\_i1 &    2.091148   &  4.171247     & 1.1976797     &  3.482773     &  4.962484e-04 &  2.779149e-02\\\\\n",
       "\tTRINITY\\_DN82187\\_c0\\_g1\\_i1 &    9.513082   &  3.689762     & 0.6423790     &  5.743902     &  9.251920e-09 &  3.042124e-06\\\\\n",
       "\tTRINITY\\_DN146992\\_c0\\_g1\\_i1 &    5.624471   &  3.605250     & 0.7636890     &  4.720835     &  2.348784e-06 &  4.239046e-04\\\\\n",
       "\tTRINITY\\_DN56560\\_c0\\_g1\\_i1 &   13.689345   &  3.602784     & 0.4791624     &  7.518919     &  5.523101e-14 &  3.036209e-11\\\\\n",
       "\tTRINITY\\_DN51295\\_c0\\_g1\\_i1 &   17.674442   &  3.488284     & 0.6104440     &  5.714340     &  1.101308e-08 &  3.554766e-06\\\\\n",
       "\tTRINITY\\_DN149883\\_c0\\_g1\\_i1 &    3.592164   &  3.462836     & 0.7867023     &  4.401711     &  1.074007e-05 &  1.503438e-03\\\\\n",
       "\tTRINITY\\_DN61940\\_c0\\_g1\\_i1 &   19.073210   &  3.457801     & 0.4541413     &  7.613933     &  2.658790e-14 &  1.508763e-11\\\\\n",
       "\tTRINITY\\_DN79806\\_c0\\_g1\\_i1 &   34.246108   &  3.394475     & 0.4721186     &  7.189877     &  6.484970e-13 &  3.338906e-10\\\\\n",
       "\tTRINITY\\_DN35566\\_c0\\_g1\\_i1 &   45.143537   &  3.390788     & 0.4435936     &  7.643906     &  2.107298e-14 &  1.215416e-11\\\\\n",
       "\tTRINITY\\_DN135972\\_c0\\_g1\\_i1 &    2.149302   &  3.358184     & 0.7197478     &  4.665780     &  3.074491e-06 &  5.354891e-04\\\\\n",
       "\tTRINITY\\_DN72820\\_c0\\_g1\\_i1 &    2.461131   &  3.145433     & 0.8965066     &  3.508545     &  4.505658e-04 &  2.590213e-02\\\\\n",
       "\\end{tabular}\n"
      ],
      "text/markdown": [
       "\n",
       "| <!--/--> | baseMean | log2FoldChange | lfcSE | stat | pvalue | padj |\n",
       "|---|---|---|---|---|---|---|\n",
       "| TRINITY_DN94855_c0_g1_i1 |  766.509208   | 11.769478     | 0.4100273     | 28.704132     | 3.388060e-181 | 7.298019e-178 |\n",
       "| TRINITY_DN103226_c0_g1_i1 |  717.178725   | 11.767552     | 0.4408063     | 26.695519     | 5.305766e-157 | 6.588388e-154 |\n",
       "| TRINITY_DN128205_c0_g1_i1 | 2871.442818   | 11.469938     | 0.4194770     | 27.343425     | 1.292932e-164 | 1.895366e-161 |\n",
       "| TRINITY_DN115787_c0_g1_i1 |  691.115560   | 11.458142     | 0.4427848     | 25.877450     | 1.195002e-147 | 1.341809e-144 |\n",
       "| TRINITY_DN121942_c0_g1_i1 |  684.441598   | 11.420011     | 0.4130629     | 27.647147     | 3.020168e-168 | 4.829889e-165 |\n",
       "| TRINITY_DN122219_c0_g1_i1 |  576.969262   | 11.403665     | 0.4520288     | 25.227738     | 1.988178e-140 | 2.098482e-137 |\n",
       "| TRINITY_DN128046_c0_g1_i1 |  155.048578   |  9.799348     | 0.4109417     | 23.846080     | 1.112043e-125 | 1.067035e-122 |\n",
       "| TRINITY_DN22600_c0_g1_i1 |    4.100020   |  5.451206     | 0.7563032     |  7.207699     |  5.690508e-13 |  2.988168e-10 |\n",
       "| TRINITY_DN27254_c0_g1_i1 |   19.428673   |  4.299847     | 0.8198864     |  5.244442     |  1.567560e-07 |  3.893008e-05 |\n",
       "| TRINITY_DN706_c3_g1_i1 |    2.091148   |  4.171247     | 1.1976797     |  3.482773     |  4.962484e-04 |  2.779149e-02 |\n",
       "| TRINITY_DN82187_c0_g1_i1 |    9.513082   |  3.689762     | 0.6423790     |  5.743902     |  9.251920e-09 |  3.042124e-06 |\n",
       "| TRINITY_DN146992_c0_g1_i1 |    5.624471   |  3.605250     | 0.7636890     |  4.720835     |  2.348784e-06 |  4.239046e-04 |\n",
       "| TRINITY_DN56560_c0_g1_i1 |   13.689345   |  3.602784     | 0.4791624     |  7.518919     |  5.523101e-14 |  3.036209e-11 |\n",
       "| TRINITY_DN51295_c0_g1_i1 |   17.674442   |  3.488284     | 0.6104440     |  5.714340     |  1.101308e-08 |  3.554766e-06 |\n",
       "| TRINITY_DN149883_c0_g1_i1 |    3.592164   |  3.462836     | 0.7867023     |  4.401711     |  1.074007e-05 |  1.503438e-03 |\n",
       "| TRINITY_DN61940_c0_g1_i1 |   19.073210   |  3.457801     | 0.4541413     |  7.613933     |  2.658790e-14 |  1.508763e-11 |\n",
       "| TRINITY_DN79806_c0_g1_i1 |   34.246108   |  3.394475     | 0.4721186     |  7.189877     |  6.484970e-13 |  3.338906e-10 |\n",
       "| TRINITY_DN35566_c0_g1_i1 |   45.143537   |  3.390788     | 0.4435936     |  7.643906     |  2.107298e-14 |  1.215416e-11 |\n",
       "| TRINITY_DN135972_c0_g1_i1 |    2.149302   |  3.358184     | 0.7197478     |  4.665780     |  3.074491e-06 |  5.354891e-04 |\n",
       "| TRINITY_DN72820_c0_g1_i1 |    2.461131   |  3.145433     | 0.8965066     |  3.508545     |  4.505658e-04 |  2.590213e-02 |\n",
       "\n"
      ],
      "text/plain": [
       "                          baseMean    log2FoldChange lfcSE     stat     \n",
       "TRINITY_DN94855_c0_g1_i1   766.509208 11.769478      0.4100273 28.704132\n",
       "TRINITY_DN103226_c0_g1_i1  717.178725 11.767552      0.4408063 26.695519\n",
       "TRINITY_DN128205_c0_g1_i1 2871.442818 11.469938      0.4194770 27.343425\n",
       "TRINITY_DN115787_c0_g1_i1  691.115560 11.458142      0.4427848 25.877450\n",
       "TRINITY_DN121942_c0_g1_i1  684.441598 11.420011      0.4130629 27.647147\n",
       "TRINITY_DN122219_c0_g1_i1  576.969262 11.403665      0.4520288 25.227738\n",
       "TRINITY_DN128046_c0_g1_i1  155.048578  9.799348      0.4109417 23.846080\n",
       "TRINITY_DN22600_c0_g1_i1     4.100020  5.451206      0.7563032  7.207699\n",
       "TRINITY_DN27254_c0_g1_i1    19.428673  4.299847      0.8198864  5.244442\n",
       "TRINITY_DN706_c3_g1_i1       2.091148  4.171247      1.1976797  3.482773\n",
       "TRINITY_DN82187_c0_g1_i1     9.513082  3.689762      0.6423790  5.743902\n",
       "TRINITY_DN146992_c0_g1_i1    5.624471  3.605250      0.7636890  4.720835\n",
       "TRINITY_DN56560_c0_g1_i1    13.689345  3.602784      0.4791624  7.518919\n",
       "TRINITY_DN51295_c0_g1_i1    17.674442  3.488284      0.6104440  5.714340\n",
       "TRINITY_DN149883_c0_g1_i1    3.592164  3.462836      0.7867023  4.401711\n",
       "TRINITY_DN61940_c0_g1_i1    19.073210  3.457801      0.4541413  7.613933\n",
       "TRINITY_DN79806_c0_g1_i1    34.246108  3.394475      0.4721186  7.189877\n",
       "TRINITY_DN35566_c0_g1_i1    45.143537  3.390788      0.4435936  7.643906\n",
       "TRINITY_DN135972_c0_g1_i1    2.149302  3.358184      0.7197478  4.665780\n",
       "TRINITY_DN72820_c0_g1_i1     2.461131  3.145433      0.8965066  3.508545\n",
       "                          pvalue        padj         \n",
       "TRINITY_DN94855_c0_g1_i1  3.388060e-181 7.298019e-178\n",
       "TRINITY_DN103226_c0_g1_i1 5.305766e-157 6.588388e-154\n",
       "TRINITY_DN128205_c0_g1_i1 1.292932e-164 1.895366e-161\n",
       "TRINITY_DN115787_c0_g1_i1 1.195002e-147 1.341809e-144\n",
       "TRINITY_DN121942_c0_g1_i1 3.020168e-168 4.829889e-165\n",
       "TRINITY_DN122219_c0_g1_i1 1.988178e-140 2.098482e-137\n",
       "TRINITY_DN128046_c0_g1_i1 1.112043e-125 1.067035e-122\n",
       "TRINITY_DN22600_c0_g1_i1   5.690508e-13  2.988168e-10\n",
       "TRINITY_DN27254_c0_g1_i1   1.567560e-07  3.893008e-05\n",
       "TRINITY_DN706_c3_g1_i1     4.962484e-04  2.779149e-02\n",
       "TRINITY_DN82187_c0_g1_i1   9.251920e-09  3.042124e-06\n",
       "TRINITY_DN146992_c0_g1_i1  2.348784e-06  4.239046e-04\n",
       "TRINITY_DN56560_c0_g1_i1   5.523101e-14  3.036209e-11\n",
       "TRINITY_DN51295_c0_g1_i1   1.101308e-08  3.554766e-06\n",
       "TRINITY_DN149883_c0_g1_i1  1.074007e-05  1.503438e-03\n",
       "TRINITY_DN61940_c0_g1_i1   2.658790e-14  1.508763e-11\n",
       "TRINITY_DN79806_c0_g1_i1   6.484970e-13  3.338906e-10\n",
       "TRINITY_DN35566_c0_g1_i1   2.107298e-14  1.215416e-11\n",
       "TRINITY_DN135972_c0_g1_i1  3.074491e-06  5.354891e-04\n",
       "TRINITY_DN72820_c0_g1_i1   4.505658e-04  2.590213e-02"
      ]
     },
     "metadata": {},
     "output_type": "display_data"
    }
   ],
   "source": [
    "head(res_sig[!(rownames(res_sig) %in% contam_intersect),],n=20)"
   ]
  },
  {
   "cell_type": "markdown",
   "metadata": {},
   "source": [
    "A lot of those transcripts are now removed. There are just around 7 of them left, depending on where you draw the line.\n",
    "\n",
    "I am going to repeat the lfc shrinking and visualization with the contam transcrips removed. I am subsetting the dds object within the `lfcShrink()` function, using `subset()` to keep only transcripts that do not appear in the conta_IDs list. "
   ]
  },
  {
   "cell_type": "code",
   "execution_count": 29,
   "metadata": {},
   "outputs": [
    {
     "name": "stderr",
     "output_type": "stream",
     "text": [
      "using 'apeglm' for LFC shrinkage. If used in published research, please cite:\n",
      "    Zhu, A., Ibrahim, J.G., Love, M.I. (2018) Heavy-tailed prior distributions for\n",
      "    sequence count data: removing the noise and preserving large differences.\n",
      "    Bioinformatics. https://doi.org/10.1093/bioinformatics/bty895\n"
     ]
    },
    {
     "data": {
      "image/png": "[encoded data removed]",
      "text/plain": [
       "Plot with title “”"
      ]
     },
     "metadata": {},
     "output_type": "display_data"
    }
   ],
   "source": [
    "resLFC_nocontam <- lfcShrink(subset(dds, !rownames(dds) %in% contam_IDs), coef=\"condition_P_vs_C\", type=\"apeglm\")\n",
    "plotMA(resLFC_nocontam, ylim=c(-13,13))"
   ]
  },
  {
   "cell_type": "markdown",
   "metadata": {},
   "source": [
    "You can see now that the big cloud of points at the top right has mostly disappeared. A few points remain. I am still going to consider these as contamination and remove them. I am going to do this by considering transcripts that are overexpressed above the absolute value of the most underexpressed transcript. This is done using the shrunk LFCs."
   ]
  },
  {
   "cell_type": "code",
   "execution_count": 30,
   "metadata": {},
   "outputs": [
    {
     "data": {
      "text/html": [
       "<table>\n",
       "<thead><tr><th></th><th scope=col>baseMean</th><th scope=col>log2FoldChange</th><th scope=col>lfcSE</th><th scope=col>pvalue</th><th scope=col>padj</th></tr></thead>\n",
       "<tbody>\n",
       "\t<tr><th scope=row>TRINITY_DN94855_c0_g1_i1</th><td> 766.509208  </td><td>11.740458    </td><td>0.4123791    </td><td>3.388060e-181</td><td>3.436780e-176</td></tr>\n",
       "\t<tr><th scope=row>TRINITY_DN103226_c0_g1_i1</th><td> 717.178725  </td><td>11.729469    </td><td>0.4432693    </td><td>5.305766e-157</td><td>1.345516e-152</td></tr>\n",
       "\t<tr><th scope=row>TRINITY_DN128205_c0_g1_i1</th><td>2871.442818  </td><td>11.439449    </td><td>0.4197738    </td><td>1.292932e-164</td><td>4.371747e-160</td></tr>\n",
       "\t<tr><th scope=row>TRINITY_DN115787_c0_g1_i1</th><td> 691.115560  </td><td>11.423670    </td><td>0.4458718    </td><td>1.195002e-147</td><td>2.424372e-143</td></tr>\n",
       "\t<tr><th scope=row>TRINITY_DN121942_c0_g1_i1</th><td> 684.441598  </td><td>11.391444    </td><td>0.4159474    </td><td>3.020168e-168</td><td>1.531799e-163</td></tr>\n",
       "\t<tr><th scope=row>TRINITY_DN122219_c0_g1_i1</th><td> 576.969262  </td><td>11.348327    </td><td>0.4548932    </td><td>1.988178e-140</td><td>3.361280e-136</td></tr>\n",
       "\t<tr><th scope=row>TRINITY_DN128046_c0_g1_i1</th><td> 155.048578  </td><td> 9.770940    </td><td>0.4161875    </td><td>1.112043e-125</td><td>1.611477e-121</td></tr>\n",
       "\t<tr><th scope=row>TRINITY_DN56560_c0_g1_i1</th><td>  13.689345  </td><td> 3.471850    </td><td>0.4844604    </td><td> 5.523101e-14</td><td> 2.948696e-10</td></tr>\n",
       "\t<tr><th scope=row>TRINITY_DN82187_c0_g1_i1</th><td>   9.513082  </td><td> 3.454312    </td><td>0.6562764    </td><td> 9.251920e-09</td><td> 9.675219e-06</td></tr>\n",
       "\t<tr><th scope=row>TRINITY_DN61940_c0_g1_i1</th><td>  19.073210  </td><td> 3.335402    </td><td>0.4591079    </td><td> 2.658790e-14</td><td> 1.798015e-10</td></tr>\n",
       "\t<tr><th scope=row>TRINITY_DN35566_c0_g1_i1</th><td>  45.143537  </td><td> 3.272066    </td><td>0.4481272    </td><td> 2.107298e-14</td><td> 1.526858e-10</td></tr>\n",
       "\t<tr><th scope=row>TRINITY_DN51295_c0_g1_i1</th><td>  17.674442  </td><td> 3.263155    </td><td>0.6244357    </td><td> 1.101308e-08</td><td> 1.095240e-05</td></tr>\n",
       "\t<tr><th scope=row>TRINITY_DN79806_c0_g1_i1</th><td>  34.246108  </td><td> 3.259549    </td><td>0.4776683    </td><td> 6.484970e-13</td><td> 2.656396e-09</td></tr>\n",
       "\t<tr><th scope=row>TRINITY_DN146992_c0_g1_i1</th><td>   5.624471  </td><td> 3.252657    </td><td>0.7942949    </td><td> 2.348784e-06</td><td> 7.447744e-04</td></tr>\n",
       "\t<tr><th scope=row>TRINITY_DN89969_c0_g1_i1</th><td>   2.618407  </td><td> 3.182304    </td><td>0.8593963    </td><td> 4.174807e-04</td><td> 3.005565e-02</td></tr>\n",
       "\t<tr><th scope=row>TRINITY_DN26629_c0_g1_i1</th><td>   1.343547  </td><td> 3.152347    </td><td>0.5829288    </td><td> 3.544042e-04</td><td> 2.709122e-02</td></tr>\n",
       "\t<tr><th scope=row>TRINITY_DN149883_c0_g1_i1</th><td>   3.592164  </td><td> 3.064751    </td><td>0.8258970    </td><td> 1.074007e-05</td><td> 2.373531e-03</td></tr>\n",
       "\t<tr><th scope=row>TRINITY_DN135972_c0_g1_i1</th><td>   2.149302  </td><td> 3.027378    </td><td>0.7544622    </td><td> 3.074491e-06</td><td> 9.281853e-04</td></tr>\n",
       "\t<tr><th scope=row>TRINITY_DN72504_c0_g1_i1</th><td>   4.998506  </td><td> 2.751586    </td><td>0.7425460    </td><td> 1.032222e-05</td><td> 2.296197e-03</td></tr>\n",
       "\t<tr><th scope=row>TRINITY_DN158045_c0_g1_i1</th><td>   3.841803  </td><td> 2.581041    </td><td>0.5094681    </td><td> 2.287068e-08</td><td> 1.999962e-05</td></tr>\n",
       "</tbody>\n",
       "</table>\n"
      ],
      "text/latex": [
       "\\begin{tabular}{r|lllll}\n",
       "  & baseMean & log2FoldChange & lfcSE & pvalue & padj\\\\\n",
       "\\hline\n",
       "\tTRINITY\\_DN94855\\_c0\\_g1\\_i1 &  766.509208   & 11.740458     & 0.4123791     & 3.388060e-181 & 3.436780e-176\\\\\n",
       "\tTRINITY\\_DN103226\\_c0\\_g1\\_i1 &  717.178725   & 11.729469     & 0.4432693     & 5.305766e-157 & 1.345516e-152\\\\\n",
       "\tTRINITY\\_DN128205\\_c0\\_g1\\_i1 & 2871.442818   & 11.439449     & 0.4197738     & 1.292932e-164 & 4.371747e-160\\\\\n",
       "\tTRINITY\\_DN115787\\_c0\\_g1\\_i1 &  691.115560   & 11.423670     & 0.4458718     & 1.195002e-147 & 2.424372e-143\\\\\n",
       "\tTRINITY\\_DN121942\\_c0\\_g1\\_i1 &  684.441598   & 11.391444     & 0.4159474     & 3.020168e-168 & 1.531799e-163\\\\\n",
       "\tTRINITY\\_DN122219\\_c0\\_g1\\_i1 &  576.969262   & 11.348327     & 0.4548932     & 1.988178e-140 & 3.361280e-136\\\\\n",
       "\tTRINITY\\_DN128046\\_c0\\_g1\\_i1 &  155.048578   &  9.770940     & 0.4161875     & 1.112043e-125 & 1.611477e-121\\\\\n",
       "\tTRINITY\\_DN56560\\_c0\\_g1\\_i1 &   13.689345   &  3.471850     & 0.4844604     &  5.523101e-14 &  2.948696e-10\\\\\n",
       "\tTRINITY\\_DN82187\\_c0\\_g1\\_i1 &    9.513082   &  3.454312     & 0.6562764     &  9.251920e-09 &  9.675219e-06\\\\\n",
       "\tTRINITY\\_DN61940\\_c0\\_g1\\_i1 &   19.073210   &  3.335402     & 0.4591079     &  2.658790e-14 &  1.798015e-10\\\\\n",
       "\tTRINITY\\_DN35566\\_c0\\_g1\\_i1 &   45.143537   &  3.272066     & 0.4481272     &  2.107298e-14 &  1.526858e-10\\\\\n",
       "\tTRINITY\\_DN51295\\_c0\\_g1\\_i1 &   17.674442   &  3.263155     & 0.6244357     &  1.101308e-08 &  1.095240e-05\\\\\n",
       "\tTRINITY\\_DN79806\\_c0\\_g1\\_i1 &   34.246108   &  3.259549     & 0.4776683     &  6.484970e-13 &  2.656396e-09\\\\\n",
       "\tTRINITY\\_DN146992\\_c0\\_g1\\_i1 &    5.624471   &  3.252657     & 0.7942949     &  2.348784e-06 &  7.447744e-04\\\\\n",
       "\tTRINITY\\_DN89969\\_c0\\_g1\\_i1 &    2.618407   &  3.182304     & 0.8593963     &  4.174807e-04 &  3.005565e-02\\\\\n",
       "\tTRINITY\\_DN26629\\_c0\\_g1\\_i1 &    1.343547   &  3.152347     & 0.5829288     &  3.544042e-04 &  2.709122e-02\\\\\n",
       "\tTRINITY\\_DN149883\\_c0\\_g1\\_i1 &    3.592164   &  3.064751     & 0.8258970     &  1.074007e-05 &  2.373531e-03\\\\\n",
       "\tTRINITY\\_DN135972\\_c0\\_g1\\_i1 &    2.149302   &  3.027378     & 0.7544622     &  3.074491e-06 &  9.281853e-04\\\\\n",
       "\tTRINITY\\_DN72504\\_c0\\_g1\\_i1 &    4.998506   &  2.751586     & 0.7425460     &  1.032222e-05 &  2.296197e-03\\\\\n",
       "\tTRINITY\\_DN158045\\_c0\\_g1\\_i1 &    3.841803   &  2.581041     & 0.5094681     &  2.287068e-08 &  1.999962e-05\\\\\n",
       "\\end{tabular}\n"
      ],
      "text/markdown": [
       "\n",
       "| <!--/--> | baseMean | log2FoldChange | lfcSE | pvalue | padj |\n",
       "|---|---|---|---|---|---|\n",
       "| TRINITY_DN94855_c0_g1_i1 |  766.509208   | 11.740458     | 0.4123791     | 3.388060e-181 | 3.436780e-176 |\n",
       "| TRINITY_DN103226_c0_g1_i1 |  717.178725   | 11.729469     | 0.4432693     | 5.305766e-157 | 1.345516e-152 |\n",
       "| TRINITY_DN128205_c0_g1_i1 | 2871.442818   | 11.439449     | 0.4197738     | 1.292932e-164 | 4.371747e-160 |\n",
       "| TRINITY_DN115787_c0_g1_i1 |  691.115560   | 11.423670     | 0.4458718     | 1.195002e-147 | 2.424372e-143 |\n",
       "| TRINITY_DN121942_c0_g1_i1 |  684.441598   | 11.391444     | 0.4159474     | 3.020168e-168 | 1.531799e-163 |\n",
       "| TRINITY_DN122219_c0_g1_i1 |  576.969262   | 11.348327     | 0.4548932     | 1.988178e-140 | 3.361280e-136 |\n",
       "| TRINITY_DN128046_c0_g1_i1 |  155.048578   |  9.770940     | 0.4161875     | 1.112043e-125 | 1.611477e-121 |\n",
       "| TRINITY_DN56560_c0_g1_i1 |   13.689345   |  3.471850     | 0.4844604     |  5.523101e-14 |  2.948696e-10 |\n",
       "| TRINITY_DN82187_c0_g1_i1 |    9.513082   |  3.454312     | 0.6562764     |  9.251920e-09 |  9.675219e-06 |\n",
       "| TRINITY_DN61940_c0_g1_i1 |   19.073210   |  3.335402     | 0.4591079     |  2.658790e-14 |  1.798015e-10 |\n",
       "| TRINITY_DN35566_c0_g1_i1 |   45.143537   |  3.272066     | 0.4481272     |  2.107298e-14 |  1.526858e-10 |\n",
       "| TRINITY_DN51295_c0_g1_i1 |   17.674442   |  3.263155     | 0.6244357     |  1.101308e-08 |  1.095240e-05 |\n",
       "| TRINITY_DN79806_c0_g1_i1 |   34.246108   |  3.259549     | 0.4776683     |  6.484970e-13 |  2.656396e-09 |\n",
       "| TRINITY_DN146992_c0_g1_i1 |    5.624471   |  3.252657     | 0.7942949     |  2.348784e-06 |  7.447744e-04 |\n",
       "| TRINITY_DN89969_c0_g1_i1 |    2.618407   |  3.182304     | 0.8593963     |  4.174807e-04 |  3.005565e-02 |\n",
       "| TRINITY_DN26629_c0_g1_i1 |    1.343547   |  3.152347     | 0.5829288     |  3.544042e-04 |  2.709122e-02 |\n",
       "| TRINITY_DN149883_c0_g1_i1 |    3.592164   |  3.064751     | 0.8258970     |  1.074007e-05 |  2.373531e-03 |\n",
       "| TRINITY_DN135972_c0_g1_i1 |    2.149302   |  3.027378     | 0.7544622     |  3.074491e-06 |  9.281853e-04 |\n",
       "| TRINITY_DN72504_c0_g1_i1 |    4.998506   |  2.751586     | 0.7425460     |  1.032222e-05 |  2.296197e-03 |\n",
       "| TRINITY_DN158045_c0_g1_i1 |    3.841803   |  2.581041     | 0.5094681     |  2.287068e-08 |  1.999962e-05 |\n",
       "\n"
      ],
      "text/plain": [
       "                          baseMean    log2FoldChange lfcSE     pvalue       \n",
       "TRINITY_DN94855_c0_g1_i1   766.509208 11.740458      0.4123791 3.388060e-181\n",
       "TRINITY_DN103226_c0_g1_i1  717.178725 11.729469      0.4432693 5.305766e-157\n",
       "TRINITY_DN128205_c0_g1_i1 2871.442818 11.439449      0.4197738 1.292932e-164\n",
       "TRINITY_DN115787_c0_g1_i1  691.115560 11.423670      0.4458718 1.195002e-147\n",
       "TRINITY_DN121942_c0_g1_i1  684.441598 11.391444      0.4159474 3.020168e-168\n",
       "TRINITY_DN122219_c0_g1_i1  576.969262 11.348327      0.4548932 1.988178e-140\n",
       "TRINITY_DN128046_c0_g1_i1  155.048578  9.770940      0.4161875 1.112043e-125\n",
       "TRINITY_DN56560_c0_g1_i1    13.689345  3.471850      0.4844604  5.523101e-14\n",
       "TRINITY_DN82187_c0_g1_i1     9.513082  3.454312      0.6562764  9.251920e-09\n",
       "TRINITY_DN61940_c0_g1_i1    19.073210  3.335402      0.4591079  2.658790e-14\n",
       "TRINITY_DN35566_c0_g1_i1    45.143537  3.272066      0.4481272  2.107298e-14\n",
       "TRINITY_DN51295_c0_g1_i1    17.674442  3.263155      0.6244357  1.101308e-08\n",
       "TRINITY_DN79806_c0_g1_i1    34.246108  3.259549      0.4776683  6.484970e-13\n",
       "TRINITY_DN146992_c0_g1_i1    5.624471  3.252657      0.7942949  2.348784e-06\n",
       "TRINITY_DN89969_c0_g1_i1     2.618407  3.182304      0.8593963  4.174807e-04\n",
       "TRINITY_DN26629_c0_g1_i1     1.343547  3.152347      0.5829288  3.544042e-04\n",
       "TRINITY_DN149883_c0_g1_i1    3.592164  3.064751      0.8258970  1.074007e-05\n",
       "TRINITY_DN135972_c0_g1_i1    2.149302  3.027378      0.7544622  3.074491e-06\n",
       "TRINITY_DN72504_c0_g1_i1     4.998506  2.751586      0.7425460  1.032222e-05\n",
       "TRINITY_DN158045_c0_g1_i1    3.841803  2.581041      0.5094681  2.287068e-08\n",
       "                          padj         \n",
       "TRINITY_DN94855_c0_g1_i1  3.436780e-176\n",
       "TRINITY_DN103226_c0_g1_i1 1.345516e-152\n",
       "TRINITY_DN128205_c0_g1_i1 4.371747e-160\n",
       "TRINITY_DN115787_c0_g1_i1 2.424372e-143\n",
       "TRINITY_DN121942_c0_g1_i1 1.531799e-163\n",
       "TRINITY_DN122219_c0_g1_i1 3.361280e-136\n",
       "TRINITY_DN128046_c0_g1_i1 1.611477e-121\n",
       "TRINITY_DN56560_c0_g1_i1   2.948696e-10\n",
       "TRINITY_DN82187_c0_g1_i1   9.675219e-06\n",
       "TRINITY_DN61940_c0_g1_i1   1.798015e-10\n",
       "TRINITY_DN35566_c0_g1_i1   1.526858e-10\n",
       "TRINITY_DN51295_c0_g1_i1   1.095240e-05\n",
       "TRINITY_DN79806_c0_g1_i1   2.656396e-09\n",
       "TRINITY_DN146992_c0_g1_i1  7.447744e-04\n",
       "TRINITY_DN89969_c0_g1_i1   3.005565e-02\n",
       "TRINITY_DN26629_c0_g1_i1   2.709122e-02\n",
       "TRINITY_DN149883_c0_g1_i1  2.373531e-03\n",
       "TRINITY_DN135972_c0_g1_i1  9.281853e-04\n",
       "TRINITY_DN72504_c0_g1_i1   2.296197e-03\n",
       "TRINITY_DN158045_c0_g1_i1  1.999962e-05"
      ]
     },
     "metadata": {},
     "output_type": "display_data"
    }
   ],
   "source": [
    "resLFC_nocontam_sig <- data.frame(subset(resLFC_nocontam, padj < 0.05))\n",
    "resLFC_nocontam_sig <- resLFC_nocontam_sig[order(-resLFC_nocontam_sig$log2FoldChange),]\n",
    "head(resLFC_nocontam_sig,n=20)"
   ]
  },
  {
   "cell_type": "markdown",
   "metadata": {},
   "source": [
    "Okay there's the table. Now find rownames of rows with higher LFC values than absolute value of lowest LFC value. "
   ]
  },
  {
   "cell_type": "code",
   "execution_count": 31,
   "metadata": {},
   "outputs": [
    {
     "data": {
      "text/html": [
       "<ol class=list-inline>\n",
       "\t<li>'TRINITY_DN94855_c0_g1_i1'</li>\n",
       "\t<li>'TRINITY_DN103226_c0_g1_i1'</li>\n",
       "\t<li>'TRINITY_DN128205_c0_g1_i1'</li>\n",
       "\t<li>'TRINITY_DN115787_c0_g1_i1'</li>\n",
       "\t<li>'TRINITY_DN121942_c0_g1_i1'</li>\n",
       "\t<li>'TRINITY_DN122219_c0_g1_i1'</li>\n",
       "\t<li>'TRINITY_DN128046_c0_g1_i1'</li>\n",
       "</ol>\n"
      ],
      "text/latex": [
       "\\begin{enumerate*}\n",
       "\\item 'TRINITY\\_DN94855\\_c0\\_g1\\_i1'\n",
       "\\item 'TRINITY\\_DN103226\\_c0\\_g1\\_i1'\n",
       "\\item 'TRINITY\\_DN128205\\_c0\\_g1\\_i1'\n",
       "\\item 'TRINITY\\_DN115787\\_c0\\_g1\\_i1'\n",
       "\\item 'TRINITY\\_DN121942\\_c0\\_g1\\_i1'\n",
       "\\item 'TRINITY\\_DN122219\\_c0\\_g1\\_i1'\n",
       "\\item 'TRINITY\\_DN128046\\_c0\\_g1\\_i1'\n",
       "\\end{enumerate*}\n"
      ],
      "text/markdown": [
       "1. 'TRINITY_DN94855_c0_g1_i1'\n",
       "2. 'TRINITY_DN103226_c0_g1_i1'\n",
       "3. 'TRINITY_DN128205_c0_g1_i1'\n",
       "4. 'TRINITY_DN115787_c0_g1_i1'\n",
       "5. 'TRINITY_DN121942_c0_g1_i1'\n",
       "6. 'TRINITY_DN122219_c0_g1_i1'\n",
       "7. 'TRINITY_DN128046_c0_g1_i1'\n",
       "\n",
       "\n"
      ],
      "text/plain": [
       "[1] \"TRINITY_DN94855_c0_g1_i1\"  \"TRINITY_DN103226_c0_g1_i1\"\n",
       "[3] \"TRINITY_DN128205_c0_g1_i1\" \"TRINITY_DN115787_c0_g1_i1\"\n",
       "[5] \"TRINITY_DN121942_c0_g1_i1\" \"TRINITY_DN122219_c0_g1_i1\"\n",
       "[7] \"TRINITY_DN128046_c0_g1_i1\""
      ]
     },
     "metadata": {},
     "output_type": "display_data"
    }
   ],
   "source": [
    "contam_add <- rownames(resLFC_nocontam_sig[resLFC_nocontam_sig$log2FoldChange > abs(min(resLFC_nocontam_sig$log2FoldChange)),])\n",
    "contam_add"
   ]
  },
  {
   "cell_type": "markdown",
   "metadata": {},
   "source": [
    "Okay here the seven remaining contigs that we will consider contamination. I am going to add them to the list of contam_IDs, which will be used for removal from the intial counts object. Then the analysis will be re-run. This is to account for renormalization after removal, since many of these contigs had high mean expression across samples. I also want to have all of the putative contaminant transcripts removed before I do the WGCNA analysis. Because it looks for co-expression patterns among transcripts, if I leave in transcripts that are actually just contaminants, it will likely assign transcripts to modules not based on any functional relevance to particular pathways, but rather just to infection status. "
   ]
  },
  {
   "cell_type": "code",
   "execution_count": 32,
   "metadata": {},
   "outputs": [
    {
     "data": {
      "text/html": [
       "5804"
      ],
      "text/latex": [
       "5804"
      ],
      "text/markdown": [
       "5804"
      ],
      "text/plain": [
       "[1] 5804"
      ]
     },
     "metadata": {},
     "output_type": "display_data"
    }
   ],
   "source": [
    "contam_IDs <- c(contam_IDs, contam_add)\n",
    "length(contam_IDs)"
   ]
  },
  {
   "cell_type": "markdown",
   "metadata": {},
   "source": [
    "Okay successfully added. Now to reperform the anaysis."
   ]
  },
  {
   "cell_type": "code",
   "execution_count": 33,
   "metadata": {},
   "outputs": [
    {
     "data": {
      "text/html": [
       "<ol class=list-inline>\n",
       "\t<li>149511</li>\n",
       "\t<li>81</li>\n",
       "</ol>\n"
      ],
      "text/latex": [
       "\\begin{enumerate*}\n",
       "\\item 149511\n",
       "\\item 81\n",
       "\\end{enumerate*}\n"
      ],
      "text/markdown": [
       "1. 149511\n",
       "2. 81\n",
       "\n",
       "\n"
      ],
      "text/plain": [
       "[1] 149511     81"
      ]
     },
     "metadata": {},
     "output_type": "display_data"
    },
    {
     "data": {
      "text/html": [
       "<ol class=list-inline>\n",
       "\t<li>143707</li>\n",
       "\t<li>81</li>\n",
       "</ol>\n"
      ],
      "text/latex": [
       "\\begin{enumerate*}\n",
       "\\item 143707\n",
       "\\item 81\n",
       "\\end{enumerate*}\n"
      ],
      "text/markdown": [
       "1. 143707\n",
       "2. 81\n",
       "\n",
       "\n"
      ],
      "text/plain": [
       "[1] 143707     81"
      ]
     },
     "metadata": {},
     "output_type": "display_data"
    }
   ],
   "source": [
    "dim(all_counts)\n",
    "counts_clean <- all_counts[!rownames(all_counts) %in% contam_IDs,]\n",
    "dim(counts_clean)"
   ]
  },
  {
   "cell_type": "code",
   "execution_count": 34,
   "metadata": {},
   "outputs": [
    {
     "data": {
      "text/html": [
       "TRUE"
      ],
      "text/latex": [
       "TRUE"
      ],
      "text/markdown": [
       "TRUE"
      ],
      "text/plain": [
       "[1] TRUE"
      ]
     },
     "metadata": {},
     "output_type": "display_data"
    }
   ],
   "source": [
    "all(rownames(coldata) == colnames(counts_clean))"
   ]
  },
  {
   "cell_type": "code",
   "execution_count": 35,
   "metadata": {},
   "outputs": [
    {
     "name": "stderr",
     "output_type": "stream",
     "text": [
      "converting counts to integer mode\n",
      "factor levels were dropped which had no samples\n"
     ]
    }
   ],
   "source": [
    "dds_clean <- DESeqDataSetFromMatrix(countData = counts_clean, colData = coldata, design = ~ condition)"
   ]
  },
  {
   "cell_type": "code",
   "execution_count": 36,
   "metadata": {},
   "outputs": [
    {
     "name": "stderr",
     "output_type": "stream",
     "text": [
      "estimating size factors\n",
      "estimating dispersions\n",
      "gene-wise dispersion estimates\n",
      "mean-dispersion relationship\n",
      "-- note: fitType='parametric', but the dispersion trend was not well captured by the\n",
      "   function: y = a/x + b, and a local regression fit was automatically substituted.\n",
      "   specify fitType='local' or 'mean' to avoid this message next time.\n",
      "final dispersion estimates\n",
      "fitting model and testing\n",
      "-- replacing outliers and refitting for 17970 genes\n",
      "-- DESeq argument 'minReplicatesForReplace' = 7 \n",
      "-- original counts are preserved in counts(dds)\n",
      "estimating dispersions\n",
      "fitting model and testing\n"
     ]
    }
   ],
   "source": [
    "dds_clean <- DESeq(dds_clean)"
   ]
  },
  {
   "cell_type": "code",
   "execution_count": 37,
   "metadata": {},
   "outputs": [
    {
     "name": "stdout",
     "output_type": "stream",
     "text": [
      "\n",
      "out of 143014 with nonzero total read count\n",
      "adjusted p-value < 0.05\n",
      "LFC > 0 (up)       : 802, 0.56%\n",
      "LFC < 0 (down)     : 985, 0.69%\n",
      "outliers [1]       : 0, 0%\n",
      "low counts [2]     : 45045, 31%\n",
      "(mean count < 1)\n",
      "[1] see 'cooksCutoff' argument of ?results\n",
      "[2] see 'independentFiltering' argument of ?results\n",
      "\n"
     ]
    }
   ],
   "source": [
    "res_clean <- results(dds_clean, alpha=0.05)\n",
    "summary(res_clean)"
   ]
  },
  {
   "cell_type": "markdown",
   "metadata": {},
   "source": [
    "Now you can see that we have 802 significantly upregulated transcripts and 985 significantly downregulated transcripts. There were a lot of transcripts that had too low of counts to be included (45045), though the creators of DESeq2 recommend not removing these before-hand because have all of the transcripts helps with the dispersion estimates. So, even though a lot got \"thrown out\", they are still helpful behind the scenes. \n",
    "\n",
    "Now I'll just save all of the significant results into a table."
   ]
  },
  {
   "cell_type": "code",
   "execution_count": 38,
   "metadata": {},
   "outputs": [
    {
     "data": {
      "text/html": [
       "<table>\n",
       "<thead><tr><th></th><th scope=col>baseMean</th><th scope=col>log2FoldChange</th><th scope=col>lfcSE</th><th scope=col>stat</th><th scope=col>pvalue</th><th scope=col>padj</th></tr></thead>\n",
       "<tbody>\n",
       "\t<tr><th scope=row>TRINITY_DN2290_c0_g1_i1</th><td> 143.299531 </td><td> -4.710515  </td><td>0.5525098   </td><td>-8.525668   </td><td>1.519304e-17</td><td>1.498975e-12</td></tr>\n",
       "\t<tr><th scope=row>TRINITY_DN111888_c0_g1_i1</th><td>  33.938938 </td><td>-25.181637  </td><td>2.9908160   </td><td>-8.419654   </td><td>3.775963e-17</td><td>1.862721e-12</td></tr>\n",
       "\t<tr><th scope=row>TRINITY_DN113336_c0_g1_i1</th><td>  19.167130 </td><td>-24.398891  </td><td>2.9908994   </td><td>-8.157710   </td><td>3.414350e-16</td><td>1.122889e-11</td></tr>\n",
       "\t<tr><th scope=row>TRINITY_DN112882_c0_g1_i1</th><td>  12.866629 </td><td>  1.686184  </td><td>0.2104324   </td><td> 8.012949   </td><td>1.119898e-15</td><td>2.762285e-11</td></tr>\n",
       "\t<tr><th scope=row>TRINITY_DN12675_c0_g1_i1</th><td>  12.036131 </td><td>-23.765898  </td><td>2.9910130   </td><td>-7.945769   </td><td>1.929899e-15</td><td>3.808154e-11</td></tr>\n",
       "\t<tr><th scope=row>TRINITY_DN28_c10_g1_i1</th><td>1061.353558 </td><td> -5.061733  </td><td>0.6549365   </td><td>-7.728586   </td><td>1.087475e-14</td><td>1.788208e-10</td></tr>\n",
       "\t<tr><th scope=row>TRINITY_DN35566_c0_g1_i1</th><td>  45.238253 </td><td>  3.397351  </td><td>0.4439446   </td><td> 7.652648   </td><td>1.968820e-14</td><td>2.767314e-10</td></tr>\n",
       "\t<tr><th scope=row>TRINITY_DN58794_c0_g1_i1</th><td>  59.199491 </td><td>  1.667018  </td><td>0.2187507   </td><td> 7.620632   </td><td>2.524359e-14</td><td>2.767314e-10</td></tr>\n",
       "\t<tr><th scope=row>TRINITY_DN61940_c0_g1_i1</th><td>  19.110545 </td><td>  3.464863  </td><td>0.4543345   </td><td> 7.626238   </td><td>2.417032e-14</td><td>2.767314e-10</td></tr>\n",
       "\t<tr><th scope=row>TRINITY_DN9438_c0_g1_i1</th><td> 133.873579 </td><td> -5.763847  </td><td>0.7595064   </td><td>-7.588939   </td><td>3.225366e-14</td><td>3.182211e-10</td></tr>\n",
       "\t<tr><th scope=row>TRINITY_DN56560_c0_g1_i1</th><td>  13.718106 </td><td>  3.609234  </td><td>0.4793722   </td><td> 7.529086   </td><td>5.109691e-14</td><td>4.583022e-10</td></tr>\n",
       "\t<tr><th scope=row>TRINITY_DN29984_c0_g1_i1</th><td>  43.613028 </td><td> -4.181603  </td><td>0.5569167   </td><td>-7.508490   </td><td>5.981322e-14</td><td>4.917743e-10</td></tr>\n",
       "\t<tr><th scope=row>TRINITY_DN10388_c0_g1_i1</th><td>  40.231617 </td><td> -1.737313  </td><td>0.2380555   </td><td>-7.297933   </td><td>2.922213e-13</td><td>2.217780e-09</td></tr>\n",
       "\t<tr><th scope=row>TRINITY_DN79806_c0_g1_i1</th><td>  34.320546 </td><td>  3.400519  </td><td>0.4725273   </td><td> 7.196450   </td><td>6.180050e-13</td><td>3.810850e-09</td></tr>\n",
       "\t<tr><th scope=row>TRINITY_DN22600_c0_g1_i1</th><td>   4.094507 </td><td>  5.451791  </td><td>0.7563794   </td><td> 7.207746   </td><td>5.688570e-13</td><td>3.810850e-09</td></tr>\n",
       "\t<tr><th scope=row>TRINITY_DN4309_c0_g1_i2</th><td> 212.427397 </td><td> -7.107308  </td><td>0.9874359   </td><td>-7.197741   </td><td>6.121824e-13</td><td>3.810850e-09</td></tr>\n",
       "\t<tr><th scope=row>TRINITY_DN4558_c1_g1_i1</th><td> 536.709265 </td><td> -5.025371  </td><td>0.6997913   </td><td>-7.181244   </td><td>6.908015e-13</td><td>4.009168e-09</td></tr>\n",
       "\t<tr><th scope=row>TRINITY_DN94593_c0_g1_i1</th><td>  35.215547 </td><td> -1.777101  </td><td>0.2480584   </td><td>-7.164044   </td><td>7.833144e-13</td><td>4.208661e-09</td></tr>\n",
       "\t<tr><th scope=row>TRINITY_DN59586_c1_g1_i1</th><td>  34.445441 </td><td>  2.350536  </td><td>0.3283161   </td><td> 7.159369   </td><td>8.104900e-13</td><td>4.208661e-09</td></tr>\n",
       "\t<tr><th scope=row>TRINITY_DN5780_c0_g1_i1</th><td> 421.693080 </td><td> -1.239068  </td><td>0.1754795   </td><td>-7.061043   </td><td>1.652576e-12</td><td>8.152321e-09</td></tr>\n",
       "</tbody>\n",
       "</table>\n"
      ],
      "text/latex": [
       "\\begin{tabular}{r|llllll}\n",
       "  & baseMean & log2FoldChange & lfcSE & stat & pvalue & padj\\\\\n",
       "\\hline\n",
       "\tTRINITY\\_DN2290\\_c0\\_g1\\_i1 &  143.299531  &  -4.710515   & 0.5525098    & -8.525668    & 1.519304e-17 & 1.498975e-12\\\\\n",
       "\tTRINITY\\_DN111888\\_c0\\_g1\\_i1 &   33.938938  & -25.181637   & 2.9908160    & -8.419654    & 3.775963e-17 & 1.862721e-12\\\\\n",
       "\tTRINITY\\_DN113336\\_c0\\_g1\\_i1 &   19.167130  & -24.398891   & 2.9908994    & -8.157710    & 3.414350e-16 & 1.122889e-11\\\\\n",
       "\tTRINITY\\_DN112882\\_c0\\_g1\\_i1 &   12.866629  &   1.686184   & 0.2104324    &  8.012949    & 1.119898e-15 & 2.762285e-11\\\\\n",
       "\tTRINITY\\_DN12675\\_c0\\_g1\\_i1 &   12.036131  & -23.765898   & 2.9910130    & -7.945769    & 1.929899e-15 & 3.808154e-11\\\\\n",
       "\tTRINITY\\_DN28\\_c10\\_g1\\_i1 & 1061.353558  &  -5.061733   & 0.6549365    & -7.728586    & 1.087475e-14 & 1.788208e-10\\\\\n",
       "\tTRINITY\\_DN35566\\_c0\\_g1\\_i1 &   45.238253  &   3.397351   & 0.4439446    &  7.652648    & 1.968820e-14 & 2.767314e-10\\\\\n",
       "\tTRINITY\\_DN58794\\_c0\\_g1\\_i1 &   59.199491  &   1.667018   & 0.2187507    &  7.620632    & 2.524359e-14 & 2.767314e-10\\\\\n",
       "\tTRINITY\\_DN61940\\_c0\\_g1\\_i1 &   19.110545  &   3.464863   & 0.4543345    &  7.626238    & 2.417032e-14 & 2.767314e-10\\\\\n",
       "\tTRINITY\\_DN9438\\_c0\\_g1\\_i1 &  133.873579  &  -5.763847   & 0.7595064    & -7.588939    & 3.225366e-14 & 3.182211e-10\\\\\n",
       "\tTRINITY\\_DN56560\\_c0\\_g1\\_i1 &   13.718106  &   3.609234   & 0.4793722    &  7.529086    & 5.109691e-14 & 4.583022e-10\\\\\n",
       "\tTRINITY\\_DN29984\\_c0\\_g1\\_i1 &   43.613028  &  -4.181603   & 0.5569167    & -7.508490    & 5.981322e-14 & 4.917743e-10\\\\\n",
       "\tTRINITY\\_DN10388\\_c0\\_g1\\_i1 &   40.231617  &  -1.737313   & 0.2380555    & -7.297933    & 2.922213e-13 & 2.217780e-09\\\\\n",
       "\tTRINITY\\_DN79806\\_c0\\_g1\\_i1 &   34.320546  &   3.400519   & 0.4725273    &  7.196450    & 6.180050e-13 & 3.810850e-09\\\\\n",
       "\tTRINITY\\_DN22600\\_c0\\_g1\\_i1 &    4.094507  &   5.451791   & 0.7563794    &  7.207746    & 5.688570e-13 & 3.810850e-09\\\\\n",
       "\tTRINITY\\_DN4309\\_c0\\_g1\\_i2 &  212.427397  &  -7.107308   & 0.9874359    & -7.197741    & 6.121824e-13 & 3.810850e-09\\\\\n",
       "\tTRINITY\\_DN4558\\_c1\\_g1\\_i1 &  536.709265  &  -5.025371   & 0.6997913    & -7.181244    & 6.908015e-13 & 4.009168e-09\\\\\n",
       "\tTRINITY\\_DN94593\\_c0\\_g1\\_i1 &   35.215547  &  -1.777101   & 0.2480584    & -7.164044    & 7.833144e-13 & 4.208661e-09\\\\\n",
       "\tTRINITY\\_DN59586\\_c1\\_g1\\_i1 &   34.445441  &   2.350536   & 0.3283161    &  7.159369    & 8.104900e-13 & 4.208661e-09\\\\\n",
       "\tTRINITY\\_DN5780\\_c0\\_g1\\_i1 &  421.693080  &  -1.239068   & 0.1754795    & -7.061043    & 1.652576e-12 & 8.152321e-09\\\\\n",
       "\\end{tabular}\n"
      ],
      "text/markdown": [
       "\n",
       "| <!--/--> | baseMean | log2FoldChange | lfcSE | stat | pvalue | padj |\n",
       "|---|---|---|---|---|---|---|\n",
       "| TRINITY_DN2290_c0_g1_i1 |  143.299531  |  -4.710515   | 0.5525098    | -8.525668    | 1.519304e-17 | 1.498975e-12 |\n",
       "| TRINITY_DN111888_c0_g1_i1 |   33.938938  | -25.181637   | 2.9908160    | -8.419654    | 3.775963e-17 | 1.862721e-12 |\n",
       "| TRINITY_DN113336_c0_g1_i1 |   19.167130  | -24.398891   | 2.9908994    | -8.157710    | 3.414350e-16 | 1.122889e-11 |\n",
       "| TRINITY_DN112882_c0_g1_i1 |   12.866629  |   1.686184   | 0.2104324    |  8.012949    | 1.119898e-15 | 2.762285e-11 |\n",
       "| TRINITY_DN12675_c0_g1_i1 |   12.036131  | -23.765898   | 2.9910130    | -7.945769    | 1.929899e-15 | 3.808154e-11 |\n",
       "| TRINITY_DN28_c10_g1_i1 | 1061.353558  |  -5.061733   | 0.6549365    | -7.728586    | 1.087475e-14 | 1.788208e-10 |\n",
       "| TRINITY_DN35566_c0_g1_i1 |   45.238253  |   3.397351   | 0.4439446    |  7.652648    | 1.968820e-14 | 2.767314e-10 |\n",
       "| TRINITY_DN58794_c0_g1_i1 |   59.199491  |   1.667018   | 0.2187507    |  7.620632    | 2.524359e-14 | 2.767314e-10 |\n",
       "| TRINITY_DN61940_c0_g1_i1 |   19.110545  |   3.464863   | 0.4543345    |  7.626238    | 2.417032e-14 | 2.767314e-10 |\n",
       "| TRINITY_DN9438_c0_g1_i1 |  133.873579  |  -5.763847   | 0.7595064    | -7.588939    | 3.225366e-14 | 3.182211e-10 |\n",
       "| TRINITY_DN56560_c0_g1_i1 |   13.718106  |   3.609234   | 0.4793722    |  7.529086    | 5.109691e-14 | 4.583022e-10 |\n",
       "| TRINITY_DN29984_c0_g1_i1 |   43.613028  |  -4.181603   | 0.5569167    | -7.508490    | 5.981322e-14 | 4.917743e-10 |\n",
       "| TRINITY_DN10388_c0_g1_i1 |   40.231617  |  -1.737313   | 0.2380555    | -7.297933    | 2.922213e-13 | 2.217780e-09 |\n",
       "| TRINITY_DN79806_c0_g1_i1 |   34.320546  |   3.400519   | 0.4725273    |  7.196450    | 6.180050e-13 | 3.810850e-09 |\n",
       "| TRINITY_DN22600_c0_g1_i1 |    4.094507  |   5.451791   | 0.7563794    |  7.207746    | 5.688570e-13 | 3.810850e-09 |\n",
       "| TRINITY_DN4309_c0_g1_i2 |  212.427397  |  -7.107308   | 0.9874359    | -7.197741    | 6.121824e-13 | 3.810850e-09 |\n",
       "| TRINITY_DN4558_c1_g1_i1 |  536.709265  |  -5.025371   | 0.6997913    | -7.181244    | 6.908015e-13 | 4.009168e-09 |\n",
       "| TRINITY_DN94593_c0_g1_i1 |   35.215547  |  -1.777101   | 0.2480584    | -7.164044    | 7.833144e-13 | 4.208661e-09 |\n",
       "| TRINITY_DN59586_c1_g1_i1 |   34.445441  |   2.350536   | 0.3283161    |  7.159369    | 8.104900e-13 | 4.208661e-09 |\n",
       "| TRINITY_DN5780_c0_g1_i1 |  421.693080  |  -1.239068   | 0.1754795    | -7.061043    | 1.652576e-12 | 8.152321e-09 |\n",
       "\n"
      ],
      "text/plain": [
       "                          baseMean    log2FoldChange lfcSE     stat     \n",
       "TRINITY_DN2290_c0_g1_i1    143.299531  -4.710515     0.5525098 -8.525668\n",
       "TRINITY_DN111888_c0_g1_i1   33.938938 -25.181637     2.9908160 -8.419654\n",
       "TRINITY_DN113336_c0_g1_i1   19.167130 -24.398891     2.9908994 -8.157710\n",
       "TRINITY_DN112882_c0_g1_i1   12.866629   1.686184     0.2104324  8.012949\n",
       "TRINITY_DN12675_c0_g1_i1    12.036131 -23.765898     2.9910130 -7.945769\n",
       "TRINITY_DN28_c10_g1_i1    1061.353558  -5.061733     0.6549365 -7.728586\n",
       "TRINITY_DN35566_c0_g1_i1    45.238253   3.397351     0.4439446  7.652648\n",
       "TRINITY_DN58794_c0_g1_i1    59.199491   1.667018     0.2187507  7.620632\n",
       "TRINITY_DN61940_c0_g1_i1    19.110545   3.464863     0.4543345  7.626238\n",
       "TRINITY_DN9438_c0_g1_i1    133.873579  -5.763847     0.7595064 -7.588939\n",
       "TRINITY_DN56560_c0_g1_i1    13.718106   3.609234     0.4793722  7.529086\n",
       "TRINITY_DN29984_c0_g1_i1    43.613028  -4.181603     0.5569167 -7.508490\n",
       "TRINITY_DN10388_c0_g1_i1    40.231617  -1.737313     0.2380555 -7.297933\n",
       "TRINITY_DN79806_c0_g1_i1    34.320546   3.400519     0.4725273  7.196450\n",
       "TRINITY_DN22600_c0_g1_i1     4.094507   5.451791     0.7563794  7.207746\n",
       "TRINITY_DN4309_c0_g1_i2    212.427397  -7.107308     0.9874359 -7.197741\n",
       "TRINITY_DN4558_c1_g1_i1    536.709265  -5.025371     0.6997913 -7.181244\n",
       "TRINITY_DN94593_c0_g1_i1    35.215547  -1.777101     0.2480584 -7.164044\n",
       "TRINITY_DN59586_c1_g1_i1    34.445441   2.350536     0.3283161  7.159369\n",
       "TRINITY_DN5780_c0_g1_i1    421.693080  -1.239068     0.1754795 -7.061043\n",
       "                          pvalue       padj        \n",
       "TRINITY_DN2290_c0_g1_i1   1.519304e-17 1.498975e-12\n",
       "TRINITY_DN111888_c0_g1_i1 3.775963e-17 1.862721e-12\n",
       "TRINITY_DN113336_c0_g1_i1 3.414350e-16 1.122889e-11\n",
       "TRINITY_DN112882_c0_g1_i1 1.119898e-15 2.762285e-11\n",
       "TRINITY_DN12675_c0_g1_i1  1.929899e-15 3.808154e-11\n",
       "TRINITY_DN28_c10_g1_i1    1.087475e-14 1.788208e-10\n",
       "TRINITY_DN35566_c0_g1_i1  1.968820e-14 2.767314e-10\n",
       "TRINITY_DN58794_c0_g1_i1  2.524359e-14 2.767314e-10\n",
       "TRINITY_DN61940_c0_g1_i1  2.417032e-14 2.767314e-10\n",
       "TRINITY_DN9438_c0_g1_i1   3.225366e-14 3.182211e-10\n",
       "TRINITY_DN56560_c0_g1_i1  5.109691e-14 4.583022e-10\n",
       "TRINITY_DN29984_c0_g1_i1  5.981322e-14 4.917743e-10\n",
       "TRINITY_DN10388_c0_g1_i1  2.922213e-13 2.217780e-09\n",
       "TRINITY_DN79806_c0_g1_i1  6.180050e-13 3.810850e-09\n",
       "TRINITY_DN22600_c0_g1_i1  5.688570e-13 3.810850e-09\n",
       "TRINITY_DN4309_c0_g1_i2   6.121824e-13 3.810850e-09\n",
       "TRINITY_DN4558_c1_g1_i1   6.908015e-13 4.009168e-09\n",
       "TRINITY_DN94593_c0_g1_i1  7.833144e-13 4.208661e-09\n",
       "TRINITY_DN59586_c1_g1_i1  8.104900e-13 4.208661e-09\n",
       "TRINITY_DN5780_c0_g1_i1   1.652576e-12 8.152321e-09"
      ]
     },
     "metadata": {},
     "output_type": "display_data"
    }
   ],
   "source": [
    "res_clean_sig <- data.frame(subset(res_clean, padj < 0.05))\n",
    "res_clean_sig <- res_clean_sig[order(res_clean_sig$padj),]\n",
    "head(res_clean_sig, 20)"
   ]
  },
  {
   "cell_type": "markdown",
   "metadata": {},
   "source": [
    "Let's make some plots!"
   ]
  },
  {
   "cell_type": "code",
   "execution_count": 39,
   "metadata": {},
   "outputs": [],
   "source": [
    "#count_plot <- plotCounts(dds_clean, gene=\"TRINITY_DN59983_c0_g1_i1\", intgroup=c(\"condition\",\"sex\"), returnData=TRUE)\n",
    "#ggplot(count_plot, aes(x=condition, y=count, color=sex)) +\n",
    "#    geom_point(position=position_jitter(w=0.2,h=0)) + \n",
    "#    #geom_label(aes(label = site), position=position_jitter(w=0.4,h=0))  + \n",
    "#    scale_y_log10() "
   ]
  },
  {
   "cell_type": "markdown",
   "metadata": {},
   "source": [
    "We'll do a variance stabilizing transformation, which is fast and useful for visualization of results.\n",
    "\n",
    "*BLIND OR NOT?*"
   ]
  },
  {
   "cell_type": "code",
   "execution_count": 40,
   "metadata": {},
   "outputs": [],
   "source": [
    "#vsd <- vst(dds_clean) #blind = TRUE or FALSE?"
   ]
  },
  {
   "cell_type": "markdown",
   "metadata": {},
   "source": [
    "Then we'll make a list of transcripts we want to select for plotting.\n",
    "\n",
    "*DO THIS LATER!*"
   ]
  },
  {
   "cell_type": "code",
   "execution_count": 41,
   "metadata": {},
   "outputs": [],
   "source": [
    "#select <- rownames(res_clean_sig[abs(res_clean_sig$log2FoldChange)>2,])\n",
    "#length(select)"
   ]
  },
  {
   "cell_type": "code",
   "execution_count": 42,
   "metadata": {},
   "outputs": [],
   "source": [
    "#require(pheatmap)\n",
    "#pheatmap(res_clean_sig[select,\"log2FoldChange\"], cluster_rows=FALSE, show_rownames=FALSE, cluster_cols=FALSE)"
   ]
  },
  {
   "cell_type": "code",
   "execution_count": 43,
   "metadata": {},
   "outputs": [],
   "source": [
    "#pcaData <- plotPCA(vsd, intgroup=c(\"range\", \"condition\"), returnData=TRUE, ntop=100)\n",
    "#percentVar <- round(100 * attr(pcaData, \"percentVar\"))\n",
    "#PCA <- ggplot(pcaData, aes(PC1, PC2, color=condition, shape=range)) +\n",
    "#  geom_point(size=3) +\n",
    "#  xlab(paste0(\"PC1: \",percentVar[1],\"% variance\")) +\n",
    "#  ylab(paste0(\"PC2: \",percentVar[2],\"% variance\"))\n",
    "#PCA"
   ]
  },
  {
   "cell_type": "code",
   "execution_count": 44,
   "metadata": {},
   "outputs": [],
   "source": [
    "#topDists <- assay(vsd)[head(order(rowVars(assay(vsd)), decreasing = TRUE), 20),]\n",
    "#sampleDists <- dist(t(topDists))\n",
    "#sampleDistMatrix <- as.matrix( sampleDists )\n",
    "#colnames(sampleDistMatrix) <- NULL\n",
    "#colors <- colorRampPalette( rev(brewer.pal(10, \"RdBu\")) )(255)\n",
    "#pheatmap(sampleDistMatrix,\n",
    "#         clustering_distance_rows = sampleDists,\n",
    "#         clustering_distance_cols = sampleDists,\n",
    "#         col = colors)"
   ]
  },
  {
   "cell_type": "markdown",
   "metadata": {},
   "source": [
    "Now we can start getting into the differences among ranges. These tests will have multiple factors."
   ]
  },
  {
   "cell_type": "code",
   "execution_count": 45,
   "metadata": {},
   "outputs": [],
   "source": [
    "ddsMF <- dds_clean"
   ]
  },
  {
   "cell_type": "markdown",
   "metadata": {},
   "source": [
    "Let's remove the Fort Pierce (FP) samples because the invasive status of Loxo is unresolved there. FP are in rows 11-22. "
   ]
  },
  {
   "cell_type": "code",
   "execution_count": 46,
   "metadata": {},
   "outputs": [
    {
     "data": {
      "text/plain": [
       "class: DESeqDataSet \n",
       "dim: 143707 69 \n",
       "metadata(1): version\n",
       "assays(6): counts mu ... replaceCounts replaceCooks\n",
       "rownames(143707): TRINITY_DN38930_c0_g1_i1 TRINITY_DN61353_c1_g1_i1 ...\n",
       "  TRINITY_DN45973_c0_g1_i1 TRINITY_DN16666_c0_g1_i1\n",
       "rowData names(23): baseMean baseVar ... maxCooks replace\n",
       "colnames(69): AP_C_1 AP_C_2 ... SC_P_2 SC_P_3\n",
       "colData names(6): site condition ... sizeFactor replaceable"
      ]
     },
     "metadata": {},
     "output_type": "display_data"
    }
   ],
   "source": [
    "ddsMF_noFP <- ddsMF[,-c(11:22)]\n",
    "ddsMF_noFP"
   ]
  },
  {
   "cell_type": "markdown",
   "metadata": {},
   "source": [
    "Now you can see that we only have 69 samples, after removing the 12 from FP. "
   ]
  },
  {
   "cell_type": "code",
   "execution_count": 47,
   "metadata": {},
   "outputs": [
    {
     "data": {
      "text/html": [
       "<ol class=list-inline>\n",
       "\t<li>NativeC</li>\n",
       "\t<li>NativeC</li>\n",
       "\t<li>NativeC</li>\n",
       "\t<li>NativeC</li>\n",
       "\t<li>NativeC</li>\n",
       "\t<li>NativeC</li>\n",
       "\t<li>NativeP</li>\n",
       "\t<li>NativeP</li>\n",
       "\t<li>NativeP</li>\n",
       "\t<li>NativeP</li>\n",
       "\t<li>NativeC</li>\n",
       "\t<li>NativeC</li>\n",
       "\t<li>NativeC</li>\n",
       "\t<li>NativeC</li>\n",
       "\t<li>NativeC</li>\n",
       "\t<li>NativeC</li>\n",
       "\t<li>NativeP</li>\n",
       "\t<li>NativeP</li>\n",
       "\t<li>AbsentC</li>\n",
       "\t<li>AbsentC</li>\n",
       "\t<li>AbsentC</li>\n",
       "\t<li>InvasiveC</li>\n",
       "\t<li>InvasiveC</li>\n",
       "\t<li>InvasiveP</li>\n",
       "\t<li>InvasiveC</li>\n",
       "\t<li>InvasiveC</li>\n",
       "\t<li>InvasiveC</li>\n",
       "\t<li>InvasiveP</li>\n",
       "\t<li>InvasiveC</li>\n",
       "\t<li>InvasiveC</li>\n",
       "\t<li>InvasiveC</li>\n",
       "\t<li>InvasiveC</li>\n",
       "\t<li>InvasiveC</li>\n",
       "\t<li>InvasiveC</li>\n",
       "\t<li>InvasiveP</li>\n",
       "\t<li>InvasiveP</li>\n",
       "\t<li>AbsentC</li>\n",
       "\t<li>AbsentC</li>\n",
       "\t<li>AbsentC</li>\n",
       "\t<li>AbsentC</li>\n",
       "\t<li>AbsentC</li>\n",
       "\t<li>AbsentC</li>\n",
       "\t<li>AbsentP</li>\n",
       "\t<li>AbsentP</li>\n",
       "\t<li>AbsentP</li>\n",
       "\t<li>AbsentP</li>\n",
       "\t<li>AbsentP</li>\n",
       "\t<li>AbsentP</li>\n",
       "\t<li>AbsentC</li>\n",
       "\t<li>AbsentC</li>\n",
       "\t<li>AbsentC</li>\n",
       "\t<li>AbsentC</li>\n",
       "\t<li>AbsentC</li>\n",
       "\t<li>AbsentC</li>\n",
       "\t<li>AbsentP</li>\n",
       "\t<li>AbsentP</li>\n",
       "\t<li>AbsentP</li>\n",
       "\t<li>AbsentP</li>\n",
       "\t<li>AbsentP</li>\n",
       "\t<li>AbsentP</li>\n",
       "\t<li>InvasiveC</li>\n",
       "\t<li>InvasiveC</li>\n",
       "\t<li>InvasiveC</li>\n",
       "\t<li>InvasiveC</li>\n",
       "\t<li>InvasiveC</li>\n",
       "\t<li>InvasiveC</li>\n",
       "\t<li>InvasiveP</li>\n",
       "\t<li>InvasiveP</li>\n",
       "\t<li>InvasiveP</li>\n",
       "</ol>\n",
       "\n",
       "<details>\n",
       "\t<summary style=display:list-item;cursor:pointer>\n",
       "\t\t<strong>Levels</strong>:\n",
       "\t</summary>\n",
       "\t<ol class=list-inline>\n",
       "\t\t<li>'AbsentC'</li>\n",
       "\t\t<li>'AbsentP'</li>\n",
       "\t\t<li>'InvasiveC'</li>\n",
       "\t\t<li>'InvasiveP'</li>\n",
       "\t\t<li>'NativeC'</li>\n",
       "\t\t<li>'NativeP'</li>\n",
       "\t</ol>\n",
       "</details>"
      ],
      "text/latex": [
       "\\begin{enumerate*}\n",
       "\\item NativeC\n",
       "\\item NativeC\n",
       "\\item NativeC\n",
       "\\item NativeC\n",
       "\\item NativeC\n",
       "\\item NativeC\n",
       "\\item NativeP\n",
       "\\item NativeP\n",
       "\\item NativeP\n",
       "\\item NativeP\n",
       "\\item NativeC\n",
       "\\item NativeC\n",
       "\\item NativeC\n",
       "\\item NativeC\n",
       "\\item NativeC\n",
       "\\item NativeC\n",
       "\\item NativeP\n",
       "\\item NativeP\n",
       "\\item AbsentC\n",
       "\\item AbsentC\n",
       "\\item AbsentC\n",
       "\\item InvasiveC\n",
       "\\item InvasiveC\n",
       "\\item InvasiveP\n",
       "\\item InvasiveC\n",
       "\\item InvasiveC\n",
       "\\item InvasiveC\n",
       "\\item InvasiveP\n",
       "\\item InvasiveC\n",
       "\\item InvasiveC\n",
       "\\item InvasiveC\n",
       "\\item InvasiveC\n",
       "\\item InvasiveC\n",
       "\\item InvasiveC\n",
       "\\item InvasiveP\n",
       "\\item InvasiveP\n",
       "\\item AbsentC\n",
       "\\item AbsentC\n",
       "\\item AbsentC\n",
       "\\item AbsentC\n",
       "\\item AbsentC\n",
       "\\item AbsentC\n",
       "\\item AbsentP\n",
       "\\item AbsentP\n",
       "\\item AbsentP\n",
       "\\item AbsentP\n",
       "\\item AbsentP\n",
       "\\item AbsentP\n",
       "\\item AbsentC\n",
       "\\item AbsentC\n",
       "\\item AbsentC\n",
       "\\item AbsentC\n",
       "\\item AbsentC\n",
       "\\item AbsentC\n",
       "\\item AbsentP\n",
       "\\item AbsentP\n",
       "\\item AbsentP\n",
       "\\item AbsentP\n",
       "\\item AbsentP\n",
       "\\item AbsentP\n",
       "\\item InvasiveC\n",
       "\\item InvasiveC\n",
       "\\item InvasiveC\n",
       "\\item InvasiveC\n",
       "\\item InvasiveC\n",
       "\\item InvasiveC\n",
       "\\item InvasiveP\n",
       "\\item InvasiveP\n",
       "\\item InvasiveP\n",
       "\\end{enumerate*}\n",
       "\n",
       "\\emph{Levels}: \\begin{enumerate*}\n",
       "\\item 'AbsentC'\n",
       "\\item 'AbsentP'\n",
       "\\item 'InvasiveC'\n",
       "\\item 'InvasiveP'\n",
       "\\item 'NativeC'\n",
       "\\item 'NativeP'\n",
       "\\end{enumerate*}\n"
      ],
      "text/markdown": [
       "1. NativeC\n",
       "2. NativeC\n",
       "3. NativeC\n",
       "4. NativeC\n",
       "5. NativeC\n",
       "6. NativeC\n",
       "7. NativeP\n",
       "8. NativeP\n",
       "9. NativeP\n",
       "10. NativeP\n",
       "11. NativeC\n",
       "12. NativeC\n",
       "13. NativeC\n",
       "14. NativeC\n",
       "15. NativeC\n",
       "16. NativeC\n",
       "17. NativeP\n",
       "18. NativeP\n",
       "19. AbsentC\n",
       "20. AbsentC\n",
       "21. AbsentC\n",
       "22. InvasiveC\n",
       "23. InvasiveC\n",
       "24. InvasiveP\n",
       "25. InvasiveC\n",
       "26. InvasiveC\n",
       "27. InvasiveC\n",
       "28. InvasiveP\n",
       "29. InvasiveC\n",
       "30. InvasiveC\n",
       "31. InvasiveC\n",
       "32. InvasiveC\n",
       "33. InvasiveC\n",
       "34. InvasiveC\n",
       "35. InvasiveP\n",
       "36. InvasiveP\n",
       "37. AbsentC\n",
       "38. AbsentC\n",
       "39. AbsentC\n",
       "40. AbsentC\n",
       "41. AbsentC\n",
       "42. AbsentC\n",
       "43. AbsentP\n",
       "44. AbsentP\n",
       "45. AbsentP\n",
       "46. AbsentP\n",
       "47. AbsentP\n",
       "48. AbsentP\n",
       "49. AbsentC\n",
       "50. AbsentC\n",
       "51. AbsentC\n",
       "52. AbsentC\n",
       "53. AbsentC\n",
       "54. AbsentC\n",
       "55. AbsentP\n",
       "56. AbsentP\n",
       "57. AbsentP\n",
       "58. AbsentP\n",
       "59. AbsentP\n",
       "60. AbsentP\n",
       "61. InvasiveC\n",
       "62. InvasiveC\n",
       "63. InvasiveC\n",
       "64. InvasiveC\n",
       "65. InvasiveC\n",
       "66. InvasiveC\n",
       "67. InvasiveP\n",
       "68. InvasiveP\n",
       "69. InvasiveP\n",
       "\n",
       "\n",
       "\n",
       "**Levels**: 1. 'AbsentC'\n",
       "2. 'AbsentP'\n",
       "3. 'InvasiveC'\n",
       "4. 'InvasiveP'\n",
       "5. 'NativeC'\n",
       "6. 'NativeP'\n",
       "\n",
       "\n"
      ],
      "text/plain": [
       " [1] NativeC   NativeC   NativeC   NativeC   NativeC   NativeC   NativeP  \n",
       " [8] NativeP   NativeP   NativeP   NativeC   NativeC   NativeC   NativeC  \n",
       "[15] NativeC   NativeC   NativeP   NativeP   AbsentC   AbsentC   AbsentC  \n",
       "[22] InvasiveC InvasiveC InvasiveP InvasiveC InvasiveC InvasiveC InvasiveP\n",
       "[29] InvasiveC InvasiveC InvasiveC InvasiveC InvasiveC InvasiveC InvasiveP\n",
       "[36] InvasiveP AbsentC   AbsentC   AbsentC   AbsentC   AbsentC   AbsentC  \n",
       "[43] AbsentP   AbsentP   AbsentP   AbsentP   AbsentP   AbsentP   AbsentC  \n",
       "[50] AbsentC   AbsentC   AbsentC   AbsentC   AbsentC   AbsentP   AbsentP  \n",
       "[57] AbsentP   AbsentP   AbsentP   AbsentP   InvasiveC InvasiveC InvasiveC\n",
       "[64] InvasiveC InvasiveC InvasiveC InvasiveP InvasiveP InvasiveP\n",
       "Levels: AbsentC AbsentP InvasiveC InvasiveP NativeC NativeP"
      ]
     },
     "metadata": {},
     "output_type": "display_data"
    }
   ],
   "source": [
    "ddsMF_noFP$group <- factor(paste0(ddsMF_noFP$range, ddsMF_noFP$condition)) \n",
    "ddsMF_noFP$group"
   ]
  },
  {
   "cell_type": "code",
   "execution_count": 48,
   "metadata": {},
   "outputs": [
    {
     "name": "stderr",
     "output_type": "stream",
     "text": [
      "using pre-existing size factors\n",
      "estimating dispersions\n",
      "found already estimated dispersions, replacing these\n",
      "gene-wise dispersion estimates\n",
      "mean-dispersion relationship\n",
      "-- note: fitType='parametric', but the dispersion trend was not well captured by the\n",
      "   function: y = a/x + b, and a local regression fit was automatically substituted.\n",
      "   specify fitType='local' or 'mean' to avoid this message next time.\n",
      "final dispersion estimates\n",
      "fitting model and testing\n",
      "-- replacing outliers and refitting for 12203 genes\n",
      "-- DESeq argument 'minReplicatesForReplace' = 7 \n",
      "-- original counts are preserved in counts(dds)\n",
      "estimating dispersions\n",
      "fitting model and testing\n"
     ]
    }
   ],
   "source": [
    "design(ddsMF_noFP) <- ~ group\n",
    "ddsMF_noFP <- DESeq(ddsMF_noFP)"
   ]
  },
  {
   "cell_type": "markdown",
   "metadata": {},
   "source": [
    "Below we will specify contrasts, comparing parasitized and control in each range separately. \n",
    "\n",
    "First we'll do the native range comparison."
   ]
  },
  {
   "cell_type": "code",
   "execution_count": 49,
   "metadata": {},
   "outputs": [
    {
     "name": "stdout",
     "output_type": "stream",
     "text": [
      "\n",
      "out of 143194 with nonzero total read count\n",
      "adjusted p-value < 0.05\n",
      "LFC > 0 (up)       : 734, 0.51%\n",
      "LFC < 0 (down)     : 487, 0.34%\n",
      "outliers [1]       : 285, 0.2%\n",
      "low counts [2]     : 69744, 49%\n",
      "(mean count < 3)\n",
      "[1] see 'cooksCutoff' argument of ?results\n",
      "[2] see 'independentFiltering' argument of ?results\n",
      "\n"
     ]
    }
   ],
   "source": [
    "resMF_noFP_native <- results(ddsMF_noFP, alpha=0.05, contrast=c(\"group\",\"NativeP\",\"NativeC\"))\n",
    "summary(resMF_noFP_native)"
   ]
  },
  {
   "cell_type": "markdown",
   "metadata": {},
   "source": [
    "For the native range populations (AP & LA), there are 734 significantly upregulated transcripts and 487 significantly downregulated transcripts. Save significant to a data.frame:"
   ]
  },
  {
   "cell_type": "code",
   "execution_count": 50,
   "metadata": {},
   "outputs": [],
   "source": [
    "resMF_noFP_native_df <- data.frame(subset(resMF_noFP_native, padj < 0.05))"
   ]
  },
  {
   "cell_type": "markdown",
   "metadata": {},
   "source": [
    "Now for the invasive range:"
   ]
  },
  {
   "cell_type": "code",
   "execution_count": 51,
   "metadata": {},
   "outputs": [
    {
     "name": "stdout",
     "output_type": "stream",
     "text": [
      "\n",
      "out of 143194 with nonzero total read count\n",
      "adjusted p-value < 0.05\n",
      "LFC > 0 (up)       : 3171, 2.2%\n",
      "LFC < 0 (down)     : 1332, 0.93%\n",
      "outliers [1]       : 285, 0.2%\n",
      "low counts [2]     : 66975, 47%\n",
      "(mean count < 3)\n",
      "[1] see 'cooksCutoff' argument of ?results\n",
      "[2] see 'independentFiltering' argument of ?results\n",
      "\n"
     ]
    }
   ],
   "source": [
    "resMF_noFP_invasive <- results(ddsMF_noFP, alpha=0.05, contrast=c(\"group\",\"InvasiveP\",\"InvasiveC\"))\n",
    "summary(resMF_noFP_invasive)"
   ]
  },
  {
   "cell_type": "markdown",
   "metadata": {},
   "source": [
    "You can see here that there are a larger number of differentially expressed transcripts, with 3172 significantly upregulated and 1332 significantly downregulated. Save to a data.frame:"
   ]
  },
  {
   "cell_type": "code",
   "execution_count": 52,
   "metadata": {},
   "outputs": [],
   "source": [
    "resMF_noFP_invasive_df <- data.frame(subset(resMF_noFP_invasive, padj < 0.05))"
   ]
  },
  {
   "cell_type": "markdown",
   "metadata": {},
   "source": [
    "Last but not least, the absent range:"
   ]
  },
  {
   "cell_type": "code",
   "execution_count": 53,
   "metadata": {},
   "outputs": [
    {
     "name": "stdout",
     "output_type": "stream",
     "text": [
      "\n",
      "out of 143194 with nonzero total read count\n",
      "adjusted p-value < 0.05\n",
      "LFC > 0 (up)       : 3985, 2.8%\n",
      "LFC < 0 (down)     : 3340, 2.3%\n",
      "outliers [1]       : 285, 0.2%\n",
      "low counts [2]     : 47600, 33%\n",
      "(mean count < 2)\n",
      "[1] see 'cooksCutoff' argument of ?results\n",
      "[2] see 'independentFiltering' argument of ?results\n",
      "\n"
     ]
    }
   ],
   "source": [
    "resMF_noFP_absent <- results(ddsMF_noFP, alpha=0.05, contrast=c(\"group\",\"AbsentP\",\"AbsentC\"))\n",
    "summary(resMF_noFP_absent)"
   ]
  },
  {
   "cell_type": "markdown",
   "metadata": {},
   "source": [
    "And yet even more differentially expressed transcripts in the absent range. 3985 up and 3340 down. Save to data.frame:"
   ]
  },
  {
   "cell_type": "code",
   "execution_count": 54,
   "metadata": {},
   "outputs": [],
   "source": [
    "resMF_noFP_absent_df <- data.frame(subset(resMF_noFP_absent, padj < 0.05))"
   ]
  },
  {
   "cell_type": "markdown",
   "metadata": {},
   "source": [
    "But is this all due to difference in historical exposure to the parasite? Or could it be an effect of differing numbers of samples between ranges? When you exclude FP (range unresolved) and MA_C_3 (bad seq data), there are a total of 18 native samples, 24 invasive samples, and 26 absent samples. So the elevated recovery of DE transcripts could just be due to deeper sampling/sequencing. I think the best normalization in this case would be library size, i.e. total bp in filtered reads from each of the three ranges as denominator, to see if this is an effect of sampling/sequencing effort.\n",
    "\n",
    "There is almost certainly another effect of which samples were used for the assembly. It was just the uninfected samples, although there are certainly disparaties among ranges as well as far as to what proportion of the assembly is derived from reads from that range. "
   ]
  },
  {
   "cell_type": "code",
   "execution_count": 55,
   "metadata": {},
   "outputs": [],
   "source": [
    "#save.image()"
   ]
  },
  {
   "cell_type": "markdown",
   "metadata": {},
   "source": [
    "To make a Venn diagram showing the overlap in DE between ranges, we'll first make lists with all of the transcript names according to direction of LFC."
   ]
  },
  {
   "cell_type": "code",
   "execution_count": 56,
   "metadata": {},
   "outputs": [],
   "source": [
    "native_DE_up <- rownames(resMF_noFP_native_df[resMF_noFP_native_df$log2FoldChange > 0,])\n",
    "invasive_DE_up <- rownames(resMF_noFP_invasive_df[resMF_noFP_invasive_df$log2FoldChange > 0,])\n",
    "absent_DE_up <- rownames(resMF_noFP_absent_df[resMF_noFP_absent_df$log2FoldChange > 0,])\n",
    "native_DE_down <- rownames(resMF_noFP_native_df[resMF_noFP_native_df$log2FoldChange < 0,])\n",
    "invasive_DE_down <- rownames(resMF_noFP_invasive_df[resMF_noFP_invasive_df$log2FoldChange < 0,])\n",
    "absent_DE_down <- rownames(resMF_noFP_absent_df[resMF_noFP_absent_df$log2FoldChange < 0,])"
   ]
  },
  {
   "cell_type": "markdown",
   "metadata": {},
   "source": [
    "Make three Venn diagrams: one for upregulated, one for downregulated, and one for both."
   ]
  },
  {
   "cell_type": "code",
   "execution_count": 57,
   "metadata": {},
   "outputs": [
    {
     "name": "stderr",
     "output_type": "stream",
     "text": [
      "Loading required package: VennDiagram\n",
      "Loading required package: grid\n",
      "Loading required package: futile.logger\n",
      "Loading required package: RColorBrewer\n"
     ]
    },
    {
     "data": {
      "text/plain": [
       "NULL"
      ]
     },
     "metadata": {},
     "output_type": "display_data"
    },
    {
     "data": {
      "text/html": [
       "1"
      ],
      "text/latex": [
       "1"
      ],
      "text/markdown": [
       "1"
      ],
      "text/plain": [
       "[1] 1"
      ]
     },
     "metadata": {},
     "output_type": "display_data"
    },
    {
     "data": {
      "text/html": [
       "1"
      ],
      "text/latex": [
       "1"
      ],
      "text/markdown": [
       "1"
      ],
      "text/plain": [
       "[1] 1"
      ]
     },
     "metadata": {},
     "output_type": "display_data"
    },
    {
     "data": {
      "text/html": [
       "1"
      ],
      "text/latex": [
       "1"
      ],
      "text/markdown": [
       "1"
      ],
      "text/plain": [
       "[1] 1"
      ]
     },
     "metadata": {},
     "output_type": "display_data"
    }
   ],
   "source": [
    "require(VennDiagram)\n",
    "require(RColorBrewer)\n",
    "futile.logger::flog.threshold(futile.logger::ERROR, name = \"VennDiagramLogger\")\n",
    "myCol <- brewer.pal(3, \"Set1\")\n",
    "venn.diagram(\n",
    "        x = list(native_DE_up, invasive_DE_up, absent_DE_up),\n",
    "        category.names = c(\"Native\" , \"Invasive\" , \"Absent\"),\n",
    "        filename = '../vis/venn_range_up.png',\n",
    "        output = TRUE ,\n",
    "        imagetype=\"png\" ,\n",
    "        height = 480 , \n",
    "        width = 480 , \n",
    "        resolution = 300,\n",
    "        compression = \"lzw\",\n",
    "        lwd = 1,\n",
    "        fill = myCol,\n",
    "        cex = 0.5,\n",
    "        fontfamily = \"sans\",\n",
    "        cat.cex = 0.5,\n",
    "        cat.fontface = \"bold\",\n",
    "        cat.default.pos = \"outer\",\n",
    "        cat.pos = c(-27, 27, 180),\n",
    "        cat.dist = c(0.055, 0.055, 0.045),\n",
    "        cat.fontfamily = \"sans\",\n",
    "        cat.col = myCol,\n",
    "        rotation = 1\n",
    ")\n",
    "venn.diagram(\n",
    "        x = list(native_DE_down, invasive_DE_down, absent_DE_down),\n",
    "        category.names = c(\"Native\" , \"Invasive\" , \"Absent\"),\n",
    "        filename = '../vis/venn_range_down.png',\n",
    "        output = TRUE ,\n",
    "        imagetype=\"png\" ,\n",
    "        height = 480 , \n",
    "        width = 480 , \n",
    "        resolution = 300,\n",
    "        compression = \"lzw\",\n",
    "        lwd = 1,\n",
    "        fill = myCol,\n",
    "        cex = 0.5,\n",
    "        fontfamily = \"sans\",\n",
    "        cat.cex = 0.5,\n",
    "        cat.fontface = \"bold\",\n",
    "        cat.default.pos = \"outer\",\n",
    "        cat.pos = c(-27, 27, 180),\n",
    "        cat.dist = c(0.055, 0.055, 0.045),\n",
    "        cat.fontfamily = \"sans\",\n",
    "        cat.col = myCol,\n",
    "        rotation = 1\n",
    ")\n",
    "venn.diagram(\n",
    "        x = list(c(native_DE_down,native_DE_up), c(invasive_DE_down,invasive_DE_up), c(absent_DE_down,absent_DE_up)),\n",
    "        category.names = c(\"Native\" , \"Invasive\" , \"Absent\"),\n",
    "        filename = '../vis/venn_range_both.png',\n",
    "        output = TRUE ,\n",
    "        imagetype=\"png\" ,\n",
    "        height = 480 , \n",
    "        width = 480 , \n",
    "        resolution = 300,\n",
    "        compression = \"lzw\",\n",
    "        lwd = 1,\n",
    "        fill = myCol,\n",
    "        cex = 0.5,\n",
    "        fontfamily = \"sans\",\n",
    "        cat.cex = 0.5,\n",
    "        cat.fontface = \"bold\",\n",
    "        cat.default.pos = \"outer\",\n",
    "        cat.pos = c(-27, 27, 180),\n",
    "        cat.dist = c(0.055, 0.055, 0.045),\n",
    "        cat.fontfamily = \"sans\",\n",
    "        cat.col = myCol,\n",
    "        rotation = 1\n",
    ")"
   ]
  },
  {
   "cell_type": "markdown",
   "metadata": {},
   "source": [
    "Okay now I can move on to looking for transcripts that display interactions between the range and condition. This will reveal which (if any) transcripts show different responses to infection depending on the range.\n",
    "\n",
    "First we have to make another dds object. I have to load it from scratch from edited counts and coldata because it's having issues setting the reference levels."
   ]
  },
  {
   "cell_type": "code",
   "execution_count": 68,
   "metadata": {},
   "outputs": [
    {
     "data": {
      "text/html": [
       "<ol class=list-inline>\n",
       "\t<li>69</li>\n",
       "\t<li>4</li>\n",
       "</ol>\n"
      ],
      "text/latex": [
       "\\begin{enumerate*}\n",
       "\\item 69\n",
       "\\item 4\n",
       "\\end{enumerate*}\n"
      ],
      "text/markdown": [
       "1. 69\n",
       "2. 4\n",
       "\n",
       "\n"
      ],
      "text/plain": [
       "[1] 69  4"
      ]
     },
     "metadata": {},
     "output_type": "display_data"
    }
   ],
   "source": [
    "coldata_noFP <- coldata[coldata$site!=\"FP\",] #remove FP\n",
    "coldata_noFP <- coldata_noFP[coldata$condition!=\"F\",] #remove parasite\n",
    "coldata_noFP <- coldata[complete.cases(coldata_noFP),] #remove NAs\n",
    "dim(coldata_noFP)"
   ]
  },
  {
   "cell_type": "code",
   "execution_count": 69,
   "metadata": {},
   "outputs": [],
   "source": [
    "counts_clean2 <- counts_clean[,rownames(coldata_noFP)]"
   ]
  },
  {
   "cell_type": "code",
   "execution_count": 70,
   "metadata": {},
   "outputs": [
    {
     "data": {
      "text/html": [
       "TRUE"
      ],
      "text/latex": [
       "TRUE"
      ],
      "text/markdown": [
       "TRUE"
      ],
      "text/plain": [
       "[1] TRUE"
      ]
     },
     "metadata": {},
     "output_type": "display_data"
    }
   ],
   "source": [
    "all(rownames(coldata_noFP) == colnames(counts_clean2))"
   ]
  },
  {
   "cell_type": "markdown",
   "metadata": {},
   "source": [
    "Unused levels successfully dropped.\n",
    "\n",
    "Make new dds object and specify design with interaction term."
   ]
  },
  {
   "cell_type": "code",
   "execution_count": 73,
   "metadata": {},
   "outputs": [
    {
     "name": "stderr",
     "output_type": "stream",
     "text": [
      "converting counts to integer mode\n",
      "factor levels were dropped which had no samples\n"
     ]
    }
   ],
   "source": [
    "dds_interaction <- DESeqDataSetFromMatrix(countData = counts_clean2, colData = coldata_noFP, design = ~range + condition + range:condition)"
   ]
  },
  {
   "cell_type": "markdown",
   "metadata": {},
   "source": [
    "Specify reference levels of uninfected for condition and native for range."
   ]
  },
  {
   "cell_type": "code",
   "execution_count": 74,
   "metadata": {},
   "outputs": [],
   "source": [
    "dds_interaction$condition <- relevel(dds_interaction$condition, ref = \"C\")\n",
    "dds_interaction$range <- relevel(dds_interaction$range, ref = \"Native\")"
   ]
  },
  {
   "cell_type": "code",
   "execution_count": 78,
   "metadata": {},
   "outputs": [
    {
     "name": "stderr",
     "output_type": "stream",
     "text": [
      "estimating size factors\n",
      "estimating dispersions\n",
      "gene-wise dispersion estimates\n",
      "mean-dispersion relationship\n",
      "-- note: fitType='parametric', but the dispersion trend was not well captured by the\n",
      "   function: y = a/x + b, and a local regression fit was automatically substituted.\n",
      "   specify fitType='local' or 'mean' to avoid this message next time.\n",
      "final dispersion estimates\n",
      "fitting model and testing\n",
      "-- replacing outliers and refitting for 12986 genes\n",
      "-- DESeq argument 'minReplicatesForReplace' = 7 \n",
      "-- original counts are preserved in counts(dds)\n",
      "estimating dispersions\n",
      "fitting model and testing\n"
     ]
    }
   ],
   "source": [
    "dds_interaction <- DESeq(dds_interaction)"
   ]
  },
  {
   "cell_type": "code",
   "execution_count": 79,
   "metadata": {},
   "outputs": [
    {
     "data": {
      "text/html": [
       "<ol class=list-inline>\n",
       "\t<li>'Intercept'</li>\n",
       "\t<li>'range_Absent_vs_Native'</li>\n",
       "\t<li>'range_Invasive_vs_Native'</li>\n",
       "\t<li>'condition_P_vs_C'</li>\n",
       "\t<li>'rangeAbsent.conditionP'</li>\n",
       "\t<li>'rangeInvasive.conditionP'</li>\n",
       "</ol>\n"
      ],
      "text/latex": [
       "\\begin{enumerate*}\n",
       "\\item 'Intercept'\n",
       "\\item 'range\\_Absent\\_vs\\_Native'\n",
       "\\item 'range\\_Invasive\\_vs\\_Native'\n",
       "\\item 'condition\\_P\\_vs\\_C'\n",
       "\\item 'rangeAbsent.conditionP'\n",
       "\\item 'rangeInvasive.conditionP'\n",
       "\\end{enumerate*}\n"
      ],
      "text/markdown": [
       "1. 'Intercept'\n",
       "2. 'range_Absent_vs_Native'\n",
       "3. 'range_Invasive_vs_Native'\n",
       "4. 'condition_P_vs_C'\n",
       "5. 'rangeAbsent.conditionP'\n",
       "6. 'rangeInvasive.conditionP'\n",
       "\n",
       "\n"
      ],
      "text/plain": [
       "[1] \"Intercept\"                \"range_Absent_vs_Native\"  \n",
       "[3] \"range_Invasive_vs_Native\" \"condition_P_vs_C\"        \n",
       "[5] \"rangeAbsent.conditionP\"   \"rangeInvasive.conditionP\""
      ]
     },
     "metadata": {},
     "output_type": "display_data"
    }
   ],
   "source": [
    "resultsNames(dds_interaction)"
   ]
  },
  {
   "cell_type": "markdown",
   "metadata": {},
   "source": [
    "*POSSIBLE THAT WE CAN JUST GET RID OF THE ORIGINAL COMPARISON (P VS. C) AND JUST USE THE CONTRASTS FROM THIS ANALYSIS...*"
   ]
  },
  {
   "cell_type": "code",
   "execution_count": 81,
   "metadata": {},
   "outputs": [],
   "source": [
    "res_int_abs.P = results(dds_interaction, name=\"rangeAbsent.conditionP\")\n",
    "res_int_inv.P = results(dds_interaction, name=\"rangeInvasive.conditionP\")"
   ]
  },
  {
   "cell_type": "code",
   "execution_count": 85,
   "metadata": {},
   "outputs": [
    {
     "name": "stdout",
     "output_type": "stream",
     "text": [
      "\n",
      "out of 143195 with nonzero total read count\n",
      "adjusted p-value < 0.1\n",
      "LFC > 0 (up)       : 1471, 1%\n",
      "LFC < 0 (down)     : 1490, 1%\n",
      "outliers [1]       : 1165, 0.81%\n",
      "low counts [2]     : 58290, 41%\n",
      "(mean count < 2)\n",
      "[1] see 'cooksCutoff' argument of ?results\n",
      "[2] see 'independentFiltering' argument of ?results\n",
      "\n",
      "\n",
      "out of 143195 with nonzero total read count\n",
      "adjusted p-value < 0.1\n",
      "LFC > 0 (up)       : 2745, 1.9%\n",
      "LFC < 0 (down)     : 2159, 1.5%\n",
      "outliers [1]       : 1165, 0.81%\n",
      "low counts [2]     : 61033, 43%\n",
      "(mean count < 2)\n",
      "[1] see 'cooksCutoff' argument of ?results\n",
      "[2] see 'independentFiltering' argument of ?results\n",
      "\n"
     ]
    }
   ],
   "source": [
    "summary(res_int_abs.P)\n",
    "summary(res_int_inv.P)"
   ]
  },
  {
   "cell_type": "code",
   "execution_count": 103,
   "metadata": {},
   "outputs": [
    {
     "data": {
      "text/html": [
       "<table>\n",
       "<thead><tr><th></th><th scope=col>baseMean</th><th scope=col>log2FoldChange</th><th scope=col>lfcSE</th><th scope=col>stat</th><th scope=col>pvalue</th><th scope=col>padj</th></tr></thead>\n",
       "<tbody>\n",
       "\t<tr><th scope=row>TRINITY_DN4318_c0_g1_i1</th><td> 32.214174  </td><td>-23.307196  </td><td>2.8490922   </td><td>-8.180569   </td><td>2.825059e-16</td><td>1.401276e-11</td></tr>\n",
       "\t<tr><th scope=row>TRINITY_DN55343_c0_g1_i1</th><td>  8.961628  </td><td> 25.448762  </td><td>3.1199497   </td><td> 8.156786   </td><td>3.440571e-16</td><td>1.401276e-11</td></tr>\n",
       "\t<tr><th scope=row>TRINITY_DN49536_c0_g1_i1</th><td> 19.798334  </td><td> 29.926038  </td><td>4.1012765   </td><td> 7.296762   </td><td>2.947761e-13</td><td>8.003761e-09</td></tr>\n",
       "\t<tr><th scope=row>TRINITY_DN22111_c0_g1_i1</th><td>579.281555  </td><td> 10.485797  </td><td>1.4540397   </td><td> 7.211493   </td><td>5.534187e-13</td><td>1.126982e-08</td></tr>\n",
       "\t<tr><th scope=row>TRINITY_DN70175_c0_g1_i1</th><td> 12.666397  </td><td>  7.522497  </td><td>1.1050546   </td><td> 6.807353   </td><td>9.941079e-12</td><td>1.619521e-07</td></tr>\n",
       "\t<tr><th scope=row>TRINITY_DN131272_c0_g1_i1</th><td> 11.782176  </td><td>-15.465822  </td><td>2.3474166   </td><td>-6.588443   </td><td>4.444615e-11</td><td>6.034009e-07</td></tr>\n",
       "\t<tr><th scope=row>TRINITY_DN29136_c8_g1_i1</th><td> 10.757108  </td><td> 22.873444  </td><td>3.4921031   </td><td> 6.550048   </td><td>5.751845e-11</td><td>6.693175e-07</td></tr>\n",
       "\t<tr><th scope=row>TRINITY_DN93803_c0_g1_i1</th><td> 71.083258  </td><td>  5.005477  </td><td>0.7817930   </td><td> 6.402560   </td><td>1.527930e-10</td><td>1.555738e-06</td></tr>\n",
       "\t<tr><th scope=row>TRINITY_DN10862_c0_g1_i1</th><td>172.734493  </td><td>  6.246754  </td><td>0.9868124   </td><td> 6.330234   </td><td>2.447890e-10</td><td>2.215504e-06</td></tr>\n",
       "\t<tr><th scope=row>TRINITY_DN36852_c0_g1_i2</th><td> 20.743208  </td><td>  7.389961  </td><td>1.1877242   </td><td> 6.221951   </td><td>4.910113e-10</td><td>3.999582e-06</td></tr>\n",
       "\t<tr><th scope=row>TRINITY_DN2628_c0_g1_i2</th><td>105.515768  </td><td> 15.679875  </td><td>2.5492322   </td><td> 6.150822   </td><td>7.708216e-10</td><td>4.829850e-06</td></tr>\n",
       "\t<tr><th scope=row>TRINITY_DN21043_c0_g1_i1</th><td> 85.413650  </td><td> 10.441741  </td><td>1.6952990   </td><td> 6.159232   </td><td>7.309835e-10</td><td>4.829850e-06</td></tr>\n",
       "\t<tr><th scope=row>TRINITY_DN20338_c0_g1_i1</th><td> 53.416833  </td><td>  7.487300  </td><td>1.2172025   </td><td> 6.151236   </td><td>7.688151e-10</td><td>4.829850e-06</td></tr>\n",
       "\t<tr><th scope=row>TRINITY_DN93278_c0_g1_i1</th><td> 28.087349  </td><td>  7.186655  </td><td>1.1855601   </td><td> 6.061823   </td><td>1.345873e-09</td><td>6.912909e-06</td></tr>\n",
       "\t<tr><th scope=row>TRINITY_DN112559_c0_g1_i1</th><td>  5.830037  </td><td> 24.152765  </td><td>3.9858625   </td><td> 6.059608   </td><td>1.364535e-09</td><td>6.912909e-06</td></tr>\n",
       "\t<tr><th scope=row>TRINITY_DN7282_c0_g1_i1</th><td>253.053519  </td><td>  5.231834  </td><td>0.8620961   </td><td> 6.068736   </td><td>1.289207e-09</td><td>6.912909e-06</td></tr>\n",
       "\t<tr><th scope=row>TRINITY_DN15038_c0_g1_i1</th><td> 49.316118  </td><td> -4.033953  </td><td>0.6677156   </td><td>-6.041424   </td><td>1.527602e-09</td><td>6.912909e-06</td></tr>\n",
       "\t<tr><th scope=row>TRINITY_DN81149_c0_g1_i1</th><td> 21.472470  </td><td>  8.942990  </td><td>1.4794288   </td><td> 6.044894   </td><td>1.495084e-09</td><td>6.912909e-06</td></tr>\n",
       "\t<tr><th scope=row>TRINITY_DN29520_c0_g1_i1</th><td> 49.355559  </td><td> -3.470657  </td><td>0.5843059   </td><td>-5.939795   </td><td>2.853787e-09</td><td>1.223463e-05</td></tr>\n",
       "\t<tr><th scope=row>TRINITY_DN40444_c0_g1_i1</th><td> 20.585236  </td><td> -5.715616  </td><td>0.9658215   </td><td>-5.917880   </td><td>3.261178e-09</td><td>1.328213e-05</td></tr>\n",
       "</tbody>\n",
       "</table>\n"
      ],
      "text/latex": [
       "\\begin{tabular}{r|llllll}\n",
       "  & baseMean & log2FoldChange & lfcSE & stat & pvalue & padj\\\\\n",
       "\\hline\n",
       "\tTRINITY\\_DN4318\\_c0\\_g1\\_i1 &  32.214174   & -23.307196   & 2.8490922    & -8.180569    & 2.825059e-16 & 1.401276e-11\\\\\n",
       "\tTRINITY\\_DN55343\\_c0\\_g1\\_i1 &   8.961628   &  25.448762   & 3.1199497    &  8.156786    & 3.440571e-16 & 1.401276e-11\\\\\n",
       "\tTRINITY\\_DN49536\\_c0\\_g1\\_i1 &  19.798334   &  29.926038   & 4.1012765    &  7.296762    & 2.947761e-13 & 8.003761e-09\\\\\n",
       "\tTRINITY\\_DN22111\\_c0\\_g1\\_i1 & 579.281555   &  10.485797   & 1.4540397    &  7.211493    & 5.534187e-13 & 1.126982e-08\\\\\n",
       "\tTRINITY\\_DN70175\\_c0\\_g1\\_i1 &  12.666397   &   7.522497   & 1.1050546    &  6.807353    & 9.941079e-12 & 1.619521e-07\\\\\n",
       "\tTRINITY\\_DN131272\\_c0\\_g1\\_i1 &  11.782176   & -15.465822   & 2.3474166    & -6.588443    & 4.444615e-11 & 6.034009e-07\\\\\n",
       "\tTRINITY\\_DN29136\\_c8\\_g1\\_i1 &  10.757108   &  22.873444   & 3.4921031    &  6.550048    & 5.751845e-11 & 6.693175e-07\\\\\n",
       "\tTRINITY\\_DN93803\\_c0\\_g1\\_i1 &  71.083258   &   5.005477   & 0.7817930    &  6.402560    & 1.527930e-10 & 1.555738e-06\\\\\n",
       "\tTRINITY\\_DN10862\\_c0\\_g1\\_i1 & 172.734493   &   6.246754   & 0.9868124    &  6.330234    & 2.447890e-10 & 2.215504e-06\\\\\n",
       "\tTRINITY\\_DN36852\\_c0\\_g1\\_i2 &  20.743208   &   7.389961   & 1.1877242    &  6.221951    & 4.910113e-10 & 3.999582e-06\\\\\n",
       "\tTRINITY\\_DN2628\\_c0\\_g1\\_i2 & 105.515768   &  15.679875   & 2.5492322    &  6.150822    & 7.708216e-10 & 4.829850e-06\\\\\n",
       "\tTRINITY\\_DN21043\\_c0\\_g1\\_i1 &  85.413650   &  10.441741   & 1.6952990    &  6.159232    & 7.309835e-10 & 4.829850e-06\\\\\n",
       "\tTRINITY\\_DN20338\\_c0\\_g1\\_i1 &  53.416833   &   7.487300   & 1.2172025    &  6.151236    & 7.688151e-10 & 4.829850e-06\\\\\n",
       "\tTRINITY\\_DN93278\\_c0\\_g1\\_i1 &  28.087349   &   7.186655   & 1.1855601    &  6.061823    & 1.345873e-09 & 6.912909e-06\\\\\n",
       "\tTRINITY\\_DN112559\\_c0\\_g1\\_i1 &   5.830037   &  24.152765   & 3.9858625    &  6.059608    & 1.364535e-09 & 6.912909e-06\\\\\n",
       "\tTRINITY\\_DN7282\\_c0\\_g1\\_i1 & 253.053519   &   5.231834   & 0.8620961    &  6.068736    & 1.289207e-09 & 6.912909e-06\\\\\n",
       "\tTRINITY\\_DN15038\\_c0\\_g1\\_i1 &  49.316118   &  -4.033953   & 0.6677156    & -6.041424    & 1.527602e-09 & 6.912909e-06\\\\\n",
       "\tTRINITY\\_DN81149\\_c0\\_g1\\_i1 &  21.472470   &   8.942990   & 1.4794288    &  6.044894    & 1.495084e-09 & 6.912909e-06\\\\\n",
       "\tTRINITY\\_DN29520\\_c0\\_g1\\_i1 &  49.355559   &  -3.470657   & 0.5843059    & -5.939795    & 2.853787e-09 & 1.223463e-05\\\\\n",
       "\tTRINITY\\_DN40444\\_c0\\_g1\\_i1 &  20.585236   &  -5.715616   & 0.9658215    & -5.917880    & 3.261178e-09 & 1.328213e-05\\\\\n",
       "\\end{tabular}\n"
      ],
      "text/markdown": [
       "\n",
       "| <!--/--> | baseMean | log2FoldChange | lfcSE | stat | pvalue | padj |\n",
       "|---|---|---|---|---|---|---|\n",
       "| TRINITY_DN4318_c0_g1_i1 |  32.214174   | -23.307196   | 2.8490922    | -8.180569    | 2.825059e-16 | 1.401276e-11 |\n",
       "| TRINITY_DN55343_c0_g1_i1 |   8.961628   |  25.448762   | 3.1199497    |  8.156786    | 3.440571e-16 | 1.401276e-11 |\n",
       "| TRINITY_DN49536_c0_g1_i1 |  19.798334   |  29.926038   | 4.1012765    |  7.296762    | 2.947761e-13 | 8.003761e-09 |\n",
       "| TRINITY_DN22111_c0_g1_i1 | 579.281555   |  10.485797   | 1.4540397    |  7.211493    | 5.534187e-13 | 1.126982e-08 |\n",
       "| TRINITY_DN70175_c0_g1_i1 |  12.666397   |   7.522497   | 1.1050546    |  6.807353    | 9.941079e-12 | 1.619521e-07 |\n",
       "| TRINITY_DN131272_c0_g1_i1 |  11.782176   | -15.465822   | 2.3474166    | -6.588443    | 4.444615e-11 | 6.034009e-07 |\n",
       "| TRINITY_DN29136_c8_g1_i1 |  10.757108   |  22.873444   | 3.4921031    |  6.550048    | 5.751845e-11 | 6.693175e-07 |\n",
       "| TRINITY_DN93803_c0_g1_i1 |  71.083258   |   5.005477   | 0.7817930    |  6.402560    | 1.527930e-10 | 1.555738e-06 |\n",
       "| TRINITY_DN10862_c0_g1_i1 | 172.734493   |   6.246754   | 0.9868124    |  6.330234    | 2.447890e-10 | 2.215504e-06 |\n",
       "| TRINITY_DN36852_c0_g1_i2 |  20.743208   |   7.389961   | 1.1877242    |  6.221951    | 4.910113e-10 | 3.999582e-06 |\n",
       "| TRINITY_DN2628_c0_g1_i2 | 105.515768   |  15.679875   | 2.5492322    |  6.150822    | 7.708216e-10 | 4.829850e-06 |\n",
       "| TRINITY_DN21043_c0_g1_i1 |  85.413650   |  10.441741   | 1.6952990    |  6.159232    | 7.309835e-10 | 4.829850e-06 |\n",
       "| TRINITY_DN20338_c0_g1_i1 |  53.416833   |   7.487300   | 1.2172025    |  6.151236    | 7.688151e-10 | 4.829850e-06 |\n",
       "| TRINITY_DN93278_c0_g1_i1 |  28.087349   |   7.186655   | 1.1855601    |  6.061823    | 1.345873e-09 | 6.912909e-06 |\n",
       "| TRINITY_DN112559_c0_g1_i1 |   5.830037   |  24.152765   | 3.9858625    |  6.059608    | 1.364535e-09 | 6.912909e-06 |\n",
       "| TRINITY_DN7282_c0_g1_i1 | 253.053519   |   5.231834   | 0.8620961    |  6.068736    | 1.289207e-09 | 6.912909e-06 |\n",
       "| TRINITY_DN15038_c0_g1_i1 |  49.316118   |  -4.033953   | 0.6677156    | -6.041424    | 1.527602e-09 | 6.912909e-06 |\n",
       "| TRINITY_DN81149_c0_g1_i1 |  21.472470   |   8.942990   | 1.4794288    |  6.044894    | 1.495084e-09 | 6.912909e-06 |\n",
       "| TRINITY_DN29520_c0_g1_i1 |  49.355559   |  -3.470657   | 0.5843059    | -5.939795    | 2.853787e-09 | 1.223463e-05 |\n",
       "| TRINITY_DN40444_c0_g1_i1 |  20.585236   |  -5.715616   | 0.9658215    | -5.917880    | 3.261178e-09 | 1.328213e-05 |\n",
       "\n"
      ],
      "text/plain": [
       "                          baseMean   log2FoldChange lfcSE     stat     \n",
       "TRINITY_DN4318_c0_g1_i1    32.214174 -23.307196     2.8490922 -8.180569\n",
       "TRINITY_DN55343_c0_g1_i1    8.961628  25.448762     3.1199497  8.156786\n",
       "TRINITY_DN49536_c0_g1_i1   19.798334  29.926038     4.1012765  7.296762\n",
       "TRINITY_DN22111_c0_g1_i1  579.281555  10.485797     1.4540397  7.211493\n",
       "TRINITY_DN70175_c0_g1_i1   12.666397   7.522497     1.1050546  6.807353\n",
       "TRINITY_DN131272_c0_g1_i1  11.782176 -15.465822     2.3474166 -6.588443\n",
       "TRINITY_DN29136_c8_g1_i1   10.757108  22.873444     3.4921031  6.550048\n",
       "TRINITY_DN93803_c0_g1_i1   71.083258   5.005477     0.7817930  6.402560\n",
       "TRINITY_DN10862_c0_g1_i1  172.734493   6.246754     0.9868124  6.330234\n",
       "TRINITY_DN36852_c0_g1_i2   20.743208   7.389961     1.1877242  6.221951\n",
       "TRINITY_DN2628_c0_g1_i2   105.515768  15.679875     2.5492322  6.150822\n",
       "TRINITY_DN21043_c0_g1_i1   85.413650  10.441741     1.6952990  6.159232\n",
       "TRINITY_DN20338_c0_g1_i1   53.416833   7.487300     1.2172025  6.151236\n",
       "TRINITY_DN93278_c0_g1_i1   28.087349   7.186655     1.1855601  6.061823\n",
       "TRINITY_DN112559_c0_g1_i1   5.830037  24.152765     3.9858625  6.059608\n",
       "TRINITY_DN7282_c0_g1_i1   253.053519   5.231834     0.8620961  6.068736\n",
       "TRINITY_DN15038_c0_g1_i1   49.316118  -4.033953     0.6677156 -6.041424\n",
       "TRINITY_DN81149_c0_g1_i1   21.472470   8.942990     1.4794288  6.044894\n",
       "TRINITY_DN29520_c0_g1_i1   49.355559  -3.470657     0.5843059 -5.939795\n",
       "TRINITY_DN40444_c0_g1_i1   20.585236  -5.715616     0.9658215 -5.917880\n",
       "                          pvalue       padj        \n",
       "TRINITY_DN4318_c0_g1_i1   2.825059e-16 1.401276e-11\n",
       "TRINITY_DN55343_c0_g1_i1  3.440571e-16 1.401276e-11\n",
       "TRINITY_DN49536_c0_g1_i1  2.947761e-13 8.003761e-09\n",
       "TRINITY_DN22111_c0_g1_i1  5.534187e-13 1.126982e-08\n",
       "TRINITY_DN70175_c0_g1_i1  9.941079e-12 1.619521e-07\n",
       "TRINITY_DN131272_c0_g1_i1 4.444615e-11 6.034009e-07\n",
       "TRINITY_DN29136_c8_g1_i1  5.751845e-11 6.693175e-07\n",
       "TRINITY_DN93803_c0_g1_i1  1.527930e-10 1.555738e-06\n",
       "TRINITY_DN10862_c0_g1_i1  2.447890e-10 2.215504e-06\n",
       "TRINITY_DN36852_c0_g1_i2  4.910113e-10 3.999582e-06\n",
       "TRINITY_DN2628_c0_g1_i2   7.708216e-10 4.829850e-06\n",
       "TRINITY_DN21043_c0_g1_i1  7.309835e-10 4.829850e-06\n",
       "TRINITY_DN20338_c0_g1_i1  7.688151e-10 4.829850e-06\n",
       "TRINITY_DN93278_c0_g1_i1  1.345873e-09 6.912909e-06\n",
       "TRINITY_DN112559_c0_g1_i1 1.364535e-09 6.912909e-06\n",
       "TRINITY_DN7282_c0_g1_i1   1.289207e-09 6.912909e-06\n",
       "TRINITY_DN15038_c0_g1_i1  1.527602e-09 6.912909e-06\n",
       "TRINITY_DN81149_c0_g1_i1  1.495084e-09 6.912909e-06\n",
       "TRINITY_DN29520_c0_g1_i1  2.853787e-09 1.223463e-05\n",
       "TRINITY_DN40444_c0_g1_i1  3.261178e-09 1.328213e-05"
      ]
     },
     "metadata": {},
     "output_type": "display_data"
    }
   ],
   "source": [
    "res_int_abs.P_sig <- data.frame(subset(res_int_abs.P, padj < 0.05))\n",
    "res_int_abs.P_sig <- res_int_abs.P_sig[order(res_int_abs.P_sig$padj),]\n",
    "res_int_inv.P_sig <- data.frame(subset(res_int_inv.P, padj < 0.05))\n",
    "res_int_inv.P_sig <- res_int_inv.P_sig[order(res_int_inv.P_sig$padj),]\n",
    "head(res_int_inv.P_sig,20)"
   ]
  },
  {
   "cell_type": "code",
   "execution_count": 104,
   "metadata": {},
   "outputs": [
    {
     "data": {
      "image/png": "[encoded data removed]",
      "text/plain": [
       "plot without title"
      ]
     },
     "metadata": {},
     "output_type": "display_data"
    }
   ],
   "source": [
    "count_plot <- plotCounts(dds_interaction, gene=\"TRINITY_DN7282_c0_g1_i1\", intgroup=c(\"condition\",\"range\"), returnData=TRUE)\n",
    "ggplot(count_plot, aes(x=condition, y=count, color=range)) +\n",
    "    geom_point(position=position_jitter(w=0.2,h=0)) + \n",
    "    #geom_label(aes(label = site), position=position_jitter(w=0.4,h=0))  + \n",
    "    scale_y_log10() "
   ]
  },
  {
   "cell_type": "code",
   "execution_count": null,
   "metadata": {},
   "outputs": [],
   "source": []
  }
 ],
 "metadata": {
  "kernelspec": {
   "display_name": "R",
   "language": "R",
   "name": "ir"
  },
  "language_info": {
   "codemirror_mode": "r",
   "file_extension": ".r",
   "mimetype": "text/x-r-source",
   "name": "R",
   "pygments_lexer": "r",
   "version": "3.6.1"
  }
 },
 "nbformat": 4,
 "nbformat_minor": 2
}
