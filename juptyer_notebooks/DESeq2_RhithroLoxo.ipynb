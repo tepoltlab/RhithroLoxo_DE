{
 "cells": [
  {
   "cell_type": "markdown",
   "metadata": {},
   "source": [
    "## Differential Expression Analysis - RhithroLoxo\n",
    "\n",
    "First, make sure you're actually running this from a compute node, not the login. Logins are pn001 and 002. All others are higher."
   ]
  },
  {
   "cell_type": "code",
   "execution_count": 1,
   "metadata": {},
   "outputs": [
    {
     "data": {
      "text/html": [
       "<dl class=dl-horizontal>\n",
       "\t<dt>sysname</dt>\n",
       "\t\t<dd>'Linux'</dd>\n",
       "\t<dt>release</dt>\n",
       "\t\t<dd>'3.10.0-693.2.2.el7.x86_64'</dd>\n",
       "\t<dt>version</dt>\n",
       "\t\t<dd>'#1 SMP Tue Sep 12 22:26:13 UTC 2017'</dd>\n",
       "\t<dt>nodename</dt>\n",
       "\t\t<dd>'pn039'</dd>\n",
       "\t<dt>machine</dt>\n",
       "\t\t<dd>'x86_64'</dd>\n",
       "\t<dt>login</dt>\n",
       "\t\t<dd>'unknown'</dd>\n",
       "\t<dt>user</dt>\n",
       "\t\t<dd>'ztobias'</dd>\n",
       "\t<dt>effective_user</dt>\n",
       "\t\t<dd>'ztobias'</dd>\n",
       "</dl>\n"
      ],
      "text/latex": [
       "\\begin{description*}\n",
       "\\item[sysname] 'Linux'\n",
       "\\item[release] '3.10.0-693.2.2.el7.x86\\_64'\n",
       "\\item[version] '\\#1 SMP Tue Sep 12 22:26:13 UTC 2017'\n",
       "\\item[nodename] 'pn039'\n",
       "\\item[machine] 'x86\\_64'\n",
       "\\item[login] 'unknown'\n",
       "\\item[user] 'ztobias'\n",
       "\\item[effective\\textbackslash{}\\_user] 'ztobias'\n",
       "\\end{description*}\n"
      ],
      "text/markdown": [
       "sysname\n",
       ":   'Linux'release\n",
       ":   '3.10.0-693.2.2.el7.x86_64'version\n",
       ":   '#1 SMP Tue Sep 12 22:26:13 UTC 2017'nodename\n",
       ":   'pn039'machine\n",
       ":   'x86_64'login\n",
       ":   'unknown'user\n",
       ":   'ztobias'effective_user\n",
       ":   'ztobias'\n",
       "\n"
      ],
      "text/plain": [
       "                              sysname                               release \n",
       "                              \"Linux\"           \"3.10.0-693.2.2.el7.x86_64\" \n",
       "                              version                              nodename \n",
       "\"#1 SMP Tue Sep 12 22:26:13 UTC 2017\"                               \"pn039\" \n",
       "                              machine                                 login \n",
       "                             \"x86_64\"                             \"unknown\" \n",
       "                                 user                        effective_user \n",
       "                            \"ztobias\"                             \"ztobias\" "
      ]
     },
     "metadata": {},
     "output_type": "display_data"
    }
   ],
   "source": [
    "Sys.info()"
   ]
  },
  {
   "cell_type": "markdown",
   "metadata": {},
   "source": [
    "Now load in the packages."
   ]
  },
  {
   "cell_type": "code",
   "execution_count": 4,
   "metadata": {},
   "outputs": [],
   "source": [
    "require(DESeq2)\n",
    "require(ggplot2)\n",
    "require(apeglm)"
   ]
  },
  {
   "cell_type": "markdown",
   "metadata": {},
   "source": [
    "Now import the count data, rounding decimals to integers."
   ]
  },
  {
   "cell_type": "code",
   "execution_count": 69,
   "metadata": {},
   "outputs": [],
   "source": [
    "path_to_main <- \"/vortexfs1/scratch/ztobias/RhithroLoxo_DE/\" #change accordingly based on parent file structure\n",
    "path_to_counts <- \"outputs/quant/salmon.isoform.counts.matrix\"\n",
    "path <- paste(path_to_main,path_to_counts,sep=\"\")\n",
    "all_counts <- read.table(path,header=TRUE)\n",
    "all_counts <- round(all_counts)"
   ]
  },
  {
   "cell_type": "markdown",
   "metadata": {},
   "source": [
    "Take a look."
   ]
  },
  {
   "cell_type": "code",
   "execution_count": 70,
   "metadata": {},
   "outputs": [
    {
     "data": {
      "text/html": [
       "<table>\n",
       "<thead><tr><th></th><th scope=col>AP_C_1</th><th scope=col>AP_C_2</th><th scope=col>AP_C_3</th><th scope=col>AP_C_4</th><th scope=col>AP_C_5</th><th scope=col>AP_C_6</th><th scope=col>AP_P_1</th><th scope=col>AP_P_2</th><th scope=col>AP_P_3</th><th scope=col>AP_P_6</th><th scope=col>...</th><th scope=col>NJ_P_7</th><th scope=col>SC_C_12</th><th scope=col>SC_C_14</th><th scope=col>SC_C_2</th><th scope=col>SC_C_6</th><th scope=col>SC_C_7</th><th scope=col>SC_C_9</th><th scope=col>SC_P_1</th><th scope=col>SC_P_2</th><th scope=col>SC_P_3</th></tr></thead>\n",
       "<tbody>\n",
       "\t<tr><th scope=row>TRINITY_DN38930_c0_g1_i1</th><td>71 </td><td>201</td><td>88 </td><td>108</td><td>84 </td><td>156</td><td>46 </td><td>69 </td><td>43 </td><td>68 </td><td>...</td><td>80 </td><td>51 </td><td>80 </td><td>84 </td><td>55 </td><td>56 </td><td>63 </td><td>66 </td><td>69 </td><td>39 </td></tr>\n",
       "\t<tr><th scope=row>TRINITY_DN61353_c1_g1_i1</th><td> 0 </td><td>  5</td><td> 0 </td><td>  1</td><td> 1 </td><td>  0</td><td> 0 </td><td> 2 </td><td> 0 </td><td> 2 </td><td>...</td><td> 0 </td><td> 0 </td><td> 1 </td><td> 0 </td><td> 0 </td><td> 2 </td><td> 1 </td><td> 5 </td><td> 2 </td><td> 0 </td></tr>\n",
       "\t<tr><th scope=row>TRINITY_DN130836_c0_g1_i1</th><td> 2 </td><td>  7</td><td> 0 </td><td> 14</td><td> 6 </td><td>  0</td><td> 1 </td><td> 9 </td><td> 5 </td><td> 7 </td><td>...</td><td>18 </td><td> 7 </td><td>10 </td><td> 2 </td><td> 2 </td><td> 3 </td><td> 7 </td><td>10 </td><td> 7 </td><td> 6 </td></tr>\n",
       "\t<tr><th scope=row>TRINITY_DN135735_c0_g1_i1</th><td> 1 </td><td>  3</td><td> 1 </td><td>  4</td><td> 3 </td><td>  0</td><td> 0 </td><td> 1 </td><td> 0 </td><td> 2 </td><td>...</td><td> 2 </td><td> 1 </td><td> 2 </td><td> 0 </td><td> 0 </td><td> 0 </td><td> 2 </td><td> 3 </td><td> 1 </td><td> 2 </td></tr>\n",
       "\t<tr><th scope=row>TRINITY_DN142305_c0_g1_i1</th><td> 0 </td><td>  0</td><td> 2 </td><td>  0</td><td> 2 </td><td>  3</td><td> 0 </td><td> 1 </td><td> 1 </td><td> 0 </td><td>...</td><td> 3 </td><td> 3 </td><td> 0 </td><td> 1 </td><td> 1 </td><td> 0 </td><td> 3 </td><td> 0 </td><td> 4 </td><td> 0 </td></tr>\n",
       "\t<tr><th scope=row>TRINITY_DN107975_c0_g1_i1</th><td> 0 </td><td>  0</td><td> 0 </td><td>  0</td><td> 0 </td><td>  7</td><td> 0 </td><td> 0 </td><td> 0 </td><td> 0 </td><td>...</td><td> 0 </td><td> 0 </td><td> 0 </td><td> 0 </td><td> 0 </td><td> 0 </td><td> 0 </td><td> 0 </td><td> 0 </td><td> 0 </td></tr>\n",
       "</tbody>\n",
       "</table>\n"
      ],
      "text/latex": [
       "\\begin{tabular}{r|lllllllllllllllllllllllllllllllllllllllllllllllllllllllllllllllllllllllllllllllllll}\n",
       "  & AP\\_C\\_1 & AP\\_C\\_2 & AP\\_C\\_3 & AP\\_C\\_4 & AP\\_C\\_5 & AP\\_C\\_6 & AP\\_P\\_1 & AP\\_P\\_2 & AP\\_P\\_3 & AP\\_P\\_6 & ... & NJ\\_P\\_7 & SC\\_C\\_12 & SC\\_C\\_14 & SC\\_C\\_2 & SC\\_C\\_6 & SC\\_C\\_7 & SC\\_C\\_9 & SC\\_P\\_1 & SC\\_P\\_2 & SC\\_P\\_3\\\\\n",
       "\\hline\n",
       "\tTRINITY\\_DN38930\\_c0\\_g1\\_i1 & 71  & 201 & 88  & 108 & 84  & 156 & 46  & 69  & 43  & 68  & ... & 80  & 51  & 80  & 84  & 55  & 56  & 63  & 66  & 69  & 39 \\\\\n",
       "\tTRINITY\\_DN61353\\_c1\\_g1\\_i1 &  0  &   5 &  0  &   1 &  1  &   0 &  0  &  2  &  0  &  2  & ... &  0  &  0  &  1  &  0  &  0  &  2  &  1  &  5  &  2  &  0 \\\\\n",
       "\tTRINITY\\_DN130836\\_c0\\_g1\\_i1 &  2  &   7 &  0  &  14 &  6  &   0 &  1  &  9  &  5  &  7  & ... & 18  &  7  & 10  &  2  &  2  &  3  &  7  & 10  &  7  &  6 \\\\\n",
       "\tTRINITY\\_DN135735\\_c0\\_g1\\_i1 &  1  &   3 &  1  &   4 &  3  &   0 &  0  &  1  &  0  &  2  & ... &  2  &  1  &  2  &  0  &  0  &  0  &  2  &  3  &  1  &  2 \\\\\n",
       "\tTRINITY\\_DN142305\\_c0\\_g1\\_i1 &  0  &   0 &  2  &   0 &  2  &   3 &  0  &  1  &  1  &  0  & ... &  3  &  3  &  0  &  1  &  1  &  0  &  3  &  0  &  4  &  0 \\\\\n",
       "\tTRINITY\\_DN107975\\_c0\\_g1\\_i1 &  0  &   0 &  0  &   0 &  0  &   7 &  0  &  0  &  0  &  0  & ... &  0  &  0  &  0  &  0  &  0  &  0  &  0  &  0  &  0  &  0 \\\\\n",
       "\\end{tabular}\n"
      ],
      "text/markdown": [
       "\n",
       "| <!--/--> | AP_C_1 | AP_C_2 | AP_C_3 | AP_C_4 | AP_C_5 | AP_C_6 | AP_P_1 | AP_P_2 | AP_P_3 | AP_P_6 | ... | NJ_P_7 | SC_C_12 | SC_C_14 | SC_C_2 | SC_C_6 | SC_C_7 | SC_C_9 | SC_P_1 | SC_P_2 | SC_P_3 |\n",
       "|---|---|---|---|---|---|---|---|---|---|---|---|---|---|---|---|---|---|---|---|---|---|\n",
       "| TRINITY_DN38930_c0_g1_i1 | 71  | 201 | 88  | 108 | 84  | 156 | 46  | 69  | 43  | 68  | ... | 80  | 51  | 80  | 84  | 55  | 56  | 63  | 66  | 69  | 39  |\n",
       "| TRINITY_DN61353_c1_g1_i1 |  0  |   5 |  0  |   1 |  1  |   0 |  0  |  2  |  0  |  2  | ... |  0  |  0  |  1  |  0  |  0  |  2  |  1  |  5  |  2  |  0  |\n",
       "| TRINITY_DN130836_c0_g1_i1 |  2  |   7 |  0  |  14 |  6  |   0 |  1  |  9  |  5  |  7  | ... | 18  |  7  | 10  |  2  |  2  |  3  |  7  | 10  |  7  |  6  |\n",
       "| TRINITY_DN135735_c0_g1_i1 |  1  |   3 |  1  |   4 |  3  |   0 |  0  |  1  |  0  |  2  | ... |  2  |  1  |  2  |  0  |  0  |  0  |  2  |  3  |  1  |  2  |\n",
       "| TRINITY_DN142305_c0_g1_i1 |  0  |   0 |  2  |   0 |  2  |   3 |  0  |  1  |  1  |  0  | ... |  3  |  3  |  0  |  1  |  1  |  0  |  3  |  0  |  4  |  0  |\n",
       "| TRINITY_DN107975_c0_g1_i1 |  0  |   0 |  0  |   0 |  0  |   7 |  0  |  0  |  0  |  0  | ... |  0  |  0  |  0  |  0  |  0  |  0  |  0  |  0  |  0  |  0  |\n",
       "\n"
      ],
      "text/plain": [
       "                          AP_C_1 AP_C_2 AP_C_3 AP_C_4 AP_C_5 AP_C_6 AP_P_1\n",
       "TRINITY_DN38930_c0_g1_i1  71     201    88     108    84     156    46    \n",
       "TRINITY_DN61353_c1_g1_i1   0       5     0       1     1       0     0    \n",
       "TRINITY_DN130836_c0_g1_i1  2       7     0      14     6       0     1    \n",
       "TRINITY_DN135735_c0_g1_i1  1       3     1       4     3       0     0    \n",
       "TRINITY_DN142305_c0_g1_i1  0       0     2       0     2       3     0    \n",
       "TRINITY_DN107975_c0_g1_i1  0       0     0       0     0       7     0    \n",
       "                          AP_P_2 AP_P_3 AP_P_6 ... NJ_P_7 SC_C_12 SC_C_14\n",
       "TRINITY_DN38930_c0_g1_i1  69     43     68     ... 80     51      80     \n",
       "TRINITY_DN61353_c1_g1_i1   2      0      2     ...  0      0       1     \n",
       "TRINITY_DN130836_c0_g1_i1  9      5      7     ... 18      7      10     \n",
       "TRINITY_DN135735_c0_g1_i1  1      0      2     ...  2      1       2     \n",
       "TRINITY_DN142305_c0_g1_i1  1      1      0     ...  3      3       0     \n",
       "TRINITY_DN107975_c0_g1_i1  0      0      0     ...  0      0       0     \n",
       "                          SC_C_2 SC_C_6 SC_C_7 SC_C_9 SC_P_1 SC_P_2 SC_P_3\n",
       "TRINITY_DN38930_c0_g1_i1  84     55     56     63     66     69     39    \n",
       "TRINITY_DN61353_c1_g1_i1   0      0      2      1      5      2      0    \n",
       "TRINITY_DN130836_c0_g1_i1  2      2      3      7     10      7      6    \n",
       "TRINITY_DN135735_c0_g1_i1  0      0      0      2      3      1      2    \n",
       "TRINITY_DN142305_c0_g1_i1  1      1      0      3      0      4      0    \n",
       "TRINITY_DN107975_c0_g1_i1  0      0      0      0      0      0      0    "
      ]
     },
     "metadata": {},
     "output_type": "display_data"
    },
    {
     "data": {
      "text/html": [
       "<ol class=list-inline>\n",
       "\t<li>149511</li>\n",
       "\t<li>83</li>\n",
       "</ol>\n"
      ],
      "text/latex": [
       "\\begin{enumerate*}\n",
       "\\item 149511\n",
       "\\item 83\n",
       "\\end{enumerate*}\n"
      ],
      "text/markdown": [
       "1. 149511\n",
       "2. 83\n",
       "\n",
       "\n"
      ],
      "text/plain": [
       "[1] 149511     83"
      ]
     },
     "metadata": {},
     "output_type": "display_data"
    }
   ],
   "source": [
    "head(all_counts)\n",
    "dim(all_counts)"
   ]
  },
  {
   "cell_type": "markdown",
   "metadata": {},
   "source": [
    "Read in the sample metadata and have a look."
   ]
  },
  {
   "cell_type": "code",
   "execution_count": 71,
   "metadata": {},
   "outputs": [
    {
     "data": {
      "text/html": [
       "<table>\n",
       "<thead><tr><th></th><th scope=col>site</th><th scope=col>condition</th><th scope=col>range</th><th scope=col>sex</th></tr></thead>\n",
       "<tbody>\n",
       "\t<tr><th scope=row>AP_C_1</th><td>AP    </td><td>C     </td><td>Native</td><td>F     </td></tr>\n",
       "\t<tr><th scope=row>AP_C_2</th><td>AP    </td><td>C     </td><td>Native</td><td>F     </td></tr>\n",
       "\t<tr><th scope=row>AP_C_3</th><td>AP    </td><td>C     </td><td>Native</td><td>M     </td></tr>\n",
       "\t<tr><th scope=row>AP_C_4</th><td>AP    </td><td>C     </td><td>Native</td><td>M     </td></tr>\n",
       "\t<tr><th scope=row>AP_C_5</th><td>AP    </td><td>C     </td><td>Native</td><td>M     </td></tr>\n",
       "\t<tr><th scope=row>AP_C_6</th><td>AP    </td><td>C     </td><td>Native</td><td>M     </td></tr>\n",
       "</tbody>\n",
       "</table>\n"
      ],
      "text/latex": [
       "\\begin{tabular}{r|llll}\n",
       "  & site & condition & range & sex\\\\\n",
       "\\hline\n",
       "\tAP\\_C\\_1 & AP     & C      & Native & F     \\\\\n",
       "\tAP\\_C\\_2 & AP     & C      & Native & F     \\\\\n",
       "\tAP\\_C\\_3 & AP     & C      & Native & M     \\\\\n",
       "\tAP\\_C\\_4 & AP     & C      & Native & M     \\\\\n",
       "\tAP\\_C\\_5 & AP     & C      & Native & M     \\\\\n",
       "\tAP\\_C\\_6 & AP     & C      & Native & M     \\\\\n",
       "\\end{tabular}\n"
      ],
      "text/markdown": [
       "\n",
       "| <!--/--> | site | condition | range | sex |\n",
       "|---|---|---|---|---|\n",
       "| AP_C_1 | AP     | C      | Native | F      |\n",
       "| AP_C_2 | AP     | C      | Native | F      |\n",
       "| AP_C_3 | AP     | C      | Native | M      |\n",
       "| AP_C_4 | AP     | C      | Native | M      |\n",
       "| AP_C_5 | AP     | C      | Native | M      |\n",
       "| AP_C_6 | AP     | C      | Native | M      |\n",
       "\n"
      ],
      "text/plain": [
       "       site condition range  sex\n",
       "AP_C_1 AP   C         Native F  \n",
       "AP_C_2 AP   C         Native F  \n",
       "AP_C_3 AP   C         Native M  \n",
       "AP_C_4 AP   C         Native M  \n",
       "AP_C_5 AP   C         Native M  \n",
       "AP_C_6 AP   C         Native M  "
      ]
     },
     "metadata": {},
     "output_type": "display_data"
    },
    {
     "data": {
      "text/html": [
       "<ol class=list-inline>\n",
       "\t<li>83</li>\n",
       "\t<li>4</li>\n",
       "</ol>\n"
      ],
      "text/latex": [
       "\\begin{enumerate*}\n",
       "\\item 83\n",
       "\\item 4\n",
       "\\end{enumerate*}\n"
      ],
      "text/markdown": [
       "1. 83\n",
       "2. 4\n",
       "\n",
       "\n"
      ],
      "text/plain": [
       "[1] 83  4"
      ]
     },
     "metadata": {},
     "output_type": "display_data"
    }
   ],
   "source": [
    "path_to_meta <- paste(path_to_main,\"metadata/DESeq2_coldata.txt\",sep=\"\")\n",
    "coldata <- read.table(path_to_meta,header=FALSE,row.names=1)\n",
    "colnames(coldata) <- c(\"site\",\"condition\",\"range\",\"sex\")\n",
    "head(coldata)\n",
    "dim(coldata)"
   ]
  },
  {
   "cell_type": "markdown",
   "metadata": {},
   "source": [
    "Make sure the two matrices contain all of the same samples and are in order."
   ]
  },
  {
   "cell_type": "code",
   "execution_count": 72,
   "metadata": {},
   "outputs": [
    {
     "data": {
      "text/html": [
       "TRUE"
      ],
      "text/latex": [
       "TRUE"
      ],
      "text/markdown": [
       "TRUE"
      ],
      "text/plain": [
       "[1] TRUE"
      ]
     },
     "metadata": {},
     "output_type": "display_data"
    }
   ],
   "source": [
    "all(rownames(coldata) == colnames(all_counts))"
   ]
  },
  {
   "cell_type": "markdown",
   "metadata": {},
   "source": [
    "Okay here I am just going to calculate the normalized counts so I can try to identify transcripts whose highest representation occurs in the Loxo libraries. This is because there appears to be some latent contamination, either from index hopping or basal levels infection in otherwise \"uninfected\" crabs. This shows up downstream in some crazily overexpressed transcripts in the parasitized individuals, which appear not to be an actual response, but rather just contamination with parasite mRNA. This might not help completely because of tissue specific expression in the parasite (libraries made from externae, while contamination from internal, root-system tissues), but worth a shot. At least to strengthen the case for removal by thresholding later. \n",
    "\n",
    "The infected crabs will be excluded from this comparison. Because of tissue specific expression in the parasite, the highest expression of some contaminant transcripts may be expected in the infected crab libraries rather than those of the parasite. Thus, we are just looking for transcripts that are more highly represented in the parasite libraries than the control crab libraries. \n",
    "\n",
    "Make a DESeq dataset:"
   ]
  },
  {
   "cell_type": "code",
   "execution_count": 73,
   "metadata": {},
   "outputs": [
    {
     "name": "stderr",
     "output_type": "stream",
     "text": [
      "converting counts to integer mode\n"
     ]
    }
   ],
   "source": [
    "contam <- DESeqDataSetFromMatrix(countData = all_counts, colData = coldata, design = ~ condition)"
   ]
  },
  {
   "cell_type": "markdown",
   "metadata": {},
   "source": [
    "Estimate size factors and save normalized counts to object 'norm_mat'"
   ]
  },
  {
   "cell_type": "code",
   "execution_count": 165,
   "metadata": {},
   "outputs": [],
   "source": [
    "contam <- estimateSizeFactors(contam)\n",
    "norm_mat <- counts(contam, normalized=TRUE)"
   ]
  },
  {
   "cell_type": "markdown",
   "metadata": {},
   "source": [
    "First let's remove the parasitized crabs. This includes all samples with the naming pattern \"\\_P\\_\". The function `grepl()` returns a boolean vector that can be used to index. I will also remove sample MD_C_12, as this was identified to have a latent infection (unidentified infection detected in previous runs of this analysis)."
   ]
  },
  {
   "cell_type": "code",
   "execution_count": 166,
   "metadata": {},
   "outputs": [],
   "source": [
    "norm_mat_sub <- norm_mat[,!grepl(\"*_P_*\", colnames(norm_mat))]\n",
    "norm_mat_sub <- subset(norm_mat_sub, select=-c(MD_C_12))"
   ]
  },
  {
   "cell_type": "code",
   "execution_count": 164,
   "metadata": {},
   "outputs": [
    {
     "data": {
      "text/html": [
       "<ol class=list-inline>\n",
       "\t<li>'AP_C_1'</li>\n",
       "\t<li>'AP_C_2'</li>\n",
       "\t<li>'AP_C_3'</li>\n",
       "\t<li>'AP_C_4'</li>\n",
       "\t<li>'AP_C_5'</li>\n",
       "\t<li>'AP_C_6'</li>\n",
       "\t<li>'FP_C_10'</li>\n",
       "\t<li>'FP_C_11'</li>\n",
       "\t<li>'FP_C_12'</li>\n",
       "\t<li>'FP_C_13'</li>\n",
       "\t<li>'FP_C_5'</li>\n",
       "\t<li>'FP_C_9'</li>\n",
       "\t<li>'LA_C_1'</li>\n",
       "\t<li>'LA_C_2'</li>\n",
       "\t<li>'LA_C_3'</li>\n",
       "\t<li>'LA_C_4'</li>\n",
       "\t<li>'LA_C_6'</li>\n",
       "\t<li>'LA_C_8'</li>\n",
       "\t<li>'LA_F_1'</li>\n",
       "\t<li>'MA_C_1'</li>\n",
       "\t<li>'MA_C_2'</li>\n",
       "\t<li>'MA_C_4'</li>\n",
       "\t<li>'MD_C_10'</li>\n",
       "\t<li>'MD_C_11'</li>\n",
       "\t<li>'MD_C_1'</li>\n",
       "\t<li>'MD_C_4'</li>\n",
       "\t<li>'MD_C_7'</li>\n",
       "\t<li>'MD_F_4'</li>\n",
       "\t<li>'ML_C_10'</li>\n",
       "\t<li>'ML_C_2'</li>\n",
       "\t<li>'ML_C_3'</li>\n",
       "\t<li>'ML_C_5'</li>\n",
       "\t<li>'ML_C_7'</li>\n",
       "\t<li>'ML_C_9'</li>\n",
       "\t<li>'NH_C_11'</li>\n",
       "\t<li>'NH_C_12'</li>\n",
       "\t<li>'NH_C_13'</li>\n",
       "\t<li>'NH_C_5'</li>\n",
       "\t<li>'NH_C_8'</li>\n",
       "\t<li>'NH_C_9'</li>\n",
       "\t<li>'NJ_C_10'</li>\n",
       "\t<li>'NJ_C_11'</li>\n",
       "\t<li>'NJ_C_12'</li>\n",
       "\t<li>'NJ_C_13'</li>\n",
       "\t<li>'NJ_C_14'</li>\n",
       "\t<li>'NJ_C_6'</li>\n",
       "\t<li>'SC_C_12'</li>\n",
       "\t<li>'SC_C_14'</li>\n",
       "\t<li>'SC_C_2'</li>\n",
       "\t<li>'SC_C_6'</li>\n",
       "\t<li>'SC_C_7'</li>\n",
       "\t<li>'SC_C_9'</li>\n",
       "</ol>\n"
      ],
      "text/latex": [
       "\\begin{enumerate*}\n",
       "\\item 'AP\\_C\\_1'\n",
       "\\item 'AP\\_C\\_2'\n",
       "\\item 'AP\\_C\\_3'\n",
       "\\item 'AP\\_C\\_4'\n",
       "\\item 'AP\\_C\\_5'\n",
       "\\item 'AP\\_C\\_6'\n",
       "\\item 'FP\\_C\\_10'\n",
       "\\item 'FP\\_C\\_11'\n",
       "\\item 'FP\\_C\\_12'\n",
       "\\item 'FP\\_C\\_13'\n",
       "\\item 'FP\\_C\\_5'\n",
       "\\item 'FP\\_C\\_9'\n",
       "\\item 'LA\\_C\\_1'\n",
       "\\item 'LA\\_C\\_2'\n",
       "\\item 'LA\\_C\\_3'\n",
       "\\item 'LA\\_C\\_4'\n",
       "\\item 'LA\\_C\\_6'\n",
       "\\item 'LA\\_C\\_8'\n",
       "\\item 'LA\\_F\\_1'\n",
       "\\item 'MA\\_C\\_1'\n",
       "\\item 'MA\\_C\\_2'\n",
       "\\item 'MA\\_C\\_4'\n",
       "\\item 'MD\\_C\\_10'\n",
       "\\item 'MD\\_C\\_11'\n",
       "\\item 'MD\\_C\\_1'\n",
       "\\item 'MD\\_C\\_4'\n",
       "\\item 'MD\\_C\\_7'\n",
       "\\item 'MD\\_F\\_4'\n",
       "\\item 'ML\\_C\\_10'\n",
       "\\item 'ML\\_C\\_2'\n",
       "\\item 'ML\\_C\\_3'\n",
       "\\item 'ML\\_C\\_5'\n",
       "\\item 'ML\\_C\\_7'\n",
       "\\item 'ML\\_C\\_9'\n",
       "\\item 'NH\\_C\\_11'\n",
       "\\item 'NH\\_C\\_12'\n",
       "\\item 'NH\\_C\\_13'\n",
       "\\item 'NH\\_C\\_5'\n",
       "\\item 'NH\\_C\\_8'\n",
       "\\item 'NH\\_C\\_9'\n",
       "\\item 'NJ\\_C\\_10'\n",
       "\\item 'NJ\\_C\\_11'\n",
       "\\item 'NJ\\_C\\_12'\n",
       "\\item 'NJ\\_C\\_13'\n",
       "\\item 'NJ\\_C\\_14'\n",
       "\\item 'NJ\\_C\\_6'\n",
       "\\item 'SC\\_C\\_12'\n",
       "\\item 'SC\\_C\\_14'\n",
       "\\item 'SC\\_C\\_2'\n",
       "\\item 'SC\\_C\\_6'\n",
       "\\item 'SC\\_C\\_7'\n",
       "\\item 'SC\\_C\\_9'\n",
       "\\end{enumerate*}\n"
      ],
      "text/markdown": [
       "1. 'AP_C_1'\n",
       "2. 'AP_C_2'\n",
       "3. 'AP_C_3'\n",
       "4. 'AP_C_4'\n",
       "5. 'AP_C_5'\n",
       "6. 'AP_C_6'\n",
       "7. 'FP_C_10'\n",
       "8. 'FP_C_11'\n",
       "9. 'FP_C_12'\n",
       "10. 'FP_C_13'\n",
       "11. 'FP_C_5'\n",
       "12. 'FP_C_9'\n",
       "13. 'LA_C_1'\n",
       "14. 'LA_C_2'\n",
       "15. 'LA_C_3'\n",
       "16. 'LA_C_4'\n",
       "17. 'LA_C_6'\n",
       "18. 'LA_C_8'\n",
       "19. 'LA_F_1'\n",
       "20. 'MA_C_1'\n",
       "21. 'MA_C_2'\n",
       "22. 'MA_C_4'\n",
       "23. 'MD_C_10'\n",
       "24. 'MD_C_11'\n",
       "25. 'MD_C_1'\n",
       "26. 'MD_C_4'\n",
       "27. 'MD_C_7'\n",
       "28. 'MD_F_4'\n",
       "29. 'ML_C_10'\n",
       "30. 'ML_C_2'\n",
       "31. 'ML_C_3'\n",
       "32. 'ML_C_5'\n",
       "33. 'ML_C_7'\n",
       "34. 'ML_C_9'\n",
       "35. 'NH_C_11'\n",
       "36. 'NH_C_12'\n",
       "37. 'NH_C_13'\n",
       "38. 'NH_C_5'\n",
       "39. 'NH_C_8'\n",
       "40. 'NH_C_9'\n",
       "41. 'NJ_C_10'\n",
       "42. 'NJ_C_11'\n",
       "43. 'NJ_C_12'\n",
       "44. 'NJ_C_13'\n",
       "45. 'NJ_C_14'\n",
       "46. 'NJ_C_6'\n",
       "47. 'SC_C_12'\n",
       "48. 'SC_C_14'\n",
       "49. 'SC_C_2'\n",
       "50. 'SC_C_6'\n",
       "51. 'SC_C_7'\n",
       "52. 'SC_C_9'\n",
       "\n",
       "\n"
      ],
      "text/plain": [
       " [1] \"AP_C_1\"  \"AP_C_2\"  \"AP_C_3\"  \"AP_C_4\"  \"AP_C_5\"  \"AP_C_6\"  \"FP_C_10\"\n",
       " [8] \"FP_C_11\" \"FP_C_12\" \"FP_C_13\" \"FP_C_5\"  \"FP_C_9\"  \"LA_C_1\"  \"LA_C_2\" \n",
       "[15] \"LA_C_3\"  \"LA_C_4\"  \"LA_C_6\"  \"LA_C_8\"  \"LA_F_1\"  \"MA_C_1\"  \"MA_C_2\" \n",
       "[22] \"MA_C_4\"  \"MD_C_10\" \"MD_C_11\" \"MD_C_1\"  \"MD_C_4\"  \"MD_C_7\"  \"MD_F_4\" \n",
       "[29] \"ML_C_10\" \"ML_C_2\"  \"ML_C_3\"  \"ML_C_5\"  \"ML_C_7\"  \"ML_C_9\"  \"NH_C_11\"\n",
       "[36] \"NH_C_12\" \"NH_C_13\" \"NH_C_5\"  \"NH_C_8\"  \"NH_C_9\"  \"NJ_C_10\" \"NJ_C_11\"\n",
       "[43] \"NJ_C_12\" \"NJ_C_13\" \"NJ_C_14\" \"NJ_C_6\"  \"SC_C_12\" \"SC_C_14\" \"SC_C_2\" \n",
       "[50] \"SC_C_6\"  \"SC_C_7\"  \"SC_C_9\" "
      ]
     },
     "metadata": {},
     "output_type": "display_data"
    }
   ],
   "source": [
    "colnames(norm_mat_sub)"
   ]
  },
  {
   "cell_type": "markdown",
   "metadata": {},
   "source": [
    "Column numbers of the parasite samples in norm_mat_sub are 19 and 28. Command below finds the index of the maximum column for each row, checks if it matches 19 or 28 (the parasite samples), returns boolean which is used to subset the dataframe.  Let's take a look at a slice of the output to verify it's behavior."
   ]
  },
  {
   "cell_type": "code",
   "execution_count": 173,
   "metadata": {},
   "outputs": [
    {
     "data": {
      "text/html": [
       "<table>\n",
       "<thead><tr><th></th><th scope=col>LA_C_8</th><th scope=col>LA_F_1</th><th scope=col>MA_C_1</th><th scope=col>MA_C_2</th><th scope=col>MA_C_4</th><th scope=col>MD_C_10</th><th scope=col>MD_C_11</th><th scope=col>MD_C_1</th><th scope=col>MD_C_4</th><th scope=col>MD_C_7</th><th scope=col>MD_F_4</th><th scope=col>ML_C_10</th></tr></thead>\n",
       "<tbody>\n",
       "\t<tr><th scope=row>TRINITY_DN130836_c0_g1_i1</th><td>  8.342821 </td><td> 4515.9519 </td><td>  5.394225 </td><td>  1.521581 </td><td>  5.038778 </td><td>  5.136595 </td><td>  4.4853682</td><td>  4.048551 </td><td>  5.3195305</td><td>  4.6419802</td><td>  729.6896 </td><td>  2.5518332</td></tr>\n",
       "\t<tr><th scope=row>TRINITY_DN6090_c0_g1_i1</th><td>114.018547 </td><td>    0.0000 </td><td>149.959461 </td><td>164.330783 </td><td>157.461801 </td><td>181.493023 </td><td>146.5220282</td><td>222.670320 </td><td>189.7299213</td><td>180.6152294</td><td>  364.8448 </td><td>146.3051058</td></tr>\n",
       "\t<tr><th scope=row>TRINITY_DN27882_c0_g1_i1</th><td>  9.733291 </td><td>  694.7618 </td><td> 15.103831 </td><td> 10.651069 </td><td>  5.038778 </td><td> 14.553686 </td><td>  7.4756137</td><td> 14.169929 </td><td> 11.5256494</td><td>  9.2839604</td><td>    0.0000 </td><td> 10.2073330</td></tr>\n",
       "\t<tr><th scope=row>TRINITY_DN33032_c0_g1_i1</th><td>  8.342821 </td><td>  694.7618 </td><td>  6.473070 </td><td>  9.129488 </td><td> 10.077555 </td><td>  9.417091 </td><td>  5.2329296</td><td>  6.072827 </td><td>  5.3195305</td><td>  5.9079748</td><td>  729.6896 </td><td> 18.7134438</td></tr>\n",
       "\t<tr><th scope=row>TRINITY_DN815_c0_g2_i2</th><td>241.246561 </td><td>    0.0000 </td><td>189.876728 </td><td>313.445753 </td><td>311.144519 </td><td>116.429487 </td><td>217.5403582</td><td>204.451839 </td><td>134.7614395</td><td>316.9206478</td><td>  364.8448 </td><td>281.5522675</td></tr>\n",
       "\t<tr><th scope=row>TRINITY_DN12072_c0_g1_i2</th><td>261.408377 </td><td>  694.7618 </td><td>126.224870 </td><td>176.503434 </td><td>238.082243 </td><td>173.788131 </td><td>299.0245474</td><td>118.757504 </td><td>238.4922843</td><td>166.2672906</td><td> 1094.5344 </td><td>249.2290465</td></tr>\n",
       "\t<tr><th scope=row>TRINITY_DN131921_c0_g1_i1</th><td> 56.314039 </td><td>  347.3809 </td><td> 53.942252 </td><td> 53.255346 </td><td> 23.934194 </td><td> 84.753817 </td><td> 79.9890664</td><td>103.238057 </td><td> 57.6282471</td><td> 80.1796579</td><td>    0.0000 </td><td> 83.3598859</td></tr>\n",
       "\t<tr><th scope=row>TRINITY_DN29174_c0_g1_i1</th><td> 72.999680 </td><td>  347.3809 </td><td> 93.859519 </td><td> 80.643810 </td><td>119.670969 </td><td> 63.351338 </td><td> 78.4939437</td><td> 95.140955 </td><td> 58.5148356</td><td>142.2133932</td><td>    0.0000 </td><td> 85.0611080</td></tr>\n",
       "\t<tr><th scope=row>TRINITY_DN39441_c0_g1_i1</th><td> 25.723697 </td><td>    0.0000 </td><td> 43.153802 </td><td> 34.996371 </td><td> 22.674499 </td><td> 35.956165 </td><td> 38.8731912</td><td> 22.267032 </td><td> 32.8037714</td><td> 13.0819442</td><td>  729.6896 </td><td>143.7532725</td></tr>\n",
       "\t<tr><th scope=row>TRINITY_DN26877_c0_g1_i1</th><td> 26.418932 </td><td>  694.7618 </td><td>  7.551915 </td><td>  4.564744 </td><td> 11.337250 </td><td> 24.826876 </td><td> 32.8927002</td><td> 18.218481 </td><td> 25.7110641</td><td> 16.4579298</td><td>    0.0000 </td><td> 15.3109994</td></tr>\n",
       "\t<tr><th scope=row>TRINITY_DN4269_c0_g1_i1</th><td>157.818355 </td><td>  694.7618 </td><td>133.776786 </td><td>130.855994 </td><td>153.682718 </td><td> 45.373256 </td><td> 75.5036982</td><td> 99.864265 </td><td> 54.0818935</td><td> 94.9495949</td><td>    0.0000 </td><td> 85.0611080</td></tr>\n",
       "\t<tr><th scope=row>TRINITY_DN3953_c0_g1_i1</th><td> 34.761752 </td><td>  347.3809 </td><td> 19.419211 </td><td> 27.388464 </td><td> 40.310221 </td><td> 32.531768 </td><td> 35.1353843</td><td> 27.665100 </td><td> 27.4842409</td><td> 24.0538974</td><td>  364.8448 </td><td> 22.1158881</td></tr>\n",
       "\t<tr><th scope=row>TRINITY_DN11521_c0_g1_i2</th><td>289.913014 </td><td>  347.3809 </td><td>167.220982 </td><td>190.197666 </td><td>210.368966 </td><td>265.390741 </td><td>261.6464789</td><td>141.024536 </td><td>265.9765252</td><td>162.0473086</td><td>    0.0000 </td><td>266.2412681</td></tr>\n",
       "\t<tr><th scope=row>TRINITY_DN129682_c0_g1_i1</th><td> 79.256795 </td><td>    0.0000 </td><td>  7.551915 </td><td> 31.953208 </td><td> 32.752055 </td><td> 12.841487 </td><td> 25.4170865</td><td> 14.844688 </td><td> 42.5562440</td><td> 17.7239244</td><td>  364.8448 </td><td> 12.7591662</td></tr>\n",
       "\t<tr><th scope=row>TRINITY_DN47302_c0_g1_i1</th><td>  4.171410 </td><td>  347.3809 </td><td>  3.236535 </td><td>  3.043163 </td><td>  3.779083 </td><td>  2.568297 </td><td>  5.9804909</td><td>  2.699034 </td><td>  2.6597653</td><td>  4.6419802</td><td>    0.0000 </td><td> 11.9085551</td></tr>\n",
       "\t<tr><th scope=row>TRINITY_DN29508_c0_g1_i1</th><td>266.275022 </td><td>    0.0000 </td><td>220.084389 </td><td>255.625663 </td><td>289.729714 </td><td>287.649320 </td><td>257.9086721</td><td>152.495431 </td><td>304.0998272</td><td>189.0551933</td><td>  364.8448 </td><td>176.9271047</td></tr>\n",
       "\t<tr><th scope=row>TRINITY_DN38231_c0_g1_i1</th><td>  2.780940 </td><td>  347.3809 </td><td>  0.000000 </td><td>  7.607907 </td><td>  5.038778 </td><td>  0.000000 </td><td>  2.9902455</td><td>  3.373793 </td><td>  1.7731768</td><td>  0.8439964</td><td>  364.8448 </td><td>  3.4024443</td></tr>\n",
       "\t<tr><th scope=row>TRINITY_DN101804_c0_g1_i1</th><td> 59.790214 </td><td>  347.3809 </td><td> 37.759577 </td><td> 47.169021 </td><td> 50.387776 </td><td> 53.934247 </td><td>105.4061529</td><td> 41.160271 </td><td> 76.2466039</td><td> 51.4837803</td><td>    0.0000 </td><td> 35.7256654</td></tr>\n",
       "\t<tr><th scope=row>TRINITY_DN10601_c1_g1_i1</th><td> 60.485449 </td><td>78160.7053 </td><td> 51.784562 </td><td> 63.906416 </td><td> 78.101053 </td><td>118.141685 </td><td>105.4061529</td><td> 51.281649 </td><td>100.1844912</td><td>118.1594958</td><td>63847.8415 </td><td> 55.2897202</td></tr>\n",
       "\t<tr><th scope=row>TRINITY_DN21249_c2_g1_i1</th><td>364.303164 </td><td>  694.7618 </td><td>256.765121 </td><td>336.269473 </td><td>461.048153 </td><td>214.880891 </td><td>316.9660202</td><td>276.651003 </td><td>242.9252264</td><td>363.7624479</td><td>    0.0000 </td><td>434.6622619</td></tr>\n",
       "\t<tr><th scope=row>TRINITY_DN73329_c0_g1_i1</th><td>  2.780940 </td><td>    0.0000 </td><td>  2.157690 </td><td>  4.564744 </td><td>  1.259694 </td><td>  0.000000 </td><td>  0.7475614</td><td>  2.024276 </td><td>  2.6597653</td><td>  0.8439964</td><td>  364.8448 </td><td>  2.5518332</td></tr>\n",
       "\t<tr><th scope=row>TRINITY_DN41307_c0_g1_i1</th><td>100.113847 </td><td>    0.0000 </td><td> 29.128816 </td><td> 50.212184 </td><td> 44.089304 </td><td> 46.229355 </td><td>145.0269055</td><td> 31.038893 </td><td>108.1637869</td><td> 45.5758055</td><td>  364.8448 </td><td> 66.3476643</td></tr>\n",
       "\t<tr><th scope=row>TRINITY_DN23606_c0_g1_i1</th><td> 66.742564 </td><td>  347.3809 </td><td>106.805660 </td><td>121.726506 </td><td> 94.477081 </td><td>104.444098 </td><td>108.3963984</td><td>105.937092 </td><td> 93.0917838</td><td> 91.9956075</td><td>    0.0000 </td><td>103.7745518</td></tr>\n",
       "\t<tr><th scope=row>TRINITY_DN9441_c0_g1_i1</th><td> 45.885513 </td><td>    0.0000 </td><td> 20.498056 </td><td> 25.866883 </td><td> 39.050527 </td><td> 41.092760 </td><td> 69.5232073</td><td> 22.267032 </td><td> 42.5562440</td><td> 29.1178758</td><td>  364.8448 </td><td> 36.5762764</td></tr>\n",
       "\t<tr><th scope=row>TRINITY_DN39327_c0_g1_i1</th><td>  4.866645 </td><td>  347.3809 </td><td> 12.946141 </td><td>  9.129488 </td><td>  3.779083 </td><td>  5.992694 </td><td>  2.9902455</td><td>  8.771861 </td><td> 22.1647104</td><td>  7.5959676</td><td>  364.8448 </td><td>  1.7012222</td></tr>\n",
       "\t<tr><th scope=row>TRINITY_DN51353_c0_g1_i1</th><td> 66.047329 </td><td>  347.3809 </td><td> 26.971126 </td><td> 25.866883 </td><td> 52.907165 </td><td> 16.265884 </td><td> 36.6305071</td><td> 26.315583 </td><td> 32.8037714</td><td> 37.5578397</td><td>    0.0000 </td><td> 41.6799429</td></tr>\n",
       "\t<tr><th scope=row>TRINITY_DN28333_c0_g1_i1</th><td> 52.837863 </td><td>  347.3809 </td><td> 33.444196 </td><td> 33.474789 </td><td> 57.945943 </td><td> 19.690281 </td><td> 38.1256298</td><td> 40.485513 </td><td> 45.2160093</td><td> 32.9158596</td><td>    0.0000 </td><td> 60.3933867</td></tr>\n",
       "\t<tr><th scope=row>TRINITY_DN6824_c0_g1_i6</th><td>262.798847 </td><td> 1042.1427 </td><td>332.284274 </td><td>228.237199 </td><td>309.884824 </td><td>356.137253 </td><td>509.8368532</td><td>417.000781 </td><td>381.2330195</td><td>402.1642840</td><td>    0.0000 </td><td>456.7781500</td></tr>\n",
       "\t<tr><th scope=row>TRINITY_DN7053_c0_g1_i1</th><td>944.129192 </td><td>    0.0000 </td><td>556.684044 </td><td>661.887877 </td><td>624.808426 </td><td>929.723694 </td><td>853.7150827</td><td>524.287389 </td><td>998.2985581</td><td>605.5674162</td><td> 1094.5344 </td><td>587.7722564</td></tr>\n",
       "\t<tr><th scope=row>TRINITY_DN125936_c0_g1_i1</th><td>  6.257115 </td><td>    0.0000 </td><td>  7.551915 </td><td>  6.086325 </td><td> 10.077555 </td><td>  5.136595 </td><td>  2.9902455</td><td>  7.422344 </td><td>  5.3195305</td><td>  6.7519712</td><td>  364.8448 </td><td>  6.8048886</td></tr>\n",
       "\t<tr><th scope=row>TRINITY_DN4921_c0_g1_i1</th><td> 79.256795 </td><td> 1042.1427 </td><td> 50.705717 </td><td> 48.690602 </td><td> 36.531138 </td><td> 76.192826 </td><td> 81.4841892</td><td> 73.548681 </td><td> 78.0197807</td><td> 38.4018361</td><td> 1094.5344 </td><td> 45.9329983</td></tr>\n",
       "\t<tr><th scope=row>TRINITY_DN8563_c0_g1_i3</th><td>164.770706 </td><td>    0.0000 </td><td>249.213206 </td><td>127.812831 </td><td>138.566385 </td><td>303.915204 </td><td>121.8525030</td><td>147.097363 </td><td>136.5346163</td><td>147.2773716</td><td>  364.8448 </td><td>148.8569390</td></tr>\n",
       "\t<tr><th scope=row>TRINITY_DN24569_c0_g1_i1</th><td>109.151902 </td><td>  347.3809 </td><td>132.697941 </td><td>219.107711 </td><td>158.721495 </td><td> 77.905024 </td><td>126.3378713</td><td>122.131297 </td><td>120.5760248</td><td>127.0214580</td><td>    0.0000 </td><td>136.0977728</td></tr>\n",
       "\t<tr><th scope=row>TRINITY_DN12229_c0_g1_i1</th><td>118.189958 </td><td>    0.0000 </td><td> 96.017209 </td><td> 56.298509 </td><td> 51.647471 </td><td> 74.480627 </td><td> 46.3488048</td><td> 92.441921 </td><td> 33.6903599</td><td> 61.6117371</td><td>  364.8448 </td><td> 39.9787208</td></tr>\n",
       "\t<tr><th scope=row>TRINITY_DN9643_c0_g1_i1</th><td> 10.428526 </td><td> 2084.2855 </td><td>  7.551915 </td><td> 10.651069 </td><td>  8.817861 </td><td> 14.553686 </td><td>  4.4853682</td><td>  8.771861 </td><td>  8.8658842</td><td> 14.3479388</td><td> 2553.9137 </td><td>  9.3567219</td></tr>\n",
       "\t<tr><th scope=row>TRINITY_DN12262_c0_g1_i2</th><td> 63.266389 </td><td> 1736.9046 </td><td> 46.390337 </td><td> 36.517952 </td><td> 51.647471 </td><td> 43.661057 </td><td> 51.5817344</td><td> 48.582615 </td><td> 69.1538966</td><td> 37.5578397</td><td> 5472.6721 </td><td> 24.6677213</td></tr>\n",
       "\t<tr><th scope=row>TRINITY_DN110617_c0_g1_i1</th><td> 17.380876 </td><td>22579.7593 </td><td> 19.419211 </td><td>  4.564744 </td><td> 15.116333 </td><td> 28.251272 </td><td>  8.9707364</td><td>  8.097103 </td><td>  0.8865884</td><td> 36.2918452</td><td>27728.2054 </td><td> 48.4848316</td></tr>\n",
       "\t<tr><th scope=row>TRINITY_DN14115_c0_g1_i1</th><td> 18.076111 </td><td> 1389.5236 </td><td> 23.734591 </td><td> 24.345301 </td><td>  8.817861 </td><td>  5.992694 </td><td> 16.4463501</td><td> 13.495171 </td><td> 11.5256494</td><td>  5.4859766</td><td> 4013.2929 </td><td> 14.4603884</td></tr>\n",
       "\t<tr><th scope=row>TRINITY_DN131764_c0_g1_i1</th><td> 15.295171 </td><td>12505.7128 </td><td>  8.630760 </td><td>  7.607907 </td><td>  8.817861 </td><td> 12.841487 </td><td> 12.7085433</td><td>  8.771861 </td><td> 23.9378873</td><td>  9.2839604</td><td>94494.8054 </td><td>  5.9542776</td></tr>\n",
       "\t<tr><th scope=row>TRINITY_DN100013_c0_g1_i1</th><td> 11.123761 </td><td>  347.3809 </td><td>  3.236535 </td><td>  3.043163 </td><td>  3.779083 </td><td>  3.424397 </td><td>  6.7280523</td><td>  4.048551 </td><td>  4.4329421</td><td>  7.1739694</td><td>    0.0000 </td><td>  5.1036665</td></tr>\n",
       "\t<tr><th scope=row>TRINITY_DN14194_c0_g1_i1</th><td> 50.752158 </td><td> 2084.2855 </td><td> 44.232647 </td><td> 59.341672 </td><td> 73.062276 </td><td> 22.258578 </td><td> 62.7951549</td><td> 24.291308 </td><td> 53.1953050</td><td> 52.7497749</td><td>    0.0000 </td><td> 60.3933867</td></tr>\n",
       "\t<tr><th scope=row>TRINITY_DN22883_c0_g1_i1</th><td> 35.456987 </td><td>    0.0000 </td><td> 26.971126 </td><td> 33.474789 </td><td> 45.348999 </td><td> 17.978082 </td><td> 63.5427163</td><td> 35.762203 </td><td> 41.6696556</td><td> 22.3659046</td><td>  364.8448 </td><td> 53.5884980</td></tr>\n",
       "\t<tr><th scope=row>TRINITY_DN31786_c0_g1_i1</th><td>109.847137 </td><td>  347.3809 </td><td>  9.709605 </td><td> 39.561115 </td><td> 50.387776 </td><td> 19.690281 </td><td>133.8134849</td><td> 50.606891 </td><td>107.2771985</td><td> 35.8698470</td><td>  364.8448 </td><td> 77.4056083</td></tr>\n",
       "\t<tr><th scope=row>TRINITY_DN100094_c0_g1_i1</th><td>  0.000000 </td><td>    0.0000 </td><td>  0.000000 </td><td>  0.000000 </td><td>  0.000000 </td><td>  0.000000 </td><td>  0.0000000</td><td>  0.000000 </td><td>  0.0000000</td><td>  0.0000000</td><td>  729.6896 </td><td>  0.8506111</td></tr>\n",
       "\t<tr><th scope=row>TRINITY_DN79728_c0_g1_i1</th><td>  5.561880 </td><td>  694.7618 </td><td>  5.394225 </td><td> 16.737395 </td><td>  6.298472 </td><td> 12.841487 </td><td>  5.9804909</td><td>  6.747585 </td><td> 10.6390610</td><td> 18.5679208</td><td>    0.0000 </td><td>  7.6554997</td></tr>\n",
       "\t<tr><th scope=row>TRINITY_DN2249_c0_g1_i1</th><td>128.618483 </td><td>  347.3809 </td><td>120.830645 </td><td>132.377575 </td><td>114.632191 </td><td>153.241751 </td><td>103.9110302</td><td>125.505089 </td><td> 79.7929576</td><td> 51.4837803</td><td>    0.0000 </td><td>126.7410509</td></tr>\n",
       "\t<tr><th scope=row>TRINITY_DN20446_c0_g1_i1</th><td>116.104253 </td><td>    0.0000 </td><td>112.199885 </td><td>104.989112 </td><td> 68.023498 </td><td>325.317683 </td><td>127.0854326</td><td>106.611850 </td><td>274.8424094</td><td>101.7015661</td><td>  364.8448 </td><td> 83.3598859</td></tr>\n",
       "\t<tr><th scope=row>TRINITY_DN22839_c0_g1_i1</th><td>155.732650 </td><td> 3126.4282 </td><td> 60.415323 </td><td> 63.906416 </td><td>110.853108 </td><td> 32.531768 </td><td>159.2305715</td><td> 65.451579 </td><td>100.1844912</td><td>104.6555535</td><td>  364.8448 </td><td>121.6373845</td></tr>\n",
       "\t<tr><th scope=row>TRINITY_DN150202_c0_g1_i1</th><td>  4.171410 </td><td>  347.3809 </td><td>  9.709605 </td><td> 10.651069 </td><td> 11.337250 </td><td> 10.273190 </td><td>  8.9707364</td><td>  4.048551 </td><td>  7.0927073</td><td>  5.4859766</td><td>    0.0000 </td><td>  9.3567219</td></tr>\n",
       "\t<tr><th scope=row>TRINITY_DN140959_c0_g1_i1</th><td> 11.123761 </td><td> 1042.1427 </td><td>  6.473070 </td><td>  4.564744 </td><td> 10.077555 </td><td>  6.848793 </td><td> 11.2134205</td><td>  4.723310 </td><td>  4.4329421</td><td>  3.3759856</td><td>    0.0000 </td><td>  7.6554997</td></tr>\n",
       "</tbody>\n",
       "</table>\n"
      ],
      "text/latex": [
       "\\begin{tabular}{r|llllllllllll}\n",
       "  & LA\\_C\\_8 & LA\\_F\\_1 & MA\\_C\\_1 & MA\\_C\\_2 & MA\\_C\\_4 & MD\\_C\\_10 & MD\\_C\\_11 & MD\\_C\\_1 & MD\\_C\\_4 & MD\\_C\\_7 & MD\\_F\\_4 & ML\\_C\\_10\\\\\n",
       "\\hline\n",
       "\tTRINITY\\_DN130836\\_c0\\_g1\\_i1 &   8.342821  &  4515.9519  &   5.394225  &   1.521581  &   5.038778  &   5.136595  &   4.4853682 &   4.048551  &   5.3195305 &   4.6419802 &   729.6896  &   2.5518332\\\\\n",
       "\tTRINITY\\_DN6090\\_c0\\_g1\\_i1 & 114.018547  &     0.0000  & 149.959461  & 164.330783  & 157.461801  & 181.493023  & 146.5220282 & 222.670320  & 189.7299213 & 180.6152294 &   364.8448  & 146.3051058\\\\\n",
       "\tTRINITY\\_DN27882\\_c0\\_g1\\_i1 &   9.733291  &   694.7618  &  15.103831  &  10.651069  &   5.038778  &  14.553686  &   7.4756137 &  14.169929  &  11.5256494 &   9.2839604 &     0.0000  &  10.2073330\\\\\n",
       "\tTRINITY\\_DN33032\\_c0\\_g1\\_i1 &   8.342821  &   694.7618  &   6.473070  &   9.129488  &  10.077555  &   9.417091  &   5.2329296 &   6.072827  &   5.3195305 &   5.9079748 &   729.6896  &  18.7134438\\\\\n",
       "\tTRINITY\\_DN815\\_c0\\_g2\\_i2 & 241.246561  &     0.0000  & 189.876728  & 313.445753  & 311.144519  & 116.429487  & 217.5403582 & 204.451839  & 134.7614395 & 316.9206478 &   364.8448  & 281.5522675\\\\\n",
       "\tTRINITY\\_DN12072\\_c0\\_g1\\_i2 & 261.408377  &   694.7618  & 126.224870  & 176.503434  & 238.082243  & 173.788131  & 299.0245474 & 118.757504  & 238.4922843 & 166.2672906 &  1094.5344  & 249.2290465\\\\\n",
       "\tTRINITY\\_DN131921\\_c0\\_g1\\_i1 &  56.314039  &   347.3809  &  53.942252  &  53.255346  &  23.934194  &  84.753817  &  79.9890664 & 103.238057  &  57.6282471 &  80.1796579 &     0.0000  &  83.3598859\\\\\n",
       "\tTRINITY\\_DN29174\\_c0\\_g1\\_i1 &  72.999680  &   347.3809  &  93.859519  &  80.643810  & 119.670969  &  63.351338  &  78.4939437 &  95.140955  &  58.5148356 & 142.2133932 &     0.0000  &  85.0611080\\\\\n",
       "\tTRINITY\\_DN39441\\_c0\\_g1\\_i1 &  25.723697  &     0.0000  &  43.153802  &  34.996371  &  22.674499  &  35.956165  &  38.8731912 &  22.267032  &  32.8037714 &  13.0819442 &   729.6896  & 143.7532725\\\\\n",
       "\tTRINITY\\_DN26877\\_c0\\_g1\\_i1 &  26.418932  &   694.7618  &   7.551915  &   4.564744  &  11.337250  &  24.826876  &  32.8927002 &  18.218481  &  25.7110641 &  16.4579298 &     0.0000  &  15.3109994\\\\\n",
       "\tTRINITY\\_DN4269\\_c0\\_g1\\_i1 & 157.818355  &   694.7618  & 133.776786  & 130.855994  & 153.682718  &  45.373256  &  75.5036982 &  99.864265  &  54.0818935 &  94.9495949 &     0.0000  &  85.0611080\\\\\n",
       "\tTRINITY\\_DN3953\\_c0\\_g1\\_i1 &  34.761752  &   347.3809  &  19.419211  &  27.388464  &  40.310221  &  32.531768  &  35.1353843 &  27.665100  &  27.4842409 &  24.0538974 &   364.8448  &  22.1158881\\\\\n",
       "\tTRINITY\\_DN11521\\_c0\\_g1\\_i2 & 289.913014  &   347.3809  & 167.220982  & 190.197666  & 210.368966  & 265.390741  & 261.6464789 & 141.024536  & 265.9765252 & 162.0473086 &     0.0000  & 266.2412681\\\\\n",
       "\tTRINITY\\_DN129682\\_c0\\_g1\\_i1 &  79.256795  &     0.0000  &   7.551915  &  31.953208  &  32.752055  &  12.841487  &  25.4170865 &  14.844688  &  42.5562440 &  17.7239244 &   364.8448  &  12.7591662\\\\\n",
       "\tTRINITY\\_DN47302\\_c0\\_g1\\_i1 &   4.171410  &   347.3809  &   3.236535  &   3.043163  &   3.779083  &   2.568297  &   5.9804909 &   2.699034  &   2.6597653 &   4.6419802 &     0.0000  &  11.9085551\\\\\n",
       "\tTRINITY\\_DN29508\\_c0\\_g1\\_i1 & 266.275022  &     0.0000  & 220.084389  & 255.625663  & 289.729714  & 287.649320  & 257.9086721 & 152.495431  & 304.0998272 & 189.0551933 &   364.8448  & 176.9271047\\\\\n",
       "\tTRINITY\\_DN38231\\_c0\\_g1\\_i1 &   2.780940  &   347.3809  &   0.000000  &   7.607907  &   5.038778  &   0.000000  &   2.9902455 &   3.373793  &   1.7731768 &   0.8439964 &   364.8448  &   3.4024443\\\\\n",
       "\tTRINITY\\_DN101804\\_c0\\_g1\\_i1 &  59.790214  &   347.3809  &  37.759577  &  47.169021  &  50.387776  &  53.934247  & 105.4061529 &  41.160271  &  76.2466039 &  51.4837803 &     0.0000  &  35.7256654\\\\\n",
       "\tTRINITY\\_DN10601\\_c1\\_g1\\_i1 &  60.485449  & 78160.7053  &  51.784562  &  63.906416  &  78.101053  & 118.141685  & 105.4061529 &  51.281649  & 100.1844912 & 118.1594958 & 63847.8415  &  55.2897202\\\\\n",
       "\tTRINITY\\_DN21249\\_c2\\_g1\\_i1 & 364.303164  &   694.7618  & 256.765121  & 336.269473  & 461.048153  & 214.880891  & 316.9660202 & 276.651003  & 242.9252264 & 363.7624479 &     0.0000  & 434.6622619\\\\\n",
       "\tTRINITY\\_DN73329\\_c0\\_g1\\_i1 &   2.780940  &     0.0000  &   2.157690  &   4.564744  &   1.259694  &   0.000000  &   0.7475614 &   2.024276  &   2.6597653 &   0.8439964 &   364.8448  &   2.5518332\\\\\n",
       "\tTRINITY\\_DN41307\\_c0\\_g1\\_i1 & 100.113847  &     0.0000  &  29.128816  &  50.212184  &  44.089304  &  46.229355  & 145.0269055 &  31.038893  & 108.1637869 &  45.5758055 &   364.8448  &  66.3476643\\\\\n",
       "\tTRINITY\\_DN23606\\_c0\\_g1\\_i1 &  66.742564  &   347.3809  & 106.805660  & 121.726506  &  94.477081  & 104.444098  & 108.3963984 & 105.937092  &  93.0917838 &  91.9956075 &     0.0000  & 103.7745518\\\\\n",
       "\tTRINITY\\_DN9441\\_c0\\_g1\\_i1 &  45.885513  &     0.0000  &  20.498056  &  25.866883  &  39.050527  &  41.092760  &  69.5232073 &  22.267032  &  42.5562440 &  29.1178758 &   364.8448  &  36.5762764\\\\\n",
       "\tTRINITY\\_DN39327\\_c0\\_g1\\_i1 &   4.866645  &   347.3809  &  12.946141  &   9.129488  &   3.779083  &   5.992694  &   2.9902455 &   8.771861  &  22.1647104 &   7.5959676 &   364.8448  &   1.7012222\\\\\n",
       "\tTRINITY\\_DN51353\\_c0\\_g1\\_i1 &  66.047329  &   347.3809  &  26.971126  &  25.866883  &  52.907165  &  16.265884  &  36.6305071 &  26.315583  &  32.8037714 &  37.5578397 &     0.0000  &  41.6799429\\\\\n",
       "\tTRINITY\\_DN28333\\_c0\\_g1\\_i1 &  52.837863  &   347.3809  &  33.444196  &  33.474789  &  57.945943  &  19.690281  &  38.1256298 &  40.485513  &  45.2160093 &  32.9158596 &     0.0000  &  60.3933867\\\\\n",
       "\tTRINITY\\_DN6824\\_c0\\_g1\\_i6 & 262.798847  &  1042.1427  & 332.284274  & 228.237199  & 309.884824  & 356.137253  & 509.8368532 & 417.000781  & 381.2330195 & 402.1642840 &     0.0000  & 456.7781500\\\\\n",
       "\tTRINITY\\_DN7053\\_c0\\_g1\\_i1 & 944.129192  &     0.0000  & 556.684044  & 661.887877  & 624.808426  & 929.723694  & 853.7150827 & 524.287389  & 998.2985581 & 605.5674162 &  1094.5344  & 587.7722564\\\\\n",
       "\tTRINITY\\_DN125936\\_c0\\_g1\\_i1 &   6.257115  &     0.0000  &   7.551915  &   6.086325  &  10.077555  &   5.136595  &   2.9902455 &   7.422344  &   5.3195305 &   6.7519712 &   364.8448  &   6.8048886\\\\\n",
       "\tTRINITY\\_DN4921\\_c0\\_g1\\_i1 &  79.256795  &  1042.1427  &  50.705717  &  48.690602  &  36.531138  &  76.192826  &  81.4841892 &  73.548681  &  78.0197807 &  38.4018361 &  1094.5344  &  45.9329983\\\\\n",
       "\tTRINITY\\_DN8563\\_c0\\_g1\\_i3 & 164.770706  &     0.0000  & 249.213206  & 127.812831  & 138.566385  & 303.915204  & 121.8525030 & 147.097363  & 136.5346163 & 147.2773716 &   364.8448  & 148.8569390\\\\\n",
       "\tTRINITY\\_DN24569\\_c0\\_g1\\_i1 & 109.151902  &   347.3809  & 132.697941  & 219.107711  & 158.721495  &  77.905024  & 126.3378713 & 122.131297  & 120.5760248 & 127.0214580 &     0.0000  & 136.0977728\\\\\n",
       "\tTRINITY\\_DN12229\\_c0\\_g1\\_i1 & 118.189958  &     0.0000  &  96.017209  &  56.298509  &  51.647471  &  74.480627  &  46.3488048 &  92.441921  &  33.6903599 &  61.6117371 &   364.8448  &  39.9787208\\\\\n",
       "\tTRINITY\\_DN9643\\_c0\\_g1\\_i1 &  10.428526  &  2084.2855  &   7.551915  &  10.651069  &   8.817861  &  14.553686  &   4.4853682 &   8.771861  &   8.8658842 &  14.3479388 &  2553.9137  &   9.3567219\\\\\n",
       "\tTRINITY\\_DN12262\\_c0\\_g1\\_i2 &  63.266389  &  1736.9046  &  46.390337  &  36.517952  &  51.647471  &  43.661057  &  51.5817344 &  48.582615  &  69.1538966 &  37.5578397 &  5472.6721  &  24.6677213\\\\\n",
       "\tTRINITY\\_DN110617\\_c0\\_g1\\_i1 &  17.380876  & 22579.7593  &  19.419211  &   4.564744  &  15.116333  &  28.251272  &   8.9707364 &   8.097103  &   0.8865884 &  36.2918452 & 27728.2054  &  48.4848316\\\\\n",
       "\tTRINITY\\_DN14115\\_c0\\_g1\\_i1 &  18.076111  &  1389.5236  &  23.734591  &  24.345301  &   8.817861  &   5.992694  &  16.4463501 &  13.495171  &  11.5256494 &   5.4859766 &  4013.2929  &  14.4603884\\\\\n",
       "\tTRINITY\\_DN131764\\_c0\\_g1\\_i1 &  15.295171  & 12505.7128  &   8.630760  &   7.607907  &   8.817861  &  12.841487  &  12.7085433 &   8.771861  &  23.9378873 &   9.2839604 & 94494.8054  &   5.9542776\\\\\n",
       "\tTRINITY\\_DN100013\\_c0\\_g1\\_i1 &  11.123761  &   347.3809  &   3.236535  &   3.043163  &   3.779083  &   3.424397  &   6.7280523 &   4.048551  &   4.4329421 &   7.1739694 &     0.0000  &   5.1036665\\\\\n",
       "\tTRINITY\\_DN14194\\_c0\\_g1\\_i1 &  50.752158  &  2084.2855  &  44.232647  &  59.341672  &  73.062276  &  22.258578  &  62.7951549 &  24.291308  &  53.1953050 &  52.7497749 &     0.0000  &  60.3933867\\\\\n",
       "\tTRINITY\\_DN22883\\_c0\\_g1\\_i1 &  35.456987  &     0.0000  &  26.971126  &  33.474789  &  45.348999  &  17.978082  &  63.5427163 &  35.762203  &  41.6696556 &  22.3659046 &   364.8448  &  53.5884980\\\\\n",
       "\tTRINITY\\_DN31786\\_c0\\_g1\\_i1 & 109.847137  &   347.3809  &   9.709605  &  39.561115  &  50.387776  &  19.690281  & 133.8134849 &  50.606891  & 107.2771985 &  35.8698470 &   364.8448  &  77.4056083\\\\\n",
       "\tTRINITY\\_DN100094\\_c0\\_g1\\_i1 &   0.000000  &     0.0000  &   0.000000  &   0.000000  &   0.000000  &   0.000000  &   0.0000000 &   0.000000  &   0.0000000 &   0.0000000 &   729.6896  &   0.8506111\\\\\n",
       "\tTRINITY\\_DN79728\\_c0\\_g1\\_i1 &   5.561880  &   694.7618  &   5.394225  &  16.737395  &   6.298472  &  12.841487  &   5.9804909 &   6.747585  &  10.6390610 &  18.5679208 &     0.0000  &   7.6554997\\\\\n",
       "\tTRINITY\\_DN2249\\_c0\\_g1\\_i1 & 128.618483  &   347.3809  & 120.830645  & 132.377575  & 114.632191  & 153.241751  & 103.9110302 & 125.505089  &  79.7929576 &  51.4837803 &     0.0000  & 126.7410509\\\\\n",
       "\tTRINITY\\_DN20446\\_c0\\_g1\\_i1 & 116.104253  &     0.0000  & 112.199885  & 104.989112  &  68.023498  & 325.317683  & 127.0854326 & 106.611850  & 274.8424094 & 101.7015661 &   364.8448  &  83.3598859\\\\\n",
       "\tTRINITY\\_DN22839\\_c0\\_g1\\_i1 & 155.732650  &  3126.4282  &  60.415323  &  63.906416  & 110.853108  &  32.531768  & 159.2305715 &  65.451579  & 100.1844912 & 104.6555535 &   364.8448  & 121.6373845\\\\\n",
       "\tTRINITY\\_DN150202\\_c0\\_g1\\_i1 &   4.171410  &   347.3809  &   9.709605  &  10.651069  &  11.337250  &  10.273190  &   8.9707364 &   4.048551  &   7.0927073 &   5.4859766 &     0.0000  &   9.3567219\\\\\n",
       "\tTRINITY\\_DN140959\\_c0\\_g1\\_i1 &  11.123761  &  1042.1427  &   6.473070  &   4.564744  &  10.077555  &   6.848793  &  11.2134205 &   4.723310  &   4.4329421 &   3.3759856 &     0.0000  &   7.6554997\\\\\n",
       "\\end{tabular}\n"
      ],
      "text/markdown": [
       "\n",
       "| <!--/--> | LA_C_8 | LA_F_1 | MA_C_1 | MA_C_2 | MA_C_4 | MD_C_10 | MD_C_11 | MD_C_1 | MD_C_4 | MD_C_7 | MD_F_4 | ML_C_10 |\n",
       "|---|---|---|---|---|---|---|---|---|---|---|---|---|\n",
       "| TRINITY_DN130836_c0_g1_i1 |   8.342821  |  4515.9519  |   5.394225  |   1.521581  |   5.038778  |   5.136595  |   4.4853682 |   4.048551  |   5.3195305 |   4.6419802 |   729.6896  |   2.5518332 |\n",
       "| TRINITY_DN6090_c0_g1_i1 | 114.018547  |     0.0000  | 149.959461  | 164.330783  | 157.461801  | 181.493023  | 146.5220282 | 222.670320  | 189.7299213 | 180.6152294 |   364.8448  | 146.3051058 |\n",
       "| TRINITY_DN27882_c0_g1_i1 |   9.733291  |   694.7618  |  15.103831  |  10.651069  |   5.038778  |  14.553686  |   7.4756137 |  14.169929  |  11.5256494 |   9.2839604 |     0.0000  |  10.2073330 |\n",
       "| TRINITY_DN33032_c0_g1_i1 |   8.342821  |   694.7618  |   6.473070  |   9.129488  |  10.077555  |   9.417091  |   5.2329296 |   6.072827  |   5.3195305 |   5.9079748 |   729.6896  |  18.7134438 |\n",
       "| TRINITY_DN815_c0_g2_i2 | 241.246561  |     0.0000  | 189.876728  | 313.445753  | 311.144519  | 116.429487  | 217.5403582 | 204.451839  | 134.7614395 | 316.9206478 |   364.8448  | 281.5522675 |\n",
       "| TRINITY_DN12072_c0_g1_i2 | 261.408377  |   694.7618  | 126.224870  | 176.503434  | 238.082243  | 173.788131  | 299.0245474 | 118.757504  | 238.4922843 | 166.2672906 |  1094.5344  | 249.2290465 |\n",
       "| TRINITY_DN131921_c0_g1_i1 |  56.314039  |   347.3809  |  53.942252  |  53.255346  |  23.934194  |  84.753817  |  79.9890664 | 103.238057  |  57.6282471 |  80.1796579 |     0.0000  |  83.3598859 |\n",
       "| TRINITY_DN29174_c0_g1_i1 |  72.999680  |   347.3809  |  93.859519  |  80.643810  | 119.670969  |  63.351338  |  78.4939437 |  95.140955  |  58.5148356 | 142.2133932 |     0.0000  |  85.0611080 |\n",
       "| TRINITY_DN39441_c0_g1_i1 |  25.723697  |     0.0000  |  43.153802  |  34.996371  |  22.674499  |  35.956165  |  38.8731912 |  22.267032  |  32.8037714 |  13.0819442 |   729.6896  | 143.7532725 |\n",
       "| TRINITY_DN26877_c0_g1_i1 |  26.418932  |   694.7618  |   7.551915  |   4.564744  |  11.337250  |  24.826876  |  32.8927002 |  18.218481  |  25.7110641 |  16.4579298 |     0.0000  |  15.3109994 |\n",
       "| TRINITY_DN4269_c0_g1_i1 | 157.818355  |   694.7618  | 133.776786  | 130.855994  | 153.682718  |  45.373256  |  75.5036982 |  99.864265  |  54.0818935 |  94.9495949 |     0.0000  |  85.0611080 |\n",
       "| TRINITY_DN3953_c0_g1_i1 |  34.761752  |   347.3809  |  19.419211  |  27.388464  |  40.310221  |  32.531768  |  35.1353843 |  27.665100  |  27.4842409 |  24.0538974 |   364.8448  |  22.1158881 |\n",
       "| TRINITY_DN11521_c0_g1_i2 | 289.913014  |   347.3809  | 167.220982  | 190.197666  | 210.368966  | 265.390741  | 261.6464789 | 141.024536  | 265.9765252 | 162.0473086 |     0.0000  | 266.2412681 |\n",
       "| TRINITY_DN129682_c0_g1_i1 |  79.256795  |     0.0000  |   7.551915  |  31.953208  |  32.752055  |  12.841487  |  25.4170865 |  14.844688  |  42.5562440 |  17.7239244 |   364.8448  |  12.7591662 |\n",
       "| TRINITY_DN47302_c0_g1_i1 |   4.171410  |   347.3809  |   3.236535  |   3.043163  |   3.779083  |   2.568297  |   5.9804909 |   2.699034  |   2.6597653 |   4.6419802 |     0.0000  |  11.9085551 |\n",
       "| TRINITY_DN29508_c0_g1_i1 | 266.275022  |     0.0000  | 220.084389  | 255.625663  | 289.729714  | 287.649320  | 257.9086721 | 152.495431  | 304.0998272 | 189.0551933 |   364.8448  | 176.9271047 |\n",
       "| TRINITY_DN38231_c0_g1_i1 |   2.780940  |   347.3809  |   0.000000  |   7.607907  |   5.038778  |   0.000000  |   2.9902455 |   3.373793  |   1.7731768 |   0.8439964 |   364.8448  |   3.4024443 |\n",
       "| TRINITY_DN101804_c0_g1_i1 |  59.790214  |   347.3809  |  37.759577  |  47.169021  |  50.387776  |  53.934247  | 105.4061529 |  41.160271  |  76.2466039 |  51.4837803 |     0.0000  |  35.7256654 |\n",
       "| TRINITY_DN10601_c1_g1_i1 |  60.485449  | 78160.7053  |  51.784562  |  63.906416  |  78.101053  | 118.141685  | 105.4061529 |  51.281649  | 100.1844912 | 118.1594958 | 63847.8415  |  55.2897202 |\n",
       "| TRINITY_DN21249_c2_g1_i1 | 364.303164  |   694.7618  | 256.765121  | 336.269473  | 461.048153  | 214.880891  | 316.9660202 | 276.651003  | 242.9252264 | 363.7624479 |     0.0000  | 434.6622619 |\n",
       "| TRINITY_DN73329_c0_g1_i1 |   2.780940  |     0.0000  |   2.157690  |   4.564744  |   1.259694  |   0.000000  |   0.7475614 |   2.024276  |   2.6597653 |   0.8439964 |   364.8448  |   2.5518332 |\n",
       "| TRINITY_DN41307_c0_g1_i1 | 100.113847  |     0.0000  |  29.128816  |  50.212184  |  44.089304  |  46.229355  | 145.0269055 |  31.038893  | 108.1637869 |  45.5758055 |   364.8448  |  66.3476643 |\n",
       "| TRINITY_DN23606_c0_g1_i1 |  66.742564  |   347.3809  | 106.805660  | 121.726506  |  94.477081  | 104.444098  | 108.3963984 | 105.937092  |  93.0917838 |  91.9956075 |     0.0000  | 103.7745518 |\n",
       "| TRINITY_DN9441_c0_g1_i1 |  45.885513  |     0.0000  |  20.498056  |  25.866883  |  39.050527  |  41.092760  |  69.5232073 |  22.267032  |  42.5562440 |  29.1178758 |   364.8448  |  36.5762764 |\n",
       "| TRINITY_DN39327_c0_g1_i1 |   4.866645  |   347.3809  |  12.946141  |   9.129488  |   3.779083  |   5.992694  |   2.9902455 |   8.771861  |  22.1647104 |   7.5959676 |   364.8448  |   1.7012222 |\n",
       "| TRINITY_DN51353_c0_g1_i1 |  66.047329  |   347.3809  |  26.971126  |  25.866883  |  52.907165  |  16.265884  |  36.6305071 |  26.315583  |  32.8037714 |  37.5578397 |     0.0000  |  41.6799429 |\n",
       "| TRINITY_DN28333_c0_g1_i1 |  52.837863  |   347.3809  |  33.444196  |  33.474789  |  57.945943  |  19.690281  |  38.1256298 |  40.485513  |  45.2160093 |  32.9158596 |     0.0000  |  60.3933867 |\n",
       "| TRINITY_DN6824_c0_g1_i6 | 262.798847  |  1042.1427  | 332.284274  | 228.237199  | 309.884824  | 356.137253  | 509.8368532 | 417.000781  | 381.2330195 | 402.1642840 |     0.0000  | 456.7781500 |\n",
       "| TRINITY_DN7053_c0_g1_i1 | 944.129192  |     0.0000  | 556.684044  | 661.887877  | 624.808426  | 929.723694  | 853.7150827 | 524.287389  | 998.2985581 | 605.5674162 |  1094.5344  | 587.7722564 |\n",
       "| TRINITY_DN125936_c0_g1_i1 |   6.257115  |     0.0000  |   7.551915  |   6.086325  |  10.077555  |   5.136595  |   2.9902455 |   7.422344  |   5.3195305 |   6.7519712 |   364.8448  |   6.8048886 |\n",
       "| TRINITY_DN4921_c0_g1_i1 |  79.256795  |  1042.1427  |  50.705717  |  48.690602  |  36.531138  |  76.192826  |  81.4841892 |  73.548681  |  78.0197807 |  38.4018361 |  1094.5344  |  45.9329983 |\n",
       "| TRINITY_DN8563_c0_g1_i3 | 164.770706  |     0.0000  | 249.213206  | 127.812831  | 138.566385  | 303.915204  | 121.8525030 | 147.097363  | 136.5346163 | 147.2773716 |   364.8448  | 148.8569390 |\n",
       "| TRINITY_DN24569_c0_g1_i1 | 109.151902  |   347.3809  | 132.697941  | 219.107711  | 158.721495  |  77.905024  | 126.3378713 | 122.131297  | 120.5760248 | 127.0214580 |     0.0000  | 136.0977728 |\n",
       "| TRINITY_DN12229_c0_g1_i1 | 118.189958  |     0.0000  |  96.017209  |  56.298509  |  51.647471  |  74.480627  |  46.3488048 |  92.441921  |  33.6903599 |  61.6117371 |   364.8448  |  39.9787208 |\n",
       "| TRINITY_DN9643_c0_g1_i1 |  10.428526  |  2084.2855  |   7.551915  |  10.651069  |   8.817861  |  14.553686  |   4.4853682 |   8.771861  |   8.8658842 |  14.3479388 |  2553.9137  |   9.3567219 |\n",
       "| TRINITY_DN12262_c0_g1_i2 |  63.266389  |  1736.9046  |  46.390337  |  36.517952  |  51.647471  |  43.661057  |  51.5817344 |  48.582615  |  69.1538966 |  37.5578397 |  5472.6721  |  24.6677213 |\n",
       "| TRINITY_DN110617_c0_g1_i1 |  17.380876  | 22579.7593  |  19.419211  |   4.564744  |  15.116333  |  28.251272  |   8.9707364 |   8.097103  |   0.8865884 |  36.2918452 | 27728.2054  |  48.4848316 |\n",
       "| TRINITY_DN14115_c0_g1_i1 |  18.076111  |  1389.5236  |  23.734591  |  24.345301  |   8.817861  |   5.992694  |  16.4463501 |  13.495171  |  11.5256494 |   5.4859766 |  4013.2929  |  14.4603884 |\n",
       "| TRINITY_DN131764_c0_g1_i1 |  15.295171  | 12505.7128  |   8.630760  |   7.607907  |   8.817861  |  12.841487  |  12.7085433 |   8.771861  |  23.9378873 |   9.2839604 | 94494.8054  |   5.9542776 |\n",
       "| TRINITY_DN100013_c0_g1_i1 |  11.123761  |   347.3809  |   3.236535  |   3.043163  |   3.779083  |   3.424397  |   6.7280523 |   4.048551  |   4.4329421 |   7.1739694 |     0.0000  |   5.1036665 |\n",
       "| TRINITY_DN14194_c0_g1_i1 |  50.752158  |  2084.2855  |  44.232647  |  59.341672  |  73.062276  |  22.258578  |  62.7951549 |  24.291308  |  53.1953050 |  52.7497749 |     0.0000  |  60.3933867 |\n",
       "| TRINITY_DN22883_c0_g1_i1 |  35.456987  |     0.0000  |  26.971126  |  33.474789  |  45.348999  |  17.978082  |  63.5427163 |  35.762203  |  41.6696556 |  22.3659046 |   364.8448  |  53.5884980 |\n",
       "| TRINITY_DN31786_c0_g1_i1 | 109.847137  |   347.3809  |   9.709605  |  39.561115  |  50.387776  |  19.690281  | 133.8134849 |  50.606891  | 107.2771985 |  35.8698470 |   364.8448  |  77.4056083 |\n",
       "| TRINITY_DN100094_c0_g1_i1 |   0.000000  |     0.0000  |   0.000000  |   0.000000  |   0.000000  |   0.000000  |   0.0000000 |   0.000000  |   0.0000000 |   0.0000000 |   729.6896  |   0.8506111 |\n",
       "| TRINITY_DN79728_c0_g1_i1 |   5.561880  |   694.7618  |   5.394225  |  16.737395  |   6.298472  |  12.841487  |   5.9804909 |   6.747585  |  10.6390610 |  18.5679208 |     0.0000  |   7.6554997 |\n",
       "| TRINITY_DN2249_c0_g1_i1 | 128.618483  |   347.3809  | 120.830645  | 132.377575  | 114.632191  | 153.241751  | 103.9110302 | 125.505089  |  79.7929576 |  51.4837803 |     0.0000  | 126.7410509 |\n",
       "| TRINITY_DN20446_c0_g1_i1 | 116.104253  |     0.0000  | 112.199885  | 104.989112  |  68.023498  | 325.317683  | 127.0854326 | 106.611850  | 274.8424094 | 101.7015661 |   364.8448  |  83.3598859 |\n",
       "| TRINITY_DN22839_c0_g1_i1 | 155.732650  |  3126.4282  |  60.415323  |  63.906416  | 110.853108  |  32.531768  | 159.2305715 |  65.451579  | 100.1844912 | 104.6555535 |   364.8448  | 121.6373845 |\n",
       "| TRINITY_DN150202_c0_g1_i1 |   4.171410  |   347.3809  |   9.709605  |  10.651069  |  11.337250  |  10.273190  |   8.9707364 |   4.048551  |   7.0927073 |   5.4859766 |     0.0000  |   9.3567219 |\n",
       "| TRINITY_DN140959_c0_g1_i1 |  11.123761  |  1042.1427  |   6.473070  |   4.564744  |  10.077555  |   6.848793  |  11.2134205 |   4.723310  |   4.4329421 |   3.3759856 |     0.0000  |   7.6554997 |\n",
       "\n"
      ],
      "text/plain": [
       "                          LA_C_8     LA_F_1     MA_C_1     MA_C_2    \n",
       "TRINITY_DN130836_c0_g1_i1   8.342821  4515.9519   5.394225   1.521581\n",
       "TRINITY_DN6090_c0_g1_i1   114.018547     0.0000 149.959461 164.330783\n",
       "TRINITY_DN27882_c0_g1_i1    9.733291   694.7618  15.103831  10.651069\n",
       "TRINITY_DN33032_c0_g1_i1    8.342821   694.7618   6.473070   9.129488\n",
       "TRINITY_DN815_c0_g2_i2    241.246561     0.0000 189.876728 313.445753\n",
       "TRINITY_DN12072_c0_g1_i2  261.408377   694.7618 126.224870 176.503434\n",
       "TRINITY_DN131921_c0_g1_i1  56.314039   347.3809  53.942252  53.255346\n",
       "TRINITY_DN29174_c0_g1_i1   72.999680   347.3809  93.859519  80.643810\n",
       "TRINITY_DN39441_c0_g1_i1   25.723697     0.0000  43.153802  34.996371\n",
       "TRINITY_DN26877_c0_g1_i1   26.418932   694.7618   7.551915   4.564744\n",
       "TRINITY_DN4269_c0_g1_i1   157.818355   694.7618 133.776786 130.855994\n",
       "TRINITY_DN3953_c0_g1_i1    34.761752   347.3809  19.419211  27.388464\n",
       "TRINITY_DN11521_c0_g1_i2  289.913014   347.3809 167.220982 190.197666\n",
       "TRINITY_DN129682_c0_g1_i1  79.256795     0.0000   7.551915  31.953208\n",
       "TRINITY_DN47302_c0_g1_i1    4.171410   347.3809   3.236535   3.043163\n",
       "TRINITY_DN29508_c0_g1_i1  266.275022     0.0000 220.084389 255.625663\n",
       "TRINITY_DN38231_c0_g1_i1    2.780940   347.3809   0.000000   7.607907\n",
       "TRINITY_DN101804_c0_g1_i1  59.790214   347.3809  37.759577  47.169021\n",
       "TRINITY_DN10601_c1_g1_i1   60.485449 78160.7053  51.784562  63.906416\n",
       "TRINITY_DN21249_c2_g1_i1  364.303164   694.7618 256.765121 336.269473\n",
       "TRINITY_DN73329_c0_g1_i1    2.780940     0.0000   2.157690   4.564744\n",
       "TRINITY_DN41307_c0_g1_i1  100.113847     0.0000  29.128816  50.212184\n",
       "TRINITY_DN23606_c0_g1_i1   66.742564   347.3809 106.805660 121.726506\n",
       "TRINITY_DN9441_c0_g1_i1    45.885513     0.0000  20.498056  25.866883\n",
       "TRINITY_DN39327_c0_g1_i1    4.866645   347.3809  12.946141   9.129488\n",
       "TRINITY_DN51353_c0_g1_i1   66.047329   347.3809  26.971126  25.866883\n",
       "TRINITY_DN28333_c0_g1_i1   52.837863   347.3809  33.444196  33.474789\n",
       "TRINITY_DN6824_c0_g1_i6   262.798847  1042.1427 332.284274 228.237199\n",
       "TRINITY_DN7053_c0_g1_i1   944.129192     0.0000 556.684044 661.887877\n",
       "TRINITY_DN125936_c0_g1_i1   6.257115     0.0000   7.551915   6.086325\n",
       "TRINITY_DN4921_c0_g1_i1    79.256795  1042.1427  50.705717  48.690602\n",
       "TRINITY_DN8563_c0_g1_i3   164.770706     0.0000 249.213206 127.812831\n",
       "TRINITY_DN24569_c0_g1_i1  109.151902   347.3809 132.697941 219.107711\n",
       "TRINITY_DN12229_c0_g1_i1  118.189958     0.0000  96.017209  56.298509\n",
       "TRINITY_DN9643_c0_g1_i1    10.428526  2084.2855   7.551915  10.651069\n",
       "TRINITY_DN12262_c0_g1_i2   63.266389  1736.9046  46.390337  36.517952\n",
       "TRINITY_DN110617_c0_g1_i1  17.380876 22579.7593  19.419211   4.564744\n",
       "TRINITY_DN14115_c0_g1_i1   18.076111  1389.5236  23.734591  24.345301\n",
       "TRINITY_DN131764_c0_g1_i1  15.295171 12505.7128   8.630760   7.607907\n",
       "TRINITY_DN100013_c0_g1_i1  11.123761   347.3809   3.236535   3.043163\n",
       "TRINITY_DN14194_c0_g1_i1   50.752158  2084.2855  44.232647  59.341672\n",
       "TRINITY_DN22883_c0_g1_i1   35.456987     0.0000  26.971126  33.474789\n",
       "TRINITY_DN31786_c0_g1_i1  109.847137   347.3809   9.709605  39.561115\n",
       "TRINITY_DN100094_c0_g1_i1   0.000000     0.0000   0.000000   0.000000\n",
       "TRINITY_DN79728_c0_g1_i1    5.561880   694.7618   5.394225  16.737395\n",
       "TRINITY_DN2249_c0_g1_i1   128.618483   347.3809 120.830645 132.377575\n",
       "TRINITY_DN20446_c0_g1_i1  116.104253     0.0000 112.199885 104.989112\n",
       "TRINITY_DN22839_c0_g1_i1  155.732650  3126.4282  60.415323  63.906416\n",
       "TRINITY_DN150202_c0_g1_i1   4.171410   347.3809   9.709605  10.651069\n",
       "TRINITY_DN140959_c0_g1_i1  11.123761  1042.1427   6.473070   4.564744\n",
       "                          MA_C_4     MD_C_10    MD_C_11     MD_C_1    \n",
       "TRINITY_DN130836_c0_g1_i1   5.038778   5.136595   4.4853682   4.048551\n",
       "TRINITY_DN6090_c0_g1_i1   157.461801 181.493023 146.5220282 222.670320\n",
       "TRINITY_DN27882_c0_g1_i1    5.038778  14.553686   7.4756137  14.169929\n",
       "TRINITY_DN33032_c0_g1_i1   10.077555   9.417091   5.2329296   6.072827\n",
       "TRINITY_DN815_c0_g2_i2    311.144519 116.429487 217.5403582 204.451839\n",
       "TRINITY_DN12072_c0_g1_i2  238.082243 173.788131 299.0245474 118.757504\n",
       "TRINITY_DN131921_c0_g1_i1  23.934194  84.753817  79.9890664 103.238057\n",
       "TRINITY_DN29174_c0_g1_i1  119.670969  63.351338  78.4939437  95.140955\n",
       "TRINITY_DN39441_c0_g1_i1   22.674499  35.956165  38.8731912  22.267032\n",
       "TRINITY_DN26877_c0_g1_i1   11.337250  24.826876  32.8927002  18.218481\n",
       "TRINITY_DN4269_c0_g1_i1   153.682718  45.373256  75.5036982  99.864265\n",
       "TRINITY_DN3953_c0_g1_i1    40.310221  32.531768  35.1353843  27.665100\n",
       "TRINITY_DN11521_c0_g1_i2  210.368966 265.390741 261.6464789 141.024536\n",
       "TRINITY_DN129682_c0_g1_i1  32.752055  12.841487  25.4170865  14.844688\n",
       "TRINITY_DN47302_c0_g1_i1    3.779083   2.568297   5.9804909   2.699034\n",
       "TRINITY_DN29508_c0_g1_i1  289.729714 287.649320 257.9086721 152.495431\n",
       "TRINITY_DN38231_c0_g1_i1    5.038778   0.000000   2.9902455   3.373793\n",
       "TRINITY_DN101804_c0_g1_i1  50.387776  53.934247 105.4061529  41.160271\n",
       "TRINITY_DN10601_c1_g1_i1   78.101053 118.141685 105.4061529  51.281649\n",
       "TRINITY_DN21249_c2_g1_i1  461.048153 214.880891 316.9660202 276.651003\n",
       "TRINITY_DN73329_c0_g1_i1    1.259694   0.000000   0.7475614   2.024276\n",
       "TRINITY_DN41307_c0_g1_i1   44.089304  46.229355 145.0269055  31.038893\n",
       "TRINITY_DN23606_c0_g1_i1   94.477081 104.444098 108.3963984 105.937092\n",
       "TRINITY_DN9441_c0_g1_i1    39.050527  41.092760  69.5232073  22.267032\n",
       "TRINITY_DN39327_c0_g1_i1    3.779083   5.992694   2.9902455   8.771861\n",
       "TRINITY_DN51353_c0_g1_i1   52.907165  16.265884  36.6305071  26.315583\n",
       "TRINITY_DN28333_c0_g1_i1   57.945943  19.690281  38.1256298  40.485513\n",
       "TRINITY_DN6824_c0_g1_i6   309.884824 356.137253 509.8368532 417.000781\n",
       "TRINITY_DN7053_c0_g1_i1   624.808426 929.723694 853.7150827 524.287389\n",
       "TRINITY_DN125936_c0_g1_i1  10.077555   5.136595   2.9902455   7.422344\n",
       "TRINITY_DN4921_c0_g1_i1    36.531138  76.192826  81.4841892  73.548681\n",
       "TRINITY_DN8563_c0_g1_i3   138.566385 303.915204 121.8525030 147.097363\n",
       "TRINITY_DN24569_c0_g1_i1  158.721495  77.905024 126.3378713 122.131297\n",
       "TRINITY_DN12229_c0_g1_i1   51.647471  74.480627  46.3488048  92.441921\n",
       "TRINITY_DN9643_c0_g1_i1     8.817861  14.553686   4.4853682   8.771861\n",
       "TRINITY_DN12262_c0_g1_i2   51.647471  43.661057  51.5817344  48.582615\n",
       "TRINITY_DN110617_c0_g1_i1  15.116333  28.251272   8.9707364   8.097103\n",
       "TRINITY_DN14115_c0_g1_i1    8.817861   5.992694  16.4463501  13.495171\n",
       "TRINITY_DN131764_c0_g1_i1   8.817861  12.841487  12.7085433   8.771861\n",
       "TRINITY_DN100013_c0_g1_i1   3.779083   3.424397   6.7280523   4.048551\n",
       "TRINITY_DN14194_c0_g1_i1   73.062276  22.258578  62.7951549  24.291308\n",
       "TRINITY_DN22883_c0_g1_i1   45.348999  17.978082  63.5427163  35.762203\n",
       "TRINITY_DN31786_c0_g1_i1   50.387776  19.690281 133.8134849  50.606891\n",
       "TRINITY_DN100094_c0_g1_i1   0.000000   0.000000   0.0000000   0.000000\n",
       "TRINITY_DN79728_c0_g1_i1    6.298472  12.841487   5.9804909   6.747585\n",
       "TRINITY_DN2249_c0_g1_i1   114.632191 153.241751 103.9110302 125.505089\n",
       "TRINITY_DN20446_c0_g1_i1   68.023498 325.317683 127.0854326 106.611850\n",
       "TRINITY_DN22839_c0_g1_i1  110.853108  32.531768 159.2305715  65.451579\n",
       "TRINITY_DN150202_c0_g1_i1  11.337250  10.273190   8.9707364   4.048551\n",
       "TRINITY_DN140959_c0_g1_i1  10.077555   6.848793  11.2134205   4.723310\n",
       "                          MD_C_4      MD_C_7      MD_F_4     ML_C_10    \n",
       "TRINITY_DN130836_c0_g1_i1   5.3195305   4.6419802   729.6896   2.5518332\n",
       "TRINITY_DN6090_c0_g1_i1   189.7299213 180.6152294   364.8448 146.3051058\n",
       "TRINITY_DN27882_c0_g1_i1   11.5256494   9.2839604     0.0000  10.2073330\n",
       "TRINITY_DN33032_c0_g1_i1    5.3195305   5.9079748   729.6896  18.7134438\n",
       "TRINITY_DN815_c0_g2_i2    134.7614395 316.9206478   364.8448 281.5522675\n",
       "TRINITY_DN12072_c0_g1_i2  238.4922843 166.2672906  1094.5344 249.2290465\n",
       "TRINITY_DN131921_c0_g1_i1  57.6282471  80.1796579     0.0000  83.3598859\n",
       "TRINITY_DN29174_c0_g1_i1   58.5148356 142.2133932     0.0000  85.0611080\n",
       "TRINITY_DN39441_c0_g1_i1   32.8037714  13.0819442   729.6896 143.7532725\n",
       "TRINITY_DN26877_c0_g1_i1   25.7110641  16.4579298     0.0000  15.3109994\n",
       "TRINITY_DN4269_c0_g1_i1    54.0818935  94.9495949     0.0000  85.0611080\n",
       "TRINITY_DN3953_c0_g1_i1    27.4842409  24.0538974   364.8448  22.1158881\n",
       "TRINITY_DN11521_c0_g1_i2  265.9765252 162.0473086     0.0000 266.2412681\n",
       "TRINITY_DN129682_c0_g1_i1  42.5562440  17.7239244   364.8448  12.7591662\n",
       "TRINITY_DN47302_c0_g1_i1    2.6597653   4.6419802     0.0000  11.9085551\n",
       "TRINITY_DN29508_c0_g1_i1  304.0998272 189.0551933   364.8448 176.9271047\n",
       "TRINITY_DN38231_c0_g1_i1    1.7731768   0.8439964   364.8448   3.4024443\n",
       "TRINITY_DN101804_c0_g1_i1  76.2466039  51.4837803     0.0000  35.7256654\n",
       "TRINITY_DN10601_c1_g1_i1  100.1844912 118.1594958 63847.8415  55.2897202\n",
       "TRINITY_DN21249_c2_g1_i1  242.9252264 363.7624479     0.0000 434.6622619\n",
       "TRINITY_DN73329_c0_g1_i1    2.6597653   0.8439964   364.8448   2.5518332\n",
       "TRINITY_DN41307_c0_g1_i1  108.1637869  45.5758055   364.8448  66.3476643\n",
       "TRINITY_DN23606_c0_g1_i1   93.0917838  91.9956075     0.0000 103.7745518\n",
       "TRINITY_DN9441_c0_g1_i1    42.5562440  29.1178758   364.8448  36.5762764\n",
       "TRINITY_DN39327_c0_g1_i1   22.1647104   7.5959676   364.8448   1.7012222\n",
       "TRINITY_DN51353_c0_g1_i1   32.8037714  37.5578397     0.0000  41.6799429\n",
       "TRINITY_DN28333_c0_g1_i1   45.2160093  32.9158596     0.0000  60.3933867\n",
       "TRINITY_DN6824_c0_g1_i6   381.2330195 402.1642840     0.0000 456.7781500\n",
       "TRINITY_DN7053_c0_g1_i1   998.2985581 605.5674162  1094.5344 587.7722564\n",
       "TRINITY_DN125936_c0_g1_i1   5.3195305   6.7519712   364.8448   6.8048886\n",
       "TRINITY_DN4921_c0_g1_i1    78.0197807  38.4018361  1094.5344  45.9329983\n",
       "TRINITY_DN8563_c0_g1_i3   136.5346163 147.2773716   364.8448 148.8569390\n",
       "TRINITY_DN24569_c0_g1_i1  120.5760248 127.0214580     0.0000 136.0977728\n",
       "TRINITY_DN12229_c0_g1_i1   33.6903599  61.6117371   364.8448  39.9787208\n",
       "TRINITY_DN9643_c0_g1_i1     8.8658842  14.3479388  2553.9137   9.3567219\n",
       "TRINITY_DN12262_c0_g1_i2   69.1538966  37.5578397  5472.6721  24.6677213\n",
       "TRINITY_DN110617_c0_g1_i1   0.8865884  36.2918452 27728.2054  48.4848316\n",
       "TRINITY_DN14115_c0_g1_i1   11.5256494   5.4859766  4013.2929  14.4603884\n",
       "TRINITY_DN131764_c0_g1_i1  23.9378873   9.2839604 94494.8054   5.9542776\n",
       "TRINITY_DN100013_c0_g1_i1   4.4329421   7.1739694     0.0000   5.1036665\n",
       "TRINITY_DN14194_c0_g1_i1   53.1953050  52.7497749     0.0000  60.3933867\n",
       "TRINITY_DN22883_c0_g1_i1   41.6696556  22.3659046   364.8448  53.5884980\n",
       "TRINITY_DN31786_c0_g1_i1  107.2771985  35.8698470   364.8448  77.4056083\n",
       "TRINITY_DN100094_c0_g1_i1   0.0000000   0.0000000   729.6896   0.8506111\n",
       "TRINITY_DN79728_c0_g1_i1   10.6390610  18.5679208     0.0000   7.6554997\n",
       "TRINITY_DN2249_c0_g1_i1    79.7929576  51.4837803     0.0000 126.7410509\n",
       "TRINITY_DN20446_c0_g1_i1  274.8424094 101.7015661   364.8448  83.3598859\n",
       "TRINITY_DN22839_c0_g1_i1  100.1844912 104.6555535   364.8448 121.6373845\n",
       "TRINITY_DN150202_c0_g1_i1   7.0927073   5.4859766     0.0000   9.3567219\n",
       "TRINITY_DN140959_c0_g1_i1   4.4329421   3.3759856     0.0000   7.6554997"
      ]
     },
     "metadata": {},
     "output_type": "display_data"
    }
   ],
   "source": [
    "contam_subset <- norm_mat_sub[max.col(norm_mat_sub) %in% c(19,28),]\n",
    "contam_subset[1:50,18:29]"
   ]
  },
  {
   "cell_type": "markdown",
   "metadata": {},
   "source": [
    "Scrolling through, it's clear that these transcripts have the highest expression in at least one of the parasite samples. This is indicative of Loxo contamination in the Rhithro assembly. Interestingly, oftentimes even when the highest value is in a parasite column, the other parasite column has a value of zero. I am not quite sure what this could mean. Different expression patterns between the two parasite externae, with both ending up in the Rhithro assembly? \n",
    "\n",
    "Okay now I'm going to save the rownames for use later:"
   ]
  },
  {
   "cell_type": "code",
   "execution_count": 174,
   "metadata": {},
   "outputs": [
    {
     "data": {
      "text/html": [
       "5797"
      ],
      "text/latex": [
       "5797"
      ],
      "text/markdown": [
       "5797"
      ],
      "text/plain": [
       "[1] 5797"
      ]
     },
     "metadata": {},
     "output_type": "display_data"
    }
   ],
   "source": [
    "contam_IDs <- rownames(contam_subset)\n",
    "length(contam_IDs)"
   ]
  },
  {
   "cell_type": "markdown",
   "metadata": {},
   "source": [
    "There are 5797 transcripts that have higher expression in a parasite sample than any of the \"clean\" samples. It's a large number, but relative to the ~150K transcripts, not really."
   ]
  },
  {
   "cell_type": "markdown",
   "metadata": {},
   "source": [
    "Back to regularly scheduled programming. I am now going to remove the Loxo samples from the raw expression matrix and sample metadata, and make another DESeq dataset object. "
   ]
  },
  {
   "cell_type": "code",
   "execution_count": 77,
   "metadata": {},
   "outputs": [],
   "source": [
    "all_counts <- all_counts[,-c(29,41)]\n",
    "coldata <- coldata[-c(29,41),]"
   ]
  },
  {
   "cell_type": "markdown",
   "metadata": {},
   "source": [
    "Verify againg that the counts and metadata match up:"
   ]
  },
  {
   "cell_type": "code",
   "execution_count": 78,
   "metadata": {},
   "outputs": [
    {
     "data": {
      "text/html": [
       "TRUE"
      ],
      "text/latex": [
       "TRUE"
      ],
      "text/markdown": [
       "TRUE"
      ],
      "text/plain": [
       "[1] TRUE"
      ]
     },
     "metadata": {},
     "output_type": "display_data"
    }
   ],
   "source": [
    "all(rownames(coldata) == colnames(all_counts))"
   ]
  },
  {
   "cell_type": "markdown",
   "metadata": {},
   "source": [
    "Okay let's get started. This part of the analysis is just going to do a base comparison between uninfected and parasitized."
   ]
  },
  {
   "cell_type": "code",
   "execution_count": 81,
   "metadata": {},
   "outputs": [
    {
     "name": "stderr",
     "output_type": "stream",
     "text": [
      "converting counts to integer mode\n",
      "factor levels were dropped which had no samples\n"
     ]
    }
   ],
   "source": [
    "dds <- DESeqDataSetFromMatrix(countData = all_counts, colData = coldata, design = ~ condition)"
   ]
  },
  {
   "cell_type": "code",
   "execution_count": 84,
   "metadata": {},
   "outputs": [
    {
     "name": "stderr",
     "output_type": "stream",
     "text": [
      "estimating size factors\n",
      "estimating dispersions\n",
      "gene-wise dispersion estimates\n",
      "mean-dispersion relationship\n",
      "-- note: fitType='parametric', but the dispersion trend was not well captured by the\n",
      "   function: y = a/x + b, and a local regression fit was automatically substituted.\n",
      "   specify fitType='local' or 'mean' to avoid this message next time.\n",
      "final dispersion estimates\n",
      "fitting model and testing\n",
      "-- replacing outliers and refitting for 18094 genes\n",
      "-- DESeq argument 'minReplicatesForReplace' = 7 \n",
      "-- original counts are preserved in counts(dds)\n",
      "estimating dispersions\n",
      "fitting model and testing\n"
     ]
    }
   ],
   "source": [
    "library(\"BiocParallel\")\n",
    "register(MulticoreParam(8))\n",
    "dds <- DESeq(dds)"
   ]
  },
  {
   "cell_type": "code",
   "execution_count": 85,
   "metadata": {},
   "outputs": [],
   "source": [
    "res <- results(dds, alpha=0.05)"
   ]
  },
  {
   "cell_type": "code",
   "execution_count": 86,
   "metadata": {},
   "outputs": [
    {
     "name": "stdout",
     "output_type": "stream",
     "text": [
      "\n",
      "out of 148816 with nonzero total read count\n",
      "adjusted p-value < 0.05\n",
      "LFC > 0 (up)       : 1250, 0.84%\n",
      "LFC < 0 (down)     : 1127, 0.76%\n",
      "outliers [1]       : 0, 0%\n",
      "low counts [2]     : 43963, 30%\n",
      "(mean count < 1)\n",
      "[1] see 'cooksCutoff' argument of ?results\n",
      "[2] see 'independentFiltering' argument of ?results\n",
      "\n"
     ]
    }
   ],
   "source": [
    "summary(res)"
   ]
  },
  {
   "cell_type": "code",
   "execution_count": 87,
   "metadata": {},
   "outputs": [
    {
     "name": "stderr",
     "output_type": "stream",
     "text": [
      "using 'apeglm' for LFC shrinkage. If used in published research, please cite:\n",
      "    Zhu, A., Ibrahim, J.G., Love, M.I. (2018) Heavy-tailed prior distributions for\n",
      "    sequence count data: removing the noise and preserving large differences.\n",
      "    Bioinformatics. https://doi.org/10.1093/bioinformatics/bty895\n"
     ]
    }
   ],
   "source": [
    "resLFC <- lfcShrink(dds, coef=\"condition_P_vs_C\", type=\"apeglm\")"
   ]
  },
  {
   "cell_type": "code",
   "execution_count": 88,
   "metadata": {},
   "outputs": [
    {
     "data": {
      "image/png": "[encoded data removed]",
      "text/plain": [
       "Plot with title “”"
      ]
     },
     "metadata": {},
     "output_type": "display_data"
    }
   ],
   "source": [
    "plotMA(resLFC, ylim=c(-13,13))"
   ]
  },
  {
   "cell_type": "markdown",
   "metadata": {},
   "source": [
    "Here we see the pattern I alluded to earlier, where there is a cloud of extremely overexpressed (>10 LFC) in the infected relative to the control. It is my suspicion that these represent contamination from Loxo rather than an actually response by the crabs. \n",
    "\n",
    "Let's see if these match the transcript IDs we pulled out earlier as possible Loxo contaminant transcripts. \n",
    "\n",
    "First let's make an ordered data.frame of the significant transcripts."
   ]
  },
  {
   "cell_type": "code",
   "execution_count": 112,
   "metadata": {},
   "outputs": [
    {
     "data": {
      "text/html": [
       "<table>\n",
       "<thead><tr><th></th><th scope=col>baseMean</th><th scope=col>log2FoldChange</th><th scope=col>lfcSE</th><th scope=col>stat</th><th scope=col>pvalue</th><th scope=col>padj</th></tr></thead>\n",
       "<tbody>\n",
       "\t<tr><th scope=row>TRINITY_DN85899_c0_g1_i1</th><td> 1424.7840   </td><td>12.26715     </td><td>0.4445381    </td><td>27.59526     </td><td>1.268269e-167</td><td>1.997960e-164</td></tr>\n",
       "\t<tr><th scope=row>TRINITY_DN98899_c0_g1_i1</th><td> 1162.4834   </td><td>12.22471     </td><td>0.3937168    </td><td>31.04949     </td><td>1.159040e-211</td><td>5.318884e-208</td></tr>\n",
       "\t<tr><th scope=row>TRINITY_DN19987_c0_g1_i1</th><td>37383.9752   </td><td>12.10107     </td><td>0.3318683    </td><td>36.46348     </td><td>4.207132e-291</td><td>2.220272e-286</td></tr>\n",
       "\t<tr><th scope=row>TRINITY_DN50085_c0_g1_i1</th><td> 7216.9053   </td><td>12.06161     </td><td>0.3963491    </td><td>30.43177     </td><td>2.087523e-203</td><td>8.160515e-200</td></tr>\n",
       "\t<tr><th scope=row>TRINITY_DN74741_c0_g1_i1</th><td>  607.8118   </td><td>12.03959     </td><td>0.4835273    </td><td>24.89951     </td><td>7.532338e-137</td><td>7.718671e-134</td></tr>\n",
       "\t<tr><th scope=row>TRINITY_DN80409_c0_g1_i1</th><td>11692.3408   </td><td>12.03888     </td><td>0.3825126    </td><td>31.47316     </td><td>2.023887e-217</td><td>1.256572e-213</td></tr>\n",
       "\t<tr><th scope=row>TRINITY_DN60860_c0_g1_i1</th><td> 2188.9247   </td><td>12.00837     </td><td>0.4209431    </td><td>28.52730     </td><td>5.373763e-179</td><td>1.066520e-175</td></tr>\n",
       "\t<tr><th scope=row>TRINITY_DN157863_c0_g1_i1</th><td> 1872.3459   </td><td>11.99681     </td><td>0.4331513    </td><td>27.69657     </td><td>7.678425e-169</td><td>1.266316e-165</td></tr>\n",
       "\t<tr><th scope=row>TRINITY_DN135642_c0_g1_i1</th><td> 1755.0800   </td><td>11.98694     </td><td>0.5426055    </td><td>22.09144     </td><td>3.819859e-108</td><td>3.445970e-105</td></tr>\n",
       "\t<tr><th scope=row>TRINITY_DN50011_c0_g1_i1</th><td>23082.6038   </td><td>11.96841     </td><td>0.3934662    </td><td>30.41789     </td><td>3.186608e-203</td><td>1.201215e-199</td></tr>\n",
       "\t<tr><th scope=row>TRINITY_DN134734_c0_g1_i1</th><td>  851.8327   </td><td>11.89518     </td><td>0.4487790    </td><td>26.50566     </td><td>8.341217e-155</td><td>1.000453e-151</td></tr>\n",
       "\t<tr><th scope=row>TRINITY_DN86249_c0_g1_i1</th><td> 1617.9669   </td><td>11.87137     </td><td>0.5074222    </td><td>23.39545     </td><td>4.754588e-121</td><td>4.402081e-118</td></tr>\n",
       "\t<tr><th scope=row>TRINITY_DN57851_c0_g1_i1</th><td> 3003.1226   </td><td>11.86582     </td><td>0.3757768    </td><td>31.57678     </td><td>7.694790e-219</td><td>5.414465e-215</td></tr>\n",
       "\t<tr><th scope=row>TRINITY_DN91413_c0_g1_i1</th><td>  941.9773   </td><td>11.86082     </td><td>0.3983708    </td><td>29.77331     </td><td>8.659734e-195</td><td>2.405310e-191</td></tr>\n",
       "\t<tr><th scope=row>TRINITY_DN60293_c0_g1_i1</th><td> 1585.5205   </td><td>11.84327     </td><td>0.4755173    </td><td>24.90609     </td><td>6.392396e-137</td><td>6.614751e-134</td></tr>\n",
       "\t<tr><th scope=row>TRINITY_DN57720_c0_g1_i1</th><td> 1475.3705   </td><td>11.84260     </td><td>0.4305670    </td><td>27.50467     </td><td>1.543681e-166</td><td>2.361340e-163</td></tr>\n",
       "\t<tr><th scope=row>TRINITY_DN132183_c0_g1_i1</th><td>  756.5510   </td><td>11.83989     </td><td>0.4143299    </td><td>28.57601     </td><td>1.335195e-179</td><td>2.763278e-176</td></tr>\n",
       "\t<tr><th scope=row>TRINITY_DN103032_c0_g1_i1</th><td> 2380.5890   </td><td>11.83897     </td><td>0.3819963    </td><td>30.99236     </td><td>6.831517e-211</td><td>3.004387e-207</td></tr>\n",
       "\t<tr><th scope=row>TRINITY_DN80491_c0_g1_i1</th><td> 9266.9257   </td><td>11.83830     </td><td>0.3718812    </td><td>31.83355     </td><td>2.223694e-222</td><td>2.133695e-218</td></tr>\n",
       "\t<tr><th scope=row>TRINITY_DN155874_c0_g1_i1</th><td>  486.0349   </td><td>11.81813     </td><td>0.4062479    </td><td>29.09093     </td><td>4.674894e-186</td><td>1.121422e-182</td></tr>\n",
       "\t<tr><th scope=row>TRINITY_DN151054_c0_g1_i1</th><td>  523.5639   </td><td>11.79958     </td><td>0.4136321    </td><td>28.52676     </td><td>5.456483e-179</td><td>1.066520e-175</td></tr>\n",
       "\t<tr><th scope=row>TRINITY_DN47573_c0_g1_i1</th><td>25946.4941   </td><td>11.79203     </td><td>0.3408485    </td><td>34.59611     </td><td>2.890547e-262</td><td>1.016972e-257</td></tr>\n",
       "\t<tr><th scope=row>TRINITY_DN141230_c0_g1_i1</th><td> 2270.5299   </td><td>11.77924     </td><td>0.4872985    </td><td>24.17254     </td><td>4.327225e-129</td><td>4.228981e-126</td></tr>\n",
       "\t<tr><th scope=row>TRINITY_DN82676_c0_g1_i1</th><td>  780.8767   </td><td>11.77782     </td><td>0.4000173    </td><td>29.44326     </td><td>1.535521e-190</td><td>4.051779e-187</td></tr>\n",
       "\t<tr><th scope=row>TRINITY_DN120239_c0_g1_i1</th><td> 2688.1088   </td><td>11.77408     </td><td>0.4251674    </td><td>27.69281     </td><td>8.521949e-169</td><td>1.383807e-165</td></tr>\n",
       "\t<tr><th scope=row>TRINITY_DN142548_c0_g1_i1</th><td> 2093.4540   </td><td>11.77318     </td><td>0.4510599    </td><td>26.10114     </td><td>3.538541e-150</td><td>4.104241e-147</td></tr>\n",
       "\t<tr><th scope=row>TRINITY_DN94855_c0_g1_i1</th><td>  766.5092   </td><td>11.76948     </td><td>0.4100273    </td><td>28.70413     </td><td>3.388060e-181</td><td>7.298019e-178</td></tr>\n",
       "\t<tr><th scope=row>TRINITY_DN114680_c0_g1_i1</th><td> 5862.3102   </td><td>11.76823     </td><td>0.4576123    </td><td>25.71659     </td><td>7.624711e-146</td><td>8.471294e-143</td></tr>\n",
       "\t<tr><th scope=row>TRINITY_DN103226_c0_g1_i1</th><td>  717.1787   </td><td>11.76755     </td><td>0.4408063    </td><td>26.69552     </td><td>5.305766e-157</td><td>6.588388e-154</td></tr>\n",
       "\t<tr><th scope=row>TRINITY_DN74222_c0_g1_i1</th><td>  922.8027   </td><td>11.76297     </td><td>0.4315614    </td><td>27.25678     </td><td>1.381264e-163</td><td>1.970130e-160</td></tr>\n",
       "\t<tr><th scope=row>...</th><td>...</td><td>...</td><td>...</td><td>...</td><td>...</td><td>...</td></tr>\n",
       "\t<tr><th scope=row>TRINITY_DN14157_c0_g1_i1</th><td> 83.89386   </td><td> -7.879530  </td><td>1.649771    </td><td>-4.776134   </td><td>1.786973e-06</td><td>3.332357e-04</td></tr>\n",
       "\t<tr><th scope=row>TRINITY_DN21051_c0_g1_i1</th><td> 62.58587   </td><td> -7.891642  </td><td>1.623241    </td><td>-4.861658   </td><td>1.164068e-06</td><td>2.320280e-04</td></tr>\n",
       "\t<tr><th scope=row>TRINITY_DN147449_c0_g1_i1</th><td> 19.08123   </td><td> -7.906902  </td><td>2.315797    </td><td>-3.414333   </td><td>6.393839e-04</td><td>3.332627e-02</td></tr>\n",
       "\t<tr><th scope=row>TRINITY_DN23781_c0_g1_i1</th><td> 79.38438   </td><td> -7.956873  </td><td>2.257945    </td><td>-3.523944   </td><td>4.251739e-04</td><td>2.484842e-02</td></tr>\n",
       "\t<tr><th scope=row>TRINITY_DN13366_c0_g1_i1</th><td> 64.25435   </td><td> -7.973684  </td><td>2.350005    </td><td>-3.393049   </td><td>6.911921e-04</td><td>3.531168e-02</td></tr>\n",
       "\t<tr><th scope=row>TRINITY_DN93609_c0_g1_i1</th><td> 32.58295   </td><td> -7.977969  </td><td>2.253314    </td><td>-3.540549   </td><td>3.992962e-04</td><td>2.371689e-02</td></tr>\n",
       "\t<tr><th scope=row>TRINITY_DN15912_c0_g1_i1</th><td> 30.95554   </td><td> -7.996108  </td><td>2.115147    </td><td>-3.780403   </td><td>1.565747e-04</td><td>1.194949e-02</td></tr>\n",
       "\t<tr><th scope=row>TRINITY_DN95228_c0_g1_i1</th><td> 47.03367   </td><td> -8.039965  </td><td>2.073350    </td><td>-3.877766   </td><td>1.054199e-04</td><td>8.823839e-03</td></tr>\n",
       "\t<tr><th scope=row>TRINITY_DN80778_c0_g1_i1</th><td> 58.54765   </td><td> -8.051339  </td><td>1.785184    </td><td>-4.510090   </td><td>6.480008e-06</td><td>9.926733e-04</td></tr>\n",
       "\t<tr><th scope=row>TRINITY_DN4715_c0_g1_i1</th><td>102.65025   </td><td> -8.082352  </td><td>1.848850    </td><td>-4.371556   </td><td>1.233644e-05</td><td>1.682283e-03</td></tr>\n",
       "\t<tr><th scope=row>TRINITY_DN92710_c0_g1_i1</th><td> 50.24832   </td><td> -8.104797  </td><td>1.991429    </td><td>-4.069840   </td><td>4.704537e-05</td><td>4.858654e-03</td></tr>\n",
       "\t<tr><th scope=row>TRINITY_DN109572_c0_g1_i1</th><td>151.26552   </td><td> -8.158647  </td><td>1.473410    </td><td>-5.537257   </td><td>3.072457e-08</td><td>9.083802e-06</td></tr>\n",
       "\t<tr><th scope=row>TRINITY_DN94316_c0_g1_i1</th><td> 74.93746   </td><td> -8.164761  </td><td>2.152372    </td><td>-3.793378   </td><td>1.486117e-04</td><td>1.148292e-02</td></tr>\n",
       "\t<tr><th scope=row>TRINITY_DN5906_c1_g1_i1</th><td> 53.95139   </td><td> -8.208567  </td><td>2.212298    </td><td>-3.710425   </td><td>2.069114e-04</td><td>1.473563e-02</td></tr>\n",
       "\t<tr><th scope=row>TRINITY_DN272_c0_g1_i2</th><td> 26.76452   </td><td> -8.236143  </td><td>1.815758    </td><td>-4.535925   </td><td>5.735151e-06</td><td>8.954640e-04</td></tr>\n",
       "\t<tr><th scope=row>TRINITY_DN14517_c0_g1_i1</th><td> 42.16978   </td><td> -8.294827  </td><td>2.439259    </td><td>-3.400553   </td><td>6.724976e-04</td><td>3.455734e-02</td></tr>\n",
       "\t<tr><th scope=row>TRINITY_DN1876_c0_g2_i1</th><td> 14.92489   </td><td> -8.372680  </td><td>2.266814    </td><td>-3.693590   </td><td>2.211103e-04</td><td>1.553778e-02</td></tr>\n",
       "\t<tr><th scope=row>TRINITY_DN129491_c0_g1_i1</th><td> 19.90878   </td><td> -8.428341  </td><td>2.464891    </td><td>-3.419356   </td><td>6.276955e-04</td><td>3.283053e-02</td></tr>\n",
       "\t<tr><th scope=row>TRINITY_DN17217_c0_g1_i1</th><td>575.96279   </td><td> -8.483669  </td><td>1.438127    </td><td>-5.899111   </td><td>3.654650e-09</td><td>1.321031e-06</td></tr>\n",
       "\t<tr><th scope=row>TRINITY_DN3369_c0_g1_i1</th><td>331.62025   </td><td> -8.521172  </td><td>1.536952    </td><td>-5.544202   </td><td>2.952975e-08</td><td>8.804536e-06</td></tr>\n",
       "\t<tr><th scope=row>TRINITY_DN99748_c0_g1_i1</th><td> 21.15845   </td><td> -8.524719  </td><td>2.343272    </td><td>-3.637955   </td><td>2.748119e-04</td><td>1.823120e-02</td></tr>\n",
       "\t<tr><th scope=row>TRINITY_DN3684_c0_g1_i1</th><td> 36.30526   </td><td> -8.589969  </td><td>2.262640    </td><td>-3.796437   </td><td>1.467908e-04</td><td>1.137553e-02</td></tr>\n",
       "\t<tr><th scope=row>TRINITY_DN8875_c0_g1_i1</th><td> 47.60278   </td><td> -8.646215  </td><td>1.978614    </td><td>-4.369834   </td><td>1.243410e-05</td><td>1.693412e-03</td></tr>\n",
       "\t<tr><th scope=row>TRINITY_DN9318_c0_g1_i1</th><td> 69.63697   </td><td> -8.680717  </td><td>1.864791    </td><td>-4.655062   </td><td>3.238827e-06</td><td>5.613329e-04</td></tr>\n",
       "\t<tr><th scope=row>TRINITY_DN6327_c0_g1_i2</th><td>234.95478   </td><td> -8.776971  </td><td>1.818974    </td><td>-4.825231   </td><td>1.398413e-06</td><td>2.721093e-04</td></tr>\n",
       "\t<tr><th scope=row>TRINITY_DN93264_c0_g1_i1</th><td> 12.45550   </td><td> -9.272850  </td><td>2.388006    </td><td>-3.883093   </td><td>1.031361e-04</td><td>8.653265e-03</td></tr>\n",
       "\t<tr><th scope=row>TRINITY_DN2414_c0_g1_i1</th><td> 20.18046   </td><td>-10.134620  </td><td>2.990890    </td><td>-3.388496   </td><td>7.027702e-04</td><td>3.564440e-02</td></tr>\n",
       "\t<tr><th scope=row>TRINITY_DN12675_c0_g1_i1</th><td> 12.10526   </td><td>-23.783258  </td><td>2.991012    </td><td>-7.951576   </td><td>1.841534e-15</td><td>1.079835e-12</td></tr>\n",
       "\t<tr><th scope=row>TRINITY_DN111888_c0_g1_i1</th><td> 15.07193   </td><td>-24.081371  </td><td>2.990952    </td><td>-8.051407   </td><td>8.184782e-16</td><td>4.880720e-13</td></tr>\n",
       "\t<tr><th scope=row>TRINITY_DN113336_c0_g1_i1</th><td> 19.26839   </td><td>-24.174535  </td><td>2.990899    </td><td>-8.082699   </td><td>6.334868e-16</td><td>3.799049e-13</td></tr>\n",
       "</tbody>\n",
       "</table>\n"
      ],
      "text/latex": [
       "\\begin{tabular}{r|llllll}\n",
       "  & baseMean & log2FoldChange & lfcSE & stat & pvalue & padj\\\\\n",
       "\\hline\n",
       "\tTRINITY\\_DN85899\\_c0\\_g1\\_i1 &  1424.7840    & 12.26715      & 0.4445381     & 27.59526      & 1.268269e-167 & 1.997960e-164\\\\\n",
       "\tTRINITY\\_DN98899\\_c0\\_g1\\_i1 &  1162.4834    & 12.22471      & 0.3937168     & 31.04949      & 1.159040e-211 & 5.318884e-208\\\\\n",
       "\tTRINITY\\_DN19987\\_c0\\_g1\\_i1 & 37383.9752    & 12.10107      & 0.3318683     & 36.46348      & 4.207132e-291 & 2.220272e-286\\\\\n",
       "\tTRINITY\\_DN50085\\_c0\\_g1\\_i1 &  7216.9053    & 12.06161      & 0.3963491     & 30.43177      & 2.087523e-203 & 8.160515e-200\\\\\n",
       "\tTRINITY\\_DN74741\\_c0\\_g1\\_i1 &   607.8118    & 12.03959      & 0.4835273     & 24.89951      & 7.532338e-137 & 7.718671e-134\\\\\n",
       "\tTRINITY\\_DN80409\\_c0\\_g1\\_i1 & 11692.3408    & 12.03888      & 0.3825126     & 31.47316      & 2.023887e-217 & 1.256572e-213\\\\\n",
       "\tTRINITY\\_DN60860\\_c0\\_g1\\_i1 &  2188.9247    & 12.00837      & 0.4209431     & 28.52730      & 5.373763e-179 & 1.066520e-175\\\\\n",
       "\tTRINITY\\_DN157863\\_c0\\_g1\\_i1 &  1872.3459    & 11.99681      & 0.4331513     & 27.69657      & 7.678425e-169 & 1.266316e-165\\\\\n",
       "\tTRINITY\\_DN135642\\_c0\\_g1\\_i1 &  1755.0800    & 11.98694      & 0.5426055     & 22.09144      & 3.819859e-108 & 3.445970e-105\\\\\n",
       "\tTRINITY\\_DN50011\\_c0\\_g1\\_i1 & 23082.6038    & 11.96841      & 0.3934662     & 30.41789      & 3.186608e-203 & 1.201215e-199\\\\\n",
       "\tTRINITY\\_DN134734\\_c0\\_g1\\_i1 &   851.8327    & 11.89518      & 0.4487790     & 26.50566      & 8.341217e-155 & 1.000453e-151\\\\\n",
       "\tTRINITY\\_DN86249\\_c0\\_g1\\_i1 &  1617.9669    & 11.87137      & 0.5074222     & 23.39545      & 4.754588e-121 & 4.402081e-118\\\\\n",
       "\tTRINITY\\_DN57851\\_c0\\_g1\\_i1 &  3003.1226    & 11.86582      & 0.3757768     & 31.57678      & 7.694790e-219 & 5.414465e-215\\\\\n",
       "\tTRINITY\\_DN91413\\_c0\\_g1\\_i1 &   941.9773    & 11.86082      & 0.3983708     & 29.77331      & 8.659734e-195 & 2.405310e-191\\\\\n",
       "\tTRINITY\\_DN60293\\_c0\\_g1\\_i1 &  1585.5205    & 11.84327      & 0.4755173     & 24.90609      & 6.392396e-137 & 6.614751e-134\\\\\n",
       "\tTRINITY\\_DN57720\\_c0\\_g1\\_i1 &  1475.3705    & 11.84260      & 0.4305670     & 27.50467      & 1.543681e-166 & 2.361340e-163\\\\\n",
       "\tTRINITY\\_DN132183\\_c0\\_g1\\_i1 &   756.5510    & 11.83989      & 0.4143299     & 28.57601      & 1.335195e-179 & 2.763278e-176\\\\\n",
       "\tTRINITY\\_DN103032\\_c0\\_g1\\_i1 &  2380.5890    & 11.83897      & 0.3819963     & 30.99236      & 6.831517e-211 & 3.004387e-207\\\\\n",
       "\tTRINITY\\_DN80491\\_c0\\_g1\\_i1 &  9266.9257    & 11.83830      & 0.3718812     & 31.83355      & 2.223694e-222 & 2.133695e-218\\\\\n",
       "\tTRINITY\\_DN155874\\_c0\\_g1\\_i1 &   486.0349    & 11.81813      & 0.4062479     & 29.09093      & 4.674894e-186 & 1.121422e-182\\\\\n",
       "\tTRINITY\\_DN151054\\_c0\\_g1\\_i1 &   523.5639    & 11.79958      & 0.4136321     & 28.52676      & 5.456483e-179 & 1.066520e-175\\\\\n",
       "\tTRINITY\\_DN47573\\_c0\\_g1\\_i1 & 25946.4941    & 11.79203      & 0.3408485     & 34.59611      & 2.890547e-262 & 1.016972e-257\\\\\n",
       "\tTRINITY\\_DN141230\\_c0\\_g1\\_i1 &  2270.5299    & 11.77924      & 0.4872985     & 24.17254      & 4.327225e-129 & 4.228981e-126\\\\\n",
       "\tTRINITY\\_DN82676\\_c0\\_g1\\_i1 &   780.8767    & 11.77782      & 0.4000173     & 29.44326      & 1.535521e-190 & 4.051779e-187\\\\\n",
       "\tTRINITY\\_DN120239\\_c0\\_g1\\_i1 &  2688.1088    & 11.77408      & 0.4251674     & 27.69281      & 8.521949e-169 & 1.383807e-165\\\\\n",
       "\tTRINITY\\_DN142548\\_c0\\_g1\\_i1 &  2093.4540    & 11.77318      & 0.4510599     & 26.10114      & 3.538541e-150 & 4.104241e-147\\\\\n",
       "\tTRINITY\\_DN94855\\_c0\\_g1\\_i1 &   766.5092    & 11.76948      & 0.4100273     & 28.70413      & 3.388060e-181 & 7.298019e-178\\\\\n",
       "\tTRINITY\\_DN114680\\_c0\\_g1\\_i1 &  5862.3102    & 11.76823      & 0.4576123     & 25.71659      & 7.624711e-146 & 8.471294e-143\\\\\n",
       "\tTRINITY\\_DN103226\\_c0\\_g1\\_i1 &   717.1787    & 11.76755      & 0.4408063     & 26.69552      & 5.305766e-157 & 6.588388e-154\\\\\n",
       "\tTRINITY\\_DN74222\\_c0\\_g1\\_i1 &   922.8027    & 11.76297      & 0.4315614     & 27.25678      & 1.381264e-163 & 1.970130e-160\\\\\n",
       "\t... & ... & ... & ... & ... & ... & ...\\\\\n",
       "\tTRINITY\\_DN14157\\_c0\\_g1\\_i1 &  83.89386    &  -7.879530   & 1.649771     & -4.776134    & 1.786973e-06 & 3.332357e-04\\\\\n",
       "\tTRINITY\\_DN21051\\_c0\\_g1\\_i1 &  62.58587    &  -7.891642   & 1.623241     & -4.861658    & 1.164068e-06 & 2.320280e-04\\\\\n",
       "\tTRINITY\\_DN147449\\_c0\\_g1\\_i1 &  19.08123    &  -7.906902   & 2.315797     & -3.414333    & 6.393839e-04 & 3.332627e-02\\\\\n",
       "\tTRINITY\\_DN23781\\_c0\\_g1\\_i1 &  79.38438    &  -7.956873   & 2.257945     & -3.523944    & 4.251739e-04 & 2.484842e-02\\\\\n",
       "\tTRINITY\\_DN13366\\_c0\\_g1\\_i1 &  64.25435    &  -7.973684   & 2.350005     & -3.393049    & 6.911921e-04 & 3.531168e-02\\\\\n",
       "\tTRINITY\\_DN93609\\_c0\\_g1\\_i1 &  32.58295    &  -7.977969   & 2.253314     & -3.540549    & 3.992962e-04 & 2.371689e-02\\\\\n",
       "\tTRINITY\\_DN15912\\_c0\\_g1\\_i1 &  30.95554    &  -7.996108   & 2.115147     & -3.780403    & 1.565747e-04 & 1.194949e-02\\\\\n",
       "\tTRINITY\\_DN95228\\_c0\\_g1\\_i1 &  47.03367    &  -8.039965   & 2.073350     & -3.877766    & 1.054199e-04 & 8.823839e-03\\\\\n",
       "\tTRINITY\\_DN80778\\_c0\\_g1\\_i1 &  58.54765    &  -8.051339   & 1.785184     & -4.510090    & 6.480008e-06 & 9.926733e-04\\\\\n",
       "\tTRINITY\\_DN4715\\_c0\\_g1\\_i1 & 102.65025    &  -8.082352   & 1.848850     & -4.371556    & 1.233644e-05 & 1.682283e-03\\\\\n",
       "\tTRINITY\\_DN92710\\_c0\\_g1\\_i1 &  50.24832    &  -8.104797   & 1.991429     & -4.069840    & 4.704537e-05 & 4.858654e-03\\\\\n",
       "\tTRINITY\\_DN109572\\_c0\\_g1\\_i1 & 151.26552    &  -8.158647   & 1.473410     & -5.537257    & 3.072457e-08 & 9.083802e-06\\\\\n",
       "\tTRINITY\\_DN94316\\_c0\\_g1\\_i1 &  74.93746    &  -8.164761   & 2.152372     & -3.793378    & 1.486117e-04 & 1.148292e-02\\\\\n",
       "\tTRINITY\\_DN5906\\_c1\\_g1\\_i1 &  53.95139    &  -8.208567   & 2.212298     & -3.710425    & 2.069114e-04 & 1.473563e-02\\\\\n",
       "\tTRINITY\\_DN272\\_c0\\_g1\\_i2 &  26.76452    &  -8.236143   & 1.815758     & -4.535925    & 5.735151e-06 & 8.954640e-04\\\\\n",
       "\tTRINITY\\_DN14517\\_c0\\_g1\\_i1 &  42.16978    &  -8.294827   & 2.439259     & -3.400553    & 6.724976e-04 & 3.455734e-02\\\\\n",
       "\tTRINITY\\_DN1876\\_c0\\_g2\\_i1 &  14.92489    &  -8.372680   & 2.266814     & -3.693590    & 2.211103e-04 & 1.553778e-02\\\\\n",
       "\tTRINITY\\_DN129491\\_c0\\_g1\\_i1 &  19.90878    &  -8.428341   & 2.464891     & -3.419356    & 6.276955e-04 & 3.283053e-02\\\\\n",
       "\tTRINITY\\_DN17217\\_c0\\_g1\\_i1 & 575.96279    &  -8.483669   & 1.438127     & -5.899111    & 3.654650e-09 & 1.321031e-06\\\\\n",
       "\tTRINITY\\_DN3369\\_c0\\_g1\\_i1 & 331.62025    &  -8.521172   & 1.536952     & -5.544202    & 2.952975e-08 & 8.804536e-06\\\\\n",
       "\tTRINITY\\_DN99748\\_c0\\_g1\\_i1 &  21.15845    &  -8.524719   & 2.343272     & -3.637955    & 2.748119e-04 & 1.823120e-02\\\\\n",
       "\tTRINITY\\_DN3684\\_c0\\_g1\\_i1 &  36.30526    &  -8.589969   & 2.262640     & -3.796437    & 1.467908e-04 & 1.137553e-02\\\\\n",
       "\tTRINITY\\_DN8875\\_c0\\_g1\\_i1 &  47.60278    &  -8.646215   & 1.978614     & -4.369834    & 1.243410e-05 & 1.693412e-03\\\\\n",
       "\tTRINITY\\_DN9318\\_c0\\_g1\\_i1 &  69.63697    &  -8.680717   & 1.864791     & -4.655062    & 3.238827e-06 & 5.613329e-04\\\\\n",
       "\tTRINITY\\_DN6327\\_c0\\_g1\\_i2 & 234.95478    &  -8.776971   & 1.818974     & -4.825231    & 1.398413e-06 & 2.721093e-04\\\\\n",
       "\tTRINITY\\_DN93264\\_c0\\_g1\\_i1 &  12.45550    &  -9.272850   & 2.388006     & -3.883093    & 1.031361e-04 & 8.653265e-03\\\\\n",
       "\tTRINITY\\_DN2414\\_c0\\_g1\\_i1 &  20.18046    & -10.134620   & 2.990890     & -3.388496    & 7.027702e-04 & 3.564440e-02\\\\\n",
       "\tTRINITY\\_DN12675\\_c0\\_g1\\_i1 &  12.10526    & -23.783258   & 2.991012     & -7.951576    & 1.841534e-15 & 1.079835e-12\\\\\n",
       "\tTRINITY\\_DN111888\\_c0\\_g1\\_i1 &  15.07193    & -24.081371   & 2.990952     & -8.051407    & 8.184782e-16 & 4.880720e-13\\\\\n",
       "\tTRINITY\\_DN113336\\_c0\\_g1\\_i1 &  19.26839    & -24.174535   & 2.990899     & -8.082699    & 6.334868e-16 & 3.799049e-13\\\\\n",
       "\\end{tabular}\n"
      ],
      "text/markdown": [
       "\n",
       "| <!--/--> | baseMean | log2FoldChange | lfcSE | stat | pvalue | padj |\n",
       "|---|---|---|---|---|---|---|\n",
       "| TRINITY_DN85899_c0_g1_i1 |  1424.7840    | 12.26715      | 0.4445381     | 27.59526      | 1.268269e-167 | 1.997960e-164 |\n",
       "| TRINITY_DN98899_c0_g1_i1 |  1162.4834    | 12.22471      | 0.3937168     | 31.04949      | 1.159040e-211 | 5.318884e-208 |\n",
       "| TRINITY_DN19987_c0_g1_i1 | 37383.9752    | 12.10107      | 0.3318683     | 36.46348      | 4.207132e-291 | 2.220272e-286 |\n",
       "| TRINITY_DN50085_c0_g1_i1 |  7216.9053    | 12.06161      | 0.3963491     | 30.43177      | 2.087523e-203 | 8.160515e-200 |\n",
       "| TRINITY_DN74741_c0_g1_i1 |   607.8118    | 12.03959      | 0.4835273     | 24.89951      | 7.532338e-137 | 7.718671e-134 |\n",
       "| TRINITY_DN80409_c0_g1_i1 | 11692.3408    | 12.03888      | 0.3825126     | 31.47316      | 2.023887e-217 | 1.256572e-213 |\n",
       "| TRINITY_DN60860_c0_g1_i1 |  2188.9247    | 12.00837      | 0.4209431     | 28.52730      | 5.373763e-179 | 1.066520e-175 |\n",
       "| TRINITY_DN157863_c0_g1_i1 |  1872.3459    | 11.99681      | 0.4331513     | 27.69657      | 7.678425e-169 | 1.266316e-165 |\n",
       "| TRINITY_DN135642_c0_g1_i1 |  1755.0800    | 11.98694      | 0.5426055     | 22.09144      | 3.819859e-108 | 3.445970e-105 |\n",
       "| TRINITY_DN50011_c0_g1_i1 | 23082.6038    | 11.96841      | 0.3934662     | 30.41789      | 3.186608e-203 | 1.201215e-199 |\n",
       "| TRINITY_DN134734_c0_g1_i1 |   851.8327    | 11.89518      | 0.4487790     | 26.50566      | 8.341217e-155 | 1.000453e-151 |\n",
       "| TRINITY_DN86249_c0_g1_i1 |  1617.9669    | 11.87137      | 0.5074222     | 23.39545      | 4.754588e-121 | 4.402081e-118 |\n",
       "| TRINITY_DN57851_c0_g1_i1 |  3003.1226    | 11.86582      | 0.3757768     | 31.57678      | 7.694790e-219 | 5.414465e-215 |\n",
       "| TRINITY_DN91413_c0_g1_i1 |   941.9773    | 11.86082      | 0.3983708     | 29.77331      | 8.659734e-195 | 2.405310e-191 |\n",
       "| TRINITY_DN60293_c0_g1_i1 |  1585.5205    | 11.84327      | 0.4755173     | 24.90609      | 6.392396e-137 | 6.614751e-134 |\n",
       "| TRINITY_DN57720_c0_g1_i1 |  1475.3705    | 11.84260      | 0.4305670     | 27.50467      | 1.543681e-166 | 2.361340e-163 |\n",
       "| TRINITY_DN132183_c0_g1_i1 |   756.5510    | 11.83989      | 0.4143299     | 28.57601      | 1.335195e-179 | 2.763278e-176 |\n",
       "| TRINITY_DN103032_c0_g1_i1 |  2380.5890    | 11.83897      | 0.3819963     | 30.99236      | 6.831517e-211 | 3.004387e-207 |\n",
       "| TRINITY_DN80491_c0_g1_i1 |  9266.9257    | 11.83830      | 0.3718812     | 31.83355      | 2.223694e-222 | 2.133695e-218 |\n",
       "| TRINITY_DN155874_c0_g1_i1 |   486.0349    | 11.81813      | 0.4062479     | 29.09093      | 4.674894e-186 | 1.121422e-182 |\n",
       "| TRINITY_DN151054_c0_g1_i1 |   523.5639    | 11.79958      | 0.4136321     | 28.52676      | 5.456483e-179 | 1.066520e-175 |\n",
       "| TRINITY_DN47573_c0_g1_i1 | 25946.4941    | 11.79203      | 0.3408485     | 34.59611      | 2.890547e-262 | 1.016972e-257 |\n",
       "| TRINITY_DN141230_c0_g1_i1 |  2270.5299    | 11.77924      | 0.4872985     | 24.17254      | 4.327225e-129 | 4.228981e-126 |\n",
       "| TRINITY_DN82676_c0_g1_i1 |   780.8767    | 11.77782      | 0.4000173     | 29.44326      | 1.535521e-190 | 4.051779e-187 |\n",
       "| TRINITY_DN120239_c0_g1_i1 |  2688.1088    | 11.77408      | 0.4251674     | 27.69281      | 8.521949e-169 | 1.383807e-165 |\n",
       "| TRINITY_DN142548_c0_g1_i1 |  2093.4540    | 11.77318      | 0.4510599     | 26.10114      | 3.538541e-150 | 4.104241e-147 |\n",
       "| TRINITY_DN94855_c0_g1_i1 |   766.5092    | 11.76948      | 0.4100273     | 28.70413      | 3.388060e-181 | 7.298019e-178 |\n",
       "| TRINITY_DN114680_c0_g1_i1 |  5862.3102    | 11.76823      | 0.4576123     | 25.71659      | 7.624711e-146 | 8.471294e-143 |\n",
       "| TRINITY_DN103226_c0_g1_i1 |   717.1787    | 11.76755      | 0.4408063     | 26.69552      | 5.305766e-157 | 6.588388e-154 |\n",
       "| TRINITY_DN74222_c0_g1_i1 |   922.8027    | 11.76297      | 0.4315614     | 27.25678      | 1.381264e-163 | 1.970130e-160 |\n",
       "| ... | ... | ... | ... | ... | ... | ... |\n",
       "| TRINITY_DN14157_c0_g1_i1 |  83.89386    |  -7.879530   | 1.649771     | -4.776134    | 1.786973e-06 | 3.332357e-04 |\n",
       "| TRINITY_DN21051_c0_g1_i1 |  62.58587    |  -7.891642   | 1.623241     | -4.861658    | 1.164068e-06 | 2.320280e-04 |\n",
       "| TRINITY_DN147449_c0_g1_i1 |  19.08123    |  -7.906902   | 2.315797     | -3.414333    | 6.393839e-04 | 3.332627e-02 |\n",
       "| TRINITY_DN23781_c0_g1_i1 |  79.38438    |  -7.956873   | 2.257945     | -3.523944    | 4.251739e-04 | 2.484842e-02 |\n",
       "| TRINITY_DN13366_c0_g1_i1 |  64.25435    |  -7.973684   | 2.350005     | -3.393049    | 6.911921e-04 | 3.531168e-02 |\n",
       "| TRINITY_DN93609_c0_g1_i1 |  32.58295    |  -7.977969   | 2.253314     | -3.540549    | 3.992962e-04 | 2.371689e-02 |\n",
       "| TRINITY_DN15912_c0_g1_i1 |  30.95554    |  -7.996108   | 2.115147     | -3.780403    | 1.565747e-04 | 1.194949e-02 |\n",
       "| TRINITY_DN95228_c0_g1_i1 |  47.03367    |  -8.039965   | 2.073350     | -3.877766    | 1.054199e-04 | 8.823839e-03 |\n",
       "| TRINITY_DN80778_c0_g1_i1 |  58.54765    |  -8.051339   | 1.785184     | -4.510090    | 6.480008e-06 | 9.926733e-04 |\n",
       "| TRINITY_DN4715_c0_g1_i1 | 102.65025    |  -8.082352   | 1.848850     | -4.371556    | 1.233644e-05 | 1.682283e-03 |\n",
       "| TRINITY_DN92710_c0_g1_i1 |  50.24832    |  -8.104797   | 1.991429     | -4.069840    | 4.704537e-05 | 4.858654e-03 |\n",
       "| TRINITY_DN109572_c0_g1_i1 | 151.26552    |  -8.158647   | 1.473410     | -5.537257    | 3.072457e-08 | 9.083802e-06 |\n",
       "| TRINITY_DN94316_c0_g1_i1 |  74.93746    |  -8.164761   | 2.152372     | -3.793378    | 1.486117e-04 | 1.148292e-02 |\n",
       "| TRINITY_DN5906_c1_g1_i1 |  53.95139    |  -8.208567   | 2.212298     | -3.710425    | 2.069114e-04 | 1.473563e-02 |\n",
       "| TRINITY_DN272_c0_g1_i2 |  26.76452    |  -8.236143   | 1.815758     | -4.535925    | 5.735151e-06 | 8.954640e-04 |\n",
       "| TRINITY_DN14517_c0_g1_i1 |  42.16978    |  -8.294827   | 2.439259     | -3.400553    | 6.724976e-04 | 3.455734e-02 |\n",
       "| TRINITY_DN1876_c0_g2_i1 |  14.92489    |  -8.372680   | 2.266814     | -3.693590    | 2.211103e-04 | 1.553778e-02 |\n",
       "| TRINITY_DN129491_c0_g1_i1 |  19.90878    |  -8.428341   | 2.464891     | -3.419356    | 6.276955e-04 | 3.283053e-02 |\n",
       "| TRINITY_DN17217_c0_g1_i1 | 575.96279    |  -8.483669   | 1.438127     | -5.899111    | 3.654650e-09 | 1.321031e-06 |\n",
       "| TRINITY_DN3369_c0_g1_i1 | 331.62025    |  -8.521172   | 1.536952     | -5.544202    | 2.952975e-08 | 8.804536e-06 |\n",
       "| TRINITY_DN99748_c0_g1_i1 |  21.15845    |  -8.524719   | 2.343272     | -3.637955    | 2.748119e-04 | 1.823120e-02 |\n",
       "| TRINITY_DN3684_c0_g1_i1 |  36.30526    |  -8.589969   | 2.262640     | -3.796437    | 1.467908e-04 | 1.137553e-02 |\n",
       "| TRINITY_DN8875_c0_g1_i1 |  47.60278    |  -8.646215   | 1.978614     | -4.369834    | 1.243410e-05 | 1.693412e-03 |\n",
       "| TRINITY_DN9318_c0_g1_i1 |  69.63697    |  -8.680717   | 1.864791     | -4.655062    | 3.238827e-06 | 5.613329e-04 |\n",
       "| TRINITY_DN6327_c0_g1_i2 | 234.95478    |  -8.776971   | 1.818974     | -4.825231    | 1.398413e-06 | 2.721093e-04 |\n",
       "| TRINITY_DN93264_c0_g1_i1 |  12.45550    |  -9.272850   | 2.388006     | -3.883093    | 1.031361e-04 | 8.653265e-03 |\n",
       "| TRINITY_DN2414_c0_g1_i1 |  20.18046    | -10.134620   | 2.990890     | -3.388496    | 7.027702e-04 | 3.564440e-02 |\n",
       "| TRINITY_DN12675_c0_g1_i1 |  12.10526    | -23.783258   | 2.991012     | -7.951576    | 1.841534e-15 | 1.079835e-12 |\n",
       "| TRINITY_DN111888_c0_g1_i1 |  15.07193    | -24.081371   | 2.990952     | -8.051407    | 8.184782e-16 | 4.880720e-13 |\n",
       "| TRINITY_DN113336_c0_g1_i1 |  19.26839    | -24.174535   | 2.990899     | -8.082699    | 6.334868e-16 | 3.799049e-13 |\n",
       "\n"
      ],
      "text/plain": [
       "                          baseMean   log2FoldChange lfcSE     stat     \n",
       "TRINITY_DN85899_c0_g1_i1   1424.7840 12.26715       0.4445381 27.59526 \n",
       "TRINITY_DN98899_c0_g1_i1   1162.4834 12.22471       0.3937168 31.04949 \n",
       "TRINITY_DN19987_c0_g1_i1  37383.9752 12.10107       0.3318683 36.46348 \n",
       "TRINITY_DN50085_c0_g1_i1   7216.9053 12.06161       0.3963491 30.43177 \n",
       "TRINITY_DN74741_c0_g1_i1    607.8118 12.03959       0.4835273 24.89951 \n",
       "TRINITY_DN80409_c0_g1_i1  11692.3408 12.03888       0.3825126 31.47316 \n",
       "TRINITY_DN60860_c0_g1_i1   2188.9247 12.00837       0.4209431 28.52730 \n",
       "TRINITY_DN157863_c0_g1_i1  1872.3459 11.99681       0.4331513 27.69657 \n",
       "TRINITY_DN135642_c0_g1_i1  1755.0800 11.98694       0.5426055 22.09144 \n",
       "TRINITY_DN50011_c0_g1_i1  23082.6038 11.96841       0.3934662 30.41789 \n",
       "TRINITY_DN134734_c0_g1_i1   851.8327 11.89518       0.4487790 26.50566 \n",
       "TRINITY_DN86249_c0_g1_i1   1617.9669 11.87137       0.5074222 23.39545 \n",
       "TRINITY_DN57851_c0_g1_i1   3003.1226 11.86582       0.3757768 31.57678 \n",
       "TRINITY_DN91413_c0_g1_i1    941.9773 11.86082       0.3983708 29.77331 \n",
       "TRINITY_DN60293_c0_g1_i1   1585.5205 11.84327       0.4755173 24.90609 \n",
       "TRINITY_DN57720_c0_g1_i1   1475.3705 11.84260       0.4305670 27.50467 \n",
       "TRINITY_DN132183_c0_g1_i1   756.5510 11.83989       0.4143299 28.57601 \n",
       "TRINITY_DN103032_c0_g1_i1  2380.5890 11.83897       0.3819963 30.99236 \n",
       "TRINITY_DN80491_c0_g1_i1   9266.9257 11.83830       0.3718812 31.83355 \n",
       "TRINITY_DN155874_c0_g1_i1   486.0349 11.81813       0.4062479 29.09093 \n",
       "TRINITY_DN151054_c0_g1_i1   523.5639 11.79958       0.4136321 28.52676 \n",
       "TRINITY_DN47573_c0_g1_i1  25946.4941 11.79203       0.3408485 34.59611 \n",
       "TRINITY_DN141230_c0_g1_i1  2270.5299 11.77924       0.4872985 24.17254 \n",
       "TRINITY_DN82676_c0_g1_i1    780.8767 11.77782       0.4000173 29.44326 \n",
       "TRINITY_DN120239_c0_g1_i1  2688.1088 11.77408       0.4251674 27.69281 \n",
       "TRINITY_DN142548_c0_g1_i1  2093.4540 11.77318       0.4510599 26.10114 \n",
       "TRINITY_DN94855_c0_g1_i1    766.5092 11.76948       0.4100273 28.70413 \n",
       "TRINITY_DN114680_c0_g1_i1  5862.3102 11.76823       0.4576123 25.71659 \n",
       "TRINITY_DN103226_c0_g1_i1   717.1787 11.76755       0.4408063 26.69552 \n",
       "TRINITY_DN74222_c0_g1_i1    922.8027 11.76297       0.4315614 27.25678 \n",
       "...                       ...        ...            ...       ...      \n",
       "TRINITY_DN14157_c0_g1_i1   83.89386   -7.879530     1.649771  -4.776134\n",
       "TRINITY_DN21051_c0_g1_i1   62.58587   -7.891642     1.623241  -4.861658\n",
       "TRINITY_DN147449_c0_g1_i1  19.08123   -7.906902     2.315797  -3.414333\n",
       "TRINITY_DN23781_c0_g1_i1   79.38438   -7.956873     2.257945  -3.523944\n",
       "TRINITY_DN13366_c0_g1_i1   64.25435   -7.973684     2.350005  -3.393049\n",
       "TRINITY_DN93609_c0_g1_i1   32.58295   -7.977969     2.253314  -3.540549\n",
       "TRINITY_DN15912_c0_g1_i1   30.95554   -7.996108     2.115147  -3.780403\n",
       "TRINITY_DN95228_c0_g1_i1   47.03367   -8.039965     2.073350  -3.877766\n",
       "TRINITY_DN80778_c0_g1_i1   58.54765   -8.051339     1.785184  -4.510090\n",
       "TRINITY_DN4715_c0_g1_i1   102.65025   -8.082352     1.848850  -4.371556\n",
       "TRINITY_DN92710_c0_g1_i1   50.24832   -8.104797     1.991429  -4.069840\n",
       "TRINITY_DN109572_c0_g1_i1 151.26552   -8.158647     1.473410  -5.537257\n",
       "TRINITY_DN94316_c0_g1_i1   74.93746   -8.164761     2.152372  -3.793378\n",
       "TRINITY_DN5906_c1_g1_i1    53.95139   -8.208567     2.212298  -3.710425\n",
       "TRINITY_DN272_c0_g1_i2     26.76452   -8.236143     1.815758  -4.535925\n",
       "TRINITY_DN14517_c0_g1_i1   42.16978   -8.294827     2.439259  -3.400553\n",
       "TRINITY_DN1876_c0_g2_i1    14.92489   -8.372680     2.266814  -3.693590\n",
       "TRINITY_DN129491_c0_g1_i1  19.90878   -8.428341     2.464891  -3.419356\n",
       "TRINITY_DN17217_c0_g1_i1  575.96279   -8.483669     1.438127  -5.899111\n",
       "TRINITY_DN3369_c0_g1_i1   331.62025   -8.521172     1.536952  -5.544202\n",
       "TRINITY_DN99748_c0_g1_i1   21.15845   -8.524719     2.343272  -3.637955\n",
       "TRINITY_DN3684_c0_g1_i1    36.30526   -8.589969     2.262640  -3.796437\n",
       "TRINITY_DN8875_c0_g1_i1    47.60278   -8.646215     1.978614  -4.369834\n",
       "TRINITY_DN9318_c0_g1_i1    69.63697   -8.680717     1.864791  -4.655062\n",
       "TRINITY_DN6327_c0_g1_i2   234.95478   -8.776971     1.818974  -4.825231\n",
       "TRINITY_DN93264_c0_g1_i1   12.45550   -9.272850     2.388006  -3.883093\n",
       "TRINITY_DN2414_c0_g1_i1    20.18046  -10.134620     2.990890  -3.388496\n",
       "TRINITY_DN12675_c0_g1_i1   12.10526  -23.783258     2.991012  -7.951576\n",
       "TRINITY_DN111888_c0_g1_i1  15.07193  -24.081371     2.990952  -8.051407\n",
       "TRINITY_DN113336_c0_g1_i1  19.26839  -24.174535     2.990899  -8.082699\n",
       "                          pvalue        padj         \n",
       "TRINITY_DN85899_c0_g1_i1  1.268269e-167 1.997960e-164\n",
       "TRINITY_DN98899_c0_g1_i1  1.159040e-211 5.318884e-208\n",
       "TRINITY_DN19987_c0_g1_i1  4.207132e-291 2.220272e-286\n",
       "TRINITY_DN50085_c0_g1_i1  2.087523e-203 8.160515e-200\n",
       "TRINITY_DN74741_c0_g1_i1  7.532338e-137 7.718671e-134\n",
       "TRINITY_DN80409_c0_g1_i1  2.023887e-217 1.256572e-213\n",
       "TRINITY_DN60860_c0_g1_i1  5.373763e-179 1.066520e-175\n",
       "TRINITY_DN157863_c0_g1_i1 7.678425e-169 1.266316e-165\n",
       "TRINITY_DN135642_c0_g1_i1 3.819859e-108 3.445970e-105\n",
       "TRINITY_DN50011_c0_g1_i1  3.186608e-203 1.201215e-199\n",
       "TRINITY_DN134734_c0_g1_i1 8.341217e-155 1.000453e-151\n",
       "TRINITY_DN86249_c0_g1_i1  4.754588e-121 4.402081e-118\n",
       "TRINITY_DN57851_c0_g1_i1  7.694790e-219 5.414465e-215\n",
       "TRINITY_DN91413_c0_g1_i1  8.659734e-195 2.405310e-191\n",
       "TRINITY_DN60293_c0_g1_i1  6.392396e-137 6.614751e-134\n",
       "TRINITY_DN57720_c0_g1_i1  1.543681e-166 2.361340e-163\n",
       "TRINITY_DN132183_c0_g1_i1 1.335195e-179 2.763278e-176\n",
       "TRINITY_DN103032_c0_g1_i1 6.831517e-211 3.004387e-207\n",
       "TRINITY_DN80491_c0_g1_i1  2.223694e-222 2.133695e-218\n",
       "TRINITY_DN155874_c0_g1_i1 4.674894e-186 1.121422e-182\n",
       "TRINITY_DN151054_c0_g1_i1 5.456483e-179 1.066520e-175\n",
       "TRINITY_DN47573_c0_g1_i1  2.890547e-262 1.016972e-257\n",
       "TRINITY_DN141230_c0_g1_i1 4.327225e-129 4.228981e-126\n",
       "TRINITY_DN82676_c0_g1_i1  1.535521e-190 4.051779e-187\n",
       "TRINITY_DN120239_c0_g1_i1 8.521949e-169 1.383807e-165\n",
       "TRINITY_DN142548_c0_g1_i1 3.538541e-150 4.104241e-147\n",
       "TRINITY_DN94855_c0_g1_i1  3.388060e-181 7.298019e-178\n",
       "TRINITY_DN114680_c0_g1_i1 7.624711e-146 8.471294e-143\n",
       "TRINITY_DN103226_c0_g1_i1 5.305766e-157 6.588388e-154\n",
       "TRINITY_DN74222_c0_g1_i1  1.381264e-163 1.970130e-160\n",
       "...                       ...           ...          \n",
       "TRINITY_DN14157_c0_g1_i1  1.786973e-06  3.332357e-04 \n",
       "TRINITY_DN21051_c0_g1_i1  1.164068e-06  2.320280e-04 \n",
       "TRINITY_DN147449_c0_g1_i1 6.393839e-04  3.332627e-02 \n",
       "TRINITY_DN23781_c0_g1_i1  4.251739e-04  2.484842e-02 \n",
       "TRINITY_DN13366_c0_g1_i1  6.911921e-04  3.531168e-02 \n",
       "TRINITY_DN93609_c0_g1_i1  3.992962e-04  2.371689e-02 \n",
       "TRINITY_DN15912_c0_g1_i1  1.565747e-04  1.194949e-02 \n",
       "TRINITY_DN95228_c0_g1_i1  1.054199e-04  8.823839e-03 \n",
       "TRINITY_DN80778_c0_g1_i1  6.480008e-06  9.926733e-04 \n",
       "TRINITY_DN4715_c0_g1_i1   1.233644e-05  1.682283e-03 \n",
       "TRINITY_DN92710_c0_g1_i1  4.704537e-05  4.858654e-03 \n",
       "TRINITY_DN109572_c0_g1_i1 3.072457e-08  9.083802e-06 \n",
       "TRINITY_DN94316_c0_g1_i1  1.486117e-04  1.148292e-02 \n",
       "TRINITY_DN5906_c1_g1_i1   2.069114e-04  1.473563e-02 \n",
       "TRINITY_DN272_c0_g1_i2    5.735151e-06  8.954640e-04 \n",
       "TRINITY_DN14517_c0_g1_i1  6.724976e-04  3.455734e-02 \n",
       "TRINITY_DN1876_c0_g2_i1   2.211103e-04  1.553778e-02 \n",
       "TRINITY_DN129491_c0_g1_i1 6.276955e-04  3.283053e-02 \n",
       "TRINITY_DN17217_c0_g1_i1  3.654650e-09  1.321031e-06 \n",
       "TRINITY_DN3369_c0_g1_i1   2.952975e-08  8.804536e-06 \n",
       "TRINITY_DN99748_c0_g1_i1  2.748119e-04  1.823120e-02 \n",
       "TRINITY_DN3684_c0_g1_i1   1.467908e-04  1.137553e-02 \n",
       "TRINITY_DN8875_c0_g1_i1   1.243410e-05  1.693412e-03 \n",
       "TRINITY_DN9318_c0_g1_i1   3.238827e-06  5.613329e-04 \n",
       "TRINITY_DN6327_c0_g1_i2   1.398413e-06  2.721093e-04 \n",
       "TRINITY_DN93264_c0_g1_i1  1.031361e-04  8.653265e-03 \n",
       "TRINITY_DN2414_c0_g1_i1   7.027702e-04  3.564440e-02 \n",
       "TRINITY_DN12675_c0_g1_i1  1.841534e-15  1.079835e-12 \n",
       "TRINITY_DN111888_c0_g1_i1 8.184782e-16  4.880720e-13 \n",
       "TRINITY_DN113336_c0_g1_i1 6.334868e-16  3.799049e-13 "
      ]
     },
     "metadata": {},
     "output_type": "display_data"
    }
   ],
   "source": [
    "res_sig <- data.frame(subset(res, padj < 0.05))\n",
    "res_sig <- res_sig[order(-res_sig$log2FoldChange),]\n",
    "res_sig"
   ]
  },
  {
   "cell_type": "markdown",
   "metadata": {},
   "source": [
    "You can see that there are some extremely significant, extremely overexpressed transcripts at the top, many of which have high rates of expression overall. These are likely contamination from Loxo. I am going to compare the list of transcripts I made earlier to these to see how much of an overlap there is. \n",
    "\n",
    "There are 2377 significant transcripts, 1250 up and 1127 down. There were 5797 transcripts that had higher expression in one of the two parasite samples than any of the clean samples. Let's look at the intersect. "
   ]
  },
  {
   "cell_type": "code",
   "execution_count": 199,
   "metadata": {},
   "outputs": [
    {
     "data": {
      "text/html": [
       "448"
      ],
      "text/latex": [
       "448"
      ],
      "text/markdown": [
       "448"
      ],
      "text/plain": [
       "[1] 448"
      ]
     },
     "metadata": {},
     "output_type": "display_data"
    }
   ],
   "source": [
    "contam_intersect <- intersect(contam_IDs, rownames(res_sig))\n",
    "length(contam_intersect)"
   ]
  },
  {
   "cell_type": "markdown",
   "metadata": {},
   "source": [
    "Okay so there are 448 transcripts that came up as significant that were also identified as potential contamination. Let's take a look at the significant results table with those removed:"
   ]
  },
  {
   "cell_type": "code",
   "execution_count": 204,
   "metadata": {},
   "outputs": [
    {
     "data": {
      "text/html": [
       "<table>\n",
       "<thead><tr><th></th><th scope=col>baseMean</th><th scope=col>log2FoldChange</th><th scope=col>lfcSE</th><th scope=col>stat</th><th scope=col>pvalue</th><th scope=col>padj</th></tr></thead>\n",
       "<tbody>\n",
       "\t<tr><th scope=row>TRINITY_DN92710_c0_g1_i1</th><td> 50.24832   </td><td> -8.104797  </td><td>1.991429    </td><td>-4.069840   </td><td>4.704537e-05</td><td>4.858654e-03</td></tr>\n",
       "\t<tr><th scope=row>TRINITY_DN109572_c0_g1_i1</th><td>151.26552   </td><td> -8.158647  </td><td>1.473410    </td><td>-5.537257   </td><td>3.072457e-08</td><td>9.083802e-06</td></tr>\n",
       "\t<tr><th scope=row>TRINITY_DN94316_c0_g1_i1</th><td> 74.93746   </td><td> -8.164761  </td><td>2.152372    </td><td>-3.793378   </td><td>1.486117e-04</td><td>1.148292e-02</td></tr>\n",
       "\t<tr><th scope=row>TRINITY_DN5906_c1_g1_i1</th><td> 53.95139   </td><td> -8.208567  </td><td>2.212298    </td><td>-3.710425   </td><td>2.069114e-04</td><td>1.473563e-02</td></tr>\n",
       "\t<tr><th scope=row>TRINITY_DN272_c0_g1_i2</th><td> 26.76452   </td><td> -8.236143  </td><td>1.815758    </td><td>-4.535925   </td><td>5.735151e-06</td><td>8.954640e-04</td></tr>\n",
       "\t<tr><th scope=row>TRINITY_DN14517_c0_g1_i1</th><td> 42.16978   </td><td> -8.294827  </td><td>2.439259    </td><td>-3.400553   </td><td>6.724976e-04</td><td>3.455734e-02</td></tr>\n",
       "\t<tr><th scope=row>TRINITY_DN1876_c0_g2_i1</th><td> 14.92489   </td><td> -8.372680  </td><td>2.266814    </td><td>-3.693590   </td><td>2.211103e-04</td><td>1.553778e-02</td></tr>\n",
       "\t<tr><th scope=row>TRINITY_DN129491_c0_g1_i1</th><td> 19.90878   </td><td> -8.428341  </td><td>2.464891    </td><td>-3.419356   </td><td>6.276955e-04</td><td>3.283053e-02</td></tr>\n",
       "\t<tr><th scope=row>TRINITY_DN17217_c0_g1_i1</th><td>575.96279   </td><td> -8.483669  </td><td>1.438127    </td><td>-5.899111   </td><td>3.654650e-09</td><td>1.321031e-06</td></tr>\n",
       "\t<tr><th scope=row>TRINITY_DN3369_c0_g1_i1</th><td>331.62025   </td><td> -8.521172  </td><td>1.536952    </td><td>-5.544202   </td><td>2.952975e-08</td><td>8.804536e-06</td></tr>\n",
       "\t<tr><th scope=row>TRINITY_DN99748_c0_g1_i1</th><td> 21.15845   </td><td> -8.524719  </td><td>2.343272    </td><td>-3.637955   </td><td>2.748119e-04</td><td>1.823120e-02</td></tr>\n",
       "\t<tr><th scope=row>TRINITY_DN3684_c0_g1_i1</th><td> 36.30526   </td><td> -8.589969  </td><td>2.262640    </td><td>-3.796437   </td><td>1.467908e-04</td><td>1.137553e-02</td></tr>\n",
       "\t<tr><th scope=row>TRINITY_DN8875_c0_g1_i1</th><td> 47.60278   </td><td> -8.646215  </td><td>1.978614    </td><td>-4.369834   </td><td>1.243410e-05</td><td>1.693412e-03</td></tr>\n",
       "\t<tr><th scope=row>TRINITY_DN9318_c0_g1_i1</th><td> 69.63697   </td><td> -8.680717  </td><td>1.864791    </td><td>-4.655062   </td><td>3.238827e-06</td><td>5.613329e-04</td></tr>\n",
       "\t<tr><th scope=row>TRINITY_DN6327_c0_g1_i2</th><td>234.95478   </td><td> -8.776971  </td><td>1.818974    </td><td>-4.825231   </td><td>1.398413e-06</td><td>2.721093e-04</td></tr>\n",
       "\t<tr><th scope=row>TRINITY_DN93264_c0_g1_i1</th><td> 12.45550   </td><td> -9.272850  </td><td>2.388006    </td><td>-3.883093   </td><td>1.031361e-04</td><td>8.653265e-03</td></tr>\n",
       "\t<tr><th scope=row>TRINITY_DN2414_c0_g1_i1</th><td> 20.18046   </td><td>-10.134620  </td><td>2.990890    </td><td>-3.388496   </td><td>7.027702e-04</td><td>3.564440e-02</td></tr>\n",
       "\t<tr><th scope=row>TRINITY_DN12675_c0_g1_i1</th><td> 12.10526   </td><td>-23.783258  </td><td>2.991012    </td><td>-7.951576   </td><td>1.841534e-15</td><td>1.079835e-12</td></tr>\n",
       "\t<tr><th scope=row>TRINITY_DN111888_c0_g1_i1</th><td> 15.07193   </td><td>-24.081371  </td><td>2.990952    </td><td>-8.051407   </td><td>8.184782e-16</td><td>4.880720e-13</td></tr>\n",
       "\t<tr><th scope=row>TRINITY_DN113336_c0_g1_i1</th><td> 19.26839   </td><td>-24.174535  </td><td>2.990899    </td><td>-8.082699   </td><td>6.334868e-16</td><td>3.799049e-13</td></tr>\n",
       "</tbody>\n",
       "</table>\n"
      ],
      "text/latex": [
       "\\begin{tabular}{r|llllll}\n",
       "  & baseMean & log2FoldChange & lfcSE & stat & pvalue & padj\\\\\n",
       "\\hline\n",
       "\tTRINITY\\_DN92710\\_c0\\_g1\\_i1 &  50.24832    &  -8.104797   & 1.991429     & -4.069840    & 4.704537e-05 & 4.858654e-03\\\\\n",
       "\tTRINITY\\_DN109572\\_c0\\_g1\\_i1 & 151.26552    &  -8.158647   & 1.473410     & -5.537257    & 3.072457e-08 & 9.083802e-06\\\\\n",
       "\tTRINITY\\_DN94316\\_c0\\_g1\\_i1 &  74.93746    &  -8.164761   & 2.152372     & -3.793378    & 1.486117e-04 & 1.148292e-02\\\\\n",
       "\tTRINITY\\_DN5906\\_c1\\_g1\\_i1 &  53.95139    &  -8.208567   & 2.212298     & -3.710425    & 2.069114e-04 & 1.473563e-02\\\\\n",
       "\tTRINITY\\_DN272\\_c0\\_g1\\_i2 &  26.76452    &  -8.236143   & 1.815758     & -4.535925    & 5.735151e-06 & 8.954640e-04\\\\\n",
       "\tTRINITY\\_DN14517\\_c0\\_g1\\_i1 &  42.16978    &  -8.294827   & 2.439259     & -3.400553    & 6.724976e-04 & 3.455734e-02\\\\\n",
       "\tTRINITY\\_DN1876\\_c0\\_g2\\_i1 &  14.92489    &  -8.372680   & 2.266814     & -3.693590    & 2.211103e-04 & 1.553778e-02\\\\\n",
       "\tTRINITY\\_DN129491\\_c0\\_g1\\_i1 &  19.90878    &  -8.428341   & 2.464891     & -3.419356    & 6.276955e-04 & 3.283053e-02\\\\\n",
       "\tTRINITY\\_DN17217\\_c0\\_g1\\_i1 & 575.96279    &  -8.483669   & 1.438127     & -5.899111    & 3.654650e-09 & 1.321031e-06\\\\\n",
       "\tTRINITY\\_DN3369\\_c0\\_g1\\_i1 & 331.62025    &  -8.521172   & 1.536952     & -5.544202    & 2.952975e-08 & 8.804536e-06\\\\\n",
       "\tTRINITY\\_DN99748\\_c0\\_g1\\_i1 &  21.15845    &  -8.524719   & 2.343272     & -3.637955    & 2.748119e-04 & 1.823120e-02\\\\\n",
       "\tTRINITY\\_DN3684\\_c0\\_g1\\_i1 &  36.30526    &  -8.589969   & 2.262640     & -3.796437    & 1.467908e-04 & 1.137553e-02\\\\\n",
       "\tTRINITY\\_DN8875\\_c0\\_g1\\_i1 &  47.60278    &  -8.646215   & 1.978614     & -4.369834    & 1.243410e-05 & 1.693412e-03\\\\\n",
       "\tTRINITY\\_DN9318\\_c0\\_g1\\_i1 &  69.63697    &  -8.680717   & 1.864791     & -4.655062    & 3.238827e-06 & 5.613329e-04\\\\\n",
       "\tTRINITY\\_DN6327\\_c0\\_g1\\_i2 & 234.95478    &  -8.776971   & 1.818974     & -4.825231    & 1.398413e-06 & 2.721093e-04\\\\\n",
       "\tTRINITY\\_DN93264\\_c0\\_g1\\_i1 &  12.45550    &  -9.272850   & 2.388006     & -3.883093    & 1.031361e-04 & 8.653265e-03\\\\\n",
       "\tTRINITY\\_DN2414\\_c0\\_g1\\_i1 &  20.18046    & -10.134620   & 2.990890     & -3.388496    & 7.027702e-04 & 3.564440e-02\\\\\n",
       "\tTRINITY\\_DN12675\\_c0\\_g1\\_i1 &  12.10526    & -23.783258   & 2.991012     & -7.951576    & 1.841534e-15 & 1.079835e-12\\\\\n",
       "\tTRINITY\\_DN111888\\_c0\\_g1\\_i1 &  15.07193    & -24.081371   & 2.990952     & -8.051407    & 8.184782e-16 & 4.880720e-13\\\\\n",
       "\tTRINITY\\_DN113336\\_c0\\_g1\\_i1 &  19.26839    & -24.174535   & 2.990899     & -8.082699    & 6.334868e-16 & 3.799049e-13\\\\\n",
       "\\end{tabular}\n"
      ],
      "text/markdown": [
       "\n",
       "| <!--/--> | baseMean | log2FoldChange | lfcSE | stat | pvalue | padj |\n",
       "|---|---|---|---|---|---|---|\n",
       "| TRINITY_DN92710_c0_g1_i1 |  50.24832    |  -8.104797   | 1.991429     | -4.069840    | 4.704537e-05 | 4.858654e-03 |\n",
       "| TRINITY_DN109572_c0_g1_i1 | 151.26552    |  -8.158647   | 1.473410     | -5.537257    | 3.072457e-08 | 9.083802e-06 |\n",
       "| TRINITY_DN94316_c0_g1_i1 |  74.93746    |  -8.164761   | 2.152372     | -3.793378    | 1.486117e-04 | 1.148292e-02 |\n",
       "| TRINITY_DN5906_c1_g1_i1 |  53.95139    |  -8.208567   | 2.212298     | -3.710425    | 2.069114e-04 | 1.473563e-02 |\n",
       "| TRINITY_DN272_c0_g1_i2 |  26.76452    |  -8.236143   | 1.815758     | -4.535925    | 5.735151e-06 | 8.954640e-04 |\n",
       "| TRINITY_DN14517_c0_g1_i1 |  42.16978    |  -8.294827   | 2.439259     | -3.400553    | 6.724976e-04 | 3.455734e-02 |\n",
       "| TRINITY_DN1876_c0_g2_i1 |  14.92489    |  -8.372680   | 2.266814     | -3.693590    | 2.211103e-04 | 1.553778e-02 |\n",
       "| TRINITY_DN129491_c0_g1_i1 |  19.90878    |  -8.428341   | 2.464891     | -3.419356    | 6.276955e-04 | 3.283053e-02 |\n",
       "| TRINITY_DN17217_c0_g1_i1 | 575.96279    |  -8.483669   | 1.438127     | -5.899111    | 3.654650e-09 | 1.321031e-06 |\n",
       "| TRINITY_DN3369_c0_g1_i1 | 331.62025    |  -8.521172   | 1.536952     | -5.544202    | 2.952975e-08 | 8.804536e-06 |\n",
       "| TRINITY_DN99748_c0_g1_i1 |  21.15845    |  -8.524719   | 2.343272     | -3.637955    | 2.748119e-04 | 1.823120e-02 |\n",
       "| TRINITY_DN3684_c0_g1_i1 |  36.30526    |  -8.589969   | 2.262640     | -3.796437    | 1.467908e-04 | 1.137553e-02 |\n",
       "| TRINITY_DN8875_c0_g1_i1 |  47.60278    |  -8.646215   | 1.978614     | -4.369834    | 1.243410e-05 | 1.693412e-03 |\n",
       "| TRINITY_DN9318_c0_g1_i1 |  69.63697    |  -8.680717   | 1.864791     | -4.655062    | 3.238827e-06 | 5.613329e-04 |\n",
       "| TRINITY_DN6327_c0_g1_i2 | 234.95478    |  -8.776971   | 1.818974     | -4.825231    | 1.398413e-06 | 2.721093e-04 |\n",
       "| TRINITY_DN93264_c0_g1_i1 |  12.45550    |  -9.272850   | 2.388006     | -3.883093    | 1.031361e-04 | 8.653265e-03 |\n",
       "| TRINITY_DN2414_c0_g1_i1 |  20.18046    | -10.134620   | 2.990890     | -3.388496    | 7.027702e-04 | 3.564440e-02 |\n",
       "| TRINITY_DN12675_c0_g1_i1 |  12.10526    | -23.783258   | 2.991012     | -7.951576    | 1.841534e-15 | 1.079835e-12 |\n",
       "| TRINITY_DN111888_c0_g1_i1 |  15.07193    | -24.081371   | 2.990952     | -8.051407    | 8.184782e-16 | 4.880720e-13 |\n",
       "| TRINITY_DN113336_c0_g1_i1 |  19.26839    | -24.174535   | 2.990899     | -8.082699    | 6.334868e-16 | 3.799049e-13 |\n",
       "\n"
      ],
      "text/plain": [
       "                          baseMean  log2FoldChange lfcSE    stat     \n",
       "TRINITY_DN92710_c0_g1_i1   50.24832  -8.104797     1.991429 -4.069840\n",
       "TRINITY_DN109572_c0_g1_i1 151.26552  -8.158647     1.473410 -5.537257\n",
       "TRINITY_DN94316_c0_g1_i1   74.93746  -8.164761     2.152372 -3.793378\n",
       "TRINITY_DN5906_c1_g1_i1    53.95139  -8.208567     2.212298 -3.710425\n",
       "TRINITY_DN272_c0_g1_i2     26.76452  -8.236143     1.815758 -4.535925\n",
       "TRINITY_DN14517_c0_g1_i1   42.16978  -8.294827     2.439259 -3.400553\n",
       "TRINITY_DN1876_c0_g2_i1    14.92489  -8.372680     2.266814 -3.693590\n",
       "TRINITY_DN129491_c0_g1_i1  19.90878  -8.428341     2.464891 -3.419356\n",
       "TRINITY_DN17217_c0_g1_i1  575.96279  -8.483669     1.438127 -5.899111\n",
       "TRINITY_DN3369_c0_g1_i1   331.62025  -8.521172     1.536952 -5.544202\n",
       "TRINITY_DN99748_c0_g1_i1   21.15845  -8.524719     2.343272 -3.637955\n",
       "TRINITY_DN3684_c0_g1_i1    36.30526  -8.589969     2.262640 -3.796437\n",
       "TRINITY_DN8875_c0_g1_i1    47.60278  -8.646215     1.978614 -4.369834\n",
       "TRINITY_DN9318_c0_g1_i1    69.63697  -8.680717     1.864791 -4.655062\n",
       "TRINITY_DN6327_c0_g1_i2   234.95478  -8.776971     1.818974 -4.825231\n",
       "TRINITY_DN93264_c0_g1_i1   12.45550  -9.272850     2.388006 -3.883093\n",
       "TRINITY_DN2414_c0_g1_i1    20.18046 -10.134620     2.990890 -3.388496\n",
       "TRINITY_DN12675_c0_g1_i1   12.10526 -23.783258     2.991012 -7.951576\n",
       "TRINITY_DN111888_c0_g1_i1  15.07193 -24.081371     2.990952 -8.051407\n",
       "TRINITY_DN113336_c0_g1_i1  19.26839 -24.174535     2.990899 -8.082699\n",
       "                          pvalue       padj        \n",
       "TRINITY_DN92710_c0_g1_i1  4.704537e-05 4.858654e-03\n",
       "TRINITY_DN109572_c0_g1_i1 3.072457e-08 9.083802e-06\n",
       "TRINITY_DN94316_c0_g1_i1  1.486117e-04 1.148292e-02\n",
       "TRINITY_DN5906_c1_g1_i1   2.069114e-04 1.473563e-02\n",
       "TRINITY_DN272_c0_g1_i2    5.735151e-06 8.954640e-04\n",
       "TRINITY_DN14517_c0_g1_i1  6.724976e-04 3.455734e-02\n",
       "TRINITY_DN1876_c0_g2_i1   2.211103e-04 1.553778e-02\n",
       "TRINITY_DN129491_c0_g1_i1 6.276955e-04 3.283053e-02\n",
       "TRINITY_DN17217_c0_g1_i1  3.654650e-09 1.321031e-06\n",
       "TRINITY_DN3369_c0_g1_i1   2.952975e-08 8.804536e-06\n",
       "TRINITY_DN99748_c0_g1_i1  2.748119e-04 1.823120e-02\n",
       "TRINITY_DN3684_c0_g1_i1   1.467908e-04 1.137553e-02\n",
       "TRINITY_DN8875_c0_g1_i1   1.243410e-05 1.693412e-03\n",
       "TRINITY_DN9318_c0_g1_i1   3.238827e-06 5.613329e-04\n",
       "TRINITY_DN6327_c0_g1_i2   1.398413e-06 2.721093e-04\n",
       "TRINITY_DN93264_c0_g1_i1  1.031361e-04 8.653265e-03\n",
       "TRINITY_DN2414_c0_g1_i1   7.027702e-04 3.564440e-02\n",
       "TRINITY_DN12675_c0_g1_i1  1.841534e-15 1.079835e-12\n",
       "TRINITY_DN111888_c0_g1_i1 8.184782e-16 4.880720e-13\n",
       "TRINITY_DN113336_c0_g1_i1 6.334868e-16 3.799049e-13"
      ]
     },
     "metadata": {},
     "output_type": "display_data"
    }
   ],
   "source": [
    "tail(res_sig[!(rownames(res_sig) %in% contam_intersect),],n=20)"
   ]
  },
  {
   "cell_type": "markdown",
   "metadata": {},
   "source": [
    "A lot of those transcripts are now removed. There are just around 7 or 8 of them left, depending on where you draw the line.\n",
    "\n",
    "I am going to repeat the lfc shrinking and visualization with the contam transcrips removed. I am subsetting the dds object within the `lfcShrink()` function, using `subset()` to keep only transcripts that do not appear in the conta_IDs list. "
   ]
  },
  {
   "cell_type": "code",
   "execution_count": 213,
   "metadata": {},
   "outputs": [
    {
     "name": "stderr",
     "output_type": "stream",
     "text": [
      "using 'apeglm' for LFC shrinkage. If used in published research, please cite:\n",
      "    Zhu, A., Ibrahim, J.G., Love, M.I. (2018) Heavy-tailed prior distributions for\n",
      "    sequence count data: removing the noise and preserving large differences.\n",
      "    Bioinformatics. https://doi.org/10.1093/bioinformatics/bty895\n"
     ]
    },
    {
     "data": {
      "image/png": "[encoded data removed]",
      "text/plain": [
       "Plot with title “”"
      ]
     },
     "metadata": {},
     "output_type": "display_data"
    }
   ],
   "source": [
    "resLFC_nocontam <- lfcShrink(subset(dds, !rownames(dds) %in% contam_IDs), coef=\"condition_P_vs_C\", type=\"apeglm\")\n",
    "plotMA(resLFC_nocontam, ylim=c(-13,13))"
   ]
  },
  {
   "cell_type": "markdown",
   "metadata": {},
   "source": [
    "You can see now that the big cloud of points at the top right has mostly disappeared. A few points remain. I am still going to consider these as contamination and remove them. I am going to do this by considering transcripts that are overexpressed above the absolute value of the most underexpressed transcript. This is done using the shrunk LFCs."
   ]
  },
  {
   "cell_type": "code",
   "execution_count": 225,
   "metadata": {},
   "outputs": [
    {
     "data": {
      "text/html": [
       "<table>\n",
       "<thead><tr><th></th><th scope=col>baseMean</th><th scope=col>log2FoldChange</th><th scope=col>lfcSE</th><th scope=col>pvalue</th><th scope=col>padj</th></tr></thead>\n",
       "<tbody>\n",
       "\t<tr><th scope=row>TRINITY_DN94855_c0_g1_i1</th><td> 766.509208  </td><td>11.740458    </td><td>0.4123791    </td><td>3.388060e-181</td><td>3.436780e-176</td></tr>\n",
       "\t<tr><th scope=row>TRINITY_DN103226_c0_g1_i1</th><td> 717.178725  </td><td>11.729469    </td><td>0.4432693    </td><td>5.305766e-157</td><td>1.345516e-152</td></tr>\n",
       "\t<tr><th scope=row>TRINITY_DN128205_c0_g1_i1</th><td>2871.442818  </td><td>11.439449    </td><td>0.4197738    </td><td>1.292932e-164</td><td>4.371747e-160</td></tr>\n",
       "\t<tr><th scope=row>TRINITY_DN115787_c0_g1_i1</th><td> 691.115560  </td><td>11.423670    </td><td>0.4458718    </td><td>1.195002e-147</td><td>2.424372e-143</td></tr>\n",
       "\t<tr><th scope=row>TRINITY_DN121942_c0_g1_i1</th><td> 684.441598  </td><td>11.391444    </td><td>0.4159474    </td><td>3.020168e-168</td><td>1.531799e-163</td></tr>\n",
       "\t<tr><th scope=row>TRINITY_DN122219_c0_g1_i1</th><td> 576.969262  </td><td>11.348327    </td><td>0.4548932    </td><td>1.988178e-140</td><td>3.361280e-136</td></tr>\n",
       "\t<tr><th scope=row>TRINITY_DN128046_c0_g1_i1</th><td> 155.048578  </td><td> 9.770940    </td><td>0.4161875    </td><td>1.112043e-125</td><td>1.611477e-121</td></tr>\n",
       "\t<tr><th scope=row>TRINITY_DN56560_c0_g1_i1</th><td>  13.689345  </td><td> 3.471850    </td><td>0.4844604    </td><td> 5.523101e-14</td><td> 2.948696e-10</td></tr>\n",
       "\t<tr><th scope=row>TRINITY_DN82187_c0_g1_i1</th><td>   9.513082  </td><td> 3.454312    </td><td>0.6562764    </td><td> 9.251920e-09</td><td> 9.675219e-06</td></tr>\n",
       "\t<tr><th scope=row>TRINITY_DN61940_c0_g1_i1</th><td>  19.073210  </td><td> 3.335402    </td><td>0.4591079    </td><td> 2.658790e-14</td><td> 1.798015e-10</td></tr>\n",
       "\t<tr><th scope=row>TRINITY_DN35566_c0_g1_i1</th><td>  45.143537  </td><td> 3.272066    </td><td>0.4481272    </td><td> 2.107298e-14</td><td> 1.526858e-10</td></tr>\n",
       "\t<tr><th scope=row>TRINITY_DN51295_c0_g1_i1</th><td>  17.674442  </td><td> 3.263155    </td><td>0.6244357    </td><td> 1.101308e-08</td><td> 1.095240e-05</td></tr>\n",
       "\t<tr><th scope=row>TRINITY_DN79806_c0_g1_i1</th><td>  34.246108  </td><td> 3.259549    </td><td>0.4776683    </td><td> 6.484970e-13</td><td> 2.656396e-09</td></tr>\n",
       "\t<tr><th scope=row>TRINITY_DN146992_c0_g1_i1</th><td>   5.624471  </td><td> 3.252657    </td><td>0.7942949    </td><td> 2.348784e-06</td><td> 7.447744e-04</td></tr>\n",
       "\t<tr><th scope=row>TRINITY_DN89969_c0_g1_i1</th><td>   2.618407  </td><td> 3.182304    </td><td>0.8593963    </td><td> 4.174807e-04</td><td> 3.005565e-02</td></tr>\n",
       "\t<tr><th scope=row>TRINITY_DN26629_c0_g1_i1</th><td>   1.343547  </td><td> 3.152347    </td><td>0.5829288    </td><td> 3.544042e-04</td><td> 2.709122e-02</td></tr>\n",
       "\t<tr><th scope=row>TRINITY_DN149883_c0_g1_i1</th><td>   3.592164  </td><td> 3.064751    </td><td>0.8258970    </td><td> 1.074007e-05</td><td> 2.373531e-03</td></tr>\n",
       "\t<tr><th scope=row>TRINITY_DN135972_c0_g1_i1</th><td>   2.149302  </td><td> 3.027378    </td><td>0.7544622    </td><td> 3.074491e-06</td><td> 9.281853e-04</td></tr>\n",
       "\t<tr><th scope=row>TRINITY_DN72504_c0_g1_i1</th><td>   4.998506  </td><td> 2.751586    </td><td>0.7425460    </td><td> 1.032222e-05</td><td> 2.296197e-03</td></tr>\n",
       "\t<tr><th scope=row>TRINITY_DN158045_c0_g1_i1</th><td>   3.841803  </td><td> 2.581041    </td><td>0.5094681    </td><td> 2.287068e-08</td><td> 1.999962e-05</td></tr>\n",
       "</tbody>\n",
       "</table>\n"
      ],
      "text/latex": [
       "\\begin{tabular}{r|lllll}\n",
       "  & baseMean & log2FoldChange & lfcSE & pvalue & padj\\\\\n",
       "\\hline\n",
       "\tTRINITY\\_DN94855\\_c0\\_g1\\_i1 &  766.509208   & 11.740458     & 0.4123791     & 3.388060e-181 & 3.436780e-176\\\\\n",
       "\tTRINITY\\_DN103226\\_c0\\_g1\\_i1 &  717.178725   & 11.729469     & 0.4432693     & 5.305766e-157 & 1.345516e-152\\\\\n",
       "\tTRINITY\\_DN128205\\_c0\\_g1\\_i1 & 2871.442818   & 11.439449     & 0.4197738     & 1.292932e-164 & 4.371747e-160\\\\\n",
       "\tTRINITY\\_DN115787\\_c0\\_g1\\_i1 &  691.115560   & 11.423670     & 0.4458718     & 1.195002e-147 & 2.424372e-143\\\\\n",
       "\tTRINITY\\_DN121942\\_c0\\_g1\\_i1 &  684.441598   & 11.391444     & 0.4159474     & 3.020168e-168 & 1.531799e-163\\\\\n",
       "\tTRINITY\\_DN122219\\_c0\\_g1\\_i1 &  576.969262   & 11.348327     & 0.4548932     & 1.988178e-140 & 3.361280e-136\\\\\n",
       "\tTRINITY\\_DN128046\\_c0\\_g1\\_i1 &  155.048578   &  9.770940     & 0.4161875     & 1.112043e-125 & 1.611477e-121\\\\\n",
       "\tTRINITY\\_DN56560\\_c0\\_g1\\_i1 &   13.689345   &  3.471850     & 0.4844604     &  5.523101e-14 &  2.948696e-10\\\\\n",
       "\tTRINITY\\_DN82187\\_c0\\_g1\\_i1 &    9.513082   &  3.454312     & 0.6562764     &  9.251920e-09 &  9.675219e-06\\\\\n",
       "\tTRINITY\\_DN61940\\_c0\\_g1\\_i1 &   19.073210   &  3.335402     & 0.4591079     &  2.658790e-14 &  1.798015e-10\\\\\n",
       "\tTRINITY\\_DN35566\\_c0\\_g1\\_i1 &   45.143537   &  3.272066     & 0.4481272     &  2.107298e-14 &  1.526858e-10\\\\\n",
       "\tTRINITY\\_DN51295\\_c0\\_g1\\_i1 &   17.674442   &  3.263155     & 0.6244357     &  1.101308e-08 &  1.095240e-05\\\\\n",
       "\tTRINITY\\_DN79806\\_c0\\_g1\\_i1 &   34.246108   &  3.259549     & 0.4776683     &  6.484970e-13 &  2.656396e-09\\\\\n",
       "\tTRINITY\\_DN146992\\_c0\\_g1\\_i1 &    5.624471   &  3.252657     & 0.7942949     &  2.348784e-06 &  7.447744e-04\\\\\n",
       "\tTRINITY\\_DN89969\\_c0\\_g1\\_i1 &    2.618407   &  3.182304     & 0.8593963     &  4.174807e-04 &  3.005565e-02\\\\\n",
       "\tTRINITY\\_DN26629\\_c0\\_g1\\_i1 &    1.343547   &  3.152347     & 0.5829288     &  3.544042e-04 &  2.709122e-02\\\\\n",
       "\tTRINITY\\_DN149883\\_c0\\_g1\\_i1 &    3.592164   &  3.064751     & 0.8258970     &  1.074007e-05 &  2.373531e-03\\\\\n",
       "\tTRINITY\\_DN135972\\_c0\\_g1\\_i1 &    2.149302   &  3.027378     & 0.7544622     &  3.074491e-06 &  9.281853e-04\\\\\n",
       "\tTRINITY\\_DN72504\\_c0\\_g1\\_i1 &    4.998506   &  2.751586     & 0.7425460     &  1.032222e-05 &  2.296197e-03\\\\\n",
       "\tTRINITY\\_DN158045\\_c0\\_g1\\_i1 &    3.841803   &  2.581041     & 0.5094681     &  2.287068e-08 &  1.999962e-05\\\\\n",
       "\\end{tabular}\n"
      ],
      "text/markdown": [
       "\n",
       "| <!--/--> | baseMean | log2FoldChange | lfcSE | pvalue | padj |\n",
       "|---|---|---|---|---|---|\n",
       "| TRINITY_DN94855_c0_g1_i1 |  766.509208   | 11.740458     | 0.4123791     | 3.388060e-181 | 3.436780e-176 |\n",
       "| TRINITY_DN103226_c0_g1_i1 |  717.178725   | 11.729469     | 0.4432693     | 5.305766e-157 | 1.345516e-152 |\n",
       "| TRINITY_DN128205_c0_g1_i1 | 2871.442818   | 11.439449     | 0.4197738     | 1.292932e-164 | 4.371747e-160 |\n",
       "| TRINITY_DN115787_c0_g1_i1 |  691.115560   | 11.423670     | 0.4458718     | 1.195002e-147 | 2.424372e-143 |\n",
       "| TRINITY_DN121942_c0_g1_i1 |  684.441598   | 11.391444     | 0.4159474     | 3.020168e-168 | 1.531799e-163 |\n",
       "| TRINITY_DN122219_c0_g1_i1 |  576.969262   | 11.348327     | 0.4548932     | 1.988178e-140 | 3.361280e-136 |\n",
       "| TRINITY_DN128046_c0_g1_i1 |  155.048578   |  9.770940     | 0.4161875     | 1.112043e-125 | 1.611477e-121 |\n",
       "| TRINITY_DN56560_c0_g1_i1 |   13.689345   |  3.471850     | 0.4844604     |  5.523101e-14 |  2.948696e-10 |\n",
       "| TRINITY_DN82187_c0_g1_i1 |    9.513082   |  3.454312     | 0.6562764     |  9.251920e-09 |  9.675219e-06 |\n",
       "| TRINITY_DN61940_c0_g1_i1 |   19.073210   |  3.335402     | 0.4591079     |  2.658790e-14 |  1.798015e-10 |\n",
       "| TRINITY_DN35566_c0_g1_i1 |   45.143537   |  3.272066     | 0.4481272     |  2.107298e-14 |  1.526858e-10 |\n",
       "| TRINITY_DN51295_c0_g1_i1 |   17.674442   |  3.263155     | 0.6244357     |  1.101308e-08 |  1.095240e-05 |\n",
       "| TRINITY_DN79806_c0_g1_i1 |   34.246108   |  3.259549     | 0.4776683     |  6.484970e-13 |  2.656396e-09 |\n",
       "| TRINITY_DN146992_c0_g1_i1 |    5.624471   |  3.252657     | 0.7942949     |  2.348784e-06 |  7.447744e-04 |\n",
       "| TRINITY_DN89969_c0_g1_i1 |    2.618407   |  3.182304     | 0.8593963     |  4.174807e-04 |  3.005565e-02 |\n",
       "| TRINITY_DN26629_c0_g1_i1 |    1.343547   |  3.152347     | 0.5829288     |  3.544042e-04 |  2.709122e-02 |\n",
       "| TRINITY_DN149883_c0_g1_i1 |    3.592164   |  3.064751     | 0.8258970     |  1.074007e-05 |  2.373531e-03 |\n",
       "| TRINITY_DN135972_c0_g1_i1 |    2.149302   |  3.027378     | 0.7544622     |  3.074491e-06 |  9.281853e-04 |\n",
       "| TRINITY_DN72504_c0_g1_i1 |    4.998506   |  2.751586     | 0.7425460     |  1.032222e-05 |  2.296197e-03 |\n",
       "| TRINITY_DN158045_c0_g1_i1 |    3.841803   |  2.581041     | 0.5094681     |  2.287068e-08 |  1.999962e-05 |\n",
       "\n"
      ],
      "text/plain": [
       "                          baseMean    log2FoldChange lfcSE     pvalue       \n",
       "TRINITY_DN94855_c0_g1_i1   766.509208 11.740458      0.4123791 3.388060e-181\n",
       "TRINITY_DN103226_c0_g1_i1  717.178725 11.729469      0.4432693 5.305766e-157\n",
       "TRINITY_DN128205_c0_g1_i1 2871.442818 11.439449      0.4197738 1.292932e-164\n",
       "TRINITY_DN115787_c0_g1_i1  691.115560 11.423670      0.4458718 1.195002e-147\n",
       "TRINITY_DN121942_c0_g1_i1  684.441598 11.391444      0.4159474 3.020168e-168\n",
       "TRINITY_DN122219_c0_g1_i1  576.969262 11.348327      0.4548932 1.988178e-140\n",
       "TRINITY_DN128046_c0_g1_i1  155.048578  9.770940      0.4161875 1.112043e-125\n",
       "TRINITY_DN56560_c0_g1_i1    13.689345  3.471850      0.4844604  5.523101e-14\n",
       "TRINITY_DN82187_c0_g1_i1     9.513082  3.454312      0.6562764  9.251920e-09\n",
       "TRINITY_DN61940_c0_g1_i1    19.073210  3.335402      0.4591079  2.658790e-14\n",
       "TRINITY_DN35566_c0_g1_i1    45.143537  3.272066      0.4481272  2.107298e-14\n",
       "TRINITY_DN51295_c0_g1_i1    17.674442  3.263155      0.6244357  1.101308e-08\n",
       "TRINITY_DN79806_c0_g1_i1    34.246108  3.259549      0.4776683  6.484970e-13\n",
       "TRINITY_DN146992_c0_g1_i1    5.624471  3.252657      0.7942949  2.348784e-06\n",
       "TRINITY_DN89969_c0_g1_i1     2.618407  3.182304      0.8593963  4.174807e-04\n",
       "TRINITY_DN26629_c0_g1_i1     1.343547  3.152347      0.5829288  3.544042e-04\n",
       "TRINITY_DN149883_c0_g1_i1    3.592164  3.064751      0.8258970  1.074007e-05\n",
       "TRINITY_DN135972_c0_g1_i1    2.149302  3.027378      0.7544622  3.074491e-06\n",
       "TRINITY_DN72504_c0_g1_i1     4.998506  2.751586      0.7425460  1.032222e-05\n",
       "TRINITY_DN158045_c0_g1_i1    3.841803  2.581041      0.5094681  2.287068e-08\n",
       "                          padj         \n",
       "TRINITY_DN94855_c0_g1_i1  3.436780e-176\n",
       "TRINITY_DN103226_c0_g1_i1 1.345516e-152\n",
       "TRINITY_DN128205_c0_g1_i1 4.371747e-160\n",
       "TRINITY_DN115787_c0_g1_i1 2.424372e-143\n",
       "TRINITY_DN121942_c0_g1_i1 1.531799e-163\n",
       "TRINITY_DN122219_c0_g1_i1 3.361280e-136\n",
       "TRINITY_DN128046_c0_g1_i1 1.611477e-121\n",
       "TRINITY_DN56560_c0_g1_i1   2.948696e-10\n",
       "TRINITY_DN82187_c0_g1_i1   9.675219e-06\n",
       "TRINITY_DN61940_c0_g1_i1   1.798015e-10\n",
       "TRINITY_DN35566_c0_g1_i1   1.526858e-10\n",
       "TRINITY_DN51295_c0_g1_i1   1.095240e-05\n",
       "TRINITY_DN79806_c0_g1_i1   2.656396e-09\n",
       "TRINITY_DN146992_c0_g1_i1  7.447744e-04\n",
       "TRINITY_DN89969_c0_g1_i1   3.005565e-02\n",
       "TRINITY_DN26629_c0_g1_i1   2.709122e-02\n",
       "TRINITY_DN149883_c0_g1_i1  2.373531e-03\n",
       "TRINITY_DN135972_c0_g1_i1  9.281853e-04\n",
       "TRINITY_DN72504_c0_g1_i1   2.296197e-03\n",
       "TRINITY_DN158045_c0_g1_i1  1.999962e-05"
      ]
     },
     "metadata": {},
     "output_type": "display_data"
    }
   ],
   "source": [
    "resLFC_nocontam_sig <- data.frame(subset(resLFC_nocontam, padj < 0.05))\n",
    "resLFC_nocontam_sig <- resLFC_nocontam_sig[order(-resLFC_nocontam_sig$log2FoldChange),]\n",
    "head(resLFC_nocontam_sig,n=20)"
   ]
  },
  {
   "cell_type": "markdown",
   "metadata": {},
   "source": [
    "Okay there's the table. Now find rownames of rows with higher LFC values than absolute value of lowest LFC value. "
   ]
  },
  {
   "cell_type": "code",
   "execution_count": 226,
   "metadata": {},
   "outputs": [
    {
     "data": {
      "text/html": [
       "<ol class=list-inline>\n",
       "\t<li>'TRINITY_DN94855_c0_g1_i1'</li>\n",
       "\t<li>'TRINITY_DN103226_c0_g1_i1'</li>\n",
       "\t<li>'TRINITY_DN128205_c0_g1_i1'</li>\n",
       "\t<li>'TRINITY_DN115787_c0_g1_i1'</li>\n",
       "\t<li>'TRINITY_DN121942_c0_g1_i1'</li>\n",
       "\t<li>'TRINITY_DN122219_c0_g1_i1'</li>\n",
       "\t<li>'TRINITY_DN128046_c0_g1_i1'</li>\n",
       "</ol>\n"
      ],
      "text/latex": [
       "\\begin{enumerate*}\n",
       "\\item 'TRINITY\\_DN94855\\_c0\\_g1\\_i1'\n",
       "\\item 'TRINITY\\_DN103226\\_c0\\_g1\\_i1'\n",
       "\\item 'TRINITY\\_DN128205\\_c0\\_g1\\_i1'\n",
       "\\item 'TRINITY\\_DN115787\\_c0\\_g1\\_i1'\n",
       "\\item 'TRINITY\\_DN121942\\_c0\\_g1\\_i1'\n",
       "\\item 'TRINITY\\_DN122219\\_c0\\_g1\\_i1'\n",
       "\\item 'TRINITY\\_DN128046\\_c0\\_g1\\_i1'\n",
       "\\end{enumerate*}\n"
      ],
      "text/markdown": [
       "1. 'TRINITY_DN94855_c0_g1_i1'\n",
       "2. 'TRINITY_DN103226_c0_g1_i1'\n",
       "3. 'TRINITY_DN128205_c0_g1_i1'\n",
       "4. 'TRINITY_DN115787_c0_g1_i1'\n",
       "5. 'TRINITY_DN121942_c0_g1_i1'\n",
       "6. 'TRINITY_DN122219_c0_g1_i1'\n",
       "7. 'TRINITY_DN128046_c0_g1_i1'\n",
       "\n",
       "\n"
      ],
      "text/plain": [
       "[1] \"TRINITY_DN94855_c0_g1_i1\"  \"TRINITY_DN103226_c0_g1_i1\"\n",
       "[3] \"TRINITY_DN128205_c0_g1_i1\" \"TRINITY_DN115787_c0_g1_i1\"\n",
       "[5] \"TRINITY_DN121942_c0_g1_i1\" \"TRINITY_DN122219_c0_g1_i1\"\n",
       "[7] \"TRINITY_DN128046_c0_g1_i1\""
      ]
     },
     "metadata": {},
     "output_type": "display_data"
    }
   ],
   "source": [
    "contam_add <- rownames(resLFC_nocontam_sig[resLFC_nocontam_sig$log2FoldChange > abs(min(resLFC_nocontam_sig$log2FoldChange)),])\n",
    "contam_add"
   ]
  },
  {
   "cell_type": "markdown",
   "metadata": {},
   "source": [
    "Okay here the seven remaining contigs that we will consider contamination. I am going to add them to the list of contam_IDs, which will be used for removal from the intial counts object. Then the analysis will be re-run. This is to account for renormalization after removal, since many of these contigs had high mean expression across samples. "
   ]
  },
  {
   "cell_type": "code",
   "execution_count": 227,
   "metadata": {},
   "outputs": [
    {
     "data": {
      "text/html": [
       "5804"
      ],
      "text/latex": [
       "5804"
      ],
      "text/markdown": [
       "5804"
      ],
      "text/plain": [
       "[1] 5804"
      ]
     },
     "metadata": {},
     "output_type": "display_data"
    }
   ],
   "source": [
    "contam_IDs <- c(contam_IDs, contam_add)\n",
    "length(contam_IDs)"
   ]
  },
  {
   "cell_type": "markdown",
   "metadata": {},
   "source": [
    "Okay successfully added. "
   ]
  },
  {
   "cell_type": "markdown",
   "metadata": {},
   "source": [
    "Now to check out a multi-factor design, analyzing both range and condition. "
   ]
  },
  {
   "cell_type": "code",
   "execution_count": null,
   "metadata": {},
   "outputs": [],
   "source": []
  },
  {
   "cell_type": "code",
   "execution_count": 82,
   "metadata": {},
   "outputs": [],
   "source": [
    "vsd <- vst(dds)"
   ]
  },
  {
   "cell_type": "code",
   "execution_count": 85,
   "metadata": {},
   "outputs": [
    {
     "ename": "ERROR",
     "evalue": "Error in library(\"pheatmap\"): there is no package called ‘pheatmap’\n",
     "output_type": "error",
     "traceback": [
      "Error in library(\"pheatmap\"): there is no package called ‘pheatmap’\nTraceback:\n",
      "1. library(\"pheatmap\")"
     ]
    }
   ],
   "source": [
    "library(\"RColorBrewer\")\n",
    "library(\"pheatmap\")\n",
    "sampleDists <- dist(t(assay(vsd)))\n",
    "sampleDistMatrix <- as.matrix(sampleDists)\n",
    "rownames(sampleDistMatrix) <- paste(vsd$condition, vsd$range, sep=\"-\")\n",
    "colnames(sampleDistMatrix) <- NULL\n",
    "colors <- colorRampPalette( rev(brewer.pal(9, \"Blues\")) )(255)\n",
    "pheatmap(sampleDistMatrix,\n",
    "         clustering_distance_rows=sampleDists,\n",
    "         clustering_distance_cols=sampleDists,\n",
    "         col=colors)"
   ]
  },
  {
   "cell_type": "code",
   "execution_count": 83,
   "metadata": {},
   "outputs": [
    {
     "data": {
      "image/png": "[encoded data removed]",
      "text/plain": [
       "plot without title"
      ]
     },
     "metadata": {},
     "output_type": "display_data"
    }
   ],
   "source": [
    "plotPCA(vsd, intgroup=c(\"condition\", \"range\"))"
   ]
  },
  {
   "cell_type": "code",
   "execution_count": 65,
   "metadata": {},
   "outputs": [],
   "source": [
    "ddsMF <- dds"
   ]
  },
  {
   "cell_type": "markdown",
   "metadata": {},
   "source": [
    "Let's remove the Fort Pierce (FP) samples because the invasive status of Loxo is unresolved there. FP are in rows 11-22. "
   ]
  },
  {
   "cell_type": "code",
   "execution_count": 66,
   "metadata": {},
   "outputs": [
    {
     "data": {
      "text/plain": [
       "class: DESeqDataSet \n",
       "dim: 149511 69 \n",
       "metadata(1): version\n",
       "assays(6): counts mu ... replaceCounts replaceCooks\n",
       "rownames(149511): TRINITY_DN2522_c0_g1_i3 TRINITY_DN68400_c0_g1_i1 ...\n",
       "  TRINITY_DN131036_c0_g1_i1 TRINITY_DN46128_c0_g1_i1\n",
       "rowData names(23): baseMean baseVar ... maxCooks replace\n",
       "colnames(69): AP_C_1 AP_C_2 ... SC_P_2 SC_P_3\n",
       "colData names(6): site condition ... sizeFactor replaceable"
      ]
     },
     "metadata": {},
     "output_type": "display_data"
    }
   ],
   "source": [
    "ddsMF_noFP <- ddsMF[,-c(11:22)]\n",
    "ddsMF_noFP"
   ]
  },
  {
   "cell_type": "markdown",
   "metadata": {},
   "source": [
    "Now you can see that we only have 69 samples, after removing the 12 from FP. "
   ]
  },
  {
   "cell_type": "code",
   "execution_count": 73,
   "metadata": {},
   "outputs": [
    {
     "data": {
      "text/html": [
       "<ol class=list-inline>\n",
       "\t<li>NativeC</li>\n",
       "\t<li>NativeC</li>\n",
       "\t<li>NativeC</li>\n",
       "\t<li>NativeC</li>\n",
       "\t<li>NativeC</li>\n",
       "\t<li>NativeC</li>\n",
       "\t<li>NativeP</li>\n",
       "\t<li>NativeP</li>\n",
       "\t<li>NativeP</li>\n",
       "\t<li>NativeP</li>\n",
       "\t<li>NativeC</li>\n",
       "\t<li>NativeC</li>\n",
       "\t<li>NativeC</li>\n",
       "\t<li>NativeC</li>\n",
       "\t<li>NativeC</li>\n",
       "\t<li>NativeC</li>\n",
       "\t<li>NativeP</li>\n",
       "\t<li>NativeP</li>\n",
       "\t<li>AbsentC</li>\n",
       "\t<li>AbsentC</li>\n",
       "\t<li>AbsentC</li>\n",
       "\t<li>InvasiveC</li>\n",
       "\t<li>InvasiveC</li>\n",
       "\t<li>InvasiveP</li>\n",
       "\t<li>InvasiveC</li>\n",
       "\t<li>InvasiveC</li>\n",
       "\t<li>InvasiveC</li>\n",
       "\t<li>InvasiveP</li>\n",
       "\t<li>InvasiveC</li>\n",
       "\t<li>InvasiveC</li>\n",
       "\t<li>InvasiveC</li>\n",
       "\t<li>InvasiveC</li>\n",
       "\t<li>InvasiveC</li>\n",
       "\t<li>InvasiveC</li>\n",
       "\t<li>InvasiveP</li>\n",
       "\t<li>InvasiveP</li>\n",
       "\t<li>AbsentC</li>\n",
       "\t<li>AbsentC</li>\n",
       "\t<li>AbsentC</li>\n",
       "\t<li>AbsentC</li>\n",
       "\t<li>AbsentC</li>\n",
       "\t<li>AbsentC</li>\n",
       "\t<li>AbsentP</li>\n",
       "\t<li>AbsentP</li>\n",
       "\t<li>AbsentP</li>\n",
       "\t<li>AbsentP</li>\n",
       "\t<li>AbsentP</li>\n",
       "\t<li>AbsentP</li>\n",
       "\t<li>AbsentC</li>\n",
       "\t<li>AbsentC</li>\n",
       "\t<li>AbsentC</li>\n",
       "\t<li>AbsentC</li>\n",
       "\t<li>AbsentC</li>\n",
       "\t<li>AbsentC</li>\n",
       "\t<li>AbsentP</li>\n",
       "\t<li>AbsentP</li>\n",
       "\t<li>AbsentP</li>\n",
       "\t<li>AbsentP</li>\n",
       "\t<li>AbsentP</li>\n",
       "\t<li>AbsentP</li>\n",
       "\t<li>InvasiveC</li>\n",
       "\t<li>InvasiveC</li>\n",
       "\t<li>InvasiveC</li>\n",
       "\t<li>InvasiveC</li>\n",
       "\t<li>InvasiveC</li>\n",
       "\t<li>InvasiveC</li>\n",
       "\t<li>InvasiveP</li>\n",
       "\t<li>InvasiveP</li>\n",
       "\t<li>InvasiveP</li>\n",
       "</ol>\n",
       "\n",
       "<details>\n",
       "\t<summary style=display:list-item;cursor:pointer>\n",
       "\t\t<strong>Levels</strong>:\n",
       "\t</summary>\n",
       "\t<ol class=list-inline>\n",
       "\t\t<li>'AbsentC'</li>\n",
       "\t\t<li>'AbsentP'</li>\n",
       "\t\t<li>'InvasiveC'</li>\n",
       "\t\t<li>'InvasiveP'</li>\n",
       "\t\t<li>'NativeC'</li>\n",
       "\t\t<li>'NativeP'</li>\n",
       "\t</ol>\n",
       "</details>"
      ],
      "text/latex": [
       "\\begin{enumerate*}\n",
       "\\item NativeC\n",
       "\\item NativeC\n",
       "\\item NativeC\n",
       "\\item NativeC\n",
       "\\item NativeC\n",
       "\\item NativeC\n",
       "\\item NativeP\n",
       "\\item NativeP\n",
       "\\item NativeP\n",
       "\\item NativeP\n",
       "\\item NativeC\n",
       "\\item NativeC\n",
       "\\item NativeC\n",
       "\\item NativeC\n",
       "\\item NativeC\n",
       "\\item NativeC\n",
       "\\item NativeP\n",
       "\\item NativeP\n",
       "\\item AbsentC\n",
       "\\item AbsentC\n",
       "\\item AbsentC\n",
       "\\item InvasiveC\n",
       "\\item InvasiveC\n",
       "\\item InvasiveP\n",
       "\\item InvasiveC\n",
       "\\item InvasiveC\n",
       "\\item InvasiveC\n",
       "\\item InvasiveP\n",
       "\\item InvasiveC\n",
       "\\item InvasiveC\n",
       "\\item InvasiveC\n",
       "\\item InvasiveC\n",
       "\\item InvasiveC\n",
       "\\item InvasiveC\n",
       "\\item InvasiveP\n",
       "\\item InvasiveP\n",
       "\\item AbsentC\n",
       "\\item AbsentC\n",
       "\\item AbsentC\n",
       "\\item AbsentC\n",
       "\\item AbsentC\n",
       "\\item AbsentC\n",
       "\\item AbsentP\n",
       "\\item AbsentP\n",
       "\\item AbsentP\n",
       "\\item AbsentP\n",
       "\\item AbsentP\n",
       "\\item AbsentP\n",
       "\\item AbsentC\n",
       "\\item AbsentC\n",
       "\\item AbsentC\n",
       "\\item AbsentC\n",
       "\\item AbsentC\n",
       "\\item AbsentC\n",
       "\\item AbsentP\n",
       "\\item AbsentP\n",
       "\\item AbsentP\n",
       "\\item AbsentP\n",
       "\\item AbsentP\n",
       "\\item AbsentP\n",
       "\\item InvasiveC\n",
       "\\item InvasiveC\n",
       "\\item InvasiveC\n",
       "\\item InvasiveC\n",
       "\\item InvasiveC\n",
       "\\item InvasiveC\n",
       "\\item InvasiveP\n",
       "\\item InvasiveP\n",
       "\\item InvasiveP\n",
       "\\end{enumerate*}\n",
       "\n",
       "\\emph{Levels}: \\begin{enumerate*}\n",
       "\\item 'AbsentC'\n",
       "\\item 'AbsentP'\n",
       "\\item 'InvasiveC'\n",
       "\\item 'InvasiveP'\n",
       "\\item 'NativeC'\n",
       "\\item 'NativeP'\n",
       "\\end{enumerate*}\n"
      ],
      "text/markdown": [
       "1. NativeC\n",
       "2. NativeC\n",
       "3. NativeC\n",
       "4. NativeC\n",
       "5. NativeC\n",
       "6. NativeC\n",
       "7. NativeP\n",
       "8. NativeP\n",
       "9. NativeP\n",
       "10. NativeP\n",
       "11. NativeC\n",
       "12. NativeC\n",
       "13. NativeC\n",
       "14. NativeC\n",
       "15. NativeC\n",
       "16. NativeC\n",
       "17. NativeP\n",
       "18. NativeP\n",
       "19. AbsentC\n",
       "20. AbsentC\n",
       "21. AbsentC\n",
       "22. InvasiveC\n",
       "23. InvasiveC\n",
       "24. InvasiveP\n",
       "25. InvasiveC\n",
       "26. InvasiveC\n",
       "27. InvasiveC\n",
       "28. InvasiveP\n",
       "29. InvasiveC\n",
       "30. InvasiveC\n",
       "31. InvasiveC\n",
       "32. InvasiveC\n",
       "33. InvasiveC\n",
       "34. InvasiveC\n",
       "35. InvasiveP\n",
       "36. InvasiveP\n",
       "37. AbsentC\n",
       "38. AbsentC\n",
       "39. AbsentC\n",
       "40. AbsentC\n",
       "41. AbsentC\n",
       "42. AbsentC\n",
       "43. AbsentP\n",
       "44. AbsentP\n",
       "45. AbsentP\n",
       "46. AbsentP\n",
       "47. AbsentP\n",
       "48. AbsentP\n",
       "49. AbsentC\n",
       "50. AbsentC\n",
       "51. AbsentC\n",
       "52. AbsentC\n",
       "53. AbsentC\n",
       "54. AbsentC\n",
       "55. AbsentP\n",
       "56. AbsentP\n",
       "57. AbsentP\n",
       "58. AbsentP\n",
       "59. AbsentP\n",
       "60. AbsentP\n",
       "61. InvasiveC\n",
       "62. InvasiveC\n",
       "63. InvasiveC\n",
       "64. InvasiveC\n",
       "65. InvasiveC\n",
       "66. InvasiveC\n",
       "67. InvasiveP\n",
       "68. InvasiveP\n",
       "69. InvasiveP\n",
       "\n",
       "\n",
       "\n",
       "**Levels**: 1. 'AbsentC'\n",
       "2. 'AbsentP'\n",
       "3. 'InvasiveC'\n",
       "4. 'InvasiveP'\n",
       "5. 'NativeC'\n",
       "6. 'NativeP'\n",
       "\n",
       "\n"
      ],
      "text/plain": [
       " [1] NativeC   NativeC   NativeC   NativeC   NativeC   NativeC   NativeP  \n",
       " [8] NativeP   NativeP   NativeP   NativeC   NativeC   NativeC   NativeC  \n",
       "[15] NativeC   NativeC   NativeP   NativeP   AbsentC   AbsentC   AbsentC  \n",
       "[22] InvasiveC InvasiveC InvasiveP InvasiveC InvasiveC InvasiveC InvasiveP\n",
       "[29] InvasiveC InvasiveC InvasiveC InvasiveC InvasiveC InvasiveC InvasiveP\n",
       "[36] InvasiveP AbsentC   AbsentC   AbsentC   AbsentC   AbsentC   AbsentC  \n",
       "[43] AbsentP   AbsentP   AbsentP   AbsentP   AbsentP   AbsentP   AbsentC  \n",
       "[50] AbsentC   AbsentC   AbsentC   AbsentC   AbsentC   AbsentP   AbsentP  \n",
       "[57] AbsentP   AbsentP   AbsentP   AbsentP   InvasiveC InvasiveC InvasiveC\n",
       "[64] InvasiveC InvasiveC InvasiveC InvasiveP InvasiveP InvasiveP\n",
       "Levels: AbsentC AbsentP InvasiveC InvasiveP NativeC NativeP"
      ]
     },
     "metadata": {},
     "output_type": "display_data"
    }
   ],
   "source": [
    "ddsMF_noFP$group <- factor(paste0(ddsMF_noFP$range, ddsMF_noFP$condition)) \n",
    "ddsMF_noFP$group"
   ]
  },
  {
   "cell_type": "code",
   "execution_count": 74,
   "metadata": {},
   "outputs": [
    {
     "name": "stderr",
     "output_type": "stream",
     "text": [
      "using pre-existing size factors\n",
      "estimating dispersions\n",
      "found already estimated dispersions, replacing these\n",
      "gene-wise dispersion estimates\n",
      "mean-dispersion relationship\n",
      "-- note: fitType='parametric', but the dispersion trend was not well captured by the\n",
      "   function: y = a/x + b, and a local regression fit was automatically substituted.\n",
      "   specify fitType='local' or 'mean' to avoid this message next time.\n",
      "final dispersion estimates\n",
      "fitting model and testing\n",
      "-- replacing outliers and refitting for 12266 genes\n",
      "-- DESeq argument 'minReplicatesForReplace' = 7 \n",
      "-- original counts are preserved in counts(dds)\n",
      "estimating dispersions\n",
      "fitting model and testing\n"
     ]
    }
   ],
   "source": [
    "design(ddsMF_noFP) <- ~ group\n",
    "ddsMF_noFP <- DESeq(ddsMF_noFP)"
   ]
  },
  {
   "cell_type": "code",
   "execution_count": 77,
   "metadata": {},
   "outputs": [
    {
     "data": {
      "text/plain": [
       "log2 fold change (MLE): group NativeP vs AbsentC \n",
       "Wald test p-value: group NativeP vs AbsentC \n",
       "DataFrame with 149511 rows and 6 columns\n",
       "                                    baseMean     log2FoldChange\n",
       "                                   <numeric>          <numeric>\n",
       "TRINITY_DN2522_c0_g1_i3     6130.46736837643  0.197986920677313\n",
       "TRINITY_DN68400_c0_g1_i1      28.99232254402   1.49194324768313\n",
       "TRINITY_DN140775_c0_g1_i1   1.04073114649582  0.205046811298963\n",
       "TRINITY_DN75566_c0_g1_i1    67.4701849518878 -0.193809975013515\n",
       "TRINITY_DN88538_c0_g1_i1  0.0731384114313201 -0.802580660941875\n",
       "...                                      ...                ...\n",
       "TRINITY_DN24218_c0_g1_i1    61.1680868224187  0.246470004796439\n",
       "TRINITY_DN144968_c0_g1_i1   1.15798708783082   1.05979257963071\n",
       "TRINITY_DN8739_c0_g1_i1     855.379171048832   0.15285016051543\n",
       "TRINITY_DN131036_c0_g1_i1   55.8425836148422  0.342836223117198\n",
       "TRINITY_DN46128_c0_g1_i1    7.96024834561026 -0.918292432810512\n",
       "                                      lfcSE               stat\n",
       "                                  <numeric>          <numeric>\n",
       "TRINITY_DN2522_c0_g1_i3   0.324794600754985    0.6095757756351\n",
       "TRINITY_DN68400_c0_g1_i1  0.327536003452946   4.55505114538489\n",
       "TRINITY_DN140775_c0_g1_i1  1.04615334631322  0.196000722094495\n",
       "TRINITY_DN75566_c0_g1_i1  0.364769161892043 -0.531322258735443\n",
       "TRINITY_DN88538_c0_g1_i1    5.8717968221745 -0.136683997292102\n",
       "...                                     ...                ...\n",
       "TRINITY_DN24218_c0_g1_i1  0.175650589451094   1.40318347673444\n",
       "TRINITY_DN144968_c0_g1_i1  1.19834258422091  0.884381973557023\n",
       "TRINITY_DN8739_c0_g1_i1   0.242110806928615  0.631323163366668\n",
       "TRINITY_DN131036_c0_g1_i1  0.23987064588211   1.42925459618637\n",
       "TRINITY_DN46128_c0_g1_i1  0.558197530011809   -1.6451030028583\n",
       "                                        pvalue                 padj\n",
       "                                     <numeric>            <numeric>\n",
       "TRINITY_DN2522_c0_g1_i3      0.542142862595982    0.740312881844119\n",
       "TRINITY_DN68400_c0_g1_i1  5.23728339259522e-06 0.000356203634781622\n",
       "TRINITY_DN140775_c0_g1_i1     0.84460960080978    0.924377391196787\n",
       "TRINITY_DN75566_c0_g1_i1      0.59519548337055    0.776286276404721\n",
       "TRINITY_DN88538_c0_g1_i1     0.891280579115354                   NA\n",
       "...                                        ...                  ...\n",
       "TRINITY_DN24218_c0_g1_i1      0.16056213349641    0.412175602774351\n",
       "TRINITY_DN144968_c0_g1_i1    0.376490050648097    0.624031144987189\n",
       "TRINITY_DN8739_c0_g1_i1      0.527829244462135    0.729802917030341\n",
       "TRINITY_DN131036_c0_g1_i1    0.152931070793688    0.402227780547029\n",
       "TRINITY_DN46128_c0_g1_i1    0.0999485714612207    0.322004317263345"
      ]
     },
     "metadata": {},
     "output_type": "display_data"
    },
    {
     "name": "stdout",
     "output_type": "stream",
     "text": [
      "\n",
      "out of 148998 with nonzero total read count\n",
      "adjusted p-value < 0.05\n",
      "LFC > 0 (up)       : 5114, 3.4%\n",
      "LFC < 0 (down)     : 6340, 4.3%\n",
      "outliers [1]       : 289, 0.19%\n",
      "low counts [2]     : 29331, 20%\n",
      "(mean count < 1)\n",
      "[1] see 'cooksCutoff' argument of ?results\n",
      "[2] see 'independentFiltering' argument of ?results\n",
      "\n"
     ]
    }
   ],
   "source": [
    "resMF_noFP <- results(ddsMF_noFP, alpha=0.05)\n",
    "resMF_noFP\n",
    "summary(resMF_noFP)"
   ]
  },
  {
   "cell_type": "code",
   "execution_count": 80,
   "metadata": {},
   "outputs": [
    {
     "data": {
      "text/html": [
       "<ol class=list-inline>\n",
       "\t<li>'Intercept'</li>\n",
       "\t<li>'group_AbsentP_vs_AbsentC'</li>\n",
       "\t<li>'group_InvasiveC_vs_AbsentC'</li>\n",
       "\t<li>'group_InvasiveP_vs_AbsentC'</li>\n",
       "\t<li>'group_NativeC_vs_AbsentC'</li>\n",
       "\t<li>'group_NativeP_vs_AbsentC'</li>\n",
       "</ol>\n"
      ],
      "text/latex": [
       "\\begin{enumerate*}\n",
       "\\item 'Intercept'\n",
       "\\item 'group\\_AbsentP\\_vs\\_AbsentC'\n",
       "\\item 'group\\_InvasiveC\\_vs\\_AbsentC'\n",
       "\\item 'group\\_InvasiveP\\_vs\\_AbsentC'\n",
       "\\item 'group\\_NativeC\\_vs\\_AbsentC'\n",
       "\\item 'group\\_NativeP\\_vs\\_AbsentC'\n",
       "\\end{enumerate*}\n"
      ],
      "text/markdown": [
       "1. 'Intercept'\n",
       "2. 'group_AbsentP_vs_AbsentC'\n",
       "3. 'group_InvasiveC_vs_AbsentC'\n",
       "4. 'group_InvasiveP_vs_AbsentC'\n",
       "5. 'group_NativeC_vs_AbsentC'\n",
       "6. 'group_NativeP_vs_AbsentC'\n",
       "\n",
       "\n"
      ],
      "text/plain": [
       "[1] \"Intercept\"                  \"group_AbsentP_vs_AbsentC\"  \n",
       "[3] \"group_InvasiveC_vs_AbsentC\" \"group_InvasiveP_vs_AbsentC\"\n",
       "[5] \"group_NativeC_vs_AbsentC\"   \"group_NativeP_vs_AbsentC\"  "
      ]
     },
     "metadata": {},
     "output_type": "display_data"
    }
   ],
   "source": [
    "resultsNames(ddsMF_noFP)"
   ]
  }
 ],
 "metadata": {
  "kernelspec": {
   "display_name": "R",
   "language": "R",
   "name": "ir"
  },
  "language_info": {
   "codemirror_mode": "r",
   "file_extension": ".r",
   "mimetype": "text/x-r-source",
   "name": "R",
   "pygments_lexer": "r",
   "version": "3.6.1"
  }
 },
 "nbformat": 4,
 "nbformat_minor": 2
}
