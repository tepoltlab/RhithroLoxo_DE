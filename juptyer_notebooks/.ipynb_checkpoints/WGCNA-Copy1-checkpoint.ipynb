{
 "cells": [
  {
   "cell_type": "markdown",
   "metadata": {},
   "source": [
    "### WGCNA"
   ]
  },
  {
   "cell_type": "markdown",
   "metadata": {},
   "source": [
    "Looking for modules of coexpressed transcripts in the variance stabilized transformed count data from `DESeq2` and relating them to trait data (i.e. infection status, range, etc.). Here are some good resources for learning more about how to apply WGCNA to our data set:\n",
    "\n",
    "[WGCNA tutorials](https://horvath.genetics.ucla.edu/html/CoexpressionNetwork/Rpackages/WGCNA/Tutorials/)\n",
    "\n",
    "[Harvard WGCNA walkthrough](http://pklab.med.harvard.edu/scw2014/WGCNA.html)\n",
    "\n",
    "Peter Langfelder blog posts: [categorical data](https://peterlangfelder.com/2018/11/25/working-with-categorical-variables/), [signed vs. unsigned](https://peterlangfelder.com/2018/11/25/signed-or-unsigned-which-network-type-is-preferable/), [signed vs. signed hybrid](https://peterlangfelder.com/2018/11/25/__trashed/)\n",
    "\n",
    "[Matz lab code](https://github.com/sbarfield/tagSeq-commonGarden/blob/master/WGCNA_common_garden.r)"
   ]
  },
  {
   "cell_type": "markdown",
   "metadata": {},
   "source": [
    "If you have already performed module construction (steps `adjacency()`, `TOMsimilarity()`, and `flashClust()`) and saved the output (`dissTOM` and `geneTree`), you can skip all steps through module construction and load in saved objects for downstream use."
   ]
  },
  {
   "cell_type": "markdown",
   "metadata": {},
   "source": [
    "Load in the package."
   ]
  },
  {
   "cell_type": "code",
   "execution_count": null,
   "metadata": {},
   "outputs": [],
   "source": [
    "library(WGCNA)\n",
    "options(stringsAsFactors = FALSE)"
   ]
  },
  {
   "cell_type": "markdown",
   "metadata": {},
   "source": [
    "## Infected vs. uninfected\n",
    "\n",
    "At this stage, we'll just do bulk comparisons between parasitized and control, using the transformed counts that include the FP samples."
   ]
  },
  {
   "cell_type": "markdown",
   "metadata": {},
   "source": [
    "Read in the data. "
   ]
  },
  {
   "cell_type": "code",
   "execution_count": null,
   "metadata": {},
   "outputs": [],
   "source": [
    "vsd <- read.table(\"../outputs/WGCNA_FP_in.tsv\", sep=\"\\t\")"
   ]
  },
  {
   "cell_type": "markdown",
   "metadata": {},
   "source": [
    "Take a look."
   ]
  },
  {
   "cell_type": "code",
   "execution_count": null,
   "metadata": {},
   "outputs": [],
   "source": [
    "head(vsd)\n",
    "dim(vsd)"
   ]
  },
  {
   "cell_type": "markdown",
   "metadata": {},
   "source": [
    "Looks good. Now let's transpose it."
   ]
  },
  {
   "cell_type": "code",
   "execution_count": null,
   "metadata": {},
   "outputs": [],
   "source": [
    "vsd <- t(vsd)\n",
    "vsd[1:6,1:6]\n",
    "dim(vsd)"
   ]
  },
  {
   "cell_type": "markdown",
   "metadata": {},
   "source": [
    "Now we check to see if there are any genes or samples with too many missing values."
   ]
  },
  {
   "cell_type": "code",
   "execution_count": null,
   "metadata": {},
   "outputs": [],
   "source": [
    "gsg = goodSamplesGenes(vsd, verbose = 3)\n",
    "gsg$allOK"
   ]
  },
  {
   "cell_type": "markdown",
   "metadata": {},
   "source": [
    "Good. Now we'll cluster the samples to identify outliers."
   ]
  },
  {
   "cell_type": "code",
   "execution_count": null,
   "metadata": {},
   "outputs": [],
   "source": [
    "tree = hclust(dist(vsd), method = \"average\");\n",
    "plot(tree, main = \"Sample clustering to detect outliers\", sub=\"\", xlab=\"\", cex.lab = 1.5,\n",
    "cex.axis = 1.5, cex.main = 2)"
   ]
  },
  {
   "cell_type": "markdown",
   "metadata": {},
   "source": [
    "Nothing looks too out of the ordinary to get chucked out. Note that this count data already excludes the outliers we removed in DESeq2 (MA control crabs and AP_C_6)"
   ]
  },
  {
   "cell_type": "markdown",
   "metadata": {},
   "source": [
    "Now we'll load in the sample metadata (same as coldata in DESeq2 analysis)."
   ]
  },
  {
   "cell_type": "code",
   "execution_count": null,
   "metadata": {},
   "outputs": [],
   "source": [
    "coldata <- read.table(\"../metadata/DESeq2_coldata.txt\", row.names=1, col.names=c(\"\",\"site\",\"condition\",\"range\",\"sex\"), stringsAsFactors = FALSE)\n",
    "coldata <- coldata[rownames(vsd),]\n",
    "head(coldata)\n",
    "dim(coldata)"
   ]
  },
  {
   "cell_type": "markdown",
   "metadata": {},
   "source": [
    "The data in this data.frame are all of class 'character' and represent categorical variables. WGCNA was originally constructed to look for correlations between expression modules and numeric trait data (i.e. levels of some disease biomarker, etc). Fortunately, the creators included functions to binarize combinations of categorical data so that we can compare among groups. We will use these later when looking more in depth at comparisons among specific combinations of variables (i.e. range and infection status). The initial comparison will be of just parasitized vs. uninfected, which, being binary, is easy to transform.  We'll subset the coldata to just include the condition and binarize it."
   ]
  },
  {
   "cell_type": "code",
   "execution_count": null,
   "metadata": {},
   "outputs": [],
   "source": [
    "coldata_PvC <- coldata[,2,drop=FALSE]\n",
    "coldata_PvC$condition[coldata_PvC$condition=='P'] <- 1\n",
    "coldata_PvC$condition[coldata_PvC$condition=='C'] <- 0\n",
    "coldata_PvC$condition <- as.numeric(coldata_PvC$condition)\n",
    "head(coldata_PvC,10)"
   ]
  },
  {
   "cell_type": "markdown",
   "metadata": {},
   "source": [
    "Okay looks good. Now we'll have a look at the tree with the infection state colored across samples."
   ]
  },
  {
   "cell_type": "code",
   "execution_count": null,
   "metadata": {},
   "outputs": [],
   "source": [
    "tree2 = hclust(dist(vsd), method = \"average\")\n",
    "traitColors = numbers2colors(coldata_PvC, signed = FALSE)\n",
    "plotDendroAndColors(tree2, traitColors,\n",
    "    groupLabels = names(coldata_PvC),\n",
    "    main = \"Sample dendrogram and trait heatmap\")"
   ]
  },
  {
   "cell_type": "markdown",
   "metadata": {},
   "source": [
    "Again, as we saw earlier, the samples don't cluster according to infection status when starting from a distance matrix created from the entire matrix of counts. There is just so much other variation present in the data that infection status doesn't stand out so much. This analysis should help resolve which co-expressed groups of transcripts are related to infection status. \n",
    "\n",
    "Now we're set up, let's start the actually calculations. First we'll enable multi-threading."
   ]
  },
  {
   "cell_type": "code",
   "execution_count": null,
   "metadata": {},
   "outputs": [],
   "source": [
    "enableWGCNAThreads()"
   ]
  },
  {
   "cell_type": "markdown",
   "metadata": {},
   "source": [
    "Then we'll start with actually performing these calculations. Note that these requires a lot of memory. Make sure to request as much memory as possible when starting up your `srun` session. I requested 24 threads and 180gb RAM. Probably overkill, but I didn't get booted off the node. "
   ]
  },
  {
   "cell_type": "code",
   "execution_count": null,
   "metadata": {},
   "outputs": [],
   "source": [
    "sft = pickSoftThreshold(vsd, verbose = 5, networkType=\"signed\")"
   ]
  },
  {
   "cell_type": "code",
   "execution_count": null,
   "metadata": {},
   "outputs": [],
   "source": [
    "plot(sft$fitIndices[,1], -sign(sft$fitIndices[,3])*sft$fitIndices[,2],\n",
    "    xlab=\"Soft Threshold (power)\",ylab=\"Scale Free Topology Model Fit,signed R^2\",type=\"n\",\n",
    "    main = paste(\"Scale independence\"))\n",
    "text(sft$fitIndices[,1], -sign(sft$fitIndices[,3])*sft$fitIndices[,2],\n",
    "    labels=c(seq(1, 10, by = 1), seq(12, 20, by = 2)),col=\"red\") #labels from default for power vector\n",
    "abline(h=0.90,col=\"red\")\n",
    "plot(sft$fitIndices[,1], sft$fitIndices[,5],\n",
    "    xlab=\"Soft Threshold (power)\",ylab=\"Mean Connectivity\", type=\"n\",\n",
    "    main = paste(\"Mean connectivity\"))\n",
    "    text(sft$fitIndices[,1], sft$fitIndices[,5], labels=c(seq(1, 10, by = 1), seq(12, 20, by = 2)), col=\"red\")"
   ]
  },
  {
   "cell_type": "markdown",
   "metadata": {},
   "source": [
    "We are going to pick a power of 6, as it is the first value to reach the plateau at ~0.9, as [recommended](https://horvath.genetics.ucla.edu/html/CoexpressionNetwork/Rpackages/WGCNA/Tutorials/FemaleLiver-02-networkConstr-auto.pdf). It's also the highest value overall, as the $r^{2}$ drops after a power of 6. \n",
    "\n",
    "Now we'll do the module construction. "
   ]
  },
  {
   "cell_type": "code",
   "execution_count": null,
   "metadata": {},
   "outputs": [],
   "source": [
    "library(flashClust)\n",
    "adjacency = adjacency(vsd, power = 6,type=\"signed\")\n",
    "TOM = TOMsimilarityFromExpr(vsd,networkType = \"signed\", TOMType = \"signed\", power = 6)\n",
    "dissTOM = 1-TOM\n",
    "geneTree = flashClust(as.dist(dissTOM),method=\"average\")\n",
    "save(dissTOM,geneTree,file=\"signedDissTOM_tree.RData\")"
   ]
  },
  {
   "cell_type": "code",
   "execution_count": 15,
   "metadata": {},
   "outputs": [
    {
     "name": "stdout",
     "output_type": "stream",
     "text": [
      " Calculating module eigengenes block-wise from all genes\n",
      "   Flagging genes and samples with too many missing values...\n",
      "    ..step 1\n",
      " ..Working on block 1 .\n",
      "    TOM calculation: adjacency..\n",
      "    ..will use 35 parallel threads.\n",
      "     Fraction of slow calculations: 0.000000\n",
      "    ..connectivity..\n",
      "    ..matrix multiplication (system BLAS)..\n",
      "    ..normalization..\n",
      "    ..done.\n",
      "   ..saving TOM for block 1 into file blockwiseTOM-block.1.RData\n",
      " ....clustering..\n",
      " ....detecting modules..\n",
      " ....calculating module eigengenes..\n",
      " ....checking kME in modules..\n",
      "     ..removing 5885 genes from module 1 because their KME is too low.\n",
      "     ..removing 2570 genes from module 2 because their KME is too low.\n",
      "     ..removing 253 genes from module 3 because their KME is too low.\n",
      "     ..removing 15 genes from module 4 because their KME is too low.\n",
      " ..merging modules that are too close..\n",
      "     mergeCloseModules: Merging modules whose distance is less than 0.25\n",
      "       Calculating new MEs...\n"
     ]
    }
   ],
   "source": [
    "#net = blockwiseModules(vsd, power = 6,\n",
    "#    TOMType = \"signed\", minModuleSize = 30,\n",
    "#    reassignThreshold = 0, mergeCutHeight = 0.25,\n",
    "#    numericLabels = TRUE, pamRespectsDendro = FALSE,\n",
    "#    saveTOMs = TRUE, networkType = \"signed\",\n",
    "#    verbose = 3, maxBlockSize = 45000\n",
    "#)\n",
    "#save(net, file=\"net.RData\")"
   ]
  },
  {
   "cell_type": "code",
   "execution_count": 19,
   "metadata": {},
   "outputs": [
    {
     "data": {
      "image/png": "[encoded data removed]",
      "text/plain": [
       "Plot with title “Cluster Dendrogram”"
      ]
     },
     "metadata": {},
     "output_type": "display_data"
    }
   ],
   "source": [
    "mergedColors = labels2colors(net$colors)\n",
    "# Plot the dendrogram and the module colors underneath\n",
    "plotDendroAndColors(net$dendrograms[[1]], mergedColors[net$blockGenes[[1]]],\n",
    "\"Module colors\",\n",
    "dendroLabels = FALSE, hang = 0.03,\n",
    "addGuide = TRUE, guideHang = 0.05)"
   ]
  },
  {
   "cell_type": "code",
   "execution_count": 18,
   "metadata": {},
   "outputs": [
    {
     "data": {
      "text/plain": [
       "\n",
       "    0     1     2     3     4     5     6 \n",
       " 8723 18854 10759  2879  1414   535   381 "
      ]
     },
     "metadata": {},
     "output_type": "display_data"
    }
   ],
   "source": [
    "table(net$colors)"
   ]
  },
  {
   "cell_type": "code",
   "execution_count": null,
   "metadata": {},
   "outputs": [],
   "source": []
  },
  {
   "cell_type": "code",
   "execution_count": null,
   "metadata": {},
   "outputs": [],
   "source": []
  },
  {
   "cell_type": "code",
   "execution_count": null,
   "metadata": {},
   "outputs": [],
   "source": []
  },
  {
   "cell_type": "code",
   "execution_count": null,
   "metadata": {},
   "outputs": [],
   "source": []
  },
  {
   "cell_type": "markdown",
   "metadata": {},
   "source": [
    "We're going to want to have a column that indicates the combination of range and condition. \n",
    "\n",
    "USE PASTE!"
   ]
  }
 ],
 "metadata": {
  "kernelspec": {
   "display_name": "R",
   "language": "R",
   "name": "ir"
  },
  "language_info": {
   "codemirror_mode": "r",
   "file_extension": ".r",
   "mimetype": "text/x-r-source",
   "name": "R",
   "pygments_lexer": "r",
   "version": "3.6.1"
  }
 },
 "nbformat": 4,
 "nbformat_minor": 2
}
