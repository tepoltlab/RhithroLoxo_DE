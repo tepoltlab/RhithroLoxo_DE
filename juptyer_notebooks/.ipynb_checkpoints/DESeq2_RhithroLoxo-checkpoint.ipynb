{
 "cells": [
  {
   "cell_type": "markdown",
   "metadata": {},
   "source": [
    "# Differential Expression Analysis - RhithroLoxo"
   ]
  },
  {
   "cell_type": "markdown",
   "metadata": {},
   "source": [
    "## Set-up"
   ]
  },
  {
   "cell_type": "markdown",
   "metadata": {},
   "source": [
    "If you've already saved the workspace image from a previous session, jupyter should automatically reload it. You may need to reload the packages though. The .RData file is not on GitHub, so you will have to actually run it the first time through. "
   ]
  },
  {
   "cell_type": "markdown",
   "metadata": {},
   "source": [
    "First, make sure you're actually running this from a compute node, not the login. On Poseidon, logins are 'l1' and 'l2', whereas all other nodes start with 'pn'."
   ]
  },
  {
   "cell_type": "code",
   "execution_count": null,
   "metadata": {},
   "outputs": [],
   "source": [
    "Sys.info()"
   ]
  },
  {
   "cell_type": "markdown",
   "metadata": {},
   "source": [
    "Clear environment (if you want to get rid of objects from previous sessions). Or load .RData if you want to recover workspace. (Just note that some objects get overwritten throughout script, so will reflect only the one written last.)"
   ]
  },
  {
   "cell_type": "code",
   "execution_count": null,
   "metadata": {},
   "outputs": [],
   "source": [
    "rm(list = ls())\n",
    "#load(\".RData\")"
   ]
  },
  {
   "cell_type": "markdown",
   "metadata": {},
   "source": [
    "Now load in the packages. Specify number of cores you requested for SLURM interactive session under `register(MulticoreParam())`"
   ]
  },
  {
   "cell_type": "code",
   "execution_count": null,
   "metadata": {},
   "outputs": [],
   "source": [
    "require(DESeq2)\n",
    "require(ggplot2)\n",
    "require(apeglm)\n",
    "require(ashr)\n",
    "library(\"BiocParallel\")\n",
    "register(MulticoreParam(34))\n",
    "require(VennDiagram)\n",
    "require(RColorBrewer)\n",
    "require(pheatmap)\n",
    "require(dplyr)\n",
    "require(tibble)\n",
    "require(tidyr)"
   ]
  },
  {
   "cell_type": "markdown",
   "metadata": {},
   "source": [
    "## Data import"
   ]
  },
  {
   "cell_type": "markdown",
   "metadata": {},
   "source": [
    "Now import the count data, rounding decimals to integers."
   ]
  },
  {
   "cell_type": "code",
   "execution_count": null,
   "metadata": {},
   "outputs": [],
   "source": [
    "path_to_main <- \"/vortexfs1/scratch/ztobias/RhithroLoxo_DE/\" #change accordingly based on parent file structure\n",
    "path_to_counts <- \"outputs/quant/salmon.isoform.counts.matrix\"\n",
    "path <- paste(path_to_main,path_to_counts,sep=\"\")\n",
    "all_counts <- read.table(path,header=TRUE)\n",
    "all_counts <- round(all_counts)\n",
    "all_counts[] <- sapply(all_counts, as.integer)"
   ]
  },
  {
   "cell_type": "markdown",
   "metadata": {},
   "source": [
    "Take a look."
   ]
  },
  {
   "cell_type": "code",
   "execution_count": null,
   "metadata": {},
   "outputs": [],
   "source": [
    "head(all_counts)\n",
    "dim(all_counts)"
   ]
  },
  {
   "cell_type": "code",
   "execution_count": null,
   "metadata": {},
   "outputs": [],
   "source": [
    "all_counts[\"TRINITY_DN34991_c0_g1_i1\",]"
   ]
  },
  {
   "cell_type": "markdown",
   "metadata": {},
   "source": [
    "Read in the sample metadata and have a look."
   ]
  },
  {
   "cell_type": "code",
   "execution_count": null,
   "metadata": {},
   "outputs": [],
   "source": [
    "path_to_meta <- paste(path_to_main,\"metadata/DESeq2_coldata.txt\",sep=\"\")\n",
    "coldata <- read.table(path_to_meta,header=FALSE,row.names=1)\n",
    "colnames(coldata) <- c(\"site\",\"condition\",\"range\",\"sex\")\n",
    "head(coldata)\n",
    "dim(coldata)"
   ]
  },
  {
   "cell_type": "markdown",
   "metadata": {},
   "source": [
    "Make sure the two matrices contain all of the same samples and are in order."
   ]
  },
  {
   "cell_type": "code",
   "execution_count": null,
   "metadata": {},
   "outputs": [],
   "source": [
    "all(rownames(coldata) == colnames(all_counts))"
   ]
  },
  {
   "cell_type": "markdown",
   "metadata": {},
   "source": [
    "## Filtering"
   ]
  },
  {
   "cell_type": "markdown",
   "metadata": {},
   "source": [
    "EXPLAIN HERE"
   ]
  },
  {
   "cell_type": "markdown",
   "metadata": {},
   "source": [
    "Create a DESeq dataset just for the purpose of calculating normalized counts"
   ]
  },
  {
   "cell_type": "code",
   "execution_count": null,
   "metadata": {},
   "outputs": [],
   "source": [
    "filtering <- DESeqDataSetFromMatrix(countData = all_counts, colData = coldata, design = ~ condition)"
   ]
  },
  {
   "cell_type": "markdown",
   "metadata": {},
   "source": [
    "Estimate size factors and save normalized counts to object 'norm_mat'"
   ]
  },
  {
   "cell_type": "code",
   "execution_count": null,
   "metadata": {},
   "outputs": [],
   "source": [
    "filtering <- estimateSizeFactors(filtering)\n",
    "norm_mat <- counts(filtering, normalized=TRUE)"
   ]
  },
  {
   "cell_type": "markdown",
   "metadata": {},
   "source": [
    "Then let's remove the parasitized crabs. This includes all samples with the naming pattern `*_P_*`. The function `grepl()` returns a boolean vector that can be used to index. I will also remove sample MD_C_12, as this was identified to have a latent infection (unidentified infection detected in previous runs of this analysis)."
   ]
  },
  {
   "cell_type": "code",
   "execution_count": null,
   "metadata": {},
   "outputs": [],
   "source": [
    "norm_mat_sub <- norm_mat[,!grepl(\"*_P_*\", colnames(norm_mat))]\n",
    "norm_mat_sub <- subset(norm_mat_sub, select=-c(MD_C_12))"
   ]
  },
  {
   "cell_type": "markdown",
   "metadata": {},
   "source": [
    "Verify the names you wanted to remove are gone."
   ]
  },
  {
   "cell_type": "code",
   "execution_count": null,
   "metadata": {},
   "outputs": [],
   "source": [
    "colnames(norm_mat_sub)"
   ]
  },
  {
   "cell_type": "markdown",
   "metadata": {},
   "source": [
    "Column numbers of the parasite samples in `norm_mat_sub` are 19 and 28. Command below finds the index of the maximum column for each row, checks if it matches 19 or 28 (the parasite samples), returns boolean which is used to subset the dataframe.  Let's take a look at a slice of the output to verify it's behavior. Parasite samples follow the naming pattern `*_F_*`."
   ]
  },
  {
   "cell_type": "code",
   "execution_count": null,
   "metadata": {},
   "outputs": [],
   "source": [
    "contam_subset <- norm_mat_sub[max.col(norm_mat_sub) %in% c(19,28),]\n",
    "dim(contam_subset)\n",
    "contam_subset[1:20,18:29]"
   ]
  },
  {
   "cell_type": "markdown",
   "metadata": {},
   "source": [
    "Scrolling through, it's clear that these 5757 transcripts have the highest expression in at least one of the parasite samples. This is indicative of Loxo contamination in the Rhithro assembly. However, because the Loxo externae are female, it could be that by pulling out these transcripts, I am removing transcripts that are generally overexpressed in females relative to males in crustaceans more broadly (that cross-map between Loxo and Rhithro). This could interfere with the investigation of sex-specific differences of infection later on, i.e. if we see a greater/different transcriptional response in males, is it due to host feminization or because we have pulled out these female-specific transcripts early in the pipeline? To investigate this possibility, I'll make a DESeqDataSet using just these transcripts and compare uninfected males and females. \n",
    "\n",
    "First I'll remove the actual Loxo externae samples from the original count data.  From the sample metadata as well. Then I'll subset the count data to include just the putative Loxo contamination."
   ]
  },
  {
   "cell_type": "code",
   "execution_count": null,
   "metadata": {},
   "outputs": [],
   "source": [
    "loxo_counts <- all_counts[rownames(contam_subset),]\n",
    "loxo_counts <- loxo_counts[,-c(29,41)]\n",
    "coldata <- coldata[-c(29,41),]"
   ]
  },
  {
   "cell_type": "markdown",
   "metadata": {},
   "source": [
    "We'll also reset the factor levels for `coldata` since we've removed the parasite samples. We'll keep female as the reference level. While we're at it, let's set the factor levels for range to be Native, Invasive, Absent. "
   ]
  },
  {
   "cell_type": "code",
   "execution_count": null,
   "metadata": {},
   "outputs": [],
   "source": [
    "coldata$sex <- factor(coldata$sex, c(\"F\",\"M\"))\n",
    "coldata$range <- factor(coldata$range, c(\"Native\",\"Invasive\",\"Absent\"))\n",
    "coldata$sex\n",
    "coldata$range"
   ]
  },
  {
   "cell_type": "markdown",
   "metadata": {},
   "source": [
    "Cool. Now we can actually go on to seeing if there is any bias by sex when looking at just the putative Loxo contaminant transcripts. "
   ]
  },
  {
   "cell_type": "code",
   "execution_count": null,
   "metadata": {},
   "outputs": [],
   "source": [
    "dds_loxo <- DESeqDataSetFromMatrix(countData = loxo_counts, colData = coldata, design = ~ condition )\n",
    "dds_loxo$group <- factor(paste0(dds_loxo$sex, dds_loxo$condition))\n",
    "design(dds_loxo) <- ~ group\n",
    "dds_loxo <- DESeq(dds_loxo, parallel=TRUE)"
   ]
  },
  {
   "cell_type": "code",
   "execution_count": null,
   "metadata": {},
   "outputs": [],
   "source": [
    "resultsNames(dds_loxo)"
   ]
  },
  {
   "cell_type": "code",
   "execution_count": null,
   "metadata": {},
   "outputs": [],
   "source": [
    "dds_loxo_res <- results(dds_loxo, contrast=c(\"group\", \"MC\", \"FC\"), alpha=0.05)\n",
    "summary(dds_loxo_res)"
   ]
  },
  {
   "cell_type": "markdown",
   "metadata": {},
   "source": [
    "Okay so there are 17 transcripts among those that are putative Loxo contaminants that are differentially expressed between uninfected males and females. Let's take a look at some of these."
   ]
  },
  {
   "cell_type": "code",
   "execution_count": null,
   "metadata": {},
   "outputs": [],
   "source": [
    "data.frame(subset(dds_loxo_res, padj < 0.05))"
   ]
  },
  {
   "cell_type": "markdown",
   "metadata": {},
   "source": [
    "I'll just use the code below to plot select transcripts. Change gene name as desired in the `plotCounts` function. (This basic ggplot structure will be used throughout and written into custom functions later.)"
   ]
  },
  {
   "cell_type": "code",
   "execution_count": null,
   "metadata": {},
   "outputs": [],
   "source": [
    "count_plot <- plotCounts(dds_loxo, gene=\"TRINITY_DN30863_c0_g1_i1\", intgroup=c(\"condition\", \"site\", \"sex\"), returnData=TRUE)\n",
    "ggplot(count_plot, aes(x=sex, y=count, color=site)) +\n",
    "    facet_grid(.~condition) +\n",
    "    theme(strip.text.x = element_text(size = 12), \n",
    "    axis.text.x = element_text(size=11), \n",
    "    axis.text.y = element_text(size=11)) +\n",
    "    xlab(\"\") +\n",
    "    ylab(\"\") +\n",
    "    geom_point(position=position_jitter(w=0.2,h=0), show.legend = TRUE) + \n",
    "    geom_smooth(method = \"lm\", se=F, aes(group=1), show.legend = FALSE, color = \"blue\") +\n",
    "    stat_summary(fun.data=mean_sdl, fun.args = list(mult=1), geom=\"pointrange\", color=\"red\") +\n",
    "    stat_summary(fun.data=mean_sdl, fun.args = list(mult=1), geom=\"errorbar\", color=\"red\", width=0.2) +\n",
    "    scale_y_log10()"
   ]
  },
  {
   "cell_type": "markdown",
   "metadata": {},
   "source": [
    "While some over these are underexpressed in males relative to females, which would indicate that they might be reflective of general sex-specific expression among crustaceans, the number is pretty insignificant relative to the patterns that will emerge later on regarding sex-specific response to infection. I am going to proceed with discarding these putative Loxo contaminant transcripts. Furthermore, many of these transcripts have very low mean expression, and will be discarded later on during an expression-level filtering anyway. "
   ]
  },
  {
   "cell_type": "markdown",
   "metadata": {},
   "source": [
    "Okay now I'm going to save the rownames of the putative Loxo contamination for use later:"
   ]
  },
  {
   "cell_type": "code",
   "execution_count": null,
   "metadata": {},
   "outputs": [],
   "source": [
    "contam_IDs <- rownames(contam_subset)\n",
    "length(contam_IDs)"
   ]
  },
  {
   "cell_type": "markdown",
   "metadata": {},
   "source": [
    "Here are the 5757 transcripts that have higher expression in a parasite sample than any of the \"clean\" samples. I am going to move on to a base parasitized vs. control analysis for the purpose of further filtering, for reasons that will become apparent. I'll include site in the design to account for site-specific differences. First we have to remove the loxo samples from `all_counts`, as we did for the loxo contaminant subset."
   ]
  },
  {
   "cell_type": "code",
   "execution_count": null,
   "metadata": {},
   "outputs": [],
   "source": [
    "all_counts <- all_counts[,-c(29,41)]\n",
    "dds <- DESeqDataSetFromMatrix(countData = all_counts, colData = coldata, design = ~ site + condition)\n",
    "dds <- DESeq(dds, parallel=TRUE)"
   ]
  },
  {
   "cell_type": "markdown",
   "metadata": {},
   "source": [
    "Let's visualize the data using some PCAs. This will be helpful for identifying sample outliers.\n",
    "\n",
    "First we'll apply a variance stabilizing transformation to our normalized counts. "
   ]
  },
  {
   "cell_type": "code",
   "execution_count": null,
   "metadata": {},
   "outputs": [],
   "source": [
    "vsd <- vst(dds, blind=FALSE)"
   ]
  },
  {
   "cell_type": "code",
   "execution_count": null,
   "metadata": {},
   "outputs": [],
   "source": [
    "PCA <- plotPCA(vsd, intgroup=\"condition\")\n",
    "PCA + geom_label(aes(label = name))"
   ]
  },
  {
   "cell_type": "markdown",
   "metadata": {},
   "source": [
    "You can see that PCA 1 clearly separates the sample according to infection status (whether this is due to a crab response or contamination from parasite remains to be seen...). Along the second PCA axis, you can see four extreme outlier at the upper left corner. Let's investigate this a little more closely by looking at the expression of particular high variance transcripts. "
   ]
  },
  {
   "cell_type": "code",
   "execution_count": null,
   "metadata": {},
   "outputs": [],
   "source": [
    "topVarGenes <- head(order(rowVars(assay(vsd)), decreasing = TRUE), 500)\n",
    "df <- as.data.frame(colData(dds)[,c(\"condition\",\"site\")])\n",
    "vsd_df <- assay(vsd)\n",
    "heatmap <- pheatmap(vsd_df[topVarGenes,], cluster_rows=TRUE, show_rownames=FALSE,\n",
    "         cluster_cols=TRUE, annotation_col=df)\n",
    "heatmap"
   ]
  },
  {
   "cell_type": "markdown",
   "metadata": {},
   "source": [
    "Looking at the top 500 highest variance transcripts, you can see that the transcript cluster in the mid-top left separates samples in the same way as PCA axis 2 from above, with MA_C_1, MA_C_2, MA_C_4, and AP_C_6 having really high expression. Let's figure out what those are. "
   ]
  },
  {
   "cell_type": "code",
   "execution_count": null,
   "metadata": {},
   "outputs": [],
   "source": [
    "idx <- sort(cutree(heatmap$tree_row, k=10)) #separate transcripts by cluster assignment\n",
    "idx <- names(which(idx==7)) #after searching, cluster 7 is the one with the transcripts we want\n",
    "heatmap <- pheatmap(vsd_df[idx,], cluster_rows=TRUE, show_rownames=FALSE, cluster_cols=TRUE)\n",
    "heatmap"
   ]
  },
  {
   "cell_type": "markdown",
   "metadata": {},
   "source": [
    "Okay now we found the cluster that has all of these transcripts. Let's get the names and search annotations to see if there is anything we can tell about these transcripts. Load in annotations."
   ]
  },
  {
   "cell_type": "code",
   "execution_count": null,
   "metadata": {},
   "outputs": [],
   "source": [
    "annot <- read.table(\"../EnTAP/entap_outfiles/similarity_search/DIAMOND/overall_results/best_hits_lvl0.tsv\", sep=\"\\t\", fill=TRUE, header=TRUE, quote=\"\", stringsAsFactors = FALSE)"
   ]
  },
  {
   "cell_type": "code",
   "execution_count": null,
   "metadata": {},
   "outputs": [],
   "source": [
    "outlier_annot <- annot[annot[,1] %in% rownames(vsd[idx,]),] #get matching annotations\n",
    "head(outlier_annot[order(outlier_annot[,11]),c(1,2,3,11,12,13,14)], 20) #show results"
   ]
  },
  {
   "cell_type": "markdown",
   "metadata": {},
   "source": [
    "There doesn't seem to be anything special about these transcripts, though it's hard to tell just from the reference IDs. \n",
    "\n",
    "I am going to remove these outlier samples. They are contributing too much variation and will present issues when trying to fit the DESeq2 models and cause issues with count normalization. "
   ]
  },
  {
   "cell_type": "code",
   "execution_count": null,
   "metadata": {},
   "outputs": [],
   "source": [
    "all_counts <- all_counts[,!(colnames(all_counts) %in% c(\"MA_C_1\",\"MA_C_2\",\"MA_C_4\",\"AP_C_6\"))]\n",
    "all_counts[1:6,1:6]\n",
    "dim(all_counts)"
   ]
  },
  {
   "cell_type": "markdown",
   "metadata": {},
   "source": [
    "Okay now you can see the four of them were removed. Now make sure the coldata matches."
   ]
  },
  {
   "cell_type": "code",
   "execution_count": null,
   "metadata": {},
   "outputs": [],
   "source": [
    "coldata <- coldata[colnames(all_counts),]\n",
    "all(rownames(coldata) == colnames(all_counts))"
   ]
  },
  {
   "cell_type": "markdown",
   "metadata": {},
   "source": [
    "Okay good let's make another `dds` object to continue with our filtering. We'll just overwrite the existing one."
   ]
  },
  {
   "cell_type": "code",
   "execution_count": null,
   "metadata": {},
   "outputs": [],
   "source": [
    "dds <- DESeqDataSetFromMatrix(countData = all_counts, colData = coldata, design = ~ site + condition)"
   ]
  },
  {
   "cell_type": "code",
   "execution_count": null,
   "metadata": {},
   "outputs": [],
   "source": [
    "dds <- DESeq(dds, parallel=TRUE)"
   ]
  },
  {
   "cell_type": "code",
   "execution_count": null,
   "metadata": {},
   "outputs": [],
   "source": [
    "res <- results(dds, alpha=0.05)\n",
    "summary(res)"
   ]
  },
  {
   "cell_type": "markdown",
   "metadata": {},
   "source": [
    "Here we see that there are 1556 transcripts deemed significantly upregulated in parasitized crabs, and 1452 significantly downregulated, according the the Wald test.\n",
    "\n",
    "As mentioned earlier, it is my suspicion that some of these upregulated transcripts are contamination from Loxo. Let's have a look."
   ]
  },
  {
   "cell_type": "code",
   "execution_count": null,
   "metadata": {},
   "outputs": [],
   "source": [
    "plotMA(res, ylim=c(-30,15))"
   ]
  },
  {
   "cell_type": "markdown",
   "metadata": {},
   "source": [
    "Here we see the pattern I have alluded to, where there is a cloud of extremely overexpressed (>10 LFC) in the infected relative to the control. It is my suspicion that these represent contamination from Loxo rather than an actually response by the crabs. \n",
    "\n",
    "We also see a cloud of extremely *under*expressed transcripts (<-20 LFC). I will deal with these after the Loxo contamination (but I can tell you now that these are contamination from trematodes and perhaps other parasites, mostly in three NH control crabs \\[hence the lower count means\\]). They are underexpressed in parasitized crabs (overexpressed in control) because the transcriptome was made from just control crabs. \n",
    "\n",
    "Let's see if the *over*expressed ones match the transcript IDs we pulled out earlier as possible Loxo contaminant transcripts. \n",
    "\n",
    "First let's make an ordered data.frame of the significant transcripts."
   ]
  },
  {
   "cell_type": "code",
   "execution_count": null,
   "metadata": {},
   "outputs": [],
   "source": [
    "res_sig <- data.frame(subset(res, padj < 0.05))\n",
    "res_sig <- res_sig[order(-res_sig$log2FoldChange),]\n",
    "head(res_sig)"
   ]
  },
  {
   "cell_type": "markdown",
   "metadata": {},
   "source": [
    "You can see that there are some extremely significant, extremely overexpressed transcripts at the top, many of which have high rates of expression overall. These are likely contamination from Loxo. I am not sure how they made it into the transcriptome. It's hard to think of a biological reason. I am thinking this is due to index hopping during sequencing. If there were parasitizied and unparasitized crabs on the same lane (there were), then even a small amount of index hopping could have led to parasite reads being built into the txm, either as chimeras with crab sequences or alone. \n",
    "\n",
    "I am going to compare the list of transcripts I made earlier to these to see how much of an overlap there is. \n",
    "\n",
    "There are 3008 significant transcripts, 1556 up and 1452 down. There were 5757 transcripts that had higher expression in one of the two parasite samples than any of the clean samples. Let's look at the intersect. "
   ]
  },
  {
   "cell_type": "code",
   "execution_count": null,
   "metadata": {},
   "outputs": [],
   "source": [
    "contam_intersect <- intersect(contam_IDs, rownames(res_sig))\n",
    "length(contam_intersect)"
   ]
  },
  {
   "cell_type": "markdown",
   "metadata": {},
   "source": [
    "Okay so there are 472 transcripts that came up as significant that were also identified as potential contamination. Let's see what the distribution of LFCs look like for these transcripts."
   ]
  },
  {
   "cell_type": "code",
   "execution_count": null,
   "metadata": {},
   "outputs": [],
   "source": [
    "hist(res_sig[(rownames(res_sig) %in% contam_intersect),2])"
   ]
  },
  {
   "cell_type": "markdown",
   "metadata": {},
   "source": [
    "It shows a bimodal pattern. Most of these transcripts are overexpressed, but a subset (~100) are extremely enriched. It is these that are most likely to be contamination. We will still consider all of these putative contamination and slate them for removal, as I believe it is more prudent to be liberal with what we discard."
   ]
  },
  {
   "cell_type": "markdown",
   "metadata": {},
   "source": [
    " Let's take a look at the significant results table with the putative Loxo contaminants removed."
   ]
  },
  {
   "cell_type": "code",
   "execution_count": null,
   "metadata": {},
   "outputs": [],
   "source": [
    "head(res_sig[!(rownames(res_sig) %in% contam_intersect),],n=10)"
   ]
  },
  {
   "cell_type": "markdown",
   "metadata": {},
   "source": [
    "A lot of those transcripts are now removed. There are just around 7 of them left, depending on where you draw the line.\n",
    "\n",
    "I am going to repeat visualization with all of putative Loxo contaminant transcripts removed. "
   ]
  },
  {
   "cell_type": "code",
   "execution_count": null,
   "metadata": {
    "scrolled": true
   },
   "outputs": [],
   "source": [
    "res2 <- results(subset(dds, !rownames(dds) %in% contam_IDs), alpha=0.05)"
   ]
  },
  {
   "cell_type": "code",
   "execution_count": null,
   "metadata": {},
   "outputs": [],
   "source": [
    "plotMA(res2, ylim=c(-30,15))"
   ]
  },
  {
   "cell_type": "markdown",
   "metadata": {},
   "source": [
    "You can see now that the big cloud of points at the top right has mostly disappeared. A few points remain. I am still going to consider these as contamination and remove them manually by thresholding.\n",
    "\n",
    "But first, let's look at the identity of the *under*expressed transcripts. Let's make a subset of the results without these transcripts, and then get the names of those transcripts. "
   ]
  },
  {
   "cell_type": "code",
   "execution_count": null,
   "metadata": {},
   "outputs": [],
   "source": [
    "extra_under <- subset(res2, log2FoldChange < -15)\n",
    "extra_under <- rownames(extra_under)\n",
    "length(extra_under)"
   ]
  },
  {
   "cell_type": "markdown",
   "metadata": {},
   "source": [
    "Okay so there are 400 that are extremely underexpressed."
   ]
  },
  {
   "cell_type": "markdown",
   "metadata": {},
   "source": [
    "Now we'll make another vsd object and use the list of transcripts to plot just those that had extremely low LFCs."
   ]
  },
  {
   "cell_type": "code",
   "execution_count": null,
   "metadata": {},
   "outputs": [],
   "source": [
    "df <- as.data.frame(colData(dds)[,c(\"condition\",\"site\")])\n",
    "vsd <- vst(dds, blind=TRUE)\n",
    "vsd_df <- assay(vsd)\n",
    "heatmap3 <- pheatmap(vsd_df[extra_under,], cluster_rows=TRUE, show_rownames=FALSE,\n",
    "         cluster_cols=TRUE, annotation_col=df)\n",
    "heatmap3"
   ]
  },
  {
   "cell_type": "markdown",
   "metadata": {},
   "source": [
    "It's clear that expression of these transcripts occurs in just a few crabs. It's difficult to see the sample names, but it is mostly in three control samples from NH (NH_C_8, NH_C_11, NH_C_13) and one from NJ (NJ_C_10). So these transcripts are only represented in a few samples. \n",
    "\n",
    "Let's use the annotations to figure out the identity of these transcripts."
   ]
  },
  {
   "cell_type": "code",
   "execution_count": null,
   "metadata": {},
   "outputs": [],
   "source": [
    "low_annot <- annot[annot$Query.Sequence %in% extra_under,c(1,2,3,11,13,14)]\n",
    "low_annot <- low_annot[order(low_annot$E.Value),]\n",
    "low_annot"
   ]
  },
  {
   "cell_type": "markdown",
   "metadata": {},
   "source": [
    "The taxonomic identity of the matches is not revealing here. However, on previous runs of the annotation pipeline, I did not remove the sequences listed as contamination by EnTAP from the transcriptome prior to creating the expression matrix. When these were left in, the vast majority of the transcripts in this underexpressed cloud were flatworm, nematode, and fungal sequences, all known pathogens of crabs. I decided to remove these contaminants earlier in the pipeline, so their identity is not revealed here. If you aren't convinced, skip the `remove_EnTAP_contam` step in the Snakemake pipeline. "
   ]
  },
  {
   "cell_type": "markdown",
   "metadata": {},
   "source": [
    "Okay, now I am going to remove all of these transcripts, not just those that map because many are lacking annotation. For removing both the putative Loxo (upper) contaminants, I am going to get the rownames of the 7 remaining transcripts that fell into that cloud and exclude them. For the other pathogen (lower) contaminants, I am going to set a threshold of -15 to remove the whole cloud. Let's look and see what that would remove, after already having flagged the putative Loxo for removal."
   ]
  },
  {
   "cell_type": "code",
   "execution_count": null,
   "metadata": {},
   "outputs": [],
   "source": [
    "plotMA(res2, ylim=c(-30,15))\n",
    "abline(h=9,col=\"red\")\n",
    "abline(v=100,col=\"red\")\n",
    "abline(v=-20,col=\"red\")"
   ]
  },
  {
   "cell_type": "markdown",
   "metadata": {},
   "source": [
    "So I'm going to get rid of the 7 transcripts in the very upper right section. These are the putative Loxo contaminants that fell into that cloud of points that had mostly been previously identified as Loxo contamination from the expression comparison. And I am going to get rid of everything below the -15 line. These are the other pathogen contaminants. I got the transcript names for the 7 transcripts in the upper right from the first 7 entries of the dataframe displayed after the histogram above (which shows the extremely overexpressed transcripts that didn't intersect with the loxo contam list, but nonetheless are likely contamination)."
   ]
  },
  {
   "cell_type": "code",
   "execution_count": null,
   "metadata": {},
   "outputs": [],
   "source": [
    "contam_high <- rownames(head(res_sig[!(rownames(res_sig) %in% contam_intersect),],n=7))\n",
    "contam_low <- rownames(subset(res2, res2$log2FoldChange < -15))\n",
    "contam_add <- c(contam_high,contam_low)\n",
    "length(contam_add)"
   ]
  },
  {
   "cell_type": "markdown",
   "metadata": {},
   "source": [
    "Okay here are the 407 remaining transcripts we deem to be contamination. I am going to add them to the list of contam_IDs, which will be used for removal from the intial counts object. Then the analysis will be re-run.\n",
    "\n",
    "This is all to account for renormalization after removal, since many of these contigs had high mean expression across samples, especially the Loxo contaminants. I also want to have all of the putative contaminant transcripts removed before I do the WGCNA analysis. Because it looks for co-expression patterns among transcripts, if I leave in transcripts that are actually just contaminants, it will likely assign transcripts to modules not based on any functional relevance to particular pathways, but rather just to infection status. "
   ]
  },
  {
   "cell_type": "code",
   "execution_count": null,
   "metadata": {},
   "outputs": [],
   "source": [
    "contam_IDs <- c(contam_IDs, contam_add)\n",
    "length(contam_IDs)"
   ]
  },
  {
   "cell_type": "markdown",
   "metadata": {},
   "source": [
    "Okay so there are 6164 transcripts that we are going to remove because they were flagged as contamination. Let's do that now."
   ]
  },
  {
   "cell_type": "code",
   "execution_count": null,
   "metadata": {},
   "outputs": [],
   "source": [
    "counts_clean <- all_counts[!rownames(all_counts) %in% contam_IDs,]\n",
    "dim(counts_clean)"
   ]
  },
  {
   "cell_type": "markdown",
   "metadata": {},
   "source": [
    "So we've removed 6164 from the original 146332, for 140168. Now I am going to do expression-level based filtering to removed lowly expressed transcripts. I am doing this for a few reasons. First, such lowly expressed transcripts are ostensibly less biologically meaningful. Second, they are more likely to be latent contamination from other taxa. Third, they were less likely to be annotated and thus are uninformative. And lastly, on previous runs of this analysis, it was apparent that some transcripts that were deemed significantly differentially expressed were due to extremely high expression in just a small handful of samples, with zero or very minimal expression in other samples. While such transcripts were already revealed above, this comes into play later when looking at the effect of infection *within* ranges. In this instance, contrasting patterns among ranges precluded them from being removed in the procedure above. Furthermore, WGCNA will use a pared down expression matrix, as [suggested](https://horvath.genetics.ucla.edu/html/CoexpressionNetwork/Rpackages/WGCNA/faq.html) by the creators. Removing them now will allow me to conduct DE analysis and WGCNA on the identical dataset. \n",
    "\n",
    "I am going to remove all transcripts that have less than a count of 10 in over 90% of samples (69). Again, I'll make a DESeqDataSet object for the purpose of normalizing counts."
   ]
  },
  {
   "cell_type": "code",
   "execution_count": null,
   "metadata": {},
   "outputs": [],
   "source": [
    "dds <- DESeqDataSetFromMatrix(countData = counts_clean, colData = coldata, design = ~ condition)"
   ]
  },
  {
   "cell_type": "markdown",
   "metadata": {},
   "source": [
    "Then I'll get the normalized counts and save it to the `norm_mat` object, overwriting."
   ]
  },
  {
   "cell_type": "code",
   "execution_count": null,
   "metadata": {},
   "outputs": [],
   "source": [
    "dds <- estimateSizeFactors(dds)\n",
    "norm_mat <- counts(dds, normalized=TRUE)"
   ]
  },
  {
   "cell_type": "markdown",
   "metadata": {},
   "source": [
    "Here I'll get the dimensions before and after removal to see how many were removed."
   ]
  },
  {
   "cell_type": "code",
   "execution_count": null,
   "metadata": {},
   "outputs": [],
   "source": [
    "dim(norm_mat)\n",
    "remove <- rowSums(norm_mat < 10 ) > 69\n",
    "norm_mat <- norm_mat[!remove,]\n",
    "dim(norm_mat)"
   ]
  },
  {
   "cell_type": "markdown",
   "metadata": {},
   "source": [
    "So this would result in 60488 transcripts. Still a lot. You can see that a huge number of transcripts (79680 to be precise) were only meaningfully expressed in a small number of samples. Their removal should help in cutting through any confouding signals generated from processes/contamination in just a handful of crabs.\n",
    "\n",
    "Now we'll remove it from the main count matrix and finally proceed with the actual analyses!"
   ]
  },
  {
   "cell_type": "code",
   "execution_count": null,
   "metadata": {},
   "outputs": [],
   "source": [
    "counts_clean <- counts_clean[rownames(norm_mat),]\n",
    "dim(counts_clean)"
   ]
  },
  {
   "cell_type": "markdown",
   "metadata": {},
   "source": [
    "## Parasitized vs. control differential expression "
   ]
  },
  {
   "cell_type": "markdown",
   "metadata": {},
   "source": [
    "Here we'll just do a base comparison between infected and uninfected, using all 77 remaining samples. Let's just verify that everything matches up."
   ]
  },
  {
   "cell_type": "code",
   "execution_count": null,
   "metadata": {},
   "outputs": [],
   "source": [
    "all(rownames(coldata) == colnames(counts_clean))"
   ]
  },
  {
   "cell_type": "markdown",
   "metadata": {},
   "source": [
    "Good. Create new dds object without the contaminant and lowly expressed transcripts."
   ]
  },
  {
   "cell_type": "code",
   "execution_count": null,
   "metadata": {},
   "outputs": [],
   "source": [
    "dds_clean <- DESeqDataSetFromMatrix(countData = counts_clean, colData = coldata, design = ~site + condition)"
   ]
  },
  {
   "cell_type": "markdown",
   "metadata": {},
   "source": [
    "Here we'll use a likelihood ratio test to control for site-specific effects."
   ]
  },
  {
   "cell_type": "code",
   "execution_count": null,
   "metadata": {},
   "outputs": [],
   "source": [
    "dds_clean <- DESeq(dds_clean, parallel=TRUE, test=\"LRT\", reduced=~site)"
   ]
  },
  {
   "cell_type": "code",
   "execution_count": null,
   "metadata": {},
   "outputs": [],
   "source": [
    "resultsNames(dds_clean)"
   ]
  },
  {
   "cell_type": "code",
   "execution_count": null,
   "metadata": {},
   "outputs": [],
   "source": [
    "res_clean <- results(dds_clean, alpha=0.05) #by default, it takes the last factor (P vs. C)\n",
    "summary(res_clean)"
   ]
  },
  {
   "cell_type": "markdown",
   "metadata": {},
   "source": [
    "Now you can see that we have 852 significantly upregulated transcripts and 743 significantly downregulated transcripts."
   ]
  },
  {
   "cell_type": "markdown",
   "metadata": {},
   "source": [
    "Plot the LFCs"
   ]
  },
  {
   "cell_type": "code",
   "execution_count": null,
   "metadata": {},
   "outputs": [],
   "source": [
    "plotMA(res_clean, ylim=c(-12,12))"
   ]
  },
  {
   "cell_type": "markdown",
   "metadata": {},
   "source": [
    "Save the significant results:"
   ]
  },
  {
   "cell_type": "code",
   "execution_count": null,
   "metadata": {},
   "outputs": [],
   "source": [
    "res_clean_sig <- data.frame(subset(res_clean, padj < 0.05))\n",
    "res_clean_sig <- res_clean_sig[order(res_clean_sig$padj),]\n",
    "head(res_clean_sig,20)"
   ]
  },
  {
   "cell_type": "markdown",
   "metadata": {},
   "source": [
    "Now I just want to count how many significant transcripts had LFCs above 2. "
   ]
  },
  {
   "cell_type": "code",
   "execution_count": null,
   "metadata": {},
   "outputs": [],
   "source": [
    "nrow(res_clean_sig[res_clean_sig$log2FoldChange>(2),])\n",
    "nrow(res_clean_sig[res_clean_sig$log2FoldChange<(-2),])\n",
    "nrow(res_clean_sig[abs(res_clean_sig$log2FoldChange)>(2),])"
   ]
  },
  {
   "cell_type": "code",
   "execution_count": null,
   "metadata": {},
   "outputs": [],
   "source": [
    "head(res_clean_sig)"
   ]
  },
  {
   "cell_type": "markdown",
   "metadata": {},
   "source": [
    "Okay 72 significantly above 2 LFC and 62 significantly below -2 LFC. "
   ]
  },
  {
   "cell_type": "markdown",
   "metadata": {},
   "source": [
    "Now I'm going to make another PCA, now that the potential contaminants have been removed."
   ]
  },
  {
   "cell_type": "code",
   "execution_count": null,
   "metadata": {},
   "outputs": [],
   "source": [
    "vsd <- vst(dds_clean, blind=FALSE)\n",
    "PCA <- plotPCA(vsd, intgroup=\"condition\")\n",
    "PCA + geom_label(aes(label = name))"
   ]
  },
  {
   "cell_type": "markdown",
   "metadata": {},
   "source": [
    "You can see now that they don't separate out. This is expected, as there is a lot of other variation present in the count data. This does not mean there aren't differences, however, as was shown above in the results summary. "
   ]
  },
  {
   "cell_type": "markdown",
   "metadata": {},
   "source": [
    "Let's look at the expression patterns of select transcripts with decapod annotations. "
   ]
  },
  {
   "cell_type": "code",
   "execution_count": null,
   "metadata": {},
   "outputs": [],
   "source": [
    "decapod_annot <- annot[grepl(\"decapoda\",annot[,15]),]"
   ]
  },
  {
   "cell_type": "code",
   "execution_count": null,
   "metadata": {},
   "outputs": [],
   "source": [
    "head(res_clean_sig[rownames(res_clean_sig) %in% (decapod_annot[,1]),], 30)\n",
    "dim(res_clean_sig[(rownames(res_clean_sig) %in% decapod_annot[,1]),])"
   ]
  },
  {
   "cell_type": "markdown",
   "metadata": {},
   "source": [
    "Below I am going to export a selection of counts plots of most significant transcripts, using only those with informative decapod annotations (no hypothetical or unknown proteins). I wrote some simple functions to plot the counts, add annotations manually, and then export a panel type figure using cowplot."
   ]
  },
  {
   "cell_type": "code",
   "execution_count": null,
   "metadata": {},
   "outputs": [],
   "source": [
    "library(cowplot)\n",
    "easy_plotCounts <- function(ID){\n",
    "    count_plot <- plotCounts(dds_clean, gene=ID, intgroup=c(\"condition\", \"site\"), returnData=TRUE)\n",
    "    ggplot(count_plot, aes(x=condition, y=count, color=site)) +\n",
    "        theme(strip.text.x = element_text(size = 12), \n",
    "        axis.text.x = element_text(size=11), \n",
    "        axis.text.y = element_text(size=11)) +\n",
    "        xlab(\"\") +\n",
    "        ylab(\"\") +\n",
    "        geom_point(position=position_jitter(w=0.2,h=0), show.legend = FALSE) + \n",
    "        geom_smooth(method = \"lm\", se=F, aes(group=1), show.legend = FALSE, color = \"blue\") +\n",
    "        stat_summary(fun.data=mean_sdl, fun.args = list(mult=1), geom=\"pointrange\", color=\"red\") +\n",
    "        stat_summary(fun.data=mean_sdl, fun.args = list(mult=1), geom=\"errorbar\", color=\"red\", width=0.2) +\n",
    "        scale_y_log10()\n",
    "}\n",
    "\n",
    "add_title <- function(ID, title){\n",
    "     easy_plotCounts(ID) + \n",
    "        ggtitle(title) + \n",
    "        theme(plot.title = element_text(hjust=0.5,size=14,face=\"bold\"), legend.position=\"none\")\n",
    "}"
   ]
  },
  {
   "cell_type": "code",
   "execution_count": null,
   "metadata": {},
   "outputs": [],
   "source": [
    "rownames(decapod_annot) <- decapod_annot[,1]"
   ]
  },
  {
   "cell_type": "code",
   "execution_count": null,
   "metadata": {},
   "outputs": [],
   "source": [
    "options(repr.matrix.max.rows=269, repr.matrix.max.cols=10) #change display options to show entire table\n",
    "na.omit(decapod_annot[rownames(res_clean_sig),c(3,11,13,14)])\n",
    "options(repr.matrix.max.rows=50, repr.matrix.max.cols=10)"
   ]
  },
  {
   "cell_type": "code",
   "execution_count": null,
   "metadata": {},
   "outputs": [],
   "source": [
    "p1 <- add_title(\"TRINITY_DN5780_c0_g1_i1\",\"laminin subunit alpha-4-like\")\n",
    "p2 <- add_title(\"TRINITY_DN4017_c2_g1_i1\",\"cellular retinoic acid-binding protein 1-like\")\n",
    "p3 <- add_title(\"TRINITY_DN4300_c0_g2_i2\",\"glycogen debranching enzyme\")\n",
    "p4 <- add_title(\"TRINITY_DN93978_c0_g1_i1\",\"V-type proton ATPase proteolipid subunit\")\n",
    "p5 <- add_title(\"TRINITY_DN20560_c0_g1_i1\",\"C-type lectin 1\")\n",
    "p6 <- add_title(\"TRINITY_DN2676_c0_g1_i1\",\"ficolin-2-like\")\n",
    "p7 <- add_title(\"TRINITY_DN4911_c0_g1_i1\",\"hemolymph clottable protein\")\n",
    "p8 <- add_title(\"TRINITY_DN440_c0_g1_i1\",\"D-3-phosphoglycerate dehydrogenase\")\n",
    "p9 <- add_title(\"TRINITY_DN34522_c1_g1_i1\",\"dual oxidase maturation factor 1\")\n",
    "p10 <- add_title(\"TRINITY_DN96090_c0_g1_i1\",\"dual oxidase 2-like\")\n",
    "p11 <- add_title(\"TRINITY_DN12148_c0_g1_i1\",\"hemocytin-like\")\n",
    "p12 <- add_title(\"TRINITY_DN448_c0_g1_i6\",\"PDGF/VEGF-related factor 1\")\n",
    "\n",
    "\n",
    "main <- plot_grid(p1,p2,p3,p4,p5,p6,p7,p8,p9,p10,p11,p12, nrow=4, ncol=3)\n",
    "##legend <- get_legend(plot1  + guides(color = guide_legend(nrow = 1)) + theme(legend.position = \"bottom\"))\n",
    "##done <- plot_grid(main, legend, nrow=4,ncol=3)\n",
    "\n",
    "main\n",
    "\n",
    "save_plot(\"../vis/DESeq2_top_PvC_genes.pdf\", plot=main, nrow=4, ncol=3, base_asp=1.41)"
   ]
  },
  {
   "cell_type": "markdown",
   "metadata": {},
   "source": [
    "Jupyter didn't render this plot well. Check the `vis/` directory for the output. "
   ]
  },
  {
   "cell_type": "markdown",
   "metadata": {},
   "source": [
    "Let's explore other counts."
   ]
  },
  {
   "cell_type": "code",
   "execution_count": null,
   "metadata": {},
   "outputs": [],
   "source": [
    "get <- \"TRINITY_DN16709_c0_g1_i1\"\n",
    "annot[annot[,1]==get,c(1,2,3,11,12,13,14)]\n",
    "easy_plotCounts(get)"
   ]
  },
  {
   "cell_type": "markdown",
   "metadata": {},
   "source": [
    "## Sex-specific effects"
   ]
  },
  {
   "cell_type": "markdown",
   "metadata": {},
   "source": [
    "Now we can do a similar test but use a different design in which we add in coefficients for sex and the interaction between sex and condition. We cannot include site in this comparison because there are sites for which there are not parasitized individuals of both sex. "
   ]
  },
  {
   "cell_type": "code",
   "execution_count": null,
   "metadata": {},
   "outputs": [],
   "source": [
    "dds_sex <- DESeqDataSetFromMatrix(countData = counts_clean, colData = coldata, design = ~condition + sex + sex:condition)"
   ]
  },
  {
   "cell_type": "markdown",
   "metadata": {},
   "source": [
    "LRT against reduced model of just sex + condition."
   ]
  },
  {
   "cell_type": "code",
   "execution_count": null,
   "metadata": {},
   "outputs": [],
   "source": [
    "dds_sex <- DESeq(dds_sex, parallel=TRUE, test=\"LRT\", reduced=~condition + sex)"
   ]
  },
  {
   "cell_type": "markdown",
   "metadata": {},
   "source": [
    "Get results."
   ]
  },
  {
   "cell_type": "code",
   "execution_count": null,
   "metadata": {},
   "outputs": [],
   "source": [
    "res_sex <- results(dds_sex, alpha=0.05)\n",
    "summary(res_sex)"
   ]
  },
  {
   "cell_type": "markdown",
   "metadata": {},
   "source": [
    "Looks like there are 55 that show a significant interaction."
   ]
  },
  {
   "cell_type": "code",
   "execution_count": null,
   "metadata": {},
   "outputs": [],
   "source": [
    "res_sex_sig <- data.frame(subset(res_sex, padj < 0.05))\n",
    "res_sex_sig <- res_sex_sig[order(res_sex_sig$padj),]\n",
    "head(res_sex_sig, 20)"
   ]
  },
  {
   "cell_type": "markdown",
   "metadata": {},
   "source": [
    "Find those with any annotation"
   ]
  },
  {
   "cell_type": "code",
   "execution_count": null,
   "metadata": {},
   "outputs": [],
   "source": [
    "res_sex_sig[rownames(res_sex_sig)%in%annot[,1],]"
   ]
  },
  {
   "cell_type": "markdown",
   "metadata": {},
   "source": [
    "Get select annotations."
   ]
  },
  {
   "cell_type": "code",
   "execution_count": null,
   "metadata": {},
   "outputs": [],
   "source": [
    "annot[annot[,1]==\"TRINITY_DN8359_c0_g1_i1\",c(1,2,3,11,12,13,14)]"
   ]
  },
  {
   "cell_type": "markdown",
   "metadata": {},
   "source": [
    "Modify the plotting function from above."
   ]
  },
  {
   "cell_type": "code",
   "execution_count": null,
   "metadata": {},
   "outputs": [],
   "source": [
    "easy_plotCounts_sex <- function(ID){\n",
    "    count_plot <- plotCounts(dds_sex, gene=ID, intgroup=c(\"condition\", \"site\", \"sex\"), returnData=TRUE)\n",
    "    ggplot(count_plot, aes(x=condition, y=count, color=site)) +\n",
    "        facet_grid(.~sex) +\n",
    "        theme(strip.text.x = element_text(size = 12), \n",
    "        axis.text.x = element_text(size=11), \n",
    "        axis.text.y = element_text(size=11)) +\n",
    "        xlab(\"\") +\n",
    "        ylab(\"\") +\n",
    "        geom_point(position=position_jitter(w=0.2,h=0), show.legend = TRUE) + \n",
    "        geom_smooth(method = \"lm\", se=F, aes(group=1), show.legend = FALSE, color = \"blue\") +\n",
    "        stat_summary(fun.data=mean_sdl, fun.args = list(mult=1), geom=\"pointrange\", color=\"red\") +\n",
    "        stat_summary(fun.data=mean_sdl, fun.args = list(mult=1), geom=\"errorbar\", color=\"red\", width=0.2) +\n",
    "        scale_y_log10()\n",
    "}"
   ]
  },
  {
   "cell_type": "code",
   "execution_count": null,
   "metadata": {},
   "outputs": [],
   "source": [
    "easy_plotCounts_sex(\"TRINITY_DN8359_c0_g1_i1\")"
   ]
  },
  {
   "cell_type": "markdown",
   "metadata": {},
   "source": [
    "Just checking to see the balance of sex/condition."
   ]
  },
  {
   "cell_type": "code",
   "execution_count": null,
   "metadata": {},
   "outputs": [],
   "source": [
    "nrow(coldata[coldata$sex==\"F\"&coldata$condition==\"P\",])\n",
    "nrow(coldata[coldata$sex==\"F\"&coldata$condition==\"C\",])\n",
    "nrow(coldata[coldata$sex==\"M\"&coldata$condition==\"P\",])\n",
    "nrow(coldata[coldata$sex==\"M\"&coldata$condition==\"C\",])"
   ]
  },
  {
   "cell_type": "markdown",
   "metadata": {},
   "source": [
    "As you can see, the sample sizes are uneven. We'll do the following to account for this when looking for differences between the sexes in the magnitude of their transcriptional response. "
   ]
  },
  {
   "cell_type": "markdown",
   "metadata": {},
   "source": [
    "Let's make Wald contrasts just looking at P vs C within each sex. However, because there are unequal sample sizes, we'll subsample to the smallest number of P and C crabs between each sex. We'll do this randomly over 1000 iteractions, in what is kind of like a rarefaction procedure. More like downsampling with randomization. This will take a really long time, so if you are re-running these analysis and would like to skip, just go directly to the next set of analyses.\n",
    "\n",
    "First we'll add a column to our coldata to pair sex and condition into one term."
   ]
  },
  {
   "cell_type": "code",
   "execution_count": null,
   "metadata": {},
   "outputs": [],
   "source": [
    "coldata_raref <- coldata\n",
    "coldata_raref$group <- factor(paste0(coldata_raref$sex, coldata_raref$condition))"
   ]
  },
  {
   "cell_type": "markdown",
   "metadata": {},
   "source": [
    "Next is the loop that runs the analyses 1000 times. The end of this chunk saves the resulting objects, so just skip and load if you've already run. REMEMBER TO UNCOMMENT PRE-COMMIT"
   ]
  },
  {
   "cell_type": "code",
   "execution_count": null,
   "metadata": {},
   "outputs": [],
   "source": [
    "#sex_raref <- data.frame(rep=integer(0),sex=character(0),up=integer(0),down=integer(0), stringsAsFactors = FALSE) #initialize\n",
    "#DE_female <- list() #initialize list the will hold names of DE transcripts in each iteration\n",
    "#DE_male <- list() #again\n",
    "#for (i in 1:1000){\n",
    "#    coldata_C <- coldata_raref[coldata_raref$condition == \"C\",] #subset to just control\n",
    "#    coldata_C <- coldata_C %>% rownames_to_column('sample') %>% group_by(sex) %>% sample_n(size=21) %>% column_to_rownames('sample') #group by site and randomly sample 21 (lowest number of C samples in either sex (F))\n",
    "#    coldata_P <- coldata_raref[coldata_raref$condition == \"P\",] #subset to just parasitized\n",
    "#    coldata_P <- coldata_P %>% rownames_to_column('sample') %>% group_by(sex) %>% sample_n(size=14) %>% column_to_rownames('sample') #group by site and randomly sample 2 (lowest number of P samples in either sex (M))\n",
    "#    coldata_iter <- rbind(coldata_C,coldata_P) #combine dfs\n",
    "#    counts_clean_raref <- counts_clean[,match(rownames(coldata_iter), colnames(counts_clean))] #subset count data to match included samples\n",
    "#    dds_sex_raref <- DESeqDataSetFromMatrix(countData = counts_clean_raref, colData = coldata_iter, design = ~group)\n",
    "#    dds_sex_raref <- DESeq(dds_sex_raref, parallel=TRUE, quiet=TRUE)\n",
    "#    res_FPvFC <- results(dds_sex_raref, contrast=c(\"group\", \"FP\", \"FC\"), alpha=0.05)\n",
    "#    res_MPvMC <- results(dds_sex_raref, contrast=c(\"group\", \"MP\", \"MC\"), alpha=0.05)\n",
    "#    sex_raref <- rbind(sex_raref, list(rep=i,sex=\"F\",up=nrow(res_FPvFC[which(res_FPvFC$log2FoldChange>0 & res_FPvFC$padj<0.05),]),down=nrow(res_FPvFC[which(res_FPvFC$log2FoldChange<0 & res_FPvFC$padj<0.05),])), stringsAsFactors=FALSE) #append rep, sex, and # up and down sig DE transcripts\n",
    "#    sex_raref <- rbind(sex_raref, list(rep=i,sex=\"M\",up=nrow(res_MPvMC[which(res_MPvMC$log2FoldChange>0 & res_MPvMC$padj<0.05),]),down=nrow(res_MPvMC[which(res_MPvMC$log2FoldChange<0 & res_MPvMC$padj<0.05),])), stringsAsFactors=FALSE) #repeat for male\n",
    "#    DE_female[[i]] <- c(rownames(res_FPvFC[which(res_FPvFC$padj<0.05),]))\n",
    "#    DE_male[[i]] <- c(rownames(res_MPvMC[which(res_MPvMC$padj<0.05),]))\n",
    "#}\n",
    "#save(sex_raref, DE_female, DE_male, file=\"sex_raref.RData\")"
   ]
  },
  {
   "cell_type": "markdown",
   "metadata": {},
   "source": [
    "Load in the data (since you did this at some point before)."
   ]
  },
  {
   "cell_type": "code",
   "execution_count": null,
   "metadata": {},
   "outputs": [],
   "source": [
    "load(\"sex_raref.RData\")\n",
    "sex_raref$total <- sex_raref$up + sex_raref$down\n",
    "sex_raref$sex <- factor(sex_raref$sex)"
   ]
  },
  {
   "cell_type": "markdown",
   "metadata": {},
   "source": [
    "Get summary stats."
   ]
  },
  {
   "cell_type": "code",
   "execution_count": null,
   "metadata": {},
   "outputs": [],
   "source": [
    "summary(sex_raref[sex_raref$sex==\"F\",])\n",
    "summary(sex_raref[sex_raref$sex==\"M\",])"
   ]
  },
  {
   "cell_type": "code",
   "execution_count": null,
   "metadata": {},
   "outputs": [],
   "source": [
    "sex_raref_long <- gather(sex_raref, \"up\", \"down\", \"total\", key=\"direction\", value=\"number\")\n",
    "sex_raref_long$direction <- factor(sex_raref_long$direction, levels=c(\"up\",\"down\",\"total\"))"
   ]
  },
  {
   "cell_type": "code",
   "execution_count": null,
   "metadata": {},
   "outputs": [],
   "source": [
    "ggplot(sex_raref_long, aes(x=number, color=sex)) +\n",
    "    geom_density(fill=\"white\", alpha=0.5, position=\"identity\") +\n",
    "    facet_grid(rows= vars(direction), scales=\"free\")"
   ]
  },
  {
   "cell_type": "markdown",
   "metadata": {},
   "source": [
    "I'll do both a t-test and a Mann-Whitney-Wilcoxon test, because the data are not particularly normally distributed, especially for males."
   ]
  },
  {
   "cell_type": "code",
   "execution_count": null,
   "metadata": {},
   "outputs": [],
   "source": [
    "wilcox.test(up ~ sex, data=sex_raref)\n",
    "wilcox.test(down ~ sex, data=sex_raref)\n",
    "wilcox.test(total ~ sex, data=sex_raref)\n",
    "t.test(up ~ sex, data=sex_raref)\n",
    "t.test(down ~ sex, data=sex_raref)\n",
    "t.test(total ~ sex, data=sex_raref)"
   ]
  },
  {
   "cell_type": "markdown",
   "metadata": {},
   "source": [
    "Regardless of the test, the difference is extremely significant for all groups (up, down, total)."
   ]
  },
  {
   "cell_type": "markdown",
   "metadata": {},
   "source": [
    "## Range-specific effects"
   ]
  },
  {
   "cell_type": "markdown",
   "metadata": {},
   "source": [
    "Now that we have looked for bulk differences as a result of infection status, and how it interacts with sex, we can move on to look at differences among populations with different levels of historical exposure to the parasite. We included the FP samples in our first comparison because it was agnostic to range. However, because it is unresolved whether Loxo is native, invasive, or absent in FP, we are going to remove it from subsequent analyses. Also, we are going to remove the MD samples as well. Three reasons. First, the Loxo used to infect the crabs during the experiment were from MD. It is plausible that these Loxo could be locally adapted to the MD hosts, or vice versa, and that this site-level signal could interfere with the more regional perspective. Second, in the population genomic study of Rhithro, MD clustered with the Northeastern sites where the parasite is absent (NJ, MA, NH). This shared deeper evolutionary history may interfere with questions about more recent adaptations to the presence of the parasite. And third, after removal of FP, both the native and absent ranges have two sites each and thus fewer samples. Exclusion of MD will make sample sizes more even. \n",
    "\n",
    "We have to make another dds object. I am going to make it from scratch by removing all FP and MD samples from the coldata and counts_clean."
   ]
  },
  {
   "cell_type": "code",
   "execution_count": null,
   "metadata": {},
   "outputs": [],
   "source": [
    "colnames(counts_clean)"
   ]
  },
  {
   "cell_type": "code",
   "execution_count": null,
   "metadata": {},
   "outputs": [],
   "source": [
    "counts_clean_noFPMD <- counts_clean[,!grepl(\"FP_*\",colnames(counts_clean))]\n",
    "counts_clean_noFPMD <- counts_clean_noFPMD[,!grepl(\"MD_*\",colnames(counts_clean_noFPMD))]\n",
    "coldata_noFPMD <- coldata[colnames(counts_clean_noFPMD),]"
   ]
  },
  {
   "cell_type": "markdown",
   "metadata": {},
   "source": [
    "Let's just check to make sure they were removed."
   ]
  },
  {
   "cell_type": "code",
   "execution_count": null,
   "metadata": {},
   "outputs": [],
   "source": [
    "dim(counts_clean_noFPMD)"
   ]
  },
  {
   "cell_type": "markdown",
   "metadata": {},
   "source": [
    "Just a quick sanity check to make sure the samples are in the same order in the counts and metadata matrices."
   ]
  },
  {
   "cell_type": "code",
   "execution_count": null,
   "metadata": {},
   "outputs": [],
   "source": [
    "all(rownames(coldata_noFPMD) == colnames(counts_clean_noFPMD))"
   ]
  },
  {
   "cell_type": "code",
   "execution_count": null,
   "metadata": {},
   "outputs": [],
   "source": [
    "rownames(coldata_noFPMD)"
   ]
  },
  {
   "cell_type": "markdown",
   "metadata": {},
   "source": [
    "Because we have removed the FP and MD samples, I am going to re-normalize the counts and do a second round of expression filtering, using the same process of removing transcripts that have normalized counts less than 10 in over 90% of samples (52 in this case). "
   ]
  },
  {
   "cell_type": "code",
   "execution_count": null,
   "metadata": {},
   "outputs": [],
   "source": [
    "dds <- DESeqDataSetFromMatrix(countData = counts_clean_noFPMD, colData = coldata_noFPMD, design = ~ condition)\n",
    "dds <- estimateSizeFactors(dds)\n",
    "norm_mat <- counts(dds, normalized=TRUE)\n",
    "dim(norm_mat)\n",
    "remove <- rowSums(norm_mat < 10 ) > 52\n",
    "norm_mat <- norm_mat[!remove,]\n",
    "dim(norm_mat)\n",
    "counts_clean_noFPMD <- counts_clean_noFPMD[rownames(norm_mat),]"
   ]
  },
  {
   "cell_type": "markdown",
   "metadata": {},
   "source": [
    "Okay now we're working with 59579 transcripts."
   ]
  },
  {
   "cell_type": "markdown",
   "metadata": {},
   "source": [
    "### Comparing infected vs control within ranges, controlling for site"
   ]
  },
  {
   "cell_type": "markdown",
   "metadata": {},
   "source": [
    "With this pared down dataset, we'll do two different analyses. The first will be just looking at the difference between infected and control *within* each range. This allows us to control for site-specific effects within the ranges. We'll do the same procedure as for the within sex comparison. But first...\n",
    "\n",
    "There is an added complication when correcting for individual effects that are nested within groups. I am implementing an approach outlined in the [\"Group-specific condition effects, individuals nested within groups\"](http://bioconductor.org/packages/devel/bioc/vignettes/DESeq2/inst/doc/DESeq2.html#group-specific-condition-effects-individuals-nested-within-groups) section of the DESeq2 vignette. Essentially we just assign a unique identifier to each site by range."
   ]
  },
  {
   "cell_type": "code",
   "execution_count": null,
   "metadata": {},
   "outputs": [],
   "source": [
    "print(coldata_noFPMD)"
   ]
  },
  {
   "cell_type": "markdown",
   "metadata": {},
   "source": [
    "We have to add a column assigning unique factors to each population *within* each range. We are going to add a column with the following values:"
   ]
  },
  {
   "cell_type": "code",
   "execution_count": null,
   "metadata": {},
   "outputs": [],
   "source": [
    "coldata_noFPMD$site.n <- factor(c(1,1,1,1,1,1,1,1,1,2,2,2,2,2,2,2,2,1,1,1,1,1,1,1,1,1,1,1,1,1,1,1,1,1,1,1,1,2,2,2,2,2,2,2,2,2,2,2,2,2,2,2,2,2,2,2,2,2))\n",
    "print(coldata_noFPMD)"
   ]
  },
  {
   "cell_type": "markdown",
   "metadata": {},
   "source": [
    "You can see now that each site has a unique number in relation to other sites in its range. They are repeated across ranges, but it doesn't matter because we are interested in looking at effects of infection within sites. "
   ]
  },
  {
   "cell_type": "markdown",
   "metadata": {},
   "source": [
    "Now I'm just going to check the factor levels."
   ]
  },
  {
   "cell_type": "code",
   "execution_count": null,
   "metadata": {},
   "outputs": [],
   "source": [
    "coldata_noFPMD$sex\n",
    "coldata_noFPMD$condition\n",
    "coldata_noFPMD$range\n",
    "coldata_noFPMD$site"
   ]
  },
  {
   "cell_type": "markdown",
   "metadata": {},
   "source": [
    "Looks like the condition column retained the old value \"F\" for the loxo externae and the site column retained the old value \"para\". Let's also get rid of the sites we removed. Let's relevel."
   ]
  },
  {
   "cell_type": "code",
   "execution_count": null,
   "metadata": {},
   "outputs": [],
   "source": [
    "coldata_noFPMD$condition <- factor(coldata_noFPMD$condition, c(\"C\",\"P\"))\n",
    "coldata_noFPMD$site <- factor(coldata_noFPMD$site, c('AP','LA','ML','NH','NJ','SC'))\n",
    "coldata_noFPMD$condition\n",
    "coldata_noFPMD$site"
   ]
  },
  {
   "cell_type": "markdown",
   "metadata": {},
   "source": [
    "Now we can make a model matrix that includes the terms we want to use in our forumlae."
   ]
  },
  {
   "cell_type": "code",
   "execution_count": null,
   "metadata": {},
   "outputs": [],
   "source": [
    "mm <- model.matrix(~ range + range:site.n + range:condition, coldata_noFPMD)\n",
    "head(mm)"
   ]
  },
  {
   "cell_type": "code",
   "execution_count": null,
   "metadata": {},
   "outputs": [],
   "source": [
    "colnames(mm)"
   ]
  },
  {
   "cell_type": "markdown",
   "metadata": {},
   "source": [
    "Let's take a look at the full model matrix."
   ]
  },
  {
   "cell_type": "code",
   "execution_count": null,
   "metadata": {},
   "outputs": [],
   "source": [
    "print(unname(mm))"
   ]
  },
  {
   "cell_type": "code",
   "execution_count": null,
   "metadata": {},
   "outputs": [],
   "source": [
    "colnames(mm)"
   ]
  },
  {
   "cell_type": "markdown",
   "metadata": {},
   "source": [
    "Okay now we are going to do the same randomization procedure as we did for the between sex comparison. We are downsampling to 2 for parasitized and 5 for control. NOW I AM GOING TO TRY TO GET TO 3 P AND 6 C PER RANGE. IN NAT, EXTRA C HAS TO COME FROM LA AND EXTRA P FROM AP. IN INV, EXTRA C CAN COME FROM EITHER AND EXTRA P FROM SC. IN ABS, EITHER FOR EITHER."
   ]
  },
  {
   "cell_type": "code",
   "execution_count": null,
   "metadata": {},
   "outputs": [],
   "source": [
    "#range_raref <- data.frame(rep=integer(0),range=character(0),up=integer(0),down=integer(0), stringsAsFactors = FALSE)\n",
    "#DE_native <- list() \n",
    "#DE_invasive <- list()\n",
    "#DE_absent <- list()\n",
    "#for (i in 1:3){\n",
    "#    coldata_noFPMD_C <- coldata_noFPMD[coldata_noFPMD$condition == \"C\",] #subset to just control\n",
    "#    coldata_noFPMD_C <- coldata_noFPMD_C %>% rownames_to_column('sample') %>% group_by(site) %>% sample_n(size=5) %>% column_to_rownames('sample') #group by site and randomly sample 5 (lowest number of C samples in any site)\n",
    "#    coldata_noFPMD_P <- coldata_noFPMD[coldata_noFPMD$condition == \"P\",] #subset to just parasitized\n",
    "#    coldata_noFPMD_P <- coldata_noFPMD_P %>% rownames_to_column('sample') %>% group_by(site) %>% sample_n(size=2) %>% column_to_rownames('sample') #group by site and randomly sample 2 (lowest number of P samples in any site)\n",
    "#    coldata_noFPMD_raref <- rbind(coldata_noFPMD_C,coldata_noFPMD_P) #combine dfs\n",
    "#    add_C <- coldata_noFPMD[intersect(rownames(coldata_noFPMD[coldata_noFPMD$condition==\"C\",]), setdiff(rownames(coldata_noFPMD),rownames(coldata_noFPMD_raref))),] %>% rownames_to_column('sample') %>% group_by(range) %>% sample_n(size=1) %>% column_to_rownames('sample') #randomly select one control sample per range from set of samples not already included \n",
    "#    coldata_noFPMD_raref <- rbind(coldata_noFPMD_raref, add_C) #add to df\n",
    "#    add_P <- coldata_noFPMD[intersect(rownames(coldata_noFPMD[coldata_noFPMD$condition==\"P\",]), setdiff(rownames(coldata_noFPMD),rownames(coldata_noFPMD_raref))),] %>% rownames_to_column('sample') %>% group_by(range) %>% sample_n(size=1) %>% column_to_rownames('sample') #randomly select one parasitized sample per range from set of samples not already included \n",
    "#    coldata_noFPMD_raref <- rbind(coldata_noFPMD_raref, add_P) #add to df\n",
    "#    counts_clean_noFPMD_raref <- counts_clean_noFPMD[,match(rownames(coldata_noFPMD_raref), colnames(counts_clean_noFPMD))] #subset count data to match included samples\n",
    "#    mm_raref <-  mm[match(rownames(coldata_noFPMD_raref),rownames(mm)),] #subset model matrix\n",
    "#    dds_range_raref <- DESeqDataSetFromMatrix(countData = counts_clean_noFPMD_raref, colData = coldata_noFPMD_raref, design = mm_raref)\n",
    "#    dds_range_raref <- DESeq(dds_range_raref, parallel=TRUE, quiet=TRUE)\n",
    "#    native.PvC <- results(dds_range_raref, alpha=0.05, parallel=TRUE, name=\"rangeNative.conditionP\")\n",
    "#    invasive.PvC <- results(dds_range_raref, alpha=0.05, parallel=TRUE, name=\"rangeInvasive.conditionP\")\n",
    "#    absent.PvC <- results(dds_range_raref, alpha=0.05, parallel=TRUE, name=\"rangeAbsent.conditionP\")\n",
    "#    range_raref <- rbind(range_raref, list(rep=i,range=\"native\",up=nrow(native.PvC[which(native.PvC$log2FoldChange>0 & native.PvC$padj<0.05),]),down=nrow(native.PvC[which(native.PvC$log2FoldChange<0 & native.PvC$padj<0.05),])), stringsAsFactors=FALSE) #append rep, range, and # up and down sig DE transcripts\n",
    "#    range_raref <- rbind(range_raref, list(rep=i,range=\"invasive\",up=nrow(invasive.PvC[which(invasive.PvC$log2FoldChange>0 & invasive.PvC$padj<0.05),]),down=nrow(invasive.PvC[which(invasive.PvC$log2FoldChange<0 & invasive.PvC$padj<0.05),])), stringsAsFactors=FALSE) #repeat for invasive\n",
    "#    range_raref <- rbind(range_raref, list(rep=i,range=\"absent\",up=nrow(absent.PvC[which(absent.PvC$log2FoldChange>0 & absent.PvC$padj<0.05),]),down=nrow(absent.PvC[which(absent.PvC$log2FoldChange<0 & absent.PvC$padj<0.05),])), stringsAsFactors=FALSE) #repeat for absent\n",
    "#    DE_native[[i]] <- c(rownames(native.PvC[which(native.PvC$padj<0.05),]))\n",
    "#    DE_invasive[[i]] <- c(rownames(invasive.PvC[which(invasive.PvC$padj<0.05),]))\n",
    "#    DE_absent[[i]] <- c(rownames(absent.PvC[which(absent.PvC$padj<0.05),]))\n",
    "#}\n",
    "#save(range_raref, DE_native, DE_invasive, DE_absent, file='range_raref.RData')"
   ]
  },
  {
   "cell_type": "code",
   "execution_count": null,
   "metadata": {},
   "outputs": [],
   "source": [
    "load(\"range_raref.RData\")\n",
    "range_raref$total <- range_raref$up + range_raref$down\n",
    "range_raref$range <- factor(range_raref$range)"
   ]
  },
  {
   "cell_type": "code",
   "execution_count": null,
   "metadata": {},
   "outputs": [],
   "source": [
    "range_raref"
   ]
  },
  {
   "cell_type": "code",
   "execution_count": null,
   "metadata": {},
   "outputs": [],
   "source": [
    "summary(range_raref[range_raref$range==\"native\",])\n",
    "summary(range_raref[range_raref$range==\"invasive\",])\n",
    "summary(range_raref[range_raref$range==\"absent\",])"
   ]
  },
  {
   "cell_type": "code",
   "execution_count": null,
   "metadata": {},
   "outputs": [],
   "source": [
    "range_raref_long <- gather(range_raref, \"up\", \"down\", \"total\", key=\"direction\", value=\"number\")\n",
    "range_raref_long$direction <- factor(range_raref_long$direction, levels=c(\"up\",\"down\",\"total\"))"
   ]
  },
  {
   "cell_type": "code",
   "execution_count": null,
   "metadata": {},
   "outputs": [],
   "source": [
    "ggplot(range_raref_long, aes(x=number, color=range)) +\n",
    "    geom_density(fill=\"white\", alpha=0.5, position=\"identity\") +\n",
    "    facet_grid(rows= vars(direction), scales=\"free\") +\n",
    "    xlim(c(0,3000))"
   ]
  },
  {
   "cell_type": "code",
   "execution_count": null,
   "metadata": {},
   "outputs": [],
   "source": [
    "#wilcox.test(up ~ sex, data=sex_raref)\n",
    "#wilcox.test(down ~ sex, data=sex_raref)\n",
    "#wilcox.test(total ~ sex, data=sex_raref)"
   ]
  },
  {
   "cell_type": "markdown",
   "metadata": {},
   "source": [
    "In the native range, there are 162 upregulated and 249 downregulated, for a total of 411.\n",
    "\n",
    "In the invasive range, there are 826 upregulated and 403 downregulated, for a total of 1229.\n",
    "\n",
    "In the absent range, there are 3751 upregulated and 1143 downregulated, for a total of 4894.\n",
    "\n",
    "Let's save these results to data.frames."
   ]
  },
  {
   "cell_type": "code",
   "execution_count": null,
   "metadata": {},
   "outputs": [],
   "source": [
    "#native.PvC_df <- data.frame(subset(native.PvC, native.PvC$padj < 0.05))\n",
    "#native.PvC_df <- native.PvC_df[order(native.PvC_df$padj),]\n",
    "#invasive.PvC_df <- data.frame(subset(invasive.PvC, invasive.PvC$padj < 0.05))\n",
    "#invasive.PvC_df <- invasive.PvC_df[order(invasive.PvC_df$padj),]\n",
    "#absent.PvC_df <- data.frame(subset(absent.PvC, absent.PvC$padj < 0.05))\n",
    "#absent.PvC_df <- absent.PvC_df[order(absent.PvC_df$padj),]"
   ]
  },
  {
   "cell_type": "markdown",
   "metadata": {},
   "source": [
    "Let's have a look at some of the top DE transcripts for each range."
   ]
  },
  {
   "cell_type": "code",
   "execution_count": null,
   "metadata": {},
   "outputs": [],
   "source": [
    "#head(native.PvC_df,20)\n",
    "#head(invasive.PvC_df,20)\n",
    "#head(absent.PvC_df,20)"
   ]
  },
  {
   "cell_type": "markdown",
   "metadata": {},
   "source": [
    "Now I'll make new plotting functions to break it out by range. We'll use modified versions of the `easy_plotCounts()` and `add_title()` functions I wrote above."
   ]
  },
  {
   "cell_type": "code",
   "execution_count": null,
   "metadata": {},
   "outputs": [],
   "source": [
    "easy_plotCounts_range <- function(ID){\n",
    "    count_plot <- plotCounts(dds_range, gene=ID, intgroup=c(\"condition\",\"range\", \"site\"), returnData=TRUE)\n",
    "    ggplot(count_plot, aes(x=condition, y=count, group=range, color=site)) +\n",
    "        facet_grid(.~range) +\n",
    "        theme(strip.text.x = element_text(size = 12), \n",
    "              axis.text.x = element_text(size=11), \n",
    "              axis.text.y = element_text(size=11)) +\n",
    "        xlab(\"\") +\n",
    "        ylab(\"\") +\n",
    "        geom_point(position=position_jitter(w=0.2,h=0), show.legend = FALSE) + \n",
    "        geom_smooth(method = \"lm\", se=F, aes(group=1), show.legend = FALSE, color = \"blue\") +\n",
    "        stat_summary(fun.data=mean_sdl, fun.args = list(mult=1), geom=\"pointrange\", color=\"red\") +\n",
    "        stat_summary(fun.data=mean_sdl, fun.args = list(mult=1), geom=\"errorbar\", color=\"red\", width=0.2) +\n",
    "        scale_y_log10()#limits = c(1,1e6)) \n",
    "}\n",
    "\n",
    "add_title_range <- function(ID, title){\n",
    "     easy_plotCounts_range(ID) + \n",
    "        ggtitle(title) + \n",
    "        theme(plot.title = element_text(hjust=0.5,size=14,face=\"bold\"),legend.position=\"none\")\n",
    "}"
   ]
  },
  {
   "cell_type": "markdown",
   "metadata": {},
   "source": [
    "Just copy paste some transcript IDs to explore."
   ]
  },
  {
   "cell_type": "code",
   "execution_count": null,
   "metadata": {},
   "outputs": [],
   "source": [
    "annot[annot[,1]==\"TRINITY_DN4299_c0_g1_i1\",c(1,2,3,11,12,13,14)]\n",
    "easy_plotCounts_range(\"TRINITY_DN4299_c0_g1_i1\")"
   ]
  },
  {
   "cell_type": "markdown",
   "metadata": {},
   "source": [
    "Let's count the number of up and down over/under LFC 2, using unshrunk LFCs."
   ]
  },
  {
   "cell_type": "code",
   "execution_count": null,
   "metadata": {},
   "outputs": [],
   "source": [
    "#nrow(na.omit(native.PvC_df[native.PvC_df$log2FoldChange>2,]))\n",
    "#nrow(na.omit(native.PvC_df[native.PvC_df$log2FoldChange<(-2),]))\n",
    "#nrow(na.omit(invasive.PvC_df[invasive.PvC_df$log2FoldChange>2,]))\n",
    "#nrow(na.omit(invasive.PvC_df[invasive.PvC_df$log2FoldChange<(-2),]))\n",
    "#nrow(na.omit(absent.PvC_df[absent.PvC_df$log2FoldChange>2,]))\n",
    "#nrow(na.omit(absent.PvC_df[absent.PvC_df$log2FoldChange<(-2),]))"
   ]
  },
  {
   "cell_type": "markdown",
   "metadata": {},
   "source": [
    "Now we'll extract the transcript names of those that are up- or downregulated for making Venn diagrams."
   ]
  },
  {
   "cell_type": "code",
   "execution_count": null,
   "metadata": {},
   "outputs": [],
   "source": [
    "#native_DE_up <- rownames(native.PvC_df[native.PvC_df$log2FoldChange>0,])\n",
    "#native_DE_down <- rownames(native.PvC_df[native.PvC_df$log2FoldChange<0,])\n",
    "#invasive_DE_up <- rownames(invasive.PvC_df[invasive.PvC_df$log2FoldChange>0,])\n",
    "#invasive_DE_down <- rownames(invasive.PvC_df[invasive.PvC_df$log2FoldChange<0,])\n",
    "#absent_DE_up <- rownames(absent.PvC_df[absent.PvC_df$log2FoldChange>0,])\n",
    "#absent_DE_down <- rownames(absent.PvC_df[absent.PvC_df$log2FoldChange<0,])\n",
    "#length(native_DE_up)\n",
    "#length(native_DE_down)\n",
    "#length(invasive_DE_up)\n",
    "#length(invasive_DE_down)\n",
    "#length(absent_DE_up)\n",
    "#length(absent_DE_down)"
   ]
  },
  {
   "cell_type": "markdown",
   "metadata": {},
   "source": [
    "Good, these correspond to the numbers seen earlier in the summaries.\n",
    "\n",
    "Now to make some Venn diagrams."
   ]
  },
  {
   "cell_type": "code",
   "execution_count": null,
   "metadata": {},
   "outputs": [],
   "source": [
    "#futile.logger::flog.threshold(futile.logger::ERROR, name = \"VennDiagramLogger\")\n",
    "#myCol <- brewer.pal(3, \"Set1\")\n",
    "#venn.diagram(\n",
    "#        x = list(native_DE_up, invasive_DE_up, absent_DE_up),\n",
    "#        category.names = c(\"Native\" , \"Invasive\" , \"Absent\"),\n",
    "#        filename = '../vis/venn_range_up.png',\n",
    "#        output = TRUE ,\n",
    "#        imagetype=\"png\" ,\n",
    "#        height = 480 , \n",
    "#        width = 480 , \n",
    "#        resolution = 300,\n",
    "#        compression = \"lzw\",\n",
    "#        lwd = 1,\n",
    "#        fill = myCol,\n",
    "#        cex = 0.5,\n",
    "#        fontfamily = \"sans\",\n",
    "#        cat.cex = 0.5,\n",
    "#        cat.fontface = \"bold\",\n",
    "#        cat.default.pos = \"outer\",\n",
    "#        cat.pos = c(-27, 27, 180),\n",
    "#        cat.dist = c(0.055, 0.055, 0.045),\n",
    "#        cat.fontfamily = \"sans\",\n",
    "#        cat.col = myCol,\n",
    "#        rotation = 1\n",
    "#)\n",
    "#venn.diagram(\n",
    "#        x = list(native_DE_down, invasive_DE_down, absent_DE_down),\n",
    "#        category.names = c(\"Native\" , \"Invasive\" , \"Absent\"),\n",
    "#        filename = '../vis/venn_range_down.png',\n",
    "#        output = TRUE ,\n",
    "#        imagetype=\"png\" ,\n",
    "#        height = 480 , \n",
    "#        width = 480 , \n",
    "#        resolution = 300,\n",
    "#        compression = \"lzw\",\n",
    "#        lwd = 1,\n",
    "#        fill = myCol,\n",
    "#        cex = 0.5,\n",
    "#        fontfamily = \"sans\",\n",
    "#        cat.cex = 0.5,\n",
    "#        cat.fontface = \"bold\",\n",
    "#        cat.default.pos = \"outer\",\n",
    "#        cat.pos = c(-27, 27, 180),\n",
    "#        cat.dist = c(0.055, 0.055, 0.045),\n",
    "#        cat.fontfamily = \"sans\",\n",
    "#        cat.col = myCol,\n",
    "#        rotation = 1\n",
    "#)\n",
    "#venn.diagram(\n",
    "#        x = list(c(native_DE_down,native_DE_up), c(invasive_DE_down,invasive_DE_up), c(absent_DE_down,absent_DE_up)),\n",
    "#        category.names = c(\"Native\" , \"Invasive\" , \"Absent\"),\n",
    "#        filename = '../vis/venn_range_both.png',\n",
    "#        output = TRUE ,\n",
    "#        imagetype=\"png\" ,\n",
    "#        height = 480 , \n",
    "#        width = 480 , \n",
    "#        resolution = 300,\n",
    "#        compression = \"lzw\",\n",
    "#        lwd = 1,\n",
    "#        fill = myCol,\n",
    "#        cex = 0.5,\n",
    "#        fontfamily = \"sans\",\n",
    "#        cat.cex = 0.5,\n",
    "#        cat.fontface = \"bold\",\n",
    "#        cat.default.pos = \"outer\",\n",
    "#        cat.pos = c(-27, 27, 180),\n",
    "#        cat.dist = c(0.055, 0.055, 0.045),\n",
    "#        cat.fontfamily = \"sans\",\n",
    "#        cat.col = myCol,\n",
    "#        rotation = 1\n",
    "#)"
   ]
  },
  {
   "cell_type": "markdown",
   "metadata": {},
   "source": [
    "And an upset plot:"
   ]
  },
  {
   "cell_type": "code",
   "execution_count": null,
   "metadata": {},
   "outputs": [],
   "source": [
    "#require(UpSetR)\n",
    "#listInput <- list(\n",
    "#    native_DE_up = native_DE_up,\n",
    "#    native_DE_down = native_DE_down,\n",
    "#    invasive_DE_up = invasive_DE_up,\n",
    "#    invasive_DE_down =  invasive_DE_down,\n",
    "#    absent_DE_up = absent_DE_up,\n",
    "#    absent_DE_down = absent_DE_down\n",
    "#)\n",
    "#sets <- fromList(listInput)\n",
    "#upset_plot <- upset(sets, sets = names(listInput), order.by = \"freq\", nsets=6, mb.ratio=c(0.7,.3))\n",
    "#png(\"../vis/upset_range_PvC.png\", height=10, width=10, units = \"in\", res=200)\n",
    "#upset_plot\n",
    "#dev.off()\n",
    "#upset_plot\n",
    "#detach(\"package:UpSetR\", unload=TRUE)"
   ]
  },
  {
   "cell_type": "markdown",
   "metadata": {},
   "source": [
    "You can have a look at these in the `vis/` directory. Now on to our last comparison."
   ]
  },
  {
   "cell_type": "markdown",
   "metadata": {},
   "source": [
    "### Testing for interactions between range and condition"
   ]
  },
  {
   "cell_type": "markdown",
   "metadata": {},
   "source": [
    "Here we will investigate differences in the transcriptional response to parasitism *among* ranges. That is, we will search for transcripts that display a significant interaction between `condition` and `range` in the model. Note that here we cannot control for site-specific effects as we did in the last comparison. This is not a flaw in the experimental design; it is simply that there is no way to have one site occur across ranges in order to control for it, i.e. NH cannot simultaneously be in three ranges. This deviates from the mostly biomedical examples from the vignette and other DESeq2 resources, in which they can control for individual/genotype specific effect across different combinations of treatments. \n",
    "\n",
    "We'll make a another dds object, this time called `dds_interaction`. We'll use the same counts and sample metadata as in the previous comparison."
   ]
  },
  {
   "cell_type": "code",
   "execution_count": null,
   "metadata": {},
   "outputs": [],
   "source": [
    "dds_interaction <- DESeqDataSetFromMatrix(countData = counts_clean_noFPMD, colData = coldata_noFPMD, design = ~range + condition + range:condition)"
   ]
  },
  {
   "cell_type": "markdown",
   "metadata": {},
   "source": [
    "We are going to do a likelihood ratio test for this comparison, comparing the full model specified in the design above, and a reduced model that includes just `range` and `condition`, but no interaction. "
   ]
  },
  {
   "cell_type": "code",
   "execution_count": null,
   "metadata": {},
   "outputs": [],
   "source": [
    "dds_interaction <- DESeq(dds_interaction, parallel=TRUE, test=\"LRT\", reduced=~range + condition)"
   ]
  },
  {
   "cell_type": "code",
   "execution_count": null,
   "metadata": {},
   "outputs": [],
   "source": [
    "resultsNames(dds_interaction)"
   ]
  },
  {
   "cell_type": "markdown",
   "metadata": {},
   "source": [
    "Let's save the results."
   ]
  },
  {
   "cell_type": "code",
   "execution_count": null,
   "metadata": {},
   "outputs": [],
   "source": [
    "res_interaction <- results(dds_interaction, alpha=0.05, parallel=TRUE) #results of full vs. reduced LRT"
   ]
  },
  {
   "cell_type": "code",
   "execution_count": null,
   "metadata": {},
   "outputs": [],
   "source": [
    "summary(res_interaction)"
   ]
  },
  {
   "cell_type": "markdown",
   "metadata": {},
   "source": [
    "You can see from the summary that there are 4449 transcripts that show a significant interaction.\n",
    "\n",
    "Let's save these to a data.frame."
   ]
  },
  {
   "cell_type": "code",
   "execution_count": null,
   "metadata": {},
   "outputs": [],
   "source": [
    "res_interaction_df <- na.omit(data.frame(subset(res_interaction, res_interaction$padj < 0.05)))\n",
    "res_interaction_df <- res_interaction_df[order(res_interaction_df$padj),] #sort by padj\n",
    "dim(res_interaction_df)\n",
    "head(res_interaction_df)"
   ]
  },
  {
   "cell_type": "markdown",
   "metadata": {},
   "source": [
    "4449 transcripts, around 7.3% of the entire filtered set, display some sort of interaction between range and condition. Seems really high, but remember that we can't control for site-specific effects. Also, population genomic differences between the sites probably also contributes to this, as many contigs in the transcriptome may be supported by crabs only from a certain site or set of sites. \n",
    "\n",
    "Let's look at the expression patterns of select transcripts with decapod annotations."
   ]
  },
  {
   "cell_type": "code",
   "execution_count": null,
   "metadata": {},
   "outputs": [],
   "source": [
    "length(rownames(res_interaction_df[rownames(res_interaction_df) %in% decapod_annot[,1],]))\n",
    "head(res_interaction_df[rownames(res_interaction_df) %in% decapod_annot[,1],],30)"
   ]
  },
  {
   "cell_type": "markdown",
   "metadata": {},
   "source": [
    "There are 547 that have annotations to decapod reference sequences. \n",
    "\n",
    "Those listed above are the top thirty transcripts by adjusted p-value that have decapod annotations. Copy a transcript ID of interest and paste into `transcript` below to get annotation and plot counts."
   ]
  },
  {
   "cell_type": "code",
   "execution_count": null,
   "metadata": {},
   "outputs": [],
   "source": [
    "decapod_annot[decapod_annot[,1]==\"TRINITY_DN12438_c0_g1_i1\",c(1,2,3,11,12,13,14)]\n",
    "easy_plotCounts_range(\"TRINITY_DN12438_c0_g1_i1\")"
   ]
  },
  {
   "cell_type": "markdown",
   "metadata": {},
   "source": [
    "Below I am going to export a selection of counts plots of most significant transcripts showing an interaction, using only those with informative decapod annotations (no hypothetical or unknown proteins). "
   ]
  },
  {
   "cell_type": "code",
   "execution_count": null,
   "metadata": {},
   "outputs": [],
   "source": [
    "p1 <- add_title_range(\"TRINITY_DN26483_c0_g1_i1\", \"5-methylcytosine rRNA methyltransferase\")\n",
    "p2 <- add_title_range(\"TRINITY_DN283_c0_g1_i2\", \"prosaposin-like\")\n",
    "p3 <- add_title_range(\"TRINITY_DN83447_c0_g1_i1\", \"ribosomal protein 24\")\n",
    "p4 <- add_title_range(\"TRINITY_DN12129_c0_g1_i1\", \"spectrin alpha chain-like\")\n",
    "p5 <- add_title_range(\"TRINITY_DN79154_c0_g1_i1\", \"glucuronokinase 2\")\n",
    "p6 <- add_title_range(\"TRINITY_DN31392_c0_g1_i1\", \"Na-dependent nutrient AA transporter 1-like\")\n",
    "p7 <- add_title_range(\"TRINITY_DN4054_c0_g1_i1\", \"scaffold attachment factor B1\")\n",
    "p8 <- add_title_range(\"TRINITY_DN6459_c3_g1_i1\", \"ATP-dependent RNA helicase DHX8-like\")\n",
    "p9 <- add_title_range(\"TRINITY_DN9415_c0_g1_i1\", \"transcription initiation factor TFIID subunit 1-like\")\n",
    "p10 <- add_title_range(\"TRINITY_DN14078_c0_g1_i1\", \"RNAPII subunit A C-term phosphatase SSU72-like\")\n",
    "p11 <- add_title_range(\"TRINITY_DN3237_c0_g1_i1\", \"flightless 1-like\")\n",
    "p12 <- add_title_range(\"TRINITY_DN8188_c0_g1_i1\", \"longitudinals lacking\")\n",
    "p13 <- add_title_range(\"TRINITY_DN12438_c0_g1_i1\", \"cyclin-related FAM58A\")\n",
    "\n",
    "library(\"cowplot\")\n",
    "\n",
    "main <- plot_grid(p1,p2,p3,p4,p5,p6,p7,p8,p9,p10,p11,p12, nrow=4, ncol=3)\n",
    "#legend <- get_legend(plot1  + guides(color = guide_legend(nrow = 1)) + theme(legend.position = \"bottom\"))\n",
    "#done <- plot_grid(main, legend, nrow=4,ncol=3)\n",
    "\n",
    "main\n",
    "\n",
    "save_plot(\"../vis/DESeq2_top_interaction_genes.pdf\", plot=main, nrow=4, ncol=3)"
   ]
  },
  {
   "cell_type": "markdown",
   "metadata": {},
   "source": [
    "The plot doesn't render well in jupyter. Take a look at the output in `vis/`."
   ]
  },
  {
   "cell_type": "markdown",
   "metadata": {},
   "source": [
    "Now we can make contrasts between the interaction terms to see in which ways the responses are different between pairs of ranges."
   ]
  },
  {
   "cell_type": "code",
   "execution_count": null,
   "metadata": {},
   "outputs": [],
   "source": [
    "res_interaction_AvN <- results(dds_interaction, alpha=0.05, parallel=TRUE, name=\"rangeAbsent.conditionP\", test=\"Wald\")\n",
    "res_interaction_IvN <- results(dds_interaction, alpha=0.05, parallel=TRUE, name=\"rangeInvasive.conditionP\", test=\"Wald\")\n",
    "res_interaction_AvI <- results(dds_interaction, alpha=0.05, parallel=TRUE, contrast=list(\"rangeAbsent.conditionP\",\"rangeInvasive.conditionP\"), test=\"Wald\")"
   ]
  },
  {
   "cell_type": "code",
   "execution_count": null,
   "metadata": {},
   "outputs": [],
   "source": [
    "summary(res_interaction_AvN)\n",
    "summary(res_interaction_IvN)\n",
    "summary(res_interaction_AvI)"
   ]
  },
  {
   "cell_type": "markdown",
   "metadata": {},
   "source": [
    "Now we'll place the results in data.frames and show the top transcripts with annotations."
   ]
  },
  {
   "cell_type": "code",
   "execution_count": null,
   "metadata": {},
   "outputs": [],
   "source": [
    "res_interaction_AvN_df <- na.omit(data.frame(subset(res_interaction_AvN, res_interaction_AvN$padj < 0.05)))\n",
    "res_interaction_IvN_df <- na.omit(data.frame(subset(res_interaction_IvN, res_interaction_IvN$padj < 0.05)))\n",
    "res_interaction_AvI_df <- na.omit(data.frame(subset(res_interaction_AvI, res_interaction_AvI$padj < 0.05)))\n",
    "res_interaction_AvN_df <- res_interaction_AvN_df[order(res_interaction_AvN_df$padj),]\n",
    "res_interaction_IvN_df <- res_interaction_IvN_df[order(res_interaction_IvN_df$padj),]\n",
    "res_interaction_AvI_df <- res_interaction_AvI_df[order(res_interaction_AvI_df$padj),]\n",
    "\n",
    "\n",
    "head(res_interaction_AvN_df[rownames(res_interaction_AvN_df) %in% decapod_annot[,1],],10)\n",
    "head(res_interaction_IvN_df[rownames(res_interaction_IvN_df) %in% decapod_annot[,1],],10)\n",
    "head(res_interaction_AvI_df[rownames(res_interaction_AvI_df) %in% decapod_annot[,1],],10)"
   ]
  },
  {
   "cell_type": "markdown",
   "metadata": {},
   "source": [
    "Let's see if there are any transcripts that show an interaction for all comparison:"
   ]
  },
  {
   "cell_type": "code",
   "execution_count": null,
   "metadata": {},
   "outputs": [],
   "source": [
    "intersect(rownames(res_interaction_AvN_df), intersect(rownames(res_interaction_IvN_df),rownames(res_interaction_AvI_df)))"
   ]
  },
  {
   "cell_type": "markdown",
   "metadata": {},
   "source": [
    "Appears not. Let's just explore some."
   ]
  },
  {
   "cell_type": "code",
   "execution_count": null,
   "metadata": {},
   "outputs": [],
   "source": [
    "annot[annot[,1]==\"TRINITY_DN283_c0_g1_i2\",c(1,2,3,11,12,13,14)]\n",
    "easy_plotCounts_range(\"TRINITY_DN283_c0_g1_i2\")"
   ]
  },
  {
   "cell_type": "markdown",
   "metadata": {},
   "source": [
    "This one shows an interesting pattern related to the trematode parasitism. \"TRINITY_DN22600_c0_g1_i1\""
   ]
  },
  {
   "cell_type": "code",
   "execution_count": null,
   "metadata": {},
   "outputs": [],
   "source": [
    "annot[annot[,1]==\"TRINITY_DN22600_c0_g1_i1\",c(1,2,3,11,12,13,14)]\n",
    "easy_plotCounts_range(\"TRINITY_DN22600_c0_g1_i1\")"
   ]
  },
  {
   "cell_type": "markdown",
   "metadata": {},
   "source": [
    "This came up as the most significant when contrasting the range:condition interaction between absent and native. You can see that it's mostly driven by the three NH samples. If you were to remove them, you would see that the all ranges would move in the same direction. What I think is most likely is that reads originating from a parasite other than Loxo in the NH crabs (trematode, maybe entoniscid, since it's crustacean?) are mapping to the crab ubiquitin. Thus you see really high read counts. This transcript wasn't removed in the prefiltering stage because overall it didn't exhibit a really negative LFC. Something to be aware of, not sure it's something we can correct for without going through all of the transcripts manually. I guess what one could do is remove all transcripts that have their highest normalized count in one of these three crabs (or top three are in the three, to be more stringent), like we did for the Loxo samples, but I think that's getting a little too far down the rabbit hole."
   ]
  },
  {
   "cell_type": "markdown",
   "metadata": {},
   "source": [
    "Make lists of the transcripts IDs to look at directionality."
   ]
  },
  {
   "cell_type": "code",
   "execution_count": null,
   "metadata": {},
   "outputs": [],
   "source": [
    "absent_up_native_down <- rownames(res_interaction_AvN_df[res_interaction_AvN_df$log2FoldChange > 0,])\n",
    "absent_down_native_up <- rownames(res_interaction_AvN_df[res_interaction_AvN_df$log2FoldChange < 0,])\n",
    "invasive_up_native_down <- rownames(res_interaction_IvN_df[res_interaction_IvN_df$log2FoldChange > 0,])\n",
    "invasive_down_native_up <- rownames(res_interaction_IvN_df[res_interaction_IvN_df$log2FoldChange < 0,])\n",
    "absent_up_invasive_down <- rownames(res_interaction_AvI_df[res_interaction_AvI_df$log2FoldChange > 0,])\n",
    "absent_down_invasive_up <- rownames(res_interaction_AvI_df[res_interaction_AvI_df$log2FoldChange < 0,])\n",
    "length(absent_up_native_down)\n",
    "length(absent_down_native_up)\n",
    "length(invasive_up_native_down)\n",
    "length(invasive_down_native_up)\n",
    "length(absent_up_invasive_down)\n",
    "length(absent_down_invasive_up)"
   ]
  },
  {
   "cell_type": "code",
   "execution_count": null,
   "metadata": {},
   "outputs": [],
   "source": [
    "require(UpSetR)\n",
    "listInput <- list(\n",
    "    absent_up_native_down = absent_up_native_down,\n",
    "    absent_down_native_up = absent_down_native_up,\n",
    "    invasive_up_native_down = invasive_up_native_down,\n",
    "    invasive_down_native_up = invasive_down_native_up,\n",
    "    absent_up_invasive_down = absent_up_invasive_down,\n",
    "    absent_down_invasive_up = absent_down_invasive_up\n",
    ")\n",
    "sets <- fromList(listInput)\n",
    "upset_plot <- upset(sets, sets = names(listInput), order.by = \"freq\", nsets=6, mb.ratio=c(0.7,.3))\n",
    "png(\"../vis/upset_interaction_contrast.png\", height=10, width=10, units = \"in\", res=200)\n",
    "upset_plot\n",
    "dev.off()\n",
    "upset_plot"
   ]
  },
  {
   "cell_type": "markdown",
   "metadata": {},
   "source": [
    "Below I am just going to make a Venn diagram showing the intersections between AvN, IvN, and AvI. This doesn't specify direction (uses union of range1_down_range2_up, etc.)"
   ]
  },
  {
   "cell_type": "code",
   "execution_count": null,
   "metadata": {},
   "outputs": [],
   "source": [
    "length(absent_down_native_up)\n",
    "length(absent_up_native_down)\n",
    "length(c(absent_down_native_up,absent_up_native_down))"
   ]
  },
  {
   "cell_type": "code",
   "execution_count": null,
   "metadata": {},
   "outputs": [],
   "source": [
    "futile.logger::flog.threshold(futile.logger::ERROR, name = \"VennDiagramLogger\")\n",
    "venn.diagram(\n",
    "        x = list(c(absent_up_native_down,absent_down_native_up), \n",
    "                 c(invasive_up_native_down,invasive_down_native_up), \n",
    "                 c(absent_up_invasive_down,absent_down_invasive_up)),\n",
    "        category.names = c(\"A vs. N\" , \"I vs. N\" , \"A vs. I\"),\n",
    "        filename = '../vis/venn_interaction_contrast.png',\n",
    "        output = TRUE ,\n",
    "        imagetype=\"png\" ,\n",
    "        height = 480 , \n",
    "        width = 480 , \n",
    "        resolution = 300,\n",
    "        compression = \"lzw\",\n",
    "        lwd = 1,\n",
    "        fill = myCol,\n",
    "        cex = 0.5,\n",
    "        fontfamily = \"sans\",\n",
    "        cat.cex = 0.5,\n",
    "        cat.fontface = \"bold\",\n",
    "        cat.default.pos = \"outer\",\n",
    "        cat.pos = c(-27, 27, 180),\n",
    "        cat.dist = c(0.055, 0.055, 0.045),\n",
    "        cat.fontfamily = \"sans\",\n",
    "        cat.col = myCol,\n",
    "        rotation = 1\n",
    ")"
   ]
  },
  {
   "cell_type": "markdown",
   "metadata": {},
   "source": [
    "Now I am going to make a PCA just with those transcripts that showed a significant interaction in the overall LRT. This should help us get at the similarity/difference in response to infection among ranges. "
   ]
  },
  {
   "cell_type": "code",
   "execution_count": null,
   "metadata": {},
   "outputs": [],
   "source": [
    "vsd_int <- vst(dds_range, blind=TRUE)"
   ]
  },
  {
   "cell_type": "code",
   "execution_count": null,
   "metadata": {},
   "outputs": [],
   "source": [
    "res_interaction_df_0.01 <- na.omit(data.frame(subset(res_interaction, res_interaction$padj < 0.01)))\n",
    "vsd_int_sig <- vsd_int[rownames(vsd_int)%in%rownames(res_interaction_df_0.01),]\n",
    "pcaData <- plotPCA(vsd_int_sig, intgroup=c(\"condition\", \"range\"), returnData=TRUE)\n",
    "percentVar <- round(100 * attr(pcaData, \"percentVar\"))\n",
    "ggplot(pcaData, aes(PC1, PC2, color=range, shape=condition)) +\n",
    "    geom_point(size=3) +\n",
    "    xlab(paste0(\"PC1: \",percentVar[1],\"% variance\")) +\n",
    "    ylab(paste0(\"PC2: \",percentVar[2],\"% variance\")) + \n",
    "    coord_fixed()\n",
    "ggsave(\"../vis/vsd_interaction_PCA_p0.01.png\")\n",
    "dim(vsd_int_sig)"
   ]
  },
  {
   "cell_type": "markdown",
   "metadata": {},
   "source": [
    "This is sort of interesting. When looking just at the transcripts that were significant at an alpha threshold of 0.01, the absent uninfected tend to cluster with the invasive infected. When invasive are infected, they tend to fall more in the space of the native or absent uninfected."
   ]
  },
  {
   "cell_type": "markdown",
   "metadata": {},
   "source": [
    "Here I am going to try some different plotting to get a summary figure that shows general expression trends among ranges based on the range interaction approach."
   ]
  },
  {
   "cell_type": "markdown",
   "metadata": {},
   "source": [
    "First I'm just going to figure out how many transcripts show a significant interaction under various p-value thresholds."
   ]
  },
  {
   "cell_type": "code",
   "execution_count": null,
   "metadata": {},
   "outputs": [],
   "source": [
    "nrow(res_interaction_df[res_interaction_df$padj<0.05,])\n",
    "nrow(res_interaction_df[res_interaction_df$padj<0.01,])\n",
    "nrow(res_interaction_df[res_interaction_df$padj<0.001,])\n",
    "nrow(res_interaction_df[res_interaction_df$padj<0.0001,])"
   ]
  },
  {
   "cell_type": "code",
   "execution_count": null,
   "metadata": {},
   "outputs": [],
   "source": [
    "interaction_counts <- counts(dds_interaction, normalized = TRUE) #get the normalized counts\n",
    "interaction_counts <- interaction_counts[rownames(interaction_counts) %in% rownames(res_interaction_df[res_interaction_df$padj<0.01,]),] #select just significant transcripts under given padj\n",
    "interaction_counts <- t(interaction_counts) #transpose before scaling\n",
    "interaction_counts <- scale(interaction_counts) #mean-center on zero by stdev\n",
    "interaction_counts <- as.data.frame(interaction_counts) #convert to df\n",
    "interaction_counts$pair <- paste(coldata_noFPMD$condition, coldata_noFPMD$range, sep=\".\") #add column C/P & range ID'ed\n",
    "interaction_counts <- aggregate(interaction_counts[,1:(ncol(interaction_counts)-1)], list(interaction_counts$pair), mean)\n",
    "rownames(interaction_counts) <- interaction_counts[,1]\n",
    "interaction_counts[,1] <- NULL\n",
    "interaction_counts$condition <- as.factor(c(\"C\",\"C\",\"C\",\"P\",\"P\",\"P\")) #add var for inf status (couldn't figure easy way to split rowname)\n",
    "interaction_counts$range <- as.factor(c(\"Absent\",\"Invasive\",\"Native\",\"Absent\",\"Invasive\",\"Native\")) #again for range\n",
    "interaction_counts$range <- factor(interaction_counts$range, levels=c(\"Native\",\"Invasive\",\"Absent\")) #set factor levels so plot facets are ordered as desired\n",
    "head(interaction_counts)\n",
    "interaction_counts <- gather(interaction_counts, \"gene\", \"value\", 1:(ncol(interaction_counts)-2))\n",
    "head(interaction_counts, 10)"
   ]
  },
  {
   "cell_type": "markdown",
   "metadata": {},
   "source": [
    "Okay great we've got it in the right format for plotting. "
   ]
  },
  {
   "cell_type": "code",
   "execution_count": null,
   "metadata": {},
   "outputs": [],
   "source": [
    "ggplot(interaction_counts, aes(x=condition, y=value, group=range, color=gene)) +\n",
    "    facet_grid(.~range) +\n",
    "    geom_path(aes(group=gene),show.legend=FALSE, color=\"black\", alpha=0.05) +\n",
    "    scale_x_discrete(expand=c(0.1,0.1)) +\n",
    "    ylim(c(-2,2)) +\n",
    "    ylab(expression(sigma)) +\n",
    "    xlab(\"Infection Status\") +\n",
    "    theme(axis.text=element_text(size=12), \n",
    "          axis.title=element_text(size=20),\n",
    "          strip.text.x = element_text(size = 20))\n",
    "ggsave(\"../vis/DE_range_summary.pdf\", width = 8, height = 5)"
   ]
  },
  {
   "cell_type": "markdown",
   "metadata": {},
   "source": [
    "## Export data for `WGCNA` and `GO_MWU`"
   ]
  },
  {
   "cell_type": "markdown",
   "metadata": {},
   "source": [
    "Before we finish, I need to export a matrix of counts to use downstream in `WGCNA`. The creators [suggest](https://horvath.genetics.ucla.edu/html/CoexpressionNetwork/Rpackages/WGCNA/faq.html) removing transcripts with consistently low counts to avoid spurious correlations, which we have already done, and also recommend performing a variance stabilizing transformation. I'll do the vst on the count tables and then export as a tsv.\n",
    "\n",
    "I am going to export both one from the P vs. C comparison (w/ 77 samples including FP and MD) and one from the range comparison (w/ 58 samples excluding FP and MD). "
   ]
  },
  {
   "cell_type": "code",
   "execution_count": null,
   "metadata": {},
   "outputs": [],
   "source": [
    "vsd <- vst(dds_clean, blind=FALSE)\n",
    "dim(vsd)\n",
    "write.table(assays(vsd)[[1]], file = \"../outputs/WGCNA_PvC.tsv\", sep=\"\\t\")\n",
    "vsd <- vst(dds_interaction, blind=FALSE)\n",
    "dim(vsd)\n",
    "write.table(assays(vsd)[[1]], file = \"../outputs/WGCNA_range.tsv\", sep=\"\\t\")"
   ]
  },
  {
   "cell_type": "markdown",
   "metadata": {},
   "source": [
    "Now for the `GO_MWU` data. We'll export both the LFCs and the  pvalues from the base PvC comparison and just the pvalues from the range:condition interaction LRT, because testing between three groups it's unclear to me what the interaction LRT LFCs represent. I'll also export the interaction contrasts pvals and the within range PvC pvals in Fisher format. The p-values need to be -log10, so that bigger numbers represent more significant. They also must be unadjusted. For the genearl PvC and sex PvC, they also need to be directionalized in that for genes that are significantly underexpressed, the final -log10(pvalue) must be negative. For the overall range interaction results, however, I will leave them as all positive numbers and use a one tailed test in GO_MWU. This is because in a three way comparison the LFCs are not informative (as noted above). Keeping the -log10pvals positive let's me test for functions that are enriched among transcripts showing a strong interaction between range and infection status without considering direction of response. In some cases, we'll export for both use in a MWU test and conventional Fisher exact test for enrichment, by substituting 0 for insignificant padj and 1 for significant, at the 0.05 threshold. "
   ]
  },
  {
   "cell_type": "code",
   "execution_count": null,
   "metadata": {},
   "outputs": [],
   "source": [
    "thresh <- 0.05\n",
    "\n",
    "#PvC LFCs\n",
    "GO_MWU_PvC <- na.omit(data.frame(res_clean))\n",
    "GO_MWU_PvC_LFC <- data.frame(name=rownames(GO_MWU_PvC),LFC=GO_MWU_PvC$log2FoldChange)\n",
    "\n",
    "#PvC -log10(pval) for MWU\n",
    "GO_MWU_PvC_pval <- na.omit(data.frame(res_clean)) #data.frame of results without NAs\n",
    "GO_MWU_PvC_pval$pvalue <- (-1)*log10(GO_MWU_PvC_pval$pvalue) #get -log10 of pval\n",
    "GO_MWU_PvC_pval$direction <- GO_MWU_PvC_pval$log2FoldChange / abs(GO_MWU_PvC_pval$log2FoldChange) #get LFC direction\n",
    "GO_MWU_PvC_pval$pvalue <- GO_MWU_PvC_pval$pvalue * GO_MWU_PvC_pval$direction #multiply pval by direction\n",
    "GO_MWU_PvC_pval <- data.frame(name=rownames(GO_MWU_PvC_pval),pval=GO_MWU_PvC_pval$pvalue) #subset\n",
    "\n",
    "#PvC Fisher\n",
    "GO_MWU_PvC_fisher <- na.omit(data.frame(res_clean)) #data.frame of results without NAs\n",
    "GO_MWU_PvC_fisher <- data.frame(names=rownames(GO_MWU_PvC_fisher), sig=GO_MWU_PvC_fisher$padj) #extract padj!!!!\n",
    "GO_MWU_PvC_fisher$sig <- GO_MWU_PvC_fisher$sig < thresh #boolean. F = > thres, T = < thresh\n",
    "GO_MWU_PvC_fisher$sig <- as.numeric(GO_MWU_PvC_fisher$sig) #change to number\n",
    "\n",
    "#sex separate -log10(pval) for MWU\n",
    "GO_MWU_FPvFC_pval <- na.omit(data.frame(res_FPvFC))\n",
    "GO_MWU_FPvFC_pval$pvalue <- (-1)*log10(GO_MWU_FPvFC_pval$pvalue)\n",
    "GO_MWU_FPvFC_pval$direction <- GO_MWU_FPvFC_pval$log2FoldChange / abs(GO_MWU_FPvFC_pval$log2FoldChange) #get LFC direction\n",
    "GO_MWU_FPvFC_pval$pvalue <- GO_MWU_FPvFC_pval$pvalue * GO_MWU_FPvFC_pval$direction #multiply pval by direction\n",
    "GO_MWU_FPvFC_pval <- data.frame(name=rownames(GO_MWU_FPvFC_pval),pval=GO_MWU_FPvFC_pval$pvalue) #subset\n",
    "\n",
    "GO_MWU_MPvMC_pval <- na.omit(data.frame(res_MPvMC))\n",
    "GO_MWU_MPvMC_pval$pvalue <- (-1)*log10(GO_MWU_MPvMC_pval$pvalue)\n",
    "GO_MWU_MPvMC_pval$direction <- GO_MWU_MPvMC_pval$log2FoldChange / abs(GO_MWU_MPvMC_pval$log2FoldChange) #get LFC direction\n",
    "GO_MWU_MPvMC_pval$pvalue <- GO_MWU_MPvMC_pval$pvalue * GO_MWU_MPvMC_pval$direction #multiply pval by direction\n",
    "GO_MWU_MPvMC_pval <- data.frame(name=rownames(GO_MWU_MPvMC_pval),pval=GO_MWU_MPvMC_pval$pvalue) #subset\n",
    "\n",
    "#interaction -log10(pval) for MWU\n",
    "GO_MWU_interaction_pval <- na.omit(data.frame(res_interaction))\n",
    "GO_MWU_interaction_pval$pvalue <- (-1)*log10(GO_MWU_interaction_pval$pvalue)\n",
    "#GO_MWU_interaction_pval$direction <- GO_MWU_interaction_pval$log2FoldChange / abs(GO_MWU_interaction_pval$log2FoldChange) \n",
    "#GO_MWU_interaction_pval$pvalue <- GO_MWU_interaction_pval$pvalue * GO_MWU_interaction_pval$direction \n",
    "GO_MWU_interaction_pval <- data.frame(name=rownames(GO_MWU_interaction_pval),pval=GO_MWU_interaction_pval$pvalue)\n",
    "\n",
    "#interaction Fisher\n",
    "GO_MWU_interaction_fisher <- na.omit(data.frame(res_interaction))\n",
    "GO_MWU_interaction_fisher <- data.frame(names=rownames(GO_MWU_interaction_fisher), sig=GO_MWU_interaction_fisher$padj)\n",
    "GO_MWU_interaction_fisher$sig <- GO_MWU_interaction_fisher$sig < thresh\n",
    "GO_MWU_interaction_fisher$sig <- as.numeric(GO_MWU_interaction_fisher$sig)\n",
    "\n",
    "#within range PvC -log10(pval) for MWU\n",
    "GO_MWU_native.PvC_pval <- na.omit(data.frame(native.PvC))\n",
    "GO_MWU_native.PvC_pval$pvalue <- (-1)*log10(GO_MWU_native.PvC_pval$pvalue)\n",
    "GO_MWU_native.PvC_pval$direction <- GO_MWU_native.PvC_pval$log2FoldChange / abs(GO_MWU_native.PvC_pval$log2FoldChange) \n",
    "GO_MWU_native.PvC_pval$pvalue <- GO_MWU_native.PvC_pval$pvalue * GO_MWU_native.PvC_pval$direction \n",
    "GO_MWU_native.PvC_pval <- data.frame(name=rownames(GO_MWU_native.PvC_pval),pval=GO_MWU_native.PvC_pval$pvalue)\n",
    "\n",
    "GO_MWU_invasive.PvC_pval <- na.omit(data.frame(invasive.PvC))\n",
    "GO_MWU_invasive.PvC_pval$pvalue <- (-1)*log10(GO_MWU_invasive.PvC_pval$pvalue)\n",
    "GO_MWU_invasive.PvC_pval$direction <- GO_MWU_invasive.PvC_pval$log2FoldChange / abs(GO_MWU_invasive.PvC_pval$log2FoldChange) \n",
    "GO_MWU_invasive.PvC_pval$pvalue <- GO_MWU_invasive.PvC_pval$pvalue * GO_MWU_invasive.PvC_pval$direction \n",
    "GO_MWU_invasive.PvC_pval <- data.frame(name=rownames(GO_MWU_invasive.PvC_pval),pval=GO_MWU_invasive.PvC_pval$pvalue)\n",
    "\n",
    "GO_MWU_absent.PvC_pval <- na.omit(data.frame(absent.PvC))\n",
    "GO_MWU_absent.PvC_pval$pvalue <- (-1)*log10(GO_MWU_absent.PvC_pval$pvalue)\n",
    "GO_MWU_absent.PvC_pval$direction <- GO_MWU_absent.PvC_pval$log2FoldChange / abs(GO_MWU_absent.PvC_pval$log2FoldChange) \n",
    "GO_MWU_absent.PvC_pval$pvalue <- GO_MWU_absent.PvC_pval$pvalue * GO_MWU_absent.PvC_pval$direction \n",
    "GO_MWU_absent.PvC_pval <- data.frame(name=rownames(GO_MWU_absent.PvC_pval),pval=GO_MWU_absent.PvC_pval$pvalue)\n",
    "\n",
    "#interaction contrasts -log10(pval) for MWU\n",
    "GO_MWU_interaction_AvN_pval <- na.omit(data.frame(res_interaction_AvN))\n",
    "GO_MWU_interaction_AvN_pval$pvalue <- (-1)*log10(GO_MWU_interaction_AvN_pval$pvalue)\n",
    "GO_MWU_interaction_AvN_pval$direction <- GO_MWU_interaction_AvN_pval$log2FoldChange / abs(GO_MWU_interaction_AvN_pval$log2FoldChange) \n",
    "GO_MWU_interaction_AvN_pval$pvalue <- GO_MWU_interaction_AvN_pval$pvalue * GO_MWU_interaction_AvN_pval$direction \n",
    "GO_MWU_interaction_AvN_pval <- data.frame(name=rownames(GO_MWU_interaction_AvN_pval),pval=GO_MWU_interaction_AvN_pval$pvalue)\n",
    "\n",
    "GO_MWU_interaction_IvN_pval <- na.omit(data.frame(res_interaction_IvN))\n",
    "GO_MWU_interaction_IvN_pval$pvalue <- (-1)*log10(GO_MWU_interaction_IvN_pval$pvalue)\n",
    "GO_MWU_interaction_IvN_pval$direction <- GO_MWU_interaction_IvN_pval$log2FoldChange / abs(GO_MWU_interaction_IvN_pval$log2FoldChange) \n",
    "GO_MWU_interaction_IvN_pval$pvalue <- GO_MWU_interaction_IvN_pval$pvalue * GO_MWU_interaction_IvN_pval$direction \n",
    "GO_MWU_interaction_IvN_pval <- data.frame(name=rownames(GO_MWU_interaction_IvN_pval),pval=GO_MWU_interaction_IvN_pval$pvalue)\n",
    "\n",
    "GO_MWU_interaction_AvI_pval <- na.omit(data.frame(res_interaction_AvI))\n",
    "GO_MWU_interaction_AvI_pval$pvalue <- (-1)*log10(GO_MWU_interaction_AvI_pval$pvalue)\n",
    "GO_MWU_interaction_AvI_pval$direction <- GO_MWU_interaction_AvI_pval$log2FoldChange / abs(GO_MWU_interaction_AvI_pval$log2FoldChange) \n",
    "GO_MWU_interaction_AvI_pval$pvalue <- GO_MWU_interaction_AvI_pval$pvalue * GO_MWU_interaction_AvI_pval$direction \n",
    "GO_MWU_interaction_AvI_pval <- data.frame(name=rownames(GO_MWU_interaction_AvI_pval),pval=GO_MWU_interaction_AvI_pval$pvalue)\n",
    "\n",
    "#interaction contrasts Fisher\n",
    "GO_MWU_interaction_AvN_fisher <- na.omit(data.frame(res_interaction_AvN))\n",
    "GO_MWU_interaction_AvN_fisher <- data.frame(names=rownames(GO_MWU_interaction_AvN_fisher), sig=GO_MWU_interaction_AvN_fisher$padj)\n",
    "GO_MWU_interaction_AvN_fisher$sig <- GO_MWU_interaction_AvN_fisher$sig < thresh\n",
    "GO_MWU_interaction_AvN_fisher$sig <- as.numeric(GO_MWU_interaction_AvN_fisher$sig)\n",
    "\n",
    "GO_MWU_interaction_IvN_fisher <- na.omit(data.frame(res_interaction_IvN))\n",
    "GO_MWU_interaction_IvN_fisher <- data.frame(names=rownames(GO_MWU_interaction_IvN_fisher), sig=GO_MWU_interaction_IvN_fisher$padj)\n",
    "GO_MWU_interaction_IvN_fisher$sig <- GO_MWU_interaction_IvN_fisher$sig < thresh\n",
    "GO_MWU_interaction_IvN_fisher$sig <- as.numeric(GO_MWU_interaction_IvN_fisher$sig)\n",
    "\n",
    "GO_MWU_interaction_AvI_fisher <- na.omit(data.frame(res_interaction_AvI))\n",
    "GO_MWU_interaction_AvI_fisher <- data.frame(names=rownames(GO_MWU_interaction_AvI_fisher), sig=GO_MWU_interaction_AvI_fisher$padj)\n",
    "GO_MWU_interaction_AvI_fisher$sig <- GO_MWU_interaction_AvI_fisher$sig < thresh\n",
    "GO_MWU_interaction_AvI_fisher$sig <- as.numeric(GO_MWU_interaction_AvI_fisher$sig)"
   ]
  },
  {
   "cell_type": "markdown",
   "metadata": {},
   "source": [
    "Probably should have written a function given how many times I had to do that...\n",
    "\n",
    "Now let's export them."
   ]
  },
  {
   "cell_type": "code",
   "execution_count": null,
   "metadata": {},
   "outputs": [],
   "source": [
    "write.csv(GO_MWU_PvC_LFC, file = \"../outputs/GO_MWU_PvC_LFC.csv\", quote = FALSE, row.names = FALSE)\n",
    "write.csv(GO_MWU_PvC_pval, file = \"../outputs/GO_MWU_PvC_pval.csv\", quote = FALSE, row.names = FALSE)\n",
    "write.csv(GO_MWU_PvC_fisher, file = \"../outputs/GO_MWU_PvC_fisher.csv\", quote = FALSE, row.names = FALSE)\n",
    "write.csv(GO_MWU_FPvFC_pval, file = \"../outputs/GO_MWU_FPvFC_pval.csv\", quote = FALSE, row.names = FALSE)\n",
    "write.csv(GO_MWU_MPvMC_pval, file = \"../outputs/GO_MWU_MPvMC_pval.csv\", quote = FALSE, row.names = FALSE)\n",
    "write.csv(GO_MWU_interaction_pval, file = \"../outputs/GO_MWU_interaction_pval.csv\", quote = FALSE, row.names = FALSE)\n",
    "write.csv(GO_MWU_interaction_fisher, file = \"../outputs/GO_MWU_interaction_fisher.csv\", quote = FALSE, row.names = FALSE)\n",
    "write.csv(GO_MWU_native.PvC_pval, file = \"../outputs/GO_MWU_native.PvC_pval.csv\", quote = FALSE, row.names = FALSE)\n",
    "write.csv(GO_MWU_invasive.PvC_pval, file = \"../outputs/GO_MWU_invasive.PvC_pval.csv\", quote = FALSE, row.names = FALSE)\n",
    "write.csv(GO_MWU_absent.PvC_pval, file = \"../outputs/GO_MWU_absent.PvC_pval.csv\", quote = FALSE, row.names = FALSE)\n",
    "write.csv(GO_MWU_interaction_AvN_pval, file = \"../outputs/GO_MWU_interaction_AvN_pval.csv\", quote = FALSE, row.names = FALSE)\n",
    "write.csv(GO_MWU_interaction_IvN_pval, file = \"../outputs/GO_MWU_interaction_IvN_pval.csv\", quote = FALSE, row.names = FALSE)\n",
    "write.csv(GO_MWU_interaction_AvI_pval, file = \"../outputs/GO_MWU_interaction_AvI_pval.csv\", quote = FALSE, row.names = FALSE)\n",
    "write.csv(GO_MWU_interaction_AvN_fisher, file = \"../outputs/GO_MWU_interaction_AvN_fisher.csv\", quote = FALSE, row.names = FALSE)\n",
    "write.csv(GO_MWU_interaction_IvN_fisher, file = \"../outputs/GO_MWU_interaction_IvN_fisher.csv\", quote = FALSE, row.names = FALSE)\n",
    "write.csv(GO_MWU_interaction_AvI_fisher, file = \"../outputs/GO_MWU_interaction_AvI_fisher.csv\", quote = FALSE, row.names = FALSE)"
   ]
  },
  {
   "cell_type": "markdown",
   "metadata": {},
   "source": [
    "Uncomment the next block to save the workspace image for work later, if you desire."
   ]
  },
  {
   "cell_type": "code",
   "execution_count": null,
   "metadata": {},
   "outputs": [],
   "source": [
    "#save.image()"
   ]
  },
  {
   "cell_type": "markdown",
   "metadata": {},
   "source": [
    "Print the session info to screen and save a copy to `envs/`."
   ]
  },
  {
   "cell_type": "code",
   "execution_count": null,
   "metadata": {},
   "outputs": [],
   "source": [
    "sessionInfo()\n",
    "writeLines(capture.output(sessionInfo()), \"../envs/DESeq2_sessionInfo.txt\")"
   ]
  }
 ],
 "metadata": {
  "kernelspec": {
   "display_name": "R",
   "language": "R",
   "name": "ir"
  },
  "language_info": {
   "codemirror_mode": "r",
   "file_extension": ".r",
   "mimetype": "text/x-r-source",
   "name": "R",
   "pygments_lexer": "r",
   "version": "3.6.1"
  }
 },
 "nbformat": 4,
 "nbformat_minor": 2
}
